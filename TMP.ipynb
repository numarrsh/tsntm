{
 "cells": [
  {
   "cell_type": "code",
   "execution_count": 50,
   "metadata": {},
   "outputs": [],
   "source": [
    "import matplotlib\n",
    "%matplotlib inline\n",
    "\n",
    "import math\n",
    "import random\n",
    "\n",
    "import numpy as np\n",
    "import pandas as pd\n",
    "import _pickle as cPickle\n",
    "from collections import defaultdict"
   ]
  },
  {
   "cell_type": "code",
   "execution_count": 70,
   "metadata": {},
   "outputs": [],
   "source": [
    "instances_train, instances_valid, instances_test, word_to_idx, idx_to_word, bow_idxs = cPickle.load(open('data/apnews/instances.pkl','rb'))"
   ]
  },
  {
   "cell_type": "code",
   "execution_count": 140,
   "metadata": {},
   "outputs": [],
   "source": []
  },
  {
   "cell_type": "code",
   "execution_count": 141,
   "metadata": {},
   "outputs": [],
   "source": [
    "batch_l = 16\n",
    "n_sents_batch = batch_l * 8"
   ]
  },
  {
   "cell_type": "code",
   "execution_count": 143,
   "metadata": {},
   "outputs": [],
   "source": [
    "train_instances = get_batches(instances_train, n_sents_batch)"
   ]
  },
  {
   "cell_type": "code",
   "execution_count": null,
   "metadata": {},
   "outputs": [],
   "source": [
    "m_sents_instances = []\n",
    "for i in range(n_instances_batch)"
   ]
  },
  {
   "cell_type": "code",
   "execution_count": null,
   "metadata": {},
   "outputs": [],
   "source": [
    "m_sents_instances = []\n",
    "m_sent_instances = []\n",
    "for i, (n_sents, n_sent_instances) in enumerate(n_sents_instances):\n",
    "    m_sent_instances += n_sent_instances\n",
    "    if len(m_sent_instances) >= int(n_batch):\n",
    "        random.shuffle(m_sent_instances)\n",
    "        m_sents_instances.append(m_sent_instances)\n",
    "        m_sent_instances = []\n",
    "    elif i == len(n_sents_instances) -1:\n",
    "        m_sents_instances[-1] += m_sent_instances\n",
    "\n",
    "assert sum([len(m_sent_instances) for m_sent_instances in m_sents_instances]) == len(instances)        "
   ]
  },
  {
   "cell_type": "code",
   "execution_count": null,
   "metadata": {},
   "outputs": [],
   "source": [
    "m_sents_n_instances = [len(instances) for instances in m_sents_instances]\n",
    "m_sents_n_instances_batch = [n_instance/n_batch for n_instance in m_sents_n_instances]\n",
    "\n",
    "m_sents_indices = []\n",
    "for n_instances, n_instances_batch in zip(m_sents_n_instances, m_sents_n_instances_batch):\n",
    "    m_sent_indices = []\n",
    "    for i_batch in range(math.ceil(n_batch)):\n",
    "        start_index = round(i_batch * n_instances_batch)\n",
    "        end_index = min(round((i_batch+1)*n_instances_batch), n_instances)\n",
    "        m_sent_indices.append((start_index, end_index))\n",
    "    m_sents_indices.append(m_sent_indices)\n",
    "\n",
    "m_sents_batches = [[m_sents_instances[i][index[0]:index[1]] for index in indices]  for i, indices in enumerate(m_sents_indices)]\n",
    "assert m_sents_n_instances == [sum([len(batch) for batch in m_sent_batches]) for m_sent_batches in m_sents_batches]\n",
    "\n",
    "batches = []\n",
    "for i in range(math.ceil(n_batch)):\n",
    "    batch = []\n",
    "    for m_sent_batches in m_sents_batches:\n",
    "        m_sent_batch = m_sent_batches[i]\n",
    "        batch += m_sent_batch\n",
    "    batches.append((i, batch))"
   ]
  },
  {
   "cell_type": "code",
   "execution_count": 88,
   "metadata": {},
   "outputs": [
    {
     "data": {
      "text/plain": [
       "26828"
      ]
     },
     "execution_count": 88,
     "metadata": {},
     "output_type": "execute_result"
    }
   ],
   "source": [
    "sum([len(m_sent_instances) for m_sent_instances in m_sents_instances])"
   ]
  },
  {
   "cell_type": "code",
   "execution_count": 89,
   "metadata": {},
   "outputs": [
    {
     "data": {
      "text/plain": [
       "26828"
      ]
     },
     "execution_count": 89,
     "metadata": {},
     "output_type": "execute_result"
    }
   ],
   "source": [
    "len(instances)        "
   ]
  },
  {
   "cell_type": "code",
   "execution_count": 65,
   "metadata": {},
   "outputs": [],
   "source": [
    "def get_batches(instances, n_sents_batch):\n",
    "    \"n_sents_batch: number of sentences in a batch\"\n",
    "    n_sents_all = sum([instance.doc_l for instance in instances_train])\n",
    "    n_batch = n_sents_all/n_sents_batch\n",
    "\n",
    "    n_sents_instances = defaultdict(list)\n",
    "    for instance in instances:\n",
    "        n_sents_instances[instance.doc_l].append(instance)\n",
    "    n_sents_instances = sorted(n_sents_instances.items(), key=lambda x: x[0])\n",
    "    \n",
    "    m_sents_instances = []\n",
    "    m_sent_instances = []\n",
    "    for i, (n_sents, instances) in enumerate(n_sents_instances):\n",
    "        m_sent_instances += instances\n",
    "        if len(m_sent_instances) >= int(n_batch):\n",
    "            random.shuffle(m_sent_instances)\n",
    "            m_sents_instances.append(m_sent_instances)\n",
    "            m_sent_instances = []\n",
    "        elif i == len(n_sents_instances) -1:\n",
    "            m_sents_instances[-1] += m_sent_instances\n",
    "\n",
    "    assert sum([len(m_sent_instances) for m_sent_instances in m_sents_instances]) == len(instances)        \n",
    "    \n",
    "    m_sents_n_instances = [len(instances) for instances in m_sents_instances]\n",
    "    m_sents_n_instances_batch = [n_instance/n_batch for n_instance in m_sents_n_instances]\n",
    "    \n",
    "    m_sents_indices = []\n",
    "    for n_instances, n_instances_batch in zip(m_sents_n_instances, m_sents_n_instances_batch):\n",
    "        m_sent_indices = []\n",
    "        for i_batch in range(math.ceil(n_batch)):\n",
    "            start_index = round(i_batch * n_instances_batch)\n",
    "            end_index = min(round((i_batch+1)*n_instances_batch), n_instances)\n",
    "            m_sent_indices.append((start_index, end_index))\n",
    "        m_sents_indices.append(m_sent_indices)\n",
    "    \n",
    "    m_sents_batches = [[m_sents_instances[i][index[0]:index[1]] for index in indices]  for i, indices in enumerate(m_sents_indices)]\n",
    "    assert m_sents_n_instances == [sum([len(batch) for batch in m_sent_batches]) for m_sent_batches in m_sents_batches]\n",
    "\n",
    "    batches = []\n",
    "    for i in range(math.ceil(n_batch)):\n",
    "        batch = []\n",
    "        for m_sent_batches in m_sents_batches:\n",
    "            m_sent_batch = m_sent_batches[i]\n",
    "            batch += m_sent_batch\n",
    "        batches.append((i, batch))\n",
    "        \n",
    "    return batches"
   ]
  },
  {
   "cell_type": "code",
   "execution_count": 15,
   "metadata": {},
   "outputs": [],
   "source": []
  },
  {
   "cell_type": "code",
   "execution_count": 30,
   "metadata": {},
   "outputs": [
    {
     "data": {
      "text/plain": [
       "[1334, 1334, 1334, 1334, 1334, 1334]"
      ]
     },
     "execution_count": 30,
     "metadata": {},
     "output_type": "execute_result"
    }
   ],
   "source": [
    "[len(m_sent_batches) for m_sent_batches in m_sents_batches]"
   ]
  },
  {
   "cell_type": "code",
   "execution_count": 29,
   "metadata": {},
   "outputs": [
    {
     "data": {
      "text/plain": [
       "[1334, 1334, 1334, 1334, 1334, 1334]"
      ]
     },
     "execution_count": 29,
     "metadata": {},
     "output_type": "execute_result"
    }
   ],
   "source": [
    "m_sents_batches"
   ]
  },
  {
   "cell_type": "code",
   "execution_count": 42,
   "metadata": {},
   "outputs": [],
   "source": []
  },
  {
   "cell_type": "code",
   "execution_count": 60,
   "metadata": {},
   "outputs": [],
   "source": [
    "stats_df = pd.DataFrame([[len(train_batch), sum([instance.doc_l for instance in train_batch])] for i, train_batch in train_batches], columns=['n_instances', 'n_sents'])"
   ]
  },
  {
   "cell_type": "code",
   "execution_count": 64,
   "metadata": {},
   "outputs": [
    {
     "data": {
      "image/png": "[encoded data removed]",
      "text/plain": [
       "<Figure size 576x288 with 1 Axes>"
      ]
     },
     "metadata": {
      "needs_background": "light"
     },
     "output_type": "display_data"
    }
   ],
   "source": [
    "stats_df.plot(y=['n_instances'], bins=50, alpha=0.5, figsize=(8,4), kind='hist', range=(0, 50));"
   ]
  },
  {
   "cell_type": "code",
   "execution_count": 63,
   "metadata": {
    "scrolled": false
   },
   "outputs": [
    {
     "data": {
      "image/png": "[encoded data removed]",
      "text/plain": [
       "<Figure size 576x288 with 1 Axes>"
      ]
     },
     "metadata": {
      "needs_background": "light"
     },
     "output_type": "display_data"
    }
   ],
   "source": [
    "stats_df.plot(y=['n_sents'], bins=50, alpha=0.5, figsize=(8,4), kind='hist', range=(100, 150));"
   ]
  },
  {
   "cell_type": "code",
   "execution_count": null,
   "metadata": {},
   "outputs": [],
   "source": []
  }
 ],
 "metadata": {
  "kernelspec": {
   "display_name": "py36",
   "language": "python",
   "name": "py36"
  },
  "language_info": {
   "codemirror_mode": {
    "name": "ipython",
    "version": 3
   },
   "file_extension": ".py",
   "mimetype": "text/x-python",
   "name": "python",
   "nbconvert_exporter": "python",
   "pygments_lexer": "ipython3",
   "version": "3.6.9"
  },
  "toc": {
   "base_numbering": 1,
   "nav_menu": {},
   "number_sections": true,
   "sideBar": true,
   "skip_h1_title": false,
   "title_cell": "Table of Contents",
   "title_sidebar": "Contents",
   "toc_cell": false,
   "toc_position": {},
   "toc_section_display": true,
   "toc_window_display": false
  }
 },
 "nbformat": 4,
 "nbformat_minor": 2
}
