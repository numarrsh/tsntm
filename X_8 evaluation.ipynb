{
 "cells": [
  {
   "cell_type": "code",
   "execution_count": 1,
   "metadata": {},
   "outputs": [],
   "source": [
    "%load_ext autoreload\n",
    "%autoreload\n",
    "\n",
    "import os\n",
    "import sys\n",
    "import argparse\n",
    "import pdb\n",
    "import _pickle as cPickle\n",
    "\n",
    "import numpy as np\n",
    "import pandas as pd\n",
    "import tensorflow as tf\n",
    "\n",
    "from data_structure import get_batches\n",
    "from hntm import HierarchicalNeuralTopicModel\n",
    "from X_evaluate import compute_freq_tokens, compute_perplexity, compute_topic_specialization, compute_hierarchical_affinity\n",
    "from X_coherence import compute_coherence"
   ]
  },
  {
   "cell_type": "markdown",
   "metadata": {},
   "source": [
    "# tools"
   ]
  },
  {
   "cell_type": "code",
   "execution_count": 2,
   "metadata": {},
   "outputs": [
    {
     "data": {
      "text/plain": [
       "_StoreAction(option_strings=['-index'], dest='index', nargs=None, const=None, default=-4, type=<class 'int'>, choices=None, help=None, metavar=None)"
      ]
     },
     "execution_count": 2,
     "metadata": {},
     "output_type": "execute_result"
    }
   ],
   "source": [
    "parser = argparse.ArgumentParser()\n",
    "parser.add_argument('-gpu')\n",
    "parser.add_argument('-path_data', type=str, default='data/bags/instances.pkl')\n",
    "parser.add_argument('-batch_size', type=int, default=64)\n",
    "parser.add_argument('-path_model', type=str, default='model/bags/hntm/bags-tree33-temp10-seed1234/model-385000')\n",
    "parser.add_argument('-index', type=int, default=-4)"
   ]
  },
  {
   "cell_type": "code",
   "execution_count": 3,
   "metadata": {},
   "outputs": [],
   "source": [
    "option = parser.parse_args(args='-gpu 8'.split())\n",
    "option.path_config = option.path_model + '.config'\n",
    "os.environ[\"CUDA_VISIBLE_DEVICES\"] = option.gpu"
   ]
  },
  {
   "cell_type": "markdown",
   "metadata": {},
   "source": [
    "## load data"
   ]
  },
  {
   "cell_type": "code",
   "execution_count": 4,
   "metadata": {},
   "outputs": [],
   "source": [
    "_, _, instances, word_to_idx, idx_to_word, bow_idxs = cPickle.load(open(option.path_data,'rb'))\n",
    "batches = get_batches(instances, option.batch_size)"
   ]
  },
  {
   "cell_type": "markdown",
   "metadata": {},
   "source": [
    "## restore hntm"
   ]
  },
  {
   "cell_type": "code",
   "execution_count": 5,
   "metadata": {},
   "outputs": [
    {
     "name": "stdout",
     "output_type": "stream",
     "text": [
      "loading model/bags/hntm/bags-tree33-temp10-seed1234/model-385000...\n",
      "INFO:tensorflow:Restoring parameters from model/bags/hntm/bags-tree33-temp10-seed1234/model-385000\n",
      "0 product price bought quality love time computer buy recommend made\n",
      "   1 strap pockets shoulder pocket handle inside side compartment nice front\n",
      "     11 backpack carry room pack books back work pockets space compartments\n",
      "     12 pocket power mouse charger room cord small carry perfect usb\n",
      "     14 ipad inch room carry tablet notebook extra perfect laptops dell\n",
      "   3 inside zipper soft nice material sleeve snug side foam flap\n",
      "     32 sleeve protection inch netbook neoprene smell padding protect air snug\n",
      "   2 cover color bottom keyboard love top apple easy plastic screen\n",
      "     21 pro mac air computer scratches protect protection perfectly hard retina\n",
      "==========================================================================\n",
      "Average Topic Coherence = 0.108\n",
      "Perplexity = 481.2\n",
      "Topic Specialization: depth 1 = 0.26, depth 2 = 0.57, depth 3 = 0.58, \n",
      "Hierarchical Affinity: child = 0.25, non-child = 0.07\n"
     ]
    }
   ],
   "source": [
    "print('loading %s...' % option.path_model)\n",
    "config = cPickle.load(open(option.path_config, 'rb'))\n",
    "model = HierarchicalNeuralTopicModel(config)\n",
    "\n",
    "with tf.Session() as sess:\n",
    "    saver = tf.train.Saver()\n",
    "    saver.restore(sess, option.path_model)\n",
    "\n",
    "    freq_tokens = compute_freq_tokens(sess, model, bow_idxs, idx_to_word, verbose=True)\n",
    "    compute_coherence(freq_tokens.values(), config.dir_corpus, topns=[5, 10], verbose=True)\n",
    "    compute_perplexity(sess, model, batches, verbose=True)\n",
    "    compute_topic_specialization(sess, model, instances, verbose=True)\n",
    "    compute_hierarchical_affinity(sess, model, verbose=True)\n",
    "\n",
    "    sess.close()"
   ]
  },
  {
   "cell_type": "code",
   "execution_count": null,
   "metadata": {},
   "outputs": [],
   "source": []
  }
 ],
 "metadata": {
  "kernelspec": {
   "display_name": "py36",
   "language": "python",
   "name": "py36"
  },
  "language_info": {
   "codemirror_mode": {
    "name": "ipython",
    "version": 3
   },
   "file_extension": ".py",
   "mimetype": "text/x-python",
   "name": "python",
   "nbconvert_exporter": "python",
   "pygments_lexer": "ipython3",
   "version": "3.6.9"
  },
  "toc": {
   "base_numbering": 1,
   "nav_menu": {},
   "number_sections": true,
   "sideBar": true,
   "skip_h1_title": false,
   "title_cell": "Table of Contents",
   "title_sidebar": "Contents",
   "toc_cell": false,
   "toc_position": {},
   "toc_section_display": true,
   "toc_window_display": false
  }
 },
 "nbformat": 4,
 "nbformat_minor": 2
}
