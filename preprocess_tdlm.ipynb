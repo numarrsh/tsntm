{
 "cells": [
  {
   "cell_type": "code",
   "execution_count": 291,
   "metadata": {},
   "outputs": [],
   "source": [
    "import os\n",
    "import re\n",
    "import _pickle as cPickle\n",
    "from collections import OrderedDict, defaultdict, Counter\n",
    "\n",
    "import matplotlib\n",
    "%matplotlib inline\n",
    "import matplotlib.pyplot as plt\n",
    "\n",
    "import numpy as np\n",
    "import pandas as pd\n",
    "import tensorflow as tf\n",
    "from sklearn.feature_extraction.text import TfidfVectorizer\n",
    "from nltk import word_tokenize\n",
    "\n",
    "from data_structure import Instance"
   ]
  },
  {
   "cell_type": "markdown",
   "metadata": {},
   "source": [
    "# configure"
   ]
  },
  {
   "cell_type": "code",
   "execution_count": 196,
   "metadata": {},
   "outputs": [],
   "source": [
    "def del_all_flags(FLAGS):\n",
    "    flags_dict = FLAGS._flags()    \n",
    "    keys_list = [keys for keys in flags_dict]    \n",
    "    for keys in keys_list:\n",
    "        FLAGS.__delattr__(keys)\n",
    "\n",
    "del_all_flags(tf.flags.FLAGS)\n",
    "\n",
    "flags = tf.app.flags\n",
    "\n",
    "flags.DEFINE_string('train_path', 'data/apnews/apnews50k_train.txt', 'path of output data')\n",
    "flags.DEFINE_string('valid_path', 'data/apnews/apnews50k_valid.txt', 'path of input data')\n",
    "flags.DEFINE_string('test_path', 'data/apnews/apnews50k_test.txt', 'path of input data')\n",
    "\n",
    "flags.DEFINE_string('stopwords_path', 'data/stopwords_mallet.txt', 'path of input data')\n",
    "\n",
    "flags.DEFINE_string('output_path', 'data/apnews/instances.pkl', 'path of output data')\n",
    "\n",
    "flags.DEFINE_integer('n_vocab', 50000, 'size of vocab')\n",
    "\n",
    "flags.DEFINE_string('f', '', 'kernel')\n",
    "\n",
    "config = flags.FLAGS"
   ]
  },
  {
   "cell_type": "code",
   "execution_count": 262,
   "metadata": {},
   "outputs": [],
   "source": [
    "# special tokens\n",
    "PAD = '<pad>' # This has a vocab id, which is used to pad the encoder input, decoder input and target sequence\n",
    "UNK = '<unk>' # This has a vocab id, which is used to represent out-of-vocabulary words\n",
    "BOS = '<p>' # This has a vocab id, which is used at the beginning of every decoder input sequence\n",
    "EOS = '</p>' # This has a vocab id, which is used at the end of untruncated target sequences\n",
    "dummy_tokens = [PAD, UNK, BOS, EOS]"
   ]
  },
  {
   "cell_type": "markdown",
   "metadata": {},
   "source": [
    "# load source"
   ]
  },
  {
   "cell_type": "code",
   "execution_count": 277,
   "metadata": {},
   "outputs": [],
   "source": [
    "def get_df(data_path):\n",
    "    data_dict = defaultdict(list)\n",
    "    with open(data_path, 'r') as f:\n",
    "        txt = f.readlines()\n",
    "        for doc in txt:\n",
    "            doc = re.sub(r'-', ' ', doc)\n",
    "            doc = re.sub(r'[0-9]+.[0-9]+|[0-9]+,[0-9]+|[0-9]+', '<num>', doc)\n",
    "            lines = doc.split('\\t')\n",
    "            doc = ' '.join(lines)\n",
    "            data_dict['doc'].append(doc)\n",
    "            tokens = [word_tokenize(line)[:-1] for line in lines]\n",
    "            data_dict['tokens'].append(tokens)\n",
    "            data_dict['doc_l'].append(len(tokens))\n",
    "            data_dict['max_sent_l'].append(max([len(line) for line in tokens]))\n",
    "    data_df = pd.DataFrame(data_dict)\n",
    "    return data_df"
   ]
  },
  {
   "cell_type": "code",
   "execution_count": 282,
   "metadata": {},
   "outputs": [],
   "source": [
    "raw_train_df = get_df(config.train_path)\n",
    "raw_valid_df = get_df(config.valid_path)\n",
    "raw_test_df = get_df(config.test_path)"
   ]
  },
  {
   "cell_type": "code",
   "execution_count": 315,
   "metadata": {},
   "outputs": [
    {
     "data": {
      "text/plain": [
       "0.79106"
      ]
     },
     "execution_count": 315,
     "metadata": {},
     "output_type": "execute_result"
    }
   ],
   "source": [
    "train_df = raw_train_df[(raw_train_df['doc_l'] <= 20) & (raw_train_df['max_sent_l'] <= 60)]\n",
    "valid_df = raw_valid_df[(raw_valid_df['doc_l'] <= 40) & (raw_valid_df['max_sent_l'] <= 60)]\n",
    "test_df = raw_test_df[(raw_test_df['doc_l'] <= 40) & (raw_test_df['max_sent_l'] <= 60)]"
   ]
  },
  {
   "cell_type": "code",
   "execution_count": 283,
   "metadata": {},
   "outputs": [
    {
     "data": {
      "text/plain": [
       "(50000, 2000, 2000)"
      ]
     },
     "execution_count": 283,
     "metadata": {},
     "output_type": "execute_result"
    }
   ],
   "source": [
    "len(raw_train_df), len(valid_df), len(test_df)"
   ]
  },
  {
   "cell_type": "code",
   "execution_count": 293,
   "metadata": {
    "scrolled": true
   },
   "outputs": [
    {
     "data": {
      "image/png": "[encoded data removed]",
      "text/plain": [
       "<Figure size 576x288 with 1 Axes>"
      ]
     },
     "metadata": {
      "needs_background": "light"
     },
     "output_type": "display_data"
    }
   ],
   "source": [
    "raw_train_df.plot(y=['doc_l'], bins=50, alpha=0.5, figsize=(8,4), kind='hist', range=(0, 50));"
   ]
  },
  {
   "cell_type": "code",
   "execution_count": 305,
   "metadata": {},
   "outputs": [
    {
     "data": {
      "text/plain": [
       "0.80902"
      ]
     },
     "execution_count": 305,
     "metadata": {},
     "output_type": "execute_result"
    }
   ],
   "source": [
    "np.sum(raw_train_df['doc_l'] <= 20) / len(raw_train_df)"
   ]
  },
  {
   "cell_type": "code",
   "execution_count": 295,
   "metadata": {},
   "outputs": [
    {
     "data": {
      "image/png": "[encoded data removed]",
      "text/plain": [
       "<Figure size 576x288 with 1 Axes>"
      ]
     },
     "metadata": {
      "needs_background": "light"
     },
     "output_type": "display_data"
    }
   ],
   "source": [
    "raw_train_df.plot(y=['max_sent_l'], bins=50, alpha=0.5, figsize=(8,4), kind='hist', range=(0, 100));"
   ]
  },
  {
   "cell_type": "code",
   "execution_count": 313,
   "metadata": {},
   "outputs": [
    {
     "data": {
      "text/plain": [
       "0.95598"
      ]
     },
     "execution_count": 313,
     "metadata": {},
     "output_type": "execute_result"
    }
   ],
   "source": [
    "np.sum(raw_train_df['max_sent_l'] <= 60) / len(raw_train_df)"
   ]
  },
  {
   "cell_type": "code",
   "execution_count": 420,
   "metadata": {},
   "outputs": [
    {
     "data": {
      "text/plain": [
       "(0.79106, 0.9554612937433722, 0.9666666666666667)"
      ]
     },
     "execution_count": 420,
     "metadata": {},
     "output_type": "execute_result"
    }
   ],
   "source": [
    "len(train_df)/len(raw_train_df), len(valid_df)/len(raw_valid_df), len(test_df)/len(raw_test_df)"
   ]
  },
  {
   "cell_type": "markdown",
   "metadata": {},
   "source": [
    "# build vocab for language modeling "
   ]
  },
  {
   "cell_type": "code",
   "execution_count": 421,
   "metadata": {},
   "outputs": [],
   "source": [
    "def get_word_cnt_dict(train_df, min_tf=None):\n",
    "    # create vocab of words\n",
    "    word_cnt_dict = defaultdict(int)\n",
    "    word_cnt_dict['.'] = np.inf\n",
    "    word_cnt_dict[EOS] = np.inf\n",
    "    word_cnt_dict[BOS] = np.inf\n",
    "    word_cnt_dict[UNK] = np.inf\n",
    "    word_cnt_dict[PAD] = np.inf\n",
    "    \n",
    "    tokens_list = []\n",
    "    for doc in train_df.tokens:\n",
    "        tokens_list.extend(doc)\n",
    "    \n",
    "    for tokens in tokens_list:\n",
    "        for word in tokens:\n",
    "            word_cnt_dict[word] += 1\n",
    "    word_cnt_dict = sorted(word_cnt_dict.items(), key=lambda x: x[1])[::-1]\n",
    "    \n",
    "    if type(min_tf) is int:\n",
    "        word_cnt_dict = list(filter(lambda x: x[1] >= min_tf, word_cnt_dict))\n",
    "    elif type(min_tf) is float:\n",
    "        word_cnt_dict = word_cnt_dict[:int(min_tf*len(word_cnt_dict))]\n",
    "    return word_cnt_dict"
   ]
  },
  {
   "cell_type": "code",
   "execution_count": 445,
   "metadata": {},
   "outputs": [
    {
     "name": "stdout",
     "output_type": "stream",
     "text": [
      "29743 86210\n"
     ]
    }
   ],
   "source": [
    "word_cnt_dict = get_word_cnt_dict(train_df, min_tf=5)\n",
    "print(len(word_cnt_dict), len(get_word_cnt_dict(train_df, min_tf=0)))"
   ]
  },
  {
   "cell_type": "code",
   "execution_count": 446,
   "metadata": {},
   "outputs": [],
   "source": [
    "idx_to_word = {idx: word for idx, (word, cnt) in enumerate(word_cnt_dict)}\n",
    "word_to_idx = {word: idx for idx, word in idx_to_word.items()}"
   ]
  },
  {
   "cell_type": "markdown",
   "metadata": {},
   "source": [
    "# build bow vector"
   ]
  },
  {
   "cell_type": "code",
   "execution_count": 450,
   "metadata": {},
   "outputs": [
    {
     "data": {
      "text/plain": [
       "86"
      ]
     },
     "execution_count": 450,
     "metadata": {},
     "output_type": "execute_result"
    }
   ],
   "source": [
    "stop_word_cnt_dict = get_word_cnt_dict(train_df, min_tf=0.001)\n",
    "len(stop_word_cnt_dict)"
   ]
  },
  {
   "cell_type": "code",
   "execution_count": 452,
   "metadata": {},
   "outputs": [
    {
     "data": {
      "text/plain": [
       "524"
      ]
     },
     "execution_count": 452,
     "metadata": {},
     "output_type": "execute_result"
    }
   ],
   "source": [
    "with open(config.stopwords_path, 'r') as f:\n",
    "    stop_words_mallet = [w.replace('\\n', '') for w in f.readlines()]\n",
    "len(stop_words_mallet)"
   ]
  },
  {
   "cell_type": "code",
   "execution_count": 453,
   "metadata": {},
   "outputs": [
    {
     "data": {
      "text/plain": [
       "606"
      ]
     },
     "execution_count": 453,
     "metadata": {},
     "output_type": "execute_result"
    }
   ],
   "source": [
    "stop_words = stop_words_mallet + [w_cnt[0] for w_cnt in stop_word_cnt_dict if w_cnt[0] not in dummy_tokens]\n",
    "len(stop_words)"
   ]
  },
  {
   "cell_type": "code",
   "execution_count": 454,
   "metadata": {},
   "outputs": [],
   "source": [
    "train_corpus = list(train_df.doc)\n",
    "valid_corpus = list(valid_df.doc)\n",
    "test_corpus = list(test_df.doc)"
   ]
  },
  {
   "cell_type": "code",
   "execution_count": 455,
   "metadata": {},
   "outputs": [
    {
     "name": "stderr",
     "output_type": "stream",
     "text": [
      "/home/m-isonuma/.pyenv/versions/anaconda2-5.3.0/envs/py36/lib/python3.6/site-packages/sklearn/feature_extraction/text.py:300: UserWarning: Your stop_words may be inconsistent with your preprocessing. Tokenizing the stop words generated tokens ['u.s'] not in stop_words.\n",
      "  'stop_words.' % sorted(inconsistent))\n"
     ]
    },
    {
     "name": "stdout",
     "output_type": "stream",
     "text": [
      "4022\n"
     ]
    }
   ],
   "source": [
    "vectorizer = TfidfVectorizer(min_df=100, max_df=1.0, stop_words=stop_words, tokenizer=word_tokenize, norm=None, use_idf=False, dtype=np.float32)\n",
    "train_bow_list = vectorizer.fit_transform(train_corpus)\n",
    "bow_tokens = vectorizer.get_feature_names()\n",
    "print(len(bow_tokens))\n",
    "assert len(train_df) == len(train_bow_list.toarray())\n",
    "assert all([word in word_to_idx for word in bow_tokens])"
   ]
  },
  {
   "cell_type": "code",
   "execution_count": 456,
   "metadata": {},
   "outputs": [],
   "source": [
    "valid_bow_list = vectorizer.transform(valid_corpus)\n",
    "test_bow_list = vectorizer.transform(test_corpus)"
   ]
  },
  {
   "cell_type": "code",
   "execution_count": 457,
   "metadata": {},
   "outputs": [],
   "source": [
    "bow_idxs = np.array([word_to_idx[token] for token in bow_tokens])"
   ]
  },
  {
   "cell_type": "markdown",
   "metadata": {},
   "source": [
    "## check"
   ]
  },
  {
   "cell_type": "code",
   "execution_count": 431,
   "metadata": {},
   "outputs": [
    {
     "data": {
      "text/plain": [
       "0.0"
      ]
     },
     "execution_count": 431,
     "metadata": {},
     "output_type": "execute_result"
    }
   ],
   "source": [
    "sample_doc_idx = 1\n",
    "sample_doc = train_corpus[sample_doc_idx]\n",
    "sample_tokens = word_tokenize(sample_doc)\n",
    "filtered_tokens = [w for w in sample_tokens if (w not in vectorizer.stop_words_) and (w not in stop_words)]\n",
    "assert all([word in bow_tokens for word in filtered_tokens])\n",
    "\n",
    "filtered_word_cnt_dict = Counter(filtered_tokens)\n",
    "pseudo_bow = np.array([float(filtered_word_cnt_dict[w]) if w in filtered_word_cnt_dict else 0. for w in bow_tokens])\n",
    "# pseudo_bow = pseudo_bow / np.sum(pseudo_bow)\n",
    "\n",
    "sample_bow = train_bow_list.toarray()[sample_doc_idx]\n",
    "np.max((sample_bow - pseudo_bow)**2)"
   ]
  },
  {
   "cell_type": "code",
   "execution_count": 432,
   "metadata": {},
   "outputs": [
    {
     "data": {
      "text/plain": [
       "(array([ 109,  182,  183,  276,  297,  315,  370,  372,  391,  408,  502,\n",
       "         506,  511,  630,  631,  677,  697,  737,  738,  748,  855,  905,\n",
       "         916, 1026, 1027, 1147, 1201, 1202, 1210, 1284, 1299, 1346, 1386,\n",
       "        1433, 1513, 1521, 1550, 1556, 1586, 1614, 1711, 1713, 1776, 1810,\n",
       "        1820, 1835, 1886, 1887, 1890, 1893, 1910, 1969, 2027, 2033, 2100,\n",
       "        2154, 2163, 2166, 2184, 2204, 2238, 2292, 2324, 2329, 2397, 2423,\n",
       "        2455, 2551, 2564, 2589, 2729, 2732, 2823, 2909, 2953, 3000, 3007,\n",
       "        3045, 3148, 3212, 3223, 3234, 3242, 3269, 3270, 3316, 3338, 3350,\n",
       "        3427, 3460, 3461, 3563, 3565, 3567, 3714]),)"
      ]
     },
     "execution_count": 432,
     "metadata": {},
     "output_type": "execute_result"
    }
   ],
   "source": [
    "np.where(pseudo_bow>0)"
   ]
  },
  {
   "cell_type": "code",
   "execution_count": 433,
   "metadata": {},
   "outputs": [
    {
     "data": {
      "text/plain": [
       "(array([ 109,  182,  183,  276,  297,  315,  370,  372,  391,  408,  502,\n",
       "         506,  511,  630,  631,  677,  697,  737,  738,  748,  855,  905,\n",
       "         916, 1026, 1027, 1147, 1201, 1202, 1210, 1284, 1299, 1346, 1386,\n",
       "        1433, 1513, 1521, 1550, 1556, 1586, 1614, 1711, 1713, 1776, 1810,\n",
       "        1820, 1835, 1886, 1887, 1890, 1893, 1910, 1969, 2027, 2033, 2100,\n",
       "        2154, 2163, 2166, 2184, 2204, 2238, 2292, 2324, 2329, 2397, 2423,\n",
       "        2455, 2551, 2564, 2589, 2729, 2732, 2823, 2909, 2953, 3000, 3007,\n",
       "        3045, 3148, 3212, 3223, 3234, 3242, 3269, 3270, 3316, 3338, 3350,\n",
       "        3427, 3460, 3461, 3563, 3565, 3567, 3714]),)"
      ]
     },
     "execution_count": 433,
     "metadata": {},
     "output_type": "execute_result"
    }
   ],
   "source": [
    "np.where(sample_bow>0)"
   ]
  },
  {
   "cell_type": "code",
   "execution_count": 434,
   "metadata": {},
   "outputs": [],
   "source": [
    "assert len(train_df) == len(bow_list.toarray())"
   ]
  },
  {
   "cell_type": "markdown",
   "metadata": {},
   "source": [
    "# write out"
   ]
  },
  {
   "cell_type": "code",
   "execution_count": 435,
   "metadata": {},
   "outputs": [],
   "source": [
    "def prepare_instances(data_df, word_to_idx, bow_list):\n",
    "    instances = []\n",
    "    bows = bow_list.toarray()\n",
    "    assert len(bows) == len(data_df)\n",
    "    for bow, (idx_doc, doc) in zip(bows, data_df.iterrows()):\n",
    "        instance = Instance()\n",
    "        instance.idx = idx_doc\n",
    "        doc_token_idxs = []\n",
    "        for sent_tokens in doc.tokens:\n",
    "            sent_token_idxs = [word_to_idx[token] if token in word_to_idx else word_to_idx[UNK] for token in sent_tokens]\n",
    "            doc_token_idxs.append(sent_token_idxs)            \n",
    "        instance.token_idxs = doc_token_idxs\n",
    "        instance.doc_l = doc.doc_l\n",
    "        instance.max_sent_l = doc.max_sent_l\n",
    "        instance.bow = bow\n",
    "        instances.append(instance)\n",
    "    return instances"
   ]
  },
  {
   "cell_type": "code",
   "execution_count": 436,
   "metadata": {},
   "outputs": [],
   "source": [
    "instances_train = prepare_instances(train_df, word_to_idx, train_bow_list)\n",
    "instances_valid = prepare_instances(valid_df, word_to_idx, valid_bow_list)\n",
    "instances_test = prepare_instances(test_df, word_to_idx, test_bow_list)"
   ]
  },
  {
   "cell_type": "code",
   "execution_count": 437,
   "metadata": {},
   "outputs": [
    {
     "name": "stdout",
     "output_type": "stream",
     "text": [
      "saving preprocessed instances...\n"
     ]
    }
   ],
   "source": [
    "print('saving preprocessed instances...')\n",
    "cPickle.dump((instances_train, instances_valid, instances_test, word_to_idx, idx_to_word, bow_idxs),open(config.output_path,'wb'))"
   ]
  },
  {
   "cell_type": "code",
   "execution_count": null,
   "metadata": {},
   "outputs": [],
   "source": []
  }
 ],
 "metadata": {
  "kernelspec": {
   "display_name": "py36",
   "language": "python",
   "name": "py36"
  },
  "language_info": {
   "codemirror_mode": {
    "name": "ipython",
    "version": 3
   },
   "file_extension": ".py",
   "mimetype": "text/x-python",
   "name": "python",
   "nbconvert_exporter": "python",
   "pygments_lexer": "ipython3",
   "version": "3.6.9"
  },
  "toc": {
   "base_numbering": 1,
   "nav_menu": {},
   "number_sections": true,
   "sideBar": true,
   "skip_h1_title": false,
   "title_cell": "Table of Contents",
   "title_sidebar": "Contents",
   "toc_cell": false,
   "toc_position": {},
   "toc_section_display": true,
   "toc_window_display": false
  }
 },
 "nbformat": 4,
 "nbformat_minor": 2
}
