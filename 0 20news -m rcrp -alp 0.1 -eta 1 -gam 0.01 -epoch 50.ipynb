{
 "cells": [
  {
   "cell_type": "code",
   "execution_count": 1,
   "metadata": {},
   "outputs": [
    {
     "data": {
      "application/javascript": [
       "IPython.notebook.kernel.execute('nb_name = \"' + IPython.notebook.notebook_name + '\"')\n"
      ],
      "text/plain": [
       "<IPython.core.display.Javascript object>"
      ]
     },
     "metadata": {},
     "output_type": "display_data"
    }
   ],
   "source": [
    "%%javascript\n",
    "IPython.notebook.kernel.execute('nb_name = \"' + IPython.notebook.notebook_name + '\"')"
   ]
  },
  {
   "cell_type": "code",
   "execution_count": 2,
   "metadata": {},
   "outputs": [],
   "source": [
    "%load_ext autoreload\n",
    "%autoreload\n",
    "from IPython.display import clear_output\n",
    "\n",
    "import os\n",
    "os.environ['PYTHONHASHSEED'] = '0'\n",
    "os.environ[\"NUMEXPR_NUM_THREADS\"] = \"1\"\n",
    "os.environ[\"MKL_NUM_THREADS\"] = \"1\"\n",
    "os.environ[\"OMP_NUM_THREADS\"] = \"1\"\n",
    "\n",
    "import pdb\n",
    "import _pickle as cPickle\n",
    "import time\n",
    "import subprocess\n",
    "import glob\n",
    "\n",
    "import random\n",
    "import numpy as np\n",
    "import pandas as pd\n",
    "import tensorflow as tf\n",
    "\n",
    "from collections import defaultdict, Counter\n",
    "from rcrp import Topic, Doc, init, sample, get_perplexity, get_topic_specialization, get_hierarchical_affinities, get_freq_tokens_rcrp, get_docs\n",
    "from configure import get_config"
   ]
  },
  {
   "cell_type": "markdown",
   "metadata": {},
   "source": [
    "# load config & data "
   ]
  },
  {
   "cell_type": "code",
   "execution_count": 3,
   "metadata": {},
   "outputs": [],
   "source": [
    "config = get_config(nb_name)\n",
    "np.random.seed(config.seed)\n",
    "random.seed(config.seed)"
   ]
  },
  {
   "cell_type": "code",
   "execution_count": 4,
   "metadata": {},
   "outputs": [],
   "source": [
    "instances_train, instances_dev, instances_test, word_to_idx, idx_to_word, bow_idxs = cPickle.load(open(config.path_data,'rb'))"
   ]
  },
  {
   "cell_type": "code",
   "execution_count": 5,
   "metadata": {},
   "outputs": [
    {
     "data": {
      "text/plain": [
       "(9006, 1995)"
      ]
     },
     "execution_count": 5,
     "metadata": {},
     "output_type": "execute_result"
    }
   ],
   "source": [
    "config.n_doc = len(instances_train)\n",
    "config.n_vocab = len(bow_idxs)\n",
    "config.n_doc, config.n_vocab"
   ]
  },
  {
   "cell_type": "code",
   "execution_count": 6,
   "metadata": {},
   "outputs": [
    {
     "data": {
      "text/plain": [
       "695746"
      ]
     },
     "execution_count": 6,
     "metadata": {},
     "output_type": "execute_result"
    }
   ],
   "source": [
    "docs_bow = [instance.bow for instance in instances_train]\n",
    "docs_raw = [[[bow_index]*int(doc_bow[bow_index]) for bow_index in np.where(doc_bow > 0)[0]] for doc_bow in docs_bow]\n",
    "docs_words = [[idx for idxs in doc for idx in idxs] for doc in docs_raw]\n",
    "np.sum([len(doc_words) for doc_words in docs_words])"
   ]
  },
  {
   "cell_type": "markdown",
   "metadata": {},
   "source": [
    "# run"
   ]
  },
  {
   "cell_type": "markdown",
   "metadata": {},
   "source": [
    "## initialize log"
   ]
  },
  {
   "cell_type": "code",
   "execution_count": 7,
   "metadata": {},
   "outputs": [],
   "source": [
    "checkpoint = []\n",
    "ppl_min = np.inf\n",
    "epoch = 0\n",
    "\n",
    "cmd_rm = 'rm -r %s' % config.dir_model\n",
    "res = subprocess.call(cmd_rm.split())\n",
    "cmd_mk = 'mkdir %s' % config.dir_model\n",
    "res = subprocess.call(cmd_mk.split())\n",
    "\n",
    "log_df = pd.DataFrame(columns=pd.MultiIndex.from_tuples(\n",
    "                    list(zip(*[['','','','TRAIN:','VALID:','TEST:','SPEC:', '', '', 'HIER:', ''],\n",
    "                            ['Time','Ep','Ct','PPL','PPL', 'PPL','1', '2', '3', 'CHILD', 'OTHER']]))))\n",
    "\n",
    "def update_checkpoint(config, checkpoint, epoch):\n",
    "    checkpoint.append(config.path_model + '-%i' % epoch)\n",
    "    if len(checkpoint) > config.max_to_keep:\n",
    "        path_model = checkpoint.pop(0)\n",
    "        for p in glob.glob(path_model):\n",
    "            os.remove(p)\n",
    "    cPickle.dump(checkpoint, open(config.path_checkpoint, 'wb'))"
   ]
  },
  {
   "cell_type": "markdown",
   "metadata": {},
   "source": [
    "## initialize data"
   ]
  },
  {
   "cell_type": "code",
   "execution_count": 8,
   "metadata": {},
   "outputs": [],
   "source": [
    "topic_root = Topic(idx='0', sibling_idx=0, parent=None, depth=1, config=config)\n",
    "train_docs = get_docs(instances_train, config, topic_root=topic_root)\n",
    "dev_docs = get_docs(instances_dev, config, topic_root=topic_root)\n",
    "test_docs = get_docs(instances_test, config, topic_root=topic_root)\n",
    "init(train_docs, dev_docs, test_docs, topic_root)"
   ]
  },
  {
   "cell_type": "markdown",
   "metadata": {},
   "source": [
    "## run"
   ]
  },
  {
   "cell_type": "code",
   "execution_count": null,
   "metadata": {
    "scrolled": false
   },
   "outputs": [
    {
     "data": {
      "text/html": [
       "<div>\n",
       "<style scoped>\n",
       "    .dataframe tbody tr th:only-of-type {\n",
       "        vertical-align: middle;\n",
       "    }\n",
       "\n",
       "    .dataframe tbody tr th {\n",
       "        vertical-align: top;\n",
       "    }\n",
       "\n",
       "    .dataframe thead tr th {\n",
       "        text-align: left;\n",
       "    }\n",
       "</style>\n",
       "<table border=\"1\" class=\"dataframe\">\n",
       "  <thead>\n",
       "    <tr>\n",
       "      <th></th>\n",
       "      <th colspan=\"3\" halign=\"left\"></th>\n",
       "      <th>TRAIN:</th>\n",
       "      <th>VALID:</th>\n",
       "      <th>TEST:</th>\n",
       "      <th>SPEC:</th>\n",
       "      <th colspan=\"2\" halign=\"left\"></th>\n",
       "      <th>HIER:</th>\n",
       "      <th></th>\n",
       "    </tr>\n",
       "    <tr>\n",
       "      <th></th>\n",
       "      <th>Time</th>\n",
       "      <th>Ep</th>\n",
       "      <th>Ct</th>\n",
       "      <th>PPL</th>\n",
       "      <th>PPL</th>\n",
       "      <th>PPL</th>\n",
       "      <th>1</th>\n",
       "      <th>2</th>\n",
       "      <th>3</th>\n",
       "      <th>CHILD</th>\n",
       "      <th>OTHER</th>\n",
       "    </tr>\n",
       "  </thead>\n",
       "  <tbody>\n",
       "    <tr>\n",
       "      <th>0</th>\n",
       "      <td>867</td>\n",
       "      <td>0</td>\n",
       "      <td>0</td>\n",
       "      <td>0</td>\n",
       "      <td>1067</td>\n",
       "      <td>796</td>\n",
       "      <td>0.02</td>\n",
       "      <td>0.45</td>\n",
       "      <td>0</td>\n",
       "      <td>0.00</td>\n",
       "      <td>0.00</td>\n",
       "    </tr>\n",
       "    <tr>\n",
       "      <th>1</th>\n",
       "      <td>1964</td>\n",
       "      <td>1</td>\n",
       "      <td>0</td>\n",
       "      <td>0</td>\n",
       "      <td>1022</td>\n",
       "      <td>753</td>\n",
       "      <td>0.02</td>\n",
       "      <td>0.45</td>\n",
       "      <td>0</td>\n",
       "      <td>0.00</td>\n",
       "      <td>0.00</td>\n",
       "    </tr>\n",
       "    <tr>\n",
       "      <th>2</th>\n",
       "      <td>3091</td>\n",
       "      <td>2</td>\n",
       "      <td>0</td>\n",
       "      <td>0</td>\n",
       "      <td>999</td>\n",
       "      <td>740</td>\n",
       "      <td>0.02</td>\n",
       "      <td>0.45</td>\n",
       "      <td>0</td>\n",
       "      <td>0.00</td>\n",
       "      <td>0.00</td>\n",
       "    </tr>\n",
       "  </tbody>\n",
       "</table>\n",
       "</div>"
      ],
      "text/plain": [
       "              TRAIN: VALID: TEST: SPEC:          HIER:      \n",
       "   Time Ep Ct    PPL    PPL   PPL     1     2  3 CHILD OTHER\n",
       "0   867  0  0      0   1067   796  0.02  0.45  0  0.00  0.00\n",
       "1  1964  1  0      0   1022   753  0.02  0.45  0  0.00  0.00\n",
       "2  3091  2  0      0    999   740  0.02  0.45  0  0.00  0.00"
      ]
     },
     "metadata": {},
     "output_type": "display_data"
    },
    {
     "name": "stdout",
     "output_type": "stream",
     "text": [
      "   0 : ['0-1', '0-2', '0-3', '0-4', '0-5', '0-6', '0-7', '0-8', '0-9', '0-10', '0-11', '0-12', '0-13', '0-14', '0-15', '0-16', '0-17', '0-18', '0-19', '0-21', '0-22', '0-23', '0-24', '0-25', '0-26', '0-27', '0-28', '0-29', '0-30', '0-31', '0-32', '0-33', '0-34', '0-35', '0-36', '0-37'] 836 25749.0 ['use', 'write', 'one', 'get', 'article', 'know', 'like', 'make', 'say', 'go']\n",
      "     0-1 : [] 754 57708.0 ['god', 'one', 'write', 'say', 'people', 'think', 'article', 'make', 'know', 'believe']\n",
      "     0-2 : [] 350 28183.0 ['god', 'jesus', 'one', 'say', 'people', 'christian', 'write', 'know', 'see', 'think']\n",
      "     0-3 : [] 582 34935.0 ['use', 'image', 'available', 'file', 'software', 'also', 'include', 'write', 'ftp', 'version']\n",
      "     0-4 : [] 13 1021.0 ['unit', 'cross', 'link', 'ac', 'install', 'use', 'know', 'installation', 'error', 'disk']\n",
      "     0-5 : [] 1828 59859.0 ['use', 'file', 'write', 'get', 'windows', 'know', 'problem', 'card', 'thanks', 'run']\n",
      "     0-6 : [] 17 1053.0 ['rg', 'oo', 'de', 'eus', 'mr', 'van', 'mw', 'philadelphia', 'pm', 'mi']\n",
      "     0-7 : [] 1167 48255.0 ['drive', 'use', 'get', 'one', 'write', 'work', 'know', 'card', 'problem', 'scsi']\n",
      "     0-8 : [] 536 15215.0 ['sale', 'offer', 'include', 'sell', 'price', 'new', 'please', 'use', 'dos', 'condition']\n",
      "     0-9 : [] 61 2767.0 ['pin', 'use', 'output', 'input', 'signal', 'detector', 'one', 'wave', 'datum', 'make']\n",
      "     0-10 : [] 24 4043.0 ['keyboard', 'ca', 'use', 'also', 'pc', 'program', 'one', 'support', 'get', 'available']\n",
      "     0-11 : [] 10 9134.0 ['entry', 'file', 'output', 'program', 'section', 'use', 'oname', 'printf', 'rule', 'char']\n",
      "     0-12 : [] 560 36848.0 ['use', 'window', 'widget', 'get', 'server', 'application', 'file', 'write', 'display', 'program']\n",
      "     0-13 : [] 85 4659.0 ['point', 'line', 'center', 'problem', 'write', 'find', 'use', 'go', 'work', 'edge']\n",
      "     0-14 : [] 13 1527.0 ['appear', 'cover', 'copy', 'art', 'new', 'vs', 'annual', 'rider', 'app', 'issue']\n",
      "     0-15 : [] 1778 76683.0 ['car', 'write', 'get', 'article', 'one', 'go', 'like', 'bike', 'use', 'make']\n",
      "     0-16 : [] 159 9272.0 ['list', 'dod', 'send', 'post', 'may', 'get', 'article', 'one', 'request', 'ride']\n",
      "     0-17 : [] 1420 72637.0 ['game', 'team', 'year', 'write', 'go', 'get', 'play', 'player', 'think', 'article']\n",
      "     0-18 : [] 110 12041.0 ['pt', 'game', 'la', 'period', 'vs', 'team', 'play', 'new', 'hockey', 'det']\n",
      "     0-19 : [] 640 54828.0 ['key', 'use', 'chip', 'encryption', 'government', 'one', 'clipper', 'write', 'system', 'get']\n",
      "     0-21 : [] 85 8152.0 ['space', 'university', 'information', 'program', 'conference', 'include', 'research', 'computer', 'technology', 'use']\n",
      "     0-22 : [] 241 17526.0 ['use', 'ground', 'wire', 'one', 'circuit', 'power', 'get', 'write', 'current', 'wiring']\n",
      "     0-23 : [] 714 35051.0 ['write', 'article', 'one', 'get', 'know', 'food', 'people', 'use', 'take', 'msg']\n",
      "     0-24 : [] 21 6367.0 ['health', 'use', 'medical', 'center', 'cancer', 'child', 'report', 'number', 'disease', 'research']\n",
      "     0-25 : [] 521 31528.0 ['space', 'write', 'launch', 'article', 'one', 'orbit', 'use', 'nasa', 'get', 'moon']\n",
      "     0-26 : [] 17 6080.0 ['launch', 'space', 'satellite', 'system', 'mission', 'use', 'year', 'service', 'nasa', 'commercial']\n",
      "     0-27 : [] 19 1028.0 ['instruction', 'set', 'reduce', 'computer', 'write', 'article', 'performance', 'high', 'mean', 'like']\n",
      "     0-28 : [] 33 3631.0 ['time', 'theory', 'one', 'universe', 'star', 'hole', 'mass', 'earth', 'black', 'see']\n",
      "     0-29 : [] 13 5201.0 ['jpeg', 'image', 'file', 'gif', 'format', 'use', 'color', 'program', 'display', 'version']\n",
      "     0-30 : [] 6 2935.0 ['drive', 'disk', 'jumper', 'system', 'hard', 'controller', 'support', 'rom', 'bio', 'slave']\n",
      "     0-31 : [] 13 1712.0 ['vote', 'john', 'david', 'newsgroup', 'discussion', 'yes', 'create', 'name', 'send', 'world']\n",
      "     0-32 : [] 12 3665.0 ['mac', 'use', 'os', 'ibm', 'windows', 'color', 'pc', 'program', 'standard', 'hardware']\n",
      "     0-33 : [] 3 1415.0 ['db', 'mov', 'bh', 'byte', 'cs', 'al', 'bit', 'push', 'pop', 'one']\n",
      "     0-34 : [] 31 11398.0 ['anonymous', 'internet', 'post', 'use', 'privacy', 'user', 'information', 'system', 'email', 'computer']\n",
      "     0-35 : [] 21 2379.0 ['right', 'arm', 'people', 'amendment', 'constitution', 'bear', 'militia', 'keep', 'second', 'write']\n",
      "     0-36 : [] 3 646.0 ['water', 'washington', 'new', 'ma', 'city', 'street', 'ny', 'dc', 'york', 'april']\n",
      "     0-37 : [] 6 615.0 ['good', 'excellent', 'miss', 'cover', 'module', 'fair', 'poster', 'include', 'game', 'class']\n"
     ]
    }
   ],
   "source": [
    "time_start = time.time()\n",
    "while epoch < config.n_epochs:\n",
    "    sample(train_docs, dev_docs, test_docs, topic_root)\n",
    "#     ppl_train = get_perplexity(train_docs, topic_root)\n",
    "    ppl_train = 0.\n",
    "    ppl_dev = get_perplexity(dev_docs, topic_root)\n",
    "    \n",
    "    if ppl_dev < ppl_min:\n",
    "        ppl_min = ppl_dev\n",
    "        ppl_test = get_perplexity(test_docs, topic_root)\n",
    "        cPickle.dump([test_docs, topic_root], open(config.path_model + '-%i'%epoch, 'wb'))\n",
    "        update_checkpoint(config, checkpoint, epoch)\n",
    "        \n",
    "    depth_spec = get_topic_specialization(test_docs, topic_root)\n",
    "    hierarchical_affinities = get_hierarchical_affinities(topic_root)\n",
    "    \n",
    "    clear_output()\n",
    "    time_log = int(time.time() - time_start)\n",
    "    time_start = time.time()\n",
    "    log_series = pd.Series([time_log, epoch, 0, \\\n",
    "            '%.0f'%ppl_train, '%.0f'%ppl_dev, '%.0f'%ppl_test, \\\n",
    "            '%.2f'%depth_spec[1], '%.2f'%depth_spec[2] if 2 in depth_spec else 0, '%.2f'%depth_spec[3] if 3 in depth_spec else 0, \\\n",
    "            '%.2f'%hierarchical_affinities[0], '%.2f'%hierarchical_affinities[1]],\n",
    "            index=log_df.columns)\n",
    "    log_df.loc[epoch] = log_series\n",
    "    display(log_df)\n",
    "    get_freq_tokens_rcrp(topic_root, idx_to_word, bow_idxs)\n",
    "    \n",
    "    cPickle.dump(log_df, open(config.path_log, 'wb'))\n",
    "    epoch += 1"
   ]
  },
  {
   "cell_type": "code",
   "execution_count": null,
   "metadata": {},
   "outputs": [],
   "source": []
  }
 ],
 "metadata": {
  "kernelspec": {
   "display_name": "py36",
   "language": "python",
   "name": "py36"
  },
  "language_info": {
   "codemirror_mode": {
    "name": "ipython",
    "version": 3
   },
   "file_extension": ".py",
   "mimetype": "text/x-python",
   "name": "python",
   "nbconvert_exporter": "python",
   "pygments_lexer": "ipython3",
   "version": "3.6.9"
  },
  "toc": {
   "base_numbering": 1,
   "nav_menu": {},
   "number_sections": true,
   "sideBar": true,
   "skip_h1_title": false,
   "title_cell": "Table of Contents",
   "title_sidebar": "Contents",
   "toc_cell": false,
   "toc_position": {},
   "toc_section_display": true,
   "toc_window_display": false
  }
 },
 "nbformat": 4,
 "nbformat_minor": 2
}
