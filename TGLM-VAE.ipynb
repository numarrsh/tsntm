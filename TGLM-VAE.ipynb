{
 "cells": [
  {
   "cell_type": "code",
   "execution_count": 1,
   "metadata": {},
   "outputs": [],
   "source": [
    "%load_ext autoreload\n",
    "%autoreload\n",
    "from IPython.display import clear_output\n",
    "\n",
    "import os\n",
    "import sys\n",
    "import pdb\n",
    "import time\n",
    "import datetime\n",
    "import math\n",
    "import random\n",
    "import _pickle as cPickle\n",
    "from collections import defaultdict\n",
    "\n",
    "from six.moves import zip_longest\n",
    "import numpy as np\n",
    "\n",
    "import tensorflow as tf\n",
    "from tensorflow import distributions as tfd\n",
    "from tensorflow.keras.preprocessing.sequence import pad_sequences\n",
    "\n",
    "from data_structure import get_batches\n",
    "from components import tf_log, sample_latents, compute_kl_loss, dynamic_rnn, dynamic_bi_rnn\n",
    "from topic_model import TopicModel"
   ]
  },
  {
   "cell_type": "code",
   "execution_count": 2,
   "metadata": {},
   "outputs": [],
   "source": [
    "PAD = '<pad>' # This has a vocab id, which is used to pad the encoder input, decoder input and target sequence\n",
    "UNK = '<unk>' # This has a vocab id, which is used to represent out-of-vocabulary words\n",
    "BOS = '<p>' # This has a vocab id, which is used at the beginning of every decoder input sequence\n",
    "EOS = '</p>' # This has a vocab id, which is used at the end of untruncated target sequences"
   ]
  },
  {
   "cell_type": "markdown",
   "metadata": {},
   "source": [
    "# load data & set config"
   ]
  },
  {
   "cell_type": "code",
   "execution_count": 3,
   "metadata": {
    "code_folding": [
     0
    ]
   },
   "outputs": [],
   "source": [
    "def del_all_flags(FLAGS):\n",
    "    flags_dict = FLAGS._flags()    \n",
    "    keys_list = [keys for keys in flags_dict]    \n",
    "    for keys in keys_list:\n",
    "        FLAGS.__delattr__(keys)\n",
    "\n",
    "del_all_flags(tf.flags.FLAGS)\n",
    "\n",
    "flags = tf.app.flags\n",
    "\n",
    "flags.DEFINE_string('gpu', '2', 'visible gpu')\n",
    "\n",
    "flags.DEFINE_string('mode', 'train', 'set train or eval')\n",
    "\n",
    "flags.DEFINE_string('data_path', 'data/apnews/instances.pkl', 'path of data')\n",
    "flags.DEFINE_string('modeldir', 'model', 'directory of model')\n",
    "flags.DEFINE_string('modelname', 'sports', 'name of model')\n",
    "\n",
    "flags.DEFINE_integer('epochs', 1000, 'epochs')\n",
    "flags.DEFINE_integer('batch_size', 64, 'number of sentences in each batch')\n",
    "flags.DEFINE_integer('log_period', 500, 'valid period')\n",
    "\n",
    "flags.DEFINE_string('opt', 'Adagrad', 'optimizer')\n",
    "flags.DEFINE_float('lr', 0.1, 'lr')\n",
    "flags.DEFINE_float('reg', 0.1, 'regularization term')\n",
    "flags.DEFINE_float('beta', 0.001, 'initial value of beta')\n",
    "flags.DEFINE_float('grad_clip', 5., 'grad_clip')\n",
    "\n",
    "flags.DEFINE_float('keep_prob', 0.8, 'dropout rate')\n",
    "flags.DEFINE_float('word_keep_prob', 0.75, 'word dropout rate')\n",
    "\n",
    "flags.DEFINE_integer('warmup', 5000, 'warmup period for KL')\n",
    "flags.DEFINE_integer('warmup_topic', 0, 'warmup period for KL of topic')\n",
    "\n",
    "flags.DEFINE_integer('beam_width', 2, 'beam_width')\n",
    "flags.DEFINE_float('length_penalty_weight', 0.0, 'length_penalty_weight')\n",
    "\n",
    "flags.DEFINE_integer('n_topic', 10, 'number of topic')\n",
    "flags.DEFINE_integer('dim_hidden_bow', 256, 'dim of hidden bow')\n",
    "flags.DEFINE_integer('dim_latent_topic', 32, 'dim of latent topic')\n",
    "flags.DEFINE_integer('dim_emb', 256, 'dim_emb')\n",
    "flags.DEFINE_integer('dim_hidden', 512, 'dim_hidden')\n",
    "flags.DEFINE_integer('dim_latent', 32, 'dim_latent')\n",
    "\n",
    "\n",
    "# for evaluation\n",
    "flags.DEFINE_string('refdir', 'ref', 'refdir')\n",
    "flags.DEFINE_string('outdir', 'out', 'outdir')\n",
    "\n",
    "flags.DEFINE_string('f', '', 'kernel')\n",
    "flags.DEFINE_bool('logtostderr', True, 'kernel')\n",
    "flags.DEFINE_bool('showprefixforinfo', False, '')\n",
    "flags.DEFINE_bool('verbosity', False, '')\n",
    "# flags.DEFINE_integer('stderrthreshold', 20, 'kernel')\n",
    "\n",
    "config = flags.FLAGS"
   ]
  },
  {
   "cell_type": "code",
   "execution_count": 4,
   "metadata": {},
   "outputs": [],
   "source": [
    "os.environ[\"CUDA_VISIBLE_DEVICES\"] = config.gpu"
   ]
  },
  {
   "cell_type": "code",
   "execution_count": 5,
   "metadata": {},
   "outputs": [],
   "source": [
    "instances_train, instances_dev, instances_test, word_to_idx, idx_to_word, bow_idxs = cPickle.load(open(config.data_path,'rb'))"
   ]
  },
  {
   "cell_type": "code",
   "execution_count": 6,
   "metadata": {},
   "outputs": [],
   "source": [
    "train_batches = get_batches(instances_train, config.batch_size)\n",
    "dev_batches = get_batches(instances_dev, config.batch_size)\n",
    "test_batches = get_batches(instances_test, config.batch_size)"
   ]
  },
  {
   "cell_type": "code",
   "execution_count": 7,
   "metadata": {},
   "outputs": [],
   "source": [
    "flags.DEFINE_integer('PAD_IDX', word_to_idx[PAD], 'PAD_IDX')\n",
    "flags.DEFINE_integer('UNK_IDX', word_to_idx[UNK], 'UNK_IDX')\n",
    "flags.DEFINE_integer('BOS_IDX', word_to_idx[BOS], 'BOS_IDX')\n",
    "flags.DEFINE_integer('EOS_IDX', word_to_idx[EOS], 'EOS_IDX')\n",
    "\n",
    "flags.DEFINE_integer('n_vocab', len(word_to_idx), 'n_vocab')\n",
    "flags.DEFINE_integer('dim_bow', len(bow_idxs), 'dim_bow')\n",
    "\n",
    "maximum_iterations = max([max([instance.max_sent_l for instance in batch]) for ct, batch in dev_batches])\n",
    "flags.DEFINE_integer('maximum_iterations', maximum_iterations, 'maximum_iterations')    "
   ]
  },
  {
   "cell_type": "markdown",
   "metadata": {},
   "source": [
    "# build language model "
   ]
  },
  {
   "cell_type": "markdown",
   "metadata": {},
   "source": [
    "## feed dict"
   ]
  },
  {
   "cell_type": "code",
   "execution_count": 8,
   "metadata": {},
   "outputs": [],
   "source": [
    "tf.reset_default_graph()\n",
    "\n",
    "t_variables = {}\n",
    "t_variables['bow'] = tf.placeholder(tf.float32, [None, config.dim_bow])\n",
    "t_variables['input_token_idxs'] = tf.placeholder(tf.int32, [None, None])\n",
    "t_variables['dec_input_idxs'] = tf.placeholder(tf.int32, [None, None])\n",
    "t_variables['dec_target_idxs'] = tf.placeholder(tf.int32, [None, None])\n",
    "t_variables['doc_l'] = tf.placeholder(tf.int32, [None])\n",
    "t_variables['sent_l'] = tf.placeholder(tf.int32, [None])\n",
    "t_variables['keep_prob'] = tf.placeholder(tf.float32)"
   ]
  },
  {
   "cell_type": "code",
   "execution_count": 9,
   "metadata": {},
   "outputs": [],
   "source": [
    "def get_feed_dict(batch, mode='train', assertion=False):\n",
    "    def token_dropout(sent_idxs):\n",
    "        sent_idxs_dropout = np.asarray(sent_idxs)\n",
    "        sent_idxs_dropout[np.random.rand(len(sent_idxs)) > config.word_keep_prob] = config.UNK_IDX\n",
    "        return list(sent_idxs_dropout)\n",
    "\n",
    "    bow = np.array([instance.bow for instance in batch]).astype(np.float32)\n",
    "    \n",
    "    doc_l = np.array([len(instance.token_idxs) for instance in batch])\n",
    "    \n",
    "    feed_input_token_idxs_list = [sent_idxs for instance in batch for sent_idxs in instance.token_idxs]\n",
    "    feed_dec_input_idxs_list = [[config.BOS_IDX] + token_dropout(sent_idxs) for sent_idxs in feed_input_token_idxs_list]\n",
    "    feed_dec_target_idxs_list = [sent_idxs + [config.EOS_IDX]  for sent_idxs in feed_input_token_idxs_list]\n",
    "        \n",
    "    sent_l = np.array([len(sent_idxs) for sent_idxs in feed_input_token_idxs_list], np.int32)\n",
    "    \n",
    "    feed_input_token_idxs = pad_sequences(feed_input_token_idxs_list, padding='post', value=config.PAD_IDX, dtype=np.int32)\n",
    "    feed_dec_input_idxs = pad_sequences(feed_dec_input_idxs_list, padding='post', value=config.PAD_IDX, dtype=np.int32)\n",
    "    feed_dec_target_idxs = pad_sequences(feed_dec_target_idxs_list, padding='post', value=config.PAD_IDX, dtype=np.int32)\n",
    "    \n",
    "    if assertion:\n",
    "        index = 0\n",
    "        for instance in batch:\n",
    "            for line_idxs in instance.token_idxs:\n",
    "                assert feed_input_token_idxs_list[index] == line_idxs\n",
    "                index += 1\n",
    "        assert feed_input_token_idxs.shape[1] == np.max(sent_l)\n",
    "        assert feed_dec_input_idxs.shape[1] == np.max(sent_l) + 1\n",
    "        assert feed_dec_target_idxs.shape[1] == np.max(sent_l) + 1\n",
    "    \n",
    "    keep_prob = config.keep_prob if mode == 'train' else 1.0\n",
    "\n",
    "    feed_dict = {\n",
    "                t_variables['bow']: bow, \n",
    "                t_variables['doc_l']: doc_l, t_variables['sent_l']: sent_l, \n",
    "                t_variables['input_token_idxs']: feed_input_token_idxs, t_variables['dec_input_idxs']: feed_dec_input_idxs, t_variables['dec_target_idxs']: feed_dec_target_idxs, \n",
    "                t_variables['keep_prob']: keep_prob\n",
    "    }\n",
    "    return  feed_dict"
   ]
  },
  {
   "cell_type": "code",
   "execution_count": 10,
   "metadata": {},
   "outputs": [],
   "source": [
    "batch = test_batches[0][1]\n",
    "get_feed_dict(batch);"
   ]
  },
  {
   "cell_type": "code",
   "execution_count": 11,
   "metadata": {
    "code_folding": [
     0,
     18
    ]
   },
   "outputs": [],
   "source": [
    "def debug_shape(variables, sess_init=None):\n",
    "    if sess_init is None:\n",
    "        sess = tf.Session()\n",
    "        sess.run(tf.global_variables_initializer())\n",
    "    else:\n",
    "        sess = sess_init\n",
    "        \n",
    "    sample_batch = test_batches[0][1]\n",
    "    feed_dict = get_feed_dict(sample_batch)\n",
    "    _variables = sess.run(variables, feed_dict=feed_dict)\n",
    "    for _variable, variable in zip(_variables, variables):\n",
    "        if hasattr(variable, 'name'):\n",
    "            print(variable.name, ':', _variable.shape)\n",
    "        else:\n",
    "            print(_variable.shape)\n",
    "            \n",
    "    if sess_init is None: sess.close()\n",
    "\n",
    "def debug_value(variables, return_value=False, sess_init=None):\n",
    "    if sess_init is None:\n",
    "        sess = tf.Session()\n",
    "        sess.run(tf.global_variables_initializer())\n",
    "    else:\n",
    "        sess = sess_init\n",
    "\n",
    "    sample_batch = test_batches[0][1]\n",
    "    feed_dict = get_feed_dict(sample_batch)\n",
    "    _variables = sess.run(variables, feed_dict=feed_dict)\n",
    "\n",
    "    if return_value: \n",
    "        return _variables\n",
    "    else:\n",
    "        for _variable, variable in zip(_variables, variables):\n",
    "            if hasattr(variable, 'name'):\n",
    "                print(variable.name, ':', _variable)\n",
    "            else:\n",
    "                print(_variable)\n",
    "                \n",
    "    if sess_init is None: sess.close()"
   ]
  },
  {
   "cell_type": "markdown",
   "metadata": {},
   "source": [
    "## topic model"
   ]
  },
  {
   "cell_type": "code",
   "execution_count": 12,
   "metadata": {
    "scrolled": false
   },
   "outputs": [],
   "source": [
    "# encode bow\n",
    "with tf.variable_scope('topic/enc', reuse=False):\n",
    "    hidden_bow_ = tf.keras.layers.Dense(units=config.dim_hidden_bow, activation=tf.nn.relu, name='hidden')(t_variables['bow'])\n",
    "    hidden_bow = tf.keras.layers.Dropout(t_variables['keep_prob'])(hidden_bow_)\n",
    "    means_bow = tf.keras.layers.Dense(units=config.dim_latent_topic)(hidden_bow)\n",
    "    logvars_bow = tf.keras.layers.Dense(units=config.dim_latent_topic, kernel_initializer=tf.constant_initializer(0), bias_initializer=tf.constant_initializer(0))(hidden_bow)\n",
    "    latents_bow = sample_latents(means_bow, logvars_bow) # sample latent vectors\n",
    "\n",
    "    prob_topic = tf.layers.Dense(units=config.n_topic, activation=tf.nn.softmax, name='prob')(latents_bow) # inference of topic probabilities\n",
    "\n",
    "# decode bow\n",
    "with tf.variable_scope('shared', reuse=False):\n",
    "    embeddings = tf.get_variable('emb', [config.n_vocab, config.dim_emb], dtype=tf.float32, initializer=tf.contrib.layers.xavier_initializer()) # embeddings of vocab\n",
    "\n",
    "bow_embeddings = tf.nn.embedding_lookup(embeddings, bow_idxs) # embeddings of each bow features\n",
    "\n",
    "with tf.variable_scope('topic/dec', reuse=False):\n",
    "    topic_embeddings = tf.get_variable('topic_emb', [config.n_topic, config.dim_emb], dtype=tf.float32, initializer=tf.contrib.layers.xavier_initializer()) # embeddings of topics\n",
    "\n",
    "    topic_bow = tf.nn.softmax(tf.matmul(topic_embeddings, bow_embeddings, transpose_b=True), 1) # bow vectors for each topic\n",
    "    logits_bow = tf_log(tf.matmul(prob_topic, topic_bow)) # predicted bow distribution\n",
    "\n",
    "# prior of each gaussian distribution (computed for each topic)\n",
    "with tf.variable_scope('topic/enc/infer', reuse=False):\n",
    "    means_topic = tf.keras.layers.Dense(units=config.dim_latent)(topic_bow)\n",
    "    logvars_topic = tf.keras.layers.Dense(units=config.dim_latent, kernel_initializer=tf.constant_initializer(0), bias_initializer=tf.constant_initializer(0))(topic_bow)\n",
    "sigma_topic = tf.exp(0.5 * logvars_topic)\n",
    "gauss_topic = tfd.Normal(loc=means_topic, scale=sigma_topic)    \n",
    "    \n",
    "# define losses\n",
    "topic_losses_recon = -tf.reduce_sum(tf.multiply(t_variables['bow'], logits_bow), 1)\n",
    "topic_loss_recon = tf.reduce_mean(topic_losses_recon) # negative log likelihood of each words\n",
    "\n",
    "topic_loss_kl = compute_kl_loss(means_bow, logvars_bow) # KL divergence b/w latent dist & gaussian std\n",
    "\n",
    "topic_embeddings_norm = topic_embeddings / tf.norm(topic_embeddings, axis=1, keepdims=True)\n",
    "topic_angles = tf.matmul(topic_embeddings_norm, tf.transpose(topic_embeddings_norm))\n",
    "topic_angles_mean = tf.reduce_mean(topic_angles, keepdims=True)\n",
    "topic_angles_vars = tf.reduce_mean(tf.square(topic_angles - topic_angles_mean))\n",
    "topic_loss_reg = topic_angles_vars - tf.squeeze(topic_angles_mean)\n",
    "\n",
    "# monitor\n",
    "n_bow = tf.reduce_sum(t_variables['bow'], 1)\n",
    "topic_ppls = tf.divide(topic_losses_recon, n_bow)\n",
    "topics_freq_bow_indices = tf.nn.top_k(topic_bow, 10, name='topic_freq_bow').indices"
   ]
  },
  {
   "cell_type": "code",
   "execution_count": 13,
   "metadata": {},
   "outputs": [
    {
     "name": "stdout",
     "output_type": "stream",
     "text": [
      "topic/enc/dropout/cond/Merge:0 : (10, 256)\n",
      "topic/enc/add:0 : (10, 32)\n",
      "topic/enc/prob/Softmax:0 : (10, 10)\n"
     ]
    }
   ],
   "source": [
    "debug_shape([hidden_bow, latents_bow, prob_topic])"
   ]
  },
  {
   "cell_type": "code",
   "execution_count": 14,
   "metadata": {},
   "outputs": [
    {
     "name": "stdout",
     "output_type": "stream",
     "text": [
      "topic/dec/topic_emb:0 : (10, 256)\n",
      "topic/dec/Softmax:0 : (10, 2661)\n",
      "topic/dec/Log:0 : (10, 2661)\n",
      "topic/enc/infer/dense_2/BiasAdd:0 : (10, 32)\n",
      "Neg:0 : (10,)\n"
     ]
    }
   ],
   "source": [
    "debug_shape([topic_embeddings, topic_bow, logits_bow, means_topic, topic_losses_recon])"
   ]
  },
  {
   "cell_type": "code",
   "execution_count": 15,
   "metadata": {},
   "outputs": [
    {
     "name": "stdout",
     "output_type": "stream",
     "text": [
      "Sum_3:0 : [0.99999994 1.         1.         0.99999994 1.         1.\n",
      " 1.         0.99999994 1.         1.        ]\n"
     ]
    }
   ],
   "source": [
    "debug_value([tf.reduce_sum(prob_topic, 1)])"
   ]
  },
  {
   "cell_type": "markdown",
   "metadata": {},
   "source": [
    "## encoder"
   ]
  },
  {
   "cell_type": "code",
   "execution_count": 16,
   "metadata": {},
   "outputs": [],
   "source": [
    "# input\n",
    "input_token_idxs = t_variables['input_token_idxs']\n",
    "batch_l, max_sent_l = tf.shape(input_token_idxs)[0], tf.shape(input_token_idxs)[1]\n",
    "sent_l = t_variables['sent_l']\n",
    "\n",
    "with tf.variable_scope('sent/enc', reuse=False):\n",
    "    # get word embedding\n",
    "    enc_input = tf.nn.embedding_lookup(embeddings, input_token_idxs)\n",
    "\n",
    "    # get sentence embedding\n",
    "    _, enc_state = dynamic_rnn(enc_input, sent_l, config.dim_hidden, t_variables['keep_prob'])\n",
    "\n",
    "    # TODO House Holder flow\n",
    "    prob_topic_infer = tf.layers.Dense(units=config.n_topic, activation=tf.nn.softmax)(enc_state)\n",
    "    \n",
    "    # inference of each gaussian dist. parameter\n",
    "    enc_state_infer = tf.tile(tf.expand_dims(enc_state, 1), [1, config.n_topic, 1]) # tile over topics\n",
    "    means_topic_infer = tf.keras.layers.Dense(units=config.dim_latent)(enc_state_infer)\n",
    "    logvars_topic_infer = tf.keras.layers.Dense(units=config.dim_latent, kernel_initializer=tf.constant_initializer(0), bias_initializer=tf.constant_initializer(0))(enc_state_infer)\n",
    "    sigma_topic_infer = tf.exp(0.5 * logvars_topic_infer)\n",
    "    gauss_topic_infer = tfd.Normal(loc=means_topic_infer, scale=sigma_topic_infer)\n",
    "\n",
    "    # latent vectors from each gaussian dist.\n",
    "    latents_topic_infer = sample_latents(means_topic_infer, logvars_topic_infer) \n",
    "    # latent vector from gaussian mixture    \n",
    "    latents_input = tf.matmul(tf.expand_dims(prob_topic_infer, -1), latents_topic_infer, transpose_a=True)"
   ]
  },
  {
   "cell_type": "code",
   "execution_count": 17,
   "metadata": {},
   "outputs": [
    {
     "name": "stdout",
     "output_type": "stream",
     "text": [
      "Placeholder_1:0 : (62, 34)\n",
      "sent/enc/rnn/while/Exit_3:0 : (62, 512)\n",
      "sent/enc/Tile:0 : (62, 10, 512)\n",
      "sent/enc/add:0 : (62, 10, 32)\n",
      "sent/enc/dense/Softmax:0 : (62, 10)\n",
      "sent/enc/MatMul:0 : (62, 1, 32)\n"
     ]
    }
   ],
   "source": [
    "debug_shape([input_token_idxs, enc_state, enc_state_infer, latents_topic_infer, prob_topic_infer, latents_input])"
   ]
  },
  {
   "cell_type": "code",
   "execution_count": 18,
   "metadata": {},
   "outputs": [
    {
     "name": "stdout",
     "output_type": "stream",
     "text": [
      "Sum_4:0 : [1.         1.         1.         1.         1.         1.\n",
      " 1.         0.9999999  1.         1.         1.         0.99999994\n",
      " 1.         1.         1.         1.         1.         1.0000001\n",
      " 1.         1.         1.         1.         1.         1.\n",
      " 1.         1.         0.99999994 0.9999999  1.         1.\n",
      " 1.         1.         1.0000001  1.         0.99999994 1.\n",
      " 1.         1.         1.         0.9999999  1.0000001  1.\n",
      " 1.         1.         1.         1.         1.         1.\n",
      " 1.         1.         1.         0.9999999  1.         1.\n",
      " 1.         1.         1.         1.         1.         1.\n",
      " 1.         1.0000001 ]\n"
     ]
    }
   ],
   "source": [
    "debug_value([tf.reduce_sum(prob_topic_infer, 1)])"
   ]
  },
  {
   "cell_type": "markdown",
   "metadata": {},
   "source": [
    "## decoder"
   ]
  },
  {
   "cell_type": "code",
   "execution_count": 19,
   "metadata": {},
   "outputs": [],
   "source": [
    "# prepare for decoding\n",
    "dec_sent_l = tf.add(sent_l, 1)\n",
    "dec_input_idxs = t_variables['dec_input_idxs']\n",
    "dec_input = tf.nn.embedding_lookup(embeddings, dec_input_idxs)\n",
    "\n",
    "dec_latents_input = tf.tile(latents_input, [1, tf.shape(dec_input)[1], 1])\n",
    "dec_concat_input = tf.concat([dec_input, dec_latents_input], -1)\n",
    "\n",
    "# decode for training\n",
    "with tf.variable_scope('sent/dec/rnn', initializer=tf.contrib.layers.xavier_initializer(), dtype = tf.float32, reuse=tf.AUTO_REUSE):\n",
    "    dec_cell = tf.contrib.rnn.GRUCell(config.dim_hidden)\n",
    "    dec_cell = tf.contrib.rnn.DropoutWrapper(dec_cell, output_keep_prob = t_variables['keep_prob'])\n",
    "\n",
    "    dec_initial_state = tf.layers.Dense(units=config.dim_hidden, activation=tf.nn.relu)(tf.squeeze(latents_input, 1))\n",
    "    \n",
    "    helper = tf.contrib.seq2seq.TrainingHelper(inputs=dec_concat_input, sequence_length=dec_sent_l)\n",
    "\n",
    "    train_decoder = tf.contrib.seq2seq.BasicDecoder(\n",
    "        cell=dec_cell,\n",
    "        helper=helper,\n",
    "        initial_state=dec_initial_state)\n",
    "\n",
    "    dec_outputs, _, output_sent_l = tf.contrib.seq2seq.dynamic_decode(train_decoder)\n",
    "    \n",
    "    output_layer = tf.layers.Dense(config.n_vocab, use_bias=False, name='out')\n",
    "    output_logits = output_layer(dec_outputs.rnn_output)\n",
    "    \n",
    "    output_token_idxs = tf.argmax(output_logits, 2)"
   ]
  },
  {
   "cell_type": "code",
   "execution_count": 20,
   "metadata": {},
   "outputs": [
    {
     "name": "stdout",
     "output_type": "stream",
     "text": [
      "concat:0 : (62, 35, 288)\n",
      "sent/dec/rnn/dense/Relu:0 : (62, 512)\n",
      "sent/dec/rnn/out/Tensordot:0 : (62, 35, 30832)\n",
      "sent/dec/rnn/ArgMax:0 : (62, 35)\n"
     ]
    }
   ],
   "source": [
    "debug_shape([dec_concat_input, dec_initial_state, output_logits, output_token_idxs])"
   ]
  },
  {
   "cell_type": "markdown",
   "metadata": {},
   "source": [
    "## language modeling cost"
   ]
  },
  {
   "cell_type": "code",
   "execution_count": 21,
   "metadata": {},
   "outputs": [],
   "source": [
    "# target and mask\n",
    "dec_target_idxs = t_variables['dec_target_idxs']\n",
    "dec_mask_tokens = tf.sequence_mask(dec_sent_l, maxlen=max_sent_l+1, dtype=tf.float32)\n",
    "\n",
    "# nll for each token (averaged over batch & sentence)\n",
    "sent_loss_recon = tf.contrib.seq2seq.sequence_loss(output_logits, dec_target_idxs, dec_mask_tokens)"
   ]
  },
  {
   "cell_type": "code",
   "execution_count": null,
   "metadata": {},
   "outputs": [],
   "source": [
    "doc_l = t_variables['doc_l']\n",
    "mask_sents = tf.sequence_mask(doc_l)\n",
    "mask_sents_flatten = tf.reshape(mask_sents, [tf.shape(mask_sents)[0]*tf.shape(mask_sents)[1]])\n",
    "\n",
    "prob_topic_tiled = tf.tile(tf.expand_dims(prob_topic, 1), [1, tf.shape(mask_sents)[1], 1])\n",
    "prob_topic_flatten = tf.reshape(prob_topic_tiled, [tf.shape(mask_sents)[0]*tf.shape(mask_sents)[1], config.n_topic])\n",
    "prob_topic_sents = tf.boolean_mask(prob_topic_flatten, mask_sents_flatten)"
   ]
  },
  {
   "cell_type": "code",
   "execution_count": null,
   "metadata": {},
   "outputs": [],
   "source": [
    "# inferred mixture probabilities (computed for each sentence)\n",
    "categ_topic_infer = tfd.Categorical(probs=prob_topic_infer)\n",
    "\n",
    "# prior of mixture probabilities (computed for each document, tiled for each sentence)\n",
    "categ_topic = tfd.Categorical(probs=prob_topic_sents)\n",
    "\n",
    "sent_loss_kl_categ = tf.reduce_mean(tfd.kl_divergence(categ_topic_infer, categ_topic))\n",
    "\n",
    "# inference of each gaussian gaussribution (computed for each sentence)\n",
    "\n",
    "sent_loss_kl_gauss = tf.reduce_sum(tfd.kl_divergence(gauss_topic_infer, gauss_topic), -1)\n",
    "sent_loss_kl_gmm = tf.reduce_mean(tf.reduce_sum(tf.multiply(prob_topic_infer, sent_loss_kl_gauss), -1))\n",
    "\n",
    "sent_loss_kl = sent_loss_kl_categ + sent_loss_kl_gmm"
   ]
  },
  {
   "cell_type": "code",
   "execution_count": null,
   "metadata": {},
   "outputs": [
    {
     "name": "stdout",
     "output_type": "stream",
     "text": [
      "Placeholder_4:0 : (10,)\n",
      "SequenceMask_1/Less:0 : (10, 8)\n",
      "Reshape:0 : (80,)\n"
     ]
    }
   ],
   "source": [
    "debug_shape([doc_l, mask_sents, mask_sents_flatten])"
   ]
  },
  {
   "cell_type": "code",
   "execution_count": null,
   "metadata": {},
   "outputs": [
    {
     "name": "stdout",
     "output_type": "stream",
     "text": [
      "Tile_1:0 : (10, 8, 10)\n",
      "Reshape_1:0 : (80, 10)\n",
      "boolean_mask/GatherV2:0 : (62, 10)\n",
      "sent/enc/dense/Softmax:0 : (62, 10)\n"
     ]
    }
   ],
   "source": [
    "debug_shape([prob_topic_tiled, prob_topic_flatten, prob_topic_sents, prob_topic_infer])"
   ]
  },
  {
   "cell_type": "code",
   "execution_count": null,
   "metadata": {},
   "outputs": [
    {
     "name": "stdout",
     "output_type": "stream",
     "text": [
      "SequenceMask_1/Less:0 : [[ True  True  True  True  True  True  True  True]\n",
      " [ True  True  True  True  True  True  True  True]\n",
      " [ True  True  True  True  True  True  True False]\n",
      " [ True  True  True  True  True  True  True False]\n",
      " [ True  True  True  True  True  True  True False]\n",
      " [ True  True  True  True  True  True False False]\n",
      " [ True  True  True  True  True  True False False]\n",
      " [ True  True  True  True  True False False False]\n",
      " [ True  True  True  True  True False False False]\n",
      " [ True  True  True False False False False False]]\n",
      "Reshape:0 : [ True  True  True  True  True  True  True  True  True  True  True  True\n",
      "  True  True  True  True  True  True  True  True  True  True  True False\n",
      "  True  True  True  True  True  True  True False  True  True  True  True\n",
      "  True  True  True False  True  True  True  True  True  True False False\n",
      "  True  True  True  True  True  True False False  True  True  True  True\n",
      "  True False False False  True  True  True  True  True False False False\n",
      "  True  True  True False False False False False]\n"
     ]
    }
   ],
   "source": [
    "debug_value([mask_sents, mask_sents_flatten])"
   ]
  },
  {
   "cell_type": "code",
   "execution_count": null,
   "metadata": {},
   "outputs": [
    {
     "name": "stdout",
     "output_type": "stream",
     "text": [
      "sent/enc/dense_5/BiasAdd:0 : (62, 10, 32)\n",
      "topic/enc/infer/dense_2/BiasAdd:0 : (10, 32)\n"
     ]
    }
   ],
   "source": [
    "debug_shape([means_topic_infer, means_topic])"
   ]
  },
  {
   "cell_type": "markdown",
   "metadata": {},
   "source": [
    "## optimizer"
   ]
  },
  {
   "cell_type": "code",
   "execution_count": null,
   "metadata": {},
   "outputs": [
    {
     "name": "stderr",
     "output_type": "stream",
     "text": [
      "/home/m-isonuma/.pyenv/versions/anaconda2-5.3.0/envs/py36/lib/python3.6/site-packages/tensorflow/python/ops/gradients_impl.py:112: UserWarning: Converting sparse IndexedSlices to a dense Tensor of unknown shape. This may consume a large amount of memory.\n",
      "  \"Converting sparse IndexedSlices to a dense Tensor of unknown shape. \"\n"
     ]
    }
   ],
   "source": [
    "beta = tf.Variable(config.beta, name='beta', trainable=False) if config.warmup > 0 else tf.constant(1., name='beta')\n",
    "update_beta = tf.assign_add(beta, 1./(config.warmup*len(train_batches)))\n",
    "sent_loss = sent_loss_recon + beta * sent_loss_kl\n",
    "\n",
    "topic_loss = topic_loss_recon + topic_loss_kl + config.reg * topic_loss_reg\n",
    "loss = topic_loss + sent_loss\n",
    "\n",
    "# define optimizer\n",
    "if config.opt == 'Adam':\n",
    "    optimizer = tf.train.AdamOptimizer(config.lr)\n",
    "elif config.opt == 'Adagrad':\n",
    "    optimizer = tf.train.AdagradOptimizer(config.lr)\n",
    "    \n",
    "grad_vars = optimizer.compute_gradients(loss)\n",
    "clipped_grad_vars = [(tf.clip_by_value(grad, -config.grad_clip, config.grad_clip), var) for grad, var in grad_vars]\n",
    "\n",
    "opt = optimizer.apply_gradients(clipped_grad_vars)"
   ]
  },
  {
   "cell_type": "markdown",
   "metadata": {},
   "source": [
    "# run model "
   ]
  },
  {
   "cell_type": "code",
   "execution_count": null,
   "metadata": {},
   "outputs": [],
   "source": [
    "def idxs_to_sents(token_idxs, config, idx_to_word):\n",
    "    sents = []\n",
    "    for sent_idxs in token_idxs:\n",
    "        tokens = []\n",
    "        for idx in sent_idxs:\n",
    "            if idx == config.EOS_IDX: break\n",
    "            tokens.append(idx_to_word[idx])\n",
    "        sent = ' '.join(tokens)\n",
    "        sents.append(sent)\n",
    "    return sents"
   ]
  },
  {
   "cell_type": "code",
   "execution_count": null,
   "metadata": {},
   "outputs": [],
   "source": [
    "def get_loss(sess, batches):\n",
    "    losses = []\n",
    "    ppl_list = []\n",
    "    for ct, batch in batches:\n",
    "        feed_dict = get_feed_dict(batch, mode='test')\n",
    "        loss_batch, topic_loss_batch, sent_loss_batch, ppls_batch = sess.run([loss, topic_loss, sent_loss, topic_ppls], feed_dict = feed_dict)\n",
    "        losses += [[loss_batch, topic_loss_batch, sent_loss_batch]]\n",
    "        ppl_list += list(ppls_batch)\n",
    "    loss_mean, topic_loss_mean, sent_loss_mean = np.mean(losses, 0)\n",
    "    ppl_mean = np.exp(np.mean(ppl_list))\n",
    "    return loss_mean, topic_loss_mean, sent_loss_mean, ppl_mean\n",
    "\n",
    "def get_all_losses(sess, batches):\n",
    "    losses = []\n",
    "    for ct, batch in batches:\n",
    "        feed_dict = get_feed_dict(batch, mode='test')\n",
    "        loss_batch, topic_loss_recon_batch, topic_loss_kl_batch, sent_loss_recon_batch, sent_loss_kl_batch = \\\n",
    "        sess.run([loss, topic_loss_recon, topic_loss_kl, sent_loss_recon, sent_loss_kl], feed_dict = feed_dict)\n",
    "        losses += [[loss_batch, topic_loss_recon_batch, topic_loss_kl_batch, sent_loss_recon_batch, sent_loss_kl_batch]]\n",
    "    print('LOSS %.2f | TM NLL: %.2f, KL: %.4f | LM NLL: %.2f, KL: %.4f' %  np.mean(losses, 0))"
   ]
  },
  {
   "cell_type": "code",
   "execution_count": null,
   "metadata": {},
   "outputs": [],
   "source": [
    "def print_sample(sample_batch):\n",
    "    feed_dict = get_feed_dict(sample_batch)\n",
    "    pred_token_idxs = sess.run(output_token_idxs, feed_dict = feed_dict)\n",
    "    true_token_idxs = [sent_idxs for instance in sample_batch for sent_idxs in instance.token_idxs]\n",
    "    \n",
    "    assert len(pred_token_idxs) == len(true_token_idxs)\n",
    "    \n",
    "    pred_sents = idxs_to_sents(pred_token_idxs, config, idx_to_word)\n",
    "    true_sents = idxs_to_sents(true_token_idxs, config, idx_to_word)\n",
    "    \n",
    "    for true_sent, pred_sent in zip(true_sents, pred_sents):        \n",
    "        print('True: %s' % true_sent)\n",
    "        print('Pred: %s' % pred_sent)"
   ]
  },
  {
   "cell_type": "code",
   "execution_count": null,
   "metadata": {
    "scrolled": true
   },
   "outputs": [],
   "source": [
    "if 'sess' in globals(): sess.close()\n",
    "sess = tf.Session()\n",
    "\n",
    "sess.run(tf.global_variables_initializer())\n",
    "\n",
    "logs = []\n",
    "losses_train = []\n",
    "ppls_train = []\n",
    "loss_min = np.inf\n",
    "beta_eval = 1.\n",
    "epoch = 0"
   ]
  },
  {
   "cell_type": "code",
   "execution_count": null,
   "metadata": {
    "scrolled": false
   },
   "outputs": [
    {
     "name": "stdout",
     "output_type": "stream",
     "text": [
      "007[s], 06[s], Ep: 00, Ct: 00000|TR LOSS: 398, PPL: 2663|TM NLL: 387, KL: 0.75 | LM NLL: 10.34, KL: 0.60|DE LOSS: 347, PPL: 2656, TM: 337, LM: 10.34|BETA: 0.001000\n",
      "065[s], 06[s], Ep: 00, Ct: 00500|TR LOSS: 326, PPL: 1675|TM NLL: 318, KL: 0.60 | LM NLL: 7.41, KL: 19.54|DE LOSS: 319, PPL: 1471, TM: 312, LM: 6.83|BETA: 0.001035\n",
      "True: an # year old woman has been given # years in prison after pleading guilty to fatally stabbing a # year old man outside the hamburg post office in november\n",
      "Pred: the the a a a # a a a # # the # the # the # the # #\n",
      "True: iowa court records say jennifer tierney , of hamburg , had been charged with second degree murder for killing douglas brake , of sidney\n",
      "Pred: the the the the a a a a the a a the # # # #\n",
      "True: after making a deal with prosecutors , tierney pleaded guilty to voluntary manslaughter and going armed with intent\n",
      "Pred: the the the of the the # the the # #\n",
      "True: at sentencing last week , tierney was given # years for the manslaughter and five years for the other charge\n",
      "Pred: the the a the a the a a # # # # # #\n",
      "True: the sentences are to be served consecutively\n",
      "Pred: the the the the\n",
      "True: in addition , accomplice <unk> binder , of lawton , was given probation\n",
      "Pred: the the the the a a # the #\n",
      "True: the # year year old had pleaded guilty to two charges : accessory after the fact and going armed with intent\n",
      "Pred: the the the the a a the the the # # the # # #\n",
      "True: authorities say binder hid the knife that tierney used to kill brake\n",
      "Pred: the the the the # # #\n",
      "True: gov . pat quinn has appointed the executive director of the cook county sheriff 's department of corrections to head the state 's department of corrections\n",
      "Pred: the the the the a a a the a # # the a # # # #\n",
      "True: quinn announced monday that salvador `` tony `` godinez would take the job permanently\n",
      "Pred: the the the of a # a # the #\n",
      "True: he replaces acting director <unk> taylor\n",
      "Pred: the the the the\n",
      "True: taylor was named the $ # acting director of corrections in september when michael randle resigned\n",
      "Pred: the the the a the the the the the #\n",
      "True: before randle resigned a report found the department of corrections failed to consider possible dangers to the public when it granted early release to prisoners , some of whom were violent\n",
      "Pred: the the the a the a a a a a a a a # the # # of\n",
      "True: the program was an effort to save money\n",
      "Pred: the the the a #\n",
      "True: godinez has worked in the correctional system for # years\n",
      "Pred: the the the the the the #\n",
      "True: he was a warden of <unk> correctional center and is a former chief of operations and chief of staff at state department of corrections\n",
      "Pred: the the the the a a a a the a the # a #\n",
      "True: consolidation is paying off for taxpayers following the merger of princeton and princeton township\n",
      "Pred: the the the the the a the #\n",
      "True: the new town introduced a $ # million budget monday night that is about $ # million less than what the two towns spent in #\n",
      "Pred: the the the a a # a the a # # a # # # #\n",
      "True: the municipal tax rate will decrease from roughly # cents per $ # of assessed property value last year to # cents per $ #\n",
      "Pred: the the the # a a a a the a # the # # #\n",
      "True: princeton administrator bob <unk> tells the times of trenton ( http : //bit.ly/ # <unk> ) the town is paying less in # than in #\n",
      "Pred: the the the the a a the # a a # # # #\n",
      "True: the town is paying $ # more for trash pickup\n",
      "Pred: the the the the the # the\n",
      "True: however , expenses dropped by about $ # million , mainly from savings in insurance benefits and police\n",
      "Pred: the the the the the a a the the # # #\n",
      "True: supporters said the merger would save money , reduce public employees and maximize services\n",
      "Pred: the the the the # a the #\n",
      "True: it appears the `` bad hair bandit `` is heading east\n",
      "Pred: the the the the the # #\n",
      "True: the spokesman review reports a robber matching her description held up a spokane bank monday\n",
      "Pred: the the the the the a # the a #\n",
      "True: tellers told police her dark brown hair with bangs could have been a wig\n",
      "Pred: the the the the the # # # #\n",
      "True: the robber is known for wearing a variety of wigs in a series of # bank holdups that began in december in the tacoma area\n",
      "Pred: the the the the the a # a a a # the # # # the\n",
      "True: she also is believed to be responsible for holdups last month at banks in ellensburg and moses lake\n",
      "Pred: the the the the # # # # # #\n",
      "True: the robber also usually wears a hoodie and glasses\n",
      "Pred: the the the the # #\n",
      "True: she gives tellers a note , saying she is armed and demanding cash\n",
      "Pred: the the the the the # #\n",
      "True: the mississippi senate has voted to make texting a driving a crime\n",
      "Pred: the the the a a a a #\n",
      "True: but not much of one\n",
      "Pred: the the the the #\n",
      "True: senate bill # says anyone caught sending a text message or checking a social media site while driving can be charged with careless driving\n",
      "Pred: the the the a a a a # # a # # #\n",
      "True: conviction would carry a fine of anywhere from $ # to $ #\n",
      "Pred: the the the # # # the the\n",
      "True: the bill passed the senate on wednesday and moves to the house for more debate\n",
      "Pred: the the the the the the # # #\n",
      "True: senate bill # : http : //bit.ly/ #\n",
      "Pred: the the the # # the\n",
      "True: the man suspected of driving the car that struck and killed a # year old pedestrian has turned himself in to st. paul police\n",
      "Pred: the the the the the a a a # a # of #\n",
      "True: police say the # year old man was taken into custody without incident at police headquarters just after # a.m. friday\n",
      "Pred: the the the the the the # a the the # #\n",
      "True: the suspect was to be booked into the ramsey county law enforcement center\n",
      "Pred: the the the the the the the #\n",
      "True: he has not been charged\n",
      "Pred: the the the the\n",
      "True: police had been looking for the suspect since # year old roger <unk> ( tee ' too ) was struck and killed crossing a street near his home tuesday afternoon\n",
      "Pred: the the a a a a the a the a # a a # the the # # # #\n",
      "True: officers found the car suspected in the hit and run shortly afterward in a nearby alley\n",
      "Pred: the the the the the a the # # # #\n",
      "True: police in williston reported a # percent jump in calls for service last year as oil activity created an influx of people\n",
      "Pred: the the the the the the the a # a # the # the\n",
      "True: the department received # calls for service in # , compared to # calls in #\n",
      "Pred: the the the the the the # # #\n",
      "True: police chief jim <unk> tells the williston herald that it 's a heck of a jump , but he says added population brings more activity\n",
      "Pred: the the the the a the # a a # # a a the # # #\n",
      "True: he says calls for service could mean ticketing a car in front of someone 's house , a welfare check , shots fired or anything else that requires police to respond\n",
      "Pred: the the the a a the a a a a a a # the a the the # #\n",
      "True: <unk> says help is on the way\n",
      "Pred: the the the the the #\n",
      "True: a new code compliance officer will start working in the next week , and three new officers will complete training and be on the street by summer\n",
      "Pred: the the the the a # the # a the the # # # #\n",
      "True: police say a driver error caused a fatal bus crash that killed nine people and left # injured in southern albania\n",
      "Pred: the the the a a a the a a the # # #\n",
      "True: the bus plunged down a # foot ( # meter ) cliff late monday night as it traveled from the albanian capital to greece\n",
      "Pred: the the the a a a the # the the the # #\n",
      "True: police said tuesday the driver lost control of the vehicle before the crash\n",
      "Pred: the the a the a # # # #\n",
      "True: they said the bus did not have mechanical problems\n",
      "Pred: the the the the #\n",
      "True: two of the injured who are in a serious condition have been sent for treatment at a hospital in the northern greek city of <unk> , while another # were still being treated in hospitals in albania\n",
      "Pred: the the the a a a a a the the a a a the a the the # # # # # #\n",
      "True: harry shearer , the voice of more than # characters on the animated tv series `` the <unk> , `` will discuss his career at a loyola university forum on april #\n",
      "Pred: the the a a a the a a a a the # # # # # the a of\n",
      "True: the discussion will be at # p.m. in the <unk> auditorium in monroe hall\n",
      "Pred: the the the # the # # #\n",
      "True: it is free and open to the public\n",
      "Pred: the the the # the #\n",
      "True: shearer made his first screen appearance in `` abbott and costello go to mars , `` the # movie starring the comedy team that used mardi gras in new orleans as part of its backdrop\n",
      "Pred: the the the the the a # the a a # a the # the # a #\n",
      "True: his discussion is part of a series on the arts and entrepreneurship offered by the university\n",
      "Pred: the the the the the a a # # the #\n",
      "True: gov . andrew cuomo has announced a long island travel ban starting at # p.m. monday\n",
      "Pred: the the the a the a the # a #\n",
      "True: the roads will only be open for emergency vehicles\n",
      "Pred: the the the the # #\n",
      "True: cuomo made the remarks during a storm briefing with local officials in melville on long island\n",
      "Pred: the the the the the the the # #\n",
      "True: mayor bill de blasio previously announced that new york city 's streets will be closed at # p.m. except for emergency vehicles\n",
      "Pred: the the the a the # a a # # # # #\n"
     ]
    }
   ],
   "source": [
    "time_start = time.time()\n",
    "for epoch in range(config.epochs):\n",
    "    for ct, batch in train_batches:\n",
    "        feed_dict = get_feed_dict(batch)\n",
    "        if config.warmup > 0 and beta_eval < 1.0: sess.run(update_beta)\n",
    "\n",
    "        _, loss_batch, topic_loss_recon_batch, topic_loss_kl_batch, sent_loss_recon_batch, sent_loss_kl_batch, ppls_batch = \\\n",
    "        sess.run([opt, loss, topic_loss_recon, topic_loss_kl, sent_loss_recon, sent_loss_kl, topic_ppls], feed_dict = feed_dict)\n",
    "\n",
    "        losses_train += [[loss_batch, topic_loss_recon_batch, topic_loss_kl_batch, sent_loss_recon_batch, sent_loss_kl_batch]]\n",
    "        ppls_train += list(ppls_batch)\n",
    "\n",
    "        if ct%config.log_period==0:\n",
    "            time_dev = time.time()\n",
    "            loss_train, topic_loss_recon_train, topic_loss_kl_train, sent_loss_recon_train, sent_loss_kl_train = np.mean(losses_train, 0)\n",
    "            ppl_train = np.exp(np.mean(ppls_train))\n",
    "            loss_dev, topic_loss_dev, sent_loss_dev, ppl_dev = get_loss(sess, dev_batches)\n",
    "\n",
    "            if config.warmup > 0: beta_eval = beta.eval(session=sess)\n",
    "\n",
    "            clear_output()\n",
    "            time_finish = time.time()\n",
    "            time_log = int(time_finish - time_start)\n",
    "            time_log_dev = int(time_finish - time_dev)\n",
    "            logs += [(time_log, time_log_dev, epoch, ct, loss_train, ppl_train, topic_loss_recon_train, topic_loss_kl_train, sent_loss_recon_train, sent_loss_kl_train, loss_dev, ppl_dev, topic_loss_dev, sent_loss_dev, beta_eval)]\n",
    "            for log in logs:\n",
    "                print('%03d[s], %02d[s], Ep: %02d, Ct: %05d|TR LOSS: %.0f, PPL: %.0f|TM NLL: %.0f, KL: %.2f | LM NLL: %.2f, KL: %.2f|DE LOSS: %.0f, PPL: %.0f, TM: %.0f, LM: %.2f|BETA: %.6f' %  log)\n",
    "\n",
    "            print_sample(batch)\n",
    "\n",
    "            time_start = time.time()"
   ]
  },
  {
   "cell_type": "code",
   "execution_count": 34,
   "metadata": {},
   "outputs": [
    {
     "name": "stdout",
     "output_type": "stream",
     "text": [
      "007[s], 06[s], Ep: 00, Ct: 00000|TR LOSS: 398, PPL: 2663|TM NLL: 387, KL: 0.75 | LM NLL: 10.34, KL: 0.60|DE LOSS: 347, PPL: 2656, TM: 337, LM: 10.34|BETA: 0.001000\n",
      "065[s], 06[s], Ep: 00, Ct: 00500|TR LOSS: 326, PPL: 1675|TM NLL: 318, KL: 0.60 | LM NLL: 7.41, KL: 19.54|DE LOSS: 319, PPL: 1471, TM: 312, LM: 6.83|BETA: 0.001035\n",
      "065[s], 06[s], Ep: 00, Ct: 01000|TR LOSS: 324, PPL: 1530|TM NLL: 315, KL: 1.43 | LM NLL: 7.12, KL: 16.75|DE LOSS: 316, PPL: 1349, TM: 309, LM: 6.76|BETA: 0.001069\n",
      "066[s], 06[s], Ep: 00, Ct: 01500|TR LOSS: 323, PPL: 1468|TM NLL: 314, KL: 1.79 | LM NLL: 7.01, KL: 14.90|DE LOSS: 315, PPL: 1321, TM: 309, LM: 6.67|BETA: 0.001104\n",
      "066[s], 06[s], Ep: 00, Ct: 02000|TR LOSS: 322, PPL: 1421|TM NLL: 313, KL: 2.04 | LM NLL: 6.93, KL: 13.92|DE LOSS: 313, PPL: 1252, TM: 307, LM: 6.58|BETA: 0.001139\n",
      "066[s], 06[s], Ep: 00, Ct: 02500|TR LOSS: inf, PPL: 1387|TM NLL: 312, KL: 2.29 | LM NLL: 6.89, KL: inf|DE LOSS: 313, PPL: 1246, TM: 306, LM: 6.66|BETA: 0.001173\n",
      "052[s], 06[s], Ep: 01, Ct: 00000|TR LOSS: inf, PPL: 1361|TM NLL: 311, KL: 2.42 | LM NLL: 6.86, KL: inf|DE LOSS: 312, PPL: 1203, TM: 305, LM: 6.65|BETA: 0.001200\n",
      "066[s], 06[s], Ep: 01, Ct: 00500|TR LOSS: inf, PPL: 1333|TM NLL: 310, KL: 2.56 | LM NLL: 6.84, KL: inf|DE LOSS: 311, PPL: 1159, TM: 304, LM: 6.60|BETA: 0.001235\n",
      "066[s], 06[s], Ep: 01, Ct: 01000|TR LOSS: inf, PPL: 1308|TM NLL: 309, KL: 2.68 | LM NLL: 6.81, KL: inf|DE LOSS: 310, PPL: 1141, TM: 303, LM: 6.57|BETA: 0.001269\n",
      "066[s], 06[s], Ep: 01, Ct: 01500|TR LOSS: inf, PPL: 1288|TM NLL: 309, KL: 2.76 | LM NLL: 6.79, KL: inf|DE LOSS: 309, PPL: 1121, TM: 302, LM: 6.51|BETA: 0.001304\n",
      "066[s], 06[s], Ep: 01, Ct: 02000|TR LOSS: inf, PPL: 1269|TM NLL: 308, KL: 2.82 | LM NLL: 6.76, KL: inf|DE LOSS: 308, PPL: 1104, TM: 302, LM: 6.46|BETA: 0.001339\n",
      "066[s], 06[s], Ep: 01, Ct: 02500|TR LOSS: inf, PPL: 1251|TM NLL: 307, KL: 2.90 | LM NLL: 6.74, KL: inf|DE LOSS: 308, PPL: 1090, TM: 301, LM: 6.42|BETA: 0.001374\n",
      "052[s], 06[s], Ep: 02, Ct: 00000|TR LOSS: inf, PPL: 1239|TM NLL: 307, KL: 2.93 | LM NLL: 6.72, KL: inf|DE LOSS: 308, PPL: 1099, TM: 301, LM: 6.37|BETA: 0.001400\n",
      "066[s], 06[s], Ep: 02, Ct: 00500|TR LOSS: inf, PPL: 1226|TM NLL: 307, KL: 2.97 | LM NLL: 6.69, KL: inf|DE LOSS: 307, PPL: 1071, TM: 301, LM: 6.34|BETA: 0.001435\n",
      "066[s], 06[s], Ep: 02, Ct: 01000|TR LOSS: inf, PPL: 1214|TM NLL: 306, KL: 3.00 | LM NLL: 6.67, KL: inf|DE LOSS: 307, PPL: 1077, TM: 301, LM: 6.29|BETA: 0.001470\n",
      "066[s], 06[s], Ep: 02, Ct: 01500|TR LOSS: inf, PPL: 1205|TM NLL: 306, KL: 3.03 | LM NLL: 6.65, KL: inf|DE LOSS: 307, PPL: 1070, TM: 300, LM: 6.24|BETA: 0.001504\n",
      "066[s], 06[s], Ep: 02, Ct: 02000|TR LOSS: inf, PPL: 1196|TM NLL: 306, KL: 3.05 | LM NLL: 6.62, KL: inf|DE LOSS: 307, PPL: 1063, TM: 300, LM: 6.20|BETA: 0.001539\n",
      "066[s], 06[s], Ep: 02, Ct: 02500|TR LOSS: inf, PPL: 1186|TM NLL: 305, KL: 3.08 | LM NLL: 6.60, KL: inf|DE LOSS: 306, PPL: 1064, TM: 300, LM: 6.16|BETA: 0.001574\n",
      "052[s], 06[s], Ep: 03, Ct: 00000|TR LOSS: inf, PPL: 1180|TM NLL: 305, KL: 3.09 | LM NLL: 6.58, KL: inf|DE LOSS: 306, PPL: 1062, TM: 300, LM: 6.14|BETA: 0.001600\n",
      "066[s], 06[s], Ep: 03, Ct: 00500|TR LOSS: inf, PPL: 1173|TM NLL: 305, KL: 3.11 | LM NLL: 6.56, KL: inf|DE LOSS: 306, PPL: 1051, TM: 300, LM: 6.11|BETA: 0.001635\n",
      "066[s], 06[s], Ep: 03, Ct: 01000|TR LOSS: inf, PPL: 1166|TM NLL: 304, KL: 3.13 | LM NLL: 6.54, KL: inf|DE LOSS: 306, PPL: 1056, TM: 300, LM: 6.10|BETA: 0.001670\n",
      "066[s], 06[s], Ep: 03, Ct: 01500|TR LOSS: inf, PPL: 1161|TM NLL: 304, KL: 3.15 | LM NLL: 6.52, KL: inf|DE LOSS: 306, PPL: 1044, TM: 300, LM: 6.03|BETA: 0.001704\n",
      "066[s], 06[s], Ep: 03, Ct: 02000|TR LOSS: inf, PPL: 1155|TM NLL: 304, KL: 3.17 | LM NLL: 6.50, KL: inf|DE LOSS: 306, PPL: 1050, TM: 300, LM: 6.00|BETA: 0.001739\n",
      "066[s], 06[s], Ep: 03, Ct: 02500|TR LOSS: inf, PPL: 1149|TM NLL: 304, KL: 3.19 | LM NLL: 6.48, KL: inf|DE LOSS: 306, PPL: 1045, TM: 300, LM: 5.97|BETA: 0.001774\n",
      "052[s], 06[s], Ep: 04, Ct: 00000|TR LOSS: inf, PPL: 1145|TM NLL: 304, KL: 3.20 | LM NLL: 6.46, KL: inf|DE LOSS: 306, PPL: 1044, TM: 300, LM: 5.95|BETA: 0.001800\n",
      "067[s], 06[s], Ep: 04, Ct: 00500|TR LOSS: inf, PPL: 1141|TM NLL: 304, KL: 3.21 | LM NLL: 6.44, KL: inf|DE LOSS: 306, PPL: 1041, TM: 300, LM: 5.92|BETA: 0.001835\n",
      "066[s], 06[s], Ep: 04, Ct: 01000|TR LOSS: inf, PPL: 1136|TM NLL: 303, KL: 3.23 | LM NLL: 6.42, KL: inf|DE LOSS: 305, PPL: 1043, TM: 300, LM: 5.90|BETA: 0.001870\n",
      "068[s], 06[s], Ep: 04, Ct: 01500|TR LOSS: inf, PPL: 1133|TM NLL: 303, KL: 3.24 | LM NLL: 6.41, KL: inf|DE LOSS: 305, PPL: 1038, TM: 299, LM: 5.88|BETA: 0.001904\n",
      "070[s], 07[s], Ep: 04, Ct: 02000|TR LOSS: inf, PPL: 1129|TM NLL: 303, KL: 3.25 | LM NLL: 6.39, KL: inf|DE LOSS: 305, PPL: 1037, TM: 299, LM: 5.85|BETA: 0.001939\n",
      "070[s], 07[s], Ep: 04, Ct: 02500|TR LOSS: inf, PPL: 1125|TM NLL: 303, KL: 3.27 | LM NLL: 6.37, KL: inf|DE LOSS: 305, PPL: 1036, TM: 299, LM: 5.82|BETA: 0.001974\n",
      "055[s], 07[s], Ep: 05, Ct: 00000|TR LOSS: inf, PPL: 1122|TM NLL: 303, KL: 3.28 | LM NLL: 6.36, KL: inf|DE LOSS: 305, PPL: 1038, TM: 300, LM: 5.81|BETA: 0.002001\n",
      "072[s], 07[s], Ep: 05, Ct: 00500|TR LOSS: inf, PPL: 1119|TM NLL: 303, KL: 3.29 | LM NLL: 6.34, KL: inf|DE LOSS: 305, PPL: 1032, TM: 299, LM: 5.81|BETA: 0.002035\n",
      "071[s], 07[s], Ep: 05, Ct: 01000|TR LOSS: inf, PPL: 1115|TM NLL: 303, KL: 3.30 | LM NLL: 6.32, KL: inf|DE LOSS: 305, PPL: 1033, TM: 299, LM: 5.79|BETA: 0.002070\n",
      "072[s], 07[s], Ep: 05, Ct: 01500|TR LOSS: inf, PPL: 1113|TM NLL: 303, KL: 3.31 | LM NLL: 6.31, KL: inf|DE LOSS: 305, PPL: 1031, TM: 299, LM: 5.74|BETA: 0.002105\n",
      "071[s], 06[s], Ep: 05, Ct: 02000|TR LOSS: inf, PPL: 1110|TM NLL: 302, KL: 3.32 | LM NLL: 6.29, KL: inf|DE LOSS: 305, PPL: 1026, TM: 299, LM: 5.73|BETA: 0.002139\n",
      "072[s], 07[s], Ep: 05, Ct: 02500|TR LOSS: inf, PPL: 1107|TM NLL: 302, KL: 3.33 | LM NLL: 6.28, KL: inf|DE LOSS: 305, PPL: 1031, TM: 299, LM: 5.71|BETA: 0.002174\n",
      "057[s], 07[s], Ep: 06, Ct: 00000|TR LOSS: inf, PPL: 1105|TM NLL: 302, KL: 3.34 | LM NLL: 6.27, KL: inf|DE LOSS: 305, PPL: 1032, TM: 299, LM: 5.69|BETA: 0.002201\n",
      "076[s], 07[s], Ep: 06, Ct: 00500|TR LOSS: inf, PPL: 1102|TM NLL: 302, KL: 3.35 | LM NLL: 6.25, KL: inf|DE LOSS: 305, PPL: 1023, TM: 299, LM: 5.67|BETA: 0.002235\n",
      "077[s], 07[s], Ep: 06, Ct: 01000|TR LOSS: inf, PPL: 1100|TM NLL: 302, KL: 3.36 | LM NLL: 6.24, KL: inf|DE LOSS: 305, PPL: 1026, TM: 299, LM: 5.66|BETA: 0.002270\n",
      "077[s], 07[s], Ep: 06, Ct: 01500|TR LOSS: inf, PPL: 1098|TM NLL: 302, KL: 3.37 | LM NLL: 6.22, KL: inf|DE LOSS: 305, PPL: 1020, TM: 299, LM: 5.64|BETA: 0.002305\n",
      "077[s], 07[s], Ep: 06, Ct: 02000|TR LOSS: inf, PPL: 1096|TM NLL: 302, KL: 3.38 | LM NLL: 6.21, KL: inf|DE LOSS: 305, PPL: 1018, TM: 299, LM: 5.62|BETA: 0.002339\n",
      "076[s], 08[s], Ep: 06, Ct: 02500|TR LOSS: inf, PPL: 1093|TM NLL: 302, KL: 3.38 | LM NLL: 6.20, KL: inf|DE LOSS: 304, PPL: 1021, TM: 299, LM: 5.61|BETA: 0.002374\n",
      "061[s], 07[s], Ep: 07, Ct: 00000|TR LOSS: inf, PPL: 1091|TM NLL: 302, KL: 3.39 | LM NLL: 6.19, KL: inf|DE LOSS: 305, PPL: 1024, TM: 299, LM: 5.60|BETA: 0.002401\n",
      "077[s], 07[s], Ep: 07, Ct: 00500|TR LOSS: inf, PPL: 1089|TM NLL: 302, KL: 3.40 | LM NLL: 6.17, KL: inf|DE LOSS: 305, PPL: 1019, TM: 299, LM: 5.59|BETA: 0.002435\n",
      "077[s], 07[s], Ep: 07, Ct: 01000|TR LOSS: inf, PPL: 1087|TM NLL: 302, KL: 3.41 | LM NLL: 6.16, KL: inf|DE LOSS: 304, PPL: 1017, TM: 299, LM: 5.57|BETA: 0.002470\n",
      "077[s], 07[s], Ep: 07, Ct: 01500|TR LOSS: inf, PPL: 1086|TM NLL: 302, KL: 3.42 | LM NLL: 6.15, KL: inf|DE LOSS: 304, PPL: 1014, TM: 299, LM: 5.56|BETA: 0.002505\n",
      "077[s], 07[s], Ep: 07, Ct: 02000|TR LOSS: inf, PPL: 1084|TM NLL: 301, KL: 3.42 | LM NLL: 6.14, KL: inf|DE LOSS: 304, PPL: 1017, TM: 299, LM: 5.54|BETA: 0.002539\n",
      "077[s], 07[s], Ep: 07, Ct: 02500|TR LOSS: inf, PPL: 1082|TM NLL: 301, KL: 3.43 | LM NLL: 6.12, KL: inf|DE LOSS: 304, PPL: 1017, TM: 299, LM: 5.54|BETA: 0.002574\n",
      "060[s], 07[s], Ep: 08, Ct: 00000|TR LOSS: inf, PPL: 1081|TM NLL: 301, KL: 3.44 | LM NLL: 6.12, KL: inf|DE LOSS: 304, PPL: 1021, TM: 299, LM: 5.53|BETA: 0.002601\n",
      "077[s], 07[s], Ep: 08, Ct: 00500|TR LOSS: inf, PPL: 1079|TM NLL: 301, KL: 3.44 | LM NLL: 6.10, KL: inf|DE LOSS: 304, PPL: 1011, TM: 299, LM: 5.51|BETA: 0.002636\n",
      "077[s], 07[s], Ep: 08, Ct: 01000|TR LOSS: inf, PPL: 1077|TM NLL: 301, KL: 3.45 | LM NLL: 6.09, KL: inf|DE LOSS: 304, PPL: 1015, TM: 299, LM: 5.51|BETA: 0.002670\n",
      "077[s], 07[s], Ep: 08, Ct: 01500|TR LOSS: inf, PPL: 1076|TM NLL: 301, KL: 3.46 | LM NLL: 6.08, KL: inf|DE LOSS: 304, PPL: 1015, TM: 299, LM: 5.49|BETA: 0.002705\n",
      "077[s], 07[s], Ep: 08, Ct: 02000|TR LOSS: inf, PPL: 1075|TM NLL: 301, KL: 3.46 | LM NLL: 6.07, KL: inf|DE LOSS: 304, PPL: 1015, TM: 299, LM: 5.48|BETA: 0.002740\n",
      "077[s], 07[s], Ep: 08, Ct: 02500|TR LOSS: inf, PPL: 1073|TM NLL: 301, KL: 3.47 | LM NLL: 6.06, KL: inf|DE LOSS: 304, PPL: 1014, TM: 299, LM: 5.47|BETA: 0.002774\n",
      "061[s], 07[s], Ep: 09, Ct: 00000|TR LOSS: inf, PPL: 1072|TM NLL: 301, KL: 3.47 | LM NLL: 6.05, KL: inf|DE LOSS: 304, PPL: 1013, TM: 299, LM: 5.46|BETA: 0.002801\n",
      "077[s], 07[s], Ep: 09, Ct: 00500|TR LOSS: inf, PPL: 1070|TM NLL: 301, KL: 3.48 | LM NLL: 6.04, KL: inf|DE LOSS: 304, PPL: 1013, TM: 299, LM: 5.45|BETA: 0.002836\n",
      "077[s], 07[s], Ep: 09, Ct: 01000|TR LOSS: inf, PPL: 1069|TM NLL: 301, KL: 3.49 | LM NLL: 6.03, KL: inf|DE LOSS: 304, PPL: 1011, TM: 299, LM: 5.44|BETA: 0.002870\n",
      "077[s], 07[s], Ep: 09, Ct: 01500|TR LOSS: inf, PPL: 1068|TM NLL: 301, KL: 3.49 | LM NLL: 6.02, KL: inf|DE LOSS: 304, PPL: 1012, TM: 299, LM: 5.43|BETA: 0.002905\n",
      "077[s], 07[s], Ep: 09, Ct: 02000|TR LOSS: inf, PPL: 1067|TM NLL: 301, KL: 3.50 | LM NLL: 6.01, KL: inf|DE LOSS: 304, PPL: 1011, TM: 299, LM: 5.42|BETA: 0.002940\n",
      "076[s], 07[s], Ep: 09, Ct: 02500|TR LOSS: inf, PPL: 1065|TM NLL: 301, KL: 3.50 | LM NLL: 6.00, KL: inf|DE LOSS: 304, PPL: 1009, TM: 299, LM: 5.42|BETA: 0.002974\n",
      "061[s], 07[s], Ep: 10, Ct: 00000|TR LOSS: inf, PPL: 1064|TM NLL: 301, KL: 3.51 | LM NLL: 6.00, KL: inf|DE LOSS: 304, PPL: 1009, TM: 299, LM: 5.41|BETA: 0.003001\n",
      "077[s], 07[s], Ep: 10, Ct: 00500|TR LOSS: inf, PPL: 1063|TM NLL: 301, KL: 3.51 | LM NLL: 5.99, KL: inf|DE LOSS: 304, PPL: 1012, TM: 299, LM: 5.40|BETA: 0.003036\n",
      "077[s], 07[s], Ep: 10, Ct: 01000|TR LOSS: inf, PPL: 1062|TM NLL: 301, KL: 3.52 | LM NLL: 5.98, KL: inf|DE LOSS: 304, PPL: 1008, TM: 299, LM: 5.39|BETA: 0.003070\n",
      "077[s], 07[s], Ep: 10, Ct: 01500|TR LOSS: inf, PPL: 1061|TM NLL: 301, KL: 3.52 | LM NLL: 5.97, KL: inf|DE LOSS: 304, PPL: 1010, TM: 299, LM: 5.38|BETA: 0.003105\n",
      "077[s], 07[s], Ep: 10, Ct: 02000|TR LOSS: inf, PPL: 1060|TM NLL: 301, KL: 3.53 | LM NLL: 5.96, KL: inf|DE LOSS: 304, PPL: 1006, TM: 298, LM: 5.37|BETA: 0.003140\n",
      "077[s], 07[s], Ep: 10, Ct: 02500|TR LOSS: inf, PPL: 1059|TM NLL: 300, KL: 3.53 | LM NLL: 5.95, KL: inf|DE LOSS: 304, PPL: 1011, TM: 299, LM: 5.37|BETA: 0.003174\n",
      "061[s], 08[s], Ep: 11, Ct: 00000|TR LOSS: inf, PPL: 1058|TM NLL: 300, KL: 3.54 | LM NLL: 5.94, KL: inf|DE LOSS: 304, PPL: 1010, TM: 299, LM: 5.37|BETA: 0.003201\n",
      "077[s], 07[s], Ep: 11, Ct: 00500|TR LOSS: inf, PPL: 1057|TM NLL: 300, KL: 3.54 | LM NLL: 5.94, KL: inf|DE LOSS: 304, PPL: 1004, TM: 299, LM: 5.36|BETA: 0.003236\n",
      "077[s], 07[s], Ep: 11, Ct: 01000|TR LOSS: inf, PPL: 1056|TM NLL: 300, KL: 3.54 | LM NLL: 5.93, KL: inf|DE LOSS: 304, PPL: 1007, TM: 299, LM: 5.35|BETA: 0.003271\n",
      "077[s], 07[s], Ep: 11, Ct: 01500|TR LOSS: inf, PPL: 1056|TM NLL: 300, KL: 3.55 | LM NLL: 5.92, KL: inf|DE LOSS: 304, PPL: 1005, TM: 298, LM: 5.34|BETA: 0.003305\n",
      "077[s], 07[s], Ep: 11, Ct: 02000|TR LOSS: inf, PPL: 1055|TM NLL: 300, KL: 3.55 | LM NLL: 5.91, KL: inf|DE LOSS: 304, PPL: 1008, TM: 299, LM: 5.33|BETA: 0.003340\n",
      "077[s], 07[s], Ep: 11, Ct: 02500|TR LOSS: inf, PPL: 1054|TM NLL: 300, KL: 3.56 | LM NLL: 5.90, KL: inf|DE LOSS: 304, PPL: 1006, TM: 298, LM: 5.33|BETA: 0.003375\n",
      "060[s], 07[s], Ep: 12, Ct: 00000|TR LOSS: inf, PPL: 1053|TM NLL: 300, KL: 3.56 | LM NLL: 5.90, KL: inf|DE LOSS: 304, PPL: 1011, TM: 299, LM: 5.33|BETA: 0.003401\n",
      "077[s], 07[s], Ep: 12, Ct: 00500|TR LOSS: inf, PPL: 1052|TM NLL: 300, KL: 3.56 | LM NLL: 5.89, KL: inf|DE LOSS: 304, PPL: 1006, TM: 298, LM: 5.31|BETA: 0.003436\n",
      "077[s], 07[s], Ep: 12, Ct: 01000|TR LOSS: inf, PPL: 1051|TM NLL: 300, KL: 3.57 | LM NLL: 5.88, KL: inf|DE LOSS: 304, PPL: 1004, TM: 298, LM: 5.31|BETA: 0.003471\n",
      "077[s], 07[s], Ep: 12, Ct: 01500|TR LOSS: inf, PPL: 1050|TM NLL: 300, KL: 3.57 | LM NLL: 5.87, KL: inf|DE LOSS: 304, PPL: 1008, TM: 299, LM: 5.31|BETA: 0.003505\n",
      "077[s], 07[s], Ep: 12, Ct: 02000|TR LOSS: inf, PPL: 1050|TM NLL: 300, KL: 3.57 | LM NLL: 5.87, KL: inf|DE LOSS: 304, PPL: 1007, TM: 298, LM: 5.30|BETA: 0.003540\n",
      "077[s], 07[s], Ep: 12, Ct: 02500|TR LOSS: inf, PPL: 1049|TM NLL: 300, KL: 3.58 | LM NLL: 5.86, KL: inf|DE LOSS: 304, PPL: 1007, TM: 298, LM: 5.29|BETA: 0.003575\n",
      "061[s], 07[s], Ep: 13, Ct: 00000|TR LOSS: inf, PPL: 1048|TM NLL: 300, KL: 3.58 | LM NLL: 5.85, KL: inf|DE LOSS: 304, PPL: 1005, TM: 298, LM: 5.29|BETA: 0.003601\n",
      "077[s], 07[s], Ep: 13, Ct: 00500|TR LOSS: inf, PPL: 1047|TM NLL: 300, KL: 3.58 | LM NLL: 5.85, KL: inf|DE LOSS: 304, PPL: 1004, TM: 298, LM: 5.29|BETA: 0.003636\n",
      "077[s], 07[s], Ep: 13, Ct: 01000|TR LOSS: inf, PPL: 1047|TM NLL: 300, KL: 3.59 | LM NLL: 5.84, KL: inf|DE LOSS: 304, PPL: 1004, TM: 298, LM: 5.28|BETA: 0.003671\n",
      "077[s], 07[s], Ep: 13, Ct: 01500|TR LOSS: inf, PPL: 1046|TM NLL: 300, KL: 3.59 | LM NLL: 5.83, KL: inf|DE LOSS: 304, PPL: 1008, TM: 298, LM: 5.27|BETA: 0.003705\n",
      "077[s], 07[s], Ep: 13, Ct: 02000|TR LOSS: inf, PPL: 1045|TM NLL: 300, KL: 3.59 | LM NLL: 5.83, KL: inf|DE LOSS: 304, PPL: 1007, TM: 298, LM: 5.26|BETA: 0.003740\n",
      "077[s], 08[s], Ep: 13, Ct: 02500|TR LOSS: inf, PPL: 1044|TM NLL: 300, KL: 3.60 | LM NLL: 5.82, KL: inf|DE LOSS: 304, PPL: 1006, TM: 298, LM: 5.26|BETA: 0.003775\n",
      "061[s], 08[s], Ep: 14, Ct: 00000|TR LOSS: inf, PPL: 1044|TM NLL: 300, KL: 3.60 | LM NLL: 5.81, KL: inf|DE LOSS: 304, PPL: 1008, TM: 299, LM: 5.25|BETA: 0.003801\n",
      "077[s], 07[s], Ep: 14, Ct: 00500|TR LOSS: inf, PPL: 1043|TM NLL: 300, KL: 3.60 | LM NLL: 5.81, KL: inf|DE LOSS: 304, PPL: 1002, TM: 298, LM: 5.24|BETA: 0.003836\n",
      "077[s], 07[s], Ep: 14, Ct: 01000|TR LOSS: inf, PPL: 1043|TM NLL: 300, KL: 3.60 | LM NLL: 5.80, KL: inf|DE LOSS: 304, PPL: 1003, TM: 298, LM: 5.24|BETA: 0.003871\n",
      "077[s], 07[s], Ep: 14, Ct: 01500|TR LOSS: inf, PPL: 1042|TM NLL: 300, KL: 3.61 | LM NLL: 5.80, KL: inf|DE LOSS: 304, PPL: 1003, TM: 298, LM: 5.24|BETA: 0.003906\n",
      "077[s], 07[s], Ep: 14, Ct: 02000|TR LOSS: inf, PPL: 1042|TM NLL: 300, KL: 3.61 | LM NLL: 5.79, KL: inf|DE LOSS: 304, PPL: 1001, TM: 298, LM: 5.23|BETA: 0.003940\n",
      "077[s], 08[s], Ep: 14, Ct: 02500|TR LOSS: inf, PPL: 1041|TM NLL: 300, KL: 3.61 | LM NLL: 5.78, KL: inf|DE LOSS: 304, PPL: 1007, TM: 299, LM: 5.23|BETA: 0.003975\n",
      "061[s], 07[s], Ep: 15, Ct: 00000|TR LOSS: inf, PPL: 1040|TM NLL: 300, KL: 3.61 | LM NLL: 5.78, KL: inf|DE LOSS: 304, PPL: 1009, TM: 299, LM: 5.23|BETA: 0.004002\n",
      "077[s], 07[s], Ep: 15, Ct: 00500|TR LOSS: inf, PPL: 1040|TM NLL: 300, KL: 3.62 | LM NLL: 5.77, KL: inf|DE LOSS: 304, PPL: 1003, TM: 298, LM: 5.22|BETA: 0.004036\n",
      "077[s], 07[s], Ep: 15, Ct: 01000|TR LOSS: inf, PPL: 1039|TM NLL: 300, KL: 3.62 | LM NLL: 5.77, KL: inf|DE LOSS: 304, PPL: 1005, TM: 298, LM: 5.22|BETA: 0.004071\n",
      "077[s], 08[s], Ep: 15, Ct: 01500|TR LOSS: inf, PPL: 1039|TM NLL: 300, KL: 3.62 | LM NLL: 5.76, KL: inf|DE LOSS: 304, PPL: 1002, TM: 298, LM: 5.20|BETA: 0.004106\n",
      "077[s], 07[s], Ep: 15, Ct: 02000|TR LOSS: inf, PPL: 1038|TM NLL: 300, KL: 3.62 | LM NLL: 5.75, KL: inf|DE LOSS: 304, PPL: 1004, TM: 298, LM: 5.21|BETA: 0.004140\n",
      "075[s], 07[s], Ep: 15, Ct: 02500|TR LOSS: inf, PPL: 1037|TM NLL: 300, KL: 3.63 | LM NLL: 5.75, KL: inf|DE LOSS: 304, PPL: 1005, TM: 298, LM: 5.20|BETA: 0.004175\n",
      "056[s], 07[s], Ep: 16, Ct: 00000|TR LOSS: inf, PPL: 1037|TM NLL: 300, KL: 3.63 | LM NLL: 5.74, KL: inf|DE LOSS: 304, PPL: 1006, TM: 298, LM: 5.20|BETA: 0.004202\n",
      "072[s], 07[s], Ep: 16, Ct: 00500|TR LOSS: inf, PPL: 1036|TM NLL: 300, KL: 3.63 | LM NLL: 5.74, KL: inf|DE LOSS: 303, PPL: 1001, TM: 298, LM: 5.19|BETA: 0.004236\n",
      "071[s], 07[s], Ep: 16, Ct: 01000|TR LOSS: inf, PPL: 1036|TM NLL: 300, KL: 3.63 | LM NLL: 5.73, KL: inf|DE LOSS: 303, PPL: 999, TM: 298, LM: 5.19|BETA: 0.004271\n",
      "072[s], 07[s], Ep: 16, Ct: 01500|TR LOSS: inf, PPL: 1035|TM NLL: 300, KL: 3.64 | LM NLL: 5.73, KL: inf|DE LOSS: 304, PPL: 1004, TM: 298, LM: 5.19|BETA: 0.004306\n",
      "072[s], 07[s], Ep: 16, Ct: 02000|TR LOSS: inf, PPL: 1035|TM NLL: 300, KL: 3.64 | LM NLL: 5.72, KL: inf|DE LOSS: 304, PPL: 1005, TM: 298, LM: 5.18|BETA: 0.004340\n",
      "072[s], 07[s], Ep: 16, Ct: 02500|TR LOSS: inf, PPL: 1034|TM NLL: 299, KL: 3.64 | LM NLL: 5.72, KL: inf|DE LOSS: 304, PPL: 1002, TM: 298, LM: 5.18|BETA: 0.004375\n",
      "057[s], 07[s], Ep: 17, Ct: 00000|TR LOSS: inf, PPL: 1034|TM NLL: 299, KL: 3.64 | LM NLL: 5.71, KL: inf|DE LOSS: 304, PPL: 1005, TM: 298, LM: 5.18|BETA: 0.004402\n",
      "072[s], 07[s], Ep: 17, Ct: 00500|TR LOSS: inf, PPL: 1033|TM NLL: 299, KL: 3.64 | LM NLL: 5.71, KL: inf|DE LOSS: 303, PPL: 1000, TM: 298, LM: 5.17|BETA: 0.004436\n",
      "072[s], 07[s], Ep: 17, Ct: 01000|TR LOSS: inf, PPL: 1033|TM NLL: 299, KL: 3.65 | LM NLL: 5.70, KL: inf|DE LOSS: 303, PPL: 1002, TM: 298, LM: 5.16|BETA: 0.004471\n",
      "072[s], 07[s], Ep: 17, Ct: 01500|TR LOSS: inf, PPL: 1033|TM NLL: 299, KL: 3.65 | LM NLL: 5.70, KL: inf|DE LOSS: 304, PPL: 1004, TM: 298, LM: 5.16|BETA: 0.004506\n",
      "072[s], 07[s], Ep: 17, Ct: 02000|TR LOSS: inf, PPL: 1032|TM NLL: 299, KL: 3.65 | LM NLL: 5.69, KL: inf|DE LOSS: 303, PPL: 1000, TM: 298, LM: 5.16|BETA: 0.004541\n",
      "072[s], 07[s], Ep: 17, Ct: 02500|TR LOSS: inf, PPL: 1032|TM NLL: 299, KL: 3.65 | LM NLL: 5.69, KL: inf|DE LOSS: 303, PPL: 1002, TM: 298, LM: 5.16|BETA: 0.004575\n",
      "057[s], 07[s], Ep: 18, Ct: 00000|TR LOSS: inf, PPL: 1031|TM NLL: 299, KL: 3.65 | LM NLL: 5.68, KL: inf|DE LOSS: 304, PPL: 1004, TM: 298, LM: 5.16|BETA: 0.004602\n",
      "072[s], 07[s], Ep: 18, Ct: 00500|TR LOSS: inf, PPL: 1031|TM NLL: 299, KL: 3.66 | LM NLL: 5.68, KL: inf|DE LOSS: 304, PPL: 1003, TM: 298, LM: 5.15|BETA: 0.004637\n",
      "072[s], 07[s], Ep: 18, Ct: 01000|TR LOSS: inf, PPL: 1030|TM NLL: 299, KL: 3.66 | LM NLL: 5.67, KL: inf|DE LOSS: 303, PPL: 1001, TM: 298, LM: 5.14|BETA: 0.004671\n",
      "071[s], 07[s], Ep: 18, Ct: 01500|TR LOSS: inf, PPL: 1030|TM NLL: 299, KL: 3.66 | LM NLL: 5.67, KL: inf|DE LOSS: 303, PPL: 1001, TM: 298, LM: 5.14|BETA: 0.004706\n",
      "072[s], 07[s], Ep: 18, Ct: 02000|TR LOSS: inf, PPL: 1030|TM NLL: 299, KL: 3.66 | LM NLL: 5.66, KL: inf|DE LOSS: 303, PPL: 1002, TM: 298, LM: 5.13|BETA: 0.004741\n",
      "072[s], 07[s], Ep: 18, Ct: 02500|TR LOSS: inf, PPL: 1029|TM NLL: 299, KL: 3.66 | LM NLL: 5.66, KL: inf|DE LOSS: 304, PPL: 1002, TM: 298, LM: 5.14|BETA: 0.004775\n",
      "056[s], 07[s], Ep: 19, Ct: 00000|TR LOSS: inf, PPL: 1029|TM NLL: 299, KL: 3.66 | LM NLL: 5.65, KL: inf|DE LOSS: 303, PPL: 1002, TM: 298, LM: 5.13|BETA: 0.004802\n",
      "072[s], 07[s], Ep: 19, Ct: 00500|TR LOSS: inf, PPL: 1028|TM NLL: 299, KL: 3.67 | LM NLL: 5.65, KL: inf|DE LOSS: 303, PPL: 1000, TM: 298, LM: 5.12|BETA: 0.004837\n",
      "072[s], 07[s], Ep: 19, Ct: 01000|TR LOSS: inf, PPL: 1028|TM NLL: 299, KL: 3.67 | LM NLL: 5.64, KL: inf|DE LOSS: 303, PPL: 1003, TM: 298, LM: 5.12|BETA: 0.004871\n",
      "072[s], 07[s], Ep: 19, Ct: 01500|TR LOSS: inf, PPL: 1028|TM NLL: 299, KL: 3.67 | LM NLL: 5.64, KL: inf|DE LOSS: 303, PPL: 999, TM: 298, LM: 5.12|BETA: 0.004906\n",
      "073[s], 07[s], Ep: 19, Ct: 02000|TR LOSS: inf, PPL: 1027|TM NLL: 299, KL: 3.67 | LM NLL: 5.63, KL: inf|DE LOSS: 303, PPL: 1003, TM: 298, LM: 5.11|BETA: 0.004941\n",
      "076[s], 07[s], Ep: 19, Ct: 02500|TR LOSS: inf, PPL: 1027|TM NLL: 299, KL: 3.67 | LM NLL: 5.63, KL: inf|DE LOSS: 303, PPL: 1001, TM: 298, LM: 5.11|BETA: 0.004975\n",
      "060[s], 07[s], Ep: 20, Ct: 00000|TR LOSS: inf, PPL: 1026|TM NLL: 299, KL: 3.67 | LM NLL: 5.63, KL: inf|DE LOSS: 303, PPL: 1001, TM: 298, LM: 5.11|BETA: 0.005002\n",
      "076[s], 07[s], Ep: 20, Ct: 00500|TR LOSS: inf, PPL: 1026|TM NLL: 299, KL: 3.68 | LM NLL: 5.62, KL: inf|DE LOSS: 303, PPL: 999, TM: 298, LM: 5.11|BETA: 0.005037\n",
      "075[s], 07[s], Ep: 20, Ct: 01000|TR LOSS: inf, PPL: 1026|TM NLL: 299, KL: 3.68 | LM NLL: 5.62, KL: inf|DE LOSS: 303, PPL: 1003, TM: 298, LM: 5.10|BETA: 0.005071\n",
      "076[s], 07[s], Ep: 20, Ct: 01500|TR LOSS: inf, PPL: 1025|TM NLL: 299, KL: 3.68 | LM NLL: 5.61, KL: inf|DE LOSS: 303, PPL: 997, TM: 298, LM: 5.10|BETA: 0.005106\n",
      "075[s], 07[s], Ep: 20, Ct: 02000|TR LOSS: inf, PPL: 1025|TM NLL: 299, KL: 3.68 | LM NLL: 5.61, KL: inf|DE LOSS: 303, PPL: 1001, TM: 298, LM: 5.10|BETA: 0.005141\n",
      "072[s], 07[s], Ep: 20, Ct: 02500|TR LOSS: inf, PPL: 1025|TM NLL: 299, KL: 3.68 | LM NLL: 5.60, KL: inf|DE LOSS: 303, PPL: 1002, TM: 298, LM: 5.09|BETA: 0.005176\n",
      "057[s], 07[s], Ep: 21, Ct: 00000|TR LOSS: inf, PPL: 1024|TM NLL: 299, KL: 3.68 | LM NLL: 5.60, KL: inf|DE LOSS: 303, PPL: 1000, TM: 298, LM: 5.09|BETA: 0.005202\n",
      "072[s], 07[s], Ep: 21, Ct: 00500|TR LOSS: inf, PPL: 1024|TM NLL: 299, KL: 3.69 | LM NLL: 5.60, KL: inf|DE LOSS: 303, PPL: 995, TM: 298, LM: 5.09|BETA: 0.005237\n",
      "074[s], 07[s], Ep: 21, Ct: 01000|TR LOSS: inf, PPL: 1024|TM NLL: 299, KL: 3.69 | LM NLL: 5.59, KL: inf|DE LOSS: 303, PPL: 1000, TM: 298, LM: 5.09|BETA: 0.005272\n",
      "076[s], 07[s], Ep: 21, Ct: 01500|TR LOSS: inf, PPL: 1023|TM NLL: 299, KL: 3.69 | LM NLL: 5.59, KL: inf|DE LOSS: 303, PPL: 1000, TM: 298, LM: 5.08|BETA: 0.005306\n",
      "076[s], 07[s], Ep: 21, Ct: 02000|TR LOSS: inf, PPL: 1023|TM NLL: 299, KL: 3.69 | LM NLL: 5.58, KL: inf|DE LOSS: 303, PPL: 1001, TM: 298, LM: 5.07|BETA: 0.005341\n",
      "073[s], 07[s], Ep: 21, Ct: 02500|TR LOSS: inf, PPL: 1023|TM NLL: 299, KL: 3.69 | LM NLL: 5.58, KL: inf|DE LOSS: 303, PPL: 1002, TM: 298, LM: 5.07|BETA: 0.005376\n",
      "057[s], 07[s], Ep: 22, Ct: 00000|TR LOSS: inf, PPL: 1022|TM NLL: 299, KL: 3.69 | LM NLL: 5.58, KL: inf|DE LOSS: 303, PPL: 997, TM: 298, LM: 5.08|BETA: 0.005402\n",
      "073[s], 07[s], Ep: 22, Ct: 00500|TR LOSS: inf, PPL: 1022|TM NLL: 299, KL: 3.69 | LM NLL: 5.57, KL: inf|DE LOSS: 303, PPL: 999, TM: 298, LM: 5.07|BETA: 0.005437\n",
      "073[s], 07[s], Ep: 22, Ct: 01000|TR LOSS: inf, PPL: 1022|TM NLL: 299, KL: 3.70 | LM NLL: 5.57, KL: inf|DE LOSS: 303, PPL: 999, TM: 298, LM: 5.06|BETA: 0.005472\n",
      "073[s], 07[s], Ep: 22, Ct: 01500|TR LOSS: inf, PPL: 1021|TM NLL: 299, KL: 3.70 | LM NLL: 5.56, KL: inf|DE LOSS: 303, PPL: 1002, TM: 298, LM: 5.06|BETA: 0.005506\n",
      "072[s], 07[s], Ep: 22, Ct: 02000|TR LOSS: inf, PPL: 1021|TM NLL: 299, KL: 3.70 | LM NLL: 5.56, KL: inf|DE LOSS: 303, PPL: 997, TM: 298, LM: 5.06|BETA: 0.005541\n",
      "071[s], 07[s], Ep: 22, Ct: 02500|TR LOSS: inf, PPL: 1021|TM NLL: 299, KL: 3.70 | LM NLL: 5.56, KL: inf|DE LOSS: 303, PPL: 998, TM: 298, LM: 5.06|BETA: 0.005576\n",
      "057[s], 07[s], Ep: 23, Ct: 00000|TR LOSS: inf, PPL: 1021|TM NLL: 299, KL: 3.70 | LM NLL: 5.55, KL: inf|DE LOSS: 303, PPL: 1000, TM: 298, LM: 5.06|BETA: 0.005602\n",
      "072[s], 07[s], Ep: 23, Ct: 00500|TR LOSS: inf, PPL: 1020|TM NLL: 299, KL: 3.70 | LM NLL: 5.55, KL: inf|DE LOSS: 303, PPL: 998, TM: 298, LM: 5.05|BETA: 0.005637\n",
      "072[s], 07[s], Ep: 23, Ct: 01000|TR LOSS: inf, PPL: 1020|TM NLL: 299, KL: 3.70 | LM NLL: 5.55, KL: inf|DE LOSS: 303, PPL: 997, TM: 298, LM: 5.05|BETA: 0.005672\n",
      "072[s], 07[s], Ep: 23, Ct: 01500|TR LOSS: inf, PPL: 1020|TM NLL: 299, KL: 3.71 | LM NLL: 5.54, KL: inf|DE LOSS: 303, PPL: 997, TM: 298, LM: 5.05|BETA: 0.005706\n",
      "072[s], 07[s], Ep: 23, Ct: 02000|TR LOSS: inf, PPL: 1019|TM NLL: 299, KL: 3.71 | LM NLL: 5.54, KL: inf|DE LOSS: 303, PPL: 1001, TM: 298, LM: 5.04|BETA: 0.005741\n",
      "072[s], 07[s], Ep: 23, Ct: 02500|TR LOSS: inf, PPL: 1019|TM NLL: 299, KL: 3.71 | LM NLL: 5.53, KL: inf|DE LOSS: 303, PPL: 1001, TM: 298, LM: 5.05|BETA: 0.005776\n",
      "057[s], 07[s], Ep: 24, Ct: 00000|TR LOSS: inf, PPL: 1019|TM NLL: 299, KL: 3.71 | LM NLL: 5.53, KL: inf|DE LOSS: 303, PPL: 998, TM: 298, LM: 5.04|BETA: 0.005802\n",
      "072[s], 07[s], Ep: 24, Ct: 00500|TR LOSS: inf, PPL: 1019|TM NLL: 299, KL: 3.71 | LM NLL: 5.53, KL: inf|DE LOSS: 303, PPL: 994, TM: 298, LM: 5.04|BETA: 0.005837\n",
      "072[s], 07[s], Ep: 24, Ct: 01000|TR LOSS: inf, PPL: 1018|TM NLL: 299, KL: 3.71 | LM NLL: 5.52, KL: inf|DE LOSS: 303, PPL: 999, TM: 298, LM: 5.04|BETA: 0.005872\n",
      "071[s], 06[s], Ep: 24, Ct: 01500|TR LOSS: inf, PPL: 1018|TM NLL: 299, KL: 3.71 | LM NLL: 5.52, KL: inf|DE LOSS: 303, PPL: 997, TM: 298, LM: 5.04|BETA: 0.005907\n",
      "073[s], 07[s], Ep: 24, Ct: 02000|TR LOSS: inf, PPL: 1018|TM NLL: 299, KL: 3.71 | LM NLL: 5.52, KL: inf|DE LOSS: 303, PPL: 998, TM: 298, LM: 5.03|BETA: 0.005941\n",
      "071[s], 07[s], Ep: 24, Ct: 02500|TR LOSS: inf, PPL: 1017|TM NLL: 299, KL: 3.72 | LM NLL: 5.51, KL: inf|DE LOSS: 303, PPL: 1000, TM: 298, LM: 5.03|BETA: 0.005976\n",
      "056[s], 07[s], Ep: 25, Ct: 00000|TR LOSS: inf, PPL: 1017|TM NLL: 299, KL: 3.72 | LM NLL: 5.51, KL: inf|DE LOSS: 303, PPL: 997, TM: 298, LM: 5.03|BETA: 0.006003\n",
      "071[s], 06[s], Ep: 25, Ct: 00500|TR LOSS: inf, PPL: 1017|TM NLL: 299, KL: 3.72 | LM NLL: 5.51, KL: inf|DE LOSS: 303, PPL: 996, TM: 298, LM: 5.03|BETA: 0.006037\n",
      "072[s], 07[s], Ep: 25, Ct: 01000|TR LOSS: inf, PPL: 1017|TM NLL: 299, KL: 3.72 | LM NLL: 5.50, KL: inf|DE LOSS: 303, PPL: 997, TM: 298, LM: 5.02|BETA: 0.006072\n",
      "072[s], 07[s], Ep: 25, Ct: 01500|TR LOSS: inf, PPL: 1017|TM NLL: 299, KL: 3.72 | LM NLL: 5.50, KL: inf|DE LOSS: 303, PPL: 998, TM: 298, LM: 5.02|BETA: 0.006107\n",
      "072[s], 07[s], Ep: 25, Ct: 02000|TR LOSS: inf, PPL: 1016|TM NLL: 299, KL: 3.72 | LM NLL: 5.50, KL: inf|DE LOSS: 303, PPL: 995, TM: 298, LM: 5.02|BETA: 0.006141\n",
      "071[s], 07[s], Ep: 25, Ct: 02500|TR LOSS: inf, PPL: 1016|TM NLL: 299, KL: 3.72 | LM NLL: 5.49, KL: inf|DE LOSS: 303, PPL: 999, TM: 298, LM: 5.01|BETA: 0.006176\n",
      "057[s], 07[s], Ep: 26, Ct: 00000|TR LOSS: inf, PPL: 1016|TM NLL: 299, KL: 3.72 | LM NLL: 5.49, KL: inf|DE LOSS: 303, PPL: 995, TM: 298, LM: 5.02|BETA: 0.006203\n",
      "072[s], 07[s], Ep: 26, Ct: 00500|TR LOSS: inf, PPL: 1015|TM NLL: 299, KL: 3.73 | LM NLL: 5.49, KL: inf|DE LOSS: 303, PPL: 997, TM: 298, LM: 5.02|BETA: 0.006237\n",
      "071[s], 07[s], Ep: 26, Ct: 01000|TR LOSS: inf, PPL: 1015|TM NLL: 299, KL: 3.73 | LM NLL: 5.48, KL: inf|DE LOSS: 303, PPL: 995, TM: 298, LM: 5.01|BETA: 0.006272\n",
      "073[s], 07[s], Ep: 26, Ct: 01500|TR LOSS: inf, PPL: 1015|TM NLL: 299, KL: 3.73 | LM NLL: 5.48, KL: inf|DE LOSS: 303, PPL: 999, TM: 298, LM: 5.01|BETA: 0.006307\n",
      "072[s], 07[s], Ep: 26, Ct: 02000|TR LOSS: inf, PPL: 1015|TM NLL: 299, KL: 3.73 | LM NLL: 5.48, KL: inf|DE LOSS: 303, PPL: 996, TM: 298, LM: 5.01|BETA: 0.006341\n",
      "072[s], 07[s], Ep: 26, Ct: 02500|TR LOSS: inf, PPL: 1015|TM NLL: 299, KL: 3.73 | LM NLL: 5.47, KL: inf|DE LOSS: 303, PPL: 999, TM: 298, LM: 5.00|BETA: 0.006376\n",
      "057[s], 07[s], Ep: 27, Ct: 00000|TR LOSS: inf, PPL: 1014|TM NLL: 299, KL: 3.73 | LM NLL: 5.47, KL: inf|DE LOSS: 303, PPL: 994, TM: 298, LM: 5.00|BETA: 0.006403\n",
      "072[s], 07[s], Ep: 27, Ct: 00500|TR LOSS: inf, PPL: 1014|TM NLL: 299, KL: 3.73 | LM NLL: 5.47, KL: inf|DE LOSS: 303, PPL: 996, TM: 298, LM: 5.00|BETA: 0.006437\n",
      "072[s], 07[s], Ep: 27, Ct: 01000|TR LOSS: inf, PPL: 1014|TM NLL: 299, KL: 3.73 | LM NLL: 5.46, KL: inf|DE LOSS: 303, PPL: 996, TM: 298, LM: 5.00|BETA: 0.006472\n",
      "072[s], 07[s], Ep: 27, Ct: 01500|TR LOSS: inf, PPL: 1014|TM NLL: 299, KL: 3.73 | LM NLL: 5.46, KL: inf|DE LOSS: 303, PPL: 999, TM: 298, LM: 4.99|BETA: 0.006507\n",
      "072[s], 07[s], Ep: 27, Ct: 02000|TR LOSS: inf, PPL: 1014|TM NLL: 299, KL: 3.74 | LM NLL: 5.46, KL: inf|DE LOSS: 303, PPL: 993, TM: 298, LM: 4.99|BETA: 0.006542\n",
      "071[s], 07[s], Ep: 27, Ct: 02500|TR LOSS: inf, PPL: 1013|TM NLL: 299, KL: 3.74 | LM NLL: 5.45, KL: inf|DE LOSS: 303, PPL: 999, TM: 298, LM: 4.99|BETA: 0.006576\n",
      "055[s], 07[s], Ep: 28, Ct: 00000|TR LOSS: inf, PPL: 1013|TM NLL: 299, KL: 3.74 | LM NLL: 5.45, KL: inf|DE LOSS: 303, PPL: 998, TM: 298, LM: 4.99|BETA: 0.006603\n",
      "070[s], 07[s], Ep: 28, Ct: 00500|TR LOSS: inf, PPL: 1013|TM NLL: 299, KL: 3.74 | LM NLL: 5.45, KL: inf|DE LOSS: 303, PPL: 995, TM: 298, LM: 4.98|BETA: 0.006638\n",
      "071[s], 07[s], Ep: 28, Ct: 01000|TR LOSS: inf, PPL: 1013|TM NLL: 299, KL: 3.74 | LM NLL: 5.45, KL: inf|DE LOSS: 303, PPL: 995, TM: 298, LM: 4.99|BETA: 0.006672\n",
      "073[s], 07[s], Ep: 28, Ct: 01500|TR LOSS: inf, PPL: 1012|TM NLL: 299, KL: 3.74 | LM NLL: 5.44, KL: inf|DE LOSS: 303, PPL: 996, TM: 298, LM: 4.98|BETA: 0.006707\n",
      "073[s], 07[s], Ep: 28, Ct: 02000|TR LOSS: inf, PPL: 1012|TM NLL: 299, KL: 3.74 | LM NLL: 5.44, KL: inf|DE LOSS: 303, PPL: 997, TM: 298, LM: 4.98|BETA: 0.006742\n"
     ]
    }
   ],
   "source": [
    "for log in logs:\n",
    "    print('%03d[s], %02d[s], Ep: %02d, Ct: %05d|TR LOSS: %.0f, PPL: %.0f|TM NLL: %.0f, KL: %.2f | LM NLL: %.2f, KL: %.2f|DE LOSS: %.0f, PPL: %.0f, TM: %.0f, LM: %.2f|BETA: %.6f' %  log)"
   ]
  },
  {
   "cell_type": "code",
   "execution_count": null,
   "metadata": {},
   "outputs": [],
   "source": []
  },
  {
   "cell_type": "code",
   "execution_count": 27,
   "metadata": {},
   "outputs": [
    {
     "name": "stdout",
     "output_type": "stream",
     "text": [
      "0 : republican senate democratic house election party campaign governor republicans gov\n",
      "1 : court judge federal u.s. attorney lawsuit filed case district law\n",
      "2 : million company http water project reports federal department u.s. plant\n",
      "3 : vehicle car crash driver truck died driving killed hit struck\n",
      "4 : department http people reports health office law officers week security\n",
      "5 : percent million company cents share revenue billion rate shares average\n",
      "6 : national saturday event museum died day years u.s. center president\n",
      "7 : bill tax budget million health lawmakers house measure gov approved\n",
      "8 : school university students board education program president college schools district\n",
      "9 : fire firefighters area reported authorities home people sunday miles blaze\n",
      "10 : found home officers authorities shot woman sheriff shooting arrested body\n",
      "11 : charged guilty prosecutors charges court years prison pleaded attorney murder\n",
      "12 : service weather power national storm snow tuesday expected rain customers\n"
     ]
    }
   ],
   "source": [
    "# visualize topic\n",
    "topics_freq_bow_idxs = bow_idxs[sess.run(topics_freq_bow_indices)]\n",
    "for topic, topic_freq_bow_idxs in enumerate(topics_freq_bow_idxs):\n",
    "    print(topic, ':', ' '.join([idx_to_word[idx] for idx in topic_freq_bow_idxs]))"
   ]
  },
  {
   "cell_type": "markdown",
   "metadata": {},
   "source": [
    "# confirm variables"
   ]
  },
  {
   "cell_type": "code",
   "execution_count": 110,
   "metadata": {},
   "outputs": [],
   "source": [
    "_logvars, _means, _kl_losses, _latents, _output_logits = sess.run([logvars, means, kl_losses, latents, output_logits], feed_dict=feed_dict)\n"
   ]
  },
  {
   "cell_type": "code",
   "execution_count": 111,
   "metadata": {},
   "outputs": [
    {
     "data": {
      "text/plain": [
       "((32, 32), (32, 32), (32,), (32, 32))"
      ]
     },
     "execution_count": 111,
     "metadata": {},
     "output_type": "execute_result"
    }
   ],
   "source": [
    "_logvars.shape, _means.shape, _kl_losses.shape, _latents.shape"
   ]
  },
  {
   "cell_type": "code",
   "execution_count": 112,
   "metadata": {},
   "outputs": [
    {
     "data": {
      "text/plain": [
       "array([[[nan, nan, nan, ..., nan, nan, nan],\n",
       "        [nan, nan, nan, ..., nan, nan, nan],\n",
       "        [nan, nan, nan, ..., nan, nan, nan]],\n",
       "\n",
       "       [[nan, nan, nan, ..., nan, nan, nan],\n",
       "        [nan, nan, nan, ..., nan, nan, nan],\n",
       "        [nan, nan, nan, ..., nan, nan, nan]],\n",
       "\n",
       "       [[nan, nan, nan, ..., nan, nan, nan],\n",
       "        [nan, nan, nan, ..., nan, nan, nan],\n",
       "        [nan, nan, nan, ..., nan, nan, nan]],\n",
       "\n",
       "       ...,\n",
       "\n",
       "       [[nan, nan, nan, ..., nan, nan, nan],\n",
       "        [nan, nan, nan, ..., nan, nan, nan],\n",
       "        [nan, nan, nan, ..., nan, nan, nan]],\n",
       "\n",
       "       [[nan, nan, nan, ..., nan, nan, nan],\n",
       "        [nan, nan, nan, ..., nan, nan, nan],\n",
       "        [nan, nan, nan, ..., nan, nan, nan]],\n",
       "\n",
       "       [[nan, nan, nan, ..., nan, nan, nan],\n",
       "        [nan, nan, nan, ..., nan, nan, nan],\n",
       "        [nan, nan, nan, ..., nan, nan, nan]]], dtype=float32)"
      ]
     },
     "execution_count": 112,
     "metadata": {},
     "output_type": "execute_result"
    }
   ],
   "source": [
    "_output_logits"
   ]
  },
  {
   "cell_type": "code",
   "execution_count": 109,
   "metadata": {},
   "outputs": [
    {
     "ename": "NameError",
     "evalue": "name 'dec_target_idxs_do' is not defined",
     "output_type": "error",
     "traceback": [
      "\u001b[0;31m---------------------------------------------------------------------------\u001b[0m",
      "\u001b[0;31mNameError\u001b[0m                                 Traceback (most recent call last)",
      "\u001b[0;32m<ipython-input-109-7de59bc2cc54>\u001b[0m in \u001b[0;36m<module>\u001b[0;34m\u001b[0m\n\u001b[0;32m----> 1\u001b[0;31m \u001b[0m_output_logits\u001b[0m\u001b[0;34m,\u001b[0m \u001b[0m_dec_target_idxs_do\u001b[0m\u001b[0;34m,\u001b[0m \u001b[0m_dec_mask_tokens_do\u001b[0m\u001b[0;34m,\u001b[0m \u001b[0m_recon_loss\u001b[0m\u001b[0;34m,\u001b[0m \u001b[0m_kl_losses\u001b[0m\u001b[0;34m,\u001b[0m \u001b[0m_\u001b[0m \u001b[0;34m=\u001b[0m \u001b[0msess\u001b[0m\u001b[0;34m.\u001b[0m\u001b[0mrun\u001b[0m\u001b[0;34m(\u001b[0m\u001b[0;34m[\u001b[0m\u001b[0moutput_logits\u001b[0m\u001b[0;34m,\u001b[0m \u001b[0mdec_target_idxs_do\u001b[0m\u001b[0;34m,\u001b[0m \u001b[0mdec_mask_tokens_do\u001b[0m\u001b[0;34m,\u001b[0m \u001b[0mrecon_loss\u001b[0m\u001b[0;34m,\u001b[0m \u001b[0mkl_losses\u001b[0m\u001b[0;34m,\u001b[0m \u001b[0mopt\u001b[0m\u001b[0;34m]\u001b[0m\u001b[0;34m,\u001b[0m \u001b[0mfeed_dict\u001b[0m\u001b[0;34m=\u001b[0m\u001b[0mfeed_dict\u001b[0m\u001b[0;34m)\u001b[0m\u001b[0;34m\u001b[0m\u001b[0;34m\u001b[0m\u001b[0m\n\u001b[0m",
      "\u001b[0;31mNameError\u001b[0m: name 'dec_target_idxs_do' is not defined"
     ]
    }
   ],
   "source": [
    "_output_logits, _dec_target_idxs_do, _dec_mask_tokens_do, _recon_loss, _kl_losses, _ = sess.run([output_logits, dec_target_idxs_do, dec_mask_tokens_do, recon_loss, kl_losses, opt], feed_dict=feed_dict)\n"
   ]
  },
  {
   "cell_type": "code",
   "execution_count": 44,
   "metadata": {},
   "outputs": [
    {
     "data": {
      "text/plain": [
       "(120, 46)"
      ]
     },
     "execution_count": 44,
     "metadata": {},
     "output_type": "execute_result"
    }
   ],
   "source": [
    "tf.reduce_max(output_logits, 2).eval(session=sess, feed_dict=feed_dict).shape"
   ]
  },
  {
   "cell_type": "code",
   "execution_count": 31,
   "metadata": {},
   "outputs": [
    {
     "data": {
      "text/plain": [
       "((120, 46, 20000), (120, 46), (120, 46))"
      ]
     },
     "execution_count": 31,
     "metadata": {},
     "output_type": "execute_result"
    }
   ],
   "source": [
    "_output_logits.shape, _dec_target_idxs_do.shape, _dec_mask_tokens_do.shape"
   ]
  },
  {
   "cell_type": "code",
   "execution_count": 32,
   "metadata": {},
   "outputs": [],
   "source": [
    "_logits = np.exp(_output_logits) / np.sum(np.exp(_output_logits), 2)[:, :, None]"
   ]
  },
  {
   "cell_type": "code",
   "execution_count": 33,
   "metadata": {},
   "outputs": [],
   "source": [
    "_idxs = _dec_target_idxs_do"
   ]
  },
  {
   "cell_type": "code",
   "execution_count": 35,
   "metadata": {},
   "outputs": [],
   "source": [
    "_losses = np.array([[-np.log(_logits[i, j, _idxs[i, j]]) for j in range(_idxs.shape[1])] for i in range(_idxs.shape[0])]) * _dec_mask_tokens_do"
   ]
  },
  {
   "cell_type": "code",
   "execution_count": 36,
   "metadata": {},
   "outputs": [
    {
     "data": {
      "text/plain": [
       "9.903732"
      ]
     },
     "execution_count": 36,
     "metadata": {},
     "output_type": "execute_result"
    }
   ],
   "source": [
    "np.sum(_losses)/np.sum(_dec_mask_tokens_do)"
   ]
  },
  {
   "cell_type": "code",
   "execution_count": 37,
   "metadata": {},
   "outputs": [
    {
     "data": {
      "text/plain": [
       "9.903732"
      ]
     },
     "execution_count": 37,
     "metadata": {},
     "output_type": "execute_result"
    }
   ],
   "source": [
    "_recon_loss"
   ]
  },
  {
   "cell_type": "code",
   "execution_count": 38,
   "metadata": {},
   "outputs": [
    {
     "data": {
      "text/plain": [
       "(120,)"
      ]
     },
     "execution_count": 38,
     "metadata": {},
     "output_type": "execute_result"
    }
   ],
   "source": [
    "_kl_losses.shape"
   ]
  },
  {
   "cell_type": "code",
   "execution_count": null,
   "metadata": {},
   "outputs": [],
   "source": []
  }
 ],
 "metadata": {
  "kernelspec": {
   "display_name": "py36",
   "language": "python",
   "name": "py36"
  },
  "language_info": {
   "codemirror_mode": {
    "name": "ipython",
    "version": 3
   },
   "file_extension": ".py",
   "mimetype": "text/x-python",
   "name": "python",
   "nbconvert_exporter": "python",
   "pygments_lexer": "ipython3",
   "version": "3.6.9"
  },
  "toc": {
   "base_numbering": 1,
   "nav_menu": {},
   "number_sections": true,
   "sideBar": true,
   "skip_h1_title": false,
   "title_cell": "Table of Contents",
   "title_sidebar": "Contents",
   "toc_cell": false,
   "toc_position": {},
   "toc_section_display": true,
   "toc_window_display": false
  }
 },
 "nbformat": 4,
 "nbformat_minor": 2
}
