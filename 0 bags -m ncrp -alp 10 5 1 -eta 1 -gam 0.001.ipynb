{
 "cells": [
  {
   "cell_type": "code",
   "execution_count": 1,
   "metadata": {},
   "outputs": [
    {
     "data": {
      "application/javascript": [
       "IPython.notebook.kernel.execute('nb_name = \"' + IPython.notebook.notebook_name + '\"')\n"
      ],
      "text/plain": [
       "<IPython.core.display.Javascript object>"
      ]
     },
     "metadata": {},
     "output_type": "display_data"
    }
   ],
   "source": [
    "%%javascript\n",
    "IPython.notebook.kernel.execute('nb_name = \"' + IPython.notebook.notebook_name + '\"')"
   ]
  },
  {
   "cell_type": "code",
   "execution_count": 2,
   "metadata": {},
   "outputs": [],
   "source": [
    "%load_ext autoreload\n",
    "%autoreload\n",
    "from IPython.display import clear_output\n",
    "\n",
    "import os\n",
    "import pdb\n",
    "import _pickle as cPickle\n",
    "import time\n",
    "import subprocess\n",
    "import glob\n",
    "\n",
    "import random\n",
    "import numpy as np\n",
    "import pandas as pd\n",
    "import tensorflow as tf\n",
    "\n",
    "from collections import defaultdict, Counter\n",
    "from ncrp import Topic, Doc, init, sample, get_perplexity, get_topic_specialization, get_hierarchical_affinities, get_freq_tokens_ncrp, get_docs\n",
    "from configure import get_config"
   ]
  },
  {
   "cell_type": "markdown",
   "metadata": {},
   "source": [
    "# load config & data "
   ]
  },
  {
   "cell_type": "code",
   "execution_count": 3,
   "metadata": {},
   "outputs": [],
   "source": [
    "config = get_config(nb_name)\n",
    "np.random.seed(config.seed)\n",
    "random.seed(config.seed)"
   ]
  },
  {
   "cell_type": "code",
   "execution_count": 4,
   "metadata": {},
   "outputs": [],
   "source": [
    "instances_train, instances_dev, instances_test, word_to_idx, idx_to_word, bow_idxs = cPickle.load(open(config.path_data,'rb'))"
   ]
  },
  {
   "cell_type": "code",
   "execution_count": 5,
   "metadata": {},
   "outputs": [
    {
     "data": {
      "text/plain": [
       "(31943, 1035)"
      ]
     },
     "execution_count": 5,
     "metadata": {},
     "output_type": "execute_result"
    }
   ],
   "source": [
    "config.n_doc = len(instances_train)\n",
    "config.n_vocab = len(bow_idxs)\n",
    "config.n_doc, config.n_vocab"
   ]
  },
  {
   "cell_type": "markdown",
   "metadata": {},
   "source": [
    "# run"
   ]
  },
  {
   "cell_type": "markdown",
   "metadata": {},
   "source": [
    "## initialize log"
   ]
  },
  {
   "cell_type": "code",
   "execution_count": null,
   "metadata": {},
   "outputs": [],
   "source": [
    "checkpoint = []\n",
    "ppl_min = np.inf\n",
    "epoch = 0\n",
    "\n",
    "cmd_rm = 'rm -r %s' % config.dir_model\n",
    "res = subprocess.call(cmd_rm.split())\n",
    "cmd_mk = 'mkdir %s' % config.dir_model\n",
    "res = subprocess.call(cmd_mk.split())\n",
    "\n",
    "log_df = pd.DataFrame(columns=pd.MultiIndex.from_tuples(\n",
    "                    list(zip(*[['','','','TRAIN:','VALID:','TEST:','SPEC:', '', '', 'HIER:', ''],\n",
    "                            ['Time','Ep','Ct','PPL','PPL', 'PPL','1', '2', '3', 'CHILD', 'OTHER']]))))\n",
    "\n",
    "def update_checkpoint(config, checkpoint, epoch):\n",
    "    checkpoint.append(config.path_model + '-%i' % epoch)\n",
    "    if len(checkpoint) > config.max_to_keep:\n",
    "        path_model = checkpoint.pop(0)\n",
    "        for p in glob.glob(path_model):\n",
    "            os.remove(p)\n",
    "    cPickle.dump(checkpoint, open(config.path_checkpoint, 'wb'))"
   ]
  },
  {
   "cell_type": "markdown",
   "metadata": {},
   "source": [
    "## initialize data"
   ]
  },
  {
   "cell_type": "code",
   "execution_count": null,
   "metadata": {},
   "outputs": [
    {
     "name": "stdout",
     "output_type": "stream",
     "text": [
      "0 10000 20000 30000 0 0 "
     ]
    }
   ],
   "source": [
    "topic_root = Topic(idx='0', sibling_idx=0, parent=None, depth=0, config=config)\n",
    "train_docs = get_docs(instances_train, config)\n",
    "dev_docs = get_docs(instances_dev, config)\n",
    "test_docs = get_docs(instances_test, config)\n",
    "init(train_docs, dev_docs, test_docs, topic_root)"
   ]
  },
  {
   "cell_type": "markdown",
   "metadata": {},
   "source": [
    "## run"
   ]
  },
  {
   "cell_type": "code",
   "execution_count": null,
   "metadata": {
    "scrolled": false
   },
   "outputs": [
    {
     "data": {
      "text/html": [
       "<div>\n",
       "<style scoped>\n",
       "    .dataframe tbody tr th:only-of-type {\n",
       "        vertical-align: middle;\n",
       "    }\n",
       "\n",
       "    .dataframe tbody tr th {\n",
       "        vertical-align: top;\n",
       "    }\n",
       "\n",
       "    .dataframe thead tr th {\n",
       "        text-align: left;\n",
       "    }\n",
       "</style>\n",
       "<table border=\"1\" class=\"dataframe\">\n",
       "  <thead>\n",
       "    <tr>\n",
       "      <th></th>\n",
       "      <th colspan=\"3\" halign=\"left\"></th>\n",
       "      <th>TRAIN:</th>\n",
       "      <th>VALID:</th>\n",
       "      <th>TEST:</th>\n",
       "      <th>SPEC:</th>\n",
       "      <th colspan=\"2\" halign=\"left\"></th>\n",
       "      <th>HIER:</th>\n",
       "      <th></th>\n",
       "    </tr>\n",
       "    <tr>\n",
       "      <th></th>\n",
       "      <th>Time</th>\n",
       "      <th>Ep</th>\n",
       "      <th>Ct</th>\n",
       "      <th>PPL</th>\n",
       "      <th>PPL</th>\n",
       "      <th>PPL</th>\n",
       "      <th>1</th>\n",
       "      <th>2</th>\n",
       "      <th>3</th>\n",
       "      <th>CHILD</th>\n",
       "      <th>OTHER</th>\n",
       "    </tr>\n",
       "  </thead>\n",
       "  <tbody>\n",
       "    <tr>\n",
       "      <th>0</th>\n",
       "      <td>189</td>\n",
       "      <td>0</td>\n",
       "      <td>0</td>\n",
       "      <td>366</td>\n",
       "      <td>347</td>\n",
       "      <td>348</td>\n",
       "      <td>0.09</td>\n",
       "      <td>0.52</td>\n",
       "      <td>0.65</td>\n",
       "      <td>0.48</td>\n",
       "      <td>0.30</td>\n",
       "    </tr>\n",
       "    <tr>\n",
       "      <th>1</th>\n",
       "      <td>232</td>\n",
       "      <td>1</td>\n",
       "      <td>0</td>\n",
       "      <td>328</td>\n",
       "      <td>320</td>\n",
       "      <td>323</td>\n",
       "      <td>0.10</td>\n",
       "      <td>0.53</td>\n",
       "      <td>0.68</td>\n",
       "      <td>0.45</td>\n",
       "      <td>0.26</td>\n",
       "    </tr>\n",
       "    <tr>\n",
       "      <th>2</th>\n",
       "      <td>272</td>\n",
       "      <td>2</td>\n",
       "      <td>0</td>\n",
       "      <td>316</td>\n",
       "      <td>313</td>\n",
       "      <td>313</td>\n",
       "      <td>0.10</td>\n",
       "      <td>0.52</td>\n",
       "      <td>0.69</td>\n",
       "      <td>0.44</td>\n",
       "      <td>0.27</td>\n",
       "    </tr>\n",
       "    <tr>\n",
       "      <th>3</th>\n",
       "      <td>276</td>\n",
       "      <td>3</td>\n",
       "      <td>0</td>\n",
       "      <td>314</td>\n",
       "      <td>313</td>\n",
       "      <td>313</td>\n",
       "      <td>0.10</td>\n",
       "      <td>0.52</td>\n",
       "      <td>0.68</td>\n",
       "      <td>0.36</td>\n",
       "      <td>0.23</td>\n",
       "    </tr>\n",
       "    <tr>\n",
       "      <th>4</th>\n",
       "      <td>298</td>\n",
       "      <td>4</td>\n",
       "      <td>0</td>\n",
       "      <td>314</td>\n",
       "      <td>315</td>\n",
       "      <td>313</td>\n",
       "      <td>0.10</td>\n",
       "      <td>0.54</td>\n",
       "      <td>0.66</td>\n",
       "      <td>0.39</td>\n",
       "      <td>0.28</td>\n",
       "    </tr>\n",
       "    <tr>\n",
       "      <th>5</th>\n",
       "      <td>324</td>\n",
       "      <td>5</td>\n",
       "      <td>0</td>\n",
       "      <td>307</td>\n",
       "      <td>310</td>\n",
       "      <td>308</td>\n",
       "      <td>0.10</td>\n",
       "      <td>0.56</td>\n",
       "      <td>0.65</td>\n",
       "      <td>0.36</td>\n",
       "      <td>0.27</td>\n",
       "    </tr>\n",
       "    <tr>\n",
       "      <th>6</th>\n",
       "      <td>340</td>\n",
       "      <td>6</td>\n",
       "      <td>0</td>\n",
       "      <td>300</td>\n",
       "      <td>300</td>\n",
       "      <td>299</td>\n",
       "      <td>0.11</td>\n",
       "      <td>0.56</td>\n",
       "      <td>0.64</td>\n",
       "      <td>0.35</td>\n",
       "      <td>0.26</td>\n",
       "    </tr>\n",
       "    <tr>\n",
       "      <th>7</th>\n",
       "      <td>374</td>\n",
       "      <td>7</td>\n",
       "      <td>0</td>\n",
       "      <td>298</td>\n",
       "      <td>302</td>\n",
       "      <td>299</td>\n",
       "      <td>0.11</td>\n",
       "      <td>0.56</td>\n",
       "      <td>0.64</td>\n",
       "      <td>0.36</td>\n",
       "      <td>0.26</td>\n",
       "    </tr>\n",
       "    <tr>\n",
       "      <th>8</th>\n",
       "      <td>377</td>\n",
       "      <td>8</td>\n",
       "      <td>0</td>\n",
       "      <td>294</td>\n",
       "      <td>295</td>\n",
       "      <td>294</td>\n",
       "      <td>0.12</td>\n",
       "      <td>0.56</td>\n",
       "      <td>0.63</td>\n",
       "      <td>0.35</td>\n",
       "      <td>0.26</td>\n",
       "    </tr>\n",
       "  </tbody>\n",
       "</table>\n",
       "</div>"
      ],
      "text/plain": [
       "             TRAIN: VALID: TEST: SPEC:             HIER:      \n",
       "  Time Ep Ct    PPL    PPL   PPL     1     2     3 CHILD OTHER\n",
       "0  189  0  0    366    347   348  0.09  0.52  0.65  0.48  0.30\n",
       "1  232  1  0    328    320   323  0.10  0.53  0.68  0.45  0.26\n",
       "2  272  2  0    316    313   313  0.10  0.52  0.69  0.44  0.27\n",
       "3  276  3  0    314    313   313  0.10  0.52  0.68  0.36  0.23\n",
       "4  298  4  0    314    315   313  0.10  0.54  0.66  0.39  0.28\n",
       "5  324  5  0    307    310   308  0.10  0.56  0.65  0.36  0.27\n",
       "6  340  6  0    300    300   299  0.11  0.56  0.64  0.35  0.26\n",
       "7  374  7  0    298    302   299  0.11  0.56  0.64  0.36  0.26\n",
       "8  377  8  0    294    295   294  0.12  0.56  0.63  0.35  0.26"
      ]
     },
     "metadata": {},
     "output_type": "display_data"
    },
    {
     "name": "stdout",
     "output_type": "stream",
     "text": [
      " 0 31943 279164.0 ! nice price bought love quality made perfect recommend 'm\n",
      "   0-1 1746 13162.0 ! love color cover mac pro perfectly apple purple keyboard\n",
      "     0-1-1 6 11.0 memory brown smooth pretty friend dropping padded compact ugly flash\n",
      "     0-1-2 230 196.0 cable deal sleeve company shell compliments hands drive remove leaving\n",
      "     0-1-3 2 7.0 adapter ports thought clean lining video zips fitting fingerprints finish\n",
      "     0-1-4 307 202.0 durability solid worried cleaning clean shipping people person matte colors\n",
      "     0-1-5 1201 1552.0 keyboard cover protector mcover typing pink key keys seller highly\n",
      "   0-2 929 8257.0 carry travel work room pockets stuff plenty compartments back trip\n",
      "     0-2-1 197 215.0 ground organization extras important lots files worn choose car fully\n",
      "     0-2-2 3 8.0 waterproof papers convenient recommended breaking base space start fingerprints finish\n",
      "     0-2-3 729 808.0 camera equipment gear lens lenses comfortable lot cards canon easy\n",
      "   0-3 1756 12258.0 sleeve netbook pocket protection power inch room ipad mouse charger\n",
      "     0-3-1 124 122.0 rip slides acer stitching daily cushioning protect protected trips correct\n",
      "     0-3-2 897 979.0 inch sleeve cases memory perfectly mba laptops inside inches thin\n",
      "     0-3-3 18 24.0 player dont -inch packaging appears extended dvd lenovo realized outer\n",
      "     0-3-4 717 1114.0 cord usb drive power adapter cable external pocket chromebook mini\n",
      "   0-4 534 5145.0 bottom cover months top corners cracked piece part plastic speck\n",
      "     0-4-1 46 52.0 simple guess contacted back asus put immediately means daily toshiba\n",
      "     0-4-2 94 66.0 drive keyboard cover ipearl move making dvd attached note simply\n",
      "     0-4-3 394 375.0 annoying months pads area multiple clips tear review retina bottom\n",
      "   0-5 4407 27164.0 ! bought carry quality love price pockets 've buy books\n",
      "     0-5-1 223 491.0 customer return service received item send order refund contacted seller\n",
      "     0-5-2 278 302.0 toshiba + delivered early ? website work feeling pain originally\n",
      "     0-5-3 1810 2112.0 school gift christmas years camera stuff swiss college gear ago\n",
      "     0-5-4 2096 2234.0 ... local camera quality leather lenses swiss cheaper paid stores\n",
      "   0-6 431 3317.0 cards player memory sd dvd card camera small slots portable\n",
      "     0-6-1 170 478.0 camera lenses lens drive usb canon flash drives equipment external\n",
      "     0-6-2 261 255.0 video car player gift christmas strap sleeves son sony photos\n",
      "   0-7 974 9002.0 zipper strap broke months handle shoulder straps weeks started zippers\n",
      "     0-7-1 69 109.0 wheels warranty care mobile hp limited smooth contacted correct roll\n",
      "     0-7-2 564 717.0 binder strap return clip service poor clips customer days lunch\n",
      "     0-7-3 341 396.0 pull service canon camera zipper tab issue gear pocket year\n",
      "   0-8 1249 10293.0 cover color bottom apple logo mac nice scratches easy plastic\n",
      "     0-8-1 40 43.0 month cracking reviews useless supposed match addition rear bucks hassle\n",
      "     0-8-2 17 11.0 portion photos contacted seam skin tiny drop pad lot website\n",
      "     0-8-3 1016 1355.0 cover keyboard mbp keys typing dirt color pink dust protector\n",
      "     0-8-4 141 171.0 weight pros opened tab lightweight update crack noticed fold flexible\n",
      "     0-8-5 35 80.0 orange shown easier original dark snapped picture actual dont return\n",
      "   0-9 420 5260.0 compartment pockets small pocket : side compartments hold main large\n",
      "     0-9-2 213 570.0 camera lenses lens flash body canon gear tripod equipment accessories\n",
      "     0-9-3 206 274.0 luggage closure phone medium feature stuff pouches single strap cell\n",
      "     0-9-4 1 0.0 zips fast floor flimsy flexible flaw flat flash flap fix\n",
      "   0-10 961 8510.0 & ; room pocket pockets carry plenty power mouse strap\n",
      "     0-10-2 84 88.0 external usb card device interior ac + flap main power\n",
      "     0-10-3 167 248.0 & ; trip gear kind overhead daily basic access capacity\n",
      "     0-10-4 708 788.0 love cable pocket lens camera extra accessories cord drive flash\n",
      "     0-10-5 2 1.0 inspiron zips find flimsy flexible flaw flat flash flap fix\n",
      "   0-11 4123 29369.0 cover ! color bottom mac pro hard keyboard top apple\n",
      "     0-11-1 493 610.0 drive ports bottom speck amazon usb bought perfectly ipearl bucks\n",
      "     0-11-2 455 521.0 chemical smell odor matte cool tabs device rear terrible 'd\n",
      "     0-11-3 215 560.0 keyboard protector cover screen mouse keys key package seller paid\n",
      "     0-11-4 1980 3625.0 cover keyboard protector screen keys hard kuzy mcover retina shell\n",
      "     0-11-5 980 1333.0 screen protector shipping seller pink send color decided buy customer\n",
      "   0-12 2233 21001.0 pockets carry straps strap pack shoulder handle compartment compartments comfortable\n",
      "     0-12-1 310 447.0 zipper wheels pulls airports years rolling nylon adjustable manufacturer version\n",
      "     0-12-2 21 74.0 camera canon tripod lens gear quick short body lenses bought\n",
      "     0-12-3 1282 1936.0 camera gear swiss lenses equipment space straps storage plenty shoulders\n",
      "     0-12-4 478 720.0 strap flap pocket started weeks broken tsa load mp rip\n",
      "     0-12-5 142 227.0 swissgear bags check plane smaller equipment guess con waterproof money\n",
      "   0-13 3112 22294.0 & ; sleeve pro air smell zipper inside protection :\n",
      "     0-13-1 359 603.0 drive keyboard & ; clear refund snap tablet option cd\n",
      "     0-13-2 2171 3156.0 ; retina & inch sleeve mbp dimensions pro snug inches\n",
      "     0-13-3 451 591.0 handles smell chemical neoprene smells odor sleeves ? soft bumps\n",
      "     0-13-4 131 175.0 roomy thicker pocket % refund previous nice wearing concern send\n",
      "   0-14 6349 47840.0 pocket carry strap pockets sleeve room ipad shoulder power mouse\n",
      "     0-14-1 315 1604.0 camera lenses lens equipment tripod canon gear flash pack batteries\n",
      "     0-14-2 202 822.0 drive usb cable power external port drives hard ports card\n",
      "     0-14-3 3794 5559.0 strap drive usb external sleeve cord mouse power netbook shoulder\n",
      "     0-14-4 2038 2952.0 space straps portable accessories gear backpacks storage trip compartments lots\n",
      "   0-15 1816 11859.0 cover $ protection 've leather air velcro plastic sleeve hard\n",
      "     0-15-1 446 1043.0 screen camera protector keyboard lenses key canon usb battery cover\n",
      "     0-15-2 1317 2202.0 drive cover usb keyboard port leather felt speck mbp closed\n",
      "     0-15-3 53 102.0 bumps test annoying floor electronics finger darker blue snapped safe\n",
      "   0-16 903 6919.0 -- zipper : compartment pockets sleeve ; back heavy inside\n",
      "     0-16-1 369 1204.0 camera drive lenses usb lens gear cable canon equipment top\n",
      "     0-16-2 397 800.0 service gear samsonite sony contacted ; notice coming started wide\n",
      "     0-16-3 137 267.0 security purse purple finish dollars cell returning sold close dropping\n",
      "0 10000 20000 30000 0 0 "
     ]
    }
   ],
   "source": [
    "time_start = time.time()\n",
    "while epoch < config.n_epochs:\n",
    "    sample(train_docs, dev_docs, test_docs, topic_root)\n",
    "    ppl_train = get_perplexity(train_docs, topic_root)\n",
    "    ppl_dev = get_perplexity(dev_docs, topic_root)\n",
    "    \n",
    "    if ppl_dev < ppl_min:\n",
    "        ppl_min = ppl_dev\n",
    "        ppl_test = get_perplexity(test_docs, topic_root)\n",
    "        cPickle.dump([test_docs, topic_root], open(config.path_model + '-%i'%epoch, 'wb'))\n",
    "        update_checkpoint(config, checkpoint, epoch)\n",
    "        \n",
    "    depth_spec = get_topic_specialization(test_docs, topic_root)\n",
    "    hierarchical_affinities = get_hierarchical_affinities(topic_root)\n",
    "    \n",
    "    clear_output()\n",
    "    time_log = int(time.time() - time_start)\n",
    "    time_start = time.time()\n",
    "    log_series = pd.Series([time_log, epoch, 0, \\\n",
    "            '%.0f'%ppl_train, '%.0f'%ppl_dev, '%.0f'%ppl_test, \\\n",
    "            '%.2f'%depth_spec[1], '%.2f'%depth_spec[2], '%.2f'%depth_spec[3], \\\n",
    "            '%.2f'%hierarchical_affinities[0], '%.2f'%hierarchical_affinities[1]],\n",
    "            index=log_df.columns)\n",
    "    log_df.loc[epoch] = log_series    \n",
    "    display(log_df)\n",
    "    get_freq_tokens_ncrp(topic_root, idx_to_word, bow_idxs)\n",
    "    \n",
    "    cPickle.dump(log_df, open(config.path_log, 'wb'))\n",
    "    epoch += 1"
   ]
  }
 ],
 "metadata": {
  "kernelspec": {
   "display_name": "py36",
   "language": "python",
   "name": "py36"
  },
  "language_info": {
   "codemirror_mode": {
    "name": "ipython",
    "version": 3
   },
   "file_extension": ".py",
   "mimetype": "text/x-python",
   "name": "python",
   "nbconvert_exporter": "python",
   "pygments_lexer": "ipython3",
   "version": "3.6.9"
  },
  "toc": {
   "base_numbering": 1,
   "nav_menu": {},
   "number_sections": true,
   "sideBar": true,
   "skip_h1_title": false,
   "title_cell": "Table of Contents",
   "title_sidebar": "Contents",
   "toc_cell": false,
   "toc_position": {},
   "toc_section_display": true,
   "toc_window_display": false
  }
 },
 "nbformat": 4,
 "nbformat_minor": 2
}
