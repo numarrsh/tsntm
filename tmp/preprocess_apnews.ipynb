{
 "cells": [
  {
   "cell_type": "code",
   "execution_count": 1,
   "metadata": {},
   "outputs": [],
   "source": [
    "import os\n",
    "import re\n",
    "import _pickle as cPickle\n",
    "from collections import OrderedDict, defaultdict, Counter\n",
    "\n",
    "import matplotlib\n",
    "%matplotlib inline\n",
    "import matplotlib.pyplot as plt\n",
    "\n",
    "import numpy as np\n",
    "import pandas as pd\n",
    "import tensorflow as tf\n",
    "from sklearn.feature_extraction.text import TfidfVectorizer\n",
    "from nltk import word_tokenize\n",
    "\n",
    "from data_structure import Instance"
   ]
  },
  {
   "cell_type": "markdown",
   "metadata": {},
   "source": [
    "# configure"
   ]
  },
  {
   "cell_type": "code",
   "execution_count": 2,
   "metadata": {},
   "outputs": [],
   "source": [
    "def del_all_flags(FLAGS):\n",
    "    flags_dict = FLAGS._flags()    \n",
    "    keys_list = [keys for keys in flags_dict]    \n",
    "    for keys in keys_list:\n",
    "        FLAGS.__delattr__(keys)\n",
    "\n",
    "del_all_flags(tf.flags.FLAGS)\n",
    "\n",
    "flags = tf.app.flags\n",
    "\n",
    "flags.DEFINE_string('train_path', 'data/apnews/apnews50k_train.txt', 'path of output data')\n",
    "flags.DEFINE_string('valid_path', 'data/apnews/apnews50k_valid.txt', 'path of input data')\n",
    "flags.DEFINE_string('test_path', 'data/apnews/apnews50k_test.txt', 'path of input data')\n",
    "\n",
    "flags.DEFINE_string('stopwords_path', 'data/stopwords_mallet.txt', 'path of input data')\n",
    "\n",
    "flags.DEFINE_string('output_path', 'data/apnews/instances.pkl', 'path of output data')\n",
    "\n",
    "flags.DEFINE_integer('n_vocab', 50000, 'size of vocab')\n",
    "\n",
    "flags.DEFINE_string('f', '', 'kernel')\n",
    "\n",
    "config = flags.FLAGS"
   ]
  },
  {
   "cell_type": "code",
   "execution_count": 3,
   "metadata": {},
   "outputs": [],
   "source": [
    "# special tokens\n",
    "PAD = '<pad>' # This has a vocab id, which is used to pad the encoder input, decoder input and target sequence\n",
    "UNK = '<unk>' # This has a vocab id, which is used to represent out-of-vocabulary words\n",
    "BOS = '<p>' # This has a vocab id, which is used at the beginning of every decoder input sequence\n",
    "EOS = '</p>' # This has a vocab id, which is used at the end of untruncated target sequences\n",
    "dummy_tokens = [PAD, UNK, BOS, EOS]"
   ]
  },
  {
   "cell_type": "markdown",
   "metadata": {},
   "source": [
    "# load source"
   ]
  },
  {
   "cell_type": "code",
   "execution_count": 5,
   "metadata": {},
   "outputs": [],
   "source": [
    "def get_df(data_path):\n",
    "    data_dict = {}\n",
    "    with open(data_path, 'r') as f:\n",
    "        txt = f.readlines()\n",
    "        tokens_list = []\n",
    "        doc_list = []\n",
    "        for doc in txt:\n",
    "            doc = re.sub(r'-', ' ', doc)\n",
    "            doc = re.sub(r'[0-9]+.[0-9]+|[0-9]+,[0-9]+|[0-9]+', '<num>', doc)\n",
    "            lines = doc.split('\\t')\n",
    "            doc = ' '.join(lines)\n",
    "            doc_list.append(doc)\n",
    "            tokens = [word_tokenize(line)[:-1] for line in lines]\n",
    "            tokens_list.append(tokens)\n",
    "            doc_l = len(tokens)\n",
    "            max_sent_l = max([len(line) for line in tokens])\n",
    "        data_dict['doc'] = doc_list\n",
    "        data_dict['tokens'] = tokens_list\n",
    "        data_dict['doc_l'] = doc_l\n",
    "        data_dict['max_sent_l'] = max_sent_l\n",
    "    data_df = pd.DataFrame(data_dict)\n",
    "    return data_df"
   ]
  },
  {
   "cell_type": "code",
   "execution_count": 6,
   "metadata": {},
   "outputs": [],
   "source": [
    "train_df = get_df(config.train_path)\n",
    "valid_df = get_df(config.valid_path)\n",
    "test_df = get_df(config.test_path)"
   ]
  },
  {
   "cell_type": "code",
   "execution_count": 7,
   "metadata": {},
   "outputs": [
    {
     "data": {
      "text/plain": [
       "(50000, 2000, 2000)"
      ]
     },
     "execution_count": 7,
     "metadata": {},
     "output_type": "execute_result"
    }
   ],
   "source": [
    "len(train_df), len(valid_df), len(test_df)"
   ]
  },
  {
   "cell_type": "code",
   "execution_count": 8,
   "metadata": {},
   "outputs": [
    {
     "data": {
      "image/png": "[encoded data removed]",
      "text/plain": [
       "<Figure size 576x288 with 1 Axes>"
      ]
     },
     "metadata": {
      "needs_background": "light"
     },
     "output_type": "display_data"
    }
   ],
   "source": [
    "train_df['tokens'].apply(lambda tokens: min([len(line) for line in tokens])).plot(bins=50, alpha=0.5, figsize=(8,4), kind='hist', range=(0, 100));"
   ]
  },
  {
   "cell_type": "code",
   "execution_count": 9,
   "metadata": {},
   "outputs": [],
   "source": [
    "train_df['doc_l'] = train_df['tokens'].apply(lambda tokens: len(tokens))\n",
    "train_df['max_sent_l'] = train_df['tokens'].apply(lambda tokens: max([len(line) for line in tokens]))"
   ]
  },
  {
   "cell_type": "code",
   "execution_count": 12,
   "metadata": {
    "scrolled": true
   },
   "outputs": [
    {
     "data": {
      "image/png": "[encoded data removed]",
      "text/plain": [
       "<Figure size 576x288 with 1 Axes>"
      ]
     },
     "metadata": {
      "needs_background": "light"
     },
     "output_type": "display_data"
    }
   ],
   "source": [
    "train_df.plot(y=['doc_l'], bins=50, alpha=0.5, figsize=(8,4), kind='hist', range=(0, 50));"
   ]
  },
  {
   "cell_type": "code",
   "execution_count": 13,
   "metadata": {},
   "outputs": [
    {
     "data": {
      "text/plain": [
       "0.6727"
      ]
     },
     "execution_count": 13,
     "metadata": {},
     "output_type": "execute_result"
    }
   ],
   "source": [
    "np.sum(train_df['doc_l'] <= 10) / len(train_df)"
   ]
  },
  {
   "cell_type": "code",
   "execution_count": 14,
   "metadata": {},
   "outputs": [
    {
     "data": {
      "image/png": "[encoded data removed]",
      "text/plain": [
       "<Figure size 576x288 with 1 Axes>"
      ]
     },
     "metadata": {
      "needs_background": "light"
     },
     "output_type": "display_data"
    }
   ],
   "source": [
    "train_df.plot(y=['max_sent_l'], bins=50, alpha=0.5, figsize=(8,4), kind='hist', range=(0, 100));"
   ]
  },
  {
   "cell_type": "code",
   "execution_count": 15,
   "metadata": {},
   "outputs": [
    {
     "data": {
      "text/plain": [
       "0.6083"
      ]
     },
     "execution_count": 15,
     "metadata": {},
     "output_type": "execute_result"
    }
   ],
   "source": [
    "np.sum(train_df['max_sent_l'] <= 40) / len(train_df)"
   ]
  },
  {
   "cell_type": "code",
   "execution_count": 16,
   "metadata": {},
   "outputs": [
    {
     "data": {
      "text/plain": [
       "26828"
      ]
     },
     "execution_count": 16,
     "metadata": {},
     "output_type": "execute_result"
    }
   ],
   "source": [
    "filtered_train_df = train_df[(train_df['doc_l'] <= 10) & (train_df['max_sent_l'] <= 40)]\n",
    "len(filtered_train_df)"
   ]
  },
  {
   "cell_type": "code",
   "execution_count": 17,
   "metadata": {},
   "outputs": [],
   "source": [
    "train_df['n_tokens'] = train_df['tokens'].apply(lambda tokens: len([token for line in tokens for token in line]))"
   ]
  },
  {
   "cell_type": "code",
   "execution_count": 20,
   "metadata": {},
   "outputs": [
    {
     "data": {
      "image/png": "[encoded data removed]",
      "text/plain": [
       "<Figure size 576x288 with 1 Axes>"
      ]
     },
     "metadata": {
      "needs_background": "light"
     },
     "output_type": "display_data"
    }
   ],
   "source": [
    "train_df.plot(y=['n_tokens'], bins=50, alpha=0.5, figsize=(8,4), kind='hist', range=(0, 500));"
   ]
  },
  {
   "cell_type": "code",
   "execution_count": 19,
   "metadata": {},
   "outputs": [
    {
     "data": {
      "text/plain": [
       "293.67852"
      ]
     },
     "execution_count": 19,
     "metadata": {},
     "output_type": "execute_result"
    }
   ],
   "source": [
    "np.mean(train_df['n_tokens'])"
   ]
  },
  {
   "cell_type": "markdown",
   "metadata": {},
   "source": [
    "# build vocab for language modeling "
   ]
  },
  {
   "cell_type": "code",
   "execution_count": 311,
   "metadata": {},
   "outputs": [],
   "source": [
    "def get_word_cnt_dict(train_df, min_tf=None):\n",
    "    # create vocab of words\n",
    "    word_cnt_dict = defaultdict(int)\n",
    "    word_cnt_dict['.'] = np.inf\n",
    "    word_cnt_dict[EOS] = np.inf\n",
    "    word_cnt_dict[BOS] = np.inf\n",
    "    word_cnt_dict[UNK] = np.inf\n",
    "    word_cnt_dict[PAD] = np.inf\n",
    "    \n",
    "    tokens_list = []\n",
    "    for doc in train_df.tokens:\n",
    "        tokens_list.extend(doc)\n",
    "    \n",
    "    for tokens in tokens_list:\n",
    "        for word in tokens:\n",
    "            word_cnt_dict[word] += 1\n",
    "    word_cnt_dict = sorted(word_cnt_dict.items(), key=lambda x: x[1])[::-1]\n",
    "    \n",
    "    if type(min_tf) is int:\n",
    "        word_cnt_dict = list(filter(lambda x: x[1] >= min_tf, word_cnt_dict))\n",
    "    elif type(min_tf) is float:\n",
    "        word_cnt_dict = word_cnt_dict[:int(min_tf*len(word_cnt_dict))]\n",
    "    return word_cnt_dict"
   ]
  },
  {
   "cell_type": "code",
   "execution_count": 312,
   "metadata": {},
   "outputs": [
    {
     "name": "stdout",
     "output_type": "stream",
     "text": [
      "9187 24143\n"
     ]
    }
   ],
   "source": [
    "word_cnt_dict = get_word_cnt_dict(train_df, min_tf=3)\n",
    "print(len(word_cnt_dict), len(get_word_cnt_dict(train_df, min_tf=0)))"
   ]
  },
  {
   "cell_type": "code",
   "execution_count": 313,
   "metadata": {},
   "outputs": [],
   "source": [
    "idx_to_word = {idx: word for idx, (word, cnt) in enumerate(word_cnt_dict)}\n",
    "word_to_idx = {word: idx for idx, word in idx_to_word.items()}"
   ]
  },
  {
   "cell_type": "markdown",
   "metadata": {},
   "source": [
    "# build bow vector"
   ]
  },
  {
   "cell_type": "code",
   "execution_count": 321,
   "metadata": {
    "collapsed": true
   },
   "outputs": [
    {
     "data": {
      "text/plain": [
       "[('<pad>', inf),\n",
       " ('<unk>', inf),\n",
       " ('<p>', inf),\n",
       " ('</p>', inf),\n",
       " ('.', inf),\n",
       " ('the', 111879),\n",
       " ('it', 81471),\n",
       " ('i', 79097),\n",
       " (',', 68687),\n",
       " ('and', 64002),\n",
       " ('a', 60617),\n",
       " ('to', 46056),\n",
       " ('is', 44618),\n",
       " ('for', 38817),\n",
       " ('this', 37206),\n",
       " ('#', 34880),\n",
       " ('my', 33611),\n",
       " ('of', 28139),\n",
       " ('in', 21559),\n",
       " ('that', 20855),\n",
       " ('case', 20791),\n",
       " ('but', 18993),\n",
       " ('bag', 17701),\n",
       " ('on', 17672),\n",
       " ('laptop', 17486),\n",
       " ('with', 17067),\n",
       " ('was', 16777),\n",
       " ('not', 15996),\n",
       " ('have', 14195),\n",
       " (\"n't\", 13615),\n",
       " ('you', 12285),\n",
       " (\"'s\", 12241),\n",
       " ('very', 11993),\n",
       " ('as', 11237),\n",
       " ('so', 10425),\n",
       " ('great', 9700),\n",
       " ('like', 9466),\n",
       " ('would', 9414),\n",
       " ('one', 9067),\n",
       " ('has', 8675),\n",
       " ('well', 8442),\n",
       " ('be', 8335),\n",
       " ('fit', 8280),\n",
       " ('just', 7768),\n",
       " ('fits', 7533),\n",
       " ('all', 7467),\n",
       " ('if', 7225),\n",
       " ('are', 7195),\n",
       " ('macbook', 7048),\n",
       " ('good', 7016),\n",
       " ('does', 6709),\n",
       " ('when', 6423),\n",
       " ('had', 6338),\n",
       " ('from', 5980),\n",
       " ('do', 5923),\n",
       " ('or', 5875),\n",
       " ('there', 5714),\n",
       " ('use', 5691),\n",
       " ('only', 5637),\n",
       " ('more', 5617),\n",
       " ('-lrb-', 5601),\n",
       " ('backpack', 5584),\n",
       " ('product', 5540),\n",
       " ('computer', 5536),\n",
       " ('can', 5507),\n",
       " ('will', 5506),\n",
       " ('``', 5490),\n",
       " ('at', 5419),\n",
       " ('really', 5381),\n",
       " ('your', 5337),\n",
       " ('-rrb-', 5308),\n",
       " ('other', 5245)]"
      ]
     },
     "execution_count": 321,
     "metadata": {},
     "output_type": "execute_result"
    }
   ],
   "source": [
    "stop_word_cnt_dict = get_word_cnt_dict(train_df, min_tf=0.003)\n",
    "len(stop_word_cnt_dict)\n",
    "stop_word_cnt_dict"
   ]
  },
  {
   "cell_type": "code",
   "execution_count": 322,
   "metadata": {},
   "outputs": [
    {
     "data": {
      "text/plain": [
       "524"
      ]
     },
     "execution_count": 322,
     "metadata": {},
     "output_type": "execute_result"
    }
   ],
   "source": [
    "with open(config.stopwords_path, 'r') as f:\n",
    "    stop_words_mallet = [w.replace('\\n', '') for w in f.readlines()]\n",
    "len(stop_words_mallet)"
   ]
  },
  {
   "cell_type": "code",
   "execution_count": 323,
   "metadata": {},
   "outputs": [
    {
     "data": {
      "text/plain": [
       "592"
      ]
     },
     "execution_count": 323,
     "metadata": {},
     "output_type": "execute_result"
    }
   ],
   "source": [
    "stop_words = stop_words_mallet + [w_cnt[0] for w_cnt in stop_word_cnt_dict if w_cnt[0] not in dummy_tokens]\n",
    "len(stop_words)"
   ]
  },
  {
   "cell_type": "code",
   "execution_count": 324,
   "metadata": {},
   "outputs": [],
   "source": [
    "train_corpus = list(train_df.doc)\n",
    "valid_corpus = list(valid_df.doc)\n",
    "test_corpus = list(test_df.doc)"
   ]
  },
  {
   "cell_type": "code",
   "execution_count": 325,
   "metadata": {},
   "outputs": [
    {
     "name": "stdout",
     "output_type": "stream",
     "text": [
      "1035\n"
     ]
    }
   ],
   "source": [
    "vectorizer = TfidfVectorizer(min_df=100, max_df=1.0, stop_words=stop_words, tokenizer=word_tokenize, norm=None, use_idf=False, dtype=np.float32)\n",
    "train_bow_list = vectorizer.fit_transform(train_corpus)\n",
    "bow_tokens = vectorizer.get_feature_names()\n",
    "print(len(bow_tokens))\n",
    "assert len(train_df) == len(train_bow_list.toarray())\n",
    "assert all([word in word_to_idx for word in bow_tokens])"
   ]
  },
  {
   "cell_type": "code",
   "execution_count": 326,
   "metadata": {},
   "outputs": [],
   "source": [
    "valid_bow_list = vectorizer.transform(valid_corpus)\n",
    "test_bow_list = vectorizer.transform(test_corpus)"
   ]
  },
  {
   "cell_type": "code",
   "execution_count": 327,
   "metadata": {},
   "outputs": [],
   "source": [
    "bow_idxs = np.array([word_to_idx[token] for token in bow_tokens])"
   ]
  },
  {
   "cell_type": "markdown",
   "metadata": {},
   "source": [
    "## check"
   ]
  },
  {
   "cell_type": "code",
   "execution_count": 328,
   "metadata": {},
   "outputs": [
    {
     "data": {
      "text/plain": [
       "0.0"
      ]
     },
     "execution_count": 328,
     "metadata": {},
     "output_type": "execute_result"
    }
   ],
   "source": [
    "sample_doc_idx = 1\n",
    "sample_doc = train_corpus[sample_doc_idx]\n",
    "sample_tokens = word_tokenize(sample_doc)\n",
    "filtered_tokens = [w for w in sample_tokens if (w not in vectorizer.stop_words_) and (w not in stop_words)]\n",
    "assert all([word in bow_tokens for word in filtered_tokens])\n",
    "\n",
    "filtered_word_cnt_dict = Counter(filtered_tokens)\n",
    "pseudo_bow = np.array([float(filtered_word_cnt_dict[w]) if w in filtered_word_cnt_dict else 0. for w in bow_tokens])\n",
    "# pseudo_bow = pseudo_bow / np.sum(pseudo_bow)\n",
    "\n",
    "sample_bow = train_bow_list.toarray()[sample_doc_idx]\n",
    "np.max((sample_bow - pseudo_bow)**2)"
   ]
  },
  {
   "cell_type": "code",
   "execution_count": 329,
   "metadata": {},
   "outputs": [
    {
     "data": {
      "text/plain": [
       "(array([   0,   11,   37,   94,  100,  120,  128,  142,  237,  245,  248,\n",
       "         268,  337,  390,  428,  448,  478,  568,  628,  644,  728,  810,\n",
       "         861,  891,  934, 1017, 1029]),)"
      ]
     },
     "execution_count": 329,
     "metadata": {},
     "output_type": "execute_result"
    }
   ],
   "source": [
    "np.where(pseudo_bow>0)"
   ]
  },
  {
   "cell_type": "code",
   "execution_count": 330,
   "metadata": {},
   "outputs": [
    {
     "data": {
      "text/plain": [
       "(array([   0,   11,   37,   94,  100,  120,  128,  142,  237,  245,  248,\n",
       "         268,  337,  390,  428,  448,  478,  568,  628,  644,  728,  810,\n",
       "         861,  891,  934, 1017, 1029]),)"
      ]
     },
     "execution_count": 330,
     "metadata": {},
     "output_type": "execute_result"
    }
   ],
   "source": [
    "np.where(sample_bow>0)"
   ]
  },
  {
   "cell_type": "markdown",
   "metadata": {},
   "source": [
    "# write out"
   ]
  },
  {
   "cell_type": "code",
   "execution_count": 342,
   "metadata": {},
   "outputs": [],
   "source": [
    "def prepare_instances(data_df, word_to_idx, bow_list, item_idx_summaries=None):\n",
    "    instances = []\n",
    "    bows = bow_list.toarray()\n",
    "    assert len(bows) == len(data_df)\n",
    "    for bow, (idx_doc, doc) in zip(bows, data_df.iterrows()):\n",
    "        instance = Instance()\n",
    "        instance.idx = idx_doc\n",
    "        instance.review_idx = doc.review_idx\n",
    "        instance.item_idx = doc.item_idx\n",
    "        instance.score = doc.score\n",
    "        doc_token_idxs = []\n",
    "        for sent_tokens in doc.tokens:\n",
    "            sent_token_idxs = [word_to_idx[token] if token in word_to_idx else word_to_idx[UNK] for token in sent_tokens]\n",
    "            doc_token_idxs.append(sent_token_idxs)            \n",
    "        instance.token_idxs = doc_token_idxs\n",
    "        instance.doc_l = doc.doc_l\n",
    "        instance.max_sent_l = doc.max_sent_l\n",
    "        instance.bow = bow\n",
    "        if item_idx_summaries:\n",
    "            instance.summaries = item_idx_summaries[instance.item_idx]\n",
    "        instances.append(instance)\n",
    "    return instances"
   ]
  },
  {
   "cell_type": "code",
   "execution_count": 343,
   "metadata": {},
   "outputs": [],
   "source": [
    "instances_train = prepare_instances(train_df, word_to_idx, train_bow_list)\n",
    "instances_valid = prepare_instances(valid_df, word_to_idx, valid_bow_list)\n",
    "instances_test = prepare_instances(test_df, word_to_idx, test_bow_list, item_idx_summaries)"
   ]
  },
  {
   "cell_type": "code",
   "execution_count": 344,
   "metadata": {},
   "outputs": [
    {
     "name": "stdout",
     "output_type": "stream",
     "text": [
      "saving preprocessed instances...\n"
     ]
    }
   ],
   "source": [
    "print('saving preprocessed instances...')\n",
    "cPickle.dump((instances_train, instances_valid, instances_test, word_to_idx, idx_to_word, bow_idxs),open(config.output_path,'wb'))"
   ]
  },
  {
   "cell_type": "code",
   "execution_count": null,
   "metadata": {},
   "outputs": [],
   "source": []
  }
 ],
 "metadata": {
  "kernelspec": {
   "display_name": "py36",
   "language": "python",
   "name": "py36"
  },
  "language_info": {
   "codemirror_mode": {
    "name": "ipython",
    "version": 3
   },
   "file_extension": ".py",
   "mimetype": "text/x-python",
   "name": "python",
   "nbconvert_exporter": "python",
   "pygments_lexer": "ipython3",
   "version": "3.6.9"
  },
  "toc": {
   "base_numbering": 1,
   "nav_menu": {},
   "number_sections": true,
   "sideBar": true,
   "skip_h1_title": false,
   "title_cell": "Table of Contents",
   "title_sidebar": "Contents",
   "toc_cell": false,
   "toc_position": {},
   "toc_section_display": true,
   "toc_window_display": false
  }
 },
 "nbformat": 4,
 "nbformat_minor": 2
}
