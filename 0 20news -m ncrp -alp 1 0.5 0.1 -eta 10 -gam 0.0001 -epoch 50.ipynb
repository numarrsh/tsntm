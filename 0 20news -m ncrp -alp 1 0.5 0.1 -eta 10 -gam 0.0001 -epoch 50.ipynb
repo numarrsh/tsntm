{
 "cells": [
  {
   "cell_type": "code",
   "execution_count": 1,
   "metadata": {},
   "outputs": [
    {
     "data": {
      "application/javascript": [
       "IPython.notebook.kernel.execute('nb_name = \"' + IPython.notebook.notebook_name + '\"')\n"
      ],
      "text/plain": [
       "<IPython.core.display.Javascript object>"
      ]
     },
     "metadata": {},
     "output_type": "display_data"
    }
   ],
   "source": [
    "%%javascript\n",
    "IPython.notebook.kernel.execute('nb_name = \"' + IPython.notebook.notebook_name + '\"')"
   ]
  },
  {
   "cell_type": "code",
   "execution_count": 2,
   "metadata": {},
   "outputs": [],
   "source": [
    "%load_ext autoreload\n",
    "%autoreload\n",
    "from IPython.display import clear_output\n",
    "\n",
    "import os\n",
    "import pdb\n",
    "import _pickle as cPickle\n",
    "import time\n",
    "import subprocess\n",
    "import glob\n",
    "\n",
    "import random\n",
    "import numpy as np\n",
    "import pandas as pd\n",
    "import tensorflow as tf\n",
    "\n",
    "from collections import defaultdict, Counter\n",
    "from ncrp import Topic, Doc, init, sample, get_perplexity, get_topic_specialization, get_hierarchical_affinities, get_freq_tokens_ncrp, get_docs\n",
    "from configure import get_config"
   ]
  },
  {
   "cell_type": "markdown",
   "metadata": {},
   "source": [
    "# load config & data "
   ]
  },
  {
   "cell_type": "code",
   "execution_count": 3,
   "metadata": {},
   "outputs": [],
   "source": [
    "config = get_config(nb_name)\n",
    "np.random.seed(config.seed)\n",
    "random.seed(config.seed)"
   ]
  },
  {
   "cell_type": "code",
   "execution_count": 4,
   "metadata": {},
   "outputs": [
    {
     "name": "stderr",
     "output_type": "stream",
     "text": [
      "Exception ignored in: <_io.FileIO name='data/20news/instances.pkl' mode='rb' closefd=True>\n",
      "ResourceWarning: unclosed file <_io.BufferedReader name='data/20news/instances.pkl'>\n"
     ]
    }
   ],
   "source": [
    "instances_train, instances_dev, instances_test, word_to_idx, idx_to_word, bow_idxs = cPickle.load(open(config.path_data,'rb'))"
   ]
  },
  {
   "cell_type": "code",
   "execution_count": 5,
   "metadata": {},
   "outputs": [
    {
     "data": {
      "text/plain": [
       "(11258, 1995)"
      ]
     },
     "execution_count": 5,
     "metadata": {},
     "output_type": "execute_result"
    }
   ],
   "source": [
    "config.n_doc = len(instances_train)\n",
    "config.n_vocab = len(bow_idxs)\n",
    "config.n_doc, config.n_vocab"
   ]
  },
  {
   "cell_type": "markdown",
   "metadata": {},
   "source": [
    "# run"
   ]
  },
  {
   "cell_type": "markdown",
   "metadata": {},
   "source": [
    "## initialize log"
   ]
  },
  {
   "cell_type": "code",
   "execution_count": 6,
   "metadata": {},
   "outputs": [],
   "source": [
    "checkpoint = []\n",
    "ppl_min = np.inf\n",
    "epoch = 0\n",
    "\n",
    "cmd_rm = 'rm -r %s' % config.dir_model\n",
    "res = subprocess.call(cmd_rm.split())\n",
    "cmd_mk = 'mkdir %s' % config.dir_model\n",
    "res = subprocess.call(cmd_mk.split())\n",
    "\n",
    "log_df = pd.DataFrame(columns=pd.MultiIndex.from_tuples(\n",
    "                    list(zip(*[['','','','TRAIN:','VALID:','TEST:','SPEC:', '', '', 'HIER:', ''],\n",
    "                            ['Time','Ep','Ct','PPL','PPL', 'PPL','1', '2', '3', 'CHILD', 'OTHER']]))))\n",
    "\n",
    "def update_checkpoint(config, checkpoint, epoch):\n",
    "    checkpoint.append(config.path_model + '-%i' % epoch)\n",
    "    if len(checkpoint) > config.max_to_keep:\n",
    "        path_model = checkpoint.pop(0)\n",
    "        for p in glob.glob(path_model):\n",
    "            os.remove(p)\n",
    "    cPickle.dump(checkpoint, open(config.path_checkpoint, 'wb'))"
   ]
  },
  {
   "cell_type": "markdown",
   "metadata": {},
   "source": [
    "## initialize data"
   ]
  },
  {
   "cell_type": "code",
   "execution_count": 7,
   "metadata": {},
   "outputs": [
    {
     "name": "stdout",
     "output_type": "stream",
     "text": [
      "0 10000 0 0 "
     ]
    }
   ],
   "source": [
    "topic_root = Topic(idx='0', sibling_idx=0, parent=None, depth=0, config=config)\n",
    "train_docs = get_docs(instances_train, config)\n",
    "dev_docs = get_docs(instances_dev, config)\n",
    "test_docs = get_docs(instances_test, config)\n",
    "init(train_docs, dev_docs, test_docs, topic_root)"
   ]
  },
  {
   "cell_type": "markdown",
   "metadata": {},
   "source": [
    "## run"
   ]
  },
  {
   "cell_type": "code",
   "execution_count": null,
   "metadata": {
    "scrolled": false
   },
   "outputs": [
    {
     "data": {
      "text/html": [
       "<div>\n",
       "<style scoped>\n",
       "    .dataframe tbody tr th:only-of-type {\n",
       "        vertical-align: middle;\n",
       "    }\n",
       "\n",
       "    .dataframe tbody tr th {\n",
       "        vertical-align: top;\n",
       "    }\n",
       "\n",
       "    .dataframe thead tr th {\n",
       "        text-align: left;\n",
       "    }\n",
       "</style>\n",
       "<table border=\"1\" class=\"dataframe\">\n",
       "  <thead>\n",
       "    <tr>\n",
       "      <th></th>\n",
       "      <th colspan=\"3\" halign=\"left\"></th>\n",
       "      <th>TRAIN:</th>\n",
       "      <th>VALID:</th>\n",
       "      <th>TEST:</th>\n",
       "      <th>SPEC:</th>\n",
       "      <th colspan=\"2\" halign=\"left\"></th>\n",
       "      <th>HIER:</th>\n",
       "      <th></th>\n",
       "    </tr>\n",
       "    <tr>\n",
       "      <th></th>\n",
       "      <th>Time</th>\n",
       "      <th>Ep</th>\n",
       "      <th>Ct</th>\n",
       "      <th>PPL</th>\n",
       "      <th>PPL</th>\n",
       "      <th>PPL</th>\n",
       "      <th>1</th>\n",
       "      <th>2</th>\n",
       "      <th>3</th>\n",
       "      <th>CHILD</th>\n",
       "      <th>OTHER</th>\n",
       "    </tr>\n",
       "  </thead>\n",
       "  <tbody>\n",
       "    <tr>\n",
       "      <th>0</th>\n",
       "      <td>477</td>\n",
       "      <td>0</td>\n",
       "      <td>0</td>\n",
       "      <td>1030</td>\n",
       "      <td>1031</td>\n",
       "      <td>1034</td>\n",
       "      <td>0.01</td>\n",
       "      <td>0.44</td>\n",
       "      <td>0.44</td>\n",
       "      <td>0.70</td>\n",
       "      <td>0.68</td>\n",
       "    </tr>\n",
       "    <tr>\n",
       "      <th>1</th>\n",
       "      <td>516</td>\n",
       "      <td>1</td>\n",
       "      <td>0</td>\n",
       "      <td>958</td>\n",
       "      <td>965</td>\n",
       "      <td>964</td>\n",
       "      <td>0.01</td>\n",
       "      <td>0.45</td>\n",
       "      <td>0.45</td>\n",
       "      <td>0.70</td>\n",
       "      <td>0.69</td>\n",
       "    </tr>\n",
       "    <tr>\n",
       "      <th>2</th>\n",
       "      <td>545</td>\n",
       "      <td>2</td>\n",
       "      <td>0</td>\n",
       "      <td>912</td>\n",
       "      <td>928</td>\n",
       "      <td>928</td>\n",
       "      <td>0.01</td>\n",
       "      <td>0.47</td>\n",
       "      <td>0.46</td>\n",
       "      <td>0.70</td>\n",
       "      <td>0.69</td>\n",
       "    </tr>\n",
       "    <tr>\n",
       "      <th>3</th>\n",
       "      <td>594</td>\n",
       "      <td>3</td>\n",
       "      <td>0</td>\n",
       "      <td>887</td>\n",
       "      <td>907</td>\n",
       "      <td>907</td>\n",
       "      <td>0.02</td>\n",
       "      <td>0.48</td>\n",
       "      <td>0.46</td>\n",
       "      <td>0.72</td>\n",
       "      <td>0.71</td>\n",
       "    </tr>\n",
       "    <tr>\n",
       "      <th>4</th>\n",
       "      <td>601</td>\n",
       "      <td>4</td>\n",
       "      <td>0</td>\n",
       "      <td>869</td>\n",
       "      <td>891</td>\n",
       "      <td>891</td>\n",
       "      <td>0.02</td>\n",
       "      <td>0.47</td>\n",
       "      <td>0.46</td>\n",
       "      <td>0.71</td>\n",
       "      <td>0.71</td>\n",
       "    </tr>\n",
       "    <tr>\n",
       "      <th>5</th>\n",
       "      <td>607</td>\n",
       "      <td>5</td>\n",
       "      <td>0</td>\n",
       "      <td>854</td>\n",
       "      <td>875</td>\n",
       "      <td>875</td>\n",
       "      <td>0.03</td>\n",
       "      <td>0.47</td>\n",
       "      <td>0.46</td>\n",
       "      <td>0.71</td>\n",
       "      <td>0.70</td>\n",
       "    </tr>\n",
       "    <tr>\n",
       "      <th>6</th>\n",
       "      <td>637</td>\n",
       "      <td>6</td>\n",
       "      <td>0</td>\n",
       "      <td>836</td>\n",
       "      <td>858</td>\n",
       "      <td>858</td>\n",
       "      <td>0.03</td>\n",
       "      <td>0.47</td>\n",
       "      <td>0.46</td>\n",
       "      <td>0.71</td>\n",
       "      <td>0.71</td>\n",
       "    </tr>\n",
       "    <tr>\n",
       "      <th>7</th>\n",
       "      <td>663</td>\n",
       "      <td>7</td>\n",
       "      <td>0</td>\n",
       "      <td>819</td>\n",
       "      <td>840</td>\n",
       "      <td>839</td>\n",
       "      <td>0.03</td>\n",
       "      <td>0.46</td>\n",
       "      <td>0.46</td>\n",
       "      <td>0.73</td>\n",
       "      <td>0.72</td>\n",
       "    </tr>\n",
       "  </tbody>\n",
       "</table>\n",
       "</div>"
      ],
      "text/plain": [
       "             TRAIN: VALID: TEST: SPEC:             HIER:      \n",
       "  Time Ep Ct    PPL    PPL   PPL     1     2     3 CHILD OTHER\n",
       "0  477  0  0   1030   1031  1034  0.01  0.44  0.44  0.70  0.68\n",
       "1  516  1  0    958    965   964  0.01  0.45  0.45  0.70  0.69\n",
       "2  545  2  0    912    928   928  0.01  0.47  0.46  0.70  0.69\n",
       "3  594  3  0    887    907   907  0.02  0.48  0.46  0.72  0.71\n",
       "4  601  4  0    869    891   891  0.02  0.47  0.46  0.71  0.71\n",
       "5  607  5  0    854    875   875  0.03  0.47  0.46  0.71  0.70\n",
       "6  637  6  0    836    858   858  0.03  0.47  0.46  0.71  0.71\n",
       "7  663  7  0    819    840   839  0.03  0.46  0.46  0.73  0.72"
      ]
     },
     "metadata": {},
     "output_type": "display_data"
    },
    {
     "name": "stderr",
     "output_type": "stream",
     "text": [
      "Exception ignored in: <_io.FileIO name='model/20news/ncrp/20news-mncrp-alp10.50.1-eta10-gam0.0001-epoch50/log' mode='wb' closefd=True>\n",
      "ResourceWarning: unclosed file <_io.BufferedWriter name='model/20news/ncrp/20news-mncrp-alp10.50.1-eta10-gam0.0001-epoch50/log'>\n"
     ]
    },
    {
     "name": "stdout",
     "output_type": "stream",
     "text": [
      " 0 11258 483601.0 write one article know say think get people use make\n",
      "   0-1 6027 194346.0 say write go get people article one see make like\n",
      "     0-1-1 2986 4749.0 radar detector san helmet install msg ca ac ticket unit\n",
      "     0-1-2 1056 2268.0 turks greek greece turkish turkey ed york village movement press\n",
      "     0-1-3 1151 1428.0 insurance spacecraft health private mode plant coverage public canadian french\n",
      "     0-1-4 728 855.0 plane edge master nsa level damage sure dan face dream\n",
      "     0-1-5 106 114.0 meeting various chapter foundation lewis addition board doug doctrine shop\n",
      "   0-2 3689 164567.0 use file drive get program window run system card problem\n",
      "     0-2-1 3678 1794.0 channel condition fax internet copyright battery amp switch circuit customer\n",
      "     0-2-2 11 2.0 judge mass bhj peace ram dave knowledge prevent james throw\n",
      "   0-3 853 52479.0 game team play player win year go season hockey get\n",
      "     0-3-1 853 450.0 biggest street puck flame gun hold interested press anybody deserve\n",
      "   0-4 3 1493.0 db mov bh cs byte al bit push pop one\n",
      "     0-4-1 3 0.0 bhj series ram dave knowledge prevent james throw washington legal\n",
      "   0-5 516 60276.0 key use space encryption information system chip technology datum privacy\n",
      "     0-5-1 483 553.0 since brad implementation team orbit continue vehicle ibm demand company\n",
      "     0-5-2 33 67.0 june collection australia install car sunday hand period particularly hus\n",
      "   0-6 42 3475.0 dos appear cover rg copy art oo new eus vs\n",
      "     0-6-1 42 414.0 de van run ride annual meet dog sin swap na\n",
      "   0-7 1 1690.0 war south secret nuclear island ship military georgia plan british\n",
      "     0-7-1 1 0.0 bhj series ram dave knowledge prevent james throw washington legal\n",
      "   0-8 64 6957.0 ground wire water outlet wiring circuit neutral box use connect\n",
      "     0-8-1 64 205.0 thread screw detector rear step text detect every seat georgia\n",
      "   0-10 48 8365.0 file gun firearm handgun homicide crime weapon control law bill\n",
      "     0-10-1 48 281.0 god book publish page de telephone richard person ibm enforcement\n",
      "   0-11 7 907.0 anonymous server user service site posting poster abuse usenet privacy\n",
      "     0-11-1 7 46.0 backup failure database warrant poster crypto media serious oppose internet\n",
      "   0-12 8 102.0 music na child teaching morality surrender method attitude appropriate friend\n",
      "     0-12-1 8 9.0 build jim ford value objective organize religion frank throw washington\n",
      "0 10000 0 0 "
     ]
    }
   ],
   "source": [
    "time_start = time.time()\n",
    "while epoch < config.n_epochs:\n",
    "    sample(train_docs, dev_docs, test_docs, topic_root)\n",
    "    ppl_train = get_perplexity(train_docs, topic_root)\n",
    "    ppl_dev = get_perplexity(dev_docs, topic_root)\n",
    "    \n",
    "    if ppl_dev < ppl_min:\n",
    "        ppl_min = ppl_dev\n",
    "        ppl_test = get_perplexity(test_docs, topic_root)\n",
    "        cPickle.dump([test_docs, topic_root], open(config.path_model + '-%i'%epoch, 'wb'))\n",
    "        update_checkpoint(config, checkpoint, epoch)\n",
    "        \n",
    "    depth_spec = get_topic_specialization(test_docs, topic_root)\n",
    "    hierarchical_affinities = get_hierarchical_affinities(topic_root)\n",
    "    \n",
    "    clear_output()\n",
    "    time_log = int(time.time() - time_start)\n",
    "    time_start = time.time()\n",
    "    log_series = pd.Series([time_log, epoch, 0, \\\n",
    "            '%.0f'%ppl_train, '%.0f'%ppl_dev, '%.0f'%ppl_test, \\\n",
    "            '%.2f'%depth_spec[1], '%.2f'%depth_spec[2], '%.2f'%depth_spec[3], \\\n",
    "            '%.2f'%hierarchical_affinities[0], '%.2f'%hierarchical_affinities[1]],\n",
    "            index=log_df.columns)\n",
    "    log_df.loc[epoch] = log_series    \n",
    "    display(log_df)\n",
    "    get_freq_tokens_ncrp(topic_root, idx_to_word, bow_idxs)\n",
    "    \n",
    "    cPickle.dump(log_df, open(config.path_log, 'wb'))\n",
    "    epoch += 1"
   ]
  },
  {
   "cell_type": "code",
   "execution_count": null,
   "metadata": {},
   "outputs": [],
   "source": []
  }
 ],
 "metadata": {
  "kernelspec": {
   "display_name": "py36",
   "language": "python",
   "name": "py36"
  },
  "language_info": {
   "codemirror_mode": {
    "name": "ipython",
    "version": 3
   },
   "file_extension": ".py",
   "mimetype": "text/x-python",
   "name": "python",
   "nbconvert_exporter": "python",
   "pygments_lexer": "ipython3",
   "version": "3.6.9"
  },
  "toc": {
   "base_numbering": 1,
   "nav_menu": {},
   "number_sections": true,
   "sideBar": true,
   "skip_h1_title": false,
   "title_cell": "Table of Contents",
   "title_sidebar": "Contents",
   "toc_cell": false,
   "toc_position": {},
   "toc_section_display": true,
   "toc_window_display": false
  }
 },
 "nbformat": 4,
 "nbformat_minor": 2
}
