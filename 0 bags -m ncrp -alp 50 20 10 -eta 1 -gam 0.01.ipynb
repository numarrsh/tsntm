{
 "cells": [
  {
   "cell_type": "code",
   "execution_count": 3,
   "metadata": {},
   "outputs": [
    {
     "data": {
      "application/javascript": [
       "IPython.notebook.kernel.execute('nb_name = \"' + IPython.notebook.notebook_name + '\"')\n"
      ],
      "text/plain": [
       "<IPython.core.display.Javascript object>"
      ]
     },
     "metadata": {},
     "output_type": "display_data"
    }
   ],
   "source": [
    "%%javascript\n",
    "IPython.notebook.kernel.execute('nb_name = \"' + IPython.notebook.notebook_name + '\"')"
   ]
  },
  {
   "cell_type": "code",
   "execution_count": 4,
   "metadata": {},
   "outputs": [
    {
     "name": "stdout",
     "output_type": "stream",
     "text": [
      "The autoreload extension is already loaded. To reload it, use:\n",
      "  %reload_ext autoreload\n"
     ]
    }
   ],
   "source": [
    "%load_ext autoreload\n",
    "%autoreload\n",
    "from IPython.display import clear_output\n",
    "\n",
    "import os\n",
    "import pdb\n",
    "import _pickle as cPickle\n",
    "import time\n",
    "import subprocess\n",
    "import glob\n",
    "\n",
    "import random\n",
    "import numpy as np\n",
    "import pandas as pd\n",
    "import tensorflow as tf\n",
    "\n",
    "from collections import defaultdict, Counter\n",
    "from ncrp import Topic, Doc, init, sample, get_perplexity, get_topic_specialization, get_hierarchical_affinities, get_freq_tokens_ncrp, get_docs\n",
    "from configure import get_config"
   ]
  },
  {
   "cell_type": "markdown",
   "metadata": {},
   "source": [
    "# load config & data "
   ]
  },
  {
   "cell_type": "code",
   "execution_count": 5,
   "metadata": {},
   "outputs": [],
   "source": [
    "config = get_config(nb_name)\n",
    "np.random.seed(config.seed)\n",
    "random.seed(config.seed)"
   ]
  },
  {
   "cell_type": "code",
   "execution_count": 6,
   "metadata": {},
   "outputs": [],
   "source": [
    "instances_train, instances_dev, instances_test, word_to_idx, idx_to_word, bow_idxs = cPickle.load(open(config.path_data,'rb'))"
   ]
  },
  {
   "cell_type": "code",
   "execution_count": 7,
   "metadata": {},
   "outputs": [
    {
     "data": {
      "text/plain": [
       "(31943, 1035)"
      ]
     },
     "execution_count": 7,
     "metadata": {},
     "output_type": "execute_result"
    }
   ],
   "source": [
    "config.n_doc = len(instances_train)\n",
    "config.n_vocab = len(bow_idxs)\n",
    "config.n_doc, config.n_vocab"
   ]
  },
  {
   "cell_type": "markdown",
   "metadata": {},
   "source": [
    "# run"
   ]
  },
  {
   "cell_type": "markdown",
   "metadata": {},
   "source": [
    "## initialize log"
   ]
  },
  {
   "cell_type": "code",
   "execution_count": 8,
   "metadata": {},
   "outputs": [],
   "source": [
    "checkpoint = []\n",
    "ppl_min = np.inf\n",
    "epoch = 0\n",
    "\n",
    "cmd_rm = 'rm -r %s' % config.dir_model\n",
    "res = subprocess.call(cmd_rm.split())\n",
    "cmd_mk = 'mkdir %s' % config.dir_model\n",
    "res = subprocess.call(cmd_mk.split())\n",
    "\n",
    "log_df = pd.DataFrame(columns=pd.MultiIndex.from_tuples(\n",
    "                    list(zip(*[['','','','TRAIN:','VALID:','TEST:','SPEC:', '', '', 'HIER:', ''],\n",
    "                            ['Time','Ep','Ct','PPL','PPL', 'PPL','1', '2', '3', 'CHILD', 'OTHER']]))))\n",
    "\n",
    "def update_checkpoint(config, checkpoint, epoch):\n",
    "    checkpoint.append(config.path_model + '-%i' % epoch)\n",
    "    if len(checkpoint) > config.max_to_keep:\n",
    "        path_model = checkpoint.pop(0)\n",
    "        for p in glob.glob(path_model):\n",
    "            os.remove(p)\n",
    "    cPickle.dump(checkpoint, open(config.path_checkpoint, 'wb'))"
   ]
  },
  {
   "cell_type": "markdown",
   "metadata": {},
   "source": [
    "## initialize data"
   ]
  },
  {
   "cell_type": "code",
   "execution_count": 9,
   "metadata": {},
   "outputs": [
    {
     "name": "stdout",
     "output_type": "stream",
     "text": [
      "0 10000 20000 30000 0 0 "
     ]
    }
   ],
   "source": [
    "topic_root = Topic(idx='0', sibling_idx=0, parent=None, depth=0, config=config)\n",
    "train_docs = get_docs(instances_train, config)\n",
    "dev_docs = get_docs(instances_dev, config)\n",
    "test_docs = get_docs(instances_test, config)\n",
    "init(train_docs, dev_docs, test_docs, topic_root)"
   ]
  },
  {
   "cell_type": "markdown",
   "metadata": {},
   "source": [
    "## run"
   ]
  },
  {
   "cell_type": "code",
   "execution_count": null,
   "metadata": {
    "scrolled": false
   },
   "outputs": [
    {
     "data": {
      "text/html": [
       "<div>\n",
       "<style scoped>\n",
       "    .dataframe tbody tr th:only-of-type {\n",
       "        vertical-align: middle;\n",
       "    }\n",
       "\n",
       "    .dataframe tbody tr th {\n",
       "        vertical-align: top;\n",
       "    }\n",
       "\n",
       "    .dataframe thead tr th {\n",
       "        text-align: left;\n",
       "    }\n",
       "</style>\n",
       "<table border=\"1\" class=\"dataframe\">\n",
       "  <thead>\n",
       "    <tr>\n",
       "      <th></th>\n",
       "      <th colspan=\"3\" halign=\"left\"></th>\n",
       "      <th>TRAIN:</th>\n",
       "      <th>VALID:</th>\n",
       "      <th>TEST:</th>\n",
       "      <th>SPEC:</th>\n",
       "      <th colspan=\"2\" halign=\"left\"></th>\n",
       "      <th>HIER:</th>\n",
       "      <th></th>\n",
       "    </tr>\n",
       "    <tr>\n",
       "      <th></th>\n",
       "      <th>Time</th>\n",
       "      <th>Ep</th>\n",
       "      <th>Ct</th>\n",
       "      <th>PPL</th>\n",
       "      <th>PPL</th>\n",
       "      <th>PPL</th>\n",
       "      <th>1</th>\n",
       "      <th>2</th>\n",
       "      <th>3</th>\n",
       "      <th>CHILD</th>\n",
       "      <th>OTHER</th>\n",
       "    </tr>\n",
       "  </thead>\n",
       "  <tbody>\n",
       "    <tr>\n",
       "      <th>0</th>\n",
       "      <td>260</td>\n",
       "      <td>0</td>\n",
       "      <td>0</td>\n",
       "      <td>344</td>\n",
       "      <td>331</td>\n",
       "      <td>329</td>\n",
       "      <td>0.07</td>\n",
       "      <td>0.56</td>\n",
       "      <td>0.60</td>\n",
       "      <td>0.48</td>\n",
       "      <td>0.33</td>\n",
       "    </tr>\n",
       "    <tr>\n",
       "      <th>1</th>\n",
       "      <td>328</td>\n",
       "      <td>1</td>\n",
       "      <td>0</td>\n",
       "      <td>308</td>\n",
       "      <td>303</td>\n",
       "      <td>304</td>\n",
       "      <td>0.08</td>\n",
       "      <td>0.59</td>\n",
       "      <td>0.63</td>\n",
       "      <td>0.50</td>\n",
       "      <td>0.28</td>\n",
       "    </tr>\n",
       "    <tr>\n",
       "      <th>2</th>\n",
       "      <td>354</td>\n",
       "      <td>2</td>\n",
       "      <td>0</td>\n",
       "      <td>302</td>\n",
       "      <td>302</td>\n",
       "      <td>303</td>\n",
       "      <td>0.09</td>\n",
       "      <td>0.61</td>\n",
       "      <td>0.63</td>\n",
       "      <td>0.48</td>\n",
       "      <td>0.24</td>\n",
       "    </tr>\n",
       "    <tr>\n",
       "      <th>3</th>\n",
       "      <td>351</td>\n",
       "      <td>3</td>\n",
       "      <td>0</td>\n",
       "      <td>302</td>\n",
       "      <td>303</td>\n",
       "      <td>303</td>\n",
       "      <td>0.09</td>\n",
       "      <td>0.64</td>\n",
       "      <td>0.63</td>\n",
       "      <td>0.49</td>\n",
       "      <td>0.23</td>\n",
       "    </tr>\n",
       "    <tr>\n",
       "      <th>4</th>\n",
       "      <td>377</td>\n",
       "      <td>4</td>\n",
       "      <td>0</td>\n",
       "      <td>295</td>\n",
       "      <td>294</td>\n",
       "      <td>295</td>\n",
       "      <td>0.10</td>\n",
       "      <td>0.65</td>\n",
       "      <td>0.63</td>\n",
       "      <td>0.47</td>\n",
       "      <td>0.23</td>\n",
       "    </tr>\n",
       "    <tr>\n",
       "      <th>5</th>\n",
       "      <td>403</td>\n",
       "      <td>5</td>\n",
       "      <td>0</td>\n",
       "      <td>294</td>\n",
       "      <td>297</td>\n",
       "      <td>295</td>\n",
       "      <td>0.10</td>\n",
       "      <td>0.65</td>\n",
       "      <td>0.61</td>\n",
       "      <td>0.49</td>\n",
       "      <td>0.25</td>\n",
       "    </tr>\n",
       "    <tr>\n",
       "      <th>6</th>\n",
       "      <td>443</td>\n",
       "      <td>6</td>\n",
       "      <td>0</td>\n",
       "      <td>288</td>\n",
       "      <td>290</td>\n",
       "      <td>291</td>\n",
       "      <td>0.10</td>\n",
       "      <td>0.66</td>\n",
       "      <td>0.62</td>\n",
       "      <td>0.47</td>\n",
       "      <td>0.24</td>\n",
       "    </tr>\n",
       "    <tr>\n",
       "      <th>7</th>\n",
       "      <td>436</td>\n",
       "      <td>7</td>\n",
       "      <td>0</td>\n",
       "      <td>284</td>\n",
       "      <td>283</td>\n",
       "      <td>285</td>\n",
       "      <td>0.10</td>\n",
       "      <td>0.65</td>\n",
       "      <td>0.61</td>\n",
       "      <td>0.50</td>\n",
       "      <td>0.25</td>\n",
       "    </tr>\n",
       "  </tbody>\n",
       "</table>\n",
       "</div>"
      ],
      "text/plain": [
       "             TRAIN: VALID: TEST: SPEC:             HIER:      \n",
       "  Time Ep Ct    PPL    PPL   PPL     1     2     3 CHILD OTHER\n",
       "0  260  0  0    344    331   329  0.07  0.56  0.60  0.48  0.33\n",
       "1  328  1  0    308    303   304  0.08  0.59  0.63  0.50  0.28\n",
       "2  354  2  0    302    302   303  0.09  0.61  0.63  0.48  0.24\n",
       "3  351  3  0    302    303   303  0.09  0.64  0.63  0.49  0.23\n",
       "4  377  4  0    295    294   295  0.10  0.65  0.63  0.47  0.23\n",
       "5  403  5  0    294    297   295  0.10  0.65  0.61  0.49  0.25\n",
       "6  443  6  0    288    290   291  0.10  0.66  0.62  0.47  0.24\n",
       "7  436  7  0    284    283   285  0.10  0.65  0.61  0.50  0.25"
      ]
     },
     "metadata": {},
     "output_type": "display_data"
    },
    {
     "name": "stdout",
     "output_type": "stream",
     "text": [
      " 0 31943 301835.0 ! nice bought love price quality recommend perfect 'm made\n",
      "   0-1 1527 8815.0 ! cover color love keyboard perfectly pro easy apple mac\n",
      "     0-1-2 1522 3795.0 ! love cover mac & protector purple keyboard pink screen\n",
      "     0-1-3 5 12.0 review scratching earlier pretty iphone move happen bill flap exact\n",
      "   0-2 758 4556.0 carry room pockets items security airport plenty travel lots compartments\n",
      "     0-2-1 3 5.0 velcro rough office sort traveling fingerprints finding fine finger zips\n",
      "     0-2-2 755 1891.0 easy travel seat phone compartments files plane bottle overhead stuff\n",
      "   0-3 641 4381.0 zipper broke strap months handle zippers broken return year started\n",
      "     0-3-2 625 1734.0 months weeks broke shoulder ripped coming straps started strap wheels\n",
      "     0-3-3 16 32.0 lost recently material cracked wait mention update minor months size\n",
      "   0-4 1132 6153.0 cover mac keyboard scratches protects protect color easy pro apple\n",
      "     0-4-1 39 86.0 mbp heavier unibody file knew point immediately hours house began\n",
      "     0-4-2 1093 2442.0 cover mac air protection protector apple keyboard screen hard feel\n",
      "   0-5 803 4957.0 sleeve inch protection neoprene pro tight air foam zipper snug\n",
      "     0-5-1 25 67.0 material functional smell lined return pictured sizes chemical sized hot\n",
      "     0-5-2 671 1697.0 sleeve retina air snug protection mbp fitting scratches mba inch\n",
      "     0-5-3 107 267.0 dimensions netbook laptops toshiba zippers vaio listed offer memory eventually\n",
      "   0-6 306 1946.0 months corners bottom started cracked cover cracks speck cracking month\n",
      "     0-6-2 306 634.0 months cracked broke desk feet break ago year weeks crack\n",
      "   0-7 341 2841.0 camera lenses lens carry canon flash accessories tripod room equipment\n",
      "     0-7-1 1 3.0 held ample devices fitting finding fine finger fingerprints finish zips\n",
      "     0-7-2 340 996.0 camera canon extra attached gear straps lenses lens access adjustable\n",
      "   0-8 2914 13051.0 ! ... price color item quality amazon purchase ordered received\n",
      "     0-8-1 172 359.0 pictures ... reviews ipad smell netbook complain offer fully show\n",
      "     0-8-2 1977 4486.0 ! price $ love gift loves buy bought amazon found\n",
      "     0-8-3 765 1912.0 return received service order company customer seller expected shipping arrived\n",
      "   0-9 508 4713.0 - : compartment pocket pockets zipper strap front flap handle\n",
      "     0-9-1 13 40.0 wheels alot / sharp lap warranty elastic heavy tabs version\n",
      "     0-9-2 495 1825.0 - shoulder pros bottle cons access straps small pocket pockets\n",
      "   0-10 579 3392.0 color picture cover blue pink keyboard green purple bright pretty\n",
      "     0-10-2 579 1211.0 pink picture red color cover expecting darker purple dirty apple\n",
      "   0-11 637 4204.0 pocket power netbook cord mouse hold room dvd small asus\n",
      "     0-11-3 637 1817.0 netbook player dvd mouse hold acer aspire sleeve usb pouch\n",
      "   0-12 374 2069.0 cards sd memory card slots ; small plastic camera sleeves\n",
      "     0-12-1 118 598.0 & ; description received dimensions gear manufacturer pouch device screen\n",
      "     0-12-2 256 465.0 pockets sd photos plastic memory larger bonus beat place camera\n",
      "   0-13 1874 9478.0 carry books school back years pack ! year work heavy\n",
      "     0-13-1 364 941.0 years college school high year son backpacks bought lasted daughter\n",
      "     0-13-2 1510 3558.0 work ! stuff comfortable compartments straps school college bought day\n",
      "   0-14 330 2138.0 drive hard usb external power port card works ports netbook\n",
      "     0-14-1 238 700.0 usb drive cable dvd drives cd rugged plug sleeves installed\n",
      "     0-14-2 92 232.0 netbook toshiba battery negative key function year poor mouse make\n",
      "   0-15 304 2215.0 bottom top cover piece part snap stay place plastic half\n",
      "     0-15-1 4 11.0 % tiny functional buying basically listed series asus stick flap\n",
      "     0-15-2 300 741.0 bottom part place piece screen open tabs speck annoying legs\n",
      "   0-16 1203 7379.0 room carry pocket pockets plenty power ipad small ! charger\n",
      "     0-16-2 1194 3285.0 & mouse ; ipad charger carry ! perfect cords shoulder\n",
      "     0-16-3 5 7.0 late bigger unzip pictured paper wonderful trip flash flap fix\n",
      "     0-16-4 4 12.0 college impact pencils doubt padding notebook properly adapter ac lug\n",
      "   0-17 507 3452.0 strap shoulder handle straps carry heavy pockets weight pack lots\n",
      "     0-17-1 3 7.0 cable worry supposed power snugly update sufficient double finding flimsy\n",
      "     0-17-2 464 1284.0 shoulder straps strap carried carrying shoulders heavy clips stuff stitching\n",
      "     0-17-3 12 24.0 tsa months zips today charging matte spacious advertised excited binders\n",
      "     0-17-4 28 79.0 -- friends well-made alot fan decent drawback con organize bulk\n",
      "   0-18 585 3776.0 cover keyboard color bottom feet apple hard plastic chromebook top\n",
      "     0-18-1 6 9.0 meant slides ? aluminum pads rest realized ugly awesome flash\n",
      "     0-18-2 571 1371.0 cover mac keys fingerprints rubber protecting part top remove logo\n",
      "     0-18-3 7 18.0 attach pictures favorite snapped electronics check series easily securely white\n",
      "     0-18-4 1 2.0 hope drop fix fine finger fingerprints finish fitting flap find\n",
      "   0-19 6082 29888.0 sleeve pocket inside zipper protection room padding inch ! pro\n",
      "     0-19-1 346 1008.0 netbook sleeve battery pc inches toshiba mini acer tote logic\n",
      "     0-19-2 170 718.0 & ; smell inches lenovo description ultrabook thinking thinner mba\n",
      "     0-19-3 2583 6569.0 sleeve ipad air smell ! protection snug ; & inside\n",
      "     0-19-4 1757 5401.0 pocket & ; mouse power charger cord inside extra handles\n",
      "     0-19-5 1226 3001.0 pocket sleeve $ inside protection ipad air outer nylon leather\n",
      "   0-20 3132 18998.0 carry pockets pack compartment strap handle space pocket plenty room\n",
      "     0-20-1 274 694.0 work ; & seat heavy thought files rolling size pouch\n",
      "     0-20-2 220 509.0 space review based check pictures travel ' tsa smaller hassle\n",
      "     0-20-3 2583 7141.0 work comfortable shoulder bottle straps compartments carry travel stuff camera\n",
      "     0-20-4 55 173.0 fell comfortably toshiba pros experience video noticed fix close version\n",
      "   0-21 1459 7633.0 tablet strap cover keyboard top weight ipad bottom ; mouse\n",
      "     0-21-1 348 1587.0 & ; chromebook felt snap pink dell portion bottom user\n",
      "     0-21-2 1070 2604.0 & screen ipad ; lap shoulder strap cover top legs\n",
      "     0-21-3 41 113.0 section smell worked mba foam lenovo features layer previous college\n",
      "   0-22 3234 18531.0 cover bottom keyboard pro plastic color speck hard apple top\n",
      "     0-22-1 1935 5485.0 mac screen cover ; & protector retina pro model shell\n",
      "     0-22-2 1045 2945.0 cover $ logo part -- cheap crack cases smooth edge\n",
      "     0-22-3 254 686.0 quickly kind sleeve thinking close tiny open rubber fabric $\n",
      "   0-23 2179 13101.0 pockets strap handle pocket zipper carry sleeve zippers bags inside\n",
      "     0-23-1 848 2944.0 & ; leather dvd player original wheels products + compartments\n",
      "     0-23-2 1056 3407.0 shoulder strap ipad sleeve stuff travel pockets straps heavy area\n",
      "     0-23-3 275 863.0 compartments pocket pack space simple kindle pouch lock targus inside\n",
      "   0-24 507 2722.0 netbook mouse inch buy ... version toshiba ! battery asus\n",
      "     0-24-1 362 990.0 netbook -- memory smell mini make simply bigger version service\n",
      "     0-24-2 145 348.0 + ! mind mouse store pockets laptops bought sized low\n",
      "   0-25 27 248.0 purse smell inside photos open trip phone sold original actual\n",
      "     0-25-1 27 88.0 odor photo rest job expecting : folders cell show clothes\n",
      "0 "
     ]
    }
   ],
   "source": [
    "time_start = time.time()\n",
    "while epoch < config.n_epochs:\n",
    "    sample(train_docs, dev_docs, test_docs, topic_root)\n",
    "    ppl_train = get_perplexity(train_docs, topic_root)\n",
    "    ppl_dev = get_perplexity(dev_docs, topic_root)\n",
    "    \n",
    "    if ppl_dev < ppl_min:\n",
    "        ppl_min = ppl_dev\n",
    "        ppl_test = get_perplexity(test_docs, topic_root)\n",
    "        cPickle.dump([test_docs, topic_root], open(config.path_model + '-%i'%epoch, 'wb'))\n",
    "        update_checkpoint(config, checkpoint, epoch)\n",
    "        \n",
    "    depth_spec = get_topic_specialization(test_docs, topic_root)\n",
    "    hierarchical_affinities = get_hierarchical_affinities(topic_root)\n",
    "    \n",
    "    clear_output()\n",
    "    time_log = int(time.time() - time_start)\n",
    "    time_start = time.time()\n",
    "    log_series = pd.Series([time_log, epoch, 0, \\\n",
    "            '%.0f'%ppl_train, '%.0f'%ppl_dev, '%.0f'%ppl_test, \\\n",
    "            '%.2f'%depth_spec[1], '%.2f'%depth_spec[2], '%.2f'%depth_spec[3], \\\n",
    "            '%.2f'%hierarchical_affinities[0], '%.2f'%hierarchical_affinities[1]],\n",
    "            index=log_df.columns)\n",
    "    log_df.loc[epoch] = log_series    \n",
    "    display(log_df)\n",
    "    get_freq_tokens_ncrp(topic_root, idx_to_word, bow_idxs)\n",
    "    \n",
    "    cPickle.dump(log_df, open(config.path_log, 'wb'))\n",
    "    epoch += 1"
   ]
  }
 ],
 "metadata": {
  "kernelspec": {
   "display_name": "py36",
   "language": "python",
   "name": "py36"
  },
  "language_info": {
   "codemirror_mode": {
    "name": "ipython",
    "version": 3
   },
   "file_extension": ".py",
   "mimetype": "text/x-python",
   "name": "python",
   "nbconvert_exporter": "python",
   "pygments_lexer": "ipython3",
   "version": "3.6.9"
  },
  "toc": {
   "base_numbering": 1,
   "nav_menu": {},
   "number_sections": true,
   "sideBar": true,
   "skip_h1_title": false,
   "title_cell": "Table of Contents",
   "title_sidebar": "Contents",
   "toc_cell": false,
   "toc_position": {},
   "toc_section_display": true,
   "toc_window_display": false
  }
 },
 "nbformat": 4,
 "nbformat_minor": 2
}
