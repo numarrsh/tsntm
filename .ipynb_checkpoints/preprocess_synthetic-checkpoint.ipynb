{
 "cells": [
  {
   "cell_type": "code",
   "execution_count": 2,
   "metadata": {},
   "outputs": [],
   "source": [
    "import os\n",
    "import re\n",
    "import _pickle as cPickle\n",
    "from collections import OrderedDict, defaultdict, Counter\n",
    "\n",
    "import matplotlib\n",
    "%matplotlib inline\n",
    "import matplotlib.pyplot as plt\n",
    "\n",
    "import numpy as np\n",
    "import pandas as pd\n",
    "import tensorflow as tf\n",
    "from sklearn.feature_extraction.text import TfidfVectorizer\n",
    "from nltk import word_tokenize\n",
    "\n",
    "from data_structure import Instance"
   ]
  },
  {
   "cell_type": "markdown",
   "metadata": {},
   "source": [
    "# configure"
   ]
  },
  {
   "cell_type": "code",
   "execution_count": 37,
   "metadata": {},
   "outputs": [],
   "source": [
    "def del_all_flags(FLAGS):\n",
    "    flags_dict = FLAGS._flags()    \n",
    "    keys_list = [keys for keys in flags_dict]    \n",
    "    for keys in keys_list:\n",
    "        FLAGS.__delattr__(keys)\n",
    "\n",
    "del_all_flags(tf.flags.FLAGS)\n",
    "\n",
    "flags = tf.app.flags\n",
    "\n",
    "flags.DEFINE_string('output_path', 'data/synthetic/instances.pkl', 'path of output data')\n",
    "\n",
    "flags.DEFINE_integer('n_vocab', 9, 'size of vocab')\n",
    "flags.DEFINE_integer('n_doc', 100, 'size of vocab')\n",
    "\n",
    "flags.DEFINE_string('f', '', 'kernel')\n",
    "\n",
    "config = flags.FLAGS"
   ]
  },
  {
   "cell_type": "markdown",
   "metadata": {},
   "source": [
    "# sample docs"
   ]
  },
  {
   "cell_type": "code",
   "execution_count": 4,
   "metadata": {},
   "outputs": [],
   "source": [
    "tree_idxs = {0:[1, 2, 3], \n",
    "              1:[10, 11, 12], 2:[20, 21, 22], 3:[30, 31, 32]}"
   ]
  },
  {
   "cell_type": "code",
   "execution_count": 35,
   "metadata": {},
   "outputs": [],
   "source": [
    "tree_topic_bow_raw = {\n",
    "                0: np.ones(9, dtype=np.float32),\n",
    "                1: np.concatenate([np.ones(3), np.zeros(3), np.zeros(3)]).astype(np.float32),\n",
    "                2: np.concatenate([np.zeros(3), np.ones(3), np.zeros(3)]).astype(np.float32),\n",
    "                3: np.concatenate([np.zeros(3), np.zeros(3), np.ones(3)]).astype(np.float32),\n",
    "                10: np.concatenate([np.array([1, 0, 0]), np.zeros(3), np.zeros(3)]).astype(np.float32),\n",
    "                11: np.concatenate([np.array([0, 1, 0]), np.zeros(3), np.zeros(3)]).astype(np.float32),\n",
    "                12: np.concatenate([np.array([0, 0, 1]), np.zeros(3), np.zeros(3)]).astype(np.float32),\n",
    "                20: np.concatenate([np.zeros(3), np.array([1, 0, 0]), np.zeros(3)]).astype(np.float32),\n",
    "                21: np.concatenate([np.zeros(3), np.array([0, 1, 0]), np.zeros(3)]).astype(np.float32),\n",
    "                22: np.concatenate([np.zeros(3), np.array([0, 0, 1]), np.zeros(3)]).astype(np.float32),\n",
    "                30: np.concatenate([np.zeros(3), np.zeros(3), np.array([1, 0, 0])]).astype(np.float32),\n",
    "                31: np.concatenate([np.zeros(3), np.zeros(3), np.array([0, 1, 0])]).astype(np.float32),\n",
    "                32: np.concatenate([np.zeros(3), np.zeros(3), np.array([0, 0, 1])]).astype(np.float32),\n",
    "}\n",
    "\n",
    "tree_topic_bow = {topic_idx: topic_bow_raw/np.sum(topic_bow_raw) for topic_idx, topic_bow_raw in tree_topic_bow_raw.items()}"
   ]
  },
  {
   "cell_type": "code",
   "execution_count": 36,
   "metadata": {},
   "outputs": [
    {
     "data": {
      "text/plain": [
       "{0: array([0.11111111, 0.11111111, 0.11111111, 0.11111111, 0.11111111,\n",
       "        0.11111111, 0.11111111, 0.11111111, 0.11111111], dtype=float32),\n",
       " 1: array([0.33333334, 0.33333334, 0.33333334, 0.        , 0.        ,\n",
       "        0.        , 0.        , 0.        , 0.        ], dtype=float32),\n",
       " 2: array([0.        , 0.        , 0.        , 0.33333334, 0.33333334,\n",
       "        0.33333334, 0.        , 0.        , 0.        ], dtype=float32),\n",
       " 3: array([0.        , 0.        , 0.        , 0.        , 0.        ,\n",
       "        0.        , 0.33333334, 0.33333334, 0.33333334], dtype=float32),\n",
       " 10: array([1., 0., 0., 0., 0., 0., 0., 0., 0.], dtype=float32),\n",
       " 11: array([0., 1., 0., 0., 0., 0., 0., 0., 0.], dtype=float32),\n",
       " 12: array([0., 0., 1., 0., 0., 0., 0., 0., 0.], dtype=float32),\n",
       " 20: array([0., 0., 0., 1., 0., 0., 0., 0., 0.], dtype=float32),\n",
       " 21: array([0., 0., 0., 0., 1., 0., 0., 0., 0.], dtype=float32),\n",
       " 22: array([0., 0., 0., 0., 0., 1., 0., 0., 0.], dtype=float32),\n",
       " 30: array([0., 0., 0., 0., 0., 0., 1., 0., 0.], dtype=float32),\n",
       " 31: array([0., 0., 0., 0., 0., 0., 0., 1., 0.], dtype=float32),\n",
       " 32: array([0., 0., 0., 0., 0., 0., 0., 0., 1.], dtype=float32)}"
      ]
     },
     "execution_count": 36,
     "metadata": {},
     "output_type": "execute_result"
    }
   ],
   "source": [
    "tree_topic_bow"
   ]
  },
  {
   "cell_type": "code",
   "execution_count": 38,
   "metadata": {},
   "outputs": [],
   "source": [
    "def hierarchical_sbp(tree_sticks_topic, tree_sticks_branch):\n",
    "    tree_prob_topic = {}\n",
    "    rest_topics = {}\n",
    "\n",
    "    # calculate topic probability and save\n",
    "    stick_topic = tree_sticks_topic[0]\n",
    "    tree_prob_topic[0] = stick_topic\n",
    "    rest_topics[0] = 1.-stick_topic\n",
    "    for parent_idx, child_idxs in tree_idxs.items():\n",
    "        rest_topic = rest_topics[parent_idx]\n",
    "        rest_branch = 1.\n",
    "        for child_idx in child_idxs:\n",
    "            # calculate topic probability\n",
    "            if child_idx == child_idxs[-1]: # last child\n",
    "                prob_branch = rest_branch # phi\n",
    "            else:\n",
    "                stick_branch = tree_sticks_branch[child_idx] # psi\n",
    "                prob_branch = stick_branch * rest_branch # phi\n",
    "\n",
    "            if not child_idx in tree_idxs: # leaf childs\n",
    "                prob_topic = prob_branch * rest_topic # pi\n",
    "            else:\n",
    "                stick_topic = tree_sticks_topic[child_idx] # upsilon\n",
    "                prob_topic = stick_topic * prob_branch * rest_topic # pi\n",
    "\n",
    "            # save topic probability and update rest stick length\n",
    "            tree_prob_topic[child_idx] = prob_topic\n",
    "            rest_branch = (1.- stick_branch) * rest_branch\n",
    "            rest_topics[child_idx] = (1.-stick_topic)*prob_branch * rest_topic\n",
    "            \n",
    "    return tree_prob_topic"
   ]
  },
  {
   "cell_type": "code",
   "execution_count": null,
   "metadata": {},
   "outputs": [],
   "source": [
    "np.random.beta(10, 15, 5)"
   ]
  },
  {
   "cell_type": "code",
   "execution_count": null,
   "metadata": {},
   "outputs": [],
   "source": [
    "for i_doc in range(config.n_doc):\n",
    "    "
   ]
  },
  {
   "cell_type": "markdown",
   "metadata": {},
   "source": [
    "# write out"
   ]
  },
  {
   "cell_type": "code",
   "execution_count": 342,
   "metadata": {},
   "outputs": [],
   "source": [
    "def prepare_instances(data_df, word_to_idx, bow_list, item_idx_summaries=None):\n",
    "    instances = []\n",
    "    bows = bow_list.toarray()\n",
    "    assert len(bows) == len(data_df)\n",
    "    for bow, (idx_doc, doc) in zip(bows, data_df.iterrows()):\n",
    "        instance = Instance()\n",
    "        instance.idx = idx_doc\n",
    "        instance.review_idx = doc.review_idx\n",
    "        instance.item_idx = doc.item_idx\n",
    "        instance.score = doc.score\n",
    "        doc_token_idxs = []\n",
    "        for sent_tokens in doc.tokens:\n",
    "            sent_token_idxs = [word_to_idx[token] if token in word_to_idx else word_to_idx[UNK] for token in sent_tokens]\n",
    "            doc_token_idxs.append(sent_token_idxs)            \n",
    "        instance.token_idxs = doc_token_idxs\n",
    "        instance.doc_l = doc.doc_l\n",
    "        instance.max_sent_l = doc.max_sent_l\n",
    "        instance.bow = bow\n",
    "        if item_idx_summaries:\n",
    "            instance.summaries = item_idx_summaries[instance.item_idx]\n",
    "        instances.append(instance)\n",
    "    return instances"
   ]
  },
  {
   "cell_type": "code",
   "execution_count": 343,
   "metadata": {},
   "outputs": [],
   "source": [
    "instances_train = prepare_instances(train_df, word_to_idx, train_bow_list)\n",
    "instances_valid = prepare_instances(valid_df, word_to_idx, valid_bow_list)\n",
    "instances_test = prepare_instances(test_df, word_to_idx, test_bow_list, item_idx_summaries)"
   ]
  },
  {
   "cell_type": "code",
   "execution_count": 344,
   "metadata": {},
   "outputs": [
    {
     "name": "stdout",
     "output_type": "stream",
     "text": [
      "saving preprocessed instances...\n"
     ]
    }
   ],
   "source": [
    "print('saving preprocessed instances...')\n",
    "cPickle.dump((instances_train, instances_valid, instances_test, word_to_idx, idx_to_word, bow_idxs),open(config.output_path,'wb'))"
   ]
  },
  {
   "cell_type": "code",
   "execution_count": null,
   "metadata": {},
   "outputs": [],
   "source": []
  }
 ],
 "metadata": {
  "kernelspec": {
   "display_name": "py36",
   "language": "python",
   "name": "py36"
  },
  "language_info": {
   "codemirror_mode": {
    "name": "ipython",
    "version": 3
   },
   "file_extension": ".py",
   "mimetype": "text/x-python",
   "name": "python",
   "nbconvert_exporter": "python",
   "pygments_lexer": "ipython3",
   "version": "3.6.9"
  },
  "toc": {
   "base_numbering": 1,
   "nav_menu": {},
   "number_sections": true,
   "sideBar": true,
   "skip_h1_title": false,
   "title_cell": "Table of Contents",
   "title_sidebar": "Contents",
   "toc_cell": false,
   "toc_position": {},
   "toc_section_display": true,
   "toc_window_display": false
  }
 },
 "nbformat": 4,
 "nbformat_minor": 2
}
