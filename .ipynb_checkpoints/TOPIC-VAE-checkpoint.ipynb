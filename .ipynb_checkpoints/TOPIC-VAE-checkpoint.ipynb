{
 "cells": [
  {
   "cell_type": "code",
   "execution_count": 1,
   "metadata": {},
   "outputs": [
    {
     "name": "stderr",
     "output_type": "stream",
     "text": [
      "/home/m-isonuma/.local/lib/python3.6/site-packages/tensorflow/python/framework/dtypes.py:519: FutureWarning: Passing (type, 1) or '1type' as a synonym of type is deprecated; in a future version of numpy, it will be understood as (type, (1,)) / '(1,)type'.\n",
      "  _np_qint8 = np.dtype([(\"qint8\", np.int8, 1)])\n",
      "/home/m-isonuma/.local/lib/python3.6/site-packages/tensorflow/python/framework/dtypes.py:520: FutureWarning: Passing (type, 1) or '1type' as a synonym of type is deprecated; in a future version of numpy, it will be understood as (type, (1,)) / '(1,)type'.\n",
      "  _np_quint8 = np.dtype([(\"quint8\", np.uint8, 1)])\n",
      "/home/m-isonuma/.local/lib/python3.6/site-packages/tensorflow/python/framework/dtypes.py:521: FutureWarning: Passing (type, 1) or '1type' as a synonym of type is deprecated; in a future version of numpy, it will be understood as (type, (1,)) / '(1,)type'.\n",
      "  _np_qint16 = np.dtype([(\"qint16\", np.int16, 1)])\n",
      "/home/m-isonuma/.local/lib/python3.6/site-packages/tensorflow/python/framework/dtypes.py:522: FutureWarning: Passing (type, 1) or '1type' as a synonym of type is deprecated; in a future version of numpy, it will be understood as (type, (1,)) / '(1,)type'.\n",
      "  _np_quint16 = np.dtype([(\"quint16\", np.uint16, 1)])\n",
      "/home/m-isonuma/.local/lib/python3.6/site-packages/tensorflow/python/framework/dtypes.py:523: FutureWarning: Passing (type, 1) or '1type' as a synonym of type is deprecated; in a future version of numpy, it will be understood as (type, (1,)) / '(1,)type'.\n",
      "  _np_qint32 = np.dtype([(\"qint32\", np.int32, 1)])\n",
      "/home/m-isonuma/.local/lib/python3.6/site-packages/tensorflow/python/framework/dtypes.py:528: FutureWarning: Passing (type, 1) or '1type' as a synonym of type is deprecated; in a future version of numpy, it will be understood as (type, (1,)) / '(1,)type'.\n",
      "  np_resource = np.dtype([(\"resource\", np.ubyte, 1)])\n"
     ]
    }
   ],
   "source": [
    "%load_ext autoreload\n",
    "%autoreload\n",
    "from IPython.display import clear_output\n",
    "\n",
    "import os\n",
    "import pdb\n",
    "from six.moves import zip_longest\n",
    "\n",
    "import numpy as np\n",
    "import tensorflow as tf\n",
    "from tensorflow import distributions as tfd\n",
    "from tensorflow.python import debug as tf_debug\n",
    "import _pickle as cPickle\n",
    "import random\n",
    "\n",
    "from data_structure import load_data\n",
    "from components import tf_log, encode_latents, sample_latents, compute_kl_loss, dynamic_rnn, dynamic_bi_rnn, DiagonalGaussian"
   ]
  },
  {
   "cell_type": "code",
   "execution_count": 2,
   "metadata": {},
   "outputs": [],
   "source": [
    "PAD = '<pad>' # This has a vocab id, which is used to pad the encoder input, decoder input and target sequence\n",
    "UNK = '<unk>' # This has a vocab id, which is used to represent out-of-vocabulary words\n",
    "BOS = '<p>' # This has a vocab id, which is used at the beginning of every decoder input sequence\n",
    "EOS = '</p>' # This has a vocab id, which is used at the end of untruncated target sequences"
   ]
  },
  {
   "cell_type": "markdown",
   "metadata": {},
   "source": [
    "# load data & set config"
   ]
  },
  {
   "cell_type": "code",
   "execution_count": 3,
   "metadata": {
    "code_folding": [
     0
    ]
   },
   "outputs": [],
   "source": [
    "def del_all_flags(FLAGS):\n",
    "    flags_dict = FLAGS._flags()    \n",
    "    keys_list = [keys for keys in flags_dict]    \n",
    "    for keys in keys_list:\n",
    "        FLAGS.__delattr__(keys)\n",
    "\n",
    "del_all_flags(tf.flags.FLAGS)\n",
    "\n",
    "flags = tf.app.flags\n",
    "\n",
    "flags.DEFINE_string('gpu', '3', 'visible gpu')\n",
    "\n",
    "flags.DEFINE_string('mode', 'train', 'set train or eval')\n",
    "\n",
    "flags.DEFINE_string('data_path', 'data/apnews/instances.pkl', 'path of data')\n",
    "flags.DEFINE_string('modeldir', 'model', 'directory of model')\n",
    "flags.DEFINE_string('modelname', 'sports', 'name of model')\n",
    "\n",
    "flags.DEFINE_integer('epochs', 1000, 'epochs')\n",
    "flags.DEFINE_integer('batch_size', 32, 'batch size')\n",
    "flags.DEFINE_integer('log_period', 5000, 'valid period')\n",
    "\n",
    "flags.DEFINE_string('opt', 'Adagrad', 'optimizer')\n",
    "flags.DEFINE_float('lr', 0.1, 'lr')\n",
    "flags.DEFINE_float('reg', 0.1, 'regularization term')\n",
    "flags.DEFINE_float('beta', 0.1, 'initial value of beta')\n",
    "flags.DEFINE_float('grad_clip', 5., 'grad_clip')\n",
    "\n",
    "flags.DEFINE_float('keep_prob', 0.6, 'dropout rate')\n",
    "flags.DEFINE_float('word_keep_prob', 0.75, 'word dropout rate')\n",
    "\n",
    "flags.DEFINE_integer('warmup', 0, 'warmup period for KL')\n",
    "\n",
    "flags.DEFINE_integer('beam_width', 10, 'beam_width')\n",
    "flags.DEFINE_float('length_penalty_weight', 0.0, 'length_penalty_weight')\n",
    "\n",
    "flags.DEFINE_integer('n_topic', 50, 'number of topic')\n",
    "flags.DEFINE_integer('dim_hidden_bow', 256, 'dim of hidden bow')\n",
    "flags.DEFINE_integer('dim_latent_topic', 32, 'dim of latent topic')\n",
    "flags.DEFINE_integer('dim_emb', 256, 'dim_emb')\n",
    "flags.DEFINE_integer('dim_hidden', 512, 'dim_hidden')\n",
    "flags.DEFINE_integer('dim_latent', 32, 'dim_latent')\n",
    "\n",
    "\n",
    "# for evaluation\n",
    "flags.DEFINE_string('refdir', 'ref', 'refdir')\n",
    "flags.DEFINE_string('outdir', 'out', 'outdir')\n",
    "\n",
    "flags.DEFINE_string('f', '', 'kernel')\n",
    "\n",
    "config = flags.FLAGS"
   ]
  },
  {
   "cell_type": "code",
   "execution_count": 4,
   "metadata": {},
   "outputs": [],
   "source": [
    "os.environ[\"CUDA_VISIBLE_DEVICES\"] = config.gpu"
   ]
  },
  {
   "cell_type": "code",
   "execution_count": 5,
   "metadata": {},
   "outputs": [
    {
     "name": "stdout",
     "output_type": "stream",
     "text": [
      "Number of train examples: 39553\n"
     ]
    }
   ],
   "source": [
    "num_train_batches, train_batches, dev_batches, test_batches, word_to_idx, idx_to_word, bow_idxs = load_data(config)"
   ]
  },
  {
   "cell_type": "code",
   "execution_count": 7,
   "metadata": {},
   "outputs": [],
   "source": [
    "flags.DEFINE_integer('PAD_IDX', word_to_idx[PAD], 'PAD_IDX')\n",
    "flags.DEFINE_integer('UNK_IDX', word_to_idx[UNK], 'UNK_IDX')\n",
    "flags.DEFINE_integer('BOS_IDX', word_to_idx[BOS], 'BOS_IDX')\n",
    "flags.DEFINE_integer('EOS_IDX', word_to_idx[EOS], 'EOS_IDX')\n",
    "\n",
    "flags.DEFINE_integer('n_vocab', len(word_to_idx), 'n_vocab')\n",
    "flags.DEFINE_integer('dim_bow', len(bow_idxs), 'dim_bow')\n",
    "\n",
    "maximum_iterations = max([max([instance.max_sent_l for instance in batch]) for ct, batch in dev_batches])\n",
    "flags.DEFINE_integer('maximum_iterations', maximum_iterations, 'maximum_iterations')    "
   ]
  },
  {
   "cell_type": "markdown",
   "metadata": {},
   "source": [
    "# build language model "
   ]
  },
  {
   "cell_type": "markdown",
   "metadata": {},
   "source": [
    "## feed dict"
   ]
  },
  {
   "cell_type": "code",
   "execution_count": 9,
   "metadata": {},
   "outputs": [],
   "source": [
    "def get_feed_dict(batch, mode='train'):\n",
    "    bow = np.array([instance.bow for instance in batch]).astype(np.float32)\n",
    "    keep_prob = config.keep_prob if mode == 'train' else 1.0\n",
    "    feed_dict = {\n",
    "                t_variables['bow']: bow, \n",
    "                t_variables['keep_prob']: keep_prob}\n",
    "    return  feed_dict"
   ]
  },
  {
   "cell_type": "code",
   "execution_count": 10,
   "metadata": {},
   "outputs": [],
   "source": [
    "def debug_shape(variables, sess_init=None):\n",
    "    if sess_init is None:\n",
    "        sess = tf.Session()\n",
    "        sess.run(tf.global_variables_initializer())\n",
    "    else:\n",
    "        sess = sess_init\n",
    "        \n",
    "    sample_batch = test_batches[0][1]\n",
    "    feed_dict = get_feed_dict(sample_batch)\n",
    "    _variables = sess.run(variables, feed_dict=feed_dict)\n",
    "    for _variable, variable in zip(_variables, variables):\n",
    "        if hasattr(variable, 'name'):\n",
    "            print(variable.name, ':', _variable.shape)\n",
    "        else:\n",
    "            print(_variable.shape)\n",
    "            \n",
    "    if sess_init is None: sess.close()\n",
    "\n",
    "def debug_value(variables, return_value=False, sess_init=None):\n",
    "    if sess_init is None:\n",
    "        sess = tf.Session()\n",
    "        sess.run(tf.global_variables_initializer())\n",
    "    else:\n",
    "        sess = sess_init\n",
    "\n",
    "    sample_batch = test_batches[0][1]\n",
    "    feed_dict = get_feed_dict(sample_batch)\n",
    "    _variables = sess.run(variables, feed_dict=feed_dict)\n",
    "\n",
    "    if return_value: \n",
    "        return _variables\n",
    "    else:\n",
    "        for _variable, variable in zip(_variables, variables):\n",
    "            if hasattr(variable, 'name'):\n",
    "                print(variable.name, ':', _variable)\n",
    "            else:\n",
    "                print(_variable)\n",
    "                \n",
    "    if sess_init is None: sess.close()"
   ]
  },
  {
   "cell_type": "markdown",
   "metadata": {},
   "source": [
    "## fed variables"
   ]
  },
  {
   "cell_type": "code",
   "execution_count": 11,
   "metadata": {},
   "outputs": [],
   "source": [
    "tf.reset_default_graph()\n",
    "\n",
    "t_variables = {}\n",
    "t_variables['bow'] = tf.placeholder(tf.float32, [None, config.dim_bow])\n",
    "t_variables['keep_prob'] = tf.placeholder(tf.float32)"
   ]
  },
  {
   "cell_type": "markdown",
   "metadata": {},
   "source": [
    "## topic model"
   ]
  },
  {
   "cell_type": "code",
   "execution_count": 12,
   "metadata": {},
   "outputs": [],
   "source": [
    "bow = t_variables['bow']\n",
    "\n",
    "with tf.variable_scope('topic/enc', reuse=False):\n",
    "    hidden_bow_ = tf.keras.layers.Dense(units=config.dim_hidden_bow, activation=tf.nn.relu, name='hidden')(bow)\n",
    "    hidden_bow = tf.keras.layers.Dropout(t_variables['keep_prob'])(hidden_bow_)\n",
    "    means_bow = tf.keras.layers.Dense(units=config.dim_latent_topic)(hidden_bow)\n",
    "    logvars_bow = tf.keras.layers.Dense(units=config.dim_latent_topic, kernel_initializer=tf.constant_initializer(0), bias_initializer=tf.constant_initializer(0))(hidden_bow)\n",
    "    latents_bow = sample_latents(means_bow, logvars_bow) # sample latent vectors\n",
    "    \n",
    "    prob_topic = tf.layers.Dense(units=config.n_topic, activation=tf.nn.softmax, name='prob')(latents_bow) # inference of topic probabilities\n",
    "\n",
    "with tf.variable_scope('shared', reuse=False):\n",
    "    embeddings = tf.get_variable('emb', [config.n_vocab, config.dim_emb], dtype=tf.float32, initializer=tf.contrib.layers.xavier_initializer()) # embeddings of vocab\n",
    "\n",
    "bow_embeddings = tf.nn.embedding_lookup(embeddings, bow_idxs) # embeddings of each bow features\n",
    "    \n",
    "with tf.variable_scope('topic/dec', reuse=False):\n",
    "    topic_embeddings = tf.get_variable('topic_emb', [config.n_topic, config.dim_emb], dtype=tf.float32, initializer=tf.contrib.layers.xavier_initializer()) # embeddings of topics\n",
    "    \n",
    "    topic_bow = tf.nn.softmax(tf.matmul(topic_embeddings, bow_embeddings, transpose_b=True), 1) # bow vectors for each topic\n",
    "    prob_bow = tf_log(tf.matmul(prob_topic, topic_bow)) # predicted bow distribution\n",
    "    \n",
    "topic_losses_recon = -tf.reduce_sum(tf.multiply(bow, prob_bow), 1)\n",
    "topic_loss_recon = tf.reduce_mean(topic_losses_recon) # negative log likelihood of each words\n",
    "\n",
    "topic_loss_kl = compute_kl_loss(means_bow, logvars_bow) # KL divergence b/w latent dist & gaussian std\n",
    "\n",
    "n_bow = tf.reduce_sum(bow, 1)\n",
    "ppls = tf.divide(topic_losses_recon, n_bow)\n",
    "\n",
    "topic_embeddings_norm = topic_embeddings / tf.norm(topic_embeddings, axis=1, keepdims=True)\n",
    "topic_angles = tf.matmul(topic_embeddings_norm, tf.transpose(topic_embeddings_norm))\n",
    "topic_angles_mean = tf.reduce_mean(topic_angles, keepdims=True)\n",
    "topic_angles_vars = tf.reduce_mean(tf.square(topic_angles - topic_angles_mean))\n",
    "topic_loss_reg = topic_angles_vars - tf.squeeze(topic_angles_mean)\n",
    "\n",
    "topics_freq_bow_indices = tf.nn.top_k(topic_bow, 10, name='topic_freq_bow').indices"
   ]
  },
  {
   "cell_type": "markdown",
   "metadata": {},
   "source": [
    "## optimizer"
   ]
  },
  {
   "cell_type": "code",
   "execution_count": 13,
   "metadata": {},
   "outputs": [],
   "source": [
    "if config.warmup > 0:\n",
    "    beta = tf.Variable(config.beta, name='beta', trainable=False)\n",
    "    update_beta = tf.assign_add(beta, 1./(config.warmup*num_train_batches))\n",
    "    loss = topic_loss_recon + beta * topic_loss_kl + config.reg * topic_loss_reg\n",
    "else:\n",
    "    loss = topic_loss_recon + topic_loss_kl + config.reg * topic_loss_reg\n",
    "\n",
    "# define optimizer\n",
    "if (config.opt == 'Adam'):\n",
    "    optimizer = tf.train.AdamOptimizer(config.lr)\n",
    "elif (config.opt == 'Adagrad'):\n",
    "    optimizer = tf.train.AdagradOptimizer(config.lr)\n",
    "    \n",
    "grad_vars = optimizer.compute_gradients(loss)\n",
    "clipped_grad_vars = [(tf.clip_by_value(grad, -config.grad_clip, config.grad_clip), var) for grad, var in grad_vars]\n",
    "\n",
    "opt = optimizer.apply_gradients(clipped_grad_vars)"
   ]
  },
  {
   "cell_type": "markdown",
   "metadata": {},
   "source": [
    "# run model "
   ]
  },
  {
   "cell_type": "code",
   "execution_count": 14,
   "metadata": {},
   "outputs": [],
   "source": [
    "def get_loss(sess, batches):\n",
    "    losses = []\n",
    "    ppl_list = []\n",
    "    for ct, batch in batches:\n",
    "        feed_dict = get_feed_dict(batch, mode='test')\n",
    "        loss_batch, ppls_batch = sess.run([loss, ppls], feed_dict = feed_dict)\n",
    "        losses += [loss_batch]\n",
    "        ppl_list += list(ppls_batch)\n",
    "    loss_mean = np.mean(losses)\n",
    "    ppl_mean = np.exp(np.mean(ppl_list))\n",
    "    return loss_mean, ppl_mean\n",
    "\n",
    "def get_all_losses(sess, batches):\n",
    "    losses = []\n",
    "    for ct, batch in batches:\n",
    "        feed_dict = get_feed_dict(batch, mode='test')\n",
    "        loss_batch, topic_loss_recon_batch, topic_loss_kl_batch, sent_loss_recon_batch, sent_loss_kl_batch = \\\n",
    "        sess.run([loss, topic_loss_recon, topic_loss_kl, sent_loss_recon, sent_loss_kl], feed_dict = feed_dict)\n",
    "        losses += [[loss_batch, topic_loss_recon_batch, topic_loss_kl_batch, sent_loss_recon_batch, sent_loss_kl_batch]]\n",
    "    print('LOSS %.2f | TM NLL: %.2f, KL: %.4f | LM NLL: %.2f, KL: %.4f' %  np.mean(losses, 0))"
   ]
  },
  {
   "cell_type": "code",
   "execution_count": 15,
   "metadata": {
    "scrolled": true
   },
   "outputs": [],
   "source": [
    "if 'sess' in globals(): sess.close()\n",
    "sess = tf.Session()\n",
    "sess.run(tf.global_variables_initializer())\n",
    "\n",
    "logs = []\n",
    "losses_train = []\n",
    "ppls_train = []\n",
    "loss_min = np.inf\n",
    "beta_eval = 0.\n",
    "epoch = 0"
   ]
  },
  {
   "cell_type": "code",
   "execution_count": null,
   "metadata": {
    "scrolled": false
   },
   "outputs": [
    {
     "name": "stdout",
     "output_type": "stream",
     "text": [
      "Epoch: 0, Step: 0 | LOSS TRAIN: 337.60 VALID: 832.81 | PPL TRAIN: 4022.16 VALID: 4021.14 | TM NLL: 337.17, KL: 0.44, REG: 0.00| BETA: 0.000000\n",
      "Epoch: 0, Step: 5000 | LOSS TRAIN: 437.57 VALID: 751.54 | PPL TRAIN: 1623.04 VALID: 1484.13 | TM NLL: 433.84, KL: 3.78, REG: -0.53| BETA: 0.000000\n",
      "Epoch: 0, Step: 10000 | LOSS TRAIN: 432.28 VALID: 745.30 | PPL TRAIN: 1464.86 VALID: 1361.44 | TM NLL: 427.90, KL: 4.43, REG: -0.44| BETA: 0.000000\n",
      "Epoch: 0, Step: 15000 | LOSS TRAIN: 429.63 VALID: 742.88 | PPL TRAIN: 1386.00 VALID: 1325.01 | TM NLL: 424.88, KL: 4.80, REG: -0.38| BETA: 0.000000\n",
      "Epoch: 0, Step: 20000 | LOSS TRAIN: 427.80 VALID: 741.77 | PPL TRAIN: 1335.94 VALID: 1294.10 | TM NLL: 422.78, KL: 5.06, REG: -0.34| BETA: 0.000000\n",
      "Epoch: 0, Step: 25000 | LOSS TRAIN: 426.41 VALID: 741.28 | PPL TRAIN: 1299.18 VALID: 1269.98 | TM NLL: 421.16, KL: 5.28, REG: -0.30| BETA: 0.000000\n",
      "Epoch: 0, Step: 30000 | LOSS TRAIN: 425.29 VALID: 741.06 | PPL TRAIN: 1270.50 VALID: 1256.84 | TM NLL: 419.87, KL: 5.45, REG: -0.28| BETA: 0.000000\n",
      "Epoch: 0, Step: 35000 | LOSS TRAIN: 424.41 VALID: 740.76 | PPL TRAIN: 1247.80 VALID: 1241.44 | TM NLL: 418.84, KL: 5.60, REG: -0.25| BETA: 0.000000\n",
      "Epoch: 0, Step: 40000 | LOSS TRAIN: 423.66 VALID: 740.87 | PPL TRAIN: 1229.27 VALID: 1241.34 | TM NLL: 417.97, KL: 5.72, REG: -0.24| BETA: 0.000000\n",
      "Epoch: 0, Step: 45000 | LOSS TRAIN: 423.04 VALID: 740.51 | PPL TRAIN: 1213.80 VALID: 1229.77 | TM NLL: 417.24, KL: 5.82, REG: -0.22| BETA: 0.000000\n",
      "Epoch: 0, Step: 50000 | LOSS TRAIN: 422.51 VALID: 740.27 | PPL TRAIN: 1200.60 VALID: 1223.55 | TM NLL: 416.63, KL: 5.90, REG: -0.21| BETA: 0.000000\n",
      "Epoch: 0, Step: 55000 | LOSS TRAIN: 422.06 VALID: 740.21 | PPL TRAIN: 1189.14 VALID: 1222.32 | TM NLL: 416.10, KL: 5.98, REG: -0.20| BETA: 0.000000\n",
      "Epoch: 0, Step: 60000 | LOSS TRAIN: 421.65 VALID: 739.80 | PPL TRAIN: 1179.02 VALID: 1220.58 | TM NLL: 415.62, KL: 6.05, REG: -0.19| BETA: 0.000000\n",
      "Epoch: 0, Step: 65000 | LOSS TRAIN: 421.28 VALID: 739.56 | PPL TRAIN: 1170.01 VALID: 1212.99 | TM NLL: 415.19, KL: 6.11, REG: -0.18| BETA: 0.000000\n",
      "Epoch: 0, Step: 70000 | LOSS TRAIN: 420.95 VALID: 739.98 | PPL TRAIN: 1161.96 VALID: 1212.20 | TM NLL: 414.80, KL: 6.17, REG: -0.17| BETA: 0.000000\n",
      "Epoch: 0, Step: 75000 | LOSS TRAIN: 420.65 VALID: 740.25 | PPL TRAIN: 1154.67 VALID: 1212.64 | TM NLL: 414.45, KL: 6.22, REG: -0.17| BETA: 0.000000\n",
      "Epoch: 0, Step: 80000 | LOSS TRAIN: 420.37 VALID: 740.15 | PPL TRAIN: 1148.08 VALID: 1208.51 | TM NLL: 414.12, KL: 6.26, REG: -0.16| BETA: 0.000000\n",
      "Epoch: 0, Step: 85000 | LOSS TRAIN: 420.11 VALID: 741.02 | PPL TRAIN: 1142.04 VALID: 1206.58 | TM NLL: 413.82, KL: 6.30, REG: -0.16| BETA: 0.000000\n",
      "Epoch: 0, Step: 90000 | LOSS TRAIN: 419.87 VALID: 740.58 | PPL TRAIN: 1136.50 VALID: 1209.08 | TM NLL: 413.55, KL: 6.34, REG: -0.15| BETA: 0.000000\n",
      "Epoch: 0, Step: 95000 | LOSS TRAIN: 419.65 VALID: 740.47 | PPL TRAIN: 1131.38 VALID: 1207.55 | TM NLL: 413.30, KL: 6.37, REG: -0.15| BETA: 0.000000\n",
      "Epoch: 0, Step: 100000 | LOSS TRAIN: 419.44 VALID: 740.62 | PPL TRAIN: 1126.63 VALID: 1210.00 | TM NLL: 413.05, KL: 6.41, REG: -0.15| BETA: 0.000000\n",
      "Epoch: 0, Step: 105000 | LOSS TRAIN: 419.25 VALID: 740.80 | PPL TRAIN: 1122.22 VALID: 1207.19 | TM NLL: 412.83, KL: 6.44, REG: -0.14| BETA: 0.000000\n",
      "Epoch: 0, Step: 110000 | LOSS TRAIN: 419.07 VALID: 740.95 | PPL TRAIN: 1118.11 VALID: 1211.50 | TM NLL: 412.62, KL: 6.46, REG: -0.14| BETA: 0.000000\n",
      "Epoch: 0, Step: 115000 | LOSS TRAIN: 418.92 VALID: 741.08 | PPL TRAIN: 1114.26 VALID: 1208.83 | TM NLL: 412.45, KL: 6.49, REG: -0.14| BETA: 0.000000\n",
      "Epoch: 0, Step: 120000 | LOSS TRAIN: 418.76 VALID: 740.62 | PPL TRAIN: 1110.61 VALID: 1207.37 | TM NLL: 412.26, KL: 6.51, REG: -0.13| BETA: 0.000000\n",
      "Epoch: 0, Step: 125000 | LOSS TRAIN: 418.60 VALID: 740.69 | PPL TRAIN: 1107.15 VALID: 1206.11 | TM NLL: 412.08, KL: 6.54, REG: -0.13| BETA: 0.000000\n",
      "Epoch: 0, Step: 130000 | LOSS TRAIN: 418.45 VALID: 741.46 | PPL TRAIN: 1103.89 VALID: 1205.76 | TM NLL: 411.91, KL: 6.56, REG: -0.13| BETA: 0.000000\n",
      "Epoch: 0, Step: 135000 | LOSS TRAIN: 418.32 VALID: 741.53 | PPL TRAIN: 1100.81 VALID: 1213.74 | TM NLL: 411.75, KL: 6.58, REG: -0.13| BETA: 0.000000\n",
      "Epoch: 0, Step: 140000 | LOSS TRAIN: 418.17 VALID: 741.53 | PPL TRAIN: 1097.88 VALID: 1205.40 | TM NLL: 411.59, KL: 6.60, REG: -0.12| BETA: 0.000000\n",
      "Epoch: 0, Step: 145000 | LOSS TRAIN: 418.04 VALID: 742.05 | PPL TRAIN: 1095.11 VALID: 1213.07 | TM NLL: 411.44, KL: 6.62, REG: -0.12| BETA: 0.000000\n",
      "Epoch: 0, Step: 150000 | LOSS TRAIN: 417.94 VALID: 741.91 | PPL TRAIN: 1092.49 VALID: 1207.06 | TM NLL: 411.32, KL: 6.64, REG: -0.12| BETA: 0.000000\n",
      "Epoch: 0, Step: 155000 | LOSS TRAIN: 417.83 VALID: 741.97 | PPL TRAIN: 1089.99 VALID: 1206.89 | TM NLL: 411.19, KL: 6.65, REG: -0.12| BETA: 0.000000\n",
      "Epoch: 0, Step: 160000 | LOSS TRAIN: 417.73 VALID: 742.34 | PPL TRAIN: 1087.62 VALID: 1213.78 | TM NLL: 411.07, KL: 6.67, REG: -0.12| BETA: 0.000000\n",
      "Epoch: 0, Step: 165000 | LOSS TRAIN: 417.63 VALID: 742.30 | PPL TRAIN: 1085.35 VALID: 1206.40 | TM NLL: 410.95, KL: 6.69, REG: -0.12| BETA: 0.000000\n",
      "Epoch: 0, Step: 170000 | LOSS TRAIN: 417.54 VALID: 742.51 | PPL TRAIN: 1083.19 VALID: 1211.84 | TM NLL: 410.85, KL: 6.70, REG: -0.11| BETA: 0.000000\n",
      "Epoch: 0, Step: 175000 | LOSS TRAIN: 417.44 VALID: 742.22 | PPL TRAIN: 1081.13 VALID: 1210.95 | TM NLL: 410.73, KL: 6.71, REG: -0.11| BETA: 0.000000\n",
      "0 : company casino president ceo board executive chief casinos chairman officer\n",
      "1 : arrested charged charges jail attorney murder held officer arrest woman\n",
      "2 : fire firefighters blaze building reported crews smoke injuries fires miles\n",
      "3 : died family church home father son wife children funeral '\n",
      "4 : company safety plant federal agency workers department administration found products\n",
      "5 : law children rights federal immigration enforcement arizona illegal women policy\n",
      "6 : child sexual girl charges guilty pleaded assault prison sex sentenced\n",
      "7 : car driver vehicle crash accident truck hit struck killed died\n",
      "8 : wildlife fish department lake water species river season deer area\n",
      "9 : trial death murder judge prosecutors prison jury guilty convicted case\n",
      "10 : government president country minister obama foreign countries china south world\n",
      "11 : rate prices rose oil cents month unemployment average fell jobs\n",
      "12 : ? business company online tourism time news stores industry sales\n",
      "13 : company energy plant power gas wind jobs natural customers project\n",
      "14 : lawsuit judge filed company federal case attorney settlement claims pay\n",
      "15 : airport air airlines flights international american flight airline service china\n",
      "16 : company shares inc. stock corp. deal trading based billion cents\n",
      "17 : found body authorities missing sheriff park died water area sunday\n",
      "18 : share cents revenue quarter company earnings billion analysts net rose\n",
      "19 : property reports service mayor traffic owners manager los week angeles\n",
      "20 : workers union government employees federal companies billion labor contract bank\n",
      "21 : water oil environmental federal gas agency river epa pollution coal\n",
      "22 : university school students college campus president high community program student\n",
      "23 : museum event national center world day zoo art saturday public\n",
      "24 : federal guilty prosecutors prison pleaded sentenced fraud charges attorney judge\n",
      "25 : tax budget bill house senate lawmakers gov taxes spending billion\n",
      "26 : department services agency hospital center program director system emergency reports\n",
      "27 : board chief president job director district gov served university appointed\n",
      "28 : found home authorities death woman sheriff body died investigators dead\n",
      "29 : republican election democratic party campaign senate voters primary republicans candidates\n",
      "30 : obama president campaign republican gov clinton presidential barack house sen.\n",
      "31 : bill law house senate measure vote voters supreme lawmakers passed\n",
      "32 : park project reports building area //bit.ly/ center open work downtown\n",
      "33 : drug federal authorities arrested marijuana agents fbi charges cocaine possession\n",
      "34 : program development grant department research economic programs university federal food\n",
      "35 : highway closed train traffic road bridge transportation interstate department lanes\n",
      "36 : school schools education students teachers district public board districts high\n",
      "37 : plane airport flight guard pilot coast crash crew helicopter aircraft\n",
      "38 : department officers attorney lawsuit filed office investigation inmates judge sheriff\n",
      "39 : health care insurance federal medicaid coverage program services medical law\n",
      "40 : shot shooting officers officer suspect hospital authorities gun fired found\n",
      "41 : military afghanistan killed soldiers army soldier guard forces iraq national\n",
      "42 : school student students high district university campus teacher parents told\n",
      "43 : office commission public campaign gov ethics committee general governor board\n",
      "44 : weather service storm snow power national rain inches flooding expected\n",
      "45 : officers told ? family department night ' san officer killed\n",
      "46 : government ? group president security protesters ap anti information protest\n",
      "47 : health children cases patients department disease deaths reported hospital medical\n",
      "48 : council project board money transportation plan projects approved proposed proposal\n",
      "49 : show ? ' won film night tickets music numbers ticket\n"
     ]
    }
   ],
   "source": [
    "for ct, batch in train_batches:\n",
    "    feed_dict = get_feed_dict(batch)\n",
    "    if config.warmup > 0 and beta_eval < 1.: \n",
    "        _, _, beta_eval, ppls_batch, loss_batch, topic_loss_recon_batch, topic_loss_kl_batch, topic_loss_reg_batch = \\\n",
    "        sess.run([opt, update_beta, beta, ppls, loss, topic_loss_recon, topic_loss_kl, topic_loss_reg], feed_dict = feed_dict)\n",
    "    else:\n",
    "        _, ppls_batch, loss_batch, topic_loss_recon_batch, topic_loss_kl_batch, topic_loss_reg_batch = \\\n",
    "        sess.run([opt, ppls, loss, topic_loss_recon, topic_loss_kl, topic_loss_reg], feed_dict = feed_dict)\n",
    "    \n",
    "    losses_train += [[loss_batch, topic_loss_recon_batch, topic_loss_kl_batch, topic_loss_reg_batch]]\n",
    "    ppls_train += list(ppls_batch)\n",
    "\n",
    "    if ct%config.log_period==0:\n",
    "        loss_train, topic_loss_recon_train, topic_loss_kl_train, topic_loss_reg_train = np.mean(losses_train, 0)\n",
    "        ppl_train = np.exp(np.mean(ppls_train))\n",
    "        if config.warmup > 0: beta_eval = beta.eval(session=sess)\n",
    "        loss_dev, ppl_dev = get_loss(sess, dev_batches)\n",
    "\n",
    "#             if loss_dev <= loss_min:\n",
    "#                 loss_min = loss_dev\n",
    "#                 loss_test = get_loss(sess, test_batches)\n",
    "\n",
    "        clear_output()\n",
    "\n",
    "        logs += [(epoch, ct, loss_train, loss_dev, ppl_train, ppl_dev, topic_loss_recon_train, topic_loss_kl_train, topic_loss_reg_train, beta_eval)]\n",
    "        for log in logs:\n",
    "            print('Epoch: %i, Step: %i | LOSS TRAIN: %.2f VALID: %.2f | PPL TRAIN: %.2f VALID: %.2f | TM NLL: %.2f, KL: %.2f, REG: %.2f| BETA: %.6f' %  log)\n",
    "        \n",
    "        # visualize topic\n",
    "        topics_freq_bow_idxs = bow_idxs[sess.run(topics_freq_bow_indices)]\n",
    "        for topic, topic_freq_bow_idxs in enumerate(topics_freq_bow_idxs):\n",
    "            print(topic, ':', ' '.join([idx_to_word[idx] for idx in topic_freq_bow_idxs]))"
   ]
  },
  {
   "cell_type": "markdown",
   "metadata": {},
   "source": [
    "# confirm variables"
   ]
  },
  {
   "cell_type": "code",
   "execution_count": null,
   "metadata": {},
   "outputs": [],
   "source": [
    "debug_value([topic_losses_recon, n_bow])"
   ]
  },
  {
   "cell_type": "code",
   "execution_count": null,
   "metadata": {},
   "outputs": [],
   "source": [
    "debug_value([tf.exp(-tf.divide(topic_losses_recon, n_bow))])"
   ]
  },
  {
   "cell_type": "markdown",
   "metadata": {},
   "source": [
    "### test"
   ]
  },
  {
   "cell_type": "code",
   "execution_count": 12,
   "metadata": {},
   "outputs": [
    {
     "name": "stdout",
     "output_type": "stream",
     "text": [
      "Placeholder:0 : (32, 4022)\n",
      "topic/enc/dropout/cond/Merge:0 : (32, 256)\n",
      "topic/enc/add:0 : (32, 32)\n",
      "topic/enc/prob/Softmax:0 : (32, 50)\n",
      "embedding_lookup:0 : (4022, 256)\n",
      "topic/dec/topic_emb:0 : (50, 256)\n",
      "topic/dec/Softmax:0 : (50, 4022)\n",
      "topic/dec/Log:0 : (32, 4022)\n"
     ]
    }
   ],
   "source": [
    "debug_shape([bow, hidden_bow, latents_bow, prob_topic, bow_embeddings, topic_embeddings, topic_bow, prob_bow])"
   ]
  },
  {
   "cell_type": "code",
   "execution_count": 27,
   "metadata": {},
   "outputs": [
    {
     "name": "stdout",
     "output_type": "stream",
     "text": [
      "Sum:0 : (32,)\n",
      "Neg:0 : ()\n",
      "Sum_2:0 : (32,)\n",
      "Neg_1:0 : (32,)\n",
      "truediv_1:0 : (50, 256)\n",
      "ExpandDims_1:0 : (1,)\n",
      "Mean_3:0 : ()\n"
     ]
    }
   ],
   "source": [
    "debug_shape([topic_losses_recon, topic_loss_recon, n_bow, ppls, topic_embeddings_norm, tf.expand_dims(topic_angles_mean, -1), topic_angles_vars])"
   ]
  },
  {
   "cell_type": "code",
   "execution_count": 14,
   "metadata": {},
   "outputs": [
    {
     "data": {
      "text/plain": [
       "array([1.        , 0.99999994, 0.9999999 , 1.        , 1.        ,\n",
       "       1.0000001 , 0.9999999 , 1.0000001 , 1.0000001 , 1.        ,\n",
       "       1.        , 1.        , 1.        , 1.        , 1.        ,\n",
       "       1.        , 0.9999999 , 0.9999999 , 0.99999994, 1.        ,\n",
       "       1.        , 0.9999999 , 1.0000001 , 1.        , 1.        ,\n",
       "       1.        , 0.99999994, 1.        , 0.99999994, 0.99999994,\n",
       "       1.0000001 , 0.9999999 , 1.        , 1.        , 1.        ,\n",
       "       1.        , 1.        , 1.        , 0.9999999 , 1.        ,\n",
       "       0.9999999 , 1.        , 1.        , 1.        , 0.99999994,\n",
       "       1.0000001 , 1.        , 1.        , 0.99999994, 1.        ],\n",
       "      dtype=float32)"
      ]
     },
     "execution_count": 14,
     "metadata": {},
     "output_type": "execute_result"
    }
   ],
   "source": [
    "debug_value([tf.reduce_sum(tf.square(topic_embeddings_norm), 1)], return_value=True)[0]"
   ]
  },
  {
   "cell_type": "code",
   "execution_count": 15,
   "metadata": {},
   "outputs": [
    {
     "name": "stdout",
     "output_type": "stream",
     "text": [
      "Sum_4:0 : [1.0000001  1.         1.0000001  0.99999994 1.         1.\n",
      " 1.         0.99999994 0.99999994 1.         1.         1.\n",
      " 0.99999994 1.         1.         1.         1.         1.\n",
      " 1.         1.         1.         1.         1.         0.9999999\n",
      " 1.         0.99999994 1.         1.0000001  0.99999994 1.\n",
      " 1.         1.        ]\n",
      "Sum_5:0 : [1.         0.99999994 1.         0.99999994 0.99999994 1.\n",
      " 1.         0.9999998  1.         1.         1.         1.\n",
      " 1.         1.         1.         1.0000001  0.99999994 1.\n",
      " 1.         0.99999994 0.9999999  0.99999994 1.0000001  1.\n",
      " 1.         1.         1.         0.99999994 0.9999999  1.\n",
      " 1.         1.         0.99999994 1.         0.99999994 1.\n",
      " 1.         0.9999999  1.         1.         1.         1.\n",
      " 0.99999994 1.         0.99999994 0.99999994 0.99999994 0.99999994\n",
      " 1.         1.        ]\n",
      "Sum_6:0 : [1.         1.         1.0000001  0.99999994 1.         1.\n",
      " 0.9999999  0.99999994 0.9999999  1.         1.0000001  1.\n",
      " 0.9999999  1.         1.         0.99999994 1.         0.9999999\n",
      " 0.9999999  0.9999999  1.0000001  1.         0.9999999  0.9999998\n",
      " 1.         0.99999994 0.99999994 0.9999999  0.99999994 0.9999999\n",
      " 1.         1.        ]\n"
     ]
    }
   ],
   "source": [
    "debug_value([tf.reduce_sum(prob_topic, -1), tf.reduce_sum(topic_bow, -1), tf.reduce_sum(tf.exp(prob_bow), 1)])"
   ]
  },
  {
   "cell_type": "code",
   "execution_count": 16,
   "metadata": {},
   "outputs": [],
   "source": [
    "sigma_bow = tf.exp(0.5 * logvars_bow)\n",
    "dist_bow = tfd.Normal(means_bow, sigma_bow)\n",
    "dist_std = tfd.Normal(0., 1.)\n",
    "topic_loss_kl_tmp = tf.reduce_mean(tf.reduce_sum(tfd.kl_divergence(dist_bow, dist_std), 1))"
   ]
  },
  {
   "cell_type": "code",
   "execution_count": 17,
   "metadata": {},
   "outputs": [
    {
     "name": "stdout",
     "output_type": "stream",
     "text": [
      "Neg:0 : 405.38312\n",
      "Mean_1:0 : 0.32056683\n",
      "Mean_4:0 : 0.32056683\n"
     ]
    }
   ],
   "source": [
    "debug_value([topic_loss_recon, topic_loss_kl, topic_loss_kl_tmp])"
   ]
  },
  {
   "cell_type": "code",
   "execution_count": 110,
   "metadata": {},
   "outputs": [],
   "source": [
    "_logvars, _means, _kl_losses, _latents, _output_logits = sess.run([logvars, means, kl_losses, latents, output_logits], feed_dict=feed_dict)\n"
   ]
  },
  {
   "cell_type": "code",
   "execution_count": 111,
   "metadata": {},
   "outputs": [
    {
     "data": {
      "text/plain": [
       "((32, 32), (32, 32), (32,), (32, 32))"
      ]
     },
     "execution_count": 111,
     "metadata": {},
     "output_type": "execute_result"
    }
   ],
   "source": [
    "_logvars.shape, _means.shape, _kl_losses.shape, _latents.shape"
   ]
  },
  {
   "cell_type": "code",
   "execution_count": 112,
   "metadata": {},
   "outputs": [
    {
     "data": {
      "text/plain": [
       "array([[[nan, nan, nan, ..., nan, nan, nan],\n",
       "        [nan, nan, nan, ..., nan, nan, nan],\n",
       "        [nan, nan, nan, ..., nan, nan, nan]],\n",
       "\n",
       "       [[nan, nan, nan, ..., nan, nan, nan],\n",
       "        [nan, nan, nan, ..., nan, nan, nan],\n",
       "        [nan, nan, nan, ..., nan, nan, nan]],\n",
       "\n",
       "       [[nan, nan, nan, ..., nan, nan, nan],\n",
       "        [nan, nan, nan, ..., nan, nan, nan],\n",
       "        [nan, nan, nan, ..., nan, nan, nan]],\n",
       "\n",
       "       ...,\n",
       "\n",
       "       [[nan, nan, nan, ..., nan, nan, nan],\n",
       "        [nan, nan, nan, ..., nan, nan, nan],\n",
       "        [nan, nan, nan, ..., nan, nan, nan]],\n",
       "\n",
       "       [[nan, nan, nan, ..., nan, nan, nan],\n",
       "        [nan, nan, nan, ..., nan, nan, nan],\n",
       "        [nan, nan, nan, ..., nan, nan, nan]],\n",
       "\n",
       "       [[nan, nan, nan, ..., nan, nan, nan],\n",
       "        [nan, nan, nan, ..., nan, nan, nan],\n",
       "        [nan, nan, nan, ..., nan, nan, nan]]], dtype=float32)"
      ]
     },
     "execution_count": 112,
     "metadata": {},
     "output_type": "execute_result"
    }
   ],
   "source": [
    "_output_logits"
   ]
  },
  {
   "cell_type": "code",
   "execution_count": 109,
   "metadata": {},
   "outputs": [
    {
     "ename": "NameError",
     "evalue": "name 'dec_target_idxs_do' is not defined",
     "output_type": "error",
     "traceback": [
      "\u001b[0;31m---------------------------------------------------------------------------\u001b[0m",
      "\u001b[0;31mNameError\u001b[0m                                 Traceback (most recent call last)",
      "\u001b[0;32m<ipython-input-109-7de59bc2cc54>\u001b[0m in \u001b[0;36m<module>\u001b[0;34m\u001b[0m\n\u001b[0;32m----> 1\u001b[0;31m \u001b[0m_output_logits\u001b[0m\u001b[0;34m,\u001b[0m \u001b[0m_dec_target_idxs_do\u001b[0m\u001b[0;34m,\u001b[0m \u001b[0m_dec_mask_tokens_do\u001b[0m\u001b[0;34m,\u001b[0m \u001b[0m_recon_loss\u001b[0m\u001b[0;34m,\u001b[0m \u001b[0m_kl_losses\u001b[0m\u001b[0;34m,\u001b[0m \u001b[0m_\u001b[0m \u001b[0;34m=\u001b[0m \u001b[0msess\u001b[0m\u001b[0;34m.\u001b[0m\u001b[0mrun\u001b[0m\u001b[0;34m(\u001b[0m\u001b[0;34m[\u001b[0m\u001b[0moutput_logits\u001b[0m\u001b[0;34m,\u001b[0m \u001b[0mdec_target_idxs_do\u001b[0m\u001b[0;34m,\u001b[0m \u001b[0mdec_mask_tokens_do\u001b[0m\u001b[0;34m,\u001b[0m \u001b[0mrecon_loss\u001b[0m\u001b[0;34m,\u001b[0m \u001b[0mkl_losses\u001b[0m\u001b[0;34m,\u001b[0m \u001b[0mopt\u001b[0m\u001b[0;34m]\u001b[0m\u001b[0;34m,\u001b[0m \u001b[0mfeed_dict\u001b[0m\u001b[0;34m=\u001b[0m\u001b[0mfeed_dict\u001b[0m\u001b[0;34m)\u001b[0m\u001b[0;34m\u001b[0m\u001b[0;34m\u001b[0m\u001b[0m\n\u001b[0m",
      "\u001b[0;31mNameError\u001b[0m: name 'dec_target_idxs_do' is not defined"
     ]
    }
   ],
   "source": [
    "_output_logits, _dec_target_idxs_do, _dec_mask_tokens_do, _recon_loss, _kl_losses, _ = sess.run([output_logits, dec_target_idxs_do, dec_mask_tokens_do, recon_loss, kl_losses, opt], feed_dict=feed_dict)\n"
   ]
  },
  {
   "cell_type": "code",
   "execution_count": 44,
   "metadata": {},
   "outputs": [
    {
     "data": {
      "text/plain": [
       "(120, 46)"
      ]
     },
     "execution_count": 44,
     "metadata": {},
     "output_type": "execute_result"
    }
   ],
   "source": [
    "tf.reduce_max(output_logits, 2).eval(session=sess, feed_dict=feed_dict).shape"
   ]
  },
  {
   "cell_type": "code",
   "execution_count": 31,
   "metadata": {},
   "outputs": [
    {
     "data": {
      "text/plain": [
       "((120, 46, 20000), (120, 46), (120, 46))"
      ]
     },
     "execution_count": 31,
     "metadata": {},
     "output_type": "execute_result"
    }
   ],
   "source": [
    "_output_logits.shape, _dec_target_idxs_do.shape, _dec_mask_tokens_do.shape"
   ]
  },
  {
   "cell_type": "code",
   "execution_count": 32,
   "metadata": {},
   "outputs": [],
   "source": [
    "_logits = np.exp(_output_logits) / np.sum(np.exp(_output_logits), 2)[:, :, None]"
   ]
  },
  {
   "cell_type": "code",
   "execution_count": 33,
   "metadata": {},
   "outputs": [],
   "source": [
    "_idxs = _dec_target_idxs_do"
   ]
  },
  {
   "cell_type": "code",
   "execution_count": 35,
   "metadata": {},
   "outputs": [],
   "source": [
    "_losses = np.array([[-np.log(_logits[i, j, _idxs[i, j]]) for j in range(_idxs.shape[1])] for i in range(_idxs.shape[0])]) * _dec_mask_tokens_do"
   ]
  },
  {
   "cell_type": "code",
   "execution_count": 36,
   "metadata": {},
   "outputs": [
    {
     "data": {
      "text/plain": [
       "9.903732"
      ]
     },
     "execution_count": 36,
     "metadata": {},
     "output_type": "execute_result"
    }
   ],
   "source": [
    "np.sum(_losses)/np.sum(_dec_mask_tokens_do)"
   ]
  },
  {
   "cell_type": "code",
   "execution_count": 37,
   "metadata": {},
   "outputs": [
    {
     "data": {
      "text/plain": [
       "9.903732"
      ]
     },
     "execution_count": 37,
     "metadata": {},
     "output_type": "execute_result"
    }
   ],
   "source": [
    "_recon_loss"
   ]
  },
  {
   "cell_type": "code",
   "execution_count": 38,
   "metadata": {},
   "outputs": [
    {
     "data": {
      "text/plain": [
       "(120,)"
      ]
     },
     "execution_count": 38,
     "metadata": {},
     "output_type": "execute_result"
    }
   ],
   "source": [
    "_kl_losses.shape"
   ]
  },
  {
   "cell_type": "code",
   "execution_count": null,
   "metadata": {},
   "outputs": [],
   "source": []
  }
 ],
 "metadata": {
  "kernelspec": {
   "display_name": "py36",
   "language": "python",
   "name": "py36"
  },
  "language_info": {
   "codemirror_mode": {
    "name": "ipython",
    "version": 3
   },
   "file_extension": ".py",
   "mimetype": "text/x-python",
   "name": "python",
   "nbconvert_exporter": "python",
   "pygments_lexer": "ipython3",
   "version": "3.6.9"
  },
  "toc": {
   "base_numbering": 1,
   "nav_menu": {},
   "number_sections": true,
   "sideBar": true,
   "skip_h1_title": false,
   "title_cell": "Table of Contents",
   "title_sidebar": "Contents",
   "toc_cell": false,
   "toc_position": {},
   "toc_section_display": true,
   "toc_window_display": false
  }
 },
 "nbformat": 4,
 "nbformat_minor": 2
}
