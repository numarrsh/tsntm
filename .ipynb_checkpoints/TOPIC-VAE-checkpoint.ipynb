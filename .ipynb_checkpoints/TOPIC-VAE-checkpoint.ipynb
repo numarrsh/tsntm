{
 "cells": [
  {
   "cell_type": "code",
   "execution_count": 1,
   "metadata": {},
   "outputs": [
    {
     "name": "stderr",
     "output_type": "stream",
     "text": [
      "/home/m-isonuma/.local/lib/python3.6/site-packages/tensorflow/python/framework/dtypes.py:519: FutureWarning: Passing (type, 1) or '1type' as a synonym of type is deprecated; in a future version of numpy, it will be understood as (type, (1,)) / '(1,)type'.\n",
      "  _np_qint8 = np.dtype([(\"qint8\", np.int8, 1)])\n",
      "/home/m-isonuma/.local/lib/python3.6/site-packages/tensorflow/python/framework/dtypes.py:520: FutureWarning: Passing (type, 1) or '1type' as a synonym of type is deprecated; in a future version of numpy, it will be understood as (type, (1,)) / '(1,)type'.\n",
      "  _np_quint8 = np.dtype([(\"quint8\", np.uint8, 1)])\n",
      "/home/m-isonuma/.local/lib/python3.6/site-packages/tensorflow/python/framework/dtypes.py:521: FutureWarning: Passing (type, 1) or '1type' as a synonym of type is deprecated; in a future version of numpy, it will be understood as (type, (1,)) / '(1,)type'.\n",
      "  _np_qint16 = np.dtype([(\"qint16\", np.int16, 1)])\n",
      "/home/m-isonuma/.local/lib/python3.6/site-packages/tensorflow/python/framework/dtypes.py:522: FutureWarning: Passing (type, 1) or '1type' as a synonym of type is deprecated; in a future version of numpy, it will be understood as (type, (1,)) / '(1,)type'.\n",
      "  _np_quint16 = np.dtype([(\"quint16\", np.uint16, 1)])\n",
      "/home/m-isonuma/.local/lib/python3.6/site-packages/tensorflow/python/framework/dtypes.py:523: FutureWarning: Passing (type, 1) or '1type' as a synonym of type is deprecated; in a future version of numpy, it will be understood as (type, (1,)) / '(1,)type'.\n",
      "  _np_qint32 = np.dtype([(\"qint32\", np.int32, 1)])\n",
      "/home/m-isonuma/.local/lib/python3.6/site-packages/tensorflow/python/framework/dtypes.py:528: FutureWarning: Passing (type, 1) or '1type' as a synonym of type is deprecated; in a future version of numpy, it will be understood as (type, (1,)) / '(1,)type'.\n",
      "  np_resource = np.dtype([(\"resource\", np.ubyte, 1)])\n"
     ]
    }
   ],
   "source": [
    "%load_ext autoreload\n",
    "%autoreload\n",
    "from IPython.display import clear_output\n",
    "\n",
    "import os\n",
    "import pdb\n",
    "from six.moves import zip_longest\n",
    "\n",
    "import numpy as np\n",
    "import tensorflow as tf\n",
    "from tensorflow import distributions as tfd\n",
    "from tensorflow.python import debug as tf_debug\n",
    "import _pickle as cPickle\n",
    "import random\n",
    "\n",
    "from data_structure import load_data\n",
    "from components import tf_log, encode_latents, sample_latents, compute_kl_loss, dynamic_rnn, dynamic_bi_rnn, DiagonalGaussian"
   ]
  },
  {
   "cell_type": "code",
   "execution_count": 2,
   "metadata": {},
   "outputs": [],
   "source": [
    "PAD = '<pad>' # This has a vocab id, which is used to pad the encoder input, decoder input and target sequence\n",
    "UNK = '<unk>' # This has a vocab id, which is used to represent out-of-vocabulary words\n",
    "BOS = '<p>' # This has a vocab id, which is used at the beginning of every decoder input sequence\n",
    "EOS = '</p>' # This has a vocab id, which is used at the end of untruncated target sequences"
   ]
  },
  {
   "cell_type": "markdown",
   "metadata": {},
   "source": [
    "# load data & set config"
   ]
  },
  {
   "cell_type": "code",
   "execution_count": 3,
   "metadata": {
    "code_folding": [
     0
    ]
   },
   "outputs": [],
   "source": [
    "def del_all_flags(FLAGS):\n",
    "    flags_dict = FLAGS._flags()    \n",
    "    keys_list = [keys for keys in flags_dict]    \n",
    "    for keys in keys_list:\n",
    "        FLAGS.__delattr__(keys)\n",
    "\n",
    "del_all_flags(tf.flags.FLAGS)\n",
    "\n",
    "flags = tf.app.flags\n",
    "\n",
    "flags.DEFINE_string('gpu', '3', 'visible gpu')\n",
    "\n",
    "flags.DEFINE_string('mode', 'train', 'set train or eval')\n",
    "\n",
    "flags.DEFINE_string('data_path', 'data/apnews/instances.pkl', 'path of data')\n",
    "flags.DEFINE_string('modeldir', 'model', 'directory of model')\n",
    "flags.DEFINE_string('modelname', 'sports', 'name of model')\n",
    "\n",
    "flags.DEFINE_integer('epochs', 1000, 'epochs')\n",
    "flags.DEFINE_integer('batch_size', 32, 'batch size')\n",
    "flags.DEFINE_integer('log_period', 5000, 'valid period')\n",
    "\n",
    "flags.DEFINE_string('opt', 'Adagrad', 'optimizer')\n",
    "flags.DEFINE_float('lr', 0.1, 'lr')\n",
    "flags.DEFINE_float('reg', 0.1, 'regularization term')\n",
    "flags.DEFINE_float('beta', 0.1, 'initial value of beta')\n",
    "flags.DEFINE_float('grad_clip', 5., 'grad_clip')\n",
    "\n",
    "flags.DEFINE_float('keep_prob', 0.6, 'dropout rate')\n",
    "flags.DEFINE_float('word_keep_prob', 0.75, 'word dropout rate')\n",
    "\n",
    "flags.DEFINE_integer('warmup', 0, 'warmup period for KL')\n",
    "flags.DEFINE_integer('warmup_topic', 0, 'warmup period for KL of topic')\n",
    "\n",
    "flags.DEFINE_integer('beam_width', 10, 'beam_width')\n",
    "flags.DEFINE_float('length_penalty_weight', 0.0, 'length_penalty_weight')\n",
    "\n",
    "flags.DEFINE_integer('n_topic', 50, 'number of topic')\n",
    "flags.DEFINE_integer('dim_hidden_bow', 256, 'dim of hidden bow')\n",
    "flags.DEFINE_integer('dim_latent_topic', 32, 'dim of latent topic')\n",
    "flags.DEFINE_integer('dim_emb', 256, 'dim_emb')\n",
    "flags.DEFINE_integer('dim_hidden', 512, 'dim_hidden')\n",
    "flags.DEFINE_integer('dim_latent', 32, 'dim_latent')\n",
    "\n",
    "\n",
    "# for evaluation\n",
    "flags.DEFINE_string('refdir', 'ref', 'refdir')\n",
    "flags.DEFINE_string('outdir', 'out', 'outdir')\n",
    "\n",
    "flags.DEFINE_string('f', '', 'kernel')\n",
    "\n",
    "config = flags.FLAGS"
   ]
  },
  {
   "cell_type": "code",
   "execution_count": 4,
   "metadata": {},
   "outputs": [],
   "source": [
    "os.environ[\"CUDA_VISIBLE_DEVICES\"] = config.gpu"
   ]
  },
  {
   "cell_type": "code",
   "execution_count": 5,
   "metadata": {},
   "outputs": [
    {
     "name": "stdout",
     "output_type": "stream",
     "text": [
      "Number of train examples: 39553\n"
     ]
    }
   ],
   "source": [
    "num_train_batches, train_batches, dev_batches, test_batches, word_to_idx, idx_to_word, bow_idxs = load_data(config)"
   ]
  },
  {
   "cell_type": "code",
   "execution_count": 6,
   "metadata": {},
   "outputs": [],
   "source": [
    "flags.DEFINE_integer('PAD_IDX', word_to_idx[PAD], 'PAD_IDX')\n",
    "flags.DEFINE_integer('UNK_IDX', word_to_idx[UNK], 'UNK_IDX')\n",
    "flags.DEFINE_integer('BOS_IDX', word_to_idx[BOS], 'BOS_IDX')\n",
    "flags.DEFINE_integer('EOS_IDX', word_to_idx[EOS], 'EOS_IDX')\n",
    "\n",
    "flags.DEFINE_integer('n_vocab', len(word_to_idx), 'n_vocab')\n",
    "flags.DEFINE_integer('dim_bow', len(bow_idxs), 'dim_bow')\n",
    "\n",
    "maximum_iterations = max([max([instance.max_sent_l for instance in batch]) for ct, batch in dev_batches])\n",
    "flags.DEFINE_integer('maximum_iterations', maximum_iterations, 'maximum_iterations')    "
   ]
  },
  {
   "cell_type": "markdown",
   "metadata": {},
   "source": [
    "# build language model "
   ]
  },
  {
   "cell_type": "code",
   "execution_count": 7,
   "metadata": {},
   "outputs": [],
   "source": [
    "def debug_shape(variables, sess_init=None):\n",
    "    if sess_init is None:\n",
    "        sess = tf.Session()\n",
    "        sess.run(tf.global_variables_initializer())\n",
    "    else:\n",
    "        sess = sess_init\n",
    "        \n",
    "    sample_batch = test_batches[0][1]\n",
    "    feed_dict = get_feed_dict(sample_batch)\n",
    "    _variables = sess.run(variables, feed_dict=feed_dict)\n",
    "    for _variable, variable in zip(_variables, variables):\n",
    "        if hasattr(variable, 'name'):\n",
    "            print(variable.name, ':', _variable.shape)\n",
    "        else:\n",
    "            print(_variable.shape)\n",
    "            \n",
    "    if sess_init is None: sess.close()\n",
    "\n",
    "def debug_value(variables, return_value=False, sess_init=None):\n",
    "    if sess_init is None:\n",
    "        sess = tf.Session()\n",
    "        sess.run(tf.global_variables_initializer())\n",
    "    else:\n",
    "        sess = sess_init\n",
    "\n",
    "    sample_batch = test_batches[0][1]\n",
    "    feed_dict = get_feed_dict(sample_batch)\n",
    "    _variables = sess.run(variables, feed_dict=feed_dict)\n",
    "\n",
    "    if return_value: \n",
    "        return _variables\n",
    "    else:\n",
    "        for _variable, variable in zip(_variables, variables):\n",
    "            if hasattr(variable, 'name'):\n",
    "                print(variable.name, ':', _variable)\n",
    "            else:\n",
    "                print(_variable)\n",
    "                \n",
    "    if sess_init is None: sess.close()"
   ]
  },
  {
   "cell_type": "markdown",
   "metadata": {},
   "source": [
    "## define model"
   ]
  },
  {
   "cell_type": "code",
   "execution_count": 11,
   "metadata": {},
   "outputs": [],
   "source": [
    "class TopicModel():\n",
    "    def __init__(self, config):\n",
    "        self.config = config\n",
    "        \n",
    "        t_variables = {}\n",
    "        t_variables['bow'] = tf.placeholder(tf.float32, [None, self.config.dim_bow])\n",
    "        t_variables['keep_prob'] = tf.placeholder(tf.float32)\n",
    "        self.t_variables = t_variables\n",
    "        \n",
    "    def build(self):\n",
    "        # encode bow\n",
    "        with tf.variable_scope('topic/enc', reuse=False):\n",
    "            hidden_bow_ = tf.keras.layers.Dense(units=self.config.dim_hidden_bow, activation=tf.nn.relu, name='hidden')(self.t_variables['bow'])\n",
    "            hidden_bow = tf.keras.layers.Dropout(self.t_variables['keep_prob'])(hidden_bow_)\n",
    "            means_bow = tf.keras.layers.Dense(units=self.config.dim_latent_topic)(hidden_bow)\n",
    "            logvars_bow = tf.keras.layers.Dense(units=self.config.dim_latent_topic, kernel_initializer=tf.constant_initializer(0), bias_initializer=tf.constant_initializer(0))(hidden_bow)\n",
    "            latents_bow = sample_latents(means_bow, logvars_bow) # sample latent vectors\n",
    "\n",
    "            prob_topic = tf.layers.Dense(units=self.config.n_topic, activation=tf.nn.softmax, name='prob')(latents_bow) # inference of topic probabilities\n",
    "\n",
    "        # decode bow\n",
    "        with tf.variable_scope('shared', reuse=False):\n",
    "            embeddings = tf.get_variable('emb', [self.config.n_vocab, self.config.dim_emb], dtype=tf.float32, initializer=tf.contrib.layers.xavier_initializer()) # embeddings of vocab\n",
    "\n",
    "        bow_embeddings = tf.nn.embedding_lookup(embeddings, bow_idxs) # embeddings of each bow features\n",
    "\n",
    "        with tf.variable_scope('topic/dec', reuse=False):\n",
    "            topic_embeddings = tf.get_variable('topic_emb', [self.config.n_topic, self.config.dim_emb], dtype=tf.float32, initializer=tf.contrib.layers.xavier_initializer()) # embeddings of topics\n",
    "\n",
    "            topic_bow = tf.nn.softmax(tf.matmul(topic_embeddings, bow_embeddings, transpose_b=True), 1) # bow vectors for each topic\n",
    "            self.topic_bow = topic_bow\n",
    "            prob_bow = tf_log(tf.matmul(prob_topic, topic_bow)) # predicted bow distribution\n",
    "\n",
    "        # define lisses\n",
    "        topic_losses_recon = -tf.reduce_sum(tf.multiply(self.t_variables['bow'], prob_bow), 1)\n",
    "        topic_loss_recon = tf.reduce_mean(topic_losses_recon) # negative log likelihood of each words\n",
    "        self.topic_losses_recon, self.topic_loss_recon = topic_losses_recon, topic_loss_recon\n",
    "\n",
    "        topic_loss_kl = compute_kl_loss(means_bow, logvars_bow) # KL divergence b/w latent dist & gaussian std\n",
    "        self.topic_loss_kl = topic_loss_kl\n",
    "\n",
    "        topic_embeddings_norm = topic_embeddings / tf.norm(topic_embeddings, axis=1, keepdims=True)\n",
    "        topic_angles = tf.matmul(topic_embeddings_norm, tf.transpose(topic_embeddings_norm))\n",
    "        topic_angles_mean = tf.reduce_mean(topic_angles, keepdims=True)\n",
    "        topic_angles_vars = tf.reduce_mean(tf.square(topic_angles - topic_angles_mean))\n",
    "        topic_loss_reg = topic_angles_vars - tf.squeeze(topic_angles_mean)\n",
    "        self.topic_loss_reg = topic_loss_reg\n",
    "\n",
    "    def build_opt(self):        \n",
    "        if self.config.warmup_topic > 0:\n",
    "            beta = tf.Variable(self.config.beta, name='beta', trainable=False)\n",
    "            update_beta = tf.assign_add(beta, 1./(self.config.warmup_topic*num_train_batches))\n",
    "            self.beta, self.update_beta = beta, update_beta\n",
    "            loss = self.topic_loss_recon + self.beta * self.topic_loss_kl + self.config.reg * self.topic_loss_reg\n",
    "        else:\n",
    "            loss = self.topic_loss_recon + self.topic_loss_kl + self.config.reg * self.topic_loss_reg\n",
    "        self.loss = loss\n",
    "        \n",
    "        # define optimizer\n",
    "        if self.config.opt == 'Adam':\n",
    "            optimizer = tf.train.AdamOptimizer(self.config.lr)\n",
    "        elif self.config.opt == 'Adagrad':\n",
    "            optimizer = tf.train.AdagradOptimizer(self.config.lr)\n",
    "\n",
    "        grad_vars = optimizer.compute_gradients(loss)\n",
    "        clipped_grad_vars = [(tf.clip_by_value(grad, -self.config.grad_clip, self.config.grad_clip), var) for grad, var in grad_vars]\n",
    "        opt = optimizer.apply_gradients(clipped_grad_vars)\n",
    "        self.opt = opt\n",
    "\n",
    "        n_bow = tf.reduce_sum(self.t_variables['bow'], 1)\n",
    "        ppls = tf.divide(self.topic_losses_recon, n_bow)\n",
    "        self.ppls = ppls\n",
    "        \n",
    "        topics_freq_bow_indices = tf.nn.top_k(self.topic_bow, 10, name='topic_freq_bow').indices\n",
    "        self.topics_freq_bow_indices = topics_freq_bow_indices\n",
    "        \n",
    "    def get_feed_dict(self, batch, mode='train'):\n",
    "        bow = np.array([instance.bow for instance in batch]).astype(np.float32)\n",
    "        keep_prob = self.config.keep_prob if mode == 'train' else 1.0\n",
    "        feed_dict = {\n",
    "                    self.t_variables['bow']: bow, \n",
    "                    self.t_variables['keep_prob']: keep_prob\n",
    "        }\n",
    "        return  feed_dict"
   ]
  },
  {
   "cell_type": "markdown",
   "metadata": {},
   "source": [
    "# run model "
   ]
  },
  {
   "cell_type": "code",
   "execution_count": 9,
   "metadata": {},
   "outputs": [],
   "source": [
    "def get_loss(sess, batches, model):\n",
    "    losses = []\n",
    "    ppl_list = []\n",
    "    for ct, batch in batches:\n",
    "        feed_dict = model.get_feed_dict(batch, mode='test')\n",
    "        loss_batch, ppls_batch = sess.run([model.loss, model.ppls], feed_dict = feed_dict)\n",
    "        losses += [loss_batch]\n",
    "        ppl_list += list(ppls_batch)\n",
    "    loss_mean = np.mean(losses)\n",
    "    ppl_mean = np.exp(np.mean(ppl_list))\n",
    "    return loss_mean, ppl_mean"
   ]
  },
  {
   "cell_type": "code",
   "execution_count": 12,
   "metadata": {
    "scrolled": true
   },
   "outputs": [],
   "source": [
    "tf.reset_default_graph()\n",
    "model = TopicModel(config)\n",
    "model.build()\n",
    "model.build_opt()\n",
    "\n",
    "if 'sess' in globals(): sess.close()\n",
    "sess = tf.Session()\n",
    "sess.run(tf.global_variables_initializer())\n",
    "\n",
    "logs = []\n",
    "losses_train = []\n",
    "ppls_train = []\n",
    "loss_min = np.inf\n",
    "beta_eval = 0.\n",
    "epoch = 0"
   ]
  },
  {
   "cell_type": "code",
   "execution_count": null,
   "metadata": {
    "scrolled": false
   },
   "outputs": [
    {
     "name": "stdout",
     "output_type": "stream",
     "text": [
      "Epoch: 0, Step: 0 | LOSS TRAIN: 390.80 VALID: 832.72 | PPL TRAIN: 4022.17 VALID: 4020.95 | TM NLL: 390.34, KL: 0.46, REG: 0.00| BETA: 0.000000\n",
      "Epoch: 0, Step: 5000 | LOSS TRAIN: 438.68 VALID: 751.33 | PPL TRAIN: 1662.27 VALID: 1488.77 | TM NLL: 435.05, KL: 3.68, REG: -0.54| BETA: 0.000000\n",
      "Epoch: 0, Step: 10000 | LOSS TRAIN: 432.97 VALID: 745.31 | PPL TRAIN: 1483.38 VALID: 1369.56 | TM NLL: 428.57, KL: 4.44, REG: -0.45| BETA: 0.000000\n",
      "Epoch: 0, Step: 15000 | LOSS TRAIN: 430.04 VALID: 743.03 | PPL TRAIN: 1399.07 VALID: 1317.57 | TM NLL: 425.23, KL: 4.85, REG: -0.39| BETA: 0.000000\n",
      "Epoch: 0, Step: 20000 | LOSS TRAIN: 428.11 VALID: 741.80 | PPL TRAIN: 1345.32 VALID: 1289.90 | TM NLL: 423.01, KL: 5.14, REG: -0.35| BETA: 0.000000\n",
      "Epoch: 0, Step: 25000 | LOSS TRAIN: 426.68 VALID: 741.22 | PPL TRAIN: 1306.97 VALID: 1269.23 | TM NLL: 421.35, KL: 5.35, REG: -0.31| BETA: 0.000000\n",
      "Epoch: 0, Step: 30000 | LOSS TRAIN: 425.61 VALID: 740.12 | PPL TRAIN: 1278.00 VALID: 1255.05 | TM NLL: 420.11, KL: 5.52, REG: -0.29| BETA: 0.000000\n",
      "Epoch: 0, Step: 35000 | LOSS TRAIN: 424.72 VALID: 740.28 | PPL TRAIN: 1255.10 VALID: 1245.30 | TM NLL: 419.09, KL: 5.65, REG: -0.27| BETA: 0.000000\n",
      "Epoch: 0, Step: 40000 | LOSS TRAIN: 423.98 VALID: 740.38 | PPL TRAIN: 1236.45 VALID: 1241.51 | TM NLL: 418.24, KL: 5.76, REG: -0.25| BETA: 0.000000\n",
      "Epoch: 0, Step: 45000 | LOSS TRAIN: 423.36 VALID: 739.59 | PPL TRAIN: 1220.85 VALID: 1233.55 | TM NLL: 417.52, KL: 5.86, REG: -0.23| BETA: 0.000000\n",
      "0 : fish water wildlife river park lake department season area species\n",
      "1 : health animal department dog cases reported animals dogs zoo disease\n",
      "2 : snow service weather power storm national area fire winds inches\n",
      "3 : ? tuesday monday thursday wednesday ' time week friday department\n",
      "4 : project development building housing money grant construction projects program reports\n",
      "5 : government country president minister united group south foreign military al\n",
      "6 : shot shooting found home officers authorities woman hospital officer suspect\n",
      "7 : workers government employees pay companies benefits union financial federal fund\n",
      "8 : federal guilty judge prison prosecutors pleaded sentenced attorney charges trial\n",
      "9 : show ? ' won time music movie night tickets tv\n",
      "10 : workers union ? contract ap government work agency service labor\n",
      "11 : obama president republican gov house campaign governor barack presidential senate\n",
      "12 : safety department enforcement law cameras traffic officers drivers driving alcohol\n",
      "13 : fbi federal authorities drug told agent arrested agents documents men\n",
      "14 : //bit.ly/ reports department public director tells told site manager service\n",
      "15 : company filed lawsuit attorney claims pay general settlement federal office\n",
      "16 : vehicle car driver crash truck driving highway hit killed injured\n",
      "17 : mayor council chief members protesters gov job hall protest protests\n",
      "18 : murder death trial guilty prison prosecutors charged sentenced pleaded degree\n",
      "19 : tuesday monday thursday ' wednesday office ? public friday time\n",
      "20 : attorney sexual lawsuit inmates filed judge department case district office\n",
      "21 : plane boat airport pilot guard coast crew helicopter crash flight\n",
      "22 : shares company inc. stock cents trading billion rose corp. deal\n",
      "23 : economic jobs development business casino billion industry tourism economy china\n",
      "24 : public proposal bill approved board council committee voted gov vote\n",
      "25 : budget tax house bill senate lawmakers gov spending cuts session\n",
      "26 : university students college president school center program campus community education\n",
      "27 : revenue share cents company quarter earnings billion analysts rose shares\n",
      "28 : border security ? san spokesman killed told station car news\n",
      "29 : arrested charges charged authorities jail found drug possession sheriff stolen\n",
      "30 : republican election campaign democratic senate primary race voters party district\n",
      "31 : tuesday ? monday thursday wednesday ' time week friday department\n",
      "32 : oil plant water company spill mine safety site leak environmental\n",
      "33 : company based plant president products inc. plans announced business ceo\n",
      "34 : center museum event day national park saturday scheduled open annual\n",
      "35 : law bill house marijuana measure supreme senate committee legislation vote\n",
      "36 : department director agency information reports work training //bit.ly/ newspaper center\n",
      "37 : transportation federal bridge department highway project emergency transit work road\n",
      "38 : school students schools education district board high teachers public superintendent\n",
      "39 : tuesday ? monday thursday wednesday ' time friday week public\n",
      "40 : health care federal insurance medical program services medicaid hospital department\n",
      "41 : vehicles station ? fuel coast work transportation area cars week\n",
      "42 : power energy gas oil natural plant customers utility commission electric\n",
      "43 : rate economy unemployment growth month jobs economic rose bank prices\n",
      "44 : school student officers officer campus chief university told students department\n",
      "45 : federal water environmental judge lawsuit filed agency commission protection ban\n",
      "46 : law justice church rights letter group chief statement children women\n",
      "47 : air airport guard base flights service airline airlines national force\n",
      "48 : fire authorities found firefighters body home building reported area monday\n",
      "49 : died family church killed home army afghanistan saturday memorial funeral\n"
     ]
    }
   ],
   "source": [
    "for ct, batch in train_batches:\n",
    "    feed_dict = model.get_feed_dict(batch)\n",
    "    if config.warmup_topic > 0 and beta_eval < 1.: \n",
    "        _, _, beta_eval, ppls_batch, loss_batch, topic_loss_recon_batch, topic_loss_kl_batch, topic_loss_reg_batch = \\\n",
    "        sess.run([model.opt, model.update_beta, model.beta, model.ppls, model.loss, model.topic_loss_recon, model.topic_loss_kl, model.topic_loss_reg], feed_dict = feed_dict)\n",
    "    else:\n",
    "        _, ppls_batch, loss_batch, topic_loss_recon_batch, topic_loss_kl_batch, topic_loss_reg_batch = \\\n",
    "        sess.run([model.opt, model.ppls, model.loss, model.topic_loss_recon, model.topic_loss_kl, model.topic_loss_reg], feed_dict = feed_dict)\n",
    "    \n",
    "    losses_train += [[loss_batch, topic_loss_recon_batch, topic_loss_kl_batch, topic_loss_reg_batch]]\n",
    "    ppls_train += list(ppls_batch)\n",
    "\n",
    "    if ct%config.log_period==0:\n",
    "        loss_train, topic_loss_recon_train, topic_loss_kl_train, topic_loss_reg_train = np.mean(losses_train, 0)\n",
    "        ppl_train = np.exp(np.mean(ppls_train))\n",
    "        loss_dev, ppl_dev = get_loss(sess, dev_batches, model)\n",
    "\n",
    "        clear_output()\n",
    "\n",
    "        logs += [(epoch, ct, loss_train, loss_dev, ppl_train, ppl_dev, topic_loss_recon_train, topic_loss_kl_train, topic_loss_reg_train, beta_eval)]\n",
    "        for log in logs:\n",
    "            print('Epoch: %i, Step: %i | LOSS TRAIN: %.2f VALID: %.2f | PPL TRAIN: %.2f VALID: %.2f | TM NLL: %.2f, KL: %.2f, REG: %.2f| BETA: %.6f' %  log)\n",
    "        \n",
    "        # visualize topic\n",
    "        topics_freq_bow_idxs = bow_idxs[sess.run(model.topics_freq_bow_indices)]\n",
    "        for topic, topic_freq_bow_idxs in enumerate(topics_freq_bow_idxs):\n",
    "            print(topic, ':', ' '.join([idx_to_word[idx] for idx in topic_freq_bow_idxs]))"
   ]
  },
  {
   "cell_type": "markdown",
   "metadata": {},
   "source": [
    "# confirm variables"
   ]
  },
  {
   "cell_type": "code",
   "execution_count": null,
   "metadata": {},
   "outputs": [],
   "source": [
    "debug_value([topic_losses_recon, n_bow])"
   ]
  },
  {
   "cell_type": "code",
   "execution_count": null,
   "metadata": {},
   "outputs": [],
   "source": [
    "debug_value([tf.exp(-tf.divide(topic_losses_recon, n_bow))])"
   ]
  },
  {
   "cell_type": "markdown",
   "metadata": {},
   "source": [
    "### test"
   ]
  },
  {
   "cell_type": "code",
   "execution_count": 12,
   "metadata": {},
   "outputs": [
    {
     "name": "stdout",
     "output_type": "stream",
     "text": [
      "Placeholder:0 : (32, 4022)\n",
      "topic/enc/dropout/cond/Merge:0 : (32, 256)\n",
      "topic/enc/add:0 : (32, 32)\n",
      "topic/enc/prob/Softmax:0 : (32, 50)\n",
      "embedding_lookup:0 : (4022, 256)\n",
      "topic/dec/topic_emb:0 : (50, 256)\n",
      "topic/dec/Softmax:0 : (50, 4022)\n",
      "topic/dec/Log:0 : (32, 4022)\n"
     ]
    }
   ],
   "source": [
    "debug_shape([bow, hidden_bow, latents_bow, prob_topic, bow_embeddings, topic_embeddings, topic_bow, prob_bow])"
   ]
  },
  {
   "cell_type": "code",
   "execution_count": 27,
   "metadata": {},
   "outputs": [
    {
     "name": "stdout",
     "output_type": "stream",
     "text": [
      "Sum:0 : (32,)\n",
      "Neg:0 : ()\n",
      "Sum_2:0 : (32,)\n",
      "Neg_1:0 : (32,)\n",
      "truediv_1:0 : (50, 256)\n",
      "ExpandDims_1:0 : (1,)\n",
      "Mean_3:0 : ()\n"
     ]
    }
   ],
   "source": [
    "debug_shape([topic_losses_recon, topic_loss_recon, n_bow, ppls, topic_embeddings_norm, tf.expand_dims(topic_angles_mean, -1), topic_angles_vars])"
   ]
  },
  {
   "cell_type": "code",
   "execution_count": 14,
   "metadata": {},
   "outputs": [
    {
     "data": {
      "text/plain": [
       "array([1.        , 0.99999994, 0.9999999 , 1.        , 1.        ,\n",
       "       1.0000001 , 0.9999999 , 1.0000001 , 1.0000001 , 1.        ,\n",
       "       1.        , 1.        , 1.        , 1.        , 1.        ,\n",
       "       1.        , 0.9999999 , 0.9999999 , 0.99999994, 1.        ,\n",
       "       1.        , 0.9999999 , 1.0000001 , 1.        , 1.        ,\n",
       "       1.        , 0.99999994, 1.        , 0.99999994, 0.99999994,\n",
       "       1.0000001 , 0.9999999 , 1.        , 1.        , 1.        ,\n",
       "       1.        , 1.        , 1.        , 0.9999999 , 1.        ,\n",
       "       0.9999999 , 1.        , 1.        , 1.        , 0.99999994,\n",
       "       1.0000001 , 1.        , 1.        , 0.99999994, 1.        ],\n",
       "      dtype=float32)"
      ]
     },
     "execution_count": 14,
     "metadata": {},
     "output_type": "execute_result"
    }
   ],
   "source": [
    "debug_value([tf.reduce_sum(tf.square(topic_embeddings_norm), 1)], return_value=True)[0]"
   ]
  },
  {
   "cell_type": "code",
   "execution_count": 15,
   "metadata": {},
   "outputs": [
    {
     "name": "stdout",
     "output_type": "stream",
     "text": [
      "Sum_4:0 : [1.0000001  1.         1.0000001  0.99999994 1.         1.\n",
      " 1.         0.99999994 0.99999994 1.         1.         1.\n",
      " 0.99999994 1.         1.         1.         1.         1.\n",
      " 1.         1.         1.         1.         1.         0.9999999\n",
      " 1.         0.99999994 1.         1.0000001  0.99999994 1.\n",
      " 1.         1.        ]\n",
      "Sum_5:0 : [1.         0.99999994 1.         0.99999994 0.99999994 1.\n",
      " 1.         0.9999998  1.         1.         1.         1.\n",
      " 1.         1.         1.         1.0000001  0.99999994 1.\n",
      " 1.         0.99999994 0.9999999  0.99999994 1.0000001  1.\n",
      " 1.         1.         1.         0.99999994 0.9999999  1.\n",
      " 1.         1.         0.99999994 1.         0.99999994 1.\n",
      " 1.         0.9999999  1.         1.         1.         1.\n",
      " 0.99999994 1.         0.99999994 0.99999994 0.99999994 0.99999994\n",
      " 1.         1.        ]\n",
      "Sum_6:0 : [1.         1.         1.0000001  0.99999994 1.         1.\n",
      " 0.9999999  0.99999994 0.9999999  1.         1.0000001  1.\n",
      " 0.9999999  1.         1.         0.99999994 1.         0.9999999\n",
      " 0.9999999  0.9999999  1.0000001  1.         0.9999999  0.9999998\n",
      " 1.         0.99999994 0.99999994 0.9999999  0.99999994 0.9999999\n",
      " 1.         1.        ]\n"
     ]
    }
   ],
   "source": [
    "debug_value([tf.reduce_sum(prob_topic, -1), tf.reduce_sum(topic_bow, -1), tf.reduce_sum(tf.exp(prob_bow), 1)])"
   ]
  },
  {
   "cell_type": "code",
   "execution_count": 16,
   "metadata": {},
   "outputs": [],
   "source": [
    "sigma_bow = tf.exp(0.5 * logvars_bow)\n",
    "dist_bow = tfd.Normal(means_bow, sigma_bow)\n",
    "dist_std = tfd.Normal(0., 1.)\n",
    "topic_loss_kl_tmp = tf.reduce_mean(tf.reduce_sum(tfd.kl_divergence(dist_bow, dist_std), 1))"
   ]
  },
  {
   "cell_type": "code",
   "execution_count": 17,
   "metadata": {},
   "outputs": [
    {
     "name": "stdout",
     "output_type": "stream",
     "text": [
      "Neg:0 : 405.38312\n",
      "Mean_1:0 : 0.32056683\n",
      "Mean_4:0 : 0.32056683\n"
     ]
    }
   ],
   "source": [
    "debug_value([topic_loss_recon, topic_loss_kl, topic_loss_kl_tmp])"
   ]
  },
  {
   "cell_type": "code",
   "execution_count": 110,
   "metadata": {},
   "outputs": [],
   "source": [
    "_logvars, _means, _kl_losses, _latents, _output_logits = sess.run([logvars, means, kl_losses, latents, output_logits], feed_dict=feed_dict)\n"
   ]
  },
  {
   "cell_type": "code",
   "execution_count": 111,
   "metadata": {},
   "outputs": [
    {
     "data": {
      "text/plain": [
       "((32, 32), (32, 32), (32,), (32, 32))"
      ]
     },
     "execution_count": 111,
     "metadata": {},
     "output_type": "execute_result"
    }
   ],
   "source": [
    "_logvars.shape, _means.shape, _kl_losses.shape, _latents.shape"
   ]
  },
  {
   "cell_type": "code",
   "execution_count": 112,
   "metadata": {},
   "outputs": [
    {
     "data": {
      "text/plain": [
       "array([[[nan, nan, nan, ..., nan, nan, nan],\n",
       "        [nan, nan, nan, ..., nan, nan, nan],\n",
       "        [nan, nan, nan, ..., nan, nan, nan]],\n",
       "\n",
       "       [[nan, nan, nan, ..., nan, nan, nan],\n",
       "        [nan, nan, nan, ..., nan, nan, nan],\n",
       "        [nan, nan, nan, ..., nan, nan, nan]],\n",
       "\n",
       "       [[nan, nan, nan, ..., nan, nan, nan],\n",
       "        [nan, nan, nan, ..., nan, nan, nan],\n",
       "        [nan, nan, nan, ..., nan, nan, nan]],\n",
       "\n",
       "       ...,\n",
       "\n",
       "       [[nan, nan, nan, ..., nan, nan, nan],\n",
       "        [nan, nan, nan, ..., nan, nan, nan],\n",
       "        [nan, nan, nan, ..., nan, nan, nan]],\n",
       "\n",
       "       [[nan, nan, nan, ..., nan, nan, nan],\n",
       "        [nan, nan, nan, ..., nan, nan, nan],\n",
       "        [nan, nan, nan, ..., nan, nan, nan]],\n",
       "\n",
       "       [[nan, nan, nan, ..., nan, nan, nan],\n",
       "        [nan, nan, nan, ..., nan, nan, nan],\n",
       "        [nan, nan, nan, ..., nan, nan, nan]]], dtype=float32)"
      ]
     },
     "execution_count": 112,
     "metadata": {},
     "output_type": "execute_result"
    }
   ],
   "source": [
    "_output_logits"
   ]
  },
  {
   "cell_type": "code",
   "execution_count": 109,
   "metadata": {},
   "outputs": [
    {
     "ename": "NameError",
     "evalue": "name 'dec_target_idxs_do' is not defined",
     "output_type": "error",
     "traceback": [
      "\u001b[0;31m---------------------------------------------------------------------------\u001b[0m",
      "\u001b[0;31mNameError\u001b[0m                                 Traceback (most recent call last)",
      "\u001b[0;32m<ipython-input-109-7de59bc2cc54>\u001b[0m in \u001b[0;36m<module>\u001b[0;34m\u001b[0m\n\u001b[0;32m----> 1\u001b[0;31m \u001b[0m_output_logits\u001b[0m\u001b[0;34m,\u001b[0m \u001b[0m_dec_target_idxs_do\u001b[0m\u001b[0;34m,\u001b[0m \u001b[0m_dec_mask_tokens_do\u001b[0m\u001b[0;34m,\u001b[0m \u001b[0m_recon_loss\u001b[0m\u001b[0;34m,\u001b[0m \u001b[0m_kl_losses\u001b[0m\u001b[0;34m,\u001b[0m \u001b[0m_\u001b[0m \u001b[0;34m=\u001b[0m \u001b[0msess\u001b[0m\u001b[0;34m.\u001b[0m\u001b[0mrun\u001b[0m\u001b[0;34m(\u001b[0m\u001b[0;34m[\u001b[0m\u001b[0moutput_logits\u001b[0m\u001b[0;34m,\u001b[0m \u001b[0mdec_target_idxs_do\u001b[0m\u001b[0;34m,\u001b[0m \u001b[0mdec_mask_tokens_do\u001b[0m\u001b[0;34m,\u001b[0m \u001b[0mrecon_loss\u001b[0m\u001b[0;34m,\u001b[0m \u001b[0mkl_losses\u001b[0m\u001b[0;34m,\u001b[0m \u001b[0mopt\u001b[0m\u001b[0;34m]\u001b[0m\u001b[0;34m,\u001b[0m \u001b[0mfeed_dict\u001b[0m\u001b[0;34m=\u001b[0m\u001b[0mfeed_dict\u001b[0m\u001b[0;34m)\u001b[0m\u001b[0;34m\u001b[0m\u001b[0;34m\u001b[0m\u001b[0m\n\u001b[0m",
      "\u001b[0;31mNameError\u001b[0m: name 'dec_target_idxs_do' is not defined"
     ]
    }
   ],
   "source": [
    "_output_logits, _dec_target_idxs_do, _dec_mask_tokens_do, _recon_loss, _kl_losses, _ = sess.run([output_logits, dec_target_idxs_do, dec_mask_tokens_do, recon_loss, kl_losses, opt], feed_dict=feed_dict)\n"
   ]
  },
  {
   "cell_type": "code",
   "execution_count": 44,
   "metadata": {},
   "outputs": [
    {
     "data": {
      "text/plain": [
       "(120, 46)"
      ]
     },
     "execution_count": 44,
     "metadata": {},
     "output_type": "execute_result"
    }
   ],
   "source": [
    "tf.reduce_max(output_logits, 2).eval(session=sess, feed_dict=feed_dict).shape"
   ]
  },
  {
   "cell_type": "code",
   "execution_count": 31,
   "metadata": {},
   "outputs": [
    {
     "data": {
      "text/plain": [
       "((120, 46, 20000), (120, 46), (120, 46))"
      ]
     },
     "execution_count": 31,
     "metadata": {},
     "output_type": "execute_result"
    }
   ],
   "source": [
    "_output_logits.shape, _dec_target_idxs_do.shape, _dec_mask_tokens_do.shape"
   ]
  },
  {
   "cell_type": "code",
   "execution_count": 32,
   "metadata": {},
   "outputs": [],
   "source": [
    "_logits = np.exp(_output_logits) / np.sum(np.exp(_output_logits), 2)[:, :, None]"
   ]
  },
  {
   "cell_type": "code",
   "execution_count": 33,
   "metadata": {},
   "outputs": [],
   "source": [
    "_idxs = _dec_target_idxs_do"
   ]
  },
  {
   "cell_type": "code",
   "execution_count": 35,
   "metadata": {},
   "outputs": [],
   "source": [
    "_losses = np.array([[-np.log(_logits[i, j, _idxs[i, j]]) for j in range(_idxs.shape[1])] for i in range(_idxs.shape[0])]) * _dec_mask_tokens_do"
   ]
  },
  {
   "cell_type": "code",
   "execution_count": 36,
   "metadata": {},
   "outputs": [
    {
     "data": {
      "text/plain": [
       "9.903732"
      ]
     },
     "execution_count": 36,
     "metadata": {},
     "output_type": "execute_result"
    }
   ],
   "source": [
    "np.sum(_losses)/np.sum(_dec_mask_tokens_do)"
   ]
  },
  {
   "cell_type": "code",
   "execution_count": 37,
   "metadata": {},
   "outputs": [
    {
     "data": {
      "text/plain": [
       "9.903732"
      ]
     },
     "execution_count": 37,
     "metadata": {},
     "output_type": "execute_result"
    }
   ],
   "source": [
    "_recon_loss"
   ]
  },
  {
   "cell_type": "code",
   "execution_count": 38,
   "metadata": {},
   "outputs": [
    {
     "data": {
      "text/plain": [
       "(120,)"
      ]
     },
     "execution_count": 38,
     "metadata": {},
     "output_type": "execute_result"
    }
   ],
   "source": [
    "_kl_losses.shape"
   ]
  },
  {
   "cell_type": "code",
   "execution_count": null,
   "metadata": {},
   "outputs": [],
   "source": []
  }
 ],
 "metadata": {
  "kernelspec": {
   "display_name": "py36",
   "language": "python",
   "name": "py36"
  },
  "language_info": {
   "codemirror_mode": {
    "name": "ipython",
    "version": 3
   },
   "file_extension": ".py",
   "mimetype": "text/x-python",
   "name": "python",
   "nbconvert_exporter": "python",
   "pygments_lexer": "ipython3",
   "version": "3.6.9"
  },
  "toc": {
   "base_numbering": 1,
   "nav_menu": {},
   "number_sections": true,
   "sideBar": true,
   "skip_h1_title": false,
   "title_cell": "Table of Contents",
   "title_sidebar": "Contents",
   "toc_cell": false,
   "toc_position": {},
   "toc_section_display": true,
   "toc_window_display": false
  }
 },
 "nbformat": 4,
 "nbformat_minor": 2
}
