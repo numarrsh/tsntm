{
 "cells": [
  {
   "cell_type": "code",
   "execution_count": 1,
   "metadata": {},
   "outputs": [],
   "source": [
    "import os\n",
    "import re\n",
    "import _pickle as cPickle\n",
    "from collections import OrderedDict, defaultdict, Counter\n",
    "\n",
    "import matplotlib\n",
    "%matplotlib inline\n",
    "import matplotlib.pyplot as plt\n",
    "\n",
    "import numpy as np\n",
    "import pandas as pd\n",
    "import tensorflow as tf\n",
    "from sklearn.feature_extraction.text import TfidfVectorizer\n",
    "from nltk import word_tokenize\n",
    "\n",
    "from data_structure import Instance"
   ]
  },
  {
   "cell_type": "markdown",
   "metadata": {},
   "source": [
    "# configure"
   ]
  },
  {
   "cell_type": "code",
   "execution_count": 2,
   "metadata": {},
   "outputs": [],
   "source": [
    "def del_all_flags(FLAGS):\n",
    "    flags_dict = FLAGS._flags()    \n",
    "    keys_list = [keys for keys in flags_dict]    \n",
    "    for keys in keys_list:\n",
    "        FLAGS.__delattr__(keys)\n",
    "\n",
    "del_all_flags(tf.flags.FLAGS)\n",
    "\n",
    "flags = tf.app.flags\n",
    "\n",
    "flags.DEFINE_string('output_path', 'data/synthetic/instances.pkl', 'path of output data')\n",
    "\n",
    "flags.DEFINE_integer('n_vocab', 900, 'size of vocab')\n",
    "flags.DEFINE_integer('n_doc', 11000, 'num of doc')\n",
    "flags.DEFINE_integer('doc_l', 100, 'size of vocab')\n",
    "\n",
    "flags.DEFINE_string('f', '', 'kernel')\n",
    "\n",
    "config = flags.FLAGS"
   ]
  },
  {
   "cell_type": "markdown",
   "metadata": {},
   "source": [
    "# sample docs"
   ]
  },
  {
   "cell_type": "code",
   "execution_count": 3,
   "metadata": {},
   "outputs": [],
   "source": [
    "def hierarchical_sbp(tree_sticks_topic, tree_sticks_branch):\n",
    "    tree_prob_topic = {}\n",
    "    rest_topics = {}\n",
    "\n",
    "    # calculate topic probability and save\n",
    "    stick_topic = tree_sticks_topic[0]\n",
    "    tree_prob_topic[0] = stick_topic\n",
    "    rest_topics[0] = 1.-stick_topic\n",
    "    for parent_idx, child_idxs in tree_idxs.items():\n",
    "        rest_topic = rest_topics[parent_idx]\n",
    "        rest_branch = 1.\n",
    "        for child_idx in child_idxs:\n",
    "            # calculate topic probability\n",
    "            if child_idx == child_idxs[-1]: # last child\n",
    "                prob_branch = rest_branch # phi\n",
    "            else:\n",
    "                stick_branch = tree_sticks_branch[child_idx] # psi\n",
    "                prob_branch = stick_branch * rest_branch # phi\n",
    "\n",
    "            if not child_idx in tree_idxs: # leaf childs\n",
    "                prob_topic = prob_branch * rest_topic # pi\n",
    "            else:\n",
    "                stick_topic = tree_sticks_topic[child_idx] # upsilon\n",
    "                prob_topic = stick_topic * prob_branch * rest_topic # pi\n",
    "\n",
    "            # save topic probability and update rest stick length\n",
    "            tree_prob_topic[child_idx] = prob_topic\n",
    "            rest_branch = (1.- stick_branch) * rest_branch\n",
    "            rest_topics[child_idx] = (1.-stick_topic)*prob_branch * rest_topic\n",
    "            \n",
    "    return tree_prob_topic"
   ]
  },
  {
   "cell_type": "code",
   "execution_count": 4,
   "metadata": {},
   "outputs": [],
   "source": [
    "def get_depth(parent_idx=0, tree_depth = None, depth=1):\n",
    "        if tree_depth is None: tree_depth={0: depth}\n",
    "\n",
    "        child_idxs = tree_idxs[parent_idx]\n",
    "        depth +=1\n",
    "        for child_idx in child_idxs:\n",
    "            tree_depth[child_idx] = depth\n",
    "            if child_idx in tree_idxs: get_depth(child_idx, tree_depth, depth)\n",
    "        return tree_depth"
   ]
  },
  {
   "cell_type": "code",
   "execution_count": 1,
   "metadata": {},
   "outputs": [
    {
     "ename": "NameError",
     "evalue": "name 'np' is not defined",
     "output_type": "error",
     "traceback": [
      "\u001b[0;31m---------------------------------------------------------------------------\u001b[0m",
      "\u001b[0;31mNameError\u001b[0m                                 Traceback (most recent call last)",
      "\u001b[0;32m<ipython-input-1-250f5d2ef687>\u001b[0m in \u001b[0;36m<module>\u001b[0;34m\u001b[0m\n\u001b[1;32m      4\u001b[0m \u001b[0mtopic_idxs\u001b[0m \u001b[0;34m=\u001b[0m \u001b[0;34m[\u001b[0m\u001b[0;36m0\u001b[0m\u001b[0;34m]\u001b[0m \u001b[0;34m+\u001b[0m \u001b[0;34m[\u001b[0m\u001b[0midx\u001b[0m \u001b[0;32mfor\u001b[0m \u001b[0mchild_idxs\u001b[0m \u001b[0;32min\u001b[0m \u001b[0mtree_idxs\u001b[0m\u001b[0;34m.\u001b[0m\u001b[0mvalues\u001b[0m\u001b[0;34m(\u001b[0m\u001b[0;34m)\u001b[0m \u001b[0;32mfor\u001b[0m \u001b[0midx\u001b[0m \u001b[0;32min\u001b[0m \u001b[0mchild_idxs\u001b[0m\u001b[0;34m]\u001b[0m\u001b[0;34m\u001b[0m\u001b[0;34m\u001b[0m\u001b[0m\n\u001b[1;32m      5\u001b[0m \u001b[0;34m\u001b[0m\u001b[0m\n\u001b[0;32m----> 6\u001b[0;31m \u001b[0mbow_idxs\u001b[0m \u001b[0;34m=\u001b[0m \u001b[0mnp\u001b[0m\u001b[0;34m.\u001b[0m\u001b[0marange\u001b[0m\u001b[0;34m(\u001b[0m\u001b[0mconfig\u001b[0m\u001b[0;34m.\u001b[0m\u001b[0mn_vocab\u001b[0m\u001b[0;34m)\u001b[0m\u001b[0;34m\u001b[0m\u001b[0;34m\u001b[0m\u001b[0m\n\u001b[0m\u001b[1;32m      7\u001b[0m \u001b[0mchild_to_parent_idxs\u001b[0m \u001b[0;34m=\u001b[0m \u001b[0;34m{\u001b[0m\u001b[0mchild_idx\u001b[0m\u001b[0;34m:\u001b[0m \u001b[0mparent_idx\u001b[0m \u001b[0;32mfor\u001b[0m \u001b[0mparent_idx\u001b[0m\u001b[0;34m,\u001b[0m \u001b[0mchild_idxs\u001b[0m \u001b[0;32min\u001b[0m \u001b[0mtree_idxs\u001b[0m\u001b[0;34m.\u001b[0m\u001b[0mitems\u001b[0m\u001b[0;34m(\u001b[0m\u001b[0;34m)\u001b[0m \u001b[0;32mfor\u001b[0m \u001b[0mchild_idx\u001b[0m \u001b[0;32min\u001b[0m \u001b[0mchild_idxs\u001b[0m\u001b[0;34m}\u001b[0m\u001b[0;34m\u001b[0m\u001b[0;34m\u001b[0m\u001b[0m\n",
      "\u001b[0;31mNameError\u001b[0m: name 'np' is not defined"
     ]
    }
   ],
   "source": [
    "tree_idxs = {0:[1, 2, 3], \n",
    "                      1:[10, 11, 12], 2:[20, 21, 22], 3:[30, 31, 32]}\n",
    "\n",
    "topic_idxs = [0] + [idx for child_idxs in tree_idxs.values() for idx in child_idxs]\n",
    "\n",
    "bow_idxs = np.arange(config.n_vocab)"
   ]
  },
  {
   "cell_type": "code",
   "execution_count": 6,
   "metadata": {},
   "outputs": [],
   "source": [
    "ones = np.ones(config.n_vocab//3)\n",
    "zeros = np.zeros(config.n_vocab//3)\n",
    "leaf_1 = np.concatenate([np.ones([config.n_vocab//90, config.n_vocab//90]), np.zeros([config.n_vocab//90, config.n_vocab//90]), np.zeros([config.n_vocab//90, config.n_vocab//90])], 1).flatten()\n",
    "leaf_2 = np.concatenate([np.zeros([config.n_vocab//90, config.n_vocab//90]), np.ones([config.n_vocab//90, config.n_vocab//90]), np.zeros([config.n_vocab//90, config.n_vocab//90])], 1).flatten()\n",
    "leaf_3 = np.concatenate([np.zeros([config.n_vocab//90, config.n_vocab//90]), np.zeros([config.n_vocab//90, config.n_vocab//90]), np.ones([config.n_vocab//90, config.n_vocab//90])], 1).flatten()\n",
    "# leaf_1 = np.concatenate([np.ones(config.n_vocab//9), np.zeros(config.n_vocab//9), np.zeros(config.n_vocab//9)])\n",
    "# leaf_2 = np.concatenate([np.zeros(config.n_vocab//9), np.ones(config.n_vocab//9), np.zeros(config.n_vocab//9)])\n",
    "# leaf_3 = np.concatenate([np.zeros(config.n_vocab//9), np.zeros(config.n_vocab//9), np.ones(config.n_vocab//9)])"
   ]
  },
  {
   "cell_type": "code",
   "execution_count": 7,
   "metadata": {},
   "outputs": [],
   "source": [
    "tree_topic_bow_raw = {\n",
    "                0: np.ones(config.n_vocab, dtype=np.float32),\n",
    "                1: np.concatenate([ones, zeros, zeros]).astype(np.float32),\n",
    "                2: np.concatenate([zeros, ones, zeros]).astype(np.float32),\n",
    "                3: np.concatenate([zeros, zeros, ones]).astype(np.float32),\n",
    "                10: np.concatenate([leaf_1, zeros, zeros]).astype(np.float32),\n",
    "                11: np.concatenate([leaf_2, zeros, zeros]).astype(np.float32),\n",
    "                12: np.concatenate([leaf_3, zeros, zeros]).astype(np.float32),\n",
    "                20: np.concatenate([zeros, leaf_1, zeros]).astype(np.float32),\n",
    "                21: np.concatenate([zeros, leaf_2, zeros]).astype(np.float32),\n",
    "                22: np.concatenate([zeros, leaf_3, zeros]).astype(np.float32),\n",
    "                30: np.concatenate([zeros, zeros, leaf_1]).astype(np.float32),\n",
    "                31: np.concatenate([zeros, zeros, leaf_2]).astype(np.float32),\n",
    "                32: np.concatenate([zeros, zeros, leaf_3]).astype(np.float32),\n",
    "}\n",
    "\n",
    "tree_topic_bow = {topic_idx: topic_bow_raw/np.sum(topic_bow_raw) for topic_idx, topic_bow_raw in tree_topic_bow_raw.items()}\n",
    "topic_bow = np.concatenate([tree_topic_bow[topic_idx][None, :] for topic_idx in topic_idxs], 0)"
   ]
  },
  {
   "cell_type": "code",
   "execution_count": 24,
   "metadata": {},
   "outputs": [
    {
     "data": {
      "image/png": "[encoded data removed]",
      "text/plain": [
       "<Figure size 216x288 with 13 Axes>"
      ]
     },
     "metadata": {
      "needs_background": "light"
     },
     "output_type": "display_data"
    }
   ],
   "source": [
    "from matplotlib.colors import Normalize # Normalizeをimport\n",
    "\n",
    "plt.figure(figsize=(3, 4))\n",
    "plt.subplot(5,3,2)\n",
    "plt.axis('off')\n",
    "plt.imshow(topic_bow[0].reshape(30,30), cmap='Wistia', norm=Normalize(vmin=0., vmax=np.max(topic_bow)))\n",
    "\n",
    "for i in range(1, len(topic_idxs)):\n",
    "    plt.subplot(5,3,i+3)\n",
    "    plt.axis('off')\n",
    "    plt.imshow(topic_bow[i].reshape(30,30), cmap='Wistia', norm=Normalize(vmin=0., vmax=np.max(topic_bow)))"
   ]
  },
  {
   "cell_type": "code",
   "execution_count": 9,
   "metadata": {},
   "outputs": [],
   "source": [
    "def hierarchical_sbp(tree_sticks_topic, tree_sticks_branch):\n",
    "    tree_prob_topic = {}\n",
    "    rest_topics = {}\n",
    "\n",
    "    # calculate topic probability and save\n",
    "    stick_topic = tree_sticks_topic[0]\n",
    "    tree_prob_topic[0] = stick_topic\n",
    "    rest_topics[0] = 1.-stick_topic\n",
    "    for parent_idx, child_idxs in tree_idxs.items():\n",
    "        rest_topic = rest_topics[parent_idx]\n",
    "        rest_branch = 1.\n",
    "        for child_idx in child_idxs:\n",
    "            # calculate topic probability\n",
    "            if child_idx == child_idxs[-1]: # last child\n",
    "                prob_branch = rest_branch # phi\n",
    "            else:\n",
    "                stick_branch = tree_sticks_branch[child_idx] # psi\n",
    "                prob_branch = stick_branch * rest_branch # phi\n",
    "\n",
    "            if not child_idx in tree_idxs: # leaf childs\n",
    "                prob_topic = prob_branch * rest_topic # pi\n",
    "            else:\n",
    "                stick_topic = tree_sticks_topic[child_idx] # upsilon\n",
    "                prob_topic = stick_topic * prob_branch * rest_topic # pi\n",
    "\n",
    "            # save topic probability and update rest stick length\n",
    "            tree_prob_topic[child_idx] = prob_topic\n",
    "            rest_branch = (1.- stick_branch) * rest_branch\n",
    "            rest_topics[child_idx] = (1.-stick_topic)*prob_branch * rest_topic\n",
    "            \n",
    "    return tree_prob_topic"
   ]
  },
  {
   "cell_type": "code",
   "execution_count": 10,
   "metadata": {},
   "outputs": [],
   "source": [
    "def get_depth(parent_idx=0, tree_depth = None, depth=1):\n",
    "        if tree_depth is None: tree_depth={0: depth}\n",
    "\n",
    "        child_idxs = tree_idxs[parent_idx]\n",
    "        depth +=1\n",
    "        for child_idx in child_idxs:\n",
    "            tree_depth[child_idx] = depth\n",
    "            if child_idx in tree_idxs: get_depth(child_idx, tree_depth, depth)\n",
    "        return tree_depth"
   ]
  },
  {
   "cell_type": "code",
   "execution_count": 56,
   "metadata": {},
   "outputs": [],
   "source": [
    "alp = 2.\n",
    "lam = 1.\n",
    "gam = 2."
   ]
  },
  {
   "cell_type": "code",
   "execution_count": 58,
   "metadata": {},
   "outputs": [
    {
     "name": "stdout",
     "output_type": "stream",
     "text": [
      "0\n",
      "1000\n",
      "2000\n",
      "3000\n",
      "4000\n",
      "5000\n",
      "6000\n",
      "7000\n",
      "8000\n",
      "9000\n",
      "10000\n"
     ]
    }
   ],
   "source": [
    "instances = []\n",
    "\n",
    "tree_depth = get_depth()\n",
    "\n",
    "for idx_doc in range(config.n_doc):\n",
    "    if idx_doc%1000 == 0: print(idx_doc)\n",
    "    instance = Instance()\n",
    "    instance.idx = idx_doc\n",
    "    \n",
    "    tree_sticks_topic = {}\n",
    "    tree_sticks_branch = {}\n",
    "\n",
    "    for topic_idx in topic_idxs:\n",
    "        depth = tree_depth[topic_idx]\n",
    "        tree_sticks_topic[topic_idx] = np.random.beta(1, alp*(lam**depth), 1)\n",
    "        tree_sticks_branch[topic_idx] = np.random.beta(1, gam, 1)\n",
    "        \n",
    "    tree_prob_topic = hierarchical_sbp(tree_sticks_topic, tree_sticks_branch)\n",
    "    prob_topic = np.concatenate([tree_prob_topic[topic_idx] for topic_idx in topic_idxs])\n",
    "    prob_bow = prob_topic.dot(topic_bow)\n",
    "    prob_bow /= np.sum(prob_bow)\n",
    "    \n",
    "    token_idxs = np.random.choice(config.n_vocab, config.doc_l, p=prob_bow)\n",
    "    bow = np.array([Counter(token_idxs)[bow_idx] for bow_idx in bow_idxs])\n",
    "    assert len(bow) == config.n_vocab\n",
    "    instance.bow = bow\n",
    "    \n",
    "    instances.append(instance)"
   ]
  },
  {
   "cell_type": "code",
   "execution_count": 59,
   "metadata": {},
   "outputs": [
    {
     "data": {
      "text/plain": [
       "array([0.33149312, 0.07569248, 0.04940412, 0.09971497, 0.04938929,\n",
       "       0.03254796, 0.06500881, 0.03231844, 0.02198462, 0.04401836,\n",
       "       0.06573896, 0.04446812, 0.08822075])"
      ]
     },
     "execution_count": 59,
     "metadata": {},
     "output_type": "execute_result"
    }
   ],
   "source": [
    "prob_topics = []\n",
    "for idx_doc in range(config.n_doc):\n",
    "    tree_sticks_topic = {}\n",
    "    tree_sticks_branch = {}\n",
    "\n",
    "    for topic_idx in topic_idxs:\n",
    "        depth = tree_depth[topic_idx]\n",
    "        tree_sticks_topic[topic_idx] = np.random.beta(1, alp*(lam**depth), 1)\n",
    "        tree_sticks_branch[topic_idx] = np.random.beta(1, gam, 1)\n",
    "        \n",
    "    tree_prob_topic = hierarchical_sbp(tree_sticks_topic, tree_sticks_branch)\n",
    "    prob_topic = np.concatenate([tree_prob_topic[topic_idx] for topic_idx in topic_idxs])\n",
    "    \n",
    "    prob_topics.append(prob_topic)\n",
    "    \n",
    "np.mean(prob_topics, 0)"
   ]
  },
  {
   "cell_type": "code",
   "execution_count": 60,
   "metadata": {},
   "outputs": [
    {
     "data": {
      "image/png": "[encoded data removed]",
      "text/plain": [
       "<Figure size 1080x720 with 50 Axes>"
      ]
     },
     "metadata": {
      "needs_background": "light"
     },
     "output_type": "display_data"
    }
   ],
   "source": [
    "plt.figure(figsize=(15, 10))\n",
    "for i, instance in enumerate(instances[:50]):\n",
    "    plt.subplot(5,10,i+1)\n",
    "    plt.axis('off')\n",
    "    plt.imshow(instance.bow.reshape(int(config.n_vocab**(1/2)),int(config.n_vocab**(1/2))), cmap='gray_r')"
   ]
  },
  {
   "cell_type": "markdown",
   "metadata": {},
   "source": [
    "# write out"
   ]
  },
  {
   "cell_type": "code",
   "execution_count": 61,
   "metadata": {},
   "outputs": [],
   "source": [
    "instances_train = instances[:10000]\n",
    "instances_valid = instances[10000:]\n",
    "instances_test = instances_valid"
   ]
  },
  {
   "cell_type": "code",
   "execution_count": 62,
   "metadata": {},
   "outputs": [],
   "source": [
    "idx_to_word = {bow_idx: str(10*(bow_idx//3+1) + bow_idx%3) for bow_idx in bow_idxs}\n",
    "word_to_idx = {word: idx for idx, word in idx_to_word.items()}"
   ]
  },
  {
   "cell_type": "code",
   "execution_count": 63,
   "metadata": {},
   "outputs": [
    {
     "name": "stdout",
     "output_type": "stream",
     "text": [
      "saving preprocessed instances...\n"
     ]
    }
   ],
   "source": [
    "print('saving preprocessed instances...')\n",
    "cPickle.dump((instances_train, instances_valid, instances_test, word_to_idx, idx_to_word, bow_idxs),open(config.output_path,'wb'))"
   ]
  },
  {
   "cell_type": "code",
   "execution_count": null,
   "metadata": {},
   "outputs": [],
   "source": []
  }
 ],
 "metadata": {
  "kernelspec": {
   "display_name": "py36",
   "language": "python",
   "name": "py36"
  },
  "language_info": {
   "codemirror_mode": {
    "name": "ipython",
    "version": 3
   },
   "file_extension": ".py",
   "mimetype": "text/x-python",
   "name": "python",
   "nbconvert_exporter": "python",
   "pygments_lexer": "ipython3",
   "version": "3.6.9"
  },
  "toc": {
   "base_numbering": 1,
   "nav_menu": {},
   "number_sections": true,
   "sideBar": true,
   "skip_h1_title": false,
   "title_cell": "Table of Contents",
   "title_sidebar": "Contents",
   "toc_cell": false,
   "toc_position": {},
   "toc_section_display": true,
   "toc_window_display": false
  }
 },
 "nbformat": 4,
 "nbformat_minor": 2
}
