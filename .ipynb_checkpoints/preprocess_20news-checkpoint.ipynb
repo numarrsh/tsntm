{
 "cells": [
  {
   "cell_type": "code",
   "execution_count": 1,
   "metadata": {},
   "outputs": [],
   "source": [
    "import os\n",
    "import re\n",
    "import _pickle as cPickle\n",
    "from collections import OrderedDict, defaultdict, Counter\n",
    "\n",
    "import matplotlib\n",
    "%matplotlib inline\n",
    "import matplotlib.pyplot as plt\n",
    "\n",
    "import numpy as np\n",
    "import pandas as pd\n",
    "import tensorflow as tf\n",
    "from sklearn.model_selection import train_test_split\n",
    "from nltk import word_tokenize\n",
    "\n",
    "from data_structure import Instance\n",
    "\n",
    "from sklearn.datasets import fetch_20newsgroups"
   ]
  },
  {
   "cell_type": "markdown",
   "metadata": {},
   "source": [
    "# configure"
   ]
  },
  {
   "cell_type": "code",
   "execution_count": 2,
   "metadata": {},
   "outputs": [],
   "source": [
    "def del_all_flags(FLAGS):\n",
    "    flags_dict = FLAGS._flags()    \n",
    "    keys_list = [keys for keys in flags_dict]    \n",
    "    for keys in keys_list:\n",
    "        FLAGS.__delattr__(keys)\n",
    "\n",
    "del_all_flags(tf.flags.FLAGS)\n",
    "\n",
    "flags = tf.app.flags\n",
    "\n",
    "flags.DEFINE_string('train_path', 'data/20news/train.', 'path of train data')\n",
    "flags.DEFINE_string('test_path', 'data/20news/test.', 'path of test data')\n",
    "flags.DEFINE_string('vocab_path', 'data/20news/vocabulary.txt', 'path of vocab data')\n",
    "flags.DEFINE_string('bow_path', 'data/20news/bow.pkl', 'path of vocab data')\n",
    "flags.DEFINE_string('label_path', 'data/20news/train.map', 'path of vocab data')\n",
    "\n",
    "flags.DEFINE_string('output_path', 'data/20news/instances.pkl', 'path of output data')\n",
    "\n",
    "flags.DEFINE_integer('n_vocab', 50000, 'size of vocab')\n",
    "\n",
    "flags.DEFINE_string('f', '', 'kernel')\n",
    "\n",
    "config = flags.FLAGS"
   ]
  },
  {
   "cell_type": "markdown",
   "metadata": {},
   "source": [
    "# load source"
   ]
  },
  {
   "cell_type": "code",
   "execution_count": 3,
   "metadata": {},
   "outputs": [],
   "source": [
    "def get_docs(subset_path):\n",
    "    data_path = subset_path + 'data'\n",
    "    data = open(data_path, 'r').read().split('\\n')[:-1]\n",
    "\n",
    "    docs = defaultdict(dict)\n",
    "    word_cnts = defaultdict(int)\n",
    "    for row in data:\n",
    "        doc_idx, word_idx, word_cnt = row.split()\n",
    "        doc_idx = int(doc_idx) -1\n",
    "        word_idx = int(word_idx)-1\n",
    "        word_cnt = int(word_cnt)\n",
    "\n",
    "        docs[doc_idx][word_idx] = word_cnt\n",
    "        word_cnts[word_idx] += word_cnt\n",
    "    \n",
    "    docs = sorted(docs.items(), key=lambda x: x[0])\n",
    "    \n",
    "    label_path = subset_path + 'label'\n",
    "    label_idxs = [int(label_idx)-1 for label_idx in open(label_path, 'r').read().split('\\n')[:-1]]\n",
    "    \n",
    "    assert len(docs) == len(label_idxs)\n",
    "\n",
    "    return docs, label_idxs"
   ]
  },
  {
   "cell_type": "code",
   "execution_count": 4,
   "metadata": {},
   "outputs": [],
   "source": [
    "docs_train_valid, label_idxs_train_valid = get_docs(config.train_path)\n",
    "docs_test, label_idxs_test = get_docs(config.test_path)"
   ]
  },
  {
   "cell_type": "code",
   "execution_count": 5,
   "metadata": {},
   "outputs": [
    {
     "data": {
      "text/plain": [
       "(9015, 2254, 7505)"
      ]
     },
     "execution_count": 5,
     "metadata": {},
     "output_type": "execute_result"
    }
   ],
   "source": [
    "docs_train, docs_valid, label_idxs_train, label_idxs_valid = train_test_split(docs_train_valid, label_idxs_train_valid, test_size = 0.2)\n",
    "len(docs_train), len(docs_valid), len(docs_test)"
   ]
  },
  {
   "cell_type": "code",
   "execution_count": 6,
   "metadata": {},
   "outputs": [],
   "source": [
    "words = open(config.vocab_path, 'r').read().split('\\n')\n",
    "tmp_word_to_idx = {word:i for i, word in enumerate(words)}"
   ]
  },
  {
   "cell_type": "code",
   "execution_count": 7,
   "metadata": {},
   "outputs": [
    {
     "data": {
      "text/plain": [
       "(1995, 1991)"
      ]
     },
     "execution_count": 7,
     "metadata": {},
     "output_type": "execute_result"
    }
   ],
   "source": [
    "bow_words = list(cPickle.load(open(config.bow_path, 'rb')).keys())\n",
    "word_to_idx = {word: tmp_word_to_idx[word] for word in bow_words if word in tmp_word_to_idx}\n",
    "idx_to_word = {idx: word for word, idx in word_to_idx.items()}\n",
    "bow_idxs = np.array(list(idx_to_word.keys()))\n",
    "len(bow_words), len(bow_idxs)"
   ]
  },
  {
   "cell_type": "code",
   "execution_count": 8,
   "metadata": {},
   "outputs": [],
   "source": [
    "tmp_label_to_idxs = [label_idxs.split() for label_idxs in open(config.label_path, 'r').read().split('\\n')[:-1]]\n",
    "idx_to_label = {int(idx)-1: label for label, idx in tmp_label_to_idxs}"
   ]
  },
  {
   "cell_type": "markdown",
   "metadata": {},
   "source": [
    "# write out"
   ]
  },
  {
   "cell_type": "code",
   "execution_count": 9,
   "metadata": {},
   "outputs": [],
   "source": [
    "def prepare_instances(docs, label_idxs, bow_idxs, idx_to_label):\n",
    "    instances = []\n",
    "    assert len(docs) == len(label_idxs)\n",
    "    for doc, label_idx in zip(docs, label_idxs):\n",
    "        doc_idx = doc[0]\n",
    "        word_idx_cnts = doc[1]\n",
    "        bow = np.array([word_idx_cnts[bow_idx] if bow_idx in word_idx_cnts else 0 for bow_idx in bow_idxs])\n",
    "        doc_l = np.sum(bow)\n",
    "        if doc_l == 0: continue\n",
    "            \n",
    "        instance = Instance()\n",
    "        instance.idx = doc_idx\n",
    "        instance.bow = bow\n",
    "        instance.doc_l = doc_l\n",
    "        instance.label_idx = label_idx\n",
    "        instance.label = idx_to_label[label_idx]\n",
    "        instances.append(instance)\n",
    "    return instances"
   ]
  },
  {
   "cell_type": "code",
   "execution_count": 10,
   "metadata": {},
   "outputs": [
    {
     "data": {
      "text/plain": [
       "(9012, 2253, 7501)"
      ]
     },
     "execution_count": 10,
     "metadata": {},
     "output_type": "execute_result"
    }
   ],
   "source": [
    "instances_train = prepare_instances(docs_train, label_idxs_train, bow_idxs, idx_to_label)\n",
    "instances_valid = prepare_instances(docs_valid, label_idxs_valid, bow_idxs, idx_to_label)\n",
    "instances_test = prepare_instances(docs_test, label_idxs_test, bow_idxs, idx_to_label)\n",
    "len(instances_train), len(instances_valid), len(instances_test)"
   ]
  },
  {
   "cell_type": "code",
   "execution_count": 11,
   "metadata": {},
   "outputs": [
    {
     "name": "stdout",
     "output_type": "stream",
     "text": [
      "saving preprocessed instances...\n"
     ]
    }
   ],
   "source": [
    "print('saving preprocessed instances...')\n",
    "cPickle.dump((instances_train, instances_valid, instances_test, word_to_idx, idx_to_word, bow_idxs),open(config.output_path,'wb'))"
   ]
  }
 ],
 "metadata": {
  "kernelspec": {
   "display_name": "py36",
   "language": "python",
   "name": "py36"
  },
  "language_info": {
   "codemirror_mode": {
    "name": "ipython",
    "version": 3
   },
   "file_extension": ".py",
   "mimetype": "text/x-python",
   "name": "python",
   "nbconvert_exporter": "python",
   "pygments_lexer": "ipython3",
   "version": "3.6.9"
  },
  "toc": {
   "base_numbering": 1,
   "nav_menu": {},
   "number_sections": true,
   "sideBar": true,
   "skip_h1_title": false,
   "title_cell": "Table of Contents",
   "title_sidebar": "Contents",
   "toc_cell": false,
   "toc_position": {},
   "toc_section_display": true,
   "toc_window_display": false
  }
 },
 "nbformat": 4,
 "nbformat_minor": 2
}
