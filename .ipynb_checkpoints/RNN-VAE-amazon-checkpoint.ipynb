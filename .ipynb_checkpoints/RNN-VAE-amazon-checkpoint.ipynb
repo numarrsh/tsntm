{
 "cells": [
  {
   "cell_type": "code",
   "execution_count": 1,
   "metadata": {},
   "outputs": [],
   "source": [
    "%load_ext autoreload\n",
    "%autoreload\n",
    "from IPython.display import clear_output\n",
    "\n",
    "import os\n",
    "import pdb\n",
    "from six.moves import zip_longest\n",
    "\n",
    "import numpy as np\n",
    "import tensorflow as tf\n",
    "from tensorflow.python import debug as tf_debug\n",
    "import _pickle as cPickle\n",
    "import random\n",
    "\n",
    "from data_structure import load_data\n",
    "from components import dynamic_rnn, dynamic_bi_rnn, DiagonalGaussian"
   ]
  },
  {
   "cell_type": "code",
   "execution_count": 2,
   "metadata": {},
   "outputs": [],
   "source": [
    "PAD = '<pad>' # This has a vocab id, which is used to pad the encoder input, decoder input and target sequence\n",
    "UNK = '<unk>' # This has a vocab id, which is used to represent out-of-vocabulary words\n",
    "BOS = '<p>' # This has a vocab id, which is used at the beginning of every decoder input sequence\n",
    "EOS = '</p>' # This has a vocab id, which is used at the end of untruncated target sequences"
   ]
  },
  {
   "cell_type": "markdown",
   "metadata": {},
   "source": [
    "# load data & set config"
   ]
  },
  {
   "cell_type": "code",
   "execution_count": 23,
   "metadata": {
    "code_folding": [
     0
    ]
   },
   "outputs": [],
   "source": [
    "def del_all_flags(FLAGS):\n",
    "    flags_dict = FLAGS._flags()    \n",
    "    keys_list = [keys for keys in flags_dict]    \n",
    "    for keys in keys_list:\n",
    "        FLAGS.__delattr__(keys)\n",
    "\n",
    "del_all_flags(tf.flags.FLAGS)\n",
    "\n",
    "flags = tf.app.flags\n",
    "\n",
    "flags.DEFINE_string('gpu', '1', 'visible gpu')\n",
    "\n",
    "flags.DEFINE_string('mode', 'train', 'set train or eval')\n",
    "\n",
    "flags.DEFINE_string('datadir', 'data', 'directory of input data')\n",
    "flags.DEFINE_string('dataname', 'sports_sents.pkl', 'name of data')\n",
    "flags.DEFINE_string('modeldir', 'NAS/model', 'directory of model')\n",
    "flags.DEFINE_string('modelname', 'sports', 'name of model')\n",
    "\n",
    "flags.DEFINE_integer('epochs', 10, 'epochs')\n",
    "flags.DEFINE_integer('batch_size', 32, 'batch size')\n",
    "flags.DEFINE_integer('log_period', 100, 'valid period')\n",
    "\n",
    "flags.DEFINE_string('opt', 'Adagrad', 'optimizer')\n",
    "flags.DEFINE_float('lr', 0.1, 'lr')\n",
    "flags.DEFINE_float('grad_clip', 5., 'grad_clip')\n",
    "\n",
    "flags.DEFINE_float('keep_prob', 1.0, 'dropout rate')\n",
    "flags.DEFINE_float('word_keep_prob', 0.75, 'word dropout rate')\n",
    "\n",
    "flags.DEFINE_integer('warmup', 10, 'warmup period for KL')\n",
    "\n",
    "flags.DEFINE_integer('beam_width', 10, 'beam_width')\n",
    "flags.DEFINE_float('length_penalty_weight', 0.0, 'length_penalty_weight')\n",
    "\n",
    "flags.DEFINE_integer('dim_emb', 256, 'dim_latent')\n",
    "flags.DEFINE_integer('dim_hidden', 512, 'dim_output')\n",
    "flags.DEFINE_integer('dim_latent', 32, 'dim_latent')\n",
    "\n",
    "# for evaluation\n",
    "flags.DEFINE_string('refdir', 'ref', 'refdir')\n",
    "flags.DEFINE_string('outdir', 'out', 'outdir')\n",
    "\n",
    "flags.DEFINE_string('f', '', 'kernel')\n",
    "\n",
    "config = flags.FLAGS"
   ]
  },
  {
   "cell_type": "code",
   "execution_count": 24,
   "metadata": {},
   "outputs": [],
   "source": [
    "os.environ[\"CUDA_VISIBLE_DEVICES\"] = config.gpu"
   ]
  },
  {
   "cell_type": "code",
   "execution_count": 25,
   "metadata": {},
   "outputs": [],
   "source": [
    "data_path = os.path.join(config.datadir, config.dataname)\n",
    "data_train, data_dev, data_test, word_to_idx, idx_to_word = cPickle.load(open(data_path,'rb'))"
   ]
  },
  {
   "cell_type": "code",
   "execution_count": 26,
   "metadata": {},
   "outputs": [],
   "source": [
    "def grouper(iterable, n, fillvalue=None, shorten=True, num_groups=None, shuffle=False):\n",
    "    args = [iter(iterable)] * n\n",
    "    out = zip_longest(*args, fillvalue=fillvalue)\n",
    "    out = list(out)\n",
    "    if shuffle: random.shuffle(out)\n",
    "    if num_groups is not None:\n",
    "        default = (fillvalue,) * n\n",
    "        assert isinstance(num_groups, int)\n",
    "        out = list(each for each, _ in zip_longest(out, range(num_groups), fillvalue=default))\n",
    "    if shorten:\n",
    "        assert fillvalue is None\n",
    "        out = (tuple(e for e in each if e is not None) for each in out)\n",
    "    return out"
   ]
  },
  {
   "cell_type": "code",
   "execution_count": 27,
   "metadata": {},
   "outputs": [],
   "source": [
    "train_batches = grouper(data_train, config.batch_size, shuffle=True)\n",
    "dev_batches = list(grouper(data_dev, config.batch_size))\n",
    "test_batches = list(grouper(data_test, config.batch_size))\n",
    "num_train_batches = len(list(grouper(data_train, config.batch_size, shuffle=True)))"
   ]
  },
  {
   "cell_type": "code",
   "execution_count": 28,
   "metadata": {},
   "outputs": [],
   "source": [
    "flags.DEFINE_integer('PAD_IDX', word_to_idx[PAD], 'PAD_IDX')\n",
    "flags.DEFINE_integer('UNK_IDX', word_to_idx[UNK], 'UNK_IDX')\n",
    "flags.DEFINE_integer('BOS_IDX', word_to_idx[BOS], 'BOS_IDX')\n",
    "flags.DEFINE_integer('EOS_IDX', word_to_idx[EOS], 'EOS_IDX')\n",
    "\n",
    "flags.DEFINE_integer('n_vocab', len(word_to_idx), 'n_vocab')\n",
    "\n",
    "maximum_iterations = max([max([len(sent_idx) for sent_idx in batch]) for batch in dev_batches])\n",
    "flags.DEFINE_integer('maximum_iterations', maximum_iterations, 'maximum_iterations')    "
   ]
  },
  {
   "cell_type": "markdown",
   "metadata": {},
   "source": [
    "# build model "
   ]
  },
  {
   "cell_type": "markdown",
   "metadata": {},
   "source": [
    "## feed dict"
   ]
  },
  {
   "cell_type": "code",
   "execution_count": 29,
   "metadata": {},
   "outputs": [],
   "source": [
    "def get_feed_dict(batch, mode='train'):\n",
    "    batch_size = len(batch)\n",
    "\n",
    "    sent_l = [len(sent_idxs) for sent_idxs in batch]\n",
    "    dec_sent_l = [len(sent_idxs)+1 for sent_idxs in batch]\n",
    "    max_sent_l = max(sent_l)\n",
    "\n",
    "    token_idxs_matrix = np.zeros([batch_size, max_sent_l], np.int32)\n",
    "    dec_input_idxs_matrix = np.zeros([batch_size, max_sent_l+1], np.int32)\n",
    "    dec_target_idxs_matrix = np.zeros([batch_size, max_sent_l+1], np.int32)\n",
    "    \n",
    "    for i, sent_idxs in enumerate(batch):\n",
    "        token_idxs_matrix[i, :len(sent_idxs)] = np.asarray(sent_idxs)\n",
    "\n",
    "        sent_idxs_dropout = np.asarray(sent_idxs)\n",
    "        sent_idxs_dropout[np.random.rand(len(sent_idxs)) > config.word_keep_prob] = config.UNK_IDX\n",
    "        dec_input_idxs_matrix[i, :len(sent_idxs)+1] = np.concatenate([[config.BOS_IDX], sent_idxs_dropout])\n",
    "\n",
    "        dec_target_idxs_matrix[i, :len(sent_idxs)+1] = np.asarray(sent_idxs + [config.EOS_IDX])\n",
    "\n",
    "    keep_prob = config.keep_prob if mode == 'train' else 1.0\n",
    "\n",
    "    feed_dict = {\n",
    "                t_variables['token_idxs']: token_idxs_matrix,\n",
    "                t_variables['dec_input_idxs']: dec_input_idxs_matrix, t_variables['dec_target_idxs']: dec_target_idxs_matrix, \n",
    "                t_variables['batch_l']: batch_size, t_variables['sent_l']: sent_l, t_variables['dec_sent_l']: dec_sent_l,\n",
    "                t_variables['keep_prob']: keep_prob}\n",
    "    return  feed_dict"
   ]
  },
  {
   "cell_type": "code",
   "execution_count": 30,
   "metadata": {},
   "outputs": [],
   "source": [
    "def debug_shape(variables):\n",
    "    with tf.Session() as sess:\n",
    "        sess.run(tf.global_variables_initializer())\n",
    "\n",
    "        sample_batch = test_batches[0]\n",
    "        feed_dict = get_feed_dict(sample_batch)\n",
    "        _variables = sess.run(variables, feed_dict=feed_dict)\n",
    "        for _variable, variable in zip(_variables, variables):\n",
    "            print(variable.name, ':', _variable.shape)\n",
    "            \n",
    "        sess.close()"
   ]
  },
  {
   "cell_type": "markdown",
   "metadata": {},
   "source": [
    "## fed variables"
   ]
  },
  {
   "cell_type": "code",
   "execution_count": 31,
   "metadata": {},
   "outputs": [],
   "source": [
    "tf.reset_default_graph()\n",
    "\n",
    "t_variables = {}\n",
    "t_variables['keep_prob'] = tf.placeholder(tf.float32)\n",
    "t_variables['batch_l'] = tf.placeholder(tf.int32, [])\n",
    "t_variables['token_idxs'] = tf.placeholder(tf.int32, [None, None])\n",
    "t_variables['dec_input_idxs'] = tf.placeholder(tf.int32, [None, None])\n",
    "t_variables['dec_target_idxs'] = tf.placeholder(tf.int32, [None, None])\n",
    "t_variables['sent_l'] = tf.placeholder(tf.int32, [None])\n",
    "t_variables['dec_sent_l'] = tf.placeholder(tf.int32, [None])"
   ]
  },
  {
   "cell_type": "markdown",
   "metadata": {},
   "source": [
    "## trained variables"
   ]
  },
  {
   "cell_type": "code",
   "execution_count": 32,
   "metadata": {},
   "outputs": [],
   "source": [
    "dtype = tf.float32\n",
    "\n",
    "dim_hidden = config.dim_hidden\n",
    "dim_latent = config.dim_latent\n",
    "\n",
    "# with tf.variable_scope('emb', reuse=tf.AUTO_REUSE):\n",
    "#     embeddings = tf.get_variable('emb', [config.n_vocab, config.dim_emb], dtype=dtype, initializer=tf.random_uniform_initializer(-1., 1.))\n",
    "    \n",
    "# with tf.variable_scope('enc', reuse=tf.AUTO_REUSE):\n",
    "#     w_enc = tf.get_variable('w', [dim_hidden, 2 * dim_latent], dtype=dtype, initializer=tf.random_uniform_initializer(-1., 1.))\n",
    "#     b_enc = tf.get_variable('b', [2 * dim_latent], dtype=dtype, initializer=tf.constant_initializer())\n",
    "    \n",
    "# with tf.variable_scope('dec', reuse=tf.AUTO_REUSE):\n",
    "#     w_dec = tf.get_variable('w', [dim_latent, dim_hidden], dtype=dtype, initializer=tf.random_uniform_initializer(-1., 1.))\n",
    "#     b_dec = tf.get_variable('b', [dim_hidden], dtype=dtype, initializer=tf.constant_initializer())\n",
    "\n",
    "if config.warmup > 0:\n",
    "    beta = tf.Variable(0.1, name='beta', trainable=False)    \n",
    "    \n",
    "with tf.variable_scope('emb'):\n",
    "    embeddings = tf.get_variable('emb', [config.n_vocab, config.dim_emb], dtype=dtype, initializer=tf.contrib.layers.xavier_initializer())\n",
    "    \n",
    "with tf.variable_scope('enc'):\n",
    "    w_enc = tf.get_variable('w_enc', [dim_hidden, 2 * dim_latent], dtype=dtype)\n",
    "    b_enc = tf.get_variable('b_enc', [2 * dim_latent], dtype=dtype)\n",
    "    \n",
    "with tf.variable_scope('dec'):\n",
    "    w_dec = tf.get_variable('w_dec', [dim_latent, dim_hidden], dtype=dtype)\n",
    "    b_dec = tf.get_variable('b_dec', [dim_hidden], dtype=dtype)\n",
    "\n"
   ]
  },
  {
   "cell_type": "markdown",
   "metadata": {},
   "source": [
    "## encode sentences"
   ]
  },
  {
   "cell_type": "code",
   "execution_count": 33,
   "metadata": {},
   "outputs": [],
   "source": [
    "# input\n",
    "batch_l = t_variables['batch_l']\n",
    "sent_l = t_variables['sent_l']\n",
    "max_sent_l = tf.reduce_max(sent_l)\n",
    "token_idxs = t_variables['token_idxs']\n",
    "\n",
    "# get sentence embedding\n",
    "enc_input = tf.nn.embedding_lookup(embeddings, token_idxs)\n",
    "_, enc_state = dynamic_rnn(enc_input, sent_l, dim_hidden, t_variables['keep_prob'], cell_name='Model/sent')\n",
    "\n",
    "# encode to parameter \n",
    "means_logvars = tf.nn.relu(tf.matmul(enc_state, w_enc) + b_enc)\n",
    "means, logvars = tf.split(means_logvars, 2, 1)\n",
    "\n",
    "# reparameterize\n",
    "noises = tf.random_normal(tf.shape(means))\n",
    "latents = means + tf.exp(0.5 * logvars) * noises"
   ]
  },
  {
   "cell_type": "code",
   "execution_count": 34,
   "metadata": {},
   "outputs": [
    {
     "name": "stdout",
     "output_type": "stream",
     "text": [
      "Placeholder_2:0 : (32, 3)\n",
      "embedding_lookup:0 : (32, 3, 256)\n",
      "Model/sent/rnn/while/Exit_3:0 : (32, 512)\n",
      "split:0 : (32, 32)\n",
      "split:1 : (32, 32)\n",
      "add_1:0 : (32, 32)\n"
     ]
    }
   ],
   "source": [
    "debug_shape([token_idxs, enc_input, enc_state, means, logvars, latents])"
   ]
  },
  {
   "cell_type": "markdown",
   "metadata": {},
   "source": [
    "## decode sentences"
   ]
  },
  {
   "cell_type": "code",
   "execution_count": 35,
   "metadata": {},
   "outputs": [],
   "source": [
    "# prepare for decoding\n",
    "dec_input_idxs = t_variables['dec_input_idxs']\n",
    "dec_input = tf.nn.embedding_lookup(embeddings, dec_input_idxs)\n",
    "\n",
    "dec_latent_input = tf.tile(tf.expand_dims(latents, 1), [1, tf.shape(dec_input_idxs)[1], 1])\n",
    "dec_concat_input = tf.concat([dec_input, dec_latent_input], 2)\n",
    "\n",
    "# decode for training\n",
    "dec_sent_l = t_variables['dec_sent_l']\n",
    "\n",
    "with tf.variable_scope('Model/sent/dec', initializer=tf.contrib.layers.xavier_initializer(), dtype = tf.float32, reuse=tf.AUTO_REUSE):\n",
    "    dec_cell = tf.contrib.rnn.GRUCell(dim_hidden)\n",
    "    dec_cell = tf.contrib.rnn.DropoutWrapper(dec_cell, output_keep_prob = t_variables['keep_prob'])\n",
    "\n",
    "    dec_initial_state = tf.nn.relu(tf.matmul(latents, w_dec) + b_dec)\n",
    "    \n",
    "    helper = tf.contrib.seq2seq.TrainingHelper(inputs=dec_concat_input, sequence_length=dec_sent_l)\n",
    "\n",
    "    train_decoder = tf.contrib.seq2seq.BasicDecoder(\n",
    "        cell=dec_cell,\n",
    "        helper=helper,\n",
    "        initial_state=dec_initial_state)\n",
    "\n",
    "    dec_outputs, _, output_sent_l = tf.contrib.seq2seq.dynamic_decode(train_decoder)\n",
    "    \n",
    "    output_layer = tf.layers.Dense(config.n_vocab, use_bias=False, name=\"output_projection\")\n",
    "    output_logits = output_layer(dec_outputs.rnn_output)\n",
    "    \n",
    "    output_token_idxs = tf.argmax(output_logits, 2)"
   ]
  },
  {
   "cell_type": "code",
   "execution_count": 36,
   "metadata": {},
   "outputs": [
    {
     "name": "stdout",
     "output_type": "stream",
     "text": [
      "concat:0 : (32, 4, 288)\n",
      "Model/sent/dec/output_projection/Tensordot:0 : (32, 4, 20000)\n",
      "Model/sent/dec/ArgMax:0 : (32, 4)\n"
     ]
    }
   ],
   "source": [
    "debug_shape([dec_concat_input, output_logits, output_token_idxs])"
   ]
  },
  {
   "cell_type": "markdown",
   "metadata": {},
   "source": [
    "## define cost & optimizer"
   ]
  },
  {
   "cell_type": "code",
   "execution_count": 37,
   "metadata": {},
   "outputs": [],
   "source": [
    "# target and mask\n",
    "dec_target_idxs = t_variables['dec_target_idxs']\n",
    "max_dec_sent_l = tf.reduce_max(dec_sent_l)\n",
    "dec_mask_tokens = tf.sequence_mask(dec_sent_l, maxlen=max_dec_sent_l, dtype=tf.float32)\n",
    "\n",
    "recon_loss = tf.contrib.seq2seq.sequence_loss(output_logits, dec_target_idxs, dec_mask_tokens) # nll for each token (averaged over batch & sentence)\n",
    "\n",
    "# define loss\n",
    "kl_losses = tf.reduce_sum(-0.5 * (logvars - tf.square(means) - tf.exp(logvars) + 1.0), 1) # sum over latent dimentsion    \n",
    "kl_loss = tf.reduce_mean(kl_losses, [0]) #mean of kl_losses over batches\n",
    "\n",
    "loss = recon_loss + beta * kl_loss\n",
    "\n",
    "# define optimizer\n",
    "if (config.opt == 'Adam'):\n",
    "    optimizer = tf.train.AdamOptimizer(config.lr)\n",
    "elif (config.opt == 'Adagrad'):\n",
    "    optimizer = tf.train.AdagradOptimizer(config.lr)\n",
    "    \n",
    "grad_vars = optimizer.compute_gradients(loss)\n",
    "clipped_grad_vars = [(tf.clip_by_value(grad, -config.grad_clip, config.grad_clip), var) for grad, var in grad_vars]\n",
    "\n",
    "opt = optimizer.apply_gradients(clipped_grad_vars)"
   ]
  },
  {
   "cell_type": "code",
   "execution_count": 38,
   "metadata": {},
   "outputs": [
    {
     "name": "stdout",
     "output_type": "stream",
     "text": [
      "Sum:0 : (32,)\n"
     ]
    }
   ],
   "source": [
    "debug_shape([kl_losses])"
   ]
  },
  {
   "cell_type": "markdown",
   "metadata": {},
   "source": [
    "# run model "
   ]
  },
  {
   "cell_type": "code",
   "execution_count": 39,
   "metadata": {},
   "outputs": [],
   "source": [
    "def idxs_to_sent(line_idxs, config, idx_to_word):\n",
    "    tokens = []\n",
    "    for idx in line_idxs:\n",
    "        if idx == config.EOS_IDX: break\n",
    "        tokens.append(idx_to_word[idx])\n",
    "    sent = ' '.join(tokens)\n",
    "    return sent"
   ]
  },
  {
   "cell_type": "code",
   "execution_count": 40,
   "metadata": {},
   "outputs": [],
   "source": [
    "def get_loss(sess, batches):\n",
    "    losses = []\n",
    "    for batch in batches:\n",
    "        feed_dict = get_feed_dict(batch, mode='test')\n",
    "        loss_batch = sess.run(loss, feed_dict = feed_dict)\n",
    "        losses += [loss_batch]        \n",
    "    loss_mean = np.mean(losses)\n",
    "    return loss_mean"
   ]
  },
  {
   "cell_type": "code",
   "execution_count": 41,
   "metadata": {},
   "outputs": [],
   "source": [
    "def print_sample(sample_batch):\n",
    "    feed_dict = get_feed_dict(sample_batch)\n",
    "    pred_token_idxs = sess.run(output_token_idxs, feed_dict = feed_dict)\n",
    "    true_token_idxs = sample_batch\n",
    "    \n",
    "    assert len(pred_token_idxs) == len(true_token_idxs)\n",
    "    \n",
    "    for true_sent_idxs, pred_sent_idxs in zip(true_token_idxs, pred_token_idxs):\n",
    "        true_sent = idxs_to_sent(true_sent_idxs, config, idx_to_word)\n",
    "        pred_sent = idxs_to_sent(pred_sent_idxs, config, idx_to_word)\n",
    "\n",
    "        print('True: %s' % true_sent)\n",
    "        print('Pred: %s' % pred_sent)"
   ]
  },
  {
   "cell_type": "code",
   "execution_count": 45,
   "metadata": {
    "scrolled": true
   },
   "outputs": [],
   "source": [
    "if 'sess' in globals(): sess.close()\n",
    "sess = tf.Session()\n",
    "\n",
    "sess.run(tf.global_variables_initializer())\n",
    "\n",
    "logs = []\n",
    "losses_train = []\n",
    "loss_min = np.inf\n",
    "beta_eval = 0.001\n",
    "epoch = 0"
   ]
  },
  {
   "cell_type": "code",
   "execution_count": null,
   "metadata": {
    "scrolled": false
   },
   "outputs": [
    {
     "name": "stdout",
     "output_type": "stream",
     "text": [
      "Epoch: 1, Step: 0 | LOSS TRAIN: 9.90, DEV: 9.90 | NLL: 19923.94, KL: 0.1709| BETA: 0.001008\n",
      "Epoch: 1, Step: 100 | LOSS TRAIN: 8.03, DEV: 6.70 | NLL: 3023.29, KL: 12.7377| BETA: 0.001016\n",
      "Epoch: 1, Step: 200 | LOSS TRAIN: 7.37, DEV: 6.47 | NLL: 1565.81, KL: 17.6204| BETA: 0.001024\n",
      "Epoch: 1, Step: 300 | LOSS TRAIN: 7.07, DEV: 6.42 | NLL: 1154.21, KL: 19.0469| BETA: 0.001032\n",
      "Epoch: 1, Step: 400 | LOSS TRAIN: 6.90, DEV: 6.29 | NLL: 973.28, KL: 20.8869| BETA: 0.001040\n",
      "Epoch: 1, Step: 500 | LOSS TRAIN: 6.79, DEV: 6.26 | NLL: 867.31, KL: 23.0869| BETA: 0.001047\n",
      "Epoch: 1, Step: 600 | LOSS TRAIN: 6.70, DEV: 6.24 | NLL: 793.88, KL: 24.0024| BETA: 0.001055\n",
      "Epoch: 1, Step: 700 | LOSS TRAIN: 6.64, DEV: 6.22 | NLL: 746.06, KL: 25.0703| BETA: 0.001063\n",
      "Epoch: 1, Step: 800 | LOSS TRAIN: 6.59, DEV: 6.22 | NLL: 711.80, KL: 25.6873| BETA: 0.001071\n",
      "Epoch: 1, Step: 900 | LOSS TRAIN: 6.56, DEV: 6.18 | NLL: 685.83, KL: 25.9641| BETA: 0.001079\n",
      "Epoch: 1, Step: 1000 | LOSS TRAIN: 6.52, DEV: 6.19 | NLL: 662.99, KL: 26.3319| BETA: 0.001087\n",
      "Epoch: 1, Step: 1100 | LOSS TRAIN: 6.49, DEV: 6.16 | NLL: 641.93, KL: 26.6262| BETA: 0.001095\n",
      "Epoch: 1, Step: 1200 | LOSS TRAIN: 6.47, DEV: 6.15 | NLL: 625.57, KL: 27.0814| BETA: 0.001103\n",
      "Epoch: 1, Step: 1300 | LOSS TRAIN: 6.45, DEV: 6.14 | NLL: 612.55, KL: 27.4158| BETA: 0.001111\n",
      "Epoch: 1, Step: 1400 | LOSS TRAIN: 6.43, DEV: 6.14 | NLL: 601.40, KL: 27.3950| BETA: 0.001119\n",
      "Epoch: 1, Step: 1500 | LOSS TRAIN: 6.41, DEV: 6.17 | NLL: 591.35, KL: 27.3169| BETA: 0.001126\n",
      "Epoch: 1, Step: 1600 | LOSS TRAIN: 6.40, DEV: 6.12 | NLL: 582.95, KL: 27.2597| BETA: 0.001134\n",
      "Epoch: 1, Step: 1700 | LOSS TRAIN: 6.38, DEV: 6.14 | NLL: 574.66, KL: 27.1561| BETA: 0.001142\n",
      "Epoch: 1, Step: 1800 | LOSS TRAIN: 6.37, DEV: 6.12 | NLL: 567.53, KL: 27.1483| BETA: 0.001150\n",
      "Epoch: 1, Step: 1900 | LOSS TRAIN: 6.36, DEV: 6.12 | NLL: 560.26, KL: 27.1166| BETA: 0.001158\n",
      "Epoch: 1, Step: 2000 | LOSS TRAIN: 6.34, DEV: 6.09 | NLL: 552.95, KL: 27.0488| BETA: 0.001166\n",
      "Epoch: 1, Step: 2100 | LOSS TRAIN: 6.34, DEV: 6.11 | NLL: 547.60, KL: 27.0005| BETA: 0.001174\n",
      "Epoch: 1, Step: 2200 | LOSS TRAIN: 6.33, DEV: 6.07 | NLL: 542.36, KL: 26.8482| BETA: 0.001182\n",
      "Epoch: 1, Step: 2300 | LOSS TRAIN: 6.32, DEV: 6.11 | NLL: 537.23, KL: 26.6887| BETA: 0.001190\n",
      "Epoch: 1, Step: 2400 | LOSS TRAIN: 6.31, DEV: 6.07 | NLL: 532.37, KL: 26.5897| BETA: 0.001198\n",
      "Epoch: 1, Step: 2500 | LOSS TRAIN: 6.30, DEV: 6.09 | NLL: 527.41, KL: 26.4688| BETA: 0.001206\n",
      "Epoch: 1, Step: 2600 | LOSS TRAIN: 6.29, DEV: 6.06 | NLL: 522.92, KL: 26.3568| BETA: 0.001213\n",
      "Epoch: 1, Step: 2700 | LOSS TRAIN: 6.28, DEV: 6.04 | NLL: 519.91, KL: 26.2304| BETA: 0.001221\n",
      "Epoch: 1, Step: 2800 | LOSS TRAIN: 6.28, DEV: 6.03 | NLL: 516.12, KL: 26.0883| BETA: 0.001229\n",
      "Epoch: 1, Step: 2900 | LOSS TRAIN: 6.27, DEV: 6.05 | NLL: 512.30, KL: 25.9764| BETA: 0.001237\n",
      "True: when i initially installed the sight it seemed to fit fine\n",
      "Pred: i is is a a a a is\n",
      "True: they just slide off and on without even touching a thread\n",
      "Pred: i is is a the the the the a\n",
      "True: also the scope itself 's length is about a foot long\n",
      "Pred: i i is a a a a a\n",
      "True: overall i do not have one single complaint about this product\n",
      "Pred: i is is a a and a a\n",
      "True: couldnt ' even fasten it with a zip tie without modifying\n",
      "Pred: i i is a a is a a\n",
      "True: break out them towels to wipe off your mitts after eating\n",
      "Pred: i is is a the and a a\n",
      "True: this is my review for the snow peak titanium mini spork\n",
      "Pred: i have is a the the is a a\n",
      "True: the serrated edge and the sharpened edge are definitely nice features\n",
      "Pred: i is is a a is a a\n",
      "True: it looked tough and was not 10 so i wanted it\n",
      "Pred: i is a a the a a a a\n",
      "True: unless you want to attach it to a pack or something\n",
      "Pred: i is is a a a is a a\n",
      "True: i am only using two drops at a time after all\n",
      "Pred: i i is a the the a a a a\n",
      "True: the beam width is not narrow but it is not wide\n",
      "Pred: i is is a the the the the is a\n",
      "True: it is been a few months and i still feel it\n",
      "Pred: i have a a a a a a\n",
      "True: i put this saddle on my cannondale <unk> 1 road bike\n",
      "Pred: i i is a a the and a a\n",
      "True: i am so glad i am finally done with my search\n",
      "Pred: i have not a a is a a a\n",
      "True: after a while on this seat is when the problems started\n",
      "Pred: i i is a the and a a a\n",
      "True: i kept sliding forward and would have to push myself back\n",
      "Pred: i have a a a a a a a a\n",
      "True: i could reach it and pull down to smooth it out\n",
      "Pred: i have a a the the the a\n",
      "True: so much that i do not wear it out in public\n",
      "Pred: i i not a is a a a is\n",
      "True: wish there were more options as far as color is concerned\n",
      "Pred: i i is a a a a a\n",
      "True: it was packaged fairly well as far as bubble wrap goes\n",
      "Pred: i is is a a a a a\n",
      "True: she is able to go all around our <unk> de sac\n",
      "Pred: i is is a a the and a a\n",
      "True: not a big deal but not a highly desired feature either\n",
      "Pred: i is is a the the and a\n",
      "True: this bottle can hold more water than a typical water bottle\n",
      "Pred: i is a a a a a a\n",
      "True: buy this bottle to look good not for serious hardcore use\n",
      "Pred: i is is a a a a a\n",
      "True: one thing about this bottle is that it is very attractive\n",
      "Pred: i is a a a the the the is\n",
      "True: so i know what i need in a water bottle design\n",
      "Pred: i is is a a is a a\n",
      "True: the bottle holds more water than my other water bottles hold\n",
      "Pred: i have a a the and and a a\n",
      "True: all in all i am completely underwhelmed with this water bottle\n",
      "Pred: i i a a is a a a a\n",
      "True: its a cool alternative to water bottles namely the aluminum ones\n",
      "Pred: i i is a the and the a a\n",
      "True: pulled back the charging handle and set it in the chamber\n",
      "Pred: i is is is the the the the\n",
      "True: i did however screw up this next part so pay attention\n",
      "Pred: i have a a a a a\n"
     ]
    }
   ],
   "source": [
    "while epoch <= config.epochs:\n",
    "    train_batches = grouper(data_train, config.batch_size, shuffle=True)\n",
    "    epoch += 1\n",
    "    ct = 0\n",
    "    for ct, batch in enumerate(train_batches):\n",
    "        feed_dict = get_feed_dict(batch)\n",
    "        if config.warmup > 0: sess.run(beta.assign(np.minimum(1., beta_eval+ 1./(config.warmup*num_train_batches))))\n",
    "\n",
    "        _, loss_batch, kl_loss_batch, recon_loss_batch = sess.run([opt, loss, kl_loss, recon_loss], feed_dict = feed_dict)\n",
    "        losses_train += [[loss_batch, kl_loss_batch, recon_loss_batch]]\n",
    "\n",
    "        if ct%config.log_period==0:\n",
    "            loss_train, kl_loss_train, recon_loss_train = np.mean(losses_train, 0)\n",
    "            ppl_train = np.exp(recon_loss_train)\n",
    "            if config.warmup > 0: beta_eval = beta.eval(session=sess)\n",
    "            loss_dev = get_loss(sess, dev_batches)\n",
    "\n",
    "#             if loss_dev <= loss_min:\n",
    "#                 loss_min = loss_dev\n",
    "#                 loss_test = get_loss(sess, test_batches)\n",
    "\n",
    "            clear_output()\n",
    "\n",
    "            logs += [(epoch, ct, loss_train, loss_dev, ppl_train, kl_loss_train, beta_eval)]\n",
    "            for log in logs:\n",
    "                print('Epoch: %i, Step: %i | LOSS TRAIN: %.2f, DEV: %.2f | NLL: %.2f, KL: %.4f| BETA: %.6f' %  log)\n",
    "\n",
    "            print_sample(batch)"
   ]
  },
  {
   "cell_type": "code",
   "execution_count": 59,
   "metadata": {},
   "outputs": [
    {
     "name": "stdout",
     "output_type": "stream",
     "text": [
      "Step: 0 | LOSS TRAIN: 9.91, DEV: 9.91, TEST: 9.91 | NLL: 19989.35, KL: 0.2202| BETA: 0.010008\n",
      "Step: 1000 | LOSS TRAIN: 6.59, DEV: 6.28, TEST: 6.26 | NLL: 705.00, KL: 3.5135| BETA: 0.010016\n",
      "Step: 2000 | LOSS TRAIN: 6.43, DEV: 6.18, TEST: 6.16 | NLL: 602.32, KL: 2.7705| BETA: 0.010024\n",
      "Step: 3000 | LOSS TRAIN: 6.34, DEV: 6.11, TEST: 6.09 | NLL: 551.30, KL: 2.6194| BETA: 0.010032\n",
      "Step: 4000 | LOSS TRAIN: 6.26, DEV: 5.94, TEST: 5.92 | NLL: 512.02, KL: 2.5567| BETA: 0.010040\n",
      "Step: 5000 | LOSS TRAIN: 6.19, DEV: 5.80, TEST: 5.78 | NLL: 475.38, KL: 2.5735| BETA: 0.010047\n",
      "Step: 6000 | LOSS TRAIN: 6.12, DEV: 5.73, TEST: 5.71 | NLL: 442.81, KL: 2.6369| BETA: 0.010055\n",
      "Step: 7000 | LOSS TRAIN: 6.06, DEV: 5.66, TEST: 5.66 | NLL: 415.69, KL: 2.7330| BETA: 0.010063\n",
      "Step: 8000 | LOSS TRAIN: 6.00, DEV: 5.61, TEST: 5.59 | NLL: 393.43, KL: 2.8561| BETA: 0.010071\n",
      "Step: 9000 | LOSS TRAIN: 5.96, DEV: 5.57, TEST: 5.55 | NLL: 374.77, KL: 3.0316| BETA: 0.010079\n",
      "Step: 10000 | LOSS TRAIN: 5.91, DEV: 5.53, TEST: 5.51 | NLL: 357.67, KL: 3.2351| BETA: 0.010087\n",
      "Step: 11000 | LOSS TRAIN: 5.87, DEV: 5.48, TEST: 5.47 | NLL: 343.60, KL: 3.4164| BETA: 0.010095\n",
      "Step: 12000 | LOSS TRAIN: 5.84, DEV: 5.44, TEST: 5.44 | NLL: 331.91, KL: 3.5717| BETA: 0.010103\n"
     ]
    }
   ],
   "source": [
    "for log in logs:\n",
    "            print('Step: %i | LOSS TRAIN: %.2f, DEV: %.2f, TEST: %.2f | NLL: %.2f, KL: %.4f| BETA: %.6f' %  log)"
   ]
  },
  {
   "cell_type": "markdown",
   "metadata": {},
   "source": [
    "# confirm variables"
   ]
  },
  {
   "cell_type": "code",
   "execution_count": 110,
   "metadata": {},
   "outputs": [],
   "source": [
    "_logvars, _means, _kl_losses, _latents, _output_logits = sess.run([logvars, means, kl_losses, latents, output_logits], feed_dict=feed_dict)\n"
   ]
  },
  {
   "cell_type": "code",
   "execution_count": 111,
   "metadata": {},
   "outputs": [
    {
     "data": {
      "text/plain": [
       "((32, 32), (32, 32), (32,), (32, 32))"
      ]
     },
     "execution_count": 111,
     "metadata": {},
     "output_type": "execute_result"
    }
   ],
   "source": [
    "_logvars.shape, _means.shape, _kl_losses.shape, _latents.shape"
   ]
  },
  {
   "cell_type": "code",
   "execution_count": 112,
   "metadata": {},
   "outputs": [
    {
     "data": {
      "text/plain": [
       "array([[[nan, nan, nan, ..., nan, nan, nan],\n",
       "        [nan, nan, nan, ..., nan, nan, nan],\n",
       "        [nan, nan, nan, ..., nan, nan, nan]],\n",
       "\n",
       "       [[nan, nan, nan, ..., nan, nan, nan],\n",
       "        [nan, nan, nan, ..., nan, nan, nan],\n",
       "        [nan, nan, nan, ..., nan, nan, nan]],\n",
       "\n",
       "       [[nan, nan, nan, ..., nan, nan, nan],\n",
       "        [nan, nan, nan, ..., nan, nan, nan],\n",
       "        [nan, nan, nan, ..., nan, nan, nan]],\n",
       "\n",
       "       ...,\n",
       "\n",
       "       [[nan, nan, nan, ..., nan, nan, nan],\n",
       "        [nan, nan, nan, ..., nan, nan, nan],\n",
       "        [nan, nan, nan, ..., nan, nan, nan]],\n",
       "\n",
       "       [[nan, nan, nan, ..., nan, nan, nan],\n",
       "        [nan, nan, nan, ..., nan, nan, nan],\n",
       "        [nan, nan, nan, ..., nan, nan, nan]],\n",
       "\n",
       "       [[nan, nan, nan, ..., nan, nan, nan],\n",
       "        [nan, nan, nan, ..., nan, nan, nan],\n",
       "        [nan, nan, nan, ..., nan, nan, nan]]], dtype=float32)"
      ]
     },
     "execution_count": 112,
     "metadata": {},
     "output_type": "execute_result"
    }
   ],
   "source": [
    "_output_logits"
   ]
  },
  {
   "cell_type": "code",
   "execution_count": 109,
   "metadata": {},
   "outputs": [
    {
     "ename": "NameError",
     "evalue": "name 'dec_target_idxs_do' is not defined",
     "output_type": "error",
     "traceback": [
      "\u001b[0;31m---------------------------------------------------------------------------\u001b[0m",
      "\u001b[0;31mNameError\u001b[0m                                 Traceback (most recent call last)",
      "\u001b[0;32m<ipython-input-109-7de59bc2cc54>\u001b[0m in \u001b[0;36m<module>\u001b[0;34m\u001b[0m\n\u001b[0;32m----> 1\u001b[0;31m \u001b[0m_output_logits\u001b[0m\u001b[0;34m,\u001b[0m \u001b[0m_dec_target_idxs_do\u001b[0m\u001b[0;34m,\u001b[0m \u001b[0m_dec_mask_tokens_do\u001b[0m\u001b[0;34m,\u001b[0m \u001b[0m_recon_loss\u001b[0m\u001b[0;34m,\u001b[0m \u001b[0m_kl_losses\u001b[0m\u001b[0;34m,\u001b[0m \u001b[0m_\u001b[0m \u001b[0;34m=\u001b[0m \u001b[0msess\u001b[0m\u001b[0;34m.\u001b[0m\u001b[0mrun\u001b[0m\u001b[0;34m(\u001b[0m\u001b[0;34m[\u001b[0m\u001b[0moutput_logits\u001b[0m\u001b[0;34m,\u001b[0m \u001b[0mdec_target_idxs_do\u001b[0m\u001b[0;34m,\u001b[0m \u001b[0mdec_mask_tokens_do\u001b[0m\u001b[0;34m,\u001b[0m \u001b[0mrecon_loss\u001b[0m\u001b[0;34m,\u001b[0m \u001b[0mkl_losses\u001b[0m\u001b[0;34m,\u001b[0m \u001b[0mopt\u001b[0m\u001b[0;34m]\u001b[0m\u001b[0;34m,\u001b[0m \u001b[0mfeed_dict\u001b[0m\u001b[0;34m=\u001b[0m\u001b[0mfeed_dict\u001b[0m\u001b[0;34m)\u001b[0m\u001b[0;34m\u001b[0m\u001b[0;34m\u001b[0m\u001b[0m\n\u001b[0m",
      "\u001b[0;31mNameError\u001b[0m: name 'dec_target_idxs_do' is not defined"
     ]
    }
   ],
   "source": [
    "_output_logits, _dec_target_idxs_do, _dec_mask_tokens_do, _recon_loss, _kl_losses, _ = sess.run([output_logits, dec_target_idxs_do, dec_mask_tokens_do, recon_loss, kl_losses, opt], feed_dict=feed_dict)\n"
   ]
  },
  {
   "cell_type": "code",
   "execution_count": 44,
   "metadata": {},
   "outputs": [
    {
     "data": {
      "text/plain": [
       "(120, 46)"
      ]
     },
     "execution_count": 44,
     "metadata": {},
     "output_type": "execute_result"
    }
   ],
   "source": [
    "tf.reduce_max(output_logits, 2).eval(session=sess, feed_dict=feed_dict).shape"
   ]
  },
  {
   "cell_type": "code",
   "execution_count": 31,
   "metadata": {},
   "outputs": [
    {
     "data": {
      "text/plain": [
       "((120, 46, 20000), (120, 46), (120, 46))"
      ]
     },
     "execution_count": 31,
     "metadata": {},
     "output_type": "execute_result"
    }
   ],
   "source": [
    "_output_logits.shape, _dec_target_idxs_do.shape, _dec_mask_tokens_do.shape"
   ]
  },
  {
   "cell_type": "code",
   "execution_count": 32,
   "metadata": {},
   "outputs": [],
   "source": [
    "_logits = np.exp(_output_logits) / np.sum(np.exp(_output_logits), 2)[:, :, None]"
   ]
  },
  {
   "cell_type": "code",
   "execution_count": 33,
   "metadata": {},
   "outputs": [],
   "source": [
    "_idxs = _dec_target_idxs_do"
   ]
  },
  {
   "cell_type": "code",
   "execution_count": 35,
   "metadata": {},
   "outputs": [],
   "source": [
    "_losses = np.array([[-np.log(_logits[i, j, _idxs[i, j]]) for j in range(_idxs.shape[1])] for i in range(_idxs.shape[0])]) * _dec_mask_tokens_do"
   ]
  },
  {
   "cell_type": "code",
   "execution_count": 36,
   "metadata": {},
   "outputs": [
    {
     "data": {
      "text/plain": [
       "9.903732"
      ]
     },
     "execution_count": 36,
     "metadata": {},
     "output_type": "execute_result"
    }
   ],
   "source": [
    "np.sum(_losses)/np.sum(_dec_mask_tokens_do)"
   ]
  },
  {
   "cell_type": "code",
   "execution_count": 37,
   "metadata": {},
   "outputs": [
    {
     "data": {
      "text/plain": [
       "9.903732"
      ]
     },
     "execution_count": 37,
     "metadata": {},
     "output_type": "execute_result"
    }
   ],
   "source": [
    "_recon_loss"
   ]
  },
  {
   "cell_type": "code",
   "execution_count": 38,
   "metadata": {},
   "outputs": [
    {
     "data": {
      "text/plain": [
       "(120,)"
      ]
     },
     "execution_count": 38,
     "metadata": {},
     "output_type": "execute_result"
    }
   ],
   "source": [
    "_kl_losses.shape"
   ]
  },
  {
   "cell_type": "code",
   "execution_count": null,
   "metadata": {},
   "outputs": [],
   "source": []
  }
 ],
 "metadata": {
  "kernelspec": {
   "display_name": "py36",
   "language": "python",
   "name": "py36"
  },
  "language_info": {
   "codemirror_mode": {
    "name": "ipython",
    "version": 3
   },
   "file_extension": ".py",
   "mimetype": "text/x-python",
   "name": "python",
   "nbconvert_exporter": "python",
   "pygments_lexer": "ipython3",
   "version": "3.6.9"
  },
  "toc": {
   "base_numbering": 1,
   "nav_menu": {},
   "number_sections": true,
   "sideBar": true,
   "skip_h1_title": false,
   "title_cell": "Table of Contents",
   "title_sidebar": "Contents",
   "toc_cell": false,
   "toc_position": {},
   "toc_section_display": true,
   "toc_window_display": false
  }
 },
 "nbformat": 4,
 "nbformat_minor": 2
}
