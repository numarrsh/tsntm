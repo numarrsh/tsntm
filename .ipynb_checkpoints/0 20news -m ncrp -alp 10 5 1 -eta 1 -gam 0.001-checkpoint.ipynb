{
 "cells": [
  {
   "cell_type": "code",
   "execution_count": 1,
   "metadata": {},
   "outputs": [
    {
     "data": {
      "application/javascript": [
       "IPython.notebook.kernel.execute('nb_name = \"' + IPython.notebook.notebook_name + '\"')\n"
      ],
      "text/plain": [
       "<IPython.core.display.Javascript object>"
      ]
     },
     "metadata": {},
     "output_type": "display_data"
    }
   ],
   "source": [
    "%%javascript\n",
    "IPython.notebook.kernel.execute('nb_name = \"' + IPython.notebook.notebook_name + '\"')"
   ]
  },
  {
   "cell_type": "code",
   "execution_count": 2,
   "metadata": {},
   "outputs": [],
   "source": [
    "%load_ext autoreload\n",
    "%autoreload\n",
    "from IPython.display import clear_output\n",
    "\n",
    "import os\n",
    "import pdb\n",
    "import _pickle as cPickle\n",
    "import time\n",
    "import subprocess\n",
    "import glob\n",
    "\n",
    "import random\n",
    "import numpy as np\n",
    "import pandas as pd\n",
    "import tensorflow as tf\n",
    "\n",
    "from collections import defaultdict, Counter\n",
    "from ncrp import Topic, Doc, init, sample, get_perplexity, get_topic_specialization, get_hierarchical_affinities, get_freq_tokens_ncrp, get_docs\n",
    "from configure import get_config"
   ]
  },
  {
   "cell_type": "markdown",
   "metadata": {},
   "source": [
    "# load config & data "
   ]
  },
  {
   "cell_type": "code",
   "execution_count": 3,
   "metadata": {},
   "outputs": [],
   "source": [
    "config = get_config(nb_name)\n",
    "np.random.seed(config.seed)\n",
    "random.seed(config.seed)"
   ]
  },
  {
   "cell_type": "code",
   "execution_count": 4,
   "metadata": {},
   "outputs": [],
   "source": [
    "instances_train, instances_dev, instances_test, word_to_idx, idx_to_word, bow_idxs = cPickle.load(open(config.path_data,'rb'))"
   ]
  },
  {
   "cell_type": "code",
   "execution_count": 5,
   "metadata": {},
   "outputs": [
    {
     "data": {
      "text/plain": [
       "(31943, 1035)"
      ]
     },
     "execution_count": 5,
     "metadata": {},
     "output_type": "execute_result"
    }
   ],
   "source": [
    "config.n_doc = len(instances_train)\n",
    "config.n_vocab = len(bow_idxs)\n",
    "config.n_doc, config.n_vocab"
   ]
  },
  {
   "cell_type": "markdown",
   "metadata": {},
   "source": [
    "# run"
   ]
  },
  {
   "cell_type": "markdown",
   "metadata": {},
   "source": [
    "## initialize log"
   ]
  },
  {
   "cell_type": "code",
   "execution_count": null,
   "metadata": {},
   "outputs": [],
   "source": [
    "checkpoint = []\n",
    "ppl_min = np.inf\n",
    "epoch = 0\n",
    "\n",
    "cmd_rm = 'rm -r %s' % config.dir_model\n",
    "res = subprocess.call(cmd_rm.split())\n",
    "cmd_mk = 'mkdir %s' % config.dir_model\n",
    "res = subprocess.call(cmd_mk.split())\n",
    "\n",
    "log_df = pd.DataFrame(columns=pd.MultiIndex.from_tuples(\n",
    "                    list(zip(*[['','','','TRAIN:','VALID:','TEST:','SPEC:', '', '', 'HIER:', ''],\n",
    "                            ['Time','Ep','Ct','PPL','PPL', 'PPL','1', '2', '3', 'CHILD', 'OTHER']]))))\n",
    "\n",
    "def update_checkpoint(config, checkpoint, epoch):\n",
    "    checkpoint.append(config.path_model + '-%i' % epoch)\n",
    "    if len(checkpoint) > config.max_to_keep:\n",
    "        path_model = checkpoint.pop(0)\n",
    "        for p in glob.glob(path_model):\n",
    "            os.remove(p)\n",
    "    cPickle.dump(checkpoint, open(config.path_checkpoint, 'wb'))"
   ]
  },
  {
   "cell_type": "markdown",
   "metadata": {},
   "source": [
    "## initialize data"
   ]
  },
  {
   "cell_type": "code",
   "execution_count": null,
   "metadata": {},
   "outputs": [
    {
     "name": "stdout",
     "output_type": "stream",
     "text": [
      "0 10000 20000 30000 0 0 "
     ]
    }
   ],
   "source": [
    "topic_root = Topic(idx='0', sibling_idx=0, parent=None, depth=0, config=config)\n",
    "train_docs = get_docs(instances_train, config)\n",
    "dev_docs = get_docs(instances_dev, config)\n",
    "test_docs = get_docs(instances_test, config)\n",
    "init(train_docs, dev_docs, test_docs, topic_root)"
   ]
  },
  {
   "cell_type": "markdown",
   "metadata": {},
   "source": [
    "## run"
   ]
  },
  {
   "cell_type": "code",
   "execution_count": null,
   "metadata": {
    "scrolled": false
   },
   "outputs": [
    {
     "data": {
      "text/html": [
       "<div>\n",
       "<style scoped>\n",
       "    .dataframe tbody tr th:only-of-type {\n",
       "        vertical-align: middle;\n",
       "    }\n",
       "\n",
       "    .dataframe tbody tr th {\n",
       "        vertical-align: top;\n",
       "    }\n",
       "\n",
       "    .dataframe thead tr th {\n",
       "        text-align: left;\n",
       "    }\n",
       "</style>\n",
       "<table border=\"1\" class=\"dataframe\">\n",
       "  <thead>\n",
       "    <tr>\n",
       "      <th></th>\n",
       "      <th colspan=\"3\" halign=\"left\"></th>\n",
       "      <th>TRAIN:</th>\n",
       "      <th>VALID:</th>\n",
       "      <th>TEST:</th>\n",
       "      <th>SPEC:</th>\n",
       "      <th colspan=\"2\" halign=\"left\"></th>\n",
       "      <th>HIER:</th>\n",
       "      <th></th>\n",
       "    </tr>\n",
       "    <tr>\n",
       "      <th></th>\n",
       "      <th>Time</th>\n",
       "      <th>Ep</th>\n",
       "      <th>Ct</th>\n",
       "      <th>PPL</th>\n",
       "      <th>PPL</th>\n",
       "      <th>PPL</th>\n",
       "      <th>1</th>\n",
       "      <th>2</th>\n",
       "      <th>3</th>\n",
       "      <th>CHILD</th>\n",
       "      <th>OTHER</th>\n",
       "    </tr>\n",
       "  </thead>\n",
       "  <tbody>\n",
       "    <tr>\n",
       "      <th>0</th>\n",
       "      <td>189</td>\n",
       "      <td>0</td>\n",
       "      <td>0</td>\n",
       "      <td>366</td>\n",
       "      <td>347</td>\n",
       "      <td>348</td>\n",
       "      <td>0.09</td>\n",
       "      <td>0.52</td>\n",
       "      <td>0.65</td>\n",
       "      <td>0.48</td>\n",
       "      <td>0.30</td>\n",
       "    </tr>\n",
       "    <tr>\n",
       "      <th>1</th>\n",
       "      <td>232</td>\n",
       "      <td>1</td>\n",
       "      <td>0</td>\n",
       "      <td>328</td>\n",
       "      <td>320</td>\n",
       "      <td>323</td>\n",
       "      <td>0.10</td>\n",
       "      <td>0.53</td>\n",
       "      <td>0.68</td>\n",
       "      <td>0.45</td>\n",
       "      <td>0.26</td>\n",
       "    </tr>\n",
       "    <tr>\n",
       "      <th>2</th>\n",
       "      <td>272</td>\n",
       "      <td>2</td>\n",
       "      <td>0</td>\n",
       "      <td>316</td>\n",
       "      <td>313</td>\n",
       "      <td>313</td>\n",
       "      <td>0.10</td>\n",
       "      <td>0.52</td>\n",
       "      <td>0.69</td>\n",
       "      <td>0.44</td>\n",
       "      <td>0.27</td>\n",
       "    </tr>\n",
       "    <tr>\n",
       "      <th>3</th>\n",
       "      <td>276</td>\n",
       "      <td>3</td>\n",
       "      <td>0</td>\n",
       "      <td>314</td>\n",
       "      <td>313</td>\n",
       "      <td>313</td>\n",
       "      <td>0.10</td>\n",
       "      <td>0.52</td>\n",
       "      <td>0.68</td>\n",
       "      <td>0.36</td>\n",
       "      <td>0.23</td>\n",
       "    </tr>\n",
       "    <tr>\n",
       "      <th>4</th>\n",
       "      <td>298</td>\n",
       "      <td>4</td>\n",
       "      <td>0</td>\n",
       "      <td>314</td>\n",
       "      <td>315</td>\n",
       "      <td>313</td>\n",
       "      <td>0.10</td>\n",
       "      <td>0.54</td>\n",
       "      <td>0.66</td>\n",
       "      <td>0.39</td>\n",
       "      <td>0.28</td>\n",
       "    </tr>\n",
       "    <tr>\n",
       "      <th>5</th>\n",
       "      <td>324</td>\n",
       "      <td>5</td>\n",
       "      <td>0</td>\n",
       "      <td>307</td>\n",
       "      <td>310</td>\n",
       "      <td>308</td>\n",
       "      <td>0.10</td>\n",
       "      <td>0.56</td>\n",
       "      <td>0.65</td>\n",
       "      <td>0.36</td>\n",
       "      <td>0.27</td>\n",
       "    </tr>\n",
       "  </tbody>\n",
       "</table>\n",
       "</div>"
      ],
      "text/plain": [
       "             TRAIN: VALID: TEST: SPEC:             HIER:      \n",
       "  Time Ep Ct    PPL    PPL   PPL     1     2     3 CHILD OTHER\n",
       "0  189  0  0    366    347   348  0.09  0.52  0.65  0.48  0.30\n",
       "1  232  1  0    328    320   323  0.10  0.53  0.68  0.45  0.26\n",
       "2  272  2  0    316    313   313  0.10  0.52  0.69  0.44  0.27\n",
       "3  276  3  0    314    313   313  0.10  0.52  0.68  0.36  0.23\n",
       "4  298  4  0    314    315   313  0.10  0.54  0.66  0.39  0.28\n",
       "5  324  5  0    307    310   308  0.10  0.56  0.65  0.36  0.27"
      ]
     },
     "metadata": {},
     "output_type": "display_data"
    },
    {
     "name": "stdout",
     "output_type": "stream",
     "text": [
      " 0 31943 284493.0 ! nice bought price love quality made perfect perfectly -\n",
      "   0-1 2325 17232.0 ! color love cover pro mac keyboard perfectly apple recommend\n",
      "     0-1-1 19 15.0 charge tab tend clip regret decided thing bad weight holds\n",
      "     0-1-2 150 123.0 protector working receive screen problems check slides keyboard save matte\n",
      "     0-1-3 15 9.0 netbook worn recommended expecting -inch print speck neoprene gorgeous flash\n",
      "     0-1-4 57 45.0 gray im lose feeling arrived built day refund soft happened\n",
      "     0-1-5 2084 2840.0 cover keyboard pink mcover blue perfectly protector apple seller colors\n",
      "   0-2 1571 13392.0 carry pockets travel room work plenty compartments back comfortable pack\n",
      "     0-2-1 256 309.0 seat paperwork basis year husband highly cards external friendly roll\n",
      "     0-2-2 15 18.0 advertised supposed helps main files forward folders smoothly luggage keeping\n",
      "     0-2-3 1299 2000.0 camera lens lenses equipment canon gear flash tripod traveling batteries\n",
      "     0-2-4 1 5.0 portable box area file replaced fingerprints finish fitting fix flap\n",
      "   0-3 2295 15954.0 sleeve pocket netbook ipad protection power inch mouse charger room\n",
      "     0-3-1 18 19.0 scratches dropping packaging ample edge minor offer dell investment constantly\n",
      "     0-3-2 399 589.0 inch laptops inches toshiba fitting retina dimensions vaio ultrabook tight\n",
      "     0-3-3 284 715.0 usb power adapter drive cord external drives surface flash pouch\n",
      "     0-3-4 1594 2063.0 cord drive cable external usb battery power pocket samsung perfectly\n",
      "   0-4 815 7472.0 bottom cover top months corners cracked part piece color speck\n",
      "     0-4-1 358 449.0 refund seller clear properly corner contacted mail immediately difficult area\n",
      "     0-4-2 115 182.0 keyboard cover typing mine dirt break year key feeling keys\n",
      "     0-4-3 340 400.0 cracks fell breaking excited speck falling places dropped purchasing cracked\n",
      "     0-4-4 2 2.0 purchased zips finally flexible flaw flat flash flap fix fitting\n",
      "   0-5 3938 25216.0 ! carry 've bought quality books years amazon school year\n",
      "     0-5-1 219 478.0 service customer return received order item contacted website refund -inch\n",
      "     0-5-2 293 375.0 delivered money returned damaged condition double compartment broken zipper swiss\n",
      "     0-5-3 2857 3358.0 gear swiss school camera years christmas gift college ripped loved\n",
      "     0-5-4 569 590.0 worth fair wait ... cost poor options world high broken\n",
      "   0-6 365 3053.0 cards player sd memory dvd card slots plastic portable camera\n",
      "     0-6-1 244 372.0 camera usb flash lens lenses canon card power needed batteries\n",
      "     0-6-2 121 125.0 dvd drive tiny year son strap install player trips long\n",
      "   0-7 971 9360.0 zipper strap handle months broke straps shoulder zippers started weeks\n",
      "     0-7-1 269 422.0 wheels edge extended briefcase mobile ripped - years warranty 'll\n",
      "     0-7-2 436 672.0 strap shoulder binder customer service ground began ripped finally targus\n",
      "     0-7-3 266 368.0 camera stuck equipment pulls end canon day zippers walking zipper\n",
      "   0-8 3815 27944.0 cover color mac bottom pro air apple scratches hard plastic\n",
      "     0-8-1 141 141.0 desk expensive realized lined tabs adding break offers portion :\n",
      "     0-8-2 165 494.0 keyboard protector screen keys cover typing type problem package match\n",
      "     0-8-3 2888 4703.0 cover keyboard retina clear rubberized hard mbp kuzy screen protector\n",
      "     0-8-4 387 377.0 seller service lining fell pictured tabs brown vibrant received month\n",
      "     0-8-5 234 265.0 put doesnt drop chemical foam dimensions worth lid cushion crack\n",
      "   0-9 767 8834.0 pockets compartment carry pocket pack small straps compartments strap hold\n",
      "     0-9-1 11 20.0 roller lug super started ac lenses multiple support feeling tabs\n",
      "     0-9-2 638 1214.0 camera lenses flash lens tripod gear body accessories equipment external\n",
      "     0-9-3 118 181.0 carry-on strap larger change part designed supplies comments overnight mobile\n",
      "   0-10 8860 63716.0 ; & sleeve pocket pockets strap carry zipper shoulder inside\n",
      "     0-10-1 457 991.0 power drive cord usb external cable plug adapter dvd drives\n",
      "     0-10-2 2655 4606.0 shoulder straps front pocket strap pockets power velcro cord flap\n",
      "     0-10-3 3446 4848.0 ; sleeve & neoprene inch chromebook retina air dimensions samsung\n",
      "     0-10-4 1124 1442.0 compartments pink red feels size tons years heavy swissgear padding\n",
      "     0-10-5 1178 1647.0 handle drive strap seams beautiful compartment charger padded velcro airport\n",
      "   0-11 4491 28497.0 cover sleeve ! 've keyboard bottom pro mac hard tablet\n",
      "     0-11-1 445 1405.0 drive usb hard port cable power netbook ports card toshiba\n",
      "     0-11-2 692 1375.0 camera lenses battery canon netbook lens keyboard life cover heat\n",
      "     0-11-3 2147 3890.0 cover keyboard screen protector seller return keys type mcover refund\n",
      "     0-11-4 1207 1770.0 mbp air close scratches closure velcro clean cheap hard bother\n",
      "   0-12 1644 12350.0 pockets compartment zipper pack strap straps pocket 've compartments water\n",
      "     0-12-1 500 1097.0 drive usb orange drives external cable power vaio swiss customer\n",
      "     0-12-2 442 1536.0 camera lenses lens canon equipment tripod flash body gear photo\n",
      "     0-12-3 675 1268.0 feature middle airports comfort binders airport break year swiss wearing\n",
      "     0-12-4 27 84.0 + problem close wonderful -- due annoying exterior business internal\n",
      "   0-13 86 707.0 -- : small / update provided ; mouse box arrived\n",
      "     0-13-1 86 284.0 drive cable receive external / usb chromebook port lid son\n",
      "0 10000 20000 30000 0 0 "
     ]
    }
   ],
   "source": [
    "time_start = time.time()\n",
    "while epoch < config.n_epochs:\n",
    "    sample(train_docs, dev_docs, test_docs, topic_root)\n",
    "    ppl_train = get_perplexity(train_docs, topic_root)\n",
    "    ppl_dev = get_perplexity(dev_docs, topic_root)\n",
    "    \n",
    "    if ppl_dev < ppl_min:\n",
    "        ppl_min = ppl_dev\n",
    "        ppl_test = get_perplexity(test_docs, topic_root)\n",
    "        cPickle.dump([test_docs, topic_root], open(config.path_model + '-%i'%epoch, 'wb'))\n",
    "        update_checkpoint(config, checkpoint, epoch)\n",
    "        \n",
    "    depth_spec = get_topic_specialization(test_docs, topic_root)\n",
    "    hierarchical_affinities = get_hierarchical_affinities(topic_root)\n",
    "    \n",
    "    clear_output()\n",
    "    time_log = int(time.time() - time_start)\n",
    "    time_start = time.time()\n",
    "    log_series = pd.Series([time_log, epoch, 0, \\\n",
    "            '%.0f'%ppl_train, '%.0f'%ppl_dev, '%.0f'%ppl_test, \\\n",
    "            '%.2f'%depth_spec[1], '%.2f'%depth_spec[2], '%.2f'%depth_spec[3], \\\n",
    "            '%.2f'%hierarchical_affinities[0], '%.2f'%hierarchical_affinities[1]],\n",
    "            index=log_df.columns)\n",
    "    log_df.loc[epoch] = log_series    \n",
    "    display(log_df)\n",
    "    get_freq_tokens_ncrp(topic_root, idx_to_word, bow_idxs)\n",
    "    \n",
    "    cPickle.dump(log_df, open(config.path_log, 'wb'))\n",
    "    epoch += 1"
   ]
  }
 ],
 "metadata": {
  "kernelspec": {
   "display_name": "py36",
   "language": "python",
   "name": "py36"
  },
  "language_info": {
   "codemirror_mode": {
    "name": "ipython",
    "version": 3
   },
   "file_extension": ".py",
   "mimetype": "text/x-python",
   "name": "python",
   "nbconvert_exporter": "python",
   "pygments_lexer": "ipython3",
   "version": "3.6.9"
  },
  "toc": {
   "base_numbering": 1,
   "nav_menu": {},
   "number_sections": true,
   "sideBar": true,
   "skip_h1_title": false,
   "title_cell": "Table of Contents",
   "title_sidebar": "Contents",
   "toc_cell": false,
   "toc_position": {},
   "toc_section_display": true,
   "toc_window_display": false
  }
 },
 "nbformat": 4,
 "nbformat_minor": 2
}
