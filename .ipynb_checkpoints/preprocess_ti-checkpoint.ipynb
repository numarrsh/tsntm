{
 "cells": [
  {
   "cell_type": "code",
   "execution_count": 5,
   "metadata": {},
   "outputs": [],
   "source": [
    "import os\n",
    "import re\n",
    "import _pickle as cPickle\n",
    "from collections import OrderedDict, defaultdict, Counter\n",
    "import argparse\n",
    "\n",
    "import numpy as np\n",
    "import pandas as pd"
   ]
  },
  {
   "cell_type": "markdown",
   "metadata": {},
   "source": [
    "# configure"
   ]
  },
  {
   "cell_type": "code",
   "execution_count": 7,
   "metadata": {},
   "outputs": [],
   "source": [
    "parser = argparse.ArgumentParser()\n",
    "parser.add_argument('-data_path', type=str, default='data/ti/df_pair_label_6F.pickle')\n",
    "parser.add_argument('-output_path', type=str, default='data/ti/instances.pkl')\n",
    "\n",
    "config = parser.parse_args('')"
   ]
  },
  {
   "cell_type": "markdown",
   "metadata": {},
   "source": [
    "# load source"
   ]
  },
  {
   "cell_type": "code",
   "execution_count": 82,
   "metadata": {},
   "outputs": [],
   "source": [
    "def prepare_instances(bows):\n",
    "    instances = []\n",
    "    for idx_bow, bow in enumerate(bows):\n",
    "        instance = Instance()\n",
    "        instance.idx = idx_bow\n",
    "        instance.bow = bow\n",
    "        instances.append(instance)\n",
    "    return instances"
   ]
  },
  {
   "cell_type": "code",
   "execution_count": 11,
   "metadata": {},
   "outputs": [],
   "source": [
    "data_df = pd.read_pickle(config.data_path)"
   ]
  },
  {
   "cell_type": "code",
   "execution_count": 64,
   "metadata": {},
   "outputs": [],
   "source": [
    "use_df = data_df[~data_df.duplicated(subset='use')]\n",
    "word_to_idx = {use: idx for idx, use in enumerate(use_df.use)}\n",
    "idx_to_word = {idx: use for use, idx in word_to_idx.items()}\n",
    "embeddings = np.array(use_df.vector.values.tolist())"
   ]
  },
  {
   "cell_type": "code",
   "execution_count": 81,
   "metadata": {},
   "outputs": [],
   "source": [
    "category_df = data_df.groupby('category').agg({\n",
    "    'use': lambda use_series: Counter(use_series)\n",
    "})\n",
    "instances_df = category_df.use.apply(lambda use_cnt: np.array([use_cnt[use] if use in use_cnt else 0 for _, use in idx_to_word.items()]))\n",
    "bows = np.array(instances_df.values.tolist())\n",
    "categories = instances_df.index\n",
    "instances = prepare_instances(bows)"
   ]
  },
  {
   "cell_type": "markdown",
   "metadata": {},
   "source": [
    "# write out"
   ]
  },
  {
   "cell_type": "code",
   "execution_count": 85,
   "metadata": {},
   "outputs": [
    {
     "name": "stdout",
     "output_type": "stream",
     "text": [
      "saving preprocessed instances...\n"
     ]
    }
   ],
   "source": [
    "print('saving preprocessed instances...')\n",
    "cPickle.dump((instances, categories, word_to_idx, idx_to_word, embeddings), open(config.output_path, 'wb'))"
   ]
  }
 ],
 "metadata": {
  "kernelspec": {
   "display_name": "pd1",
   "language": "python",
   "name": "pd1"
  },
  "language_info": {
   "codemirror_mode": {
    "name": "ipython",
    "version": 3
   },
   "file_extension": ".py",
   "mimetype": "text/x-python",
   "name": "python",
   "nbconvert_exporter": "python",
   "pygments_lexer": "ipython3",
   "version": "3.6.12"
  },
  "toc": {
   "base_numbering": 1,
   "nav_menu": {},
   "number_sections": true,
   "sideBar": true,
   "skip_h1_title": false,
   "title_cell": "Table of Contents",
   "title_sidebar": "Contents",
   "toc_cell": false,
   "toc_position": {},
   "toc_section_display": true,
   "toc_window_display": false
  }
 },
 "nbformat": 4,
 "nbformat_minor": 2
}
