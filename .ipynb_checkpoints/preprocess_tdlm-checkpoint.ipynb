{
 "cells": [
  {
   "cell_type": "code",
   "execution_count": 120,
   "metadata": {},
   "outputs": [],
   "source": [
    "import os\n",
    "import numpy as np\n",
    "import pandas as pd\n",
    "\n",
    "import _pickle as cPickle\n",
    "from collections import OrderedDict, defaultdict\n",
    "from nltk import word_tokenize\n",
    "\n",
    "import tensorflow as tf\n",
    "from sklearn.feature_extraction.text import TfidfVectorizer\n",
    "import re\n",
    "\n",
    "from data_structure import Instance"
   ]
  },
  {
   "cell_type": "markdown",
   "metadata": {},
   "source": [
    "# configure"
   ]
  },
  {
   "cell_type": "code",
   "execution_count": 196,
   "metadata": {},
   "outputs": [],
   "source": [
    "def del_all_flags(FLAGS):\n",
    "    flags_dict = FLAGS._flags()    \n",
    "    keys_list = [keys for keys in flags_dict]    \n",
    "    for keys in keys_list:\n",
    "        FLAGS.__delattr__(keys)\n",
    "\n",
    "del_all_flags(tf.flags.FLAGS)\n",
    "\n",
    "flags = tf.app.flags\n",
    "\n",
    "flags.DEFINE_string('train_path', 'data/apnews/apnews50k_train.txt', 'path of output data')\n",
    "flags.DEFINE_string('valid_path', 'data/apnews/apnews50k_valid.txt', 'path of input data')\n",
    "flags.DEFINE_string('test_path', 'data/apnews/apnews50k_test.txt', 'path of input data')\n",
    "\n",
    "flags.DEFINE_string('stopwords_path', 'data/stopwords_mallet.txt', 'path of input data')\n",
    "\n",
    "flags.DEFINE_string('output_path', 'data/apnews/instances.pkl', 'path of output data')\n",
    "\n",
    "flags.DEFINE_integer('n_vocab', 50000, 'size of vocab')\n",
    "\n",
    "flags.DEFINE_string('f', '', 'kernel')\n",
    "\n",
    "config = flags.FLAGS"
   ]
  },
  {
   "cell_type": "code",
   "execution_count": 29,
   "metadata": {},
   "outputs": [],
   "source": [
    "# special tokens\n",
    "PAD = '<pad>' # This has a vocab id, which is used to pad the encoder input, decoder input and target sequence\n",
    "UNK = '<unk>' # This has a vocab id, which is used to represent out-of-vocabulary words\n",
    "BOS = '<p>' # This has a vocab id, which is used at the beginning of every decoder input sequence\n",
    "EOS = '</p>' # This has a vocab id, which is used at the end of untruncated target sequences"
   ]
  },
  {
   "cell_type": "markdown",
   "metadata": {},
   "source": [
    "# load source"
   ]
  },
  {
   "cell_type": "code",
   "execution_count": 156,
   "metadata": {},
   "outputs": [],
   "source": [
    "def get_df(data_path):\n",
    "    data_dict = {}\n",
    "    with open(data_path, 'r') as f:\n",
    "        txt = f.readlines()\n",
    "        tokens_list = []\n",
    "        doc_list = []\n",
    "        for doc in txt:\n",
    "            doc = re.sub(r'-', ' ', doc)\n",
    "            doc = re.sub(r'[0-9]+.[0-9]+|[0-9]+,[0-9]+|[0-9]+', '<num>', doc)\n",
    "            lines = doc.split('\\t')\n",
    "            doc = ' '.join(lines)\n",
    "            doc_list.append(doc)\n",
    "            tokens = [word_tokenize(line)[:-1] for line in lines]\n",
    "            tokens_list.append(tokens)\n",
    "            doc_l = len(tokens)\n",
    "            max_sent_l = max([len(line) for line in tokens])\n",
    "        data_dict['doc'] = doc_list\n",
    "        data_dict['tokens'] = tokens_list\n",
    "        data_dict['doc_l'] = doc_l\n",
    "        data_dict['max_sent_l'] = max_sent_l\n",
    "    data_df = pd.DataFrame(data_dict)\n",
    "    return data_df"
   ]
  },
  {
   "cell_type": "code",
   "execution_count": 157,
   "metadata": {},
   "outputs": [],
   "source": [
    "train_df = get_df(config.train_path)\n",
    "valid_df = get_df(config.valid_path)\n",
    "test_df = get_df(config.test_path)"
   ]
  },
  {
   "cell_type": "code",
   "execution_count": 158,
   "metadata": {},
   "outputs": [
    {
     "data": {
      "text/plain": [
       "(50000, 2000, 2000)"
      ]
     },
     "execution_count": 158,
     "metadata": {},
     "output_type": "execute_result"
    }
   ],
   "source": [
    "len(train_df), len(valid_df), len(test_df)"
   ]
  },
  {
   "cell_type": "markdown",
   "metadata": {},
   "source": [
    "# build vocab for language modeling "
   ]
  },
  {
   "cell_type": "code",
   "execution_count": 166,
   "metadata": {},
   "outputs": [],
   "source": [
    "def get_lm_word_cnt_dict(train_df, min_tf):\n",
    "    # create vocab of words\n",
    "    word_cnt_dict = defaultdict(int)\n",
    "    word_cnt_dict['.'] = np.inf\n",
    "    word_cnt_dict[EOS] = np.inf\n",
    "    word_cnt_dict[BOS] = np.inf\n",
    "    word_cnt_dict[UNK] = np.inf\n",
    "    word_cnt_dict[PAD] = np.inf\n",
    "    \n",
    "    tokens_list = []\n",
    "    for doc in train_df.tokens:\n",
    "        tokens_list.extend(doc)\n",
    "    \n",
    "    for tokens in tokens_list:\n",
    "        for word in tokens:\n",
    "            word_cnt_dict[word] += 1\n",
    "    word_cnt_dict = sorted(word_cnt_dict.items(), key=lambda x: x[1])[::-1]\n",
    "    \n",
    "    lm_word_cnt_dict = list(filter(lambda x: x[1] > min_tf, word_cnt_dict))\n",
    "    return lm_word_cnt_dict"
   ]
  },
  {
   "cell_type": "code",
   "execution_count": 167,
   "metadata": {},
   "outputs": [
    {
     "name": "stdout",
     "output_type": "stream",
     "text": [
      "29662\n"
     ]
    }
   ],
   "source": [
    "lm_word_cnt_dict = get_lm_word_cnt_dict(train_df, min_tf=10)\n",
    "print(len(lm_word_cnt_dict))"
   ]
  },
  {
   "cell_type": "code",
   "execution_count": 177,
   "metadata": {},
   "outputs": [],
   "source": [
    "idx_to_word = {idx: word for idx, (word, cnt) in enumerate(lm_word_cnt_dict)}\n",
    "word_to_idx = {word: idx for idx, word in idx_to_word.items()}"
   ]
  },
  {
   "cell_type": "markdown",
   "metadata": {},
   "source": [
    "# build bow vector"
   ]
  },
  {
   "cell_type": "code",
   "execution_count": 159,
   "metadata": {},
   "outputs": [],
   "source": [
    "with open(config.stopwords_path, 'r') as f:\n",
    "    stop_words = [w.replace('\\n', '') for w in f.readlines()]"
   ]
  },
  {
   "cell_type": "code",
   "execution_count": 169,
   "metadata": {},
   "outputs": [
    {
     "name": "stdout",
     "output_type": "stream",
     "text": [
      "6770\n"
     ]
    }
   ],
   "source": [
    "vectorizer = TfidfVectorizer(min_df=100, max_df=1.0, stop_words=stop_words, tokenizer=word_tokenize, norm='l1', use_idf=False, smooth_idf=False, dtype=np.float32)\n",
    "corpus = list(train_df.doc)\n",
    "bow_list = vectorizer.fit_transform(corpus)\n",
    "bow_features = vectorizer.get_feature_names()\n",
    "print(len(bow_features))\n",
    "assert len(train_df) == len(bow_list.toarray())\n",
    "assert all([word in word_to_idx for word in bow_features])"
   ]
  },
  {
   "cell_type": "markdown",
   "metadata": {},
   "source": [
    "# write out"
   ]
  },
  {
   "cell_type": "code",
   "execution_count": 194,
   "metadata": {},
   "outputs": [],
   "source": [
    "def prepare_instances(data_df, word_to_idx, bow_list=None):\n",
    "    instances = []\n",
    "    if bow_list is not None: bows = bow_list.toarray()\n",
    "    for idx_doc, doc in data_df.iterrows():\n",
    "        instance = Instance()\n",
    "        instance.idx = idx_doc\n",
    "        doc_token_idxs = []\n",
    "        for sent_tokens in doc.tokens:\n",
    "            sent_token_idxs = [word_to_idx[token] if token in word_to_idx else word_to_idx[UNK] for token in sent_tokens]\n",
    "            doc_token_idxs.append(sent_token_idxs)            \n",
    "        instance.token_idxs = doc_token_idxs\n",
    "        instance.doc_l = doc.doc_l\n",
    "        instance.max_sent_l = doc.max_sent_l\n",
    "        if bow_list is not None: instance.bow = bows[idx_doc]\n",
    "        instances.append(instance)\n",
    "    return instances"
   ]
  },
  {
   "cell_type": "code",
   "execution_count": 195,
   "metadata": {},
   "outputs": [],
   "source": [
    "instances_train = prepare_instances(train_df, word_to_idx, bow_list=bow_list)\n",
    "instances_valid = prepare_instances(valid_df, word_to_idx)\n",
    "instances_test = prepare_instances(test_df, word_to_idx)"
   ]
  },
  {
   "cell_type": "code",
   "execution_count": 198,
   "metadata": {},
   "outputs": [
    {
     "name": "stdout",
     "output_type": "stream",
     "text": [
      "saving preprocessed instances...\n"
     ]
    }
   ],
   "source": [
    "print('saving preprocessed instances...')\n",
    "cPickle.dump((instances_train, instances_valid, instances_test, word_to_idx, idx_to_word, bow_features),open(config.output_path,'wb'))"
   ]
  },
  {
   "cell_type": "code",
   "execution_count": null,
   "metadata": {},
   "outputs": [],
   "source": []
  }
 ],
 "metadata": {
  "kernelspec": {
   "display_name": "py36",
   "language": "python",
   "name": "py36"
  },
  "language_info": {
   "codemirror_mode": {
    "name": "ipython",
    "version": 3
   },
   "file_extension": ".py",
   "mimetype": "text/x-python",
   "name": "python",
   "nbconvert_exporter": "python",
   "pygments_lexer": "ipython3",
   "version": "3.6.9"
  },
  "toc": {
   "base_numbering": 1,
   "nav_menu": {},
   "number_sections": true,
   "sideBar": true,
   "skip_h1_title": false,
   "title_cell": "Table of Contents",
   "title_sidebar": "Contents",
   "toc_cell": false,
   "toc_position": {},
   "toc_section_display": true,
   "toc_window_display": false
  }
 },
 "nbformat": 4,
 "nbformat_minor": 2
}
