{
 "cells": [
  {
   "cell_type": "code",
   "execution_count": 1,
   "metadata": {},
   "outputs": [],
   "source": [
    "%load_ext autoreload\n",
    "%autoreload\n",
    "from IPython.display import clear_output\n",
    "\n",
    "import os\n",
    "# os.environ['TF_CPP_MIN_LOG_LEVEL'] = '2' \n",
    "import sys\n",
    "import pdb\n",
    "import time\n",
    "import datetime\n",
    "import math\n",
    "import random\n",
    "import _pickle as cPickle\n",
    "from collections import defaultdict\n",
    "\n",
    "from six.moves import zip_longest\n",
    "import numpy as np\n",
    "\n",
    "import tensorflow as tf\n",
    "from tensorflow import distributions as tfd\n",
    "from tensorflow.keras.preprocessing.sequence import pad_sequences\n",
    "\n",
    "from data_structure import get_batches\n",
    "from components import tf_log, sample_latents, compute_kl_loss, dynamic_rnn, dynamic_bi_rnn\n",
    "from topic_model import TopicModel\n",
    "\n"
   ]
  },
  {
   "cell_type": "code",
   "execution_count": 2,
   "metadata": {},
   "outputs": [],
   "source": [
    "PAD = '<pad>' # This has a vocab id, which is used to pad the encoder input, decoder input and target sequence\n",
    "UNK = '<unk>' # This has a vocab id, which is used to represent out-of-vocabulary words\n",
    "BOS = '<p>' # This has a vocab id, which is used at the beginning of every decoder input sequence\n",
    "EOS = '</p>' # This has a vocab id, which is used at the end of untruncated target sequences"
   ]
  },
  {
   "cell_type": "markdown",
   "metadata": {},
   "source": [
    "# load data & set config"
   ]
  },
  {
   "cell_type": "code",
   "execution_count": 6,
   "metadata": {
    "code_folding": [
     0
    ]
   },
   "outputs": [],
   "source": [
    "def del_all_flags(FLAGS):\n",
    "    flags_dict = FLAGS._flags()    \n",
    "    keys_list = [keys for keys in flags_dict]    \n",
    "    for keys in keys_list:\n",
    "        FLAGS.__delattr__(keys)\n",
    "\n",
    "del_all_flags(tf.flags.FLAGS)\n",
    "\n",
    "flags = tf.app.flags\n",
    "\n",
    "flags.DEFINE_string('gpu', '1', 'visible gpu')\n",
    "\n",
    "flags.DEFINE_string('mode', 'train', 'set train or eval')\n",
    "\n",
    "flags.DEFINE_string('data_path', 'data/apnews/instances.pkl', 'path of data')\n",
    "flags.DEFINE_string('modeldir', 'model', 'directory of model')\n",
    "flags.DEFINE_string('modelname', 'sports', 'name of model')\n",
    "\n",
    "flags.DEFINE_integer('epochs', 1000, 'epochs')\n",
    "flags.DEFINE_integer('batch_size', 128, 'number of sentences in each batch')\n",
    "flags.DEFINE_integer('log_period', 500, 'valid period')\n",
    "\n",
    "flags.DEFINE_string('opt', 'Adagrad', 'optimizer')\n",
    "flags.DEFINE_float('lr', 0.1, 'lr')\n",
    "flags.DEFINE_float('reg', 0.1, 'regularization term')\n",
    "flags.DEFINE_float('beta', 0.0, 'initial value of beta')\n",
    "flags.DEFINE_float('grad_clip', 5., 'grad_clip')\n",
    "\n",
    "flags.DEFINE_float('keep_prob', 0.8, 'dropout rate')\n",
    "flags.DEFINE_float('word_keep_prob', 0.75, 'word dropout rate')\n",
    "\n",
    "flags.DEFINE_integer('warmup', 10, 'warmup period for KL')\n",
    "flags.DEFINE_integer('warmup_topic', 0, 'warmup period for KL of topic')\n",
    "\n",
    "flags.DEFINE_integer('beam_width', 2, 'beam_width')\n",
    "flags.DEFINE_float('length_penalty_weight', 0.0, 'length_penalty_weight')\n",
    "\n",
    "flags.DEFINE_integer('n_topic', 10, 'number of topic')\n",
    "flags.DEFINE_integer('dim_hidden_bow', 256, 'dim of hidden bow')\n",
    "flags.DEFINE_integer('dim_latent_topic', 32, 'dim of latent topic')\n",
    "flags.DEFINE_integer('dim_emb', 256, 'dim_emb')\n",
    "flags.DEFINE_integer('dim_hidden', 512, 'dim_hidden')\n",
    "flags.DEFINE_integer('dim_latent', 32, 'dim_latent')\n",
    "\n",
    "\n",
    "# for evaluation\n",
    "flags.DEFINE_string('refdir', 'ref', 'refdir')\n",
    "flags.DEFINE_string('outdir', 'out', 'outdir')\n",
    "\n",
    "flags.DEFINE_string('f', '', 'kernel')\n",
    "flags.DEFINE_bool('logtostderr', True, 'kernel')\n",
    "flags.DEFINE_bool('showprefixforinfo', False, '')\n",
    "flags.DEFINE_bool('verbosity', False, '')\n",
    "# flags.DEFINE_integer('stderrthreshold', 20, 'kernel')\n",
    "\n",
    "config = flags.FLAGS"
   ]
  },
  {
   "cell_type": "code",
   "execution_count": 7,
   "metadata": {},
   "outputs": [],
   "source": [
    "os.environ[\"CUDA_VISIBLE_DEVICES\"] = config.gpu"
   ]
  },
  {
   "cell_type": "code",
   "execution_count": 8,
   "metadata": {},
   "outputs": [],
   "source": [
    "instances_train, instances_dev, instances_test, word_to_idx, idx_to_word, bow_idxs = cPickle.load(open(config.data_path,'rb'))"
   ]
  },
  {
   "cell_type": "code",
   "execution_count": 9,
   "metadata": {},
   "outputs": [],
   "source": [
    "train_batches = get_batches(instances_train, config.batch_size)\n",
    "dev_batches = get_batches(instances_dev, config.batch_size)\n",
    "test_batches = get_batches(instances_test, config.batch_size)"
   ]
  },
  {
   "cell_type": "code",
   "execution_count": 10,
   "metadata": {},
   "outputs": [],
   "source": [
    "flags.DEFINE_integer('PAD_IDX', word_to_idx[PAD], 'PAD_IDX')\n",
    "flags.DEFINE_integer('UNK_IDX', word_to_idx[UNK], 'UNK_IDX')\n",
    "flags.DEFINE_integer('BOS_IDX', word_to_idx[BOS], 'BOS_IDX')\n",
    "flags.DEFINE_integer('EOS_IDX', word_to_idx[EOS], 'EOS_IDX')\n",
    "\n",
    "flags.DEFINE_integer('n_vocab', len(word_to_idx), 'n_vocab')\n",
    "flags.DEFINE_integer('dim_bow', len(bow_idxs), 'dim_bow')\n",
    "\n",
    "maximum_iterations = max([max([instance.max_sent_l for instance in batch]) for ct, batch in dev_batches])\n",
    "flags.DEFINE_integer('maximum_iterations', maximum_iterations, 'maximum_iterations')    "
   ]
  },
  {
   "cell_type": "markdown",
   "metadata": {},
   "source": [
    "# build language model "
   ]
  },
  {
   "cell_type": "markdown",
   "metadata": {},
   "source": [
    "## feed dict"
   ]
  },
  {
   "cell_type": "code",
   "execution_count": 31,
   "metadata": {},
   "outputs": [],
   "source": [
    "tf.reset_default_graph()\n",
    "\n",
    "t_variables = {}\n",
    "t_variables['bow'] = tf.placeholder(tf.float32, [None, config.dim_bow])\n",
    "t_variables['input_token_idxs'] = tf.placeholder(tf.int32, [None, None])\n",
    "t_variables['dec_input_idxs'] = tf.placeholder(tf.int32, [None, None])\n",
    "t_variables['dec_target_idxs'] = tf.placeholder(tf.int32, [None, None])\n",
    "t_variables['doc_l'] = tf.placeholder(tf.int32, [None])\n",
    "t_variables['sent_l'] = tf.placeholder(tf.int32, [None])\n",
    "t_variables['keep_prob'] = tf.placeholder(tf.float32)"
   ]
  },
  {
   "cell_type": "code",
   "execution_count": 32,
   "metadata": {},
   "outputs": [],
   "source": [
    "def get_feed_dict(batch, mode='train', assertion=False):\n",
    "    def token_dropout(sent_idxs):\n",
    "        sent_idxs_dropout = np.asarray(sent_idxs)\n",
    "        sent_idxs_dropout[np.random.rand(len(sent_idxs)) > config.word_keep_prob] = config.UNK_IDX\n",
    "        return list(sent_idxs_dropout)\n",
    "\n",
    "    bow = np.array([instance.bow for instance in batch]).astype(np.float32)\n",
    "    \n",
    "    doc_l = np.array([len(instance.token_idxs) for instance in batch])\n",
    "    \n",
    "    feed_input_token_idxs_list = [sent_idxs for instance in batch for sent_idxs in instance.token_idxs]\n",
    "    feed_dec_input_idxs_list = [[config.BOS_IDX] + token_dropout(sent_idxs) for sent_idxs in feed_input_token_idxs_list]\n",
    "    feed_dec_target_idxs_list = [sent_idxs + [config.EOS_IDX]  for sent_idxs in feed_input_token_idxs_list]\n",
    "        \n",
    "    sent_l = np.array([len(sent_idxs) for sent_idxs in feed_input_token_idxs_list], np.int32)\n",
    "    \n",
    "    feed_input_token_idxs = pad_sequences(feed_input_token_idxs_list, padding='post', value=config.PAD_IDX, dtype=np.int32)\n",
    "    feed_dec_input_idxs = pad_sequences(feed_dec_input_idxs_list, padding='post', value=config.PAD_IDX, dtype=np.int32)\n",
    "    feed_dec_target_idxs = pad_sequences(feed_dec_target_idxs_list, padding='post', value=config.PAD_IDX, dtype=np.int32)\n",
    "    \n",
    "    if assertion:\n",
    "        index = 0\n",
    "        for instance in batch:\n",
    "            for line_idxs in instance.token_idxs:\n",
    "                assert feed_input_token_idxs_list[index] == line_idxs\n",
    "                index += 1\n",
    "        assert feed_input_token_idxs.shape[1] == np.max(sent_l)\n",
    "        assert feed_dec_input_idxs.shape[1] == np.max(sent_l) + 1\n",
    "        assert feed_dec_target_idxs.shape[1] == np.max(sent_l) + 1\n",
    "    \n",
    "    keep_prob = config.keep_prob if mode == 'train' else 1.0\n",
    "\n",
    "    feed_dict = {\n",
    "                t_variables['bow']: bow, \n",
    "                t_variables['doc_l']: doc_l, t_variables['sent_l']: sent_l, \n",
    "                t_variables['input_token_idxs']: feed_input_token_idxs, t_variables['dec_input_idxs']: feed_dec_input_idxs, t_variables['dec_target_idxs']: feed_dec_target_idxs, \n",
    "                t_variables['keep_prob']: keep_prob\n",
    "    }\n",
    "    return  feed_dict"
   ]
  },
  {
   "cell_type": "code",
   "execution_count": 27,
   "metadata": {
    "code_folding": [
     0,
     18
    ]
   },
   "outputs": [],
   "source": [
    "def debug_shape(variables, sess_init=None):\n",
    "    if sess_init is None:\n",
    "        sess = tf.Session()\n",
    "        sess.run(tf.global_variables_initializer())\n",
    "    else:\n",
    "        sess = sess_init\n",
    "        \n",
    "    sample_batch = test_batches[0][1]\n",
    "    feed_dict = get_feed_dict(sample_batch)\n",
    "    _variables = sess.run(variables, feed_dict=feed_dict)\n",
    "    for _variable, variable in zip(_variables, variables):\n",
    "        if hasattr(variable, 'name'):\n",
    "            print(variable.name, ':', _variable.shape)\n",
    "        else:\n",
    "            print(_variable.shape)\n",
    "            \n",
    "    if sess_init is None: sess.close()\n",
    "\n",
    "def debug_value(variables, return_value=False, sess_init=None):\n",
    "    if sess_init is None:\n",
    "        sess = tf.Session()\n",
    "        sess.run(tf.global_variables_initializer())\n",
    "    else:\n",
    "        sess = sess_init\n",
    "\n",
    "    sample_batch = test_batches[0][1]\n",
    "    feed_dict = get_feed_dict(sample_batch)\n",
    "    _variables = sess.run(variables, feed_dict=feed_dict)\n",
    "\n",
    "    if return_value: \n",
    "        return _variables\n",
    "    else:\n",
    "        for _variable, variable in zip(_variables, variables):\n",
    "            if hasattr(variable, 'name'):\n",
    "                print(variable.name, ':', _variable)\n",
    "            else:\n",
    "                print(_variable)\n",
    "                \n",
    "    if sess_init is None: sess.close()"
   ]
  },
  {
   "cell_type": "markdown",
   "metadata": {},
   "source": [
    "## encoder"
   ]
  },
  {
   "cell_type": "code",
   "execution_count": 33,
   "metadata": {},
   "outputs": [],
   "source": [
    "# input\n",
    "input_token_idxs = t_variables['input_token_idxs']\n",
    "batch_l, max_sent_l = tf.shape(input_token_idxs)[0], tf.shape(input_token_idxs)[1]\n",
    "sent_l = t_variables['sent_l']\n",
    "\n",
    "with tf.variable_scope('shared', reuse=False):\n",
    "    embeddings = tf.get_variable('emb', [config.n_vocab, config.dim_emb], dtype=tf.float32, initializer=tf.contrib.layers.xavier_initializer()) # embeddings of vocab\n",
    "\n",
    "with tf.variable_scope('sent/enc', reuse=False):\n",
    "    # get word embedding\n",
    "    enc_input = tf.nn.embedding_lookup(embeddings, input_token_idxs)\n",
    "\n",
    "    # get sentence embedding\n",
    "    _, enc_state = dynamic_rnn(enc_input, sent_l, config.dim_hidden, t_variables['keep_prob'])\n",
    "\n",
    "    means_infer = tf.keras.layers.Dense(units=config.dim_latent)(enc_state)\n",
    "    logvars_infer = tf.keras.layers.Dense(units=config.dim_latent, kernel_initializer=tf.constant_initializer(0), bias_initializer=tf.constant_initializer(0))(enc_state)\n",
    "\n",
    "    # latent vector from gaussian mixture    \n",
    "    latents_input = sample_latents(means_infer, logvars_infer) "
   ]
  },
  {
   "cell_type": "code",
   "execution_count": 29,
   "metadata": {},
   "outputs": [
    {
     "name": "stdout",
     "output_type": "stream",
     "text": [
      "Placeholder_1:0 : (128, 39)\n",
      "sent/enc/rnn/while/Exit_3:0 : (128, 512)\n",
      "sent/enc/add:0 : (128, 32)\n"
     ]
    }
   ],
   "source": [
    "debug_shape([input_token_idxs, enc_state, latents_input])"
   ]
  },
  {
   "cell_type": "markdown",
   "metadata": {},
   "source": [
    "## decoder"
   ]
  },
  {
   "cell_type": "code",
   "execution_count": 37,
   "metadata": {},
   "outputs": [],
   "source": [
    "# prepare for decoding\n",
    "dec_sent_l = tf.add(sent_l, 1)\n",
    "dec_input_idxs = t_variables['dec_input_idxs']\n",
    "dec_input = tf.nn.embedding_lookup(embeddings, dec_input_idxs)\n",
    "\n",
    "dec_latents_input = tf.tile(tf.expand_dims(latents_input, 1), [1, tf.shape(dec_input)[1], 1])\n",
    "dec_concat_input = tf.concat([dec_input, dec_latents_input], -1)\n",
    "\n",
    "# decode for training\n",
    "with tf.variable_scope('sent/dec/rnn', initializer=tf.contrib.layers.xavier_initializer(), dtype = tf.float32, reuse=tf.AUTO_REUSE):\n",
    "    dec_cell = tf.contrib.rnn.GRUCell(config.dim_hidden)\n",
    "    dec_cell = tf.contrib.rnn.DropoutWrapper(dec_cell, output_keep_prob = t_variables['keep_prob'])\n",
    "\n",
    "    dec_initial_state = tf.layers.Dense(units=config.dim_hidden, activation=tf.nn.relu)(latents_input)\n",
    "    \n",
    "    helper = tf.contrib.seq2seq.TrainingHelper(inputs=dec_concat_input, sequence_length=dec_sent_l)\n",
    "\n",
    "    train_decoder = tf.contrib.seq2seq.BasicDecoder(\n",
    "        cell=dec_cell,\n",
    "        helper=helper,\n",
    "        initial_state=dec_initial_state)\n",
    "\n",
    "    dec_outputs, _, output_sent_l = tf.contrib.seq2seq.dynamic_decode(train_decoder)\n",
    "    \n",
    "    output_layer = tf.layers.Dense(config.n_vocab, use_bias=False, name='out')\n",
    "    output_logits = output_layer(dec_outputs.rnn_output)\n",
    "    \n",
    "    output_token_idxs = tf.argmax(output_logits, 2)"
   ]
  },
  {
   "cell_type": "code",
   "execution_count": 40,
   "metadata": {},
   "outputs": [
    {
     "name": "stdout",
     "output_type": "stream",
     "text": [
      "embedding_lookup_2/Identity:0 : (128, 40, 256)\n",
      "concat_1:0 : (128, 40, 288)\n",
      "sent/dec/rnn_1/dense/Relu:0 : (128, 512)\n",
      "sent/dec/rnn_1/ArgMax:0 : (128, 40)\n"
     ]
    }
   ],
   "source": [
    "debug_shape([dec_input, dec_concat_input, dec_initial_state, output_token_idxs])"
   ]
  },
  {
   "cell_type": "markdown",
   "metadata": {},
   "source": [
    "## language modeling cost"
   ]
  },
  {
   "cell_type": "code",
   "execution_count": 41,
   "metadata": {},
   "outputs": [],
   "source": [
    "# target and mask\n",
    "dec_target_idxs = t_variables['dec_target_idxs']\n",
    "dec_mask_tokens = tf.sequence_mask(dec_sent_l, maxlen=max_sent_l+1, dtype=tf.float32)\n",
    "\n",
    "# nll for each token (averaged over batch & sentence)\n",
    "sent_loss_recon = tf.contrib.seq2seq.sequence_loss(output_logits, dec_target_idxs, dec_mask_tokens)\n",
    "\n",
    "sent_loss_kl = compute_kl_loss(means_infer, logvars_infer) # KL divergence b/w latent dist & gaussian std"
   ]
  },
  {
   "cell_type": "code",
   "execution_count": 43,
   "metadata": {},
   "outputs": [
    {
     "name": "stdout",
     "output_type": "stream",
     "text": [
      "Mean:0 : ()\n"
     ]
    }
   ],
   "source": [
    "debug_shape([sent_loss_kl])"
   ]
  },
  {
   "cell_type": "markdown",
   "metadata": {},
   "source": [
    "## optimizer"
   ]
  },
  {
   "cell_type": "code",
   "execution_count": 44,
   "metadata": {},
   "outputs": [],
   "source": [
    "beta = tf.Variable(config.beta, name='beta', trainable=False) if config.warmup > 0 else tf.constant(1., name='beta')\n",
    "update_beta = tf.assign_add(beta, 1./(config.warmup*len(train_batches)))\n",
    "loss = sent_loss_recon + beta * sent_loss_kl\n",
    "\n",
    "# define optimizer\n",
    "if config.opt == 'Adam':\n",
    "    optimizer = tf.train.AdamOptimizer(config.lr)\n",
    "elif config.opt == 'Adagrad':\n",
    "    optimizer = tf.train.AdagradOptimizer(config.lr)\n",
    "    \n",
    "grad_vars = optimizer.compute_gradients(loss)\n",
    "clipped_grad_vars = [(tf.clip_by_value(grad, -config.grad_clip, config.grad_clip), var) for grad, var in grad_vars]\n",
    "\n",
    "opt = optimizer.apply_gradients(clipped_grad_vars)"
   ]
  },
  {
   "cell_type": "markdown",
   "metadata": {},
   "source": [
    "# run model "
   ]
  },
  {
   "cell_type": "code",
   "execution_count": 45,
   "metadata": {},
   "outputs": [],
   "source": [
    "def idxs_to_sents(token_idxs, config, idx_to_word):\n",
    "    sents = []\n",
    "    for sent_idxs in token_idxs:\n",
    "        tokens = []\n",
    "        for idx in sent_idxs:\n",
    "            if idx == config.EOS_IDX: break\n",
    "            tokens.append(idx_to_word[idx])\n",
    "        sent = ' '.join(tokens)\n",
    "        sents.append(sent)\n",
    "    return sents"
   ]
  },
  {
   "cell_type": "code",
   "execution_count": 46,
   "metadata": {},
   "outputs": [],
   "source": [
    "def get_loss(sess, batches):\n",
    "    losses = []\n",
    "    for ct, batch in batches:\n",
    "        feed_dict = get_feed_dict(batch, mode='test')\n",
    "        loss_batch = sess.run(loss, feed_dict = feed_dict)\n",
    "        losses.append(loss_batch)\n",
    "    loss_mean = np.mean(losses)\n",
    "    return loss_mean"
   ]
  },
  {
   "cell_type": "code",
   "execution_count": 47,
   "metadata": {},
   "outputs": [],
   "source": [
    "def print_sample(sample_batch):\n",
    "    feed_dict = get_feed_dict(sample_batch)\n",
    "    pred_token_idxs = sess.run(output_token_idxs, feed_dict = feed_dict)\n",
    "    true_token_idxs = [sent_idxs for instance in sample_batch for sent_idxs in instance.token_idxs]\n",
    "    \n",
    "    assert len(pred_token_idxs) == len(true_token_idxs)\n",
    "    \n",
    "    pred_sents = idxs_to_sents(pred_token_idxs, config, idx_to_word)\n",
    "    true_sents = idxs_to_sents(true_token_idxs, config, idx_to_word)\n",
    "    \n",
    "    for true_sent, pred_sent in zip(true_sents, pred_sents):        \n",
    "        print('True: %s' % true_sent)\n",
    "        print('Pred: %s' % pred_sent)"
   ]
  },
  {
   "cell_type": "code",
   "execution_count": 48,
   "metadata": {
    "scrolled": true
   },
   "outputs": [],
   "source": [
    "if 'sess' in globals(): sess.close()\n",
    "sess = tf.Session()\n",
    "\n",
    "sess.run(tf.global_variables_initializer())\n",
    "\n",
    "logs = []\n",
    "losses_train = []\n",
    "ppls_train = []\n",
    "loss_min = np.inf\n",
    "beta_eval = 1.\n",
    "epoch = 0"
   ]
  },
  {
   "cell_type": "code",
   "execution_count": null,
   "metadata": {
    "scrolled": false
   },
   "outputs": [
    {
     "name": "stdout",
     "output_type": "stream",
     "text": [
      "006[s], 05[s], Ep: 00, Ct: 00000|TR LOSS: 10 LM NLL: 10.34, KL: 0.00|DE LOSS: 10|BETA: 0.000000\n",
      "106[s], 05[s], Ep: 00, Ct: 00500|TR LOSS: 7 LM NLL: 7.38, KL: 4.19|DE LOSS: 7|BETA: 0.034674\n",
      "True: lottery officials say a powerball ticket sold in la crosse county this week is worth $ # million before taxes\n",
      "Pred: the the the the the the the the the the\n",
      "True: the ticket matched all five numbers in wednesday 's drawing\n",
      "Pred: the the the the the the the the the the the the the\n",
      "True: that made it worth $ #\n",
      "Pred: the the the the the , the the the the the\n",
      "True: but the player also bought the power play <unk> , which <unk> the value by five\n",
      "Pred: the the the the the , the the the the the the the\n",
      "True: that means the ticket is worth a cool million , or about $ # after taxes\n",
      "Pred: the the the the the the the the the\n",
      "True: the winner has six months to claim his or her prize at the lottery headquarters in madison\n",
      "Pred: the the the the the the the the\n",
      "True: the ticket was sold at festival foods in <unk>\n",
      "Pred: the the the the the the the , the the\n",
      "True: two other tickets this year also became million dollar winners through the <unk> feature\n",
      "Pred: the the the the the the the the the\n",
      "True: those tickets were sold in fond du lac and green bay\n",
      "Pred: the the the the the the the the the the\n",
      "True: in the world of pennsylvania politics , # will be remembered for a new , all republican state government\n",
      "Pred: the the the the the the the the the the the the\n",
      "True: the $ # billion budget closely tracked gov . tom corbett 's proposal\n",
      "Pred: the the the the the the the the\n",
      "True: it cut spending and held taxes level and came with no democratic support\n",
      "Pred: the the the the the the the the the the\n",
      "True: but his administration did n't win initiatives such as privatizing state controlled liquor and wine sales and using taxpayer financed school vouchers\n",
      "Pred: the the the the the the the the the the\n",
      "True: for aspiring officeholders , the year was pivotal\n",
      "Pred: the the the the the the the the\n",
      "True: more than a half dozen republican and democratic candidates are vowing to challenge democratic u.s. sen. bob casey 's re election bid next year\n",
      "Pred: the the the the the the the , the the the\n",
      "True: nomination battles appear inevitable in both parties in the attorney general campaign\n",
      "Pred: the the the the the the the the the the the the the\n",
      "True: meanwhile , the state 's legislative districts were being redrawn\n",
      "Pred: the the the the the the the the the\n",
      "True: lawmakers sent to the governor separate legislation to carve the state into # new congressional districts because pennsylvania is losing one u.s. house seat in the # election\n",
      "Pred: the the the the the the the the , the the\n",
      "True: willamette week publisher richard meeker is stepping away from that role after # years\n",
      "Pred: the the the the the the the the the the\n",
      "True: the portland alt weekly said friday that editor mark <unk> will take over as publisher\n",
      "Pred: the the the the the the , the the the\n",
      "True: he will oversee the business side of the operation while continuing to lead the newsroom\n",
      "Pred: the the the the the the the the the the the\n",
      "True: the # year old meeker is n't retiring\n",
      "Pred: the the the the the the the the the the the the the the\n",
      "True: instead , he will supervise the company 's alt <unk> in santa fe , new mexico , and raleigh durham , north carolina\n",
      "Pred: the the the the the , the the the the the\n",
      "True: the paper says the transition should be complete by the end of the month\n",
      "Pred: the the the the the the the the the the\n",
      "True: willamette week has been published since #\n",
      "Pred: the the the the the the the the the the the\n",
      "True: one of its reporters , nigel <unk> , won the # pulitzer prize for investigative reporting\n",
      "Pred: the the the the the the the the the the\n",
      "True: authorities across minnesota will step up enforcement of minnesota 's `` move over `` law this weekend\n",
      "Pred: the the the the the the the the the the the\n",
      "True: sunday marks the # th anniversary of the death of trooper ted foss of winona\n",
      "Pred: the the the the the the the the the the the\n",
      "True: foss was making a traffic stop on interstate # when he was hit by a passing vehicle and killed on aug. # , #\n",
      "Pred: the the the the the the the the the\n",
      "True: the minnesota state patrol and local law enforcement will hold daylong saturation patrols on state highways sunday\n",
      "Pred: the the the the the the the the the the the\n",
      "True: kage am reports the patrols will remind motorists of the ted foss move over law , which the legislature enacted in foss ' honor\n",
      "Pred: the the the the the the the the the the the the the\n",
      "True: the law means if there are two or more lanes , motorists must move one full lane away from a stopped emergency vehicle with flashing lights\n",
      "Pred: the the the the the the the the the the the\n",
      "True: motorists must slow down if they ca n't safely move over\n",
      "Pred: the the the the , the the , the the the\n",
      "True: those who do n't could be fined over $ #\n",
      "Pred: the the the the the the the the the\n",
      "True: a proposal to relocate unmanned aircraft from california to hawaii calls for the pohakuloa training area on the big island to host drone training flights for up to # weeks a year\n",
      "Pred: the the the the , the the the the\n",
      "True: an environmental assessment completed recently says the reconnaissance drones would be based at marine corps base hawaii at oahu 's kaneohe bay\n",
      "Pred: the the the the the the the , the the the the the the\n",
      "True: but the drones also would utilize training areas at the pohakuloa training area and on kauai\n",
      "Pred: the the the the the the the the the the the\n",
      "True: the hawaii tribune herald ( http : <unk> ) says # shadow and # blackjack drones would be involved in the transfer of the marine unmanned aerial vehicle squadron three\n",
      "Pred: the the the the the the the the\n",
      "True: under the proposal , the relocation would begin as early as june\n",
      "Pred: the the the the the the the the the the the\n",
      "True: blackjack drones would be added next year\n",
      "Pred: the the the the the the the the the\n",
      "True: the assessment says the transfer would allow the marines to achieve a balance in its capabilities in the pacific region\n",
      "Pred: the the the the the the , the the the\n",
      "True: storms sweeping across northern illinois prompted a tornado warning , forced the cancellation of hundreds of flights at chicago 's airports and caused flooding\n",
      "Pred: the the the the the the the the the the the the the\n",
      "True: the national weather service issued a flash flood watch for north central and northeast illinois as thunderstorms are forecast to cross the area through monday evening\n",
      "Pred: the the the the the the the the the the\n",
      "True: forecasters say the storms could dump up to two inches of rain per hour at times\n",
      "Pred: the the the the , the the the the the\n",
      "True: two tornado warnings were issued for the metro chicago area , with one <unk> warning sirens downtown and prompting office buildings to send tenants into hallways away from windows\n",
      "Pred: the the the the the the the the the the the the the\n",
      "True: standing water forced the closing of the eisenhower expressway and part of the chicago transit authority 's blue line `` l ' ' on the city 's west side\n",
      "Pred: the the the the the the the\n",
      "True: the chicago department of aviation is reporting delays of two hours or more at o'hare international airport , where more than # flights were cancelled\n",
      "Pred: the the the the the the the the the the\n",
      "True: delays of # minutes and the cancellation of # flights are reported at midway international airport\n",
      "Pred: the the the the the the the the the the the the the\n",
      "True: the trial of a woman charged in the dragging death of a tow truck driver is under way in colorado springs\n",
      "Pred: the the the the the the the the the the the the\n",
      "True: <unk> farries is charged with manslaughter , vehicular homicide and leaving the scene of a deadly accident that killed allen lew rose last year\n",
      "Pred: the the the the the the , the the the the\n",
      "True: in opening arguments friday , prosecutors said rose was trying to tow farries ' suv when he got <unk> in a tow cable as farries drove away\n",
      "Pred: the the the the the , the the the the the\n",
      "True: the gazette reports ( http : <unk> ) officer scott carnes testified he could still smell rose 's body burning\n",
      "Pred: the the the the the the the the the\n",
      "True: farries ' lawyer says farries had n't realized someone was being dragged\n",
      "Pred: the the the the the the the the the the the the the\n",
      "True: her lawyer contends rose threw his tow hooks onto farries ' vehicle as she left , then ran after her and stepped on a flailing tow cable\n",
      "Pred: the the the the the the the the\n",
      "True: the trial is expected to last three weeks\n",
      "Pred: the the the the the the the the the the the the\n",
      "True: a pit bull ban up for a public vote in a denver suburb was overwhelmingly supported tuesday , a setback for national pit bull advocates\n",
      "Pred: the the the the the the the the the the the\n",
      "True: aurora voted nearly # to # to retain the city 's nine year old ban on pit bulls\n",
      "Pred: the the the the the the the the the\n",
      "True: it was the first city in the nation to put a breed specific ban on ballots in a general election\n",
      "Pred: the the the the the the the the the the the\n",
      "True: several hundred cities nationwide either prohibit dog breeds deemed a public safety risk or require them to be <unk>\n",
      "Pred: the the the the the the the the the the the the\n",
      "True: aurora 's pit bull ban is one of several along the front range\n",
      "Pred: the the the the the the the the the\n",
      "True: denver , castle rock , commerce city and louisville also ban the breed\n",
      "Pred: the the the the the the the the the the the the\n",
      "True: aurora 's animal care division opposed repeal , saying dog bites in the city had gone down since the ban was adopted in #\n",
      "Pred: the the the the the the , the the the the the\n",
      "True: an amendment banning sports play from gretna streets has been deferred a second time by the city council\n",
      "Pred: the the the the the the the the the the the\n",
      "True: councilman mark miller , who took office july # , requested the delay wednesday night to seek additional information on the issue\n",
      "Pred: the the the the the the the the the the the\n",
      "True: the times picayune reports ( http : //bit.ly/ # <unk> # ) the council initially postponed action on the measure at its june meeting\n",
      "Pred: the the the the the the the the the the the\n",
      "True: former councilman vincent cox iii introduced the measure in may after a complaint from a constituent\n",
      "Pred: the the the the the the the the the the\n",
      "True: the amendment would prohibit any sports play , from basketball to tennis , on city streets\n",
      "Pred: the the the the the the the the the the the\n",
      "True: but some officials said privately that the ordinance already legislating obstructions on city streets would address the intent of the proposed amendment\n",
      "Pred: the the the the , the the the the the the\n",
      "True: police chief arthur lawson said in june that he had concerns about prosecuting juveniles for such an offense\n",
      "Pred: the the the the the the the the the the the\n",
      "True: a # year old man charged with helping conceal evidence in a triple slaying in northern maine is back in jail for allegedly selling oxycodone to his # year old grandson\n",
      "Pred: the the the the the the , the the\n",
      "True: robert strout of orient was in the aroostook county jail on sunday on a charge of aggravated furnishing of oxycodone\n",
      "Pred: the the the the the the the the the\n",
      "True: the maine drug enforcement agency arrested strout on thursday for allegedly giving # tablets of the pain killer to his grandson , craig strout desmond , and # year old brianna <unk> , both of ellsworth\n",
      "Pred: the the the the the the the the the\n",
      "True: agents say they followed strout desmond and <unk> when they drove from ellsworth to orient to pick up the drugs\n",
      "Pred: the the the the the the the the the the the the\n",
      "True: both face drug charges\n",
      "Pred: the the the the the the the the the the the the the\n",
      "True: strout was previously charged with hindering apprehension and arson for helping <unk> ormsby after ormsby allegedly fatally stabbed an amity man , his # year old son and a neighbor in june #\n",
      "Pred: the the the the the the the the the the the the the\n",
      "True: a judge has granted a request for a mental evaluation for a man arrested in the shooting deaths of three people , including his # year old niece\n",
      "Pred: the the the the the the the the the the the the\n",
      "True: circuit court judge charles <unk> granted the request monday from defense attorneys for # year old timothy allen hill\n",
      "Pred: the the the the the the the the the the the the\n",
      "True: authorities arrested hill in the july # deaths of his estranged wife , dana hill ; his mother in law , julie hartsfield ; and his niece , autumn hartsfield\n",
      "Pred: the the the the the the the\n",
      "True: all three were found shot to death at a home near murfreesboro\n",
      "Pred: the the the the the the the the the the\n",
      "True: the texarkana gazette reports ( http : //bit.ly/ # ar # av ) that hill will be transferred to the state hospital in little rock for a mental evaluation\n",
      "Pred: the the the the the the the the the the the the the\n",
      "True: he 's now being held in the pike county jail on $ # million bond\n",
      "Pred: the the the the the the the the the the\n",
      "True: maryland farmers say wildlife caused an estimated $ # million in crop losses last year\n",
      "Pred: the the the the the the , the the the the\n",
      "True: the estimate was released monday by the u.s. department of agriculture 's maryland field office in annapolis\n",
      "Pred: the the the the the the the the the the the the\n",
      "True: deer were blamed for more than three quarters of the damage , and <unk> and geese were blamed for most of the rest\n",
      "Pred: the the the the the the the the\n",
      "True: losses were greatest in north central maryland , where about $ # million in damage was reported , followed by southern maryland , where farmers reported $ # million in losses\n",
      "Pred: the the the the the the the the the the\n",
      "True: the results were obtained from an annual acreage and production survey\n",
      "Pred: the the the the the the the the the the\n",
      "True: the figures show maryland farmers spent an estimated $ # last year on preventative measures such as fences , <unk> and devices to scare away wildlife\n",
      "Pred: the the the the the the the the\n",
      "True: the new hampshire attorney general says john laroche was arrested tuesday on one count of aggravated felonious sexual assault\n",
      "Pred: the the the the the the the the the the\n",
      "True: laroche could not be reached for comment\n",
      "Pred: the the the the the the the the the\n",
      "True: it was not immediately known if he was being represented by an attorney\n",
      "Pred: the the the the the the the the the the\n",
      "True: the attorney general says laroche was overseeing the boscawen police explorer program for young men and women interested in law enforcement careers and the victim was a police explorer\n",
      "Pred: the the the the the the the the\n",
      "True: laroche is accused of using his authority to coerce the female who was between the age of # and # at the time in # and part of #\n",
      "Pred: the the the the the the the the , the the the the\n",
      "True: laroche is expected to be arraigned wednesday\n",
      "Pred: the the the the , the the the the the the the the\n",
      "True: an alleged gang member has been charged with capital murder in the death of an inglewood nightclub owner who was gunned down in the driveway of his home\n",
      "Pred: the the the the the the the the the the the the\n",
      "True: los angeles county prosecutors say # year old dennis roy brown is believed to be a member of the <unk> # 's blood gang\n",
      "Pred: the the the the the the the the the the the\n",
      "True: brown allegedly shot and robbed ester alonzo as he pulled into the driveway of his baldwin hills home on may # , # , after he returned home from his night club\n",
      "Pred: the the the the the the the the the the the the the the\n",
      "True: brown was charged tuesday with one count of murder with a special circumstance allegation that the killing occurred during the course of a robbery\n",
      "Pred: the the the the the the the the the the the\n",
      "True: prosecutors say a decision on whether to seek the death penalty will be made after a preliminary hearing\n",
      "Pred: the the the the the the the the the the the the\n",
      "True: brown 's next court appearance is scheduled for jan. #\n",
      "Pred: the the the the the the the the\n",
      "True: colombia 's police director says six police officers have been killed and a seventh wounded in ambush in a rural southwestern area where leftist rebels operate\n",
      "Pred: the the the the the the the the the the\n",
      "True: gen. jose roberto leon tells the associated press that the officers were riding on four motorcycles when they were attacked with gunfire monday afternoon on a rural stretch of highway in the <unk> state town of padilla\n",
      "Pred: the the the the the the the the the the the\n",
      "True: he said a front of the revolutionary armed forces of colombia , or farc , operates in the area\n",
      "Pred: the the the the the the the the the the the the\n",
      "True: if the farc is responsible , the deaths would bring to # the number of security force members killed since the government and rebels formally opened peace talks in norway on oct. #\n",
      "Pred: the the the the the the the the the the\n",
      "True: the talks to end a nearly five decade old conflict are set to begin in earnest in cuba on nov. #\n",
      "Pred: the the the the the the the the the the the the\n",
      "True: the diocese of fort wayne south bend was the only bidder in an auction by the city of south bend for a piece of property that st. joseph 's high school wants to use to build a football stadium\n",
      "Pred: the the the the the the , the the\n",
      "True: <unk> tv reports ( http : <unk> ) the diocese placed the minimum bid of $ # on monday\n",
      "Pred: the the the the the the the the the the the\n",
      "True: the minimum bid was based on the $ # average of two appraisals plus the $ # the city paid to buy out the lease of the property owner\n",
      "Pred: the the the the the the the , the the the\n",
      "True: the city had previously tried to sell the land to the diocese , but u.s. district judge robert miller had ruled the bidding process included a stipulation favoring a religious organization\n",
      "Pred: the the the the the the , the the\n",
      "True: four city taxpayers had challenged the original sale\n",
      "Pred: the the the the the the the the the\n",
      "True: a northwestern pennsylvania woman must spend three to eight years in state prison for a drunken driving crash that killed her boyfriend last year\n",
      "Pred: the the the the the the the the the the the the\n",
      "True: the erie times news ( http : //bit.ly/ # py # k ) reports # year old kristin graves , of edinboro , was sentenced tuesday\n",
      "Pred: the the the the the the the the the the the the the\n",
      "True: she had previously pleaded guilty in june to homicide by vehicle while driving drunk and drunken driving\n",
      "Pred: the the the the the the the the the the the\n",
      "True: she was more than twice as drunk as the law allows when she crashed her jeep in erie after a concert on july # , # , killing # year old kyle rohan\n",
      "Pred: the the the the the the the the the the the the\n",
      "True: rohan was n't wearing a seat belt and was thrown from the vehicle , which overturned when graves failed to make a curve in the road and hit a retaining wall\n",
      "Pred: the the the the the the the the\n",
      "True: the pacific tsunami warning center is reporting a slight rise in tide levels at hawaii 's big island and maui generated by the large earthquake that struck off the coast of chile\n",
      "Pred: the the the the the the the the the the the\n",
      "True: scientists say that even a small change in tidal conditions can create strong currents\n",
      "Pred: the the the the the the the the the the the\n",
      "True: those conditions could be dangerous for boaters and swimmers\n",
      "Pred: the the the the the the the the the the the\n",
      "True: the honolulu star advertiser ( http : //is.gd/ # <unk> # g ) says hawaii beaches , including <unk> bay , are closed wednesday morning as a precaution\n",
      "Pred: the the the the the the the the the the the the the\n",
      "True: hawaii remains under a tsunami advisory stemming from the # magnitude earthquake that struck tuesday off northern chile\n",
      "Pred: the the the the , the the the the the the\n",
      "True: two women are dead following an early morning house fire in hudson\n",
      "Pred: the the the the the the the the the the the the\n",
      "True: the pasco county sheriff 's office says fire broke out at a home just after # a.m. crews found # year old jessica keith and her roommate , # year old amber lynn jordan dead inside the home\n",
      "Pred: the the the the the the the the the the the the the\n",
      "True: the cause of the fire remains under investigation\n",
      "Pred: the the the the the the , the\n",
      "True: no further details were immediately available\n",
      "Pred: the the the the the the the the the the the the\n",
      "True: hawaii 's government plans to live up to an obligation to provide hot water to low income public honolulu housing residents who have endured cold showers and frigid <unk> for years\n",
      "Pred: the the the the the the the the the the the the the\n",
      "True: hot water service will be restored to all apartments at mayor wright public housing by july # at a cost of about $ # , said nicolas <unk> , housing planner for the hawaii public housing authority\n",
      "Pred: the the the the the the the the\n",
      "True: the authority pursued the funding soon after an associated press article this month detailed the neglect that left most of the # unit complex lacking hot water , considered an essential standard of living by federal and local authorities\n",
      "Pred: the the the the the the the the the the\n"
     ]
    }
   ],
   "source": [
    "time_start = time.time()\n",
    "for epoch in range(config.epochs):\n",
    "    for ct, batch in train_batches:\n",
    "        feed_dict = get_feed_dict(batch)\n",
    "        if config.warmup > 0 and beta_eval < 1.0: sess.run(update_beta)\n",
    "\n",
    "        _, loss_batch, sent_loss_recon_batch, sent_loss_kl_batch = \\\n",
    "        sess.run([opt, loss, sent_loss_recon, sent_loss_kl], feed_dict = feed_dict)\n",
    "\n",
    "        losses_train += [[loss_batch, sent_loss_recon_batch, sent_loss_kl_batch]]\n",
    "\n",
    "        if ct%config.log_period==0:\n",
    "            time_dev = time.time()\n",
    "            loss_train, sent_loss_recon_train, sent_loss_kl_train = np.mean(losses_train, 0)\n",
    "            loss_dev = get_loss(sess, dev_batches)\n",
    "\n",
    "            if config.warmup > 0: beta_eval = beta.eval(session=sess)\n",
    "\n",
    "            clear_output()\n",
    "            time_finish = time.time()\n",
    "            time_log = int(time_finish - time_start)\n",
    "            time_log_dev = int(time_finish - time_dev)\n",
    "            logs += [(time_log, time_log_dev, epoch, ct, loss_train, sent_loss_recon_train, sent_loss_kl_train, loss_dev, beta_eval)]\n",
    "            for log in logs:\n",
    "                print('%03d[s], %02d[s], Ep: %02d, Ct: %05d|TR LOSS: %.2f LM NLL: %.2f, KL: %.2f|DE LOSS: %.2f|BETA: %.6f' %  log)\n",
    "\n",
    "            print_sample(batch)\n",
    "\n",
    "            time_start = time.time()"
   ]
  },
  {
   "cell_type": "code",
   "execution_count": 27,
   "metadata": {},
   "outputs": [
    {
     "name": "stdout",
     "output_type": "stream",
     "text": [
      "0 : republican senate democratic house election party campaign governor republicans gov\n",
      "1 : court judge federal u.s. attorney lawsuit filed case district law\n",
      "2 : million company http water project reports federal department u.s. plant\n",
      "3 : vehicle car crash driver truck died driving killed hit struck\n",
      "4 : department http people reports health office law officers week security\n",
      "5 : percent million company cents share revenue billion rate shares average\n",
      "6 : national saturday event museum died day years u.s. center president\n",
      "7 : bill tax budget million health lawmakers house measure gov approved\n",
      "8 : school university students board education program president college schools district\n",
      "9 : fire firefighters area reported authorities home people sunday miles blaze\n",
      "10 : found home officers authorities shot woman sheriff shooting arrested body\n",
      "11 : charged guilty prosecutors charges court years prison pleaded attorney murder\n",
      "12 : service weather power national storm snow tuesday expected rain customers\n"
     ]
    }
   ],
   "source": [
    "# visualize topic\n",
    "topics_freq_bow_idxs = bow_idxs[sess.run(topics_freq_bow_indices)]\n",
    "for topic, topic_freq_bow_idxs in enumerate(topics_freq_bow_idxs):\n",
    "    print(topic, ':', ' '.join([idx_to_word[idx] for idx in topic_freq_bow_idxs]))"
   ]
  },
  {
   "cell_type": "markdown",
   "metadata": {},
   "source": [
    "# confirm variables"
   ]
  },
  {
   "cell_type": "code",
   "execution_count": 110,
   "metadata": {},
   "outputs": [],
   "source": [
    "_logvars, _means, _kl_losses, _latents, _output_logits = sess.run([logvars, means, kl_losses, latents, output_logits], feed_dict=feed_dict)\n"
   ]
  },
  {
   "cell_type": "code",
   "execution_count": 111,
   "metadata": {},
   "outputs": [
    {
     "data": {
      "text/plain": [
       "((32, 32), (32, 32), (32,), (32, 32))"
      ]
     },
     "execution_count": 111,
     "metadata": {},
     "output_type": "execute_result"
    }
   ],
   "source": [
    "_logvars.shape, _means.shape, _kl_losses.shape, _latents.shape"
   ]
  },
  {
   "cell_type": "code",
   "execution_count": 112,
   "metadata": {},
   "outputs": [
    {
     "data": {
      "text/plain": [
       "array([[[nan, nan, nan, ..., nan, nan, nan],\n",
       "        [nan, nan, nan, ..., nan, nan, nan],\n",
       "        [nan, nan, nan, ..., nan, nan, nan]],\n",
       "\n",
       "       [[nan, nan, nan, ..., nan, nan, nan],\n",
       "        [nan, nan, nan, ..., nan, nan, nan],\n",
       "        [nan, nan, nan, ..., nan, nan, nan]],\n",
       "\n",
       "       [[nan, nan, nan, ..., nan, nan, nan],\n",
       "        [nan, nan, nan, ..., nan, nan, nan],\n",
       "        [nan, nan, nan, ..., nan, nan, nan]],\n",
       "\n",
       "       ...,\n",
       "\n",
       "       [[nan, nan, nan, ..., nan, nan, nan],\n",
       "        [nan, nan, nan, ..., nan, nan, nan],\n",
       "        [nan, nan, nan, ..., nan, nan, nan]],\n",
       "\n",
       "       [[nan, nan, nan, ..., nan, nan, nan],\n",
       "        [nan, nan, nan, ..., nan, nan, nan],\n",
       "        [nan, nan, nan, ..., nan, nan, nan]],\n",
       "\n",
       "       [[nan, nan, nan, ..., nan, nan, nan],\n",
       "        [nan, nan, nan, ..., nan, nan, nan],\n",
       "        [nan, nan, nan, ..., nan, nan, nan]]], dtype=float32)"
      ]
     },
     "execution_count": 112,
     "metadata": {},
     "output_type": "execute_result"
    }
   ],
   "source": [
    "_output_logits"
   ]
  },
  {
   "cell_type": "code",
   "execution_count": 109,
   "metadata": {},
   "outputs": [
    {
     "ename": "NameError",
     "evalue": "name 'dec_target_idxs_do' is not defined",
     "output_type": "error",
     "traceback": [
      "\u001b[0;31m---------------------------------------------------------------------------\u001b[0m",
      "\u001b[0;31mNameError\u001b[0m                                 Traceback (most recent call last)",
      "\u001b[0;32m<ipython-input-109-7de59bc2cc54>\u001b[0m in \u001b[0;36m<module>\u001b[0;34m\u001b[0m\n\u001b[0;32m----> 1\u001b[0;31m \u001b[0m_output_logits\u001b[0m\u001b[0;34m,\u001b[0m \u001b[0m_dec_target_idxs_do\u001b[0m\u001b[0;34m,\u001b[0m \u001b[0m_dec_mask_tokens_do\u001b[0m\u001b[0;34m,\u001b[0m \u001b[0m_recon_loss\u001b[0m\u001b[0;34m,\u001b[0m \u001b[0m_kl_losses\u001b[0m\u001b[0;34m,\u001b[0m \u001b[0m_\u001b[0m \u001b[0;34m=\u001b[0m \u001b[0msess\u001b[0m\u001b[0;34m.\u001b[0m\u001b[0mrun\u001b[0m\u001b[0;34m(\u001b[0m\u001b[0;34m[\u001b[0m\u001b[0moutput_logits\u001b[0m\u001b[0;34m,\u001b[0m \u001b[0mdec_target_idxs_do\u001b[0m\u001b[0;34m,\u001b[0m \u001b[0mdec_mask_tokens_do\u001b[0m\u001b[0;34m,\u001b[0m \u001b[0mrecon_loss\u001b[0m\u001b[0;34m,\u001b[0m \u001b[0mkl_losses\u001b[0m\u001b[0;34m,\u001b[0m \u001b[0mopt\u001b[0m\u001b[0;34m]\u001b[0m\u001b[0;34m,\u001b[0m \u001b[0mfeed_dict\u001b[0m\u001b[0;34m=\u001b[0m\u001b[0mfeed_dict\u001b[0m\u001b[0;34m)\u001b[0m\u001b[0;34m\u001b[0m\u001b[0;34m\u001b[0m\u001b[0m\n\u001b[0m",
      "\u001b[0;31mNameError\u001b[0m: name 'dec_target_idxs_do' is not defined"
     ]
    }
   ],
   "source": [
    "_output_logits, _dec_target_idxs_do, _dec_mask_tokens_do, _recon_loss, _kl_losses, _ = sess.run([output_logits, dec_target_idxs_do, dec_mask_tokens_do, recon_loss, kl_losses, opt], feed_dict=feed_dict)\n"
   ]
  },
  {
   "cell_type": "code",
   "execution_count": 44,
   "metadata": {},
   "outputs": [
    {
     "data": {
      "text/plain": [
       "(120, 46)"
      ]
     },
     "execution_count": 44,
     "metadata": {},
     "output_type": "execute_result"
    }
   ],
   "source": [
    "tf.reduce_max(output_logits, 2).eval(session=sess, feed_dict=feed_dict).shape"
   ]
  },
  {
   "cell_type": "code",
   "execution_count": 31,
   "metadata": {},
   "outputs": [
    {
     "data": {
      "text/plain": [
       "((120, 46, 20000), (120, 46), (120, 46))"
      ]
     },
     "execution_count": 31,
     "metadata": {},
     "output_type": "execute_result"
    }
   ],
   "source": [
    "_output_logits.shape, _dec_target_idxs_do.shape, _dec_mask_tokens_do.shape"
   ]
  },
  {
   "cell_type": "code",
   "execution_count": 32,
   "metadata": {},
   "outputs": [],
   "source": [
    "_logits = np.exp(_output_logits) / np.sum(np.exp(_output_logits), 2)[:, :, None]"
   ]
  },
  {
   "cell_type": "code",
   "execution_count": 33,
   "metadata": {},
   "outputs": [],
   "source": [
    "_idxs = _dec_target_idxs_do"
   ]
  },
  {
   "cell_type": "code",
   "execution_count": 35,
   "metadata": {},
   "outputs": [],
   "source": [
    "_losses = np.array([[-np.log(_logits[i, j, _idxs[i, j]]) for j in range(_idxs.shape[1])] for i in range(_idxs.shape[0])]) * _dec_mask_tokens_do"
   ]
  },
  {
   "cell_type": "code",
   "execution_count": 36,
   "metadata": {},
   "outputs": [
    {
     "data": {
      "text/plain": [
       "9.903732"
      ]
     },
     "execution_count": 36,
     "metadata": {},
     "output_type": "execute_result"
    }
   ],
   "source": [
    "np.sum(_losses)/np.sum(_dec_mask_tokens_do)"
   ]
  },
  {
   "cell_type": "code",
   "execution_count": 37,
   "metadata": {},
   "outputs": [
    {
     "data": {
      "text/plain": [
       "9.903732"
      ]
     },
     "execution_count": 37,
     "metadata": {},
     "output_type": "execute_result"
    }
   ],
   "source": [
    "_recon_loss"
   ]
  },
  {
   "cell_type": "code",
   "execution_count": 38,
   "metadata": {},
   "outputs": [
    {
     "data": {
      "text/plain": [
       "(120,)"
      ]
     },
     "execution_count": 38,
     "metadata": {},
     "output_type": "execute_result"
    }
   ],
   "source": [
    "_kl_losses.shape"
   ]
  },
  {
   "cell_type": "code",
   "execution_count": null,
   "metadata": {},
   "outputs": [],
   "source": []
  }
 ],
 "metadata": {
  "kernelspec": {
   "display_name": "py36",
   "language": "python",
   "name": "py36"
  },
  "language_info": {
   "codemirror_mode": {
    "name": "ipython",
    "version": 3
   },
   "file_extension": ".py",
   "mimetype": "text/x-python",
   "name": "python",
   "nbconvert_exporter": "python",
   "pygments_lexer": "ipython3",
   "version": "3.6.9"
  },
  "toc": {
   "base_numbering": 1,
   "nav_menu": {},
   "number_sections": true,
   "sideBar": true,
   "skip_h1_title": false,
   "title_cell": "Table of Contents",
   "title_sidebar": "Contents",
   "toc_cell": false,
   "toc_position": {},
   "toc_section_display": true,
   "toc_window_display": false
  }
 },
 "nbformat": 4,
 "nbformat_minor": 2
}
