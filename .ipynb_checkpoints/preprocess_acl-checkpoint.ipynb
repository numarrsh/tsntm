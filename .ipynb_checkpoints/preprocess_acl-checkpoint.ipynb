{
 "cells": [
  {
   "cell_type": "code",
   "execution_count": 1,
   "metadata": {},
   "outputs": [],
   "source": [
    "import os\n",
    "import re\n",
    "import _pickle as cPickle\n",
    "from collections import OrderedDict, defaultdict, Counter\n",
    "\n",
    "import matplotlib\n",
    "%matplotlib inline\n",
    "import matplotlib.pyplot as plt\n",
    "\n",
    "import pdb\n",
    "import random\n",
    "import math\n",
    "import numpy as np\n",
    "import pandas as pd\n",
    "import tensorflow as tf\n",
    "from scipy.sparse import csr_matrix\n",
    "import nltk\n",
    "from nltk import word_tokenize\n",
    "import copy\n",
    "\n",
    "import multiprocessing\n",
    "\n",
    "from data_structure import Instance\n",
    "\n",
    "np.random.seed(1234)\n",
    "random.seed(1234)\n",
    "\n",
    "pd.set_option('display.max_rows', 100)"
   ]
  },
  {
   "cell_type": "markdown",
   "metadata": {},
   "source": [
    "# configure"
   ]
  },
  {
   "cell_type": "code",
   "execution_count": 2,
   "metadata": {},
   "outputs": [],
   "source": [
    "def del_all_flags(FLAGS):\n",
    "    flags_dict = FLAGS._flags()    \n",
    "    keys_list = [keys for keys in flags_dict]    \n",
    "    for keys in keys_list:\n",
    "        FLAGS.__delattr__(keys)\n",
    "\n",
    "del_all_flags(tf.flags.FLAGS)\n",
    "\n",
    "flags = tf.app.flags\n",
    "\n",
    "flags.DEFINE_string('data_dir', 'data/acl/corpus', 'path of test data')\n",
    "flags.DEFINE_string('meta_path', 'data/acl/meta-20180716.json', 'path of test data')\n",
    "flags.DEFINE_integer('batch_l', 8, 'batch length')\n",
    "\n",
    "flags.DEFINE_string('stopwords_path', 'data/stopwords_mallet.txt', 'path of input data')\n",
    "\n",
    "flags.DEFINE_string('output_path', 'data/acl/instances.pkl', 'path of output data')\n",
    "flags.DEFINE_string('output_large_path', 'data/acl/instances_large.pkl', 'path of output data')\n",
    "\n",
    "flags.DEFINE_integer('n_vocab', 50000, 'size of vocab')\n",
    "\n",
    "flags.DEFINE_string('f', '', 'kernel')\n",
    "\n",
    "config = flags.FLAGS"
   ]
  },
  {
   "cell_type": "code",
   "execution_count": 3,
   "metadata": {},
   "outputs": [],
   "source": [
    "def apply_parallel(datas, num_split, map_func):\n",
    "    p = multiprocessing.Pool(processes=num_split)\n",
    "    data_split = np.array_split(datas, num_split)\n",
    "    output_dfs = p.map(map_func, data_split)\n",
    "    p.close()\n",
    "    output_df = pd.concat(output_dfs)\n",
    "    return output_df"
   ]
  },
  {
   "cell_type": "markdown",
   "metadata": {},
   "source": [
    "# load source"
   ]
  },
  {
   "cell_type": "code",
   "execution_count": 4,
   "metadata": {},
   "outputs": [],
   "source": [
    "def preprocess(line):\n",
    "    line = line.lower().strip()\n",
    "    line = re.sub(r'\\(.*?\\)', '', line)\n",
    "    line = re.sub(r'cite-p-\\d+-\\d+-\\d+', 'CITE', line)\n",
    "    line = re.sub(r'arg\\d*', 'arg', line)\n",
    "    line = re.sub(r'f?\\d+[.,:]?\\d*%?', 'NUM', line)\n",
    "    line = re.sub(r'-|–|\"', ' ', line)\n",
    "    return line"
   ]
  },
  {
   "cell_type": "code",
   "execution_count": 5,
   "metadata": {},
   "outputs": [],
   "source": [
    "def get_tokens(data_path):\n",
    "    f = open(data_path, 'r')\n",
    "    raw_lines = f.readlines()\n",
    "    lines = [preprocess(line.split('\\t')[-1]) for line in raw_lines]\n",
    "    f.close()\n",
    "    \n",
    "    tokenize = lambda lines: [word_tokenize(line) for line in lines]\n",
    "    filtering = lambda tokens: [line_tokens for line_tokens in tokens if len(line_tokens) > 2]\n",
    "\n",
    "    tokens = tokenize(lines)\n",
    "    tokens = filtering(tokens)\n",
    "    return tokens"
   ]
  },
  {
   "cell_type": "code",
   "execution_count": 6,
   "metadata": {},
   "outputs": [],
   "source": [
    "def get_data_raw_df(data_names):\n",
    "    data_raw_dfs = []\n",
    "    for data_name in data_names:\n",
    "        data_path = os.path.join(config.data_dir, data_name)\n",
    "        tokens = get_tokens(data_path)\n",
    "        code = data_name[:-3]\n",
    "        data_raw_dfs.append({'tokens': tokens, 'code': code})\n",
    "    data_raw_df = pd.DataFrame(data_raw_dfs)\n",
    "    data_raw_df = data_raw_df[data_raw_df['tokens'].apply(lambda tokens: len(tokens) > 2)]\n",
    "    return data_raw_df"
   ]
  },
  {
   "cell_type": "code",
   "execution_count": 7,
   "metadata": {},
   "outputs": [
    {
     "name": "stdout",
     "output_type": "stream",
     "text": [
      "CPU times: user 37.4 s, sys: 12.4 s, total: 49.8 s\n",
      "Wall time: 1min 37s\n"
     ]
    }
   ],
   "source": [
    "%%time\n",
    "data_names = os.listdir(config.data_dir)\n",
    "data_raw_df = apply_parallel(data_names, num_split=32, map_func=get_data_raw_df).reset_index()"
   ]
  },
  {
   "cell_type": "markdown",
   "metadata": {},
   "source": [
    "# filter df"
   ]
  },
  {
   "cell_type": "code",
   "execution_count": 13,
   "metadata": {},
   "outputs": [],
   "source": [
    "with open(config.meta_path, 'r') as f:\n",
    "    meta_df = pd.read_json(f, lines=True)\n",
    "meta_df['venue'] = meta_df.apply(lambda row: row.booktitle if row.booktitle == row.booktitle else row.journal, 1)"
   ]
  },
  {
   "cell_type": "code",
   "execution_count": 16,
   "metadata": {},
   "outputs": [],
   "source": [
    "def get_data_df(data_raw_df, min_doc_l=None, max_doc_l=None):\n",
    "    data_df = data_raw_df.drop('index', axis=1)\n",
    "    data_df['doc_l'] = data_df['tokens'].apply(lambda tokens: len(tokens))\n",
    "    data_df = data_df[data_df['doc_l'].apply(lambda doc_l: min_doc_l <= doc_l and doc_l < max_doc_l)]\n",
    "    data_df = pd.merge(data_df, meta_df[['code', 'title', 'venue', 'year']], how='left')\n",
    "    return data_df"
   ]
  },
  {
   "cell_type": "code",
   "execution_count": 17,
   "metadata": {},
   "outputs": [
    {
     "data": {
      "text/plain": [
       "(38749, 37305)"
      ]
     },
     "execution_count": 17,
     "metadata": {},
     "output_type": "execute_result"
    }
   ],
   "source": [
    "data_df = get_data_df(data_raw_df, min_doc_l=30, max_doc_l=300)\n",
    "len(data_raw_df), len(data_df)"
   ]
  },
  {
   "cell_type": "code",
   "execution_count": 18,
   "metadata": {},
   "outputs": [
    {
     "name": "stdout",
     "output_type": "stream",
     "text": [
      "299 30\n"
     ]
    },
    {
     "data": {
      "image/png": "[encoded data removed]",
      "text/plain": [
       "<Figure size 576x288 with 1 Axes>"
      ]
     },
     "metadata": {
      "needs_background": "light"
     },
     "output_type": "display_data"
    }
   ],
   "source": [
    "print(max(data_df.doc_l), min(data_df.doc_l))\n",
    "\n",
    "data_df.doc_l.plot(bins=50, alpha=0.5, figsize=(8,4), kind='hist', range=(0, 500), density=True);"
   ]
  },
  {
   "cell_type": "markdown",
   "metadata": {},
   "source": [
    "# build bow for topic modeling "
   ]
  },
  {
   "cell_type": "code",
   "execution_count": 19,
   "metadata": {},
   "outputs": [
    {
     "name": "stdout",
     "output_type": "stream",
     "text": [
      "CPU times: user 33.4 s, sys: 5.03 s, total: 38.4 s\n",
      "Wall time: 38.3 s\n"
     ]
    }
   ],
   "source": [
    "%%time\n",
    "words_list = data_df['tokens'].apply(lambda tokens: [token for line in tokens for token in line])\n",
    "word_tf_dict = sorted(Counter([word for words in words_list for word in words]).items(), key=lambda x: x[1])\n",
    "len(word_tf_dict)"
   ]
  },
  {
   "cell_type": "code",
   "execution_count": 20,
   "metadata": {},
   "outputs": [
    {
     "name": "stdout",
     "output_type": "stream",
     "text": [
      "CPU times: user 19.5 s, sys: 1.23 s, total: 20.8 s\n",
      "Wall time: 20.7 s\n"
     ]
    }
   ],
   "source": [
    "%%time\n",
    "unique_words_list = data_df['tokens'].apply(lambda tokens: list(set([token for line in tokens for token in line])))\n",
    "word_df_dict = sorted(Counter([word for unique_words in unique_words_list for word in unique_words]).items(), key=lambda x: x[1])"
   ]
  },
  {
   "cell_type": "code",
   "execution_count": 21,
   "metadata": {},
   "outputs": [],
   "source": [
    "def filter_words(word_tf_dict, max_tf_rate=0., min_tf_rate=0., min_tf=None, min_df=0., max_df=np.inf, stop_words=[]):\n",
    "    filtered_word_tf_dict = [(word, tf) for word, tf in word_tf_dict if word not in stop_words]\n",
    "    filtered_word_tf_dict = dict(filtered_word_tf_dict[int(min_tf_rate*len(filtered_word_tf_dict)):int((1-max_tf_rate)*len(filtered_word_tf_dict))][::-1])\n",
    "    if min_tf: filtered_word_tf_dict = {word: tf for word, tf in filtered_word_tf_dict.items() if tf >= min_tf}\n",
    "    filtered_words = [word for word, _ in filtered_word_tf_dict.items()]\n",
    "    \n",
    "    if min_df: \n",
    "        filtered_df_words = [word for word, df in word_df_dict if min_df <= df and df < max_df]\n",
    "        filtered_df_words = list(set(filtered_words) & set(filtered_df_words))\n",
    "        filtered_word_tf_df_dict = sorted([(word, filtered_word_tf_dict[word]) for word in filtered_df_words], key=lambda x:x[1])[::-1]\n",
    "        filtered_words = [word for word, _ in filtered_word_tf_df_dict]\n",
    "        \n",
    "    return filtered_words"
   ]
  },
  {
   "cell_type": "code",
   "execution_count": 22,
   "metadata": {},
   "outputs": [
    {
     "data": {
      "text/plain": [
       "5424"
      ]
     },
     "execution_count": 22,
     "metadata": {},
     "output_type": "execute_result"
    }
   ],
   "source": [
    "with open(config.stopwords_path, 'r') as f:\n",
    "    stop_words_mallet = [w.replace('\\n', '') for w in f.readlines()]\n",
    "stop_words_nltk = nltk.corpus.stopwords.words('english')\n",
    "stop_words_manual = ['‘', ',', '.', '?', ':', '’', '”', '“', \"'\", ';', '•', '(', ')', '[', ']', '{', '}', '&', '+', '/', '=', '<', '>', '~', '#', 'i.e', 'e.g', \"n't\", \"'s\", \"'ve\", \"'m\",  \"'ll\", \"'re\", \"'d\", 'could', 'would', 'us', 'ca', 'NUM', 'CITE', 'ARG']\n",
    "stop_words = list(set(stop_words_mallet + stop_words_nltk + stop_words_manual))\n",
    "tm_words = filter_words(word_tf_dict, min_df=500, min_tf=0, max_df = 25000, stop_words=stop_words) # large: 500 usual: 1000 small: 2000\n",
    "# tm_words = filter_words(word_tf_dict, min_df=500, min_tf=0, max_tf_rate=0.0001, stop_words=stop_words) # large: 500 usual: 1000 small: 2000\n",
    "len(tm_words)"
   ]
  },
  {
   "cell_type": "code",
   "execution_count": 23,
   "metadata": {},
   "outputs": [],
   "source": [
    "idx_to_word = {idx: word for idx, word in enumerate(tm_words)}\n",
    "word_to_idx = {word: idx for idx, word in idx_to_word.items()}\n",
    "word_to_bow = {word: idx for idx, word in enumerate(tm_words)}\n",
    "bow_idxs = np.array([word_to_idx[word] for word in tm_words])"
   ]
  },
  {
   "cell_type": "code",
   "execution_count": 24,
   "metadata": {},
   "outputs": [],
   "source": [
    "def apply_bow(tokens_series):\n",
    "    def get_bow(tokens):\n",
    "        tokens_flat = [token for line in tokens for token in line]\n",
    "        counter = Counter(tokens_flat)\n",
    "        bow = np.zeros(len(word_to_bow), dtype=np.int32)\n",
    "        indices_cnts = np.array([[word_to_bow[word], cnt] for word, cnt in counter.items() if word in word_to_bow])\n",
    "        if len(indices_cnts) > 0: bow[indices_cnts[:, 0]] = indices_cnts[:, 1]\n",
    "        return bow\n",
    "    return tokens_series.apply(get_bow)"
   ]
  },
  {
   "cell_type": "code",
   "execution_count": 25,
   "metadata": {},
   "outputs": [
    {
     "name": "stdout",
     "output_type": "stream",
     "text": [
      "CPU times: user 39.3 s, sys: 30.2 s, total: 1min 9s\n",
      "Wall time: 1min 10s\n"
     ]
    }
   ],
   "source": [
    "%%time\n",
    "data_df['bow'] = apply_parallel(data_df['tokens'], num_split=64, map_func=apply_bow)"
   ]
  },
  {
   "cell_type": "code",
   "execution_count": 26,
   "metadata": {},
   "outputs": [],
   "source": [
    "assert len(words_list) == len(data_df)\n",
    "for i in range(len(data_df)//100):\n",
    "    instance = data_df.iloc[i]\n",
    "    words = words_list.iloc[i]\n",
    "    assert all([word in words for word in np.array(tm_words)[np.where(instance['bow']>0)[0]]])"
   ]
  },
  {
   "cell_type": "markdown",
   "metadata": {},
   "source": [
    "# write out"
   ]
  },
  {
   "cell_type": "code",
   "execution_count": 28,
   "metadata": {},
   "outputs": [
    {
     "data": {
      "text/plain": [
       "(37305, 36305, 1000)"
      ]
     },
     "execution_count": 28,
     "metadata": {},
     "output_type": "execute_result"
    }
   ],
   "source": [
    "val_df = data_df.sample(1000, replace=False)\n",
    "test_df = val_df\n",
    "train_df = data_df.drop(index=val_df.index)\n",
    "assert len(data_df) == len(train_df) + len(val_df)\n",
    "len(data_df), len(train_df), len(val_df)"
   ]
  },
  {
   "cell_type": "code",
   "execution_count": 297,
   "metadata": {},
   "outputs": [],
   "source": [
    "# train_save_df = get_save_df(train_df)\n",
    "# val_save_df = get_save_df(val_df, frac=0.01)\n",
    "# test_save_df = get_save_df(test_df, summary=True)\n",
    "# len(train_save_df), len(val_save_df), len(test_save_df)"
   ]
  },
  {
   "cell_type": "code",
   "execution_count": 298,
   "metadata": {},
   "outputs": [],
   "source": [
    "# print('saving preprocessed instances...')\n",
    "# cPickle.dump((train_df, val_df, test_df, word_to_idx, idx_to_word, bow_idxs),open(config.output_path,'wb'))"
   ]
  },
  {
   "cell_type": "code",
   "execution_count": 30,
   "metadata": {},
   "outputs": [
    {
     "data": {
      "text/html": [
       "<div>\n",
       "<style scoped>\n",
       "    .dataframe tbody tr th:only-of-type {\n",
       "        vertical-align: middle;\n",
       "    }\n",
       "\n",
       "    .dataframe tbody tr th {\n",
       "        vertical-align: top;\n",
       "    }\n",
       "\n",
       "    .dataframe thead th {\n",
       "        text-align: right;\n",
       "    }\n",
       "</style>\n",
       "<table border=\"1\" class=\"dataframe\">\n",
       "  <thead>\n",
       "    <tr style=\"text-align: right;\">\n",
       "      <th></th>\n",
       "      <th>tokens</th>\n",
       "      <th>code</th>\n",
       "      <th>doc_l</th>\n",
       "      <th>title</th>\n",
       "      <th>venue</th>\n",
       "      <th>year</th>\n",
       "      <th>bow</th>\n",
       "    </tr>\n",
       "  </thead>\n",
       "  <tbody>\n",
       "    <tr>\n",
       "      <th>0</th>\n",
       "      <td>[[discourse, parsing, is, a, challenging, task...</td>\n",
       "      <td>K15-2009</td>\n",
       "      <td>129</td>\n",
       "      <td>Shallow Discourse Parsing with Syntactic and (...</td>\n",
       "      <td>Proceedings of the Nineteenth Conference on Co...</td>\n",
       "      <td>2015</td>\n",
       "      <td>[48, 6, 28, 12, 1, 0, 12, 0, 2, 2, 1, 0, 0, 2,...</td>\n",
       "    </tr>\n",
       "    <tr>\n",
       "      <th>1</th>\n",
       "      <td>[[this, paper, looks, at, the, transcribed, da...</td>\n",
       "      <td>C08-1073</td>\n",
       "      <td>169</td>\n",
       "      <td>Applying Discourse Analysis and Data Mining Me...</td>\n",
       "      <td>Proceedings of the 22nd International Conferen...</td>\n",
       "      <td>2008</td>\n",
       "      <td>[39, 7, 0, 0, 0, 0, 6, 0, 13, 1, 14, 0, 1, 1, ...</td>\n",
       "    </tr>\n",
       "    <tr>\n",
       "      <th>2</th>\n",
       "      <td>[[unlike, data, mining, ,, text, mining, has, ...</td>\n",
       "      <td>L14-1383</td>\n",
       "      <td>139</td>\n",
       "      <td>Legal aspects of text mining</td>\n",
       "      <td>Proceedings of the Ninth International Confere...</td>\n",
       "      <td>2014</td>\n",
       "      <td>[0, 0, 0, 0, 0, 1, 0, 1, 0, 0, 0, 5, 0, 0, 3, ...</td>\n",
       "    </tr>\n",
       "    <tr>\n",
       "      <th>3</th>\n",
       "      <td>[[discriminating, vandalism, edits, from, non,...</td>\n",
       "      <td>C10-1129</td>\n",
       "      <td>191</td>\n",
       "      <td>``Got You!'': Automatic Vandalism Detection in...</td>\n",
       "      <td>Proceedings of the 23rd International Conferen...</td>\n",
       "      <td>2010</td>\n",
       "      <td>[27, 17, 28, 1, 23, 0, 0, 0, 8, 16, 6, 0, 4, 4...</td>\n",
       "    </tr>\n",
       "    <tr>\n",
       "      <th>4</th>\n",
       "      <td>[[we, discuss, factors, that, affect, human, a...</td>\n",
       "      <td>L08-1167</td>\n",
       "      <td>218</td>\n",
       "      <td>Relation between Agreement Measures on Human L...</td>\n",
       "      <td>LREC 2008</td>\n",
       "      <td>2008</td>\n",
       "      <td>[9, 13, 24, 8, 0, 0, 31, 0, 8, 1, 4, 13, 0, 3,...</td>\n",
       "    </tr>\n",
       "    <tr>\n",
       "      <th>...</th>\n",
       "      <td>...</td>\n",
       "      <td>...</td>\n",
       "      <td>...</td>\n",
       "      <td>...</td>\n",
       "      <td>...</td>\n",
       "      <td>...</td>\n",
       "      <td>...</td>\n",
       "    </tr>\n",
       "    <tr>\n",
       "      <th>37300</th>\n",
       "      <td>[[the, continuously, increasing, number, of, p...</td>\n",
       "      <td>W14-3417</td>\n",
       "      <td>115</td>\n",
       "      <td>Seeking Informativeness in Literature Based Di...</td>\n",
       "      <td>Proceedings of BioNLP 2014</td>\n",
       "      <td>2014</td>\n",
       "      <td>[0, 1, 11, 0, 0, 0, 0, 0, 0, 6, 0, 0, 2, 0, 2,...</td>\n",
       "    </tr>\n",
       "    <tr>\n",
       "      <th>37301</th>\n",
       "      <td>[[a, significant, portion, of, search, engine,...</td>\n",
       "      <td>C14-1013</td>\n",
       "      <td>227</td>\n",
       "      <td>Augmenting Business Entities with Salient Term...</td>\n",
       "      <td>Proceedings of COLING 2014, the 25th Internati...</td>\n",
       "      <td>2014</td>\n",
       "      <td>[1, 0, 0, 0, 1, 0, 0, 5, 0, 4, 4, 2, 2, 0, 2, ...</td>\n",
       "    </tr>\n",
       "    <tr>\n",
       "      <th>37302</th>\n",
       "      <td>[[we, present, a, character, word, long, short...</td>\n",
       "      <td>E17-1040</td>\n",
       "      <td>212</td>\n",
       "      <td>Character-Word LSTM Language Models</td>\n",
       "      <td>Proceedings of the 15th Conference of the Euro...</td>\n",
       "      <td>2017</td>\n",
       "      <td>[0, 4, 0, 0, 46, 2, 11, 13, 0, 2, 15, 1, 0, 0,...</td>\n",
       "    </tr>\n",
       "    <tr>\n",
       "      <th>37303</th>\n",
       "      <td>[[studies, on, the, role, of, memory, as, a, p...</td>\n",
       "      <td>W16-4106</td>\n",
       "      <td>193</td>\n",
       "      <td>Memory access during incremental sentence proc...</td>\n",
       "      <td>Proceedings of the Workshop on Computational L...</td>\n",
       "      <td>2016</td>\n",
       "      <td>[0, 0, 1, 2, 9, 0, 0, 1, 0, 0, 5, 5, 0, 0, 2, ...</td>\n",
       "    </tr>\n",
       "    <tr>\n",
       "      <th>37304</th>\n",
       "      <td>[[∗, key, laboratory, of, §, department, of, c...</td>\n",
       "      <td>L10-1257</td>\n",
       "      <td>123</td>\n",
       "      <td>Automatic Acquisition of Chinese Novel Noun Co...</td>\n",
       "      <td>Proceedings of the Seventh conference on Inter...</td>\n",
       "      <td>2010</td>\n",
       "      <td>[13, 28, 11, 0, 0, 2, 4, 4, 4, 5, 6, 0, 0, 0, ...</td>\n",
       "    </tr>\n",
       "  </tbody>\n",
       "</table>\n",
       "<p>37305 rows × 7 columns</p>\n",
       "</div>"
      ],
      "text/plain": [
       "                                                  tokens      code  doc_l  \\\n",
       "0      [[discourse, parsing, is, a, challenging, task...  K15-2009    129   \n",
       "1      [[this, paper, looks, at, the, transcribed, da...  C08-1073    169   \n",
       "2      [[unlike, data, mining, ,, text, mining, has, ...  L14-1383    139   \n",
       "3      [[discriminating, vandalism, edits, from, non,...  C10-1129    191   \n",
       "4      [[we, discuss, factors, that, affect, human, a...  L08-1167    218   \n",
       "...                                                  ...       ...    ...   \n",
       "37300  [[the, continuously, increasing, number, of, p...  W14-3417    115   \n",
       "37301  [[a, significant, portion, of, search, engine,...  C14-1013    227   \n",
       "37302  [[we, present, a, character, word, long, short...  E17-1040    212   \n",
       "37303  [[studies, on, the, role, of, memory, as, a, p...  W16-4106    193   \n",
       "37304  [[∗, key, laboratory, of, §, department, of, c...  L10-1257    123   \n",
       "\n",
       "                                                   title  \\\n",
       "0      Shallow Discourse Parsing with Syntactic and (...   \n",
       "1      Applying Discourse Analysis and Data Mining Me...   \n",
       "2                           Legal aspects of text mining   \n",
       "3      ``Got You!'': Automatic Vandalism Detection in...   \n",
       "4      Relation between Agreement Measures on Human L...   \n",
       "...                                                  ...   \n",
       "37300  Seeking Informativeness in Literature Based Di...   \n",
       "37301  Augmenting Business Entities with Salient Term...   \n",
       "37302                Character-Word LSTM Language Models   \n",
       "37303  Memory access during incremental sentence proc...   \n",
       "37304  Automatic Acquisition of Chinese Novel Noun Co...   \n",
       "\n",
       "                                                   venue  year  \\\n",
       "0      Proceedings of the Nineteenth Conference on Co...  2015   \n",
       "1      Proceedings of the 22nd International Conferen...  2008   \n",
       "2      Proceedings of the Ninth International Confere...  2014   \n",
       "3      Proceedings of the 23rd International Conferen...  2010   \n",
       "4                                              LREC 2008  2008   \n",
       "...                                                  ...   ...   \n",
       "37300                         Proceedings of BioNLP 2014  2014   \n",
       "37301  Proceedings of COLING 2014, the 25th Internati...  2014   \n",
       "37302  Proceedings of the 15th Conference of the Euro...  2017   \n",
       "37303  Proceedings of the Workshop on Computational L...  2016   \n",
       "37304  Proceedings of the Seventh conference on Inter...  2010   \n",
       "\n",
       "                                                     bow  \n",
       "0      [48, 6, 28, 12, 1, 0, 12, 0, 2, 2, 1, 0, 0, 2,...  \n",
       "1      [39, 7, 0, 0, 0, 0, 6, 0, 13, 1, 14, 0, 1, 1, ...  \n",
       "2      [0, 0, 0, 0, 0, 1, 0, 1, 0, 0, 0, 5, 0, 0, 3, ...  \n",
       "3      [27, 17, 28, 1, 23, 0, 0, 0, 8, 16, 6, 0, 4, 4...  \n",
       "4      [9, 13, 24, 8, 0, 0, 31, 0, 8, 1, 4, 13, 0, 3,...  \n",
       "...                                                  ...  \n",
       "37300  [0, 1, 11, 0, 0, 0, 0, 0, 0, 6, 0, 0, 2, 0, 2,...  \n",
       "37301  [1, 0, 0, 0, 1, 0, 0, 5, 0, 4, 4, 2, 2, 0, 2, ...  \n",
       "37302  [0, 4, 0, 0, 46, 2, 11, 13, 0, 2, 15, 1, 0, 0,...  \n",
       "37303  [0, 0, 1, 2, 9, 0, 0, 1, 0, 0, 5, 5, 0, 0, 2, ...  \n",
       "37304  [13, 28, 11, 0, 0, 2, 4, 4, 4, 5, 6, 0, 0, 0, ...  \n",
       "\n",
       "[37305 rows x 7 columns]"
      ]
     },
     "execution_count": 30,
     "metadata": {},
     "output_type": "execute_result"
    }
   ],
   "source": [
    "data_df"
   ]
  },
  {
   "cell_type": "code",
   "execution_count": 31,
   "metadata": {},
   "outputs": [],
   "source": [
    "def prepare_instances(data_df):\n",
    "    instances = []\n",
    "    for index, doc in data_df.iterrows():\n",
    "        instance = Instance()\n",
    "        instance.doc_l = doc.doc_l\n",
    "        instance.bow = doc.bow\n",
    "        instance.code = doc.code\n",
    "        instance.year = doc.year\n",
    "        instance.title = doc.title\n",
    "        instance.venue = doc.venue\n",
    "        instances.append(instance)\n",
    "    return instances"
   ]
  },
  {
   "cell_type": "code",
   "execution_count": 32,
   "metadata": {},
   "outputs": [
    {
     "name": "stdout",
     "output_type": "stream",
     "text": [
      "CPU times: user 8.01 s, sys: 55.1 ms, total: 8.07 s\n",
      "Wall time: 8.07 s\n"
     ]
    }
   ],
   "source": [
    "%%time\n",
    "instances_train = prepare_instances(train_df)\n",
    "instances_val = prepare_instances(val_df)\n",
    "instances_test = prepare_instances(test_df)\n",
    "len(instances_train), len(instances_val), len(instances_test)"
   ]
  },
  {
   "cell_type": "code",
   "execution_count": 33,
   "metadata": {},
   "outputs": [
    {
     "name": "stdout",
     "output_type": "stream",
     "text": [
      "saving preprocessed instances...\n"
     ]
    }
   ],
   "source": [
    "print('saving preprocessed instances...')\n",
    "# cPickle.dump((instances_train, instances_val, instances_test, word_to_idx, idx_to_word, bow_idxs),open(config.output_path,'wb'))\n",
    "cPickle.dump((instances_train, instances_val, instances_test, word_to_idx, idx_to_word, bow_idxs),open(config.output_large_path,'wb'))"
   ]
  },
  {
   "cell_type": "markdown",
   "metadata": {},
   "source": [
    "# dataset property"
   ]
  },
  {
   "cell_type": "code",
   "execution_count": 5,
   "metadata": {},
   "outputs": [],
   "source": [
    "codes = [file_name[:-3] for file_name in os.listdir(config.data_dir)]"
   ]
  },
  {
   "cell_type": "code",
   "execution_count": 6,
   "metadata": {},
   "outputs": [
    {
     "data": {
      "text/plain": [
       "(38864, 38864)"
      ]
     },
     "execution_count": 6,
     "metadata": {},
     "output_type": "execute_result"
    }
   ],
   "source": [
    "meta_df = meta_raw_df[meta_raw_df['code'].apply(lambda code: code in codes)]\n",
    "len(codes), len(meta_df)"
   ]
  },
  {
   "cell_type": "code",
   "execution_count": 7,
   "metadata": {},
   "outputs": [
    {
     "data": {
      "text/html": [
       "<div>\n",
       "<style scoped>\n",
       "    .dataframe tbody tr th:only-of-type {\n",
       "        vertical-align: middle;\n",
       "    }\n",
       "\n",
       "    .dataframe tbody tr th {\n",
       "        vertical-align: top;\n",
       "    }\n",
       "\n",
       "    .dataframe thead th {\n",
       "        text-align: right;\n",
       "    }\n",
       "</style>\n",
       "<table border=\"1\" class=\"dataframe\">\n",
       "  <thead>\n",
       "    <tr style=\"text-align: right;\">\n",
       "      <th></th>\n",
       "      <th>category</th>\n",
       "      <th>code</th>\n",
       "      <th>author</th>\n",
       "      <th>title</th>\n",
       "      <th>journal</th>\n",
       "      <th>year</th>\n",
       "      <th>volume</th>\n",
       "      <th>number</th>\n",
       "      <th>pages</th>\n",
       "      <th>doi</th>\n",
       "      <th>...</th>\n",
       "      <th>pdflink_from_oldpage</th>\n",
       "      <th>tsv</th>\n",
       "      <th>booktitle</th>\n",
       "      <th>publisher</th>\n",
       "      <th>location</th>\n",
       "      <th>authors</th>\n",
       "      <th>series</th>\n",
       "      <th>biblink</th>\n",
       "      <th>alternative_biblink</th>\n",
       "      <th>note</th>\n",
       "    </tr>\n",
       "  </thead>\n",
       "  <tbody>\n",
       "    <tr>\n",
       "      <th>0</th>\n",
       "      <td>Article</td>\n",
       "      <td>J18-1001</td>\n",
       "      <td>Grosz, Barbara J.</td>\n",
       "      <td>Smart Enough to Talk With Us? Foundations and ...</td>\n",
       "      <td>Computational Linguistics</td>\n",
       "      <td>2018</td>\n",
       "      <td>44</td>\n",
       "      <td>1.0</td>\n",
       "      <td>1--15</td>\n",
       "      <td>10.1162/COLI_a_00313</td>\n",
       "      <td>...</td>\n",
       "      <td>https://aclweb.org/anthology/J/J18/J18-1001.pdf</td>\n",
       "      <td>{'code': 'J18-1001', 'title': 'Smart Enough to...</td>\n",
       "      <td>NaN</td>\n",
       "      <td>NaN</td>\n",
       "      <td>NaN</td>\n",
       "      <td>NaN</td>\n",
       "      <td>NaN</td>\n",
       "      <td>NaN</td>\n",
       "      <td>NaN</td>\n",
       "      <td>NaN</td>\n",
       "    </tr>\n",
       "    <tr>\n",
       "      <th>5</th>\n",
       "      <td>Article</td>\n",
       "      <td>J18-1006</td>\n",
       "      <td>Duh, Kevin</td>\n",
       "      <td>Book Review: Bayesian Analysis in Natural Lang...</td>\n",
       "      <td>Computational Linguistics</td>\n",
       "      <td>2018</td>\n",
       "      <td>44</td>\n",
       "      <td>1.0</td>\n",
       "      <td>187--189</td>\n",
       "      <td>10.1162/COLI_r_00310</td>\n",
       "      <td>...</td>\n",
       "      <td>https://aclweb.org/anthology/J/J18/J18-1006.pdf</td>\n",
       "      <td>{'code': 'J18-1006', 'title': 'Book Review: Ba...</td>\n",
       "      <td>NaN</td>\n",
       "      <td>NaN</td>\n",
       "      <td>NaN</td>\n",
       "      <td>NaN</td>\n",
       "      <td>NaN</td>\n",
       "      <td>NaN</td>\n",
       "      <td>NaN</td>\n",
       "      <td>NaN</td>\n",
       "    </tr>\n",
       "    <tr>\n",
       "      <th>6</th>\n",
       "      <td>Article</td>\n",
       "      <td>J18-1007</td>\n",
       "      <td>Strapparava, Carlo</td>\n",
       "      <td>Metaphor: A Computational Perspective by Tony ...</td>\n",
       "      <td>Computational Linguistics</td>\n",
       "      <td>2018</td>\n",
       "      <td>44</td>\n",
       "      <td>1.0</td>\n",
       "      <td>191--192</td>\n",
       "      <td>10.1162/COLI_r_00311</td>\n",
       "      <td>...</td>\n",
       "      <td>https://aclweb.org/anthology/J/J18/J18-1007.pdf</td>\n",
       "      <td>{'code': 'J18-1007', 'title': 'Metaphor: A Com...</td>\n",
       "      <td>NaN</td>\n",
       "      <td>NaN</td>\n",
       "      <td>NaN</td>\n",
       "      <td>NaN</td>\n",
       "      <td>NaN</td>\n",
       "      <td>NaN</td>\n",
       "      <td>NaN</td>\n",
       "      <td>NaN</td>\n",
       "    </tr>\n",
       "    <tr>\n",
       "      <th>11</th>\n",
       "      <td>Article</td>\n",
       "      <td>J18-2004</td>\n",
       "      <td>Voeten, Cesko \\t\\tand Zaanen, Menno</td>\n",
       "      <td>The Influence of Context on the Learning of Me...</td>\n",
       "      <td>Computational Linguistics</td>\n",
       "      <td>2018</td>\n",
       "      <td>44</td>\n",
       "      <td>2.0</td>\n",
       "      <td>329--348</td>\n",
       "      <td>10.1162/COLI_a_00317</td>\n",
       "      <td>...</td>\n",
       "      <td>https://aclweb.org/anthology/J/J18/J18-2004.pdf</td>\n",
       "      <td>{'code': 'J18-2004', 'title': 'The Influence o...</td>\n",
       "      <td>NaN</td>\n",
       "      <td>NaN</td>\n",
       "      <td>NaN</td>\n",
       "      <td>NaN</td>\n",
       "      <td>NaN</td>\n",
       "      <td>NaN</td>\n",
       "      <td>NaN</td>\n",
       "      <td>NaN</td>\n",
       "    </tr>\n",
       "    <tr>\n",
       "      <th>12</th>\n",
       "      <td>Article</td>\n",
       "      <td>J18-2005</td>\n",
       "      <td>Can, Burcu \\t\\tand Manandhar, Suresh</td>\n",
       "      <td>Tree Structured Dirichlet Processes for Hierar...</td>\n",
       "      <td>Computational Linguistics</td>\n",
       "      <td>2018</td>\n",
       "      <td>44</td>\n",
       "      <td>2.0</td>\n",
       "      <td>349--374</td>\n",
       "      <td>10.1162/COLI_a_00318</td>\n",
       "      <td>...</td>\n",
       "      <td>https://aclweb.org/anthology/J/J18/J18-2005.pdf</td>\n",
       "      <td>{'code': 'J18-2005', 'title': 'Tree Structured...</td>\n",
       "      <td>NaN</td>\n",
       "      <td>NaN</td>\n",
       "      <td>NaN</td>\n",
       "      <td>NaN</td>\n",
       "      <td>NaN</td>\n",
       "      <td>NaN</td>\n",
       "      <td>NaN</td>\n",
       "      <td>NaN</td>\n",
       "    </tr>\n",
       "    <tr>\n",
       "      <th>...</th>\n",
       "      <td>...</td>\n",
       "      <td>...</td>\n",
       "      <td>...</td>\n",
       "      <td>...</td>\n",
       "      <td>...</td>\n",
       "      <td>...</td>\n",
       "      <td>...</td>\n",
       "      <td>...</td>\n",
       "      <td>...</td>\n",
       "      <td>...</td>\n",
       "      <td>...</td>\n",
       "      <td>...</td>\n",
       "      <td>...</td>\n",
       "      <td>...</td>\n",
       "      <td>...</td>\n",
       "      <td>...</td>\n",
       "      <td>...</td>\n",
       "      <td>...</td>\n",
       "      <td>...</td>\n",
       "      <td>...</td>\n",
       "      <td>...</td>\n",
       "    </tr>\n",
       "    <tr>\n",
       "      <th>45232</th>\n",
       "      <td>InProceedings</td>\n",
       "      <td>X93-1018</td>\n",
       "      <td>Will, Craig A.</td>\n",
       "      <td>COMPARING HUMAN AND MACHINE PERFORMANCE FOR NA...</td>\n",
       "      <td>NaN</td>\n",
       "      <td>1993</td>\n",
       "      <td>NaN</td>\n",
       "      <td>NaN</td>\n",
       "      <td>NaN</td>\n",
       "      <td>NaN</td>\n",
       "      <td>...</td>\n",
       "      <td>https://aclweb.org/anthology/X/X93/X93-1018.pdf</td>\n",
       "      <td>{'code': 'X93-1018', 'title': 'COMPARING HUMAN...</td>\n",
       "      <td>TIPSTER TEXT PROGRAM: PHASE I: Proceedings of ...</td>\n",
       "      <td>NaN</td>\n",
       "      <td>NaN</td>\n",
       "      <td>NaN</td>\n",
       "      <td>NaN</td>\n",
       "      <td>NaN</td>\n",
       "      <td>NaN</td>\n",
       "      <td>NaN</td>\n",
       "    </tr>\n",
       "    <tr>\n",
       "      <th>45233</th>\n",
       "      <td>InProceedings</td>\n",
       "      <td>X93-1019</td>\n",
       "      <td>Group, The PLUM System</td>\n",
       "      <td>BBN's PLUM Probabilistic Language Understandin...</td>\n",
       "      <td>NaN</td>\n",
       "      <td>1993</td>\n",
       "      <td>NaN</td>\n",
       "      <td>NaN</td>\n",
       "      <td>NaN</td>\n",
       "      <td>NaN</td>\n",
       "      <td>...</td>\n",
       "      <td>https://aclweb.org/anthology/X/X93/X93-1019.pdf</td>\n",
       "      <td>{'code': 'X93-1019', 'title': 'BBN's PLUM Prob...</td>\n",
       "      <td>TIPSTER TEXT PROGRAM: PHASE I: Proceedings of ...</td>\n",
       "      <td>NaN</td>\n",
       "      <td>NaN</td>\n",
       "      <td>NaN</td>\n",
       "      <td>NaN</td>\n",
       "      <td>NaN</td>\n",
       "      <td>NaN</td>\n",
       "      <td>NaN</td>\n",
       "    </tr>\n",
       "    <tr>\n",
       "      <th>45234</th>\n",
       "      <td>InProceedings</td>\n",
       "      <td>X93-1020</td>\n",
       "      <td>Jacobs, Paul S. \\t\\tand Krupka, George \\t\\tand...</td>\n",
       "      <td>THE TIPSTEPdSHOGUN PROJECT</td>\n",
       "      <td>NaN</td>\n",
       "      <td>1993</td>\n",
       "      <td>NaN</td>\n",
       "      <td>NaN</td>\n",
       "      <td>NaN</td>\n",
       "      <td>NaN</td>\n",
       "      <td>...</td>\n",
       "      <td>https://aclweb.org/anthology/X/X93/X93-1020.pdf</td>\n",
       "      <td>{'code': 'X93-1020', 'title': 'THE TIPSTEPdSHO...</td>\n",
       "      <td>TIPSTER TEXT PROGRAM: PHASE I: Proceedings of ...</td>\n",
       "      <td>NaN</td>\n",
       "      <td>NaN</td>\n",
       "      <td>NaN</td>\n",
       "      <td>NaN</td>\n",
       "      <td>NaN</td>\n",
       "      <td>NaN</td>\n",
       "      <td>NaN</td>\n",
       "    </tr>\n",
       "    <tr>\n",
       "      <th>45235</th>\n",
       "      <td>InProceedings</td>\n",
       "      <td>X93-1021</td>\n",
       "      <td>Cowie, Jim \\t\\tand Guthrie, Louise \\t\\tand Jin...</td>\n",
       "      <td>CRL/BRANDEIS: THE DIDEROT SYSTEM</td>\n",
       "      <td>NaN</td>\n",
       "      <td>1993</td>\n",
       "      <td>NaN</td>\n",
       "      <td>NaN</td>\n",
       "      <td>NaN</td>\n",
       "      <td>NaN</td>\n",
       "      <td>...</td>\n",
       "      <td>https://aclweb.org/anthology/X/X93/X93-1021.pdf</td>\n",
       "      <td>{'code': 'X93-1021', 'title': 'CRL/BRANDEIS: T...</td>\n",
       "      <td>TIPSTER TEXT PROGRAM: PHASE I: Proceedings of ...</td>\n",
       "      <td>NaN</td>\n",
       "      <td>NaN</td>\n",
       "      <td>NaN</td>\n",
       "      <td>NaN</td>\n",
       "      <td>NaN</td>\n",
       "      <td>NaN</td>\n",
       "      <td>NaN</td>\n",
       "    </tr>\n",
       "    <tr>\n",
       "      <th>45236</th>\n",
       "      <td>InProceedings</td>\n",
       "      <td>X93-1022</td>\n",
       "      <td>Lehnert, W. \\t\\tand McCarthy, J. \\t\\tand Soder...</td>\n",
       "      <td>UMASS/HUGHES: DESCRIPTION OF THE CIRCUS SYSTEM...</td>\n",
       "      <td>NaN</td>\n",
       "      <td>1993</td>\n",
       "      <td>NaN</td>\n",
       "      <td>NaN</td>\n",
       "      <td>NaN</td>\n",
       "      <td>NaN</td>\n",
       "      <td>...</td>\n",
       "      <td>https://aclweb.org/anthology/X/X93/X93-1022.pdf</td>\n",
       "      <td>{'code': 'X93-1022', 'title': 'UMASS/HUGHES: D...</td>\n",
       "      <td>TIPSTER TEXT PROGRAM: PHASE I: Proceedings of ...</td>\n",
       "      <td>NaN</td>\n",
       "      <td>NaN</td>\n",
       "      <td>NaN</td>\n",
       "      <td>NaN</td>\n",
       "      <td>NaN</td>\n",
       "      <td>NaN</td>\n",
       "      <td>NaN</td>\n",
       "    </tr>\n",
       "  </tbody>\n",
       "</table>\n",
       "<p>38864 rows × 22 columns</p>\n",
       "</div>"
      ],
      "text/plain": [
       "            category      code  \\\n",
       "0            Article  J18-1001   \n",
       "5            Article  J18-1006   \n",
       "6            Article  J18-1007   \n",
       "11           Article  J18-2004   \n",
       "12           Article  J18-2005   \n",
       "...              ...       ...   \n",
       "45232  InProceedings  X93-1018   \n",
       "45233  InProceedings  X93-1019   \n",
       "45234  InProceedings  X93-1020   \n",
       "45235  InProceedings  X93-1021   \n",
       "45236  InProceedings  X93-1022   \n",
       "\n",
       "                                                  author  \\\n",
       "0                                      Grosz, Barbara J.   \n",
       "5                                             Duh, Kevin   \n",
       "6                                     Strapparava, Carlo   \n",
       "11                   Voeten, Cesko \\t\\tand Zaanen, Menno   \n",
       "12                  Can, Burcu \\t\\tand Manandhar, Suresh   \n",
       "...                                                  ...   \n",
       "45232                                     Will, Craig A.   \n",
       "45233                             Group, The PLUM System   \n",
       "45234  Jacobs, Paul S. \\t\\tand Krupka, George \\t\\tand...   \n",
       "45235  Cowie, Jim \\t\\tand Guthrie, Louise \\t\\tand Jin...   \n",
       "45236  Lehnert, W. \\t\\tand McCarthy, J. \\t\\tand Soder...   \n",
       "\n",
       "                                                   title  \\\n",
       "0      Smart Enough to Talk With Us? Foundations and ...   \n",
       "5      Book Review: Bayesian Analysis in Natural Lang...   \n",
       "6      Metaphor: A Computational Perspective by Tony ...   \n",
       "11     The Influence of Context on the Learning of Me...   \n",
       "12     Tree Structured Dirichlet Processes for Hierar...   \n",
       "...                                                  ...   \n",
       "45232  COMPARING HUMAN AND MACHINE PERFORMANCE FOR NA...   \n",
       "45233  BBN's PLUM Probabilistic Language Understandin...   \n",
       "45234                         THE TIPSTEPdSHOGUN PROJECT   \n",
       "45235                   CRL/BRANDEIS: THE DIDEROT SYSTEM   \n",
       "45236  UMASS/HUGHES: DESCRIPTION OF THE CIRCUS SYSTEM...   \n",
       "\n",
       "                         journal  year volume  number     pages  \\\n",
       "0      Computational Linguistics  2018     44     1.0     1--15   \n",
       "5      Computational Linguistics  2018     44     1.0  187--189   \n",
       "6      Computational Linguistics  2018     44     1.0  191--192   \n",
       "11     Computational Linguistics  2018     44     2.0  329--348   \n",
       "12     Computational Linguistics  2018     44     2.0  349--374   \n",
       "...                          ...   ...    ...     ...       ...   \n",
       "45232                        NaN  1993    NaN     NaN       NaN   \n",
       "45233                        NaN  1993    NaN     NaN       NaN   \n",
       "45234                        NaN  1993    NaN     NaN       NaN   \n",
       "45235                        NaN  1993    NaN     NaN       NaN   \n",
       "45236                        NaN  1993    NaN     NaN       NaN   \n",
       "\n",
       "                        doi  ...  \\\n",
       "0      10.1162/COLI_a_00313  ...   \n",
       "5      10.1162/COLI_r_00310  ...   \n",
       "6      10.1162/COLI_r_00311  ...   \n",
       "11     10.1162/COLI_a_00317  ...   \n",
       "12     10.1162/COLI_a_00318  ...   \n",
       "...                     ...  ...   \n",
       "45232                   NaN  ...   \n",
       "45233                   NaN  ...   \n",
       "45234                   NaN  ...   \n",
       "45235                   NaN  ...   \n",
       "45236                   NaN  ...   \n",
       "\n",
       "                                  pdflink_from_oldpage  \\\n",
       "0      https://aclweb.org/anthology/J/J18/J18-1001.pdf   \n",
       "5      https://aclweb.org/anthology/J/J18/J18-1006.pdf   \n",
       "6      https://aclweb.org/anthology/J/J18/J18-1007.pdf   \n",
       "11     https://aclweb.org/anthology/J/J18/J18-2004.pdf   \n",
       "12     https://aclweb.org/anthology/J/J18/J18-2005.pdf   \n",
       "...                                                ...   \n",
       "45232  https://aclweb.org/anthology/X/X93/X93-1018.pdf   \n",
       "45233  https://aclweb.org/anthology/X/X93/X93-1019.pdf   \n",
       "45234  https://aclweb.org/anthology/X/X93/X93-1020.pdf   \n",
       "45235  https://aclweb.org/anthology/X/X93/X93-1021.pdf   \n",
       "45236  https://aclweb.org/anthology/X/X93/X93-1022.pdf   \n",
       "\n",
       "                                                     tsv  \\\n",
       "0      {'code': 'J18-1001', 'title': 'Smart Enough to...   \n",
       "5      {'code': 'J18-1006', 'title': 'Book Review: Ba...   \n",
       "6      {'code': 'J18-1007', 'title': 'Metaphor: A Com...   \n",
       "11     {'code': 'J18-2004', 'title': 'The Influence o...   \n",
       "12     {'code': 'J18-2005', 'title': 'Tree Structured...   \n",
       "...                                                  ...   \n",
       "45232  {'code': 'X93-1018', 'title': 'COMPARING HUMAN...   \n",
       "45233  {'code': 'X93-1019', 'title': 'BBN's PLUM Prob...   \n",
       "45234  {'code': 'X93-1020', 'title': 'THE TIPSTEPdSHO...   \n",
       "45235  {'code': 'X93-1021', 'title': 'CRL/BRANDEIS: T...   \n",
       "45236  {'code': 'X93-1022', 'title': 'UMASS/HUGHES: D...   \n",
       "\n",
       "                                               booktitle publisher location  \\\n",
       "0                                                    NaN       NaN      NaN   \n",
       "5                                                    NaN       NaN      NaN   \n",
       "6                                                    NaN       NaN      NaN   \n",
       "11                                                   NaN       NaN      NaN   \n",
       "12                                                   NaN       NaN      NaN   \n",
       "...                                                  ...       ...      ...   \n",
       "45232  TIPSTER TEXT PROGRAM: PHASE I: Proceedings of ...       NaN      NaN   \n",
       "45233  TIPSTER TEXT PROGRAM: PHASE I: Proceedings of ...       NaN      NaN   \n",
       "45234  TIPSTER TEXT PROGRAM: PHASE I: Proceedings of ...       NaN      NaN   \n",
       "45235  TIPSTER TEXT PROGRAM: PHASE I: Proceedings of ...       NaN      NaN   \n",
       "45236  TIPSTER TEXT PROGRAM: PHASE I: Proceedings of ...       NaN      NaN   \n",
       "\n",
       "      authors series biblink alternative_biblink note  \n",
       "0         NaN    NaN     NaN                 NaN  NaN  \n",
       "5         NaN    NaN     NaN                 NaN  NaN  \n",
       "6         NaN    NaN     NaN                 NaN  NaN  \n",
       "11        NaN    NaN     NaN                 NaN  NaN  \n",
       "12        NaN    NaN     NaN                 NaN  NaN  \n",
       "...       ...    ...     ...                 ...  ...  \n",
       "45232     NaN    NaN     NaN                 NaN  NaN  \n",
       "45233     NaN    NaN     NaN                 NaN  NaN  \n",
       "45234     NaN    NaN     NaN                 NaN  NaN  \n",
       "45235     NaN    NaN     NaN                 NaN  NaN  \n",
       "45236     NaN    NaN     NaN                 NaN  NaN  \n",
       "\n",
       "[38864 rows x 22 columns]"
      ]
     },
     "execution_count": 7,
     "metadata": {},
     "output_type": "execute_result"
    }
   ],
   "source": [
    "meta_df"
   ]
  },
  {
   "cell_type": "code",
   "execution_count": 8,
   "metadata": {},
   "outputs": [
    {
     "name": "stderr",
     "output_type": "stream",
     "text": [
      "/home/m-isonuma/.pyenv/versions/anaconda2-5.3.0/envs/py36/lib/python3.6/site-packages/ipykernel_launcher.py:1: SettingWithCopyWarning: \n",
      "A value is trying to be set on a copy of a slice from a DataFrame.\n",
      "Try using .loc[row_indexer,col_indexer] = value instead\n",
      "\n",
      "See the caveats in the documentation: http://pandas.pydata.org/pandas-docs/stable/user_guide/indexing.html#returning-a-view-versus-a-copy\n",
      "  \"\"\"Entry point for launching an IPython kernel.\n"
     ]
    }
   ],
   "source": []
  },
  {
   "cell_type": "code",
   "execution_count": null,
   "metadata": {},
   "outputs": [
    {
     "ename": "KeyboardInterrupt",
     "evalue": "",
     "output_type": "error",
     "traceback": [
      "\u001b[0;31m---------------------------------------------------------------------------\u001b[0m",
      "\u001b[0;31mKeyboardInterrupt\u001b[0m                         Traceback (most recent call last)",
      "\u001b[0;32m<ipython-input-9-86eb1ad90a6f>\u001b[0m in \u001b[0;36m<module>\u001b[0;34m\u001b[0m\n\u001b[0;32m----> 1\u001b[0;31m \u001b[0mmeta_df\u001b[0m\u001b[0;34m.\u001b[0m\u001b[0myear\u001b[0m\u001b[0;34m.\u001b[0m\u001b[0mplot\u001b[0m\u001b[0;34m(\u001b[0m\u001b[0mkind\u001b[0m\u001b[0;34m=\u001b[0m\u001b[0;34m'bar'\u001b[0m\u001b[0;34m)\u001b[0m\u001b[0;34m\u001b[0m\u001b[0;34m\u001b[0m\u001b[0m\n\u001b[0m",
      "\u001b[0;32m~/.pyenv/versions/anaconda2-5.3.0/envs/py36/lib/python3.6/site-packages/pandas/plotting/_core.py\u001b[0m in \u001b[0;36m__call__\u001b[0;34m(self, *args, **kwargs)\u001b[0m\n\u001b[1;32m    792\u001b[0m                     \u001b[0mdata\u001b[0m\u001b[0;34m.\u001b[0m\u001b[0mcolumns\u001b[0m \u001b[0;34m=\u001b[0m \u001b[0mlabel_name\u001b[0m\u001b[0;34m\u001b[0m\u001b[0;34m\u001b[0m\u001b[0m\n\u001b[1;32m    793\u001b[0m \u001b[0;34m\u001b[0m\u001b[0m\n\u001b[0;32m--> 794\u001b[0;31m         \u001b[0;32mreturn\u001b[0m \u001b[0mplot_backend\u001b[0m\u001b[0;34m.\u001b[0m\u001b[0mplot\u001b[0m\u001b[0;34m(\u001b[0m\u001b[0mdata\u001b[0m\u001b[0;34m,\u001b[0m \u001b[0mkind\u001b[0m\u001b[0;34m=\u001b[0m\u001b[0mkind\u001b[0m\u001b[0;34m,\u001b[0m \u001b[0;34m**\u001b[0m\u001b[0mkwargs\u001b[0m\u001b[0;34m)\u001b[0m\u001b[0;34m\u001b[0m\u001b[0;34m\u001b[0m\u001b[0m\n\u001b[0m\u001b[1;32m    795\u001b[0m \u001b[0;34m\u001b[0m\u001b[0m\n\u001b[1;32m    796\u001b[0m     \u001b[0;32mdef\u001b[0m \u001b[0mline\u001b[0m\u001b[0;34m(\u001b[0m\u001b[0mself\u001b[0m\u001b[0;34m,\u001b[0m \u001b[0mx\u001b[0m\u001b[0;34m=\u001b[0m\u001b[0;32mNone\u001b[0m\u001b[0;34m,\u001b[0m \u001b[0my\u001b[0m\u001b[0;34m=\u001b[0m\u001b[0;32mNone\u001b[0m\u001b[0;34m,\u001b[0m \u001b[0;34m**\u001b[0m\u001b[0mkwargs\u001b[0m\u001b[0;34m)\u001b[0m\u001b[0;34m:\u001b[0m\u001b[0;34m\u001b[0m\u001b[0;34m\u001b[0m\u001b[0m\n",
      "\u001b[0;32m~/.pyenv/versions/anaconda2-5.3.0/envs/py36/lib/python3.6/site-packages/pandas/plotting/_matplotlib/__init__.py\u001b[0m in \u001b[0;36mplot\u001b[0;34m(data, kind, **kwargs)\u001b[0m\n\u001b[1;32m     60\u001b[0m             \u001b[0mkwargs\u001b[0m\u001b[0;34m[\u001b[0m\u001b[0;34m\"ax\"\u001b[0m\u001b[0;34m]\u001b[0m \u001b[0;34m=\u001b[0m \u001b[0mgetattr\u001b[0m\u001b[0;34m(\u001b[0m\u001b[0max\u001b[0m\u001b[0;34m,\u001b[0m \u001b[0;34m\"left_ax\"\u001b[0m\u001b[0;34m,\u001b[0m \u001b[0max\u001b[0m\u001b[0;34m)\u001b[0m\u001b[0;34m\u001b[0m\u001b[0;34m\u001b[0m\u001b[0m\n\u001b[1;32m     61\u001b[0m     \u001b[0mplot_obj\u001b[0m \u001b[0;34m=\u001b[0m \u001b[0mPLOT_CLASSES\u001b[0m\u001b[0;34m[\u001b[0m\u001b[0mkind\u001b[0m\u001b[0;34m]\u001b[0m\u001b[0;34m(\u001b[0m\u001b[0mdata\u001b[0m\u001b[0;34m,\u001b[0m \u001b[0;34m**\u001b[0m\u001b[0mkwargs\u001b[0m\u001b[0;34m)\u001b[0m\u001b[0;34m\u001b[0m\u001b[0;34m\u001b[0m\u001b[0m\n\u001b[0;32m---> 62\u001b[0;31m     \u001b[0mplot_obj\u001b[0m\u001b[0;34m.\u001b[0m\u001b[0mgenerate\u001b[0m\u001b[0;34m(\u001b[0m\u001b[0;34m)\u001b[0m\u001b[0;34m\u001b[0m\u001b[0;34m\u001b[0m\u001b[0m\n\u001b[0m\u001b[1;32m     63\u001b[0m     \u001b[0mplot_obj\u001b[0m\u001b[0;34m.\u001b[0m\u001b[0mdraw\u001b[0m\u001b[0;34m(\u001b[0m\u001b[0;34m)\u001b[0m\u001b[0;34m\u001b[0m\u001b[0;34m\u001b[0m\u001b[0m\n\u001b[1;32m     64\u001b[0m     \u001b[0;32mreturn\u001b[0m \u001b[0mplot_obj\u001b[0m\u001b[0;34m.\u001b[0m\u001b[0mresult\u001b[0m\u001b[0;34m\u001b[0m\u001b[0;34m\u001b[0m\u001b[0m\n",
      "\u001b[0;32m~/.pyenv/versions/anaconda2-5.3.0/envs/py36/lib/python3.6/site-packages/pandas/plotting/_matplotlib/core.py\u001b[0m in \u001b[0;36mgenerate\u001b[0;34m(self)\u001b[0m\n\u001b[1;32m    279\u001b[0m         \u001b[0mself\u001b[0m\u001b[0;34m.\u001b[0m\u001b[0m_compute_plot_data\u001b[0m\u001b[0;34m(\u001b[0m\u001b[0;34m)\u001b[0m\u001b[0;34m\u001b[0m\u001b[0;34m\u001b[0m\u001b[0m\n\u001b[1;32m    280\u001b[0m         \u001b[0mself\u001b[0m\u001b[0;34m.\u001b[0m\u001b[0m_setup_subplots\u001b[0m\u001b[0;34m(\u001b[0m\u001b[0;34m)\u001b[0m\u001b[0;34m\u001b[0m\u001b[0;34m\u001b[0m\u001b[0m\n\u001b[0;32m--> 281\u001b[0;31m         \u001b[0mself\u001b[0m\u001b[0;34m.\u001b[0m\u001b[0m_make_plot\u001b[0m\u001b[0;34m(\u001b[0m\u001b[0;34m)\u001b[0m\u001b[0;34m\u001b[0m\u001b[0;34m\u001b[0m\u001b[0m\n\u001b[0m\u001b[1;32m    282\u001b[0m         \u001b[0mself\u001b[0m\u001b[0;34m.\u001b[0m\u001b[0m_add_table\u001b[0m\u001b[0;34m(\u001b[0m\u001b[0;34m)\u001b[0m\u001b[0;34m\u001b[0m\u001b[0;34m\u001b[0m\u001b[0m\n\u001b[1;32m    283\u001b[0m         \u001b[0mself\u001b[0m\u001b[0;34m.\u001b[0m\u001b[0m_make_legend\u001b[0m\u001b[0;34m(\u001b[0m\u001b[0;34m)\u001b[0m\u001b[0;34m\u001b[0m\u001b[0;34m\u001b[0m\u001b[0m\n",
      "\u001b[0;32m~/.pyenv/versions/anaconda2-5.3.0/envs/py36/lib/python3.6/site-packages/pandas/plotting/_matplotlib/core.py\u001b[0m in \u001b[0;36m_make_plot\u001b[0;34m(self)\u001b[0m\n\u001b[1;32m   1393\u001b[0m                     \u001b[0mlabel\u001b[0m\u001b[0;34m=\u001b[0m\u001b[0mlabel\u001b[0m\u001b[0;34m,\u001b[0m\u001b[0;34m\u001b[0m\u001b[0;34m\u001b[0m\u001b[0m\n\u001b[1;32m   1394\u001b[0m                     \u001b[0mlog\u001b[0m\u001b[0;34m=\u001b[0m\u001b[0mself\u001b[0m\u001b[0;34m.\u001b[0m\u001b[0mlog\u001b[0m\u001b[0;34m,\u001b[0m\u001b[0;34m\u001b[0m\u001b[0;34m\u001b[0m\u001b[0m\n\u001b[0;32m-> 1395\u001b[0;31m                     \u001b[0;34m**\u001b[0m\u001b[0mkwds\u001b[0m\u001b[0;34m\u001b[0m\u001b[0;34m\u001b[0m\u001b[0m\n\u001b[0m\u001b[1;32m   1396\u001b[0m                 )\n\u001b[1;32m   1397\u001b[0m             \u001b[0mself\u001b[0m\u001b[0;34m.\u001b[0m\u001b[0m_add_legend_handle\u001b[0m\u001b[0;34m(\u001b[0m\u001b[0mrect\u001b[0m\u001b[0;34m,\u001b[0m \u001b[0mlabel\u001b[0m\u001b[0;34m,\u001b[0m \u001b[0mindex\u001b[0m\u001b[0;34m=\u001b[0m\u001b[0mi\u001b[0m\u001b[0;34m)\u001b[0m\u001b[0;34m\u001b[0m\u001b[0;34m\u001b[0m\u001b[0m\n",
      "\u001b[0;32m~/.pyenv/versions/anaconda2-5.3.0/envs/py36/lib/python3.6/site-packages/pandas/plotting/_matplotlib/core.py\u001b[0m in \u001b[0;36m_plot\u001b[0;34m(cls, ax, x, y, w, start, log, **kwds)\u001b[0m\n\u001b[1;32m   1318\u001b[0m     \u001b[0;34m@\u001b[0m\u001b[0mclassmethod\u001b[0m\u001b[0;34m\u001b[0m\u001b[0;34m\u001b[0m\u001b[0m\n\u001b[1;32m   1319\u001b[0m     \u001b[0;32mdef\u001b[0m \u001b[0m_plot\u001b[0m\u001b[0;34m(\u001b[0m\u001b[0mcls\u001b[0m\u001b[0;34m,\u001b[0m \u001b[0max\u001b[0m\u001b[0;34m,\u001b[0m \u001b[0mx\u001b[0m\u001b[0;34m,\u001b[0m \u001b[0my\u001b[0m\u001b[0;34m,\u001b[0m \u001b[0mw\u001b[0m\u001b[0;34m,\u001b[0m \u001b[0mstart\u001b[0m\u001b[0;34m=\u001b[0m\u001b[0;36m0\u001b[0m\u001b[0;34m,\u001b[0m \u001b[0mlog\u001b[0m\u001b[0;34m=\u001b[0m\u001b[0;32mFalse\u001b[0m\u001b[0;34m,\u001b[0m \u001b[0;34m**\u001b[0m\u001b[0mkwds\u001b[0m\u001b[0;34m)\u001b[0m\u001b[0;34m:\u001b[0m\u001b[0;34m\u001b[0m\u001b[0;34m\u001b[0m\u001b[0m\n\u001b[0;32m-> 1320\u001b[0;31m         \u001b[0;32mreturn\u001b[0m \u001b[0max\u001b[0m\u001b[0;34m.\u001b[0m\u001b[0mbar\u001b[0m\u001b[0;34m(\u001b[0m\u001b[0mx\u001b[0m\u001b[0;34m,\u001b[0m \u001b[0my\u001b[0m\u001b[0;34m,\u001b[0m \u001b[0mw\u001b[0m\u001b[0;34m,\u001b[0m \u001b[0mbottom\u001b[0m\u001b[0;34m=\u001b[0m\u001b[0mstart\u001b[0m\u001b[0;34m,\u001b[0m \u001b[0mlog\u001b[0m\u001b[0;34m=\u001b[0m\u001b[0mlog\u001b[0m\u001b[0;34m,\u001b[0m \u001b[0;34m**\u001b[0m\u001b[0mkwds\u001b[0m\u001b[0;34m)\u001b[0m\u001b[0;34m\u001b[0m\u001b[0;34m\u001b[0m\u001b[0m\n\u001b[0m\u001b[1;32m   1321\u001b[0m \u001b[0;34m\u001b[0m\u001b[0m\n\u001b[1;32m   1322\u001b[0m     \u001b[0;34m@\u001b[0m\u001b[0mproperty\u001b[0m\u001b[0;34m\u001b[0m\u001b[0;34m\u001b[0m\u001b[0m\n",
      "\u001b[0;32m~/.pyenv/versions/anaconda2-5.3.0/envs/py36/lib/python3.6/site-packages/matplotlib/__init__.py\u001b[0m in \u001b[0;36minner\u001b[0;34m(ax, *args, **kwargs)\u001b[0m\n\u001b[1;32m   1865\u001b[0m                         \u001b[0;34m\"the Matplotlib list!)\"\u001b[0m \u001b[0;34m%\u001b[0m \u001b[0;34m(\u001b[0m\u001b[0mlabel_namer\u001b[0m\u001b[0;34m,\u001b[0m \u001b[0mfunc\u001b[0m\u001b[0;34m.\u001b[0m\u001b[0m__name__\u001b[0m\u001b[0;34m)\u001b[0m\u001b[0;34m,\u001b[0m\u001b[0;34m\u001b[0m\u001b[0;34m\u001b[0m\u001b[0m\n\u001b[1;32m   1866\u001b[0m                         RuntimeWarning, stacklevel=2)\n\u001b[0;32m-> 1867\u001b[0;31m             \u001b[0;32mreturn\u001b[0m \u001b[0mfunc\u001b[0m\u001b[0;34m(\u001b[0m\u001b[0max\u001b[0m\u001b[0;34m,\u001b[0m \u001b[0;34m*\u001b[0m\u001b[0margs\u001b[0m\u001b[0;34m,\u001b[0m \u001b[0;34m**\u001b[0m\u001b[0mkwargs\u001b[0m\u001b[0;34m)\u001b[0m\u001b[0;34m\u001b[0m\u001b[0;34m\u001b[0m\u001b[0m\n\u001b[0m\u001b[1;32m   1868\u001b[0m \u001b[0;34m\u001b[0m\u001b[0m\n\u001b[1;32m   1869\u001b[0m         inner.__doc__ = _add_data_doc(inner.__doc__,\n",
      "\u001b[0;32m~/.pyenv/versions/anaconda2-5.3.0/envs/py36/lib/python3.6/site-packages/matplotlib/axes/_axes.py\u001b[0m in \u001b[0;36mbar\u001b[0;34m(self, *args, **kwargs)\u001b[0m\n\u001b[1;32m   2289\u001b[0m             \u001b[0;32melif\u001b[0m \u001b[0morientation\u001b[0m \u001b[0;34m==\u001b[0m \u001b[0;34m'horizontal'\u001b[0m\u001b[0;34m:\u001b[0m\u001b[0;34m\u001b[0m\u001b[0;34m\u001b[0m\u001b[0m\n\u001b[1;32m   2290\u001b[0m                 \u001b[0mr\u001b[0m\u001b[0;34m.\u001b[0m\u001b[0msticky_edges\u001b[0m\u001b[0;34m.\u001b[0m\u001b[0mx\u001b[0m\u001b[0;34m.\u001b[0m\u001b[0mappend\u001b[0m\u001b[0;34m(\u001b[0m\u001b[0ml\u001b[0m\u001b[0;34m)\u001b[0m\u001b[0;34m\u001b[0m\u001b[0;34m\u001b[0m\u001b[0m\n\u001b[0;32m-> 2291\u001b[0;31m             \u001b[0mself\u001b[0m\u001b[0;34m.\u001b[0m\u001b[0madd_patch\u001b[0m\u001b[0;34m(\u001b[0m\u001b[0mr\u001b[0m\u001b[0;34m)\u001b[0m\u001b[0;34m\u001b[0m\u001b[0;34m\u001b[0m\u001b[0m\n\u001b[0m\u001b[1;32m   2292\u001b[0m             \u001b[0mpatches\u001b[0m\u001b[0;34m.\u001b[0m\u001b[0mappend\u001b[0m\u001b[0;34m(\u001b[0m\u001b[0mr\u001b[0m\u001b[0;34m)\u001b[0m\u001b[0;34m\u001b[0m\u001b[0;34m\u001b[0m\u001b[0m\n\u001b[1;32m   2293\u001b[0m \u001b[0;34m\u001b[0m\u001b[0m\n",
      "\u001b[0;32m~/.pyenv/versions/anaconda2-5.3.0/envs/py36/lib/python3.6/site-packages/matplotlib/axes/_base.py\u001b[0m in \u001b[0;36madd_patch\u001b[0;34m(self, p)\u001b[0m\n\u001b[1;32m   2033\u001b[0m         \u001b[0;32mif\u001b[0m \u001b[0mp\u001b[0m\u001b[0;34m.\u001b[0m\u001b[0mget_clip_path\u001b[0m\u001b[0;34m(\u001b[0m\u001b[0;34m)\u001b[0m \u001b[0;32mis\u001b[0m \u001b[0;32mNone\u001b[0m\u001b[0;34m:\u001b[0m\u001b[0;34m\u001b[0m\u001b[0;34m\u001b[0m\u001b[0m\n\u001b[1;32m   2034\u001b[0m             \u001b[0mp\u001b[0m\u001b[0;34m.\u001b[0m\u001b[0mset_clip_path\u001b[0m\u001b[0;34m(\u001b[0m\u001b[0mself\u001b[0m\u001b[0;34m.\u001b[0m\u001b[0mpatch\u001b[0m\u001b[0;34m)\u001b[0m\u001b[0;34m\u001b[0m\u001b[0;34m\u001b[0m\u001b[0m\n\u001b[0;32m-> 2035\u001b[0;31m         \u001b[0mself\u001b[0m\u001b[0;34m.\u001b[0m\u001b[0m_update_patch_limits\u001b[0m\u001b[0;34m(\u001b[0m\u001b[0mp\u001b[0m\u001b[0;34m)\u001b[0m\u001b[0;34m\u001b[0m\u001b[0;34m\u001b[0m\u001b[0m\n\u001b[0m\u001b[1;32m   2036\u001b[0m         \u001b[0mself\u001b[0m\u001b[0;34m.\u001b[0m\u001b[0mpatches\u001b[0m\u001b[0;34m.\u001b[0m\u001b[0mappend\u001b[0m\u001b[0;34m(\u001b[0m\u001b[0mp\u001b[0m\u001b[0;34m)\u001b[0m\u001b[0;34m\u001b[0m\u001b[0;34m\u001b[0m\u001b[0m\n\u001b[1;32m   2037\u001b[0m         \u001b[0mp\u001b[0m\u001b[0;34m.\u001b[0m\u001b[0m_remove_method\u001b[0m \u001b[0;34m=\u001b[0m \u001b[0;32mlambda\u001b[0m \u001b[0mh\u001b[0m\u001b[0;34m:\u001b[0m \u001b[0mself\u001b[0m\u001b[0;34m.\u001b[0m\u001b[0mpatches\u001b[0m\u001b[0;34m.\u001b[0m\u001b[0mremove\u001b[0m\u001b[0;34m(\u001b[0m\u001b[0mh\u001b[0m\u001b[0;34m)\u001b[0m\u001b[0;34m\u001b[0m\u001b[0;34m\u001b[0m\u001b[0m\n",
      "\u001b[0;32m~/.pyenv/versions/anaconda2-5.3.0/envs/py36/lib/python3.6/site-packages/matplotlib/axes/_base.py\u001b[0m in \u001b[0;36m_update_patch_limits\u001b[0;34m(self, patch)\u001b[0m\n\u001b[1;32m   2060\u001b[0m \u001b[0;34m\u001b[0m\u001b[0m\n\u001b[1;32m   2061\u001b[0m             \u001b[0mupdatex\u001b[0m\u001b[0;34m,\u001b[0m \u001b[0mupdatey\u001b[0m \u001b[0;34m=\u001b[0m \u001b[0mpatch\u001b[0m\u001b[0;34m.\u001b[0m\u001b[0mget_transform\u001b[0m\u001b[0;34m(\u001b[0m\u001b[0;34m)\u001b[0m\u001b[0;34m.\u001b[0m\u001b[0;31m\\\u001b[0m\u001b[0;34m\u001b[0m\u001b[0;34m\u001b[0m\u001b[0m\n\u001b[0;32m-> 2062\u001b[0;31m                 \u001b[0mcontains_branch_seperately\u001b[0m\u001b[0;34m(\u001b[0m\u001b[0mself\u001b[0m\u001b[0;34m.\u001b[0m\u001b[0mtransData\u001b[0m\u001b[0;34m)\u001b[0m\u001b[0;34m\u001b[0m\u001b[0;34m\u001b[0m\u001b[0m\n\u001b[0m\u001b[1;32m   2063\u001b[0m             self.update_datalim(xys, updatex=updatex,\n\u001b[1;32m   2064\u001b[0m                                 updatey=updatey)\n",
      "\u001b[0;32m~/.pyenv/versions/anaconda2-5.3.0/envs/py36/lib/python3.6/site-packages/matplotlib/transforms.py\u001b[0m in \u001b[0;36mcontains_branch_seperately\u001b[0;34m(self, other_transform)\u001b[0m\n\u001b[1;32m   1370\u001b[0m         \u001b[0;31m# for a non-blended transform each separate dimension is the same, so\u001b[0m\u001b[0;34m\u001b[0m\u001b[0;34m\u001b[0m\u001b[0;34m\u001b[0m\u001b[0m\n\u001b[1;32m   1371\u001b[0m         \u001b[0;31m# just return the appropriate shape.\u001b[0m\u001b[0;34m\u001b[0m\u001b[0;34m\u001b[0m\u001b[0;34m\u001b[0m\u001b[0m\n\u001b[0;32m-> 1372\u001b[0;31m         \u001b[0;32mreturn\u001b[0m \u001b[0;34m[\u001b[0m\u001b[0mself\u001b[0m\u001b[0;34m.\u001b[0m\u001b[0mcontains_branch\u001b[0m\u001b[0;34m(\u001b[0m\u001b[0mother_transform\u001b[0m\u001b[0;34m)\u001b[0m\u001b[0;34m]\u001b[0m \u001b[0;34m*\u001b[0m \u001b[0;36m2\u001b[0m\u001b[0;34m\u001b[0m\u001b[0;34m\u001b[0m\u001b[0m\n\u001b[0m\u001b[1;32m   1373\u001b[0m \u001b[0;34m\u001b[0m\u001b[0m\n\u001b[1;32m   1374\u001b[0m     \u001b[0;32mdef\u001b[0m \u001b[0m__sub__\u001b[0m\u001b[0;34m(\u001b[0m\u001b[0mself\u001b[0m\u001b[0;34m,\u001b[0m \u001b[0mother\u001b[0m\u001b[0;34m)\u001b[0m\u001b[0;34m:\u001b[0m\u001b[0;34m\u001b[0m\u001b[0;34m\u001b[0m\u001b[0m\n",
      "\u001b[0;32m~/.pyenv/versions/anaconda2-5.3.0/envs/py36/lib/python3.6/site-packages/matplotlib/transforms.py\u001b[0m in \u001b[0;36mcontains_branch\u001b[0;34m(self, other)\u001b[0m\n\u001b[1;32m   1350\u001b[0m         \u001b[0;31m# check that a subtree is equal to other (starting from self)\u001b[0m\u001b[0;34m\u001b[0m\u001b[0;34m\u001b[0m\u001b[0;34m\u001b[0m\u001b[0m\n\u001b[1;32m   1351\u001b[0m         \u001b[0;32mfor\u001b[0m \u001b[0m_\u001b[0m\u001b[0;34m,\u001b[0m \u001b[0msub_tree\u001b[0m \u001b[0;32min\u001b[0m \u001b[0mself\u001b[0m\u001b[0;34m.\u001b[0m\u001b[0m_iter_break_from_left_to_right\u001b[0m\u001b[0;34m(\u001b[0m\u001b[0;34m)\u001b[0m\u001b[0;34m:\u001b[0m\u001b[0;34m\u001b[0m\u001b[0;34m\u001b[0m\u001b[0m\n\u001b[0;32m-> 1352\u001b[0;31m             \u001b[0;32mif\u001b[0m \u001b[0msub_tree\u001b[0m \u001b[0;34m==\u001b[0m \u001b[0mother\u001b[0m\u001b[0;34m:\u001b[0m\u001b[0;34m\u001b[0m\u001b[0;34m\u001b[0m\u001b[0m\n\u001b[0m\u001b[1;32m   1353\u001b[0m                 \u001b[0;32mreturn\u001b[0m \u001b[0;32mTrue\u001b[0m\u001b[0;34m\u001b[0m\u001b[0;34m\u001b[0m\u001b[0m\n\u001b[1;32m   1354\u001b[0m         \u001b[0;32mreturn\u001b[0m \u001b[0;32mFalse\u001b[0m\u001b[0;34m\u001b[0m\u001b[0;34m\u001b[0m\u001b[0m\n",
      "\u001b[0;32m~/.pyenv/versions/anaconda2-5.3.0/envs/py36/lib/python3.6/site-packages/matplotlib/transforms.py\u001b[0m in \u001b[0;36m__eq__\u001b[0;34m(self, other)\u001b[0m\n\u001b[1;32m   2442\u001b[0m     \u001b[0;32mdef\u001b[0m \u001b[0m__eq__\u001b[0m\u001b[0;34m(\u001b[0m\u001b[0mself\u001b[0m\u001b[0;34m,\u001b[0m \u001b[0mother\u001b[0m\u001b[0;34m)\u001b[0m\u001b[0;34m:\u001b[0m\u001b[0;34m\u001b[0m\u001b[0;34m\u001b[0m\u001b[0m\n\u001b[1;32m   2443\u001b[0m         \u001b[0;32mif\u001b[0m \u001b[0misinstance\u001b[0m\u001b[0;34m(\u001b[0m\u001b[0mother\u001b[0m\u001b[0;34m,\u001b[0m \u001b[0;34m(\u001b[0m\u001b[0mCompositeGenericTransform\u001b[0m\u001b[0;34m,\u001b[0m \u001b[0mCompositeAffine2D\u001b[0m\u001b[0;34m)\u001b[0m\u001b[0;34m)\u001b[0m\u001b[0;34m:\u001b[0m\u001b[0;34m\u001b[0m\u001b[0;34m\u001b[0m\u001b[0m\n\u001b[0;32m-> 2444\u001b[0;31m             \u001b[0;32mreturn\u001b[0m \u001b[0mself\u001b[0m \u001b[0;32mis\u001b[0m \u001b[0mother\u001b[0m \u001b[0;32mor\u001b[0m \u001b[0;34m(\u001b[0m\u001b[0mself\u001b[0m\u001b[0;34m.\u001b[0m\u001b[0m_a\u001b[0m \u001b[0;34m==\u001b[0m \u001b[0mother\u001b[0m\u001b[0;34m.\u001b[0m\u001b[0m_a\u001b[0m \u001b[0;32mand\u001b[0m \u001b[0mself\u001b[0m\u001b[0;34m.\u001b[0m\u001b[0m_b\u001b[0m \u001b[0;34m==\u001b[0m \u001b[0mother\u001b[0m\u001b[0;34m.\u001b[0m\u001b[0m_b\u001b[0m\u001b[0;34m)\u001b[0m\u001b[0;34m\u001b[0m\u001b[0;34m\u001b[0m\u001b[0m\n\u001b[0m\u001b[1;32m   2445\u001b[0m         \u001b[0;32melse\u001b[0m\u001b[0;34m:\u001b[0m\u001b[0;34m\u001b[0m\u001b[0;34m\u001b[0m\u001b[0m\n\u001b[1;32m   2446\u001b[0m             \u001b[0;32mreturn\u001b[0m \u001b[0;32mFalse\u001b[0m\u001b[0;34m\u001b[0m\u001b[0;34m\u001b[0m\u001b[0m\n",
      "\u001b[0;32m~/.pyenv/versions/anaconda2-5.3.0/envs/py36/lib/python3.6/site-packages/matplotlib/transforms.py\u001b[0m in \u001b[0;36m__eq__\u001b[0;34m(self, other)\u001b[0m\n\u001b[1;32m   1672\u001b[0m \u001b[0;34m\u001b[0m\u001b[0m\n\u001b[1;32m   1673\u001b[0m     \u001b[0;32mdef\u001b[0m \u001b[0m__eq__\u001b[0m\u001b[0;34m(\u001b[0m\u001b[0mself\u001b[0m\u001b[0;34m,\u001b[0m \u001b[0mother\u001b[0m\u001b[0;34m)\u001b[0m\u001b[0;34m:\u001b[0m\u001b[0;34m\u001b[0m\u001b[0;34m\u001b[0m\u001b[0m\n\u001b[0;32m-> 1674\u001b[0;31m         \u001b[0;32mreturn\u001b[0m \u001b[0mself\u001b[0m\u001b[0;34m.\u001b[0m\u001b[0m_child\u001b[0m\u001b[0;34m.\u001b[0m\u001b[0m__eq__\u001b[0m\u001b[0;34m(\u001b[0m\u001b[0mother\u001b[0m\u001b[0;34m)\u001b[0m\u001b[0;34m\u001b[0m\u001b[0;34m\u001b[0m\u001b[0m\n\u001b[0m\u001b[1;32m   1675\u001b[0m \u001b[0;34m\u001b[0m\u001b[0m\n\u001b[1;32m   1676\u001b[0m     \u001b[0;31m# NOTE: Transform.__[gs]etstate__ should be sufficient when using only\u001b[0m\u001b[0;34m\u001b[0m\u001b[0;34m\u001b[0m\u001b[0;34m\u001b[0m\u001b[0m\n",
      "\u001b[0;32m~/.pyenv/versions/anaconda2-5.3.0/envs/py36/lib/python3.6/site-packages/matplotlib/transforms.py\u001b[0m in \u001b[0;36m__eq__\u001b[0;34m(self, other)\u001b[0m\n\u001b[1;32m   2336\u001b[0m         \u001b[0;32mif\u001b[0m \u001b[0misinstance\u001b[0m\u001b[0;34m(\u001b[0m\u001b[0mother\u001b[0m\u001b[0;34m,\u001b[0m \u001b[0;34m(\u001b[0m\u001b[0mBlendedAffine2D\u001b[0m\u001b[0;34m,\u001b[0m \u001b[0mBlendedGenericTransform\u001b[0m\u001b[0;34m)\u001b[0m\u001b[0;34m)\u001b[0m\u001b[0;34m:\u001b[0m\u001b[0;34m\u001b[0m\u001b[0;34m\u001b[0m\u001b[0m\n\u001b[1;32m   2337\u001b[0m             \u001b[0;32mreturn\u001b[0m \u001b[0;34m(\u001b[0m\u001b[0mself\u001b[0m\u001b[0;34m.\u001b[0m\u001b[0m_x\u001b[0m \u001b[0;34m==\u001b[0m \u001b[0mother\u001b[0m\u001b[0;34m.\u001b[0m\u001b[0m_x\u001b[0m\u001b[0;34m)\u001b[0m \u001b[0;32mand\u001b[0m \u001b[0;34m(\u001b[0m\u001b[0mself\u001b[0m\u001b[0;34m.\u001b[0m\u001b[0m_y\u001b[0m \u001b[0;34m==\u001b[0m \u001b[0mother\u001b[0m\u001b[0;34m.\u001b[0m\u001b[0m_y\u001b[0m\u001b[0;34m)\u001b[0m\u001b[0;34m\u001b[0m\u001b[0;34m\u001b[0m\u001b[0m\n\u001b[0;32m-> 2338\u001b[0;31m         \u001b[0;32melif\u001b[0m \u001b[0mself\u001b[0m\u001b[0;34m.\u001b[0m\u001b[0m_x\u001b[0m \u001b[0;34m==\u001b[0m \u001b[0mself\u001b[0m\u001b[0;34m.\u001b[0m\u001b[0m_y\u001b[0m\u001b[0;34m:\u001b[0m\u001b[0;34m\u001b[0m\u001b[0;34m\u001b[0m\u001b[0m\n\u001b[0m\u001b[1;32m   2339\u001b[0m             \u001b[0;32mreturn\u001b[0m \u001b[0mself\u001b[0m\u001b[0;34m.\u001b[0m\u001b[0m_x\u001b[0m \u001b[0;34m==\u001b[0m \u001b[0mother\u001b[0m\u001b[0;34m\u001b[0m\u001b[0;34m\u001b[0m\u001b[0m\n\u001b[1;32m   2340\u001b[0m         \u001b[0;32melse\u001b[0m\u001b[0;34m:\u001b[0m\u001b[0;34m\u001b[0m\u001b[0;34m\u001b[0m\u001b[0m\n",
      "\u001b[0;32m~/.pyenv/versions/anaconda2-5.3.0/envs/py36/lib/python3.6/site-packages/matplotlib/transforms.py\u001b[0m in \u001b[0;36m__eq__\u001b[0;34m(self, other)\u001b[0m\n\u001b[1;32m   1781\u001b[0m         \u001b[0;32mreturn\u001b[0m \u001b[0mnp\u001b[0m\u001b[0;34m.\u001b[0m\u001b[0mdot\u001b[0m\u001b[0;34m(\u001b[0m\u001b[0mb\u001b[0m\u001b[0;34m,\u001b[0m \u001b[0ma\u001b[0m\u001b[0;34m)\u001b[0m\u001b[0;34m\u001b[0m\u001b[0;34m\u001b[0m\u001b[0m\n\u001b[1;32m   1782\u001b[0m \u001b[0;34m\u001b[0m\u001b[0m\n\u001b[0;32m-> 1783\u001b[0;31m     \u001b[0;32mdef\u001b[0m \u001b[0m__eq__\u001b[0m\u001b[0;34m(\u001b[0m\u001b[0mself\u001b[0m\u001b[0;34m,\u001b[0m \u001b[0mother\u001b[0m\u001b[0;34m)\u001b[0m\u001b[0;34m:\u001b[0m\u001b[0;34m\u001b[0m\u001b[0;34m\u001b[0m\u001b[0m\n\u001b[0m\u001b[1;32m   1784\u001b[0m         \u001b[0;32mif\u001b[0m \u001b[0mgetattr\u001b[0m\u001b[0;34m(\u001b[0m\u001b[0mother\u001b[0m\u001b[0;34m,\u001b[0m \u001b[0;34m\"is_affine\"\u001b[0m\u001b[0;34m,\u001b[0m \u001b[0;32mFalse\u001b[0m\u001b[0;34m)\u001b[0m\u001b[0;34m:\u001b[0m\u001b[0;34m\u001b[0m\u001b[0;34m\u001b[0m\u001b[0m\n\u001b[1;32m   1785\u001b[0m             \u001b[0;32mreturn\u001b[0m \u001b[0mnp\u001b[0m\u001b[0;34m.\u001b[0m\u001b[0mall\u001b[0m\u001b[0;34m(\u001b[0m\u001b[0mself\u001b[0m\u001b[0;34m.\u001b[0m\u001b[0mget_matrix\u001b[0m\u001b[0;34m(\u001b[0m\u001b[0;34m)\u001b[0m \u001b[0;34m==\u001b[0m \u001b[0mother\u001b[0m\u001b[0;34m.\u001b[0m\u001b[0mget_matrix\u001b[0m\u001b[0;34m(\u001b[0m\u001b[0;34m)\u001b[0m\u001b[0;34m)\u001b[0m\u001b[0;34m\u001b[0m\u001b[0;34m\u001b[0m\u001b[0m\n",
      "\u001b[0;31mKeyboardInterrupt\u001b[0m: "
     ]
    }
   ],
   "source": [
    "meta_df.venue.value_counts().plot(bins=50, alpha=0.5, figsize=(8,4), kind='bar', range=(0, 500), density=True);"
   ]
  },
  {
   "cell_type": "code",
   "execution_count": null,
   "metadata": {},
   "outputs": [],
   "source": []
  },
  {
   "cell_type": "code",
   "execution_count": 16,
   "metadata": {},
   "outputs": [
    {
     "data": {
      "text/plain": [
       "<matplotlib.axes._subplots.AxesSubplot at 0x7ffbb50c4dd8>"
      ]
     },
     "execution_count": 16,
     "metadata": {},
     "output_type": "execute_result"
    },
    {
     "data": {
      "image/png": "[encoded data removed]",
      "text/plain": [
       "<Figure size 864x432 with 1 Axes>"
      ]
     },
     "metadata": {
      "needs_background": "light"
     },
     "output_type": "display_data"
    }
   ],
   "source": [
    "meta_raw_df.year.value_counts().sort_index().plot(kind='bar', figsize=(12, 6))"
   ]
  }
 ],
 "metadata": {
  "kernelspec": {
   "display_name": "py36",
   "language": "python",
   "name": "py36"
  },
  "language_info": {
   "codemirror_mode": {
    "name": "ipython",
    "version": 3
   },
   "file_extension": ".py",
   "mimetype": "text/x-python",
   "name": "python",
   "nbconvert_exporter": "python",
   "pygments_lexer": "ipython3",
   "version": "3.6.9"
  },
  "toc": {
   "base_numbering": 1,
   "nav_menu": {},
   "number_sections": true,
   "sideBar": true,
   "skip_h1_title": false,
   "title_cell": "Table of Contents",
   "title_sidebar": "Contents",
   "toc_cell": false,
   "toc_position": {},
   "toc_section_display": true,
   "toc_window_display": false
  }
 },
 "nbformat": 4,
 "nbformat_minor": 2
}
