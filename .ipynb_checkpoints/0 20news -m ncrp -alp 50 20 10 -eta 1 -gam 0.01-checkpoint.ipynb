{
 "cells": [
  {
   "cell_type": "code",
   "execution_count": 3,
   "metadata": {},
   "outputs": [
    {
     "data": {
      "application/javascript": [
       "IPython.notebook.kernel.execute('nb_name = \"' + IPython.notebook.notebook_name + '\"')\n"
      ],
      "text/plain": [
       "<IPython.core.display.Javascript object>"
      ]
     },
     "metadata": {},
     "output_type": "display_data"
    }
   ],
   "source": [
    "%%javascript\n",
    "IPython.notebook.kernel.execute('nb_name = \"' + IPython.notebook.notebook_name + '\"')"
   ]
  },
  {
   "cell_type": "code",
   "execution_count": 4,
   "metadata": {},
   "outputs": [
    {
     "name": "stdout",
     "output_type": "stream",
     "text": [
      "The autoreload extension is already loaded. To reload it, use:\n",
      "  %reload_ext autoreload\n"
     ]
    }
   ],
   "source": [
    "%load_ext autoreload\n",
    "%autoreload\n",
    "from IPython.display import clear_output\n",
    "\n",
    "import os\n",
    "import pdb\n",
    "import _pickle as cPickle\n",
    "import time\n",
    "import subprocess\n",
    "import glob\n",
    "\n",
    "import random\n",
    "import numpy as np\n",
    "import pandas as pd\n",
    "import tensorflow as tf\n",
    "\n",
    "from collections import defaultdict, Counter\n",
    "from ncrp import Topic, Doc, init, sample, get_perplexity, get_topic_specialization, get_hierarchical_affinities, get_freq_tokens_ncrp, get_docs\n",
    "from configure import get_config"
   ]
  },
  {
   "cell_type": "markdown",
   "metadata": {},
   "source": [
    "# load config & data "
   ]
  },
  {
   "cell_type": "code",
   "execution_count": 5,
   "metadata": {},
   "outputs": [],
   "source": [
    "config = get_config(nb_name)\n",
    "np.random.seed(config.seed)\n",
    "random.seed(config.seed)"
   ]
  },
  {
   "cell_type": "code",
   "execution_count": 6,
   "metadata": {},
   "outputs": [],
   "source": [
    "instances_train, instances_dev, instances_test, word_to_idx, idx_to_word, bow_idxs = cPickle.load(open(config.path_data,'rb'))"
   ]
  },
  {
   "cell_type": "code",
   "execution_count": 7,
   "metadata": {},
   "outputs": [
    {
     "data": {
      "text/plain": [
       "(31943, 1035)"
      ]
     },
     "execution_count": 7,
     "metadata": {},
     "output_type": "execute_result"
    }
   ],
   "source": [
    "config.n_doc = len(instances_train)\n",
    "config.n_vocab = len(bow_idxs)\n",
    "config.n_doc, config.n_vocab"
   ]
  },
  {
   "cell_type": "markdown",
   "metadata": {},
   "source": [
    "# run"
   ]
  },
  {
   "cell_type": "markdown",
   "metadata": {},
   "source": [
    "## initialize log"
   ]
  },
  {
   "cell_type": "code",
   "execution_count": 8,
   "metadata": {},
   "outputs": [],
   "source": [
    "checkpoint = []\n",
    "ppl_min = np.inf\n",
    "epoch = 0\n",
    "\n",
    "cmd_rm = 'rm -r %s' % config.dir_model\n",
    "res = subprocess.call(cmd_rm.split())\n",
    "cmd_mk = 'mkdir %s' % config.dir_model\n",
    "res = subprocess.call(cmd_mk.split())\n",
    "\n",
    "log_df = pd.DataFrame(columns=pd.MultiIndex.from_tuples(\n",
    "                    list(zip(*[['','','','TRAIN:','VALID:','TEST:','SPEC:', '', '', 'HIER:', ''],\n",
    "                            ['Time','Ep','Ct','PPL','PPL', 'PPL','1', '2', '3', 'CHILD', 'OTHER']]))))\n",
    "\n",
    "def update_checkpoint(config, checkpoint, epoch):\n",
    "    checkpoint.append(config.path_model + '-%i' % epoch)\n",
    "    if len(checkpoint) > config.max_to_keep:\n",
    "        path_model = checkpoint.pop(0)\n",
    "        for p in glob.glob(path_model):\n",
    "            os.remove(p)\n",
    "    cPickle.dump(checkpoint, open(config.path_checkpoint, 'wb'))"
   ]
  },
  {
   "cell_type": "markdown",
   "metadata": {},
   "source": [
    "## initialize data"
   ]
  },
  {
   "cell_type": "code",
   "execution_count": 9,
   "metadata": {},
   "outputs": [
    {
     "name": "stdout",
     "output_type": "stream",
     "text": [
      "0 10000 20000 30000 0 0 "
     ]
    }
   ],
   "source": [
    "topic_root = Topic(idx='0', sibling_idx=0, parent=None, depth=0, config=config)\n",
    "train_docs = get_docs(instances_train, config)\n",
    "dev_docs = get_docs(instances_dev, config)\n",
    "test_docs = get_docs(instances_test, config)\n",
    "init(train_docs, dev_docs, test_docs, topic_root)"
   ]
  },
  {
   "cell_type": "markdown",
   "metadata": {},
   "source": [
    "## run"
   ]
  },
  {
   "cell_type": "code",
   "execution_count": null,
   "metadata": {
    "scrolled": false
   },
   "outputs": [
    {
     "data": {
      "text/html": [
       "<div>\n",
       "<style scoped>\n",
       "    .dataframe tbody tr th:only-of-type {\n",
       "        vertical-align: middle;\n",
       "    }\n",
       "\n",
       "    .dataframe tbody tr th {\n",
       "        vertical-align: top;\n",
       "    }\n",
       "\n",
       "    .dataframe thead tr th {\n",
       "        text-align: left;\n",
       "    }\n",
       "</style>\n",
       "<table border=\"1\" class=\"dataframe\">\n",
       "  <thead>\n",
       "    <tr>\n",
       "      <th></th>\n",
       "      <th colspan=\"3\" halign=\"left\"></th>\n",
       "      <th>TRAIN:</th>\n",
       "      <th>VALID:</th>\n",
       "      <th>TEST:</th>\n",
       "      <th>SPEC:</th>\n",
       "      <th colspan=\"2\" halign=\"left\"></th>\n",
       "      <th>HIER:</th>\n",
       "      <th></th>\n",
       "    </tr>\n",
       "    <tr>\n",
       "      <th></th>\n",
       "      <th>Time</th>\n",
       "      <th>Ep</th>\n",
       "      <th>Ct</th>\n",
       "      <th>PPL</th>\n",
       "      <th>PPL</th>\n",
       "      <th>PPL</th>\n",
       "      <th>1</th>\n",
       "      <th>2</th>\n",
       "      <th>3</th>\n",
       "      <th>CHILD</th>\n",
       "      <th>OTHER</th>\n",
       "    </tr>\n",
       "  </thead>\n",
       "  <tbody>\n",
       "    <tr>\n",
       "      <th>0</th>\n",
       "      <td>260</td>\n",
       "      <td>0</td>\n",
       "      <td>0</td>\n",
       "      <td>344</td>\n",
       "      <td>331</td>\n",
       "      <td>329</td>\n",
       "      <td>0.07</td>\n",
       "      <td>0.56</td>\n",
       "      <td>0.60</td>\n",
       "      <td>0.48</td>\n",
       "      <td>0.33</td>\n",
       "    </tr>\n",
       "    <tr>\n",
       "      <th>1</th>\n",
       "      <td>328</td>\n",
       "      <td>1</td>\n",
       "      <td>0</td>\n",
       "      <td>308</td>\n",
       "      <td>303</td>\n",
       "      <td>304</td>\n",
       "      <td>0.08</td>\n",
       "      <td>0.59</td>\n",
       "      <td>0.63</td>\n",
       "      <td>0.50</td>\n",
       "      <td>0.28</td>\n",
       "    </tr>\n",
       "    <tr>\n",
       "      <th>2</th>\n",
       "      <td>354</td>\n",
       "      <td>2</td>\n",
       "      <td>0</td>\n",
       "      <td>302</td>\n",
       "      <td>302</td>\n",
       "      <td>303</td>\n",
       "      <td>0.09</td>\n",
       "      <td>0.61</td>\n",
       "      <td>0.63</td>\n",
       "      <td>0.48</td>\n",
       "      <td>0.24</td>\n",
       "    </tr>\n",
       "    <tr>\n",
       "      <th>3</th>\n",
       "      <td>351</td>\n",
       "      <td>3</td>\n",
       "      <td>0</td>\n",
       "      <td>302</td>\n",
       "      <td>303</td>\n",
       "      <td>303</td>\n",
       "      <td>0.09</td>\n",
       "      <td>0.64</td>\n",
       "      <td>0.63</td>\n",
       "      <td>0.49</td>\n",
       "      <td>0.23</td>\n",
       "    </tr>\n",
       "    <tr>\n",
       "      <th>4</th>\n",
       "      <td>377</td>\n",
       "      <td>4</td>\n",
       "      <td>0</td>\n",
       "      <td>295</td>\n",
       "      <td>294</td>\n",
       "      <td>295</td>\n",
       "      <td>0.10</td>\n",
       "      <td>0.65</td>\n",
       "      <td>0.63</td>\n",
       "      <td>0.47</td>\n",
       "      <td>0.23</td>\n",
       "    </tr>\n",
       "  </tbody>\n",
       "</table>\n",
       "</div>"
      ],
      "text/plain": [
       "             TRAIN: VALID: TEST: SPEC:             HIER:      \n",
       "  Time Ep Ct    PPL    PPL   PPL     1     2     3 CHILD OTHER\n",
       "0  260  0  0    344    331   329  0.07  0.56  0.60  0.48  0.33\n",
       "1  328  1  0    308    303   304  0.08  0.59  0.63  0.50  0.28\n",
       "2  354  2  0    302    302   303  0.09  0.61  0.63  0.48  0.24\n",
       "3  351  3  0    302    303   303  0.09  0.64  0.63  0.49  0.23\n",
       "4  377  4  0    295    294   295  0.10  0.65  0.63  0.47  0.23"
      ]
     },
     "metadata": {},
     "output_type": "display_data"
    },
    {
     "name": "stdout",
     "output_type": "stream",
     "text": [
      " 0 31943 304250.0 ! nice bought love price recommend quality perfect 'm -\n",
      "   0-1 1739 9924.0 ! cover color keyboard love pro perfectly apple mac purple\n",
      "     0-1-2 1727 4399.0 ! love cover mac keyboard protector pink pro screen recommend\n",
      "     0-1-3 12 17.0 christmas line initially note sleeves pro figured enjoy protection added\n",
      "   0-2 671 4160.0 carry room pockets plenty books lots items compartments pack business\n",
      "     0-2-1 83 205.0 college student school books binders held cool walking well-made supplies\n",
      "     0-2-2 588 1505.0 travel seat comfortable hold compartments carry airport bottle overhead compartment\n",
      "   0-3 612 4115.0 zipper broke zippers months started handle year strap week month\n",
      "     0-3-2 503 1313.0 months weeks straps broken seam customer ripped ago falling purchasing\n",
      "     0-3-3 109 228.0 metal pull rubber point long happened fell fix covered design\n",
      "   0-4 754 4309.0 cover keyboard hard mac easy protects pro color apple scratches\n",
      "     0-4-1 292 732.0 shell mac scratches mbp retina protect display pro recommended ipearl\n",
      "     0-4-2 460 1152.0 cover keyboard protector screen type mac nice weight logo easily\n",
      "     0-4-3 2 11.0 layer neoprene fell received cracked classy affordable offers style trouble\n",
      "   0-5 2711 13893.0 sleeve inch pro protection zipper inside air protect neoprene soft\n",
      "     0-5-1 297 785.0 sleeve retina smell protection incase mbp chemical loose air sleeves\n",
      "     0-5-2 1939 4746.0 sleeve air protection snug ipad retina mac inside scratches bit\n",
      "     0-5-3 475 1117.0 sleeve dimensions laptops protection toshiba hp sony expect fabric netbook\n",
      "   0-6 516 3289.0 bottom corners months cover top started cracked speck broke piece\n",
      "     0-6-1 9 26.0 plane turned carrier met camera clear weeks damaged knew kinda\n",
      "     0-6-2 503 1161.0 bottom cracked cracking months part cover speck corner half money\n",
      "     0-6-3 4 11.0 shown top buy portable sides cost picked lower advertised battery\n",
      "   0-7 494 3834.0 camera lens lenses carry room canon equipment flash accessories pack\n",
      "     0-7-1 70 125.0 lenses full size camera straps starting professional money advertised single\n",
      "     0-7-2 424 1289.0 camera gear lenses canon straps photo tripod equipment compartment access\n",
      "   0-8 3169 14402.0 ! quality item ordered price amazon color received shipping buy\n",
      "     0-8-1 95 224.0 show pictures netbook smell additional time started leather returning cute\n",
      "     0-8-2 2258 4887.0 ! love gift loves $ amazon bought buy reviews christmas\n",
      "     0-8-3 816 1697.0 order shipping return expected pictures arrived ! correct ... customer\n",
      "   0-9 476 4337.0 pockets compartment strap : pocket main handle compartments - zipper\n",
      "     0-9-1 17 48.0 closure tons unzip briefcase double airport ipad uncomfortable exterior airplane\n",
      "     0-9-2 455 1720.0 shoulder straps side bottle water small strap pack holder access\n",
      "     0-9-3 4 8.0 lens pictured spare based concerned front cracked flap fix flash\n",
      "   0-10 895 5244.0 color cover picture apple keyboard blue pro logo pink plastic\n",
      "     0-10-1 101 247.0 & ; black protect texture logo trouble blue display shell\n",
      "     0-10-2 791 1762.0 pink cover bottom dirty mac keyboard pictured white scratches part\n",
      "     0-10-3 3 10.0 gray reviewers cute mine white tiny fine system brown 'm\n",
      "   0-11 549 3665.0 power pocket room cord mouse small netbook plenty charger carry\n",
      "     0-11-2 14 54.0 player dvd lap holder -inch comfortably sony standard accessory hard\n",
      "     0-11-3 535 1460.0 mouse netbook pouch charger mini wireless drive power cables external\n",
      "   0-12 486 2544.0 cards sd memory ; card slots small sleeves plastic camera\n",
      "     0-12-1 208 1114.0 & ; air player hands dvd corners gear returned portable\n",
      "     0-12-2 278 556.0 card memory cloth video plastic cd dvd sd adequate recently\n",
      "   0-13 1150 6495.0 carry years back pack books year school handle heavy daily\n",
      "     0-13-1 368 969.0 school years college high lasted swiss son books 've owned\n",
      "     0-13-2 775 2018.0 work comfortable straps files stuff holds carry wheels compartments travel\n",
      "     0-13-3 7 11.0 offers clip wear fan research stand check length surprise prevent\n",
      "   0-14 337 2139.0 drive hard keyboard power works cover usb port ports tablet\n",
      "     0-14-1 195 671.0 usb drive card cable rugged external plug portable adapter wireless\n",
      "     0-14-2 142 393.0 protector screen scratches cover tab life cut tablet battery shell\n",
      "   0-15 1078 7227.0 bottom cover top piece plastic part feet keyboard rubber apple\n",
      "     0-15-1 407 1097.0 ; & top bottom retina half part cover received snap\n",
      "     0-15-2 667 1790.0 bottom cover screen part rubber back plastic feel cut open\n",
      "     0-15-3 4 14.0 delivered feature positive cell closed tend picture sound supplies fan\n",
      "   0-16 8283 43265.0 pocket room carry pockets ! power plenty space ipad charger\n",
      "     0-16-1 155 670.0 & ; retina mbp air sleeve mac smell online display\n",
      "     0-16-2 5147 13868.0 & mouse pocket ; ipad shoulder charger inside carry extra\n",
      "     0-16-3 2576 7277.0 sleeve & ; netbook ! mouse cord perfect chromebook mini\n",
      "     0-16-4 405 1069.0 sleeve zipper handle netbook edges backpacks series small black pulls\n",
      "   0-17 3461 19800.0 strap handle pack carry heavy pockets compartment shoulder straps zippers\n",
      "     0-17-1 567 1507.0 gear wheels swiss dimensions model size compartments front commute laptops\n",
      "     0-17-2 1816 5483.0 straps shoulder compartments ; work wheels heavy back comfortable stuff\n",
      "     0-17-3 366 1041.0 straps player car dvd camera cords trip worked seat lenses\n",
      "     0-17-4 712 2158.0 've years gift pockets stitching year coming design products loved\n",
      "   0-18 2624 15054.0 cover keyboard color apple plastic speck bottom pro hard mac\n",
      "     0-18-1 527 1578.0 & ; mac pro mba key surface cover device stand\n",
      "     0-18-2 2014 5823.0 cover mac screen protector bottom scratches shell keyboard logo hard\n",
      "     0-18-3 80 253.0 netbook pros machine opened prefer rear appears ` finish mind\n",
      "     0-18-4 3 11.0 move packaged cheap place mouse system change giving feeling personally\n",
      "   0-19 1738 9280.0 sleeve smell -- pro neoprene protect zipper $ item !\n",
      "     0-19-1 483 1378.0 player dvd netbook car mbp sony portable sleeve purpose bottom\n",
      "     0-19-2 790 2451.0 & ; sleeve ? air protection water incase sleeves flap\n",
      "     0-19-3 420 1104.0 cheap -- charger leather $ chemical returned odor reviews months\n",
      "     0-19-4 45 163.0 chance online vaio hp student slim accessory match week carrying\n",
      "   0-20 200 1160.0 purse remove toshiba works phone lock kindle memory photo description\n",
      "     0-20-1 200 609.0 pretty fabric years mouse binder day water key thing photos\n",
      "0 10000 20000 30000 0 0 "
     ]
    }
   ],
   "source": [
    "time_start = time.time()\n",
    "while epoch < config.n_epochs:\n",
    "    sample(train_docs, dev_docs, test_docs, topic_root)\n",
    "    ppl_train = get_perplexity(train_docs, topic_root)\n",
    "    ppl_dev = get_perplexity(dev_docs, topic_root)\n",
    "    \n",
    "    if ppl_dev < ppl_min:\n",
    "        ppl_min = ppl_dev\n",
    "        ppl_test = get_perplexity(test_docs, topic_root)\n",
    "        cPickle.dump([test_docs, topic_root], open(config.path_model + '-%i'%epoch, 'wb'))\n",
    "        update_checkpoint(config, checkpoint, epoch)\n",
    "        \n",
    "    depth_spec = get_topic_specialization(test_docs, topic_root)\n",
    "    hierarchical_affinities = get_hierarchical_affinities(topic_root)\n",
    "    \n",
    "    clear_output()\n",
    "    time_log = int(time.time() - time_start)\n",
    "    time_start = time.time()\n",
    "    log_series = pd.Series([time_log, epoch, 0, \\\n",
    "            '%.0f'%ppl_train, '%.0f'%ppl_dev, '%.0f'%ppl_test, \\\n",
    "            '%.2f'%depth_spec[1], '%.2f'%depth_spec[2], '%.2f'%depth_spec[3], \\\n",
    "            '%.2f'%hierarchical_affinities[0], '%.2f'%hierarchical_affinities[1]],\n",
    "            index=log_df.columns)\n",
    "    log_df.loc[epoch] = log_series    \n",
    "    display(log_df)\n",
    "    get_freq_tokens_ncrp(topic_root, idx_to_word, bow_idxs)\n",
    "    \n",
    "    cPickle.dump(log_df, open(config.path_log, 'wb'))\n",
    "    epoch += 1"
   ]
  }
 ],
 "metadata": {
  "kernelspec": {
   "display_name": "py36",
   "language": "python",
   "name": "py36"
  },
  "language_info": {
   "codemirror_mode": {
    "name": "ipython",
    "version": 3
   },
   "file_extension": ".py",
   "mimetype": "text/x-python",
   "name": "python",
   "nbconvert_exporter": "python",
   "pygments_lexer": "ipython3",
   "version": "3.6.9"
  },
  "toc": {
   "base_numbering": 1,
   "nav_menu": {},
   "number_sections": true,
   "sideBar": true,
   "skip_h1_title": false,
   "title_cell": "Table of Contents",
   "title_sidebar": "Contents",
   "toc_cell": false,
   "toc_position": {},
   "toc_section_display": true,
   "toc_window_display": false
  }
 },
 "nbformat": 4,
 "nbformat_minor": 2
}
