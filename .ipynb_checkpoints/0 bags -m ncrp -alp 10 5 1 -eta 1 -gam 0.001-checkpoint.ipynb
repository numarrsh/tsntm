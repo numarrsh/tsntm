{
 "cells": [
  {
   "cell_type": "code",
   "execution_count": 1,
   "metadata": {},
   "outputs": [
    {
     "data": {
      "application/javascript": [
       "IPython.notebook.kernel.execute('nb_name = \"' + IPython.notebook.notebook_name + '\"')\n"
      ],
      "text/plain": [
       "<IPython.core.display.Javascript object>"
      ]
     },
     "metadata": {},
     "output_type": "display_data"
    }
   ],
   "source": [
    "%%javascript\n",
    "IPython.notebook.kernel.execute('nb_name = \"' + IPython.notebook.notebook_name + '\"')"
   ]
  },
  {
   "cell_type": "code",
   "execution_count": 2,
   "metadata": {},
   "outputs": [],
   "source": [
    "%load_ext autoreload\n",
    "%autoreload\n",
    "from IPython.display import clear_output\n",
    "\n",
    "import os\n",
    "import pdb\n",
    "import _pickle as cPickle\n",
    "import time\n",
    "import subprocess\n",
    "import glob\n",
    "\n",
    "import random\n",
    "import numpy as np\n",
    "import pandas as pd\n",
    "import tensorflow as tf\n",
    "\n",
    "from collections import defaultdict, Counter\n",
    "from ncrp import Topic, Doc, init, sample, get_perplexity, get_topic_specialization, get_hierarchical_affinities, get_freq_tokens_ncrp, get_docs\n",
    "from configure import get_config"
   ]
  },
  {
   "cell_type": "markdown",
   "metadata": {},
   "source": [
    "# load config & data "
   ]
  },
  {
   "cell_type": "code",
   "execution_count": 3,
   "metadata": {},
   "outputs": [],
   "source": [
    "config = get_config(nb_name)\n",
    "np.random.seed(config.seed)\n",
    "random.seed(config.seed)"
   ]
  },
  {
   "cell_type": "code",
   "execution_count": 4,
   "metadata": {},
   "outputs": [],
   "source": [
    "instances_train, instances_dev, instances_test, word_to_idx, idx_to_word, bow_idxs = cPickle.load(open(config.path_data,'rb'))"
   ]
  },
  {
   "cell_type": "code",
   "execution_count": 5,
   "metadata": {},
   "outputs": [
    {
     "data": {
      "text/plain": [
       "(31943, 1035)"
      ]
     },
     "execution_count": 5,
     "metadata": {},
     "output_type": "execute_result"
    }
   ],
   "source": [
    "config.n_doc = len(instances_train)\n",
    "config.n_vocab = len(bow_idxs)\n",
    "config.n_doc, config.n_vocab"
   ]
  },
  {
   "cell_type": "markdown",
   "metadata": {},
   "source": [
    "# run"
   ]
  },
  {
   "cell_type": "markdown",
   "metadata": {},
   "source": [
    "## initialize log"
   ]
  },
  {
   "cell_type": "code",
   "execution_count": 6,
   "metadata": {},
   "outputs": [],
   "source": [
    "checkpoint = []\n",
    "ppl_min = np.inf\n",
    "epoch = 0\n",
    "\n",
    "cmd_rm = 'rm -r %s' % config.dir_model\n",
    "res = subprocess.call(cmd_rm.split())\n",
    "cmd_mk = 'mkdir %s' % config.dir_model\n",
    "res = subprocess.call(cmd_mk.split())\n",
    "\n",
    "log_df = pd.DataFrame(columns=pd.MultiIndex.from_tuples(\n",
    "                    list(zip(*[['','','','TRAIN:','VALID:','TEST:','SPEC:', '', '', 'HIER:', ''],\n",
    "                            ['Time','Ep','Ct','PPL','PPL', 'PPL','1', '2', '3', 'CHILD', 'OTHER']]))))\n",
    "\n",
    "def update_checkpoint(config, checkpoint, epoch):\n",
    "    checkpoint.append(config.path_model + '-%i' % epoch)\n",
    "    if len(checkpoint) > config.max_to_keep:\n",
    "        path_model = checkpoint.pop(0)\n",
    "        for p in glob.glob(path_model):\n",
    "            os.remove(p)\n",
    "    cPickle.dump(checkpoint, open(config.path_checkpoint, 'wb'))"
   ]
  },
  {
   "cell_type": "markdown",
   "metadata": {},
   "source": [
    "## initialize data"
   ]
  },
  {
   "cell_type": "code",
   "execution_count": 7,
   "metadata": {},
   "outputs": [
    {
     "name": "stdout",
     "output_type": "stream",
     "text": [
      "0 10000 20000 30000 0 0 "
     ]
    }
   ],
   "source": [
    "topic_root = Topic(idx='0', sibling_idx=0, parent=None, depth=0, config=config)\n",
    "train_docs = get_docs(instances_train, config)\n",
    "dev_docs = get_docs(instances_dev, config)\n",
    "test_docs = get_docs(instances_test, config)\n",
    "init(train_docs, dev_docs, test_docs, topic_root)"
   ]
  },
  {
   "cell_type": "markdown",
   "metadata": {},
   "source": [
    "## run"
   ]
  },
  {
   "cell_type": "code",
   "execution_count": null,
   "metadata": {
    "scrolled": false
   },
   "outputs": [
    {
     "data": {
      "text/html": [
       "<div>\n",
       "<style scoped>\n",
       "    .dataframe tbody tr th:only-of-type {\n",
       "        vertical-align: middle;\n",
       "    }\n",
       "\n",
       "    .dataframe tbody tr th {\n",
       "        vertical-align: top;\n",
       "    }\n",
       "\n",
       "    .dataframe thead tr th {\n",
       "        text-align: left;\n",
       "    }\n",
       "</style>\n",
       "<table border=\"1\" class=\"dataframe\">\n",
       "  <thead>\n",
       "    <tr>\n",
       "      <th></th>\n",
       "      <th colspan=\"3\" halign=\"left\"></th>\n",
       "      <th>TRAIN:</th>\n",
       "      <th>VALID:</th>\n",
       "      <th>TEST:</th>\n",
       "      <th>SPEC:</th>\n",
       "      <th colspan=\"2\" halign=\"left\"></th>\n",
       "      <th>HIER:</th>\n",
       "      <th></th>\n",
       "    </tr>\n",
       "    <tr>\n",
       "      <th></th>\n",
       "      <th>Time</th>\n",
       "      <th>Ep</th>\n",
       "      <th>Ct</th>\n",
       "      <th>PPL</th>\n",
       "      <th>PPL</th>\n",
       "      <th>PPL</th>\n",
       "      <th>PPL</th>\n",
       "      <th>1</th>\n",
       "      <th>2</th>\n",
       "      <th>3</th>\n",
       "      <th>CHILD</th>\n",
       "    </tr>\n",
       "  </thead>\n",
       "  <tbody>\n",
       "    <tr>\n",
       "      <th>0</th>\n",
       "      <td>199</td>\n",
       "      <td>0</td>\n",
       "      <td>0</td>\n",
       "      <td>367</td>\n",
       "      <td>349</td>\n",
       "      <td>348</td>\n",
       "      <td>0.09</td>\n",
       "      <td>0.50</td>\n",
       "      <td>0.64</td>\n",
       "      <td>0.47</td>\n",
       "      <td>0.34</td>\n",
       "    </tr>\n",
       "    <tr>\n",
       "      <th>1</th>\n",
       "      <td>242</td>\n",
       "      <td>1</td>\n",
       "      <td>0</td>\n",
       "      <td>328</td>\n",
       "      <td>320</td>\n",
       "      <td>322</td>\n",
       "      <td>0.10</td>\n",
       "      <td>0.53</td>\n",
       "      <td>0.66</td>\n",
       "      <td>0.44</td>\n",
       "      <td>0.29</td>\n",
       "    </tr>\n",
       "    <tr>\n",
       "      <th>2</th>\n",
       "      <td>266</td>\n",
       "      <td>2</td>\n",
       "      <td>0</td>\n",
       "      <td>317</td>\n",
       "      <td>315</td>\n",
       "      <td>312</td>\n",
       "      <td>0.10</td>\n",
       "      <td>0.52</td>\n",
       "      <td>0.67</td>\n",
       "      <td>0.46</td>\n",
       "      <td>0.29</td>\n",
       "    </tr>\n",
       "    <tr>\n",
       "      <th>3</th>\n",
       "      <td>286</td>\n",
       "      <td>3</td>\n",
       "      <td>0</td>\n",
       "      <td>306</td>\n",
       "      <td>305</td>\n",
       "      <td>304</td>\n",
       "      <td>0.10</td>\n",
       "      <td>0.54</td>\n",
       "      <td>0.65</td>\n",
       "      <td>0.44</td>\n",
       "      <td>0.29</td>\n",
       "    </tr>\n",
       "    <tr>\n",
       "      <th>4</th>\n",
       "      <td>339</td>\n",
       "      <td>4</td>\n",
       "      <td>0</td>\n",
       "      <td>291</td>\n",
       "      <td>293</td>\n",
       "      <td>288</td>\n",
       "      <td>0.11</td>\n",
       "      <td>0.56</td>\n",
       "      <td>0.66</td>\n",
       "      <td>0.40</td>\n",
       "      <td>0.28</td>\n",
       "    </tr>\n",
       "    <tr>\n",
       "      <th>5</th>\n",
       "      <td>360</td>\n",
       "      <td>5</td>\n",
       "      <td>0</td>\n",
       "      <td>288</td>\n",
       "      <td>292</td>\n",
       "      <td>286</td>\n",
       "      <td>0.11</td>\n",
       "      <td>0.55</td>\n",
       "      <td>0.66</td>\n",
       "      <td>0.35</td>\n",
       "      <td>0.25</td>\n",
       "    </tr>\n",
       "  </tbody>\n",
       "</table>\n",
       "</div>"
      ],
      "text/plain": [
       "             TRAIN: VALID: TEST: SPEC:             HIER:      \n",
       "  Time Ep Ct    PPL    PPL   PPL   PPL     1     2     3 CHILD\n",
       "0  199  0  0    367    349   348  0.09  0.50  0.64  0.47  0.34\n",
       "1  242  1  0    328    320   322  0.10  0.53  0.66  0.44  0.29\n",
       "2  266  2  0    317    315   312  0.10  0.52  0.67  0.46  0.29\n",
       "3  286  3  0    306    305   304  0.10  0.54  0.65  0.44  0.29\n",
       "4  339  4  0    291    293   288  0.11  0.56  0.66  0.40  0.28\n",
       "5  360  5  0    288    292   286  0.11  0.55  0.66  0.35  0.25"
      ]
     },
     "metadata": {},
     "output_type": "display_data"
    },
    {
     "name": "stdout",
     "output_type": "stream",
     "text": [
      " 0 31943 278808.0 ! nice bought price quality love made perfect recommend put\n",
      "   0-1 1931 13342.0 ! love color cover perfectly mac pro recommend perfect apple\n",
      "     0-1-2 60 53.0 brown photos clear snapped gray red dont 'd attached easy\n",
      "     0-1-4 23 9.0 cheaper stays roomy ample stand covered picked seat lining finish\n",
      "     0-1-5 1848 1889.0 cover keyboard smell purple blue pink absolutely highly people compliments\n",
      "   0-2 733 6386.0 travel carry work security airport easy handle seat trip rolling\n",
      "     0-2-1 24 28.0 seat rating pull card ipad ago classy son pouches usb\n",
      "     0-2-2 701 892.0 camera roll lenses lens friendly trip electronics tsa equipment canon\n",
      "     0-2-3 8 18.0 decided adding accessory issues taking wo delivered fully fun works\n",
      "   0-3 1332 10671.0 pocket power mouse room netbook charger small sleeve carry cord\n",
      "     0-3-1 48 49.0 lens dirty canon chargers difficult tightly swiss highly opens bottle\n",
      "     0-3-2 217 181.0 inch wanted camera papers ample ultrabook table business constructed store\n",
      "     0-3-3 942 1338.0 drive cord usb external power cable adapter flash hard pouch\n",
      "     0-3-4 125 250.0 player dvd portable cords logic sony organized store -inch built\n",
      "   0-4 795 7165.0 bottom top cover months corners piece part plastic cracked speck\n",
      "     0-4-1 555 663.0 cover stay keyboard snap bottom top front screen lid falling\n",
      "     0-4-3 240 246.0 matte speck cracking covered screen moving base daughter corners delivery\n",
      "   0-5 1863 14547.0 ! & carry room ; pockets love plenty ipad pocket\n",
      "     0-5-2 134 403.0 ; & wheels roller searched tablet files key free shoulders\n",
      "     0-5-3 119 244.0 camera lens lenses canon body flash spare awesome highly wear\n",
      "     0-5-4 1486 1733.0 ; & camera kindle cord keys wallet dvd highly trips\n",
      "     0-5-5 124 111.0 covers office seller alot offered kids compartment surprised keyboard places\n",
      "   0-6 3052 21350.0 ! cover color pro mac ordered item keyboard buy amazon\n",
      "     0-6-1 250 838.0 keyboard screen protector cover keys type mouse match included key\n",
      "     0-6-2 1273 1865.0 return item customer service received description wrong refund contacted &\n",
      "     0-6-3 1029 1776.0 cover keyboard mcover ipearl keys shell purple speck covers pro\n",
      "     0-6-4 500 507.0 paid terrible son video cases student love plug free buying\n",
      "   0-7 391 2918.0 cards memory sd card small camera slots place pockets plastic\n",
      "     0-7-1 90 366.0 usb drive ports drives installed slot external unit original rugged\n",
      "     0-7-2 301 378.0 camera lens lenses canon tripod access batteries attached holds shipping\n",
      "   0-8 593 5271.0 zipper months broke strap handle straps started shoulder years zippers\n",
      "     0-8-1 25 35.0 binder photos lunch surprised layer owned stand deep outer pulled\n",
      "     0-8-2 8 6.0 finding big recommend return daughter wait finger fingerprints finish fitting\n",
      "     0-8-3 560 541.0 service customer coming weeks buying parts refund handle travel completely\n",
      "   0-9 2836 21524.0 cover color mac bottom hard pro scratches apple air protection\n",
      "     0-9-1 117 142.0 smell smells terrible neoprene protecting plastic minor bad rating fine\n",
      "     0-9-2 256 487.0 keyboard cover protector keys screen type typing angle key helps\n",
      "     0-9-3 261 1028.0 & ; retina kuzy late mbp texture rubberized 'd inexpensive\n",
      "     0-9-4 1850 3392.0 cover keyboard mbp screen & ; protector dust blue keys\n",
      "     0-9-5 136 115.0 adding began pay ugly person lower update color well-made happen\n",
      "     0-9-6 216 237.0 suggest protecting securely remove afraid incase safe price hard cleaning\n",
      "   0-10 1429 13252.0 pockets carry pocket books strap comfortable straps shoulder pack back\n",
      "     0-10-1 186 188.0 swiss school textbooks sizes son lap college clothes loves gear\n",
      "     0-10-2 677 784.0 front strap load bulky phone binder holder lots folders comfortable\n",
      "     0-10-3 396 462.0 ; & stitching lot zippers camera business water heavy things\n",
      "     0-10-4 143 112.0 including sizes slim day immediately style practical rolling professional files\n",
      "     0-10-5 27 15.0 trip dell sewn wearing tightly times wide concern tote intended\n",
      "   0-11 7280 48553.0 sleeve pocket protection zipper ipad inside air padding inch netbook\n",
      "     0-11-1 177 562.0 drive usb external cable port plug power adapter ports hard\n",
      "     0-11-2 275 1434.0 ; & description dimensions return listed corners thinner stated stretch\n",
      "     0-11-3 404 1133.0 smell inch strong odor chemical days smells bad inches cute\n",
      "     0-11-4 2823 3819.0 ; & smell battery netbook cord pink inch zip tight\n",
      "     0-11-5 2297 3927.0 ; & retina pro mbp inch sleeve display protection model\n",
      "     0-11-6 813 1092.0 ipad free velcro tablet colors snug job $ samsung flap\n",
      "     0-11-7 491 683.0 iphone ipod device briefcase included phone trouble previous lined order\n",
      "   0-12 2563 19011.0 zipper 've strap months handle years broke straps year shoulder\n",
      "     0-12-1 123 310.0 player drive dvd smell portable seat external car hard overhead\n",
      "     0-12-2 776 994.0 years targus rolling replacement roller roll design lasted return due\n",
      "     0-12-3 1242 1703.0 & ; open canon coming stuck lenses heavy swiss luggage\n",
      "     0-12-4 422 547.0 brand walking bags basis years stars clip professional support side\n",
      "   0-13 2142 17821.0 pockets carry compartment room pack plenty compartments space straps comfortable\n",
      "     0-13-1 281 1583.0 camera lenses lens canon equipment flash tripod body batteries photo\n",
      "     0-13-2 959 1395.0 swiss compartments camera lenses gear - style high targus pros\n",
      "     0-13-3 902 1299.0 camera lenses equipment lens additional multiple heavier tripod carried section\n",
      "   0-14 2298 15436.0 cover bottom air plastic screen keyboard mac tablet color 've\n",
      "     0-14-1 665 1364.0 cover keyboard keys typing flat ports key type usb tab\n",
      "     0-14-2 868 1491.0 smell cover strong keyboard protector chemical smells red battery mbp\n",
      "     0-14-3 696 1041.0 leather drive smell rain clip offer 've flimsy mind waterproof\n",
      "     0-14-4 69 96.0 floor end care suggest neoprene fell green compact complaint complain\n",
      "   0-15 2065 16974.0 carry pockets strap shoulder handle straps pocket compartment books 've\n",
      "     0-15-1 762 1681.0 & ; player dvd mp seat adapter local stores trip\n",
      "     0-15-2 680 1381.0 camera lenses canon gear tripod lens holder bags body straps\n",
      "     0-15-3 620 1019.0 binder & stuff commute put shoulders sturdy previous small class\n",
      "     0-15-4 2 4.0 broken supposed description refund feel fine foam floor flimsy flexible\n",
      "     0-15-5 1 0.0 zips fast floor flimsy flexible flaw flat flash flap fix\n",
      "   0-16 640 4094.0 ! netbook -- toshiba mouse 've : ipad zipper $\n",
      "     0-16-1 242 609.0 lens camera ; canon usb & cable dark plug port\n",
      "     0-16-2 392 714.0 smell odor battery lock chemical strong research dvd features start\n",
      "     0-16-3 6 16.0 sewn loved fully inexpensive appears fell hp trouble refund material\n",
      "0 10000 20000 30000 0 0 "
     ]
    }
   ],
   "source": [
    "time_start = time.time()\n",
    "while epoch < config.n_epochs:\n",
    "    sample(train_docs, dev_docs, test_docs, topic_root)\n",
    "    ppl_train = get_perplexity(train_docs, topic_root)\n",
    "    ppl_dev = get_perplexity(dev_docs, topic_root)\n",
    "    \n",
    "    if ppl_dev < ppl_min:\n",
    "        ppl_min = ppl_dev\n",
    "        ppl_test = get_perplexity(test_docs, topic_root)\n",
    "        cPickle.dump([test_docs, topic_root], open(config.path_model + '-%i'%epoch, 'wb'))\n",
    "        update_checkpoint(config, checkpoint, epoch)\n",
    "        \n",
    "    depth_spec = get_topic_specialization(test_docs, topic_root)\n",
    "    hierarchical_affinities = get_hierarchical_affinities(topic_root)\n",
    "    \n",
    "    clear_output()\n",
    "    time_log = int(time.time() - time_start)\n",
    "    time_start = time.time()\n",
    "    log_series = pd.Series([time_log, epoch, 0, \\\n",
    "            '%.0f'%ppl_train, '%.0f'%ppl_dev, '%.0f'%ppl_test, \\\n",
    "            '%.2f'%depth_spec[1], '%.2f'%depth_spec[2], '%.2f'%depth_spec[3], \\\n",
    "            '%.2f'%hierarchical_affinities[0], '%.2f'%hierarchical_affinities[1]],\n",
    "            index=log_df.columns)\n",
    "    log_df.loc[epoch] = log_series    \n",
    "    display(log_df)\n",
    "    get_freq_tokens_ncrp(topic_root, idx_to_word, bow_idxs)\n",
    "    \n",
    "    cPickle.dump(log_df, open(config.path_log, 'wb'))\n",
    "    epoch += 1"
   ]
  }
 ],
 "metadata": {
  "kernelspec": {
   "display_name": "py36",
   "language": "python",
   "name": "py36"
  },
  "language_info": {
   "codemirror_mode": {
    "name": "ipython",
    "version": 3
   },
   "file_extension": ".py",
   "mimetype": "text/x-python",
   "name": "python",
   "nbconvert_exporter": "python",
   "pygments_lexer": "ipython3",
   "version": "3.6.9"
  },
  "toc": {
   "base_numbering": 1,
   "nav_menu": {},
   "number_sections": true,
   "sideBar": true,
   "skip_h1_title": false,
   "title_cell": "Table of Contents",
   "title_sidebar": "Contents",
   "toc_cell": false,
   "toc_position": {},
   "toc_section_display": true,
   "toc_window_display": false
  }
 },
 "nbformat": 4,
 "nbformat_minor": 2
}
