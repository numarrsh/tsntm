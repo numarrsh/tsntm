{
 "cells": [
  {
   "cell_type": "code",
   "execution_count": 1,
   "metadata": {},
   "outputs": [],
   "source": [
    "%load_ext autoreload\n",
    "%autoreload\n",
    "from IPython.display import clear_output\n",
    "\n",
    "import os\n",
    "import pdb\n",
    "from six.moves import zip_longest\n",
    "\n",
    "import numpy as np\n",
    "import tensorflow as tf\n",
    "from tensorflow.python import debug as tf_debug\n",
    "import _pickle as cPickle\n",
    "import random\n",
    "\n",
    "from data_structure import load_data\n",
    "from components import dynamic_rnn, dynamic_bi_rnn, DiagonalGaussian"
   ]
  },
  {
   "cell_type": "code",
   "execution_count": 2,
   "metadata": {},
   "outputs": [],
   "source": [
    "PAD = '<pad>' # This has a vocab id, which is used to pad the encoder input, decoder input and target sequence\n",
    "UNK = '<unk>' # This has a vocab id, which is used to represent out-of-vocabulary words\n",
    "BOS = '<p>' # This has a vocab id, which is used at the beginning of every decoder input sequence\n",
    "EOS = '</p>' # This has a vocab id, which is used at the end of untruncated target sequences"
   ]
  },
  {
   "cell_type": "markdown",
   "metadata": {},
   "source": [
    "# load data & set config"
   ]
  },
  {
   "cell_type": "code",
   "execution_count": 37,
   "metadata": {
    "code_folding": [
     0
    ]
   },
   "outputs": [],
   "source": [
    "def del_all_flags(FLAGS):\n",
    "    flags_dict = FLAGS._flags()    \n",
    "    keys_list = [keys for keys in flags_dict]    \n",
    "    for keys in keys_list:\n",
    "        FLAGS.__delattr__(keys)\n",
    "\n",
    "del_all_flags(tf.flags.FLAGS)\n",
    "\n",
    "flags = tf.app.flags\n",
    "\n",
    "flags.DEFINE_string('gpu', '1', 'visible gpu')\n",
    "\n",
    "flags.DEFINE_string('mode', 'train', 'set train or eval')\n",
    "\n",
    "flags.DEFINE_string('datadir', 'data', 'directory of input data')\n",
    "flags.DEFINE_string('dataname', 'sports_sents.pkl', 'name of data')\n",
    "flags.DEFINE_string('modeldir', 'NAS/model', 'directory of model')\n",
    "flags.DEFINE_string('modelname', 'sports', 'name of model')\n",
    "\n",
    "flags.DEFINE_integer('epochs', 10, 'epochs')\n",
    "flags.DEFINE_integer('batch_size', 32, 'batch size')\n",
    "flags.DEFINE_integer('log_period', 1000, 'valid period')\n",
    "\n",
    "flags.DEFINE_string('opt', 'Adagrad', 'optimizer')\n",
    "flags.DEFINE_float('lr', 0.1, 'lr')\n",
    "flags.DEFINE_float('grad_clip', 5., 'grad_clip')\n",
    "\n",
    "flags.DEFINE_float('keep_prob', 1.0, 'dropout rate')\n",
    "flags.DEFINE_float('word_keep_prob', 0.75, 'word dropout rate')\n",
    "\n",
    "flags.DEFINE_integer('warmup', 10, 'warmup period for KL')\n",
    "\n",
    "flags.DEFINE_integer('beam_width', 10, 'beam_width')\n",
    "flags.DEFINE_float('length_penalty_weight', 0.0, 'length_penalty_weight')\n",
    "\n",
    "flags.DEFINE_integer('dim_emb', 256, 'dim_latent')\n",
    "flags.DEFINE_integer('dim_hidden', 256, 'dim_output')\n",
    "flags.DEFINE_integer('dim_latent', 16, 'dim_latent')\n",
    "\n",
    "# for evaluation\n",
    "flags.DEFINE_string('refdir', 'ref', 'refdir')\n",
    "flags.DEFINE_string('outdir', 'out', 'outdir')\n",
    "\n",
    "flags.DEFINE_string('f', '', 'kernel')\n",
    "\n",
    "config = flags.FLAGS"
   ]
  },
  {
   "cell_type": "code",
   "execution_count": 38,
   "metadata": {},
   "outputs": [],
   "source": [
    "os.environ[\"CUDA_VISIBLE_DEVICES\"] = config.gpu"
   ]
  },
  {
   "cell_type": "code",
   "execution_count": 39,
   "metadata": {},
   "outputs": [],
   "source": [
    "data_path = os.path.join(config.datadir, config.dataname)\n",
    "data_train, data_dev, data_test, word_to_idx, idx_to_word = cPickle.load(open(data_path,'rb'))"
   ]
  },
  {
   "cell_type": "code",
   "execution_count": 40,
   "metadata": {},
   "outputs": [],
   "source": [
    "def grouper(iterable, n, fillvalue=None, shorten=True, num_groups=None, shuffle=False):\n",
    "    args = [iter(iterable)] * n\n",
    "    out = zip_longest(*args, fillvalue=fillvalue)\n",
    "    out = list(out)\n",
    "    if shuffle: random.shuffle(out)\n",
    "    if num_groups is not None:\n",
    "        default = (fillvalue,) * n\n",
    "        assert isinstance(num_groups, int)\n",
    "        out = list(each for each, _ in zip_longest(out, range(num_groups), fillvalue=default))\n",
    "    if shorten:\n",
    "        assert fillvalue is None\n",
    "        out = (tuple(e for e in each if e is not None) for each in out)\n",
    "    return out"
   ]
  },
  {
   "cell_type": "code",
   "execution_count": 41,
   "metadata": {},
   "outputs": [],
   "source": [
    "train_batches = grouper(data_train, config.batch_size, shuffle=True)\n",
    "dev_batches = list(grouper(data_dev, config.batch_size))\n",
    "test_batches = list(grouper(data_test, config.batch_size))\n",
    "num_train_batches = len(list(grouper(data_train, config.batch_size, shuffle=True)))"
   ]
  },
  {
   "cell_type": "code",
   "execution_count": 42,
   "metadata": {},
   "outputs": [],
   "source": [
    "flags.DEFINE_integer('PAD_IDX', word_to_idx[PAD], 'PAD_IDX')\n",
    "flags.DEFINE_integer('UNK_IDX', word_to_idx[UNK], 'UNK_IDX')\n",
    "flags.DEFINE_integer('BOS_IDX', word_to_idx[BOS], 'BOS_IDX')\n",
    "flags.DEFINE_integer('EOS_IDX', word_to_idx[EOS], 'EOS_IDX')\n",
    "\n",
    "flags.DEFINE_integer('n_vocab', len(word_to_idx), 'n_vocab')\n",
    "\n",
    "maximum_iterations = max([max([len(sent_idx) for sent_idx in batch]) for batch in dev_batches])\n",
    "flags.DEFINE_integer('maximum_iterations', maximum_iterations, 'maximum_iterations')    "
   ]
  },
  {
   "cell_type": "markdown",
   "metadata": {},
   "source": [
    "# build model "
   ]
  },
  {
   "cell_type": "markdown",
   "metadata": {},
   "source": [
    "## feed dict"
   ]
  },
  {
   "cell_type": "code",
   "execution_count": 43,
   "metadata": {},
   "outputs": [],
   "source": [
    "def get_feed_dict(batch, mode='train'):\n",
    "    batch_size = len(batch)\n",
    "\n",
    "    sent_l = [len(sent_idxs) for sent_idxs in batch]\n",
    "    dec_sent_l = [len(sent_idxs)+1 for sent_idxs in batch]\n",
    "    max_sent_l = max(sent_l)\n",
    "\n",
    "    token_idxs_matrix = np.zeros([batch_size, max_sent_l], np.int32)\n",
    "    dec_input_idxs_matrix = np.zeros([batch_size, max_sent_l+1], np.int32)\n",
    "    dec_target_idxs_matrix = np.zeros([batch_size, max_sent_l+1], np.int32)\n",
    "    \n",
    "    for i, sent_idxs in enumerate(batch):\n",
    "        token_idxs_matrix[i, :len(sent_idxs)] = np.asarray(sent_idxs)\n",
    "\n",
    "        sent_idxs_dropout = np.asarray(sent_idxs)\n",
    "        sent_idxs_dropout[np.random.rand(len(sent_idxs)) > config.word_keep_prob] = config.UNK_IDX\n",
    "        dec_input_idxs_matrix[i, :len(sent_idxs)+1] = np.concatenate([[config.BOS_IDX], sent_idxs_dropout])\n",
    "\n",
    "        dec_target_idxs_matrix[i, :len(sent_idxs)+1] = np.asarray(sent_idxs + [config.EOS_IDX])\n",
    "\n",
    "    keep_prob = config.keep_prob if mode == 'train' else 1.0\n",
    "\n",
    "    feed_dict = {\n",
    "                t_variables['token_idxs']: token_idxs_matrix,\n",
    "                t_variables['dec_input_idxs']: dec_input_idxs_matrix, t_variables['dec_target_idxs']: dec_target_idxs_matrix, \n",
    "                t_variables['batch_l']: batch_size, t_variables['sent_l']: sent_l, t_variables['dec_sent_l']: dec_sent_l,\n",
    "                t_variables['keep_prob']: keep_prob}\n",
    "    return  feed_dict"
   ]
  },
  {
   "cell_type": "code",
   "execution_count": 44,
   "metadata": {},
   "outputs": [],
   "source": [
    "def debug_shape(variables):\n",
    "    with tf.Session() as sess:\n",
    "        sess.run(tf.global_variables_initializer())\n",
    "\n",
    "        sample_batch = test_batches[0]\n",
    "        feed_dict = get_feed_dict(sample_batch)\n",
    "        _variables = sess.run(variables, feed_dict=feed_dict)\n",
    "        for _variable, variable in zip(_variables, variables):\n",
    "            print(variable.name, ':', _variable.shape)\n",
    "            \n",
    "        sess.close()"
   ]
  },
  {
   "cell_type": "markdown",
   "metadata": {},
   "source": [
    "## fed variables"
   ]
  },
  {
   "cell_type": "code",
   "execution_count": 45,
   "metadata": {},
   "outputs": [],
   "source": [
    "tf.reset_default_graph()\n",
    "\n",
    "t_variables = {}\n",
    "t_variables['keep_prob'] = tf.placeholder(tf.float32)\n",
    "t_variables['batch_l'] = tf.placeholder(tf.int32, [])\n",
    "t_variables['token_idxs'] = tf.placeholder(tf.int32, [None, None])\n",
    "t_variables['dec_input_idxs'] = tf.placeholder(tf.int32, [None, None])\n",
    "t_variables['dec_target_idxs'] = tf.placeholder(tf.int32, [None, None])\n",
    "t_variables['sent_l'] = tf.placeholder(tf.int32, [None])\n",
    "t_variables['dec_sent_l'] = tf.placeholder(tf.int32, [None])"
   ]
  },
  {
   "cell_type": "markdown",
   "metadata": {},
   "source": [
    "## trained variables"
   ]
  },
  {
   "cell_type": "code",
   "execution_count": 46,
   "metadata": {},
   "outputs": [],
   "source": [
    "dtype = tf.float32\n",
    "\n",
    "dim_hidden = config.dim_hidden\n",
    "dim_latent = config.dim_latent\n",
    "\n",
    "# with tf.variable_scope('emb', reuse=tf.AUTO_REUSE):\n",
    "#     embeddings = tf.get_variable('emb', [config.n_vocab, config.dim_emb], dtype=dtype, initializer=tf.random_uniform_initializer(-1., 1.))\n",
    "    \n",
    "# with tf.variable_scope('enc', reuse=tf.AUTO_REUSE):\n",
    "#     w_enc = tf.get_variable('w', [dim_hidden, 2 * dim_latent], dtype=dtype, initializer=tf.random_uniform_initializer(-1., 1.))\n",
    "#     b_enc = tf.get_variable('b', [2 * dim_latent], dtype=dtype, initializer=tf.constant_initializer())\n",
    "    \n",
    "# with tf.variable_scope('dec', reuse=tf.AUTO_REUSE):\n",
    "#     w_dec = tf.get_variable('w', [dim_latent, dim_hidden], dtype=dtype, initializer=tf.random_uniform_initializer(-1., 1.))\n",
    "#     b_dec = tf.get_variable('b', [dim_hidden], dtype=dtype, initializer=tf.constant_initializer())\n",
    "\n",
    "if config.warmup > 0:\n",
    "    beta = tf.Variable(0.1, name='beta', trainable=False)    \n",
    "    \n",
    "with tf.variable_scope('emb'):\n",
    "    embeddings = tf.get_variable('emb', [config.n_vocab, config.dim_emb], dtype=dtype, initializer=tf.contrib.layers.xavier_initializer())\n",
    "    \n",
    "with tf.variable_scope('enc'):\n",
    "    w_enc = tf.get_variable('w_enc', [dim_hidden, 2 * dim_latent], dtype=dtype)\n",
    "    b_enc = tf.get_variable('b_enc', [2 * dim_latent], dtype=dtype)\n",
    "    \n",
    "with tf.variable_scope('dec'):\n",
    "    w_dec = tf.get_variable('w_dec', [dim_latent, dim_hidden], dtype=dtype)\n",
    "    b_dec = tf.get_variable('b_dec', [dim_hidden], dtype=dtype)\n",
    "\n"
   ]
  },
  {
   "cell_type": "markdown",
   "metadata": {},
   "source": [
    "## encode sentences"
   ]
  },
  {
   "cell_type": "code",
   "execution_count": 47,
   "metadata": {},
   "outputs": [],
   "source": [
    "# input\n",
    "batch_l = t_variables['batch_l']\n",
    "sent_l = t_variables['sent_l']\n",
    "max_sent_l = tf.reduce_max(sent_l)\n",
    "token_idxs = t_variables['token_idxs']\n",
    "\n",
    "# get sentence embedding\n",
    "enc_input = tf.nn.embedding_lookup(embeddings, token_idxs)\n",
    "_, enc_state = dynamic_rnn(enc_input, sent_l, dim_hidden, t_variables['keep_prob'], cell_name='Model/sent')\n",
    "\n",
    "# encode to parameter \n",
    "means_logvars = tf.nn.relu(tf.matmul(enc_state, w_enc) + b_enc)\n",
    "means, logvars = tf.split(means_logvars, 2, 1)\n",
    "\n",
    "# reparameterize\n",
    "noises = tf.random_normal(tf.shape(means))\n",
    "latents = means + tf.exp(0.5 * logvars) * noises"
   ]
  },
  {
   "cell_type": "code",
   "execution_count": 48,
   "metadata": {},
   "outputs": [
    {
     "name": "stdout",
     "output_type": "stream",
     "text": [
      "Placeholder_2:0 : (32, 3)\n",
      "embedding_lookup:0 : (32, 3, 256)\n",
      "Model/sent/rnn/while/Exit_3:0 : (32, 256)\n",
      "split:0 : (32, 16)\n",
      "split:1 : (32, 16)\n",
      "add_1:0 : (32, 16)\n"
     ]
    }
   ],
   "source": [
    "debug_shape([token_idxs, enc_input, enc_state, means, logvars, latents])"
   ]
  },
  {
   "cell_type": "markdown",
   "metadata": {},
   "source": [
    "## decode sentences"
   ]
  },
  {
   "cell_type": "code",
   "execution_count": 49,
   "metadata": {},
   "outputs": [],
   "source": [
    "# prepare for decoding\n",
    "dec_input_idxs = t_variables['dec_input_idxs']\n",
    "dec_input = tf.nn.embedding_lookup(embeddings, dec_input_idxs)\n",
    "\n",
    "dec_latent_input = tf.tile(tf.expand_dims(latents, 1), [1, tf.shape(dec_input_idxs)[1], 1])\n",
    "dec_concat_input = tf.concat([dec_input, dec_latent_input], 2)\n",
    "\n",
    "# decode for training\n",
    "dec_sent_l = t_variables['dec_sent_l']\n",
    "\n",
    "with tf.variable_scope('Model/sent/dec', initializer=tf.contrib.layers.xavier_initializer(), dtype = tf.float32, reuse=tf.AUTO_REUSE):\n",
    "    dec_cell = tf.contrib.rnn.GRUCell(dim_hidden)\n",
    "    dec_cell = tf.contrib.rnn.DropoutWrapper(dec_cell, output_keep_prob = t_variables['keep_prob'])\n",
    "\n",
    "    dec_initial_state = tf.nn.relu(tf.matmul(latents, w_dec) + b_dec)\n",
    "    \n",
    "    helper = tf.contrib.seq2seq.TrainingHelper(inputs=dec_concat_input, sequence_length=dec_sent_l)\n",
    "\n",
    "    train_decoder = tf.contrib.seq2seq.BasicDecoder(\n",
    "        cell=dec_cell,\n",
    "        helper=helper,\n",
    "        initial_state=dec_initial_state)\n",
    "\n",
    "    dec_outputs, _, output_sent_l = tf.contrib.seq2seq.dynamic_decode(train_decoder)\n",
    "    \n",
    "    output_layer = tf.layers.Dense(config.n_vocab, use_bias=False, name=\"output_projection\")\n",
    "    output_logits = output_layer(dec_outputs.rnn_output)\n",
    "    \n",
    "    output_token_idxs = tf.argmax(output_logits, 2)"
   ]
  },
  {
   "cell_type": "code",
   "execution_count": 50,
   "metadata": {},
   "outputs": [
    {
     "name": "stdout",
     "output_type": "stream",
     "text": [
      "concat:0 : (32, 4, 272)\n",
      "Model/sent/dec/output_projection/Tensordot:0 : (32, 4, 20000)\n",
      "Model/sent/dec/ArgMax:0 : (32, 4)\n"
     ]
    }
   ],
   "source": [
    "debug_shape([dec_concat_input, output_logits, output_token_idxs])"
   ]
  },
  {
   "cell_type": "markdown",
   "metadata": {},
   "source": [
    "## define cost & optimizer"
   ]
  },
  {
   "cell_type": "code",
   "execution_count": 51,
   "metadata": {},
   "outputs": [],
   "source": [
    "# target and mask\n",
    "dec_target_idxs = t_variables['dec_target_idxs']\n",
    "max_dec_sent_l = tf.reduce_max(dec_sent_l)\n",
    "dec_mask_tokens = tf.sequence_mask(dec_sent_l, maxlen=max_dec_sent_l, dtype=tf.float32)\n",
    "\n",
    "recon_loss = tf.contrib.seq2seq.sequence_loss(output_logits, dec_target_idxs, dec_mask_tokens) # nll for each token (averaged over batch & sentence)\n",
    "\n",
    "# define loss\n",
    "kl_losses = tf.reduce_sum(-0.5 * (logvars - tf.square(means) - tf.exp(logvars) + 1.0), 1) # sum over latent dimentsion    \n",
    "kl_loss = tf.reduce_mean(kl_losses, [0]) #mean of kl_losses over batches\n",
    "\n",
    "loss = recon_loss + beta * kl_loss\n",
    "\n",
    "# define optimizer\n",
    "if (config.opt == 'Adam'):\n",
    "    optimizer = tf.train.AdamOptimizer(config.lr)\n",
    "elif (config.opt == 'Adagrad'):\n",
    "    optimizer = tf.train.AdagradOptimizer(config.lr)\n",
    "    \n",
    "grad_vars = optimizer.compute_gradients(loss)\n",
    "clipped_grad_vars = [(tf.clip_by_value(grad, -config.grad_clip, config.grad_clip), var) for grad, var in grad_vars]\n",
    "\n",
    "opt = optimizer.apply_gradients(clipped_grad_vars)"
   ]
  },
  {
   "cell_type": "code",
   "execution_count": 52,
   "metadata": {},
   "outputs": [
    {
     "name": "stdout",
     "output_type": "stream",
     "text": [
      "Sum:0 : (32,)\n"
     ]
    }
   ],
   "source": [
    "debug_shape([kl_losses])"
   ]
  },
  {
   "cell_type": "markdown",
   "metadata": {},
   "source": [
    "# run model "
   ]
  },
  {
   "cell_type": "code",
   "execution_count": 53,
   "metadata": {},
   "outputs": [],
   "source": [
    "def idxs_to_sent(line_idxs, config, idx_to_word):\n",
    "    tokens = []\n",
    "    for idx in line_idxs:\n",
    "        if idx == config.EOS_IDX: break\n",
    "        tokens.append(idx_to_word[idx])\n",
    "    sent = ' '.join(tokens)\n",
    "    return sent"
   ]
  },
  {
   "cell_type": "code",
   "execution_count": 54,
   "metadata": {},
   "outputs": [],
   "source": [
    "def get_loss(sess, batches):\n",
    "    losses = []\n",
    "    for batch in batches:\n",
    "        feed_dict = get_feed_dict(batch, mode='test')\n",
    "        loss_batch = sess.run(loss, feed_dict = feed_dict)\n",
    "        losses += [loss_batch]        \n",
    "    loss_mean = np.mean(losses)\n",
    "    return loss_mean"
   ]
  },
  {
   "cell_type": "code",
   "execution_count": 55,
   "metadata": {},
   "outputs": [],
   "source": [
    "def print_sample(sample_batch):\n",
    "    feed_dict = get_feed_dict(sample_batch)\n",
    "    pred_token_idxs = sess.run(output_token_idxs, feed_dict = feed_dict)\n",
    "    true_token_idxs = sample_batch\n",
    "    \n",
    "    assert len(pred_token_idxs) == len(true_token_idxs)\n",
    "    \n",
    "    for true_sent_idxs, pred_sent_idxs in zip(true_token_idxs, pred_token_idxs):\n",
    "        true_sent = idxs_to_sent(true_sent_idxs, config, idx_to_word)\n",
    "        pred_sent = idxs_to_sent(pred_sent_idxs, config, idx_to_word)\n",
    "\n",
    "        print('True: %s' % true_sent)\n",
    "        print('Pred: %s' % pred_sent)"
   ]
  },
  {
   "cell_type": "code",
   "execution_count": 56,
   "metadata": {
    "scrolled": true
   },
   "outputs": [],
   "source": [
    "if 'sess' in globals(): sess.close()\n",
    "sess = tf.Session()\n",
    "\n",
    "sess.run(tf.global_variables_initializer())\n",
    "\n",
    "logs = []\n",
    "losses_train = []\n",
    "loss_min = np.inf\n",
    "beta_eval = 0.01"
   ]
  },
  {
   "cell_type": "code",
   "execution_count": null,
   "metadata": {
    "scrolled": false
   },
   "outputs": [
    {
     "name": "stdout",
     "output_type": "stream",
     "text": [
      "Step: 0 | LOSS TRAIN: 9.91, DEV: 9.91, TEST: 9.91 | NLL: 19989.35, KL: 0.2202| BETA: 0.010008\n",
      "True: i do like the look of the hat in general and maybe it will eventually form better if i wear a helmet over it or steam it\n",
      "Pred: mich mich mich noob noob sorting sorting sorting sorting sorting sorting sorting sorting sorting sorting sorting sorting sorting sorting sorting sorting sorting sorting sorting sorting sorting sorting sorting\n",
      "True: i can <unk> this hat on my brow in any direction as the sun changes including all the way to the rear and out of the way\n",
      "Pred: hs2000 hs2000 headwear headwear pesticides pesticides pesticides pesticides pesticides pesticides pesticides pesticides pesticides pesticides pesticides pesticides pesticides request request request request request request request request request request request\n",
      "True: so far i have put about 200 rounds of buck and slugs through the shotgun with this stock installed and it has not wiggled loose one bit\n",
      "Pred: eyeglasses diminutive diminutive diminutive diminutive balaclava switch switch switch switch switch switch switch switch switch switch lever gummed gummed gummed gummed gummed gummed gummed gummed gummed gummed gummed\n",
      "True: a muzzle laser device also helps a lot with bullet trajectory confirmation bottom line if this chronograph fails you you would never be happy with other because\n",
      "Pred: adn adn adn vaguely vaguely vaguely vaguely vaguely vaguely vaguely vaguely handlebars handlebars handlebars handlebars handlebars handlebars handlebars handlebars handlebars handlebars handlebars handlebars handlebars handlebars handlebars handlebars handlebars\n",
      "True: update well after wearing it a few days it definitely is to snug after my ride i start getting a headache and it is not from dehydration\n",
      "Pred: superman superman superman superman 10lbs 10lbs 10lbs 10lbs discrete discrete discrete discrete discrete discrete discrete discrete discrete discrete discrete discrete discrete discrete discrete discrete discrete discrete discrete discrete\n",
      "True: i am 6 ' 3 220 lbs and i fit in it fine nice pocket on the inside works great for mp3 <unk> 's 30 degree rating\n",
      "Pred: graciously wtf wtf wtf kenpo throat throat throat throat throat throat throat throat throat throat throat throat throat throat throat throat 105lb 105lb 105lb throat throat throat throat\n",
      "True: i am 6 ' 2 and <unk> this thing is as small as my head in its sack but when i open it this thing is awesome\n",
      "Pred: strip worst worst vines vines vines vines vines vines vines vines vines vines vines vines vines vines vines vines vines vines vines vines vines vines vines vines vines\n",
      "True: but i did not use it enough to know soon enough to be able to return it that 's the reason for 3 stars instead of less\n",
      "Pred: euro oak beatings ct ct nite nite nite nite nite nite nite nite wasteful wasteful wasteful wasteful wasteful wasteful wasteful wasteful wasteful wasteful accounts accounts accounts accounts accounts\n",
      "True: first off let me preface this by saying when i go backpacking i tend to not bring a sleeping bag liner and to not bring a tent\n",
      "Pred: needless approved approved approved millennium resisting resisting resisting resisting resisting resisting resisting resisting resisting resisting resisting resisting resisting resisting resisting resisting resisting resisting resisting resisting resisting resisting resisting\n",
      "True: at night 's end i rolled the sleeping bag up but found it was easier to put back in the stuff bag by just stuffing it in\n",
      "Pred: designing designing designing bill bill bill bill gunsmithing gunsmithing notices notices notices presentation presentation presentation presentation presentation presentation presentation presentation presentation presentation presentation presentation presentation presentation presentation presentation\n",
      "True: it would be a great bag if you are just getting into hiking camping but at some point your going to need a lighter more compact bag\n",
      "Pred: boobs headbands served served served spontaneous spontaneous spontaneous spontaneous chronically chronically chronically chronically chronically chronically chronically chronically chronically chronically chronically chronically chronically chronically chronically chronically chronically chronically chronically\n",
      "True: i used double sized air mattress and a pack in play on one side of the divider than a queen sized air mattress in the middle section\n",
      "Pred: garment wrappers ct ct objects objects objects objects objects objects objects objects objects objects objects objects objects objects objects objects objects objects objects objects objects objects objects objects\n",
      "True: my only wish is that coleman would have made clear plastic in the rain fly so that the open roof views would still be available at night\n",
      "Pred: rocked sighted sighted 9x32 9x32 9x32 9x32 9x32 9x32 9x32 9x32 9x32 9x32 9x32 9x32 9x32 9x32 9x32 9x32 9x32 9x32 9x32 9x32 9x32 9x32 9x32 9x32 9x32\n",
      "True: when connected to the base their batteries are automatically recharged by the 8 d cells in the base which powers the base when all 4 are lit\n",
      "Pred: x15 x15 velcro velcro bushnell bushnell bushnell bushnell bushnell bushnell bushnell bushnell bushnell bushnell bushnell bushnell bushnell bushnell bushnell bushnell bushnell bushnell bushnell bushnell bushnell bushnell bushnell bushnell\n",
      "True: i just can not even imagine backpacking with this in the woods or on a mountain top and trying to stake all the loops and <unk> around\n",
      "Pred: calisthenics calisthenics achieve achieve caa caa caa caa caa caa caa letters letters strategies strategies strategies strategies strategies strategies strategies strategies strategies strategies strategies strategies strategies strategies strategies\n",
      "True: this seems to be a random issue you might be able to adjust the spoon to hold the other utensils with a pair of needle nose pliers\n",
      "Pred: tapering tapering bon bon bon picitinny picitinny picitinny picitinny picitinny picitinny picitinny picitinny picitinny picitinny picitinny picitinny picitinny picitinny picitinny picitinny picitinny picitinny picitinny picitinny picitinny picitinny picitinny\n",
      "True: other campers walk by and comment on how great the tent looks and they drop their jaws when i <unk> them how much i bought it for\n",
      "Pred: missing h1 h1 h1 h1 h1 pending pending yuck yuck yuck yuck yuck hottest hottest hottest hottest hottest hottest hottest hottest hottest hottest hottest hottest hottest hottest hottest\n",
      "True: i bought this exact gun from a different seller your buy may differ let me just start by saying that this gun is actually not that bad\n",
      "Pred: legendary tapering tapering know know know know know know know know know know know ultimately ultimately ultimately ultimately ultimately ultimately ultimately ultimately ultimately ultimately ultimately ultimately ultimately ultimately\n",
      "True: the trigger is also sooooooooo smooth no clicks and <unk> no weird mechanism making you jerk the trigger only squeeze nice and constant till the gun pops\n",
      "Pred: eyeglasses h1 h1 rated rated resisting resisting resisting resisting resisting resisting resisting resisting resisting resisting resisting travel travel travel travel travel travel travel resisting travel travel resisting resisting\n",
      "True: it is a great tool for pacing yourself and giving one a real clue how well they are doing over a given course from day to day\n",
      "Pred: honing sleeves sleeves sleeves questioned questioned questioned questioned questioned questioned ballistol ballistol ballistol ballistol ballistol ballistol ballistol ballistol ballistol ballistol ballistol ballistol ballistol ballistol ballistol ballistol ballistol ballistol\n",
      "True: i also bought see my reviews the military pouch for this type of canteen really cheap so i can add this to my belt if i wish\n",
      "Pred: reccommend reccommend doubts doubts attachable attachable attachable attachable attachable attachable attachable blowout blowout blowout blowout blowout blowout blowout blowout blowout blowout blowout blowout blowout blowout blowout blowout blowout\n",
      "True: i got to thinking how easy it would be to snag that thin black nylon compression bag material on this or that while <unk> through the woods\n",
      "Pred: toned argue argue washings washings borrows lounge lounge lounge lounge lounge lounge lounge lounge lounge lounge lounge lounge lounge lounge lounge lounge lounge lounge lounge lounge lounge lounge\n",
      "True: i noticed that if i rotate the bore sight while mounted the point of impact changed a bit on the paper which was maybe 25 yards away\n",
      "Pred: coming coming wedges wedges know know know know know know vitamins vitamins vitamins vitamins vitamins vitamins vitamins vitamins vitamins vitamins vitamins vitamins vitamins vitamins vitamins vitamins vitamins vitamins\n",
      "True: there is a milled or stamped circle on the face of the magnet that helps you eyeball how centered the sight is when connected to the barrel\n",
      "Pred: beaver powerlifting powerlifting series series initials initials initials initials initials initials initials initials initials initials initials initials initials initials cheese initials hickory hickory hickory hickory hickory hickory hickory\n",
      "True: the price of these things is comparable to the mid 90 's pricing even tho you can buy cheap as hell ones for your cat or dog\n",
      "Pred: tupperware tupperware recruit recruit recruit recruit recruit kilometres kilometres kilometres kilometres pat pat pat pat pat kilometres kilometres pat kilometres kilometres kilometres kilometres kilometres kilometres kilometres kilometres kilometres\n",
      "True: lastly make sure the laser seats on the muzzle in the center line to align w the bullet path not a big deal but helps a tad\n",
      "Pred: sd40ve sd40ve sd40ve sd40ve 9x32 9x32 9x32 9x32 9x32 9x32 9x32 9x32 9x32 youll youll youll youll youll youll youll youll youll youll youll youll youll youll 9x32\n",
      "True: if i wanted something to put water into and be damn sure it was there when i went back for it i 'd go for this bottle\n",
      "Pred: oem billion billion nimh nimh nimh nimh quiet remarkably remarkably remarkably remarkably remarkably remarkably remarkably remarkably remarkably remarkably remarkably remarkably remarkably remarkably remarkably remarkably remarkably remarkably remarkably remarkably\n",
      "True: update july 3 <unk> first bottle <unk> over and shattered into hundreds of pieces but i liked the bottle so much that i had to get another\n",
      "Pred: rib toasted torch torch torch torch torch torch torch torch torch torch torch torch torch torch torch torch torch torch torch torch torch torch torch torch torch torch\n",
      "True: do not get me wrong the rubber band worked i just had to keep adjusting it after a couple of rounds for it to catch the shell\n",
      "Pred: criticism criticism sorting sorting sorting sorting carlo carlo sizes sizes sizes sizes sizes sizes sizes sizes sizes sizes sizes sizes sizes sizes sizes sizes sizes sizes sizes sizes\n",
      "True: always top off your bike tires to their maximum pressure it is on the sidewall of the tire before starting your ride you will thank me later\n",
      "Pred: innovative innovative buoy buoy powerlifting bay bay bay bay bay bay bay bay bay bay bay bay emits emits emits emits emits emits emits emits emits emits emits\n",
      "True: 1 cup of water in about just under 6 minutes with the top off 2 cups of water in just under 10 minutes with the top on\n",
      "Pred: spitfire topo x15 x15 without without without without without without without without without without without without without without without without without without without without without without without without\n",
      "True: plus i figured the product was mentioned to boil at <unk> minutes 13 min more than a jetboil and that time could be used to setup camp\n",
      "Pred: coins tn tn tn tn tn tn tn tn northeast northeast northeast northeast northeast northeast northeast northeast northeast northeast northeast northeast northeast northeast northeast northeast dot northeast dot\n"
     ]
    }
   ],
   "source": [
    "for ct, batch in enumerate(train_batches):\n",
    "    feed_dict = get_feed_dict(batch)\n",
    "    if config.warmup > 0: sess.run(beta.assign(np.minimum(1., beta_eval+ 1./(config.warmup*num_train_batches))))\n",
    "\n",
    "    _, loss_batch, kl_loss_batch, recon_loss_batch = sess.run([opt, loss, kl_loss, recon_loss], feed_dict = feed_dict)\n",
    "    losses_train += [[loss_batch, kl_loss_batch, recon_loss_batch]]\n",
    "    \n",
    "    if ct%config.log_period==0:\n",
    "        loss_train, kl_loss_train, recon_loss_train = np.mean(losses_train, 0)\n",
    "        ppl_train = np.exp(recon_loss_train)\n",
    "        if config.warmup > 0: beta_eval = beta.eval(session=sess)\n",
    "        loss_dev = get_loss(sess, dev_batches)\n",
    "\n",
    "        if loss_dev <= loss_min:\n",
    "            loss_min = loss_dev\n",
    "            loss_test = get_loss(sess, test_batches)\n",
    "        \n",
    "        clear_output()\n",
    "        \n",
    "        logs += [(ct, loss_train, loss_dev, loss_test, ppl_train, kl_loss_train, beta_eval)]\n",
    "        for log in logs:\n",
    "            print('Step: %i | LOSS TRAIN: %.2f, DEV: %.2f, TEST: %.2f | NLL: %.2f, KL: %.4f| BETA: %.6f' %  log)\n",
    "        \n",
    "        print_sample(batch)"
   ]
  },
  {
   "cell_type": "markdown",
   "metadata": {},
   "source": [
    "# confirm variables"
   ]
  },
  {
   "cell_type": "code",
   "execution_count": 110,
   "metadata": {},
   "outputs": [],
   "source": [
    "_logvars, _means, _kl_losses, _latents, _output_logits = sess.run([logvars, means, kl_losses, latents, output_logits], feed_dict=feed_dict)\n"
   ]
  },
  {
   "cell_type": "code",
   "execution_count": 111,
   "metadata": {},
   "outputs": [
    {
     "data": {
      "text/plain": [
       "((32, 32), (32, 32), (32,), (32, 32))"
      ]
     },
     "execution_count": 111,
     "metadata": {},
     "output_type": "execute_result"
    }
   ],
   "source": [
    "_logvars.shape, _means.shape, _kl_losses.shape, _latents.shape"
   ]
  },
  {
   "cell_type": "code",
   "execution_count": 112,
   "metadata": {},
   "outputs": [
    {
     "data": {
      "text/plain": [
       "array([[[nan, nan, nan, ..., nan, nan, nan],\n",
       "        [nan, nan, nan, ..., nan, nan, nan],\n",
       "        [nan, nan, nan, ..., nan, nan, nan]],\n",
       "\n",
       "       [[nan, nan, nan, ..., nan, nan, nan],\n",
       "        [nan, nan, nan, ..., nan, nan, nan],\n",
       "        [nan, nan, nan, ..., nan, nan, nan]],\n",
       "\n",
       "       [[nan, nan, nan, ..., nan, nan, nan],\n",
       "        [nan, nan, nan, ..., nan, nan, nan],\n",
       "        [nan, nan, nan, ..., nan, nan, nan]],\n",
       "\n",
       "       ...,\n",
       "\n",
       "       [[nan, nan, nan, ..., nan, nan, nan],\n",
       "        [nan, nan, nan, ..., nan, nan, nan],\n",
       "        [nan, nan, nan, ..., nan, nan, nan]],\n",
       "\n",
       "       [[nan, nan, nan, ..., nan, nan, nan],\n",
       "        [nan, nan, nan, ..., nan, nan, nan],\n",
       "        [nan, nan, nan, ..., nan, nan, nan]],\n",
       "\n",
       "       [[nan, nan, nan, ..., nan, nan, nan],\n",
       "        [nan, nan, nan, ..., nan, nan, nan],\n",
       "        [nan, nan, nan, ..., nan, nan, nan]]], dtype=float32)"
      ]
     },
     "execution_count": 112,
     "metadata": {},
     "output_type": "execute_result"
    }
   ],
   "source": [
    "_output_logits"
   ]
  },
  {
   "cell_type": "code",
   "execution_count": 109,
   "metadata": {},
   "outputs": [
    {
     "ename": "NameError",
     "evalue": "name 'dec_target_idxs_do' is not defined",
     "output_type": "error",
     "traceback": [
      "\u001b[0;31m---------------------------------------------------------------------------\u001b[0m",
      "\u001b[0;31mNameError\u001b[0m                                 Traceback (most recent call last)",
      "\u001b[0;32m<ipython-input-109-7de59bc2cc54>\u001b[0m in \u001b[0;36m<module>\u001b[0;34m\u001b[0m\n\u001b[0;32m----> 1\u001b[0;31m \u001b[0m_output_logits\u001b[0m\u001b[0;34m,\u001b[0m \u001b[0m_dec_target_idxs_do\u001b[0m\u001b[0;34m,\u001b[0m \u001b[0m_dec_mask_tokens_do\u001b[0m\u001b[0;34m,\u001b[0m \u001b[0m_recon_loss\u001b[0m\u001b[0;34m,\u001b[0m \u001b[0m_kl_losses\u001b[0m\u001b[0;34m,\u001b[0m \u001b[0m_\u001b[0m \u001b[0;34m=\u001b[0m \u001b[0msess\u001b[0m\u001b[0;34m.\u001b[0m\u001b[0mrun\u001b[0m\u001b[0;34m(\u001b[0m\u001b[0;34m[\u001b[0m\u001b[0moutput_logits\u001b[0m\u001b[0;34m,\u001b[0m \u001b[0mdec_target_idxs_do\u001b[0m\u001b[0;34m,\u001b[0m \u001b[0mdec_mask_tokens_do\u001b[0m\u001b[0;34m,\u001b[0m \u001b[0mrecon_loss\u001b[0m\u001b[0;34m,\u001b[0m \u001b[0mkl_losses\u001b[0m\u001b[0;34m,\u001b[0m \u001b[0mopt\u001b[0m\u001b[0;34m]\u001b[0m\u001b[0;34m,\u001b[0m \u001b[0mfeed_dict\u001b[0m\u001b[0;34m=\u001b[0m\u001b[0mfeed_dict\u001b[0m\u001b[0;34m)\u001b[0m\u001b[0;34m\u001b[0m\u001b[0;34m\u001b[0m\u001b[0m\n\u001b[0m",
      "\u001b[0;31mNameError\u001b[0m: name 'dec_target_idxs_do' is not defined"
     ]
    }
   ],
   "source": [
    "_output_logits, _dec_target_idxs_do, _dec_mask_tokens_do, _recon_loss, _kl_losses, _ = sess.run([output_logits, dec_target_idxs_do, dec_mask_tokens_do, recon_loss, kl_losses, opt], feed_dict=feed_dict)\n"
   ]
  },
  {
   "cell_type": "code",
   "execution_count": 44,
   "metadata": {},
   "outputs": [
    {
     "data": {
      "text/plain": [
       "(120, 46)"
      ]
     },
     "execution_count": 44,
     "metadata": {},
     "output_type": "execute_result"
    }
   ],
   "source": [
    "tf.reduce_max(output_logits, 2).eval(session=sess, feed_dict=feed_dict).shape"
   ]
  },
  {
   "cell_type": "code",
   "execution_count": 31,
   "metadata": {},
   "outputs": [
    {
     "data": {
      "text/plain": [
       "((120, 46, 20000), (120, 46), (120, 46))"
      ]
     },
     "execution_count": 31,
     "metadata": {},
     "output_type": "execute_result"
    }
   ],
   "source": [
    "_output_logits.shape, _dec_target_idxs_do.shape, _dec_mask_tokens_do.shape"
   ]
  },
  {
   "cell_type": "code",
   "execution_count": 32,
   "metadata": {},
   "outputs": [],
   "source": [
    "_logits = np.exp(_output_logits) / np.sum(np.exp(_output_logits), 2)[:, :, None]"
   ]
  },
  {
   "cell_type": "code",
   "execution_count": 33,
   "metadata": {},
   "outputs": [],
   "source": [
    "_idxs = _dec_target_idxs_do"
   ]
  },
  {
   "cell_type": "code",
   "execution_count": 35,
   "metadata": {},
   "outputs": [],
   "source": [
    "_losses = np.array([[-np.log(_logits[i, j, _idxs[i, j]]) for j in range(_idxs.shape[1])] for i in range(_idxs.shape[0])]) * _dec_mask_tokens_do"
   ]
  },
  {
   "cell_type": "code",
   "execution_count": 36,
   "metadata": {},
   "outputs": [
    {
     "data": {
      "text/plain": [
       "9.903732"
      ]
     },
     "execution_count": 36,
     "metadata": {},
     "output_type": "execute_result"
    }
   ],
   "source": [
    "np.sum(_losses)/np.sum(_dec_mask_tokens_do)"
   ]
  },
  {
   "cell_type": "code",
   "execution_count": 37,
   "metadata": {},
   "outputs": [
    {
     "data": {
      "text/plain": [
       "9.903732"
      ]
     },
     "execution_count": 37,
     "metadata": {},
     "output_type": "execute_result"
    }
   ],
   "source": [
    "_recon_loss"
   ]
  },
  {
   "cell_type": "code",
   "execution_count": 38,
   "metadata": {},
   "outputs": [
    {
     "data": {
      "text/plain": [
       "(120,)"
      ]
     },
     "execution_count": 38,
     "metadata": {},
     "output_type": "execute_result"
    }
   ],
   "source": [
    "_kl_losses.shape"
   ]
  },
  {
   "cell_type": "code",
   "execution_count": null,
   "metadata": {},
   "outputs": [],
   "source": []
  }
 ],
 "metadata": {
  "kernelspec": {
   "display_name": "py36",
   "language": "python",
   "name": "py36"
  },
  "language_info": {
   "codemirror_mode": {
    "name": "ipython",
    "version": 3
   },
   "file_extension": ".py",
   "mimetype": "text/x-python",
   "name": "python",
   "nbconvert_exporter": "python",
   "pygments_lexer": "ipython3",
   "version": "3.6.9"
  },
  "toc": {
   "base_numbering": 1,
   "nav_menu": {},
   "number_sections": true,
   "sideBar": true,
   "skip_h1_title": false,
   "title_cell": "Table of Contents",
   "title_sidebar": "Contents",
   "toc_cell": false,
   "toc_position": {},
   "toc_section_display": true,
   "toc_window_display": false
  }
 },
 "nbformat": 4,
 "nbformat_minor": 2
}
