{
 "cells": [
  {
   "cell_type": "code",
   "execution_count": 1,
   "metadata": {},
   "outputs": [],
   "source": [
    "import os\n",
    "import re\n",
    "import _pickle as cPickle\n",
    "from collections import OrderedDict, defaultdict, Counter\n",
    "\n",
    "import matplotlib\n",
    "%matplotlib inline\n",
    "import matplotlib.pyplot as plt\n",
    "\n",
    "import numpy as np\n",
    "import pandas as pd\n",
    "import tensorflow as tf\n",
    "from nltk import word_tokenize\n",
    "\n",
    "from sklearn.datasets import fetch_20newsgroups\n",
    "\n",
    "from data_structure import Instance"
   ]
  },
  {
   "cell_type": "markdown",
   "metadata": {},
   "source": [
    "# configure"
   ]
  },
  {
   "cell_type": "code",
   "execution_count": 2,
   "metadata": {},
   "outputs": [],
   "source": [
    "def del_all_flags(FLAGS):\n",
    "    flags_dict = FLAGS._flags()    \n",
    "    keys_list = [keys for keys in flags_dict]    \n",
    "    for keys in keys_list:\n",
    "        FLAGS.__delattr__(keys)\n",
    "\n",
    "del_all_flags(tf.flags.FLAGS)\n",
    "\n",
    "flags = tf.app.flags\n",
    "\n",
    "flags.DEFINE_string('train_path', 'data/20news/train.txt.npy', 'path of output data')\n",
    "flags.DEFINE_string('valid_path', 'data/20news/valid.txt.npy', 'path of input data')\n",
    "flags.DEFINE_string('test_path', 'data/20news/test.txt.npy', 'path of input data')\n",
    "flags.DEFINE_string('vocab_path', 'data/20news/vocab.pkl', 'path of input data')\n",
    "\n",
    "flags.DEFINE_string('stopwords_path', 'data/stopwords_mallet.txt.npy', 'path of input data')\n",
    "\n",
    "flags.DEFINE_string('output_path', 'data/20news/instances.pkl', 'path of output data')\n",
    "\n",
    "flags.DEFINE_integer('n_vocab', 50000, 'size of vocab')\n",
    "\n",
    "flags.DEFINE_string('f', '', 'kernel')\n",
    "\n",
    "config = flags.FLAGS"
   ]
  },
  {
   "cell_type": "markdown",
   "metadata": {},
   "source": [
    "# load source"
   ]
  },
  {
   "cell_type": "code",
   "execution_count": 3,
   "metadata": {},
   "outputs": [],
   "source": [
    "word_to_idx = cPickle.load(open(config.vocab_path, 'rb'))\n",
    "idx_to_word = {idx: word for word, idx in word_to_idx.items()}\n",
    "bow_idxs = np.unique(list(word_to_idx.values()))"
   ]
  },
  {
   "cell_type": "code",
   "execution_count": 4,
   "metadata": {},
   "outputs": [],
   "source": [
    "def get_df(data_path):\n",
    "    data_dict = {}\n",
    "    docs = np.load(data_path, allow_pickle=True, encoding='bytes')\n",
    "    for token_idxs in docs:\n",
    "        data_dict['token_idxs'] = token_idxs\n",
    "        data_dict['doc_l'] = len(token_idxs)\n",
    "    data_df = pd.DataFrame(data_dict)\n",
    "    return data_df"
   ]
  },
  {
   "cell_type": "code",
   "execution_count": 5,
   "metadata": {},
   "outputs": [],
   "source": [
    "train_tmp = np.load(config.train_path, allow_pickle=True, encoding='bytes')\n",
    "test_tmp = np.load(config.test_path, allow_pickle=True, encoding='bytes')"
   ]
  },
  {
   "cell_type": "code",
   "execution_count": 6,
   "metadata": {},
   "outputs": [
    {
     "data": {
      "text/plain": [
       "(11259, 7488)"
      ]
     },
     "execution_count": 6,
     "metadata": {},
     "output_type": "execute_result"
    }
   ],
   "source": [
    "len(train_tmp), len(test_tmp)"
   ]
  },
  {
   "cell_type": "markdown",
   "metadata": {},
   "source": [
    "# write out"
   ]
  },
  {
   "cell_type": "code",
   "execution_count": 51,
   "metadata": {},
   "outputs": [],
   "source": [
    "def prepare_instances(data_path, bow_idxs):\n",
    "    instances = []\n",
    "    docs = np.load(data_path, allow_pickle=True, encoding='bytes')\n",
    "    for idx_doc, token_idxs in enumerate(docs):\n",
    "        if len(token_idxs) == 0: continue\n",
    "        instance = Instance()\n",
    "        instance.idx = idx_doc\n",
    "        instance.token_idxs = token_idxs\n",
    "        instance.doc_l = len(token_idxs)\n",
    "        token_idx_cnt = Counter(token_idxs)\n",
    "        instance.bow = np.array([token_idx_cnt[bow_idx] for bow_idx in bow_idxs])\n",
    "        if not (sum(token_idx_cnt.values()) == np.sum(instance.bow) == len(instance.token_idxs)):\n",
    "            print('skip: %i' % idx_doc)\n",
    "        instances.append(instance)\n",
    "    return instances"
   ]
  },
  {
   "cell_type": "code",
   "execution_count": 52,
   "metadata": {},
   "outputs": [],
   "source": [
    "instances_train = prepare_instances(config.train_path, bow_idxs)"
   ]
  },
  {
   "cell_type": "code",
   "execution_count": null,
   "metadata": {},
   "outputs": [],
   "source": [
    "np.load(config.valid_path, allow_pickle=True, encoding='bytes')"
   ]
  },
  {
   "cell_type": "code",
   "execution_count": 11,
   "metadata": {},
   "outputs": [],
   "source": [
    "# instances_train_valid = prepare_instances(config.train_path, bow_idxs)\n",
    "# len(instances_train_valid)\n",
    "\n",
    "# train_rate = 0.8\n",
    "# train_size = int(len(instances_train_valid)*train_rate)\n",
    "# instances_train = instances_train_valid[:train_size]\n",
    "# instances_valid = instances_train_valid[train_size:]"
   ]
  },
  {
   "cell_type": "code",
   "execution_count": 55,
   "metadata": {},
   "outputs": [],
   "source": [
    "instances_test = prepare_instances(config.test_path, bow_idxs)\n",
    "instances_valid = instances_test"
   ]
  },
  {
   "cell_type": "code",
   "execution_count": 56,
   "metadata": {},
   "outputs": [
    {
     "data": {
      "text/plain": [
       "(11258, 7487, 7487)"
      ]
     },
     "execution_count": 56,
     "metadata": {},
     "output_type": "execute_result"
    }
   ],
   "source": [
    "# assert len(instances_train) + len(instances_valid) == len(instances_train_valid)\n",
    "len(instances_train), len(instances_valid), len(instances_test)"
   ]
  },
  {
   "cell_type": "code",
   "execution_count": 16,
   "metadata": {},
   "outputs": [
    {
     "name": "stdout",
     "output_type": "stream",
     "text": [
      "saving preprocessed instances...\n"
     ]
    }
   ],
   "source": [
    "print('saving preprocessed instances...')\n",
    "cPickle.dump((instances_train, instances_valid, instances_test, word_to_idx, idx_to_word, bow_idxs),open(config.output_path,'wb'))"
   ]
  },
  {
   "cell_type": "markdown",
   "metadata": {},
   "source": [
    "# write corpus "
   ]
  },
  {
   "cell_type": "code",
   "execution_count": 29,
   "metadata": {},
   "outputs": [],
   "source": [
    "from sklearn.datasets import fetch_20newsgroups\n",
    "corpus_train = fetch_20newsgroups(subset='train')\n",
    "corpus_test = fetch_20newsgroups(subset='test')\n",
    "data = corpus_train.data + corpus_test.data"
   ]
  },
  {
   "cell_type": "code",
   "execution_count": 32,
   "metadata": {},
   "outputs": [
    {
     "data": {
      "text/plain": [
       "18846"
      ]
     },
     "execution_count": 32,
     "metadata": {},
     "output_type": "execute_result"
    }
   ],
   "source": [
    "len(data)"
   ]
  },
  {
   "cell_type": "code",
   "execution_count": 34,
   "metadata": {},
   "outputs": [
    {
     "name": "stdout",
     "output_type": "stream",
     "text": [
      "9991999299939994999599969997999899999991099911999129991399914999159991699917999"
     ]
    }
   ],
   "source": [
    "dir_corpus = os.path.join('corpus', '20news')\n",
    "n_doc = 1000\n",
    "docs = []\n",
    "for i, instance in enumerate(data):\n",
    "    doc = ' '.join(word_tokenize(instance))\n",
    "    docs.append(doc)\n",
    "    if (i+1) % n_doc == 0:\n",
    "        print(i, end='')\n",
    "        fname = '20news.%i' % (i // n_doc)\n",
    "        with open(os.path.join(dir_corpus, fname), 'w', encoding='utf-8') as f:\n",
    "            f.write('\\n'.join(docs))\n",
    "            docs = []"
   ]
  },
  {
   "cell_type": "markdown",
   "metadata": {},
   "source": [
    "# write "
   ]
  },
  {
   "cell_type": "code",
   "execution_count": 57,
   "metadata": {},
   "outputs": [
    {
     "data": {
      "text/plain": [
       "18747"
      ]
     },
     "execution_count": 57,
     "metadata": {},
     "output_type": "execute_result"
    }
   ],
   "source": [
    "data = np.concatenate([train_tmp, test_tmp])\n",
    "assert len(data) == len(train_tmp) + len(test_tmp)\n",
    "len(data)"
   ]
  },
  {
   "cell_type": "code",
   "execution_count": 58,
   "metadata": {},
   "outputs": [
    {
     "name": "stdout",
     "output_type": "stream",
     "text": [
      "9991999299939994999599969997999899999991099911999129991399914999159991699917999"
     ]
    }
   ],
   "source": [
    "dir_corpus = os.path.join('corpus', '20news')\n",
    "n_doc = 1000\n",
    "docs = []\n",
    "\n",
    "for i, instance in enumerate(data):\n",
    "    doc = ' '.join([idx_to_word[word_idx] for word_idx in instance])\n",
    "    docs.append(doc)\n",
    "    if (i+1) % n_doc == 0:\n",
    "        print(i, end='')\n",
    "        fname = '20news.%i' % (i // n_doc)\n",
    "        with open(os.path.join(dir_corpus, fname), 'w', encoding='utf-8') as f:\n",
    "            f.write('\\n'.join(docs))\n",
    "            docs = []"
   ]
  },
  {
   "cell_type": "code",
   "execution_count": null,
   "metadata": {},
   "outputs": [],
   "source": []
  }
 ],
 "metadata": {
  "kernelspec": {
   "display_name": "py36",
   "language": "python",
   "name": "py36"
  },
  "language_info": {
   "codemirror_mode": {
    "name": "ipython",
    "version": 3
   },
   "file_extension": ".py",
   "mimetype": "text/x-python",
   "name": "python",
   "nbconvert_exporter": "python",
   "pygments_lexer": "ipython3",
   "version": "3.6.9"
  },
  "toc": {
   "base_numbering": 1,
   "nav_menu": {},
   "number_sections": true,
   "sideBar": true,
   "skip_h1_title": false,
   "title_cell": "Table of Contents",
   "title_sidebar": "Contents",
   "toc_cell": false,
   "toc_position": {},
   "toc_section_display": true,
   "toc_window_display": false
  }
 },
 "nbformat": 4,
 "nbformat_minor": 2
}
