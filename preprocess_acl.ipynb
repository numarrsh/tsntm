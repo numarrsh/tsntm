{
 "cells": [
  {
   "cell_type": "code",
   "execution_count": 1,
   "metadata": {},
   "outputs": [],
   "source": [
    "import os\n",
    "import re\n",
    "import _pickle as cPickle\n",
    "from collections import OrderedDict, defaultdict, Counter\n",
    "\n",
    "import matplotlib\n",
    "%matplotlib inline\n",
    "import matplotlib.pyplot as plt\n",
    "\n",
    "import pdb\n",
    "import random\n",
    "import numpy as np\n",
    "import pandas as pd\n",
    "import tensorflow as tf\n",
    "from scipy.sparse import csr_matrix\n",
    "import nltk\n",
    "from nltk import word_tokenize\n",
    "\n",
    "import multiprocessing\n",
    "\n",
    "from data_structure import Instance\n",
    "\n",
    "np.random.seed(1234)\n",
    "random.seed(1234)\n",
    "\n",
    "pd.set_option('display.max_rows', 2000)"
   ]
  },
  {
   "cell_type": "markdown",
   "metadata": {},
   "source": [
    "# configure"
   ]
  },
  {
   "cell_type": "code",
   "execution_count": 246,
   "metadata": {},
   "outputs": [],
   "source": [
    "def del_all_flags(FLAGS):\n",
    "    flags_dict = FLAGS._flags()    \n",
    "    keys_list = [keys for keys in flags_dict]    \n",
    "    for keys in keys_list:\n",
    "        FLAGS.__delattr__(keys)\n",
    "\n",
    "del_all_flags(tf.flags.FLAGS)\n",
    "\n",
    "flags = tf.app.flags\n",
    "\n",
    "flags.DEFINE_string('train_dir', 'data/yelp/train', 'path of train data')\n",
    "flags.DEFINE_string('val_dir', 'data/yelp/val', 'path of val data')\n",
    "flags.DEFINE_string('test_dir', 'data/yelp/test', 'path of test data')\n",
    "flags.DEFINE_integer('batch_l', 8, 'batch length')\n",
    "\n",
    "flags.DEFINE_string('stopwords_path', 'data/stopwords_mallet.txt', 'path of input data')\n",
    "\n",
    "flags.DEFINE_string('business_path', 'data/yelp/business.json', 'path of business metadata')\n",
    "flags.DEFINE_string('ref_path', 'data/yelp/references.csv', 'directory of ref summaries')\n",
    "flags.DEFINE_string('output_path', 'data/yelp/instances.pkl', 'path of output data')\n",
    "flags.DEFINE_string('output_small_path', 'data/yelp/instances_small.pkl', 'path of output data')\n",
    "flags.DEFINE_string('output_large_path', 'data/yelp/instances_large.pkl', 'path of output data')\n",
    "\n",
    "flags.DEFINE_integer('n_vocab', 50000, 'size of vocab')\n",
    "\n",
    "flags.DEFINE_string('f', '', 'kernel')\n",
    "\n",
    "config = flags.FLAGS"
   ]
  },
  {
   "cell_type": "code",
   "execution_count": 3,
   "metadata": {},
   "outputs": [],
   "source": [
    "# special tokens\n",
    "PAD = '<pad>' # This has a vocab id, which is used to pad the encoder input, decoder input and target sequence\n",
    "UNK = '<unk>' # This has a vocab id, which is used to represent out-of-vocabulary words\n",
    "BOS = '<p>' # This has a vocab id, which is used at the beginning of every decoder input sequence\n",
    "EOS = '</p>' # This has a vocab id, which is used at the end of untruncated target sequences\n",
    "dummy_tokens = [PAD, UNK, BOS, EOS]"
   ]
  },
  {
   "cell_type": "code",
   "execution_count": 4,
   "metadata": {},
   "outputs": [],
   "source": [
    "def apply_parallel(datas, num_split, map_func):\n",
    "    p = multiprocessing.Pool(processes=num_split)\n",
    "    data_split = np.array_split(datas, num_split)\n",
    "    output_dfs = p.map(map_func, data_split)\n",
    "    p.close()\n",
    "    output_df = pd.concat(output_dfs)\n",
    "    return output_df"
   ]
  },
  {
   "cell_type": "markdown",
   "metadata": {},
   "source": [
    "# load source"
   ]
  },
  {
   "cell_type": "markdown",
   "metadata": {},
   "source": [
    "## load metadata"
   ]
  },
  {
   "cell_type": "code",
   "execution_count": 5,
   "metadata": {},
   "outputs": [],
   "source": [
    "def get_business_df(business_path):\n",
    "    f = open(business_path, 'r')\n",
    "    business_df = pd.read_json(f, lines=True)\n",
    "    f.close()\n",
    "    business_df['category_list'] = business_df['categories'].apply(lambda categories: categories.split(', ') if categories is not None else [])\n",
    "    return business_df"
   ]
  },
  {
   "cell_type": "code",
   "execution_count": 6,
   "metadata": {},
   "outputs": [],
   "source": [
    "business_df = get_business_df(config.business_path)"
   ]
  },
  {
   "cell_type": "code",
   "execution_count": 7,
   "metadata": {},
   "outputs": [],
   "source": [
    "# confirm data\n",
    "def get_category_cnt(business_df):\n",
    "    return pd.DataFrame.from_dict(Counter([category for category_list in business_df['category_list'] for category in category_list]), orient='index').sort_values(0, ascending=False)"
   ]
  },
  {
   "cell_type": "code",
   "execution_count": 9,
   "metadata": {},
   "outputs": [],
   "source": [
    "# get_category_cnt(business_df)"
   ]
  },
  {
   "cell_type": "code",
   "execution_count": 10,
   "metadata": {},
   "outputs": [],
   "source": [
    "# filtered_df = business_df[business_df['category_list'].apply(lambda category_list: 'Restaurants' in category_list)]\n",
    "# get_category_cnt(filtered_df)"
   ]
  },
  {
   "cell_type": "markdown",
   "metadata": {},
   "source": [
    "## load review raw data"
   ]
  },
  {
   "cell_type": "code",
   "execution_count": 11,
   "metadata": {},
   "outputs": [],
   "source": [
    "def get_tokens(text):\n",
    "    def preprocess(text):\n",
    "        text = text.lower()\n",
    "        text = re.sub(r'[0-9]+.[0-9]+|[0-9]+,[0-9]+|[0-9]+', '#', text)\n",
    "        text = re.sub('-', ' ', text)\n",
    "        code_regex = re.compile('[\"\\%&\\\\\\\\\\()*+/:;<=>?@[\\\\]^_`{|}~「」〔〕“”〈〉『』【】＆＊・（）＄＠。、？！｀＋￥％]|-lrb-(.*?)-rrb-|-lsb-(.*?)-rsb-')\n",
    "        text = code_regex.sub('', text)\n",
    "        return text\n",
    "\n",
    "    tokenize = lambda lines: [word_tokenize(line) for line in lines]\n",
    "    filtering = lambda tokens: [line_tokens for line_tokens in tokens if len(line_tokens) > 2]\n",
    "\n",
    "    preprocessed_text = preprocess(text)\n",
    "    lines = [line.strip() for line in re.split('[.!]', preprocessed_text) if not line == '']\n",
    "    tokens = tokenize(lines)\n",
    "    tokens = filtering(tokens)\n",
    "    return tokens"
   ]
  },
  {
   "cell_type": "code",
   "execution_count": 12,
   "metadata": {},
   "outputs": [],
   "source": [
    "def get_data_raw_df(data_paths):\n",
    "    data_raw_dfs = []\n",
    "    for data_path in data_paths:\n",
    "        f = open(data_path, 'r')\n",
    "        item_raw_df = pd.read_json(f)\n",
    "        f.close()\n",
    "        data_raw_dfs.append(item_raw_df)\n",
    "    data_raw_df = pd.concat(data_raw_dfs)\n",
    "    data_raw_df['tokens'] = data_raw_df['text'].apply(get_tokens)\n",
    "    data_raw_df = data_raw_df[data_raw_df['tokens'].apply(lambda tokens: len(tokens) > 2)]\n",
    "    return data_raw_df"
   ]
  },
  {
   "cell_type": "code",
   "execution_count": 13,
   "metadata": {},
   "outputs": [],
   "source": [
    "get_data_paths = lambda data_dir: [os.path.join(data_dir, data_name) for data_name in os.listdir(data_dir) if not data_name == 'store-to-nreviews.json']\n",
    "train_data_paths = get_data_paths(config.train_dir)\n",
    "val_data_paths = get_data_paths(config.val_dir)\n",
    "test_data_paths = get_data_paths(config.test_dir)"
   ]
  },
  {
   "cell_type": "markdown",
   "metadata": {},
   "source": [
    "## get train & val raw data"
   ]
  },
  {
   "cell_type": "code",
   "execution_count": 14,
   "metadata": {},
   "outputs": [
    {
     "name": "stdout",
     "output_type": "stream",
     "text": [
      "CPU times: user 40 s, sys: 15.1 s, total: 55.1 s\n",
      "Wall time: 2min 5s\n"
     ]
    }
   ],
   "source": [
    "%%time\n",
    "train_raw_df = apply_parallel(train_data_paths, num_split=32, map_func=get_data_raw_df).reset_index()"
   ]
  },
  {
   "cell_type": "code",
   "execution_count": 15,
   "metadata": {
    "scrolled": true
   },
   "outputs": [
    {
     "name": "stdout",
     "output_type": "stream",
     "text": [
      "CPU times: user 8.24 s, sys: 7.01 s, total: 15.2 s\n",
      "Wall time: 47.2 s\n"
     ]
    }
   ],
   "source": [
    "%%time\n",
    "val_raw_df = apply_parallel(val_data_paths, num_split=8, map_func=get_data_raw_df).reset_index()"
   ]
  },
  {
   "cell_type": "code",
   "execution_count": 16,
   "metadata": {},
   "outputs": [
    {
     "data": {
      "text/plain": [
       "0"
      ]
     },
     "execution_count": 16,
     "metadata": {},
     "output_type": "execute_result"
    }
   ],
   "source": [
    "sum(train_raw_df.tokens.apply(lambda tokens: len(tokens)==0))"
   ]
  },
  {
   "cell_type": "markdown",
   "metadata": {},
   "source": [
    "le est sympathique et les prix sont raisonnables sum la dim de san ayce"
   ]
  },
  {
   "cell_type": "markdown",
   "metadata": {},
   "source": [
    "## get test raw data"
   ]
  },
  {
   "cell_type": "code",
   "execution_count": 17,
   "metadata": {},
   "outputs": [
    {
     "name": "stdout",
     "output_type": "stream",
     "text": [
      "CPU times: user 2.83 s, sys: 4.3 s, total: 7.12 s\n",
      "Wall time: 40.3 s\n"
     ]
    }
   ],
   "source": [
    "%%time\n",
    "test_tmp_df = apply_parallel(test_data_paths, num_split=8, map_func=get_data_raw_df).reset_index()"
   ]
  },
  {
   "cell_type": "code",
   "execution_count": 18,
   "metadata": {},
   "outputs": [],
   "source": [
    "def get_test_raw_df(ref_path, train_raw_df, val_raw_df, test_raw_df, business_df):\n",
    "    def get_review_business_id_dict(ref_df, train_raw_df, val_raw_df, test_raw_df):\n",
    "        ref_review_ids = []\n",
    "        for _, row in ref_df.iterrows():\n",
    "            ref_review_ids += [row['Input.original_review_%i_id' % i] for i in range(config.batch_l)]\n",
    "        ref_review_id_df = pd.DataFrame(ref_review_ids, columns=['review_id']) # only review_id in reference.csv\n",
    "        concat_raw_df = pd.concat([train_raw_df, val_raw_df, test_raw_df])[['review_id', 'business_id']] # filter review_id and business_id pair\n",
    "        review_business_id_dict = {row.review_id: row.business_id for _, row in pd.merge(ref_review_id_df, concat_raw_df).iterrows()}\n",
    "        return review_business_id_dict\n",
    "    \n",
    "    ref_df = pd.read_csv(open(ref_path, 'r'))\n",
    "    ref_df['business_id_csv'] = ref_df.apply(lambda row: row['Input.business_id'] if row['Input.business_id'] != '#NAME?' else 'null_%i' % row.name, axis=1)\n",
    "    review_business_id_dict = get_review_business_id_dict(ref_df, train_raw_df, val_raw_df, test_raw_df)\n",
    "    \n",
    "    test_raw_dfs = []\n",
    "    for index, row in ref_df.iterrows():\n",
    "        business_id = None \n",
    "        texts, review_ids = [], []\n",
    "        summary = row['Answer.summary']\n",
    "        for i in range(config.batch_l):\n",
    "            text = row['Input.original_review_%i' % i]\n",
    "            review_id = row['Input.original_review_%i_id' % i]\n",
    "            texts.append(text)\n",
    "            review_ids.append(review_id)\n",
    "            if review_id == '#NAME?': review_id = None\n",
    "            if business_id is None and review_id in review_business_id_dict: business_id = review_business_id_dict[review_id] # get business_id from review_business_id_dict\n",
    "        \n",
    "        if business_id is None: business_id = row['business_id_csv'] # if all review_id not in review_business_id_dict, then business_id in csv is used\n",
    "        for text, review_id in zip(texts, review_ids):\n",
    "            test_raw_dfs.append({'business_id': business_id, 'text': text, 'review_id': review_id, 'summary': summary})\n",
    "        \n",
    "    test_raw_df = pd.DataFrame(test_raw_dfs)\n",
    "    test_raw_df['tokens'] = test_raw_df['text'].apply(get_tokens)\n",
    "    return test_raw_df, ref_df"
   ]
  },
  {
   "cell_type": "code",
   "execution_count": 19,
   "metadata": {},
   "outputs": [],
   "source": [
    "test_raw_df, ref_df = get_test_raw_df(config.ref_path, train_raw_df, val_raw_df, test_tmp_df, business_df)"
   ]
  },
  {
   "cell_type": "markdown",
   "metadata": {},
   "source": [
    "# group data by business id"
   ]
  },
  {
   "cell_type": "code",
   "execution_count": 20,
   "metadata": {},
   "outputs": [],
   "source": [
    "def filter_category(group_df, business_df):\n",
    "    group_df = pd.merge(group_df, business_df[['business_id', 'category_list']])\n",
    "    group_df = group_df[group_df['category_list'].apply(lambda category_list: 'Restaurants' in category_list)]\n",
    "    return group_df"
   ]
  },
  {
   "cell_type": "code",
   "execution_count": 21,
   "metadata": {},
   "outputs": [],
   "source": [
    "def get_test_group_df(data_df, business_df):\n",
    "    group_df = data_df.groupby('business_id').agg({\n",
    "        'tokens': lambda token_idxs_list: [sent_idxs for token_idxs in list(token_idxs_list) for sent_idxs in token_idxs],\n",
    "        'summary': lambda summary_series: list(summary_series)[0] # only first column for each business id\n",
    "    })\n",
    "    group_df['doc_l'] = group_df['tokens'].apply(lambda tokens: len(tokens))\n",
    "    group_df['max_sent_l'] = group_df['tokens'].apply(lambda tokens: max([len(line) for line in tokens]))\n",
    "    group_df['sent_l'] = group_df['tokens'].apply(lambda tokens: [len(line) for line in tokens])\n",
    "    group_df = group_df.reset_index()\n",
    "    print('before filtering: %i' % len(group_df))\n",
    "    group_df = filter_category(group_df, business_df)\n",
    "    print('after filtering: %i' % len(group_df))\n",
    "    return group_df"
   ]
  },
  {
   "cell_type": "code",
   "execution_count": 22,
   "metadata": {},
   "outputs": [
    {
     "name": "stdout",
     "output_type": "stream",
     "text": [
      "before filtering: 200\n",
      "after filtering: 141\n"
     ]
    }
   ],
   "source": [
    "test_df = get_test_group_df(test_raw_df, business_df)"
   ]
  },
  {
   "cell_type": "code",
   "execution_count": 185,
   "metadata": {},
   "outputs": [],
   "source": [
    "def get_group_df(data_df, business_df, test_df, filter_sent_l=np.inf, filter_doc_l=np.inf):\n",
    "    group_df = data_df.groupby('business_id').agg({\n",
    "        'tokens': lambda tokens_list: list(tokens_list)\n",
    "    })\n",
    "    test_business_ids = test_df['business_id'].values\n",
    "    batch_list = []\n",
    "    for business_id, row in group_df.iterrows():\n",
    "        if business_id in test_business_ids: continue\n",
    "        tokens = random.sample(row.tokens, len(row.tokens))\n",
    "        tokens = [sents for sents in tokens if max([len(sent) for sent in sents]) <= filter_sent_l]\n",
    "        tokens_list = list(zip(*[iter(tokens)]*config.batch_l))\n",
    "        for tokens in tokens_list:\n",
    "            tokens = [sent for sents in tokens for sent in sents]\n",
    "            doc_l = len(tokens)\n",
    "            sent_l = [len(sent) for sent in tokens]\n",
    "            max_sent_l = max(sent_l)\n",
    "            batch_list.append({'business_id': business_id, 'tokens': tokens, 'doc_l': doc_l, 'sent_l': sent_l, 'max_sent_l': max_sent_l})\n",
    "    group_df = pd.DataFrame(batch_list)\n",
    "    print('before filtering: %i' % len(group_df))\n",
    "    group_df = group_df[group_df['doc_l'] <= filter_doc_l]\n",
    "    group_df = filter_category(group_df, business_df)\n",
    "    print('after filtering: %i' % len(group_df))\n",
    "    return group_df"
   ]
  },
  {
   "cell_type": "code",
   "execution_count": 192,
   "metadata": {},
   "outputs": [
    {
     "name": "stdout",
     "output_type": "stream",
     "text": [
      "before filtering: 240433\n",
      "after filtering: 160626\n",
      "before filtering: 29917\n",
      "after filtering: 20063\n"
     ]
    }
   ],
   "source": [
    "train_df = get_group_df(train_raw_df, business_df, test_df, filter_sent_l=50, filter_doc_l=50)\n",
    "val_df = get_group_df(val_raw_df, business_df, test_df, filter_sent_l=50, filter_doc_l=50)"
   ]
  },
  {
   "cell_type": "code",
   "execution_count": 193,
   "metadata": {},
   "outputs": [
    {
     "name": "stdout",
     "output_type": "stream",
     "text": [
      "50 26\n",
      "50 26\n",
      "65 28\n"
     ]
    },
    {
     "data": {
      "image/png": "[encoded data removed]",
      "text/plain": [
       "<Figure size 576x288 with 1 Axes>"
      ]
     },
     "metadata": {
      "needs_background": "light"
     },
     "output_type": "display_data"
    }
   ],
   "source": [
    "print(max(train_df.doc_l), min(train_df.doc_l))\n",
    "print(max(val_df.doc_l), min(val_df.doc_l))\n",
    "print(max(test_df.doc_l), min(test_df.doc_l))\n",
    "\n",
    "train_df.doc_l.plot(bins=50, alpha=0.5, figsize=(8,4), kind='hist', range=(0, 100), density=True);\n",
    "test_df.doc_l.plot(bins=50, alpha=0.5, figsize=(8,4), kind='hist', range=(0, 100), density=True);"
   ]
  },
  {
   "cell_type": "code",
   "execution_count": 194,
   "metadata": {},
   "outputs": [
    {
     "name": "stdout",
     "output_type": "stream",
     "text": [
      "50 13\n",
      "50 14\n",
      "129 18\n"
     ]
    },
    {
     "data": {
      "image/png": "[encoded data removed]",
      "text/plain": [
       "<Figure size 576x288 with 1 Axes>"
      ]
     },
     "metadata": {
      "needs_background": "light"
     },
     "output_type": "display_data"
    }
   ],
   "source": [
    "print(max(train_df.max_sent_l), min(train_df.max_sent_l))\n",
    "print(max(val_df.max_sent_l), min(val_df.max_sent_l))\n",
    "print(max(test_df.max_sent_l), min(test_df.max_sent_l))\n",
    "\n",
    "train_df.max_sent_l.plot(bins=50, alpha=0.5, figsize=(8,4), kind='hist', range=(0, 150), density=True);\n",
    "test_df.max_sent_l.plot(bins=50, alpha=0.5, figsize=(8,4), kind='hist', range=(0, 150), density=True);"
   ]
  },
  {
   "cell_type": "markdown",
   "metadata": {},
   "source": [
    "# build token idxs for language modeling "
   ]
  },
  {
   "cell_type": "code",
   "execution_count": 195,
   "metadata": {},
   "outputs": [
    {
     "name": "stdout",
     "output_type": "stream",
     "text": [
      "CPU times: user 22.4 s, sys: 3 s, total: 25.4 s\n",
      "Wall time: 25.2 s\n"
     ]
    }
   ],
   "source": [
    "%%time\n",
    "words_list = train_df['tokens'].apply(lambda tokens: [token for line in tokens for token in line])\n",
    "word_tf_dict = sorted(Counter([word for words in words_list for word in words]).items(), key=lambda x: x[1])"
   ]
  },
  {
   "cell_type": "code",
   "execution_count": 196,
   "metadata": {},
   "outputs": [
    {
     "name": "stdout",
     "output_type": "stream",
     "text": [
      "CPU times: user 40.5 s, sys: 4.69 s, total: 45.2 s\n",
      "Wall time: 44.9 s\n"
     ]
    }
   ],
   "source": [
    "%%time\n",
    "unique_words_list = train_raw_df['tokens'].apply(lambda tokens: list(set([token for line in tokens for token in line])))\n",
    "word_df_dict = sorted(Counter([word for unique_words in unique_words_list for word in unique_words]).items(), key=lambda x: x[1])"
   ]
  },
  {
   "cell_type": "code",
   "execution_count": 197,
   "metadata": {},
   "outputs": [],
   "source": [
    "def filter_words(word_tf_dict, max_tf_rate=0., min_tf_rate=0., min_tf=None, min_df=None, stop_words=[]):\n",
    "    filtered_word_tf_dict = dict(word_tf_dict[int(min_tf_rate*len(word_tf_dict)):int((1-max_tf_rate)*len(word_tf_dict))][::-1])\n",
    "    if min_tf: filtered_word_tf_dict = {word: tf for word, tf in filtered_word_tf_dict.items() if tf >= min_tf}\n",
    "    filtered_words = [word for word, _ in filtered_word_tf_dict.items() if word not in stop_words]\n",
    "    \n",
    "    if min_df: \n",
    "        filtered_df_words = [word for word, df in word_df_dict if df >= min_df]\n",
    "        filtered_df_words = list(set(filtered_words) & set(filtered_df_words))\n",
    "        filtered_word_tf_df_dict = sorted([(word, filtered_word_tf_dict[word]) for word in filtered_df_words], key=lambda x:x[1])[::-1]\n",
    "        filtered_words = [word for word, _ in filtered_word_tf_df_dict]\n",
    "        \n",
    "    return filtered_words"
   ]
  },
  {
   "cell_type": "code",
   "execution_count": 249,
   "metadata": {},
   "outputs": [
    {
     "data": {
      "text/plain": [
       "24425"
      ]
     },
     "execution_count": 249,
     "metadata": {},
     "output_type": "execute_result"
    }
   ],
   "source": [
    "lm_words = [PAD, UNK, BOS, EOS]\n",
    "# lm_words += filter_words(word_tf_dict, min_tf=10) # large: 10 usual: 10 small: 20\n",
    "lm_words += filter_words(word_tf_dict, min_tf=20) # large: 10 usual: 10 small: 20\n",
    "idx_to_word = {idx: word for idx, word in enumerate(lm_words)}\n",
    "word_to_idx = {word: idx for idx, word in idx_to_word.items()}\n",
    "len(lm_words)"
   ]
  },
  {
   "cell_type": "code",
   "execution_count": 250,
   "metadata": {},
   "outputs": [],
   "source": [
    "def apply_token_idxs(tokens_series):\n",
    "    def get_token_idxs(tokens):\n",
    "        return [[word_to_idx[token] if token in word_to_idx else word_to_idx[UNK] for token in sent] for sent in tokens]\n",
    "    return tokens_series.apply(get_token_idxs)"
   ]
  },
  {
   "cell_type": "code",
   "execution_count": 251,
   "metadata": {},
   "outputs": [
    {
     "name": "stdout",
     "output_type": "stream",
     "text": [
      "CPU times: user 54.4 s, sys: 1min 6s, total: 2min\n",
      "Wall time: 2min 3s\n"
     ]
    }
   ],
   "source": [
    "%%time\n",
    "train_df['token_idxs'] = apply_parallel(train_df['tokens'], num_split=64, map_func=apply_token_idxs)"
   ]
  },
  {
   "cell_type": "code",
   "execution_count": 252,
   "metadata": {},
   "outputs": [
    {
     "name": "stdout",
     "output_type": "stream",
     "text": [
      "CPU times: user 3.87 s, sys: 47.2 s, total: 51 s\n",
      "Wall time: 51 s\n"
     ]
    }
   ],
   "source": [
    "%%time\n",
    "val_df['token_idxs'] = apply_parallel(val_df['tokens'], num_split=64, map_func=apply_token_idxs)"
   ]
  },
  {
   "cell_type": "code",
   "execution_count": 253,
   "metadata": {},
   "outputs": [],
   "source": [
    "test_df['token_idxs'] = apply_token_idxs(test_df['tokens'])"
   ]
  },
  {
   "cell_type": "markdown",
   "metadata": {},
   "source": [
    "# build bow for topic modeling "
   ]
  },
  {
   "cell_type": "code",
   "execution_count": 254,
   "metadata": {},
   "outputs": [
    {
     "data": {
      "text/plain": [
       "2721"
      ]
     },
     "execution_count": 254,
     "metadata": {},
     "output_type": "execute_result"
    }
   ],
   "source": [
    "with open(config.stopwords_path, 'r') as f:\n",
    "    stop_words_mallet = [w.replace('\\n', '') for w in f.readlines()]\n",
    "stop_words_nltk = nltk.corpus.stopwords.words('english')\n",
    "# stop_words = list(set(stop_words_nltk + [',', '#', '$', \"n't\", \"'s\", \"'ve\", \"'m\",  \"'ll\", \"'re\", \"'d\", 'could', 'would', 'us', 'ca']))\n",
    "stop_words = list(set(stop_words_mallet + stop_words_nltk + [',', '#', '$', \"n't\", \"'s\", \"'ve\", \"'m\",  \"'ll\", \"'re\", \"'d\", 'could', 'would', 'us', 'ca']))\n",
    "# tm_words = filter_words(word_tf_dict, min_df=500, min_tf=10, stop_words=stop_words) # large: 500 usual: 1000 small: 2000\n",
    "# tm_words = filter_words(word_tf_dict, min_df=1000, min_tf=10, stop_words=stop_words) # large: 500 usual: 1000 small: 2000\n",
    "tm_words = filter_words(word_tf_dict, min_df=2000, min_tf=20, stop_words=stop_words) # large: 500 usual: 1000 small: 2000\n",
    "# tm_words = filter_words(word_tf_dict, min_tf=1000, stop_words=stop_words)\n",
    "word_to_bow = {word: idx for idx, word in enumerate(tm_words)}\n",
    "bow_idxs = np.array([word_to_idx[word] for word in tm_words])\n",
    "len(tm_words)"
   ]
  },
  {
   "cell_type": "code",
   "execution_count": 255,
   "metadata": {},
   "outputs": [],
   "source": [
    "def apply_bows(tokens_series):\n",
    "    def get_bows(tokens):\n",
    "        def line_to_bow(line):\n",
    "            counter = Counter(line)\n",
    "            bow = np.zeros(len(word_to_bow), dtype=np.int32)\n",
    "            indices_cnts = np.array([[word_to_bow[word], cnt] for word, cnt in counter.items() if word in word_to_bow])\n",
    "            if len(indices_cnts) > 0: bow[indices_cnts[:, 0]] = indices_cnts[:, 1]\n",
    "            return bow\n",
    "#         bows = np.array([line_to_bow(line) for line in tokens])\n",
    "        bows = csr_matrix([line_to_bow(line) for line in tokens])\n",
    "        return bows\n",
    "    return tokens_series.apply(get_bows)"
   ]
  },
  {
   "cell_type": "code",
   "execution_count": 256,
   "metadata": {},
   "outputs": [
    {
     "name": "stdout",
     "output_type": "stream",
     "text": [
      "CPU times: user 28 s, sys: 1min 2s, total: 1min 30s\n",
      "Wall time: 1min 34s\n"
     ]
    }
   ],
   "source": [
    "%%time\n",
    "train_df['bows'] = apply_parallel(train_df['tokens'], num_split=64, map_func=apply_bows)"
   ]
  },
  {
   "cell_type": "code",
   "execution_count": 257,
   "metadata": {},
   "outputs": [
    {
     "name": "stdout",
     "output_type": "stream",
     "text": [
      "CPU times: user 3.26 s, sys: 31.4 s, total: 34.7 s\n",
      "Wall time: 35.9 s\n"
     ]
    }
   ],
   "source": [
    "%%time\n",
    "val_df['bows'] = apply_parallel(val_df['tokens'], num_split=32, map_func=apply_bows)"
   ]
  },
  {
   "cell_type": "code",
   "execution_count": 258,
   "metadata": {},
   "outputs": [],
   "source": [
    "test_df['bows'] = apply_bows(test_df['tokens'])"
   ]
  },
  {
   "cell_type": "code",
   "execution_count": 259,
   "metadata": {},
   "outputs": [],
   "source": [
    "#confirm\n",
    "for i in range(len(val_df)//100):\n",
    "    assert all([all([word in line for word in np.array(tm_words)[np.where(line_bows>0)[0]]]) for line_bows, line in zip(val_df['bows'].iloc[i*100].toarray(), val_df['tokens'].iloc[i*100])])"
   ]
  },
  {
   "cell_type": "markdown",
   "metadata": {},
   "source": [
    "# write out"
   ]
  },
  {
   "cell_type": "code",
   "execution_count": 260,
   "metadata": {},
   "outputs": [],
   "source": [
    "def get_save_df(data_df, frac=1., summary=False):\n",
    "    save_df = data_df[['business_id', 'doc_l', 'sent_l', 'max_sent_l', 'bows', 'token_idxs']]\n",
    "    if summary: save_df = data_df[['business_id', 'doc_l', 'sent_l', 'max_sent_l', 'bows', 'token_idxs', 'summary']]\n",
    "    if frac < 1: save_df = save_df.sample(frac=0.01)\n",
    "    return save_df"
   ]
  },
  {
   "cell_type": "code",
   "execution_count": 261,
   "metadata": {},
   "outputs": [
    {
     "data": {
      "text/plain": [
       "(160626, 201, 141)"
      ]
     },
     "execution_count": 261,
     "metadata": {},
     "output_type": "execute_result"
    }
   ],
   "source": [
    "train_save_df = get_save_df(train_df)\n",
    "val_save_df = get_save_df(val_df, frac=0.01)\n",
    "test_save_df = get_save_df(test_df, summary=True)\n",
    "len(train_save_df), len(val_save_df), len(test_save_df)"
   ]
  },
  {
   "cell_type": "code",
   "execution_count": 262,
   "metadata": {},
   "outputs": [
    {
     "name": "stdout",
     "output_type": "stream",
     "text": [
      "saving preprocessed instances...\n"
     ]
    }
   ],
   "source": [
    "print('saving preprocessed instances...')\n",
    "# cPickle.dump((train_save_df, val_save_df, test_save_df, word_to_idx, idx_to_word, bow_idxs),open(config.output_large_path,'wb'))\n",
    "# cPickle.dump((train_save_df, val_save_df, test_save_df, word_to_idx, idx_to_word, bow_idxs),open(config.output_path,'wb'))\n",
    "cPickle.dump((train_save_df, val_save_df, test_save_df, word_to_idx, idx_to_word, bow_idxs),open(config.output_small_path,'wb'))"
   ]
  },
  {
   "cell_type": "code",
   "execution_count": null,
   "metadata": {},
   "outputs": [],
   "source": []
  },
  {
   "cell_type": "code",
   "execution_count": 171,
   "metadata": {},
   "outputs": [],
   "source": [
    "# def prepare_instances(data_df, word_to_idx):\n",
    "#     instances = []\n",
    "#     for index, doc in data_df.iterrows():\n",
    "#         instance = Instance()\n",
    "#         instance.business_id = doc.business_id\n",
    "#         doc_token_idxs = []\n",
    "#         for sent_tokens in doc.tokens:\n",
    "#             sent_token_idxs = [word_to_idx[token] if token in word_to_idx else word_to_idx[UNK] for token in sent_tokens]\n",
    "#             doc_token_idxs.append(sent_token_idxs)\n",
    "#         instance.token_idxs = doc_token_idxs\n",
    "#         instance.doc_l = doc.doc_l\n",
    "#         instance.sent_l = doc.sent_l\n",
    "#         instance.max_sent_l = doc.max_sent_l\n",
    "#         instance.bows = doc.bows\n",
    "#         if 'summary' in doc: instance.summary = doc.summary\n",
    "#         instances.append(instance)\n",
    "#     return instances"
   ]
  },
  {
   "cell_type": "code",
   "execution_count": 172,
   "metadata": {},
   "outputs": [
    {
     "name": "stdout",
     "output_type": "stream",
     "text": [
      "CPU times: user 1min 48s, sys: 7.98 s, total: 1min 56s\n",
      "Wall time: 1min 55s\n"
     ]
    }
   ],
   "source": [
    "# %%time\n",
    "# instances_train = prepare_instances(train_df, word_to_idx)\n",
    "# instances_val = prepare_instances(val_df, word_to_idx)\n",
    "# instances_test = prepare_instances(test_df, word_to_idx)\n",
    "# len(instances_train), len(instances_val), len(instances_test)"
   ]
  },
  {
   "cell_type": "code",
   "execution_count": 173,
   "metadata": {},
   "outputs": [],
   "source": [
    "# instances_val = random.sample(instances_val, len(instances_val)//100)"
   ]
  },
  {
   "cell_type": "code",
   "execution_count": 174,
   "metadata": {},
   "outputs": [],
   "source": [
    "# # print('saving preprocessed instances...')\n",
    "# cPickle.dump((instances_train, instances_val, instances_test, word_to_idx, idx_to_word, bow_idxs),open(config.output_path+'_tmp','wb'))"
   ]
  },
  {
   "cell_type": "code",
   "execution_count": null,
   "metadata": {},
   "outputs": [],
   "source": []
  },
  {
   "cell_type": "code",
   "execution_count": 158,
   "metadata": {},
   "outputs": [],
   "source": [
    "word = 'strip'\n",
    "tokens_list = train_df[words_list.apply(lambda words: word in words)].tokens"
   ]
  },
  {
   "cell_type": "code",
   "execution_count": 163,
   "metadata": {},
   "outputs": [
    {
     "name": "stdout",
     "output_type": "stream",
     "text": [
      "i have passed this shopping mall strip plenty of times but never actually ventured in\n"
     ]
    }
   ],
   "source": [
    "for line_words in tokens_list.iloc[3]:\n",
    "    if word in line_words:\n",
    "        print(' '.join(line_words))"
   ]
  },
  {
   "cell_type": "code",
   "execution_count": 117,
   "metadata": {},
   "outputs": [
    {
     "name": "stdout",
     "output_type": "stream",
     "text": [
      "though i put # stars here , i think # would be more appropriate\n",
      "the chicken was tender and tasty , but it was n't the the most special chicken rotisserie ever\n",
      "like it was good , solid , satisfying , delicious , but i 'm not sure that another perhaps more obscure restaurant could n't do the same fries were very good , though again not necessarily exceptional overall still a solid experience\n",
      "portion is very generous so order less or you 'll have a ton of leftovers\n",
      "i think for one person # chicken is fine , and you can ask for less friesrice and more salad\n",
      "the half chicken is an amazing deal\n",
      "comes with fries and salad , and the chicken itself is very well seasoned and full of flavor\n",
      "the seating space is a little bit limited though , and the pastry section 's desserts seemed not very fresh\n",
      "altogether , a great experience because the chicken was top notch\n",
      "i will definitely revisit this place , but i suggest to avoid the desserts section in the evening\n",
      "loved the chicken , deserves the hype , price is good\n",
      "would definitely go back\n",
      "place is on the small side , be prepared for a bit of a wait to sit down\n",
      "pretty tasty chicken and fries\n",
      "they ran out of rice when i was there\n",
      "we also had a tart pastry i forgot which one , but it was pretty good\n",
      "overall a rather heavy meal\n",
      "très bon poulet bbq à la portuguaise\n",
      "assurez vous de prendre avec sauce piquante ai vous aimez un peu de piquant , vous pouvez aussi en acheter extra\n",
      "les frites maisons sont super , ainsi que la vinagrette de la salade maison\n",
      "la meilleure valeur si vous êtes deux c'est de prendre le demi poulet en combo avec frites et salade , versus deux repas individuels\n",
      "le chorizo grillé est très bon aussi\n",
      "all portugese chicken places are born equal , but some are more equal than others\n",
      "get the chicken in any shape or form\n",
      "if they made chicken smoothies , i am sure i would order them as well\n",
      "service is fast\n",
      "only downside side they are a chicken place that runs out of chicken\n",
      "cuit aux charbons cuisson toujours parfaite\n",
      "sauce de cuisson\n",
      "poutine au poulet la sauce est excellente\n",
      "vraiment très rassasiant\n"
     ]
    }
   ],
   "source": [
    "for line_words in tokens_list.iloc[0]:\n",
    "    print(' '.join(line_words))"
   ]
  },
  {
   "cell_type": "code",
   "execution_count": null,
   "metadata": {},
   "outputs": [],
   "source": []
  }
 ],
 "metadata": {
  "kernelspec": {
   "display_name": "py36",
   "language": "python",
   "name": "py36"
  },
  "language_info": {
   "codemirror_mode": {
    "name": "ipython",
    "version": 3
   },
   "file_extension": ".py",
   "mimetype": "text/x-python",
   "name": "python",
   "nbconvert_exporter": "python",
   "pygments_lexer": "ipython3",
   "version": "3.6.9"
  },
  "toc": {
   "base_numbering": 1,
   "nav_menu": {},
   "number_sections": true,
   "sideBar": true,
   "skip_h1_title": false,
   "title_cell": "Table of Contents",
   "title_sidebar": "Contents",
   "toc_cell": false,
   "toc_position": {},
   "toc_section_display": true,
   "toc_window_display": false
  }
 },
 "nbformat": 4,
 "nbformat_minor": 2
}
