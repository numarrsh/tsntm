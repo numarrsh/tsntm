{
 "cells": [
  {
   "cell_type": "code",
   "execution_count": 28,
   "metadata": {},
   "outputs": [
    {
     "name": "stdout",
     "output_type": "stream",
     "text": [
      "The autoreload extension is already loaded. To reload it, use:\n",
      "  %reload_ext autoreload\n"
     ]
    }
   ],
   "source": [
    "%load_ext autoreload\n",
    "%autoreload\n",
    "from IPython.display import clear_output\n",
    "\n",
    "import os\n",
    "# os.environ['TF_CPP_MIN_LOG_LEVEL'] = '2' \n",
    "import sys\n",
    "import pdb\n",
    "import time\n",
    "import datetime\n",
    "import math\n",
    "import random\n",
    "import _pickle as cPickle\n",
    "from collections import defaultdict\n",
    "\n",
    "from six.moves import zip_longest\n",
    "import numpy as np\n",
    "\n",
    "import tensorflow as tf\n",
    "from tensorflow import distributions as tfd\n",
    "from tensorflow.keras.preprocessing.sequence import pad_sequences\n",
    "\n",
    "from data_structure import get_batches\n",
    "from components import tf_log, sample_latents, compute_kl_loss, dynamic_rnn, dynamic_bi_rnn\n",
    "from topic_model import TopicModel\n",
    "\n"
   ]
  },
  {
   "cell_type": "code",
   "execution_count": 29,
   "metadata": {},
   "outputs": [],
   "source": [
    "PAD = '<pad>' # This has a vocab id, which is used to pad the encoder input, decoder input and target sequence\n",
    "UNK = '<unk>' # This has a vocab id, which is used to represent out-of-vocabulary words\n",
    "BOS = '<p>' # This has a vocab id, which is used at the beginning of every decoder input sequence\n",
    "EOS = '</p>' # This has a vocab id, which is used at the end of untruncated target sequences"
   ]
  },
  {
   "cell_type": "markdown",
   "metadata": {},
   "source": [
    "# load data & set config"
   ]
  },
  {
   "cell_type": "code",
   "execution_count": 30,
   "metadata": {
    "code_folding": [
     0
    ]
   },
   "outputs": [],
   "source": [
    "def del_all_flags(FLAGS):\n",
    "    flags_dict = FLAGS._flags()    \n",
    "    keys_list = [keys for keys in flags_dict]    \n",
    "    for keys in keys_list:\n",
    "        FLAGS.__delattr__(keys)\n",
    "\n",
    "del_all_flags(tf.flags.FLAGS)\n",
    "\n",
    "flags = tf.app.flags\n",
    "\n",
    "flags.DEFINE_string('gpu', '1', 'visible gpu')\n",
    "\n",
    "flags.DEFINE_string('mode', 'train', 'set train or eval')\n",
    "\n",
    "flags.DEFINE_string('data_path', 'data/apnews/instances.pkl', 'path of data')\n",
    "flags.DEFINE_string('modeldir', 'model', 'directory of model')\n",
    "flags.DEFINE_string('modelname', 'sports', 'name of model')\n",
    "\n",
    "flags.DEFINE_integer('epochs', 1000, 'epochs')\n",
    "flags.DEFINE_integer('batch_size', 64, 'number of sentences in each batch')\n",
    "flags.DEFINE_integer('log_period', 500, 'valid period')\n",
    "\n",
    "flags.DEFINE_string('opt', 'Adagrad', 'optimizer')\n",
    "flags.DEFINE_float('lr', 0.1, 'lr')\n",
    "flags.DEFINE_float('reg', 0.1, 'regularization term')\n",
    "flags.DEFINE_float('beta', 0.001, 'initial value of beta')\n",
    "flags.DEFINE_float('grad_clip', 5., 'grad_clip')\n",
    "\n",
    "flags.DEFINE_float('keep_prob', 0.8, 'dropout rate')\n",
    "flags.DEFINE_float('word_keep_prob', 0.75, 'word dropout rate')\n",
    "\n",
    "flags.DEFINE_integer('warmup', 5000, 'warmup period for KL')\n",
    "flags.DEFINE_integer('warmup_topic', 0, 'warmup period for KL of topic')\n",
    "\n",
    "flags.DEFINE_integer('beam_width', 2, 'beam_width')\n",
    "flags.DEFINE_float('length_penalty_weight', 0.0, 'length_penalty_weight')\n",
    "\n",
    "flags.DEFINE_integer('n_topic', 10, 'number of topic')\n",
    "flags.DEFINE_integer('dim_hidden_bow', 256, 'dim of hidden bow')\n",
    "flags.DEFINE_integer('dim_latent_topic', 32, 'dim of latent topic')\n",
    "flags.DEFINE_integer('dim_emb', 256, 'dim_emb')\n",
    "flags.DEFINE_integer('dim_hidden', 512, 'dim_hidden')\n",
    "flags.DEFINE_integer('dim_latent', 32, 'dim_latent')\n",
    "\n",
    "\n",
    "# for evaluation\n",
    "flags.DEFINE_string('refdir', 'ref', 'refdir')\n",
    "flags.DEFINE_string('outdir', 'out', 'outdir')\n",
    "\n",
    "flags.DEFINE_string('f', '', 'kernel')\n",
    "flags.DEFINE_bool('logtostderr', True, 'kernel')\n",
    "flags.DEFINE_bool('showprefixforinfo', False, '')\n",
    "flags.DEFINE_bool('verbosity', False, '')\n",
    "# flags.DEFINE_integer('stderrthreshold', 20, 'kernel')\n",
    "\n",
    "config = flags.FLAGS"
   ]
  },
  {
   "cell_type": "code",
   "execution_count": 31,
   "metadata": {},
   "outputs": [],
   "source": [
    "os.environ[\"CUDA_VISIBLE_DEVICES\"] = config.gpu"
   ]
  },
  {
   "cell_type": "code",
   "execution_count": 32,
   "metadata": {},
   "outputs": [],
   "source": [
    "instances_train, instances_dev, instances_test, word_to_idx, idx_to_word, bow_idxs = cPickle.load(open(config.data_path,'rb'))"
   ]
  },
  {
   "cell_type": "code",
   "execution_count": 33,
   "metadata": {},
   "outputs": [],
   "source": [
    "train_batches = get_batches(instances_train, config.batch_size)\n",
    "dev_batches = get_batches(instances_dev, config.batch_size)\n",
    "test_batches = get_batches(instances_test, config.batch_size)"
   ]
  },
  {
   "cell_type": "code",
   "execution_count": 34,
   "metadata": {},
   "outputs": [],
   "source": [
    "flags.DEFINE_integer('PAD_IDX', word_to_idx[PAD], 'PAD_IDX')\n",
    "flags.DEFINE_integer('UNK_IDX', word_to_idx[UNK], 'UNK_IDX')\n",
    "flags.DEFINE_integer('BOS_IDX', word_to_idx[BOS], 'BOS_IDX')\n",
    "flags.DEFINE_integer('EOS_IDX', word_to_idx[EOS], 'EOS_IDX')\n",
    "\n",
    "flags.DEFINE_integer('n_vocab', len(word_to_idx), 'n_vocab')\n",
    "flags.DEFINE_integer('dim_bow', len(bow_idxs), 'dim_bow')\n",
    "\n",
    "maximum_iterations = max([max([instance.max_sent_l for instance in batch]) for ct, batch in dev_batches])\n",
    "flags.DEFINE_integer('maximum_iterations', maximum_iterations, 'maximum_iterations')    "
   ]
  },
  {
   "cell_type": "markdown",
   "metadata": {},
   "source": [
    "# build language model "
   ]
  },
  {
   "cell_type": "markdown",
   "metadata": {},
   "source": [
    "## feed dict"
   ]
  },
  {
   "cell_type": "code",
   "execution_count": 35,
   "metadata": {},
   "outputs": [],
   "source": [
    "tf.reset_default_graph()\n",
    "\n",
    "t_variables = {}\n",
    "t_variables['bow'] = tf.placeholder(tf.float32, [None, config.dim_bow])\n",
    "t_variables['input_token_idxs'] = tf.placeholder(tf.int32, [None, None])\n",
    "t_variables['dec_input_idxs'] = tf.placeholder(tf.int32, [None, None])\n",
    "t_variables['dec_target_idxs'] = tf.placeholder(tf.int32, [None, None])\n",
    "t_variables['doc_l'] = tf.placeholder(tf.int32, [None])\n",
    "t_variables['sent_l'] = tf.placeholder(tf.int32, [None])\n",
    "t_variables['keep_prob'] = tf.placeholder(tf.float32)"
   ]
  },
  {
   "cell_type": "code",
   "execution_count": 36,
   "metadata": {},
   "outputs": [],
   "source": [
    "def get_feed_dict(batch, mode='train', assertion=False):\n",
    "    def token_dropout(sent_idxs):\n",
    "        sent_idxs_dropout = np.asarray(sent_idxs)\n",
    "        sent_idxs_dropout[np.random.rand(len(sent_idxs)) > config.word_keep_prob] = config.UNK_IDX\n",
    "        return list(sent_idxs_dropout)\n",
    "\n",
    "    bow = np.array([instance.bow for instance in batch]).astype(np.float32)\n",
    "    \n",
    "    doc_l = np.array([len(instance.token_idxs) for instance in batch])\n",
    "    \n",
    "    feed_input_token_idxs_list = [sent_idxs for instance in batch for sent_idxs in instance.token_idxs]\n",
    "    feed_dec_input_idxs_list = [[config.BOS_IDX] + token_dropout(sent_idxs) for sent_idxs in feed_input_token_idxs_list]\n",
    "    feed_dec_target_idxs_list = [sent_idxs + [config.EOS_IDX]  for sent_idxs in feed_input_token_idxs_list]\n",
    "        \n",
    "    sent_l = np.array([len(sent_idxs) for sent_idxs in feed_input_token_idxs_list], np.int32)\n",
    "    \n",
    "    feed_input_token_idxs = pad_sequences(feed_input_token_idxs_list, padding='post', value=config.PAD_IDX, dtype=np.int32)\n",
    "    feed_dec_input_idxs = pad_sequences(feed_dec_input_idxs_list, padding='post', value=config.PAD_IDX, dtype=np.int32)\n",
    "    feed_dec_target_idxs = pad_sequences(feed_dec_target_idxs_list, padding='post', value=config.PAD_IDX, dtype=np.int32)\n",
    "    \n",
    "    if assertion:\n",
    "        index = 0\n",
    "        for instance in batch:\n",
    "            for line_idxs in instance.token_idxs:\n",
    "                assert feed_input_token_idxs_list[index] == line_idxs\n",
    "                index += 1\n",
    "        assert feed_input_token_idxs.shape[1] == np.max(sent_l)\n",
    "        assert feed_dec_input_idxs.shape[1] == np.max(sent_l) + 1\n",
    "        assert feed_dec_target_idxs.shape[1] == np.max(sent_l) + 1\n",
    "    \n",
    "    keep_prob = config.keep_prob if mode == 'train' else 1.0\n",
    "\n",
    "    feed_dict = {\n",
    "                t_variables['bow']: bow, \n",
    "                t_variables['doc_l']: doc_l, t_variables['sent_l']: sent_l, \n",
    "                t_variables['input_token_idxs']: feed_input_token_idxs, t_variables['dec_input_idxs']: feed_dec_input_idxs, t_variables['dec_target_idxs']: feed_dec_target_idxs, \n",
    "                t_variables['keep_prob']: keep_prob\n",
    "    }\n",
    "    return  feed_dict"
   ]
  },
  {
   "cell_type": "code",
   "execution_count": 37,
   "metadata": {
    "code_folding": [
     0,
     18
    ]
   },
   "outputs": [],
   "source": [
    "def debug_shape(variables, sess_init=None):\n",
    "    if sess_init is None:\n",
    "        sess = tf.Session()\n",
    "        sess.run(tf.global_variables_initializer())\n",
    "    else:\n",
    "        sess = sess_init\n",
    "        \n",
    "    sample_batch = test_batches[0][1]\n",
    "    feed_dict = get_feed_dict(sample_batch)\n",
    "    _variables = sess.run(variables, feed_dict=feed_dict)\n",
    "    for _variable, variable in zip(_variables, variables):\n",
    "        if hasattr(variable, 'name'):\n",
    "            print(variable.name, ':', _variable.shape)\n",
    "        else:\n",
    "            print(_variable.shape)\n",
    "            \n",
    "    if sess_init is None: sess.close()\n",
    "\n",
    "def debug_value(variables, return_value=False, sess_init=None):\n",
    "    if sess_init is None:\n",
    "        sess = tf.Session()\n",
    "        sess.run(tf.global_variables_initializer())\n",
    "    else:\n",
    "        sess = sess_init\n",
    "\n",
    "    sample_batch = test_batches[0][1]\n",
    "    feed_dict = get_feed_dict(sample_batch)\n",
    "    _variables = sess.run(variables, feed_dict=feed_dict)\n",
    "\n",
    "    if return_value: \n",
    "        return _variables\n",
    "    else:\n",
    "        for _variable, variable in zip(_variables, variables):\n",
    "            if hasattr(variable, 'name'):\n",
    "                print(variable.name, ':', _variable)\n",
    "            else:\n",
    "                print(_variable)\n",
    "                \n",
    "    if sess_init is None: sess.close()"
   ]
  },
  {
   "cell_type": "markdown",
   "metadata": {},
   "source": [
    "## encoder"
   ]
  },
  {
   "cell_type": "code",
   "execution_count": 38,
   "metadata": {},
   "outputs": [],
   "source": [
    "# input\n",
    "input_token_idxs = t_variables['input_token_idxs']\n",
    "batch_l, max_sent_l = tf.shape(input_token_idxs)[0], tf.shape(input_token_idxs)[1]\n",
    "sent_l = t_variables['sent_l']\n",
    "\n",
    "with tf.variable_scope('shared', reuse=False):\n",
    "    embeddings = tf.get_variable('emb', [config.n_vocab, config.dim_emb], dtype=tf.float32, initializer=tf.contrib.layers.xavier_initializer()) # embeddings of vocab\n",
    "\n",
    "with tf.variable_scope('sent/enc', reuse=False):\n",
    "    # get word embedding\n",
    "    enc_input = tf.nn.embedding_lookup(embeddings, input_token_idxs)\n",
    "\n",
    "    # get sentence embedding\n",
    "    _, enc_state = dynamic_rnn(enc_input, sent_l, config.dim_hidden, t_variables['keep_prob'])\n",
    "\n",
    "    means_infer = tf.keras.layers.Dense(units=config.dim_latent)(enc_state)\n",
    "    logvars_infer = tf.keras.layers.Dense(units=config.dim_latent, kernel_initializer=tf.constant_initializer(0), bias_initializer=tf.constant_initializer(0))(enc_state)\n",
    "\n",
    "    # latent vector from gaussian mixture    \n",
    "    latents_input = sample_latents(means_infer, logvars_infer) "
   ]
  },
  {
   "cell_type": "code",
   "execution_count": 39,
   "metadata": {},
   "outputs": [
    {
     "name": "stdout",
     "output_type": "stream",
     "text": [
      "Placeholder_1:0 : (64, 40)\n",
      "sent/enc/rnn/while/Exit_3:0 : (64, 512)\n",
      "sent/enc/add:0 : (64, 32)\n"
     ]
    }
   ],
   "source": [
    "debug_shape([input_token_idxs, enc_state, latents_input])"
   ]
  },
  {
   "cell_type": "markdown",
   "metadata": {},
   "source": [
    "## decoder"
   ]
  },
  {
   "cell_type": "code",
   "execution_count": 40,
   "metadata": {},
   "outputs": [],
   "source": [
    "# prepare for decoding\n",
    "dec_sent_l = tf.add(sent_l, 1)\n",
    "dec_input_idxs = t_variables['dec_input_idxs']\n",
    "dec_input = tf.nn.embedding_lookup(embeddings, dec_input_idxs)\n",
    "\n",
    "dec_latents_input = tf.tile(tf.expand_dims(latents_input, 1), [1, tf.shape(dec_input)[1], 1])\n",
    "dec_concat_input = tf.concat([dec_input, dec_latents_input], -1)\n",
    "\n",
    "# decode for training\n",
    "with tf.variable_scope('sent/dec/rnn', initializer=tf.contrib.layers.xavier_initializer(), dtype = tf.float32, reuse=tf.AUTO_REUSE):\n",
    "    dec_cell = tf.contrib.rnn.GRUCell(config.dim_hidden)\n",
    "    dec_cell = tf.contrib.rnn.DropoutWrapper(dec_cell, output_keep_prob = t_variables['keep_prob'])\n",
    "\n",
    "    dec_initial_state = tf.layers.Dense(units=config.dim_hidden, activation=tf.nn.relu)(latents_input)\n",
    "    \n",
    "    helper = tf.contrib.seq2seq.TrainingHelper(inputs=dec_concat_input, sequence_length=dec_sent_l)\n",
    "\n",
    "    train_decoder = tf.contrib.seq2seq.BasicDecoder(\n",
    "        cell=dec_cell,\n",
    "        helper=helper,\n",
    "        initial_state=dec_initial_state)\n",
    "\n",
    "    dec_outputs, _, output_sent_l = tf.contrib.seq2seq.dynamic_decode(train_decoder)\n",
    "    \n",
    "    output_layer = tf.layers.Dense(config.n_vocab, use_bias=False, name='out')\n",
    "    output_logits = output_layer(dec_outputs.rnn_output)\n",
    "    \n",
    "    output_token_idxs = tf.argmax(output_logits, 2)"
   ]
  },
  {
   "cell_type": "code",
   "execution_count": 41,
   "metadata": {},
   "outputs": [
    {
     "name": "stdout",
     "output_type": "stream",
     "text": [
      "embedding_lookup/Identity:0 : (64, 41, 256)\n",
      "concat:0 : (64, 41, 288)\n",
      "sent/dec/rnn/dense/Relu:0 : (64, 512)\n",
      "sent/dec/rnn/ArgMax:0 : (64, 41)\n"
     ]
    }
   ],
   "source": [
    "debug_shape([dec_input, dec_concat_input, dec_initial_state, output_token_idxs])"
   ]
  },
  {
   "cell_type": "markdown",
   "metadata": {},
   "source": [
    "## language modeling cost"
   ]
  },
  {
   "cell_type": "code",
   "execution_count": 42,
   "metadata": {},
   "outputs": [],
   "source": [
    "# target and mask\n",
    "dec_target_idxs = t_variables['dec_target_idxs']\n",
    "dec_mask_tokens = tf.sequence_mask(dec_sent_l, maxlen=max_sent_l+1, dtype=tf.float32)\n",
    "\n",
    "# nll for each token (averaged over batch & sentence)\n",
    "sent_loss_recon = tf.contrib.seq2seq.sequence_loss(output_logits, dec_target_idxs, dec_mask_tokens)\n",
    "\n",
    "sent_loss_kl = compute_kl_loss(means_infer, logvars_infer) # KL divergence b/w latent dist & gaussian std"
   ]
  },
  {
   "cell_type": "code",
   "execution_count": 43,
   "metadata": {},
   "outputs": [
    {
     "name": "stdout",
     "output_type": "stream",
     "text": [
      "Mean:0 : ()\n"
     ]
    }
   ],
   "source": [
    "debug_shape([sent_loss_kl])"
   ]
  },
  {
   "cell_type": "markdown",
   "metadata": {},
   "source": [
    "## optimizer"
   ]
  },
  {
   "cell_type": "code",
   "execution_count": 44,
   "metadata": {},
   "outputs": [],
   "source": [
    "beta = tf.Variable(config.beta, name='beta', trainable=False) if config.warmup > 0 else tf.constant(1., name='beta')\n",
    "update_beta = tf.assign_add(beta, 1./(config.warmup*len(train_batches)))\n",
    "loss = sent_loss_recon + beta * sent_loss_kl\n",
    "\n",
    "# define optimizer\n",
    "if config.opt == 'Adam':\n",
    "    optimizer = tf.train.AdamOptimizer(config.lr)\n",
    "elif config.opt == 'Adagrad':\n",
    "    optimizer = tf.train.AdagradOptimizer(config.lr)\n",
    "    \n",
    "grad_vars = optimizer.compute_gradients(loss)\n",
    "clipped_grad_vars = [(tf.clip_by_value(grad, -config.grad_clip, config.grad_clip), var) for grad, var in grad_vars]\n",
    "\n",
    "opt = optimizer.apply_gradients(clipped_grad_vars)"
   ]
  },
  {
   "cell_type": "markdown",
   "metadata": {},
   "source": [
    "# run model "
   ]
  },
  {
   "cell_type": "code",
   "execution_count": 45,
   "metadata": {},
   "outputs": [],
   "source": [
    "def idxs_to_sents(token_idxs, config, idx_to_word):\n",
    "    sents = []\n",
    "    for sent_idxs in token_idxs:\n",
    "        tokens = []\n",
    "        for idx in sent_idxs:\n",
    "            if idx == config.EOS_IDX: break\n",
    "            tokens.append(idx_to_word[idx])\n",
    "        sent = ' '.join(tokens)\n",
    "        sents.append(sent)\n",
    "    return sents"
   ]
  },
  {
   "cell_type": "code",
   "execution_count": 46,
   "metadata": {},
   "outputs": [],
   "source": [
    "def get_loss(sess, batches):\n",
    "    losses = []\n",
    "    for ct, batch in batches:\n",
    "        feed_dict = get_feed_dict(batch, mode='test')\n",
    "        loss_batch = sess.run(loss, feed_dict = feed_dict)\n",
    "        losses.append(loss_batch)\n",
    "    loss_mean = np.mean(losses)\n",
    "    return loss_mean"
   ]
  },
  {
   "cell_type": "code",
   "execution_count": 47,
   "metadata": {},
   "outputs": [],
   "source": [
    "def print_sample(sample_batch):\n",
    "    feed_dict = get_feed_dict(sample_batch)\n",
    "    pred_token_idxs = sess.run(output_token_idxs, feed_dict = feed_dict)\n",
    "    true_token_idxs = [sent_idxs for instance in sample_batch for sent_idxs in instance.token_idxs]\n",
    "    \n",
    "    assert len(pred_token_idxs) == len(true_token_idxs)\n",
    "    \n",
    "    pred_sents = idxs_to_sents(pred_token_idxs, config, idx_to_word)\n",
    "    true_sents = idxs_to_sents(true_token_idxs, config, idx_to_word)\n",
    "    \n",
    "    for true_sent, pred_sent in zip(true_sents, pred_sents):        \n",
    "        print('True: %s' % true_sent)\n",
    "        print('Pred: %s' % pred_sent)"
   ]
  },
  {
   "cell_type": "code",
   "execution_count": 48,
   "metadata": {
    "scrolled": true
   },
   "outputs": [],
   "source": [
    "if 'sess' in globals(): sess.close()\n",
    "sess = tf.Session()\n",
    "\n",
    "sess.run(tf.global_variables_initializer())\n",
    "\n",
    "logs = []\n",
    "losses_train = []\n",
    "ppls_train = []\n",
    "loss_min = np.inf\n",
    "beta_eval = 1.\n",
    "epoch = 0"
   ]
  },
  {
   "cell_type": "code",
   "execution_count": 51,
   "metadata": {},
   "outputs": [
    {
     "data": {
      "text/plain": [
       "3.467406380027739e-05"
      ]
     },
     "execution_count": 51,
     "metadata": {},
     "output_type": "execute_result"
    }
   ],
   "source": [
    "1./(config.warmup * len(train_batches)) * 500"
   ]
  },
  {
   "cell_type": "code",
   "execution_count": null,
   "metadata": {
    "scrolled": false
   },
   "outputs": [
    {
     "name": "stdout",
     "output_type": "stream",
     "text": [
      "008[s], 07[s], Ep: 00, Ct: 00000|TR LOSS: 10.34 LM NLL: 10.34, KL: 0.00|DE LOSS: 10.34|BETA: 0.001000\n",
      "069[s], 07[s], Ep: 00, Ct: 00500|TR LOSS: 7.37 LM NLL: 7.34, KL: 23.07|DE LOSS: 6.86|BETA: 0.001035\n",
      "069[s], 07[s], Ep: 00, Ct: 01000|TR LOSS: 7.12 LM NLL: 7.09, KL: 21.88|DE LOSS: 6.74|BETA: 0.001069\n",
      "070[s], 07[s], Ep: 00, Ct: 01500|TR LOSS: 7.01 LM NLL: 6.99, KL: 21.10|DE LOSS: 6.75|BETA: 0.001104\n",
      "070[s], 07[s], Ep: 00, Ct: 02000|TR LOSS: 6.95 LM NLL: 6.93, KL: 20.43|DE LOSS: 6.67|BETA: 0.001139\n",
      "070[s], 07[s], Ep: 00, Ct: 02500|TR LOSS: 6.91 LM NLL: 6.89, KL: 19.88|DE LOSS: 6.65|BETA: 0.001173\n",
      "055[s], 07[s], Ep: 01, Ct: 00000|TR LOSS: 6.88 LM NLL: 6.86, KL: 19.49|DE LOSS: 6.64|BETA: 0.001200\n",
      "069[s], 07[s], Ep: 01, Ct: 00500|TR LOSS: 6.85 LM NLL: 6.83, KL: 18.98|DE LOSS: 6.57|BETA: 0.001235\n",
      "069[s], 07[s], Ep: 01, Ct: 01000|TR LOSS: 6.82 LM NLL: 6.80, KL: 18.55|DE LOSS: 6.50|BETA: 0.001269\n",
      "070[s], 07[s], Ep: 01, Ct: 01500|TR LOSS: 6.79 LM NLL: 6.77, KL: 18.24|DE LOSS: 6.42|BETA: 0.001304\n",
      "070[s], 07[s], Ep: 01, Ct: 02000|TR LOSS: 6.75 LM NLL: 6.73, KL: 18.27|DE LOSS: 6.31|BETA: 0.001339\n",
      "070[s], 07[s], Ep: 01, Ct: 02500|TR LOSS: 6.72 LM NLL: 6.69, KL: 18.58|DE LOSS: 6.26|BETA: 0.001374\n",
      "055[s], 07[s], Ep: 02, Ct: 00000|TR LOSS: 6.69 LM NLL: 6.66, KL: 18.88|DE LOSS: 6.14|BETA: 0.001400\n",
      "069[s], 07[s], Ep: 02, Ct: 00500|TR LOSS: 6.65 LM NLL: 6.62, KL: 19.43|DE LOSS: 6.06|BETA: 0.001435\n",
      "069[s], 07[s], Ep: 02, Ct: 01000|TR LOSS: 6.61 LM NLL: 6.58, KL: 20.06|DE LOSS: 6.05|BETA: 0.001470\n",
      "069[s], 07[s], Ep: 02, Ct: 01500|TR LOSS: 6.57 LM NLL: 6.54, KL: 20.78|DE LOSS: 5.89|BETA: 0.001504\n",
      "070[s], 07[s], Ep: 02, Ct: 02000|TR LOSS: 6.53 LM NLL: 6.50, KL: 21.59|DE LOSS: 5.80|BETA: 0.001539\n",
      "069[s], 07[s], Ep: 02, Ct: 02500|TR LOSS: 6.49 LM NLL: 6.46, KL: 22.41|DE LOSS: 5.71|BETA: 0.001574\n",
      "055[s], 07[s], Ep: 03, Ct: 00000|TR LOSS: 6.45 LM NLL: 6.42, KL: 23.05|DE LOSS: 5.74|BETA: 0.001600\n",
      "069[s], 07[s], Ep: 03, Ct: 00500|TR LOSS: 6.41 LM NLL: 6.38, KL: 23.92|DE LOSS: 5.56|BETA: 0.001635\n",
      "070[s], 07[s], Ep: 03, Ct: 01000|TR LOSS: 6.37 LM NLL: 6.34, KL: 24.81|DE LOSS: 5.49|BETA: 0.001670\n",
      "070[s], 07[s], Ep: 03, Ct: 01500|TR LOSS: 6.33 LM NLL: 6.30, KL: 25.71|DE LOSS: 5.47|BETA: 0.001704\n",
      "070[s], 07[s], Ep: 03, Ct: 02000|TR LOSS: 6.29 LM NLL: 6.25, KL: 26.62|DE LOSS: 5.29|BETA: 0.001739\n",
      "069[s], 07[s], Ep: 03, Ct: 02500|TR LOSS: 6.25 LM NLL: 6.21, KL: 27.54|DE LOSS: 5.40|BETA: 0.001774\n",
      "053[s], 06[s], Ep: 04, Ct: 00000|TR LOSS: 6.22 LM NLL: 6.18, KL: 28.26|DE LOSS: 5.15|BETA: 0.001800\n",
      "067[s], 06[s], Ep: 04, Ct: 00500|TR LOSS: 6.18 LM NLL: 6.13, KL: 29.19|DE LOSS: 5.07|BETA: 0.001835\n",
      "067[s], 06[s], Ep: 04, Ct: 01000|TR LOSS: 6.14 LM NLL: 6.09, KL: 30.11|DE LOSS: 5.05|BETA: 0.001870\n",
      "067[s], 06[s], Ep: 04, Ct: 01500|TR LOSS: 6.10 LM NLL: 6.05, KL: 31.01|DE LOSS: 5.06|BETA: 0.001904\n",
      "069[s], 07[s], Ep: 04, Ct: 02000|TR LOSS: 6.06 LM NLL: 6.01, KL: 31.91|DE LOSS: 4.90|BETA: 0.001939\n",
      "068[s], 06[s], Ep: 04, Ct: 02500|TR LOSS: 6.02 LM NLL: 5.97, KL: 32.81|DE LOSS: 4.95|BETA: 0.001974\n",
      "054[s], 06[s], Ep: 05, Ct: 00000|TR LOSS: 5.99 LM NLL: 5.94, KL: 33.48|DE LOSS: 4.77|BETA: 0.002001\n",
      "068[s], 06[s], Ep: 05, Ct: 00500|TR LOSS: 5.96 LM NLL: 5.90, KL: 34.33|DE LOSS: 4.78|BETA: 0.002035\n",
      "066[s], 06[s], Ep: 05, Ct: 01000|TR LOSS: 5.92 LM NLL: 5.86, KL: 35.17|DE LOSS: 4.66|BETA: 0.002070\n",
      "066[s], 06[s], Ep: 05, Ct: 01500|TR LOSS: 5.88 LM NLL: 5.82, KL: 36.00|DE LOSS: 4.61|BETA: 0.002105\n",
      "066[s], 06[s], Ep: 05, Ct: 02000|TR LOSS: 5.85 LM NLL: 5.79, KL: 36.81|DE LOSS: 4.58|BETA: 0.002139\n",
      "065[s], 06[s], Ep: 05, Ct: 02500|TR LOSS: 5.81 LM NLL: 5.75, KL: 37.60|DE LOSS: 4.53|BETA: 0.002174\n",
      "051[s], 06[s], Ep: 06, Ct: 00000|TR LOSS: 5.79 LM NLL: 5.72, KL: 38.20|DE LOSS: 4.53|BETA: 0.002201\n",
      "064[s], 06[s], Ep: 06, Ct: 00500|TR LOSS: 5.75 LM NLL: 5.68, KL: 38.98|DE LOSS: 4.52|BETA: 0.002235\n",
      "064[s], 06[s], Ep: 06, Ct: 01000|TR LOSS: 5.72 LM NLL: 5.65, KL: 39.74|DE LOSS: 4.42|BETA: 0.002270\n",
      "064[s], 06[s], Ep: 06, Ct: 01500|TR LOSS: 5.69 LM NLL: 5.61, KL: 40.48|DE LOSS: 4.39|BETA: 0.002305\n",
      "065[s], 06[s], Ep: 06, Ct: 02000|TR LOSS: 5.66 LM NLL: 5.58, KL: 41.21|DE LOSS: 4.31|BETA: 0.002339\n",
      "065[s], 06[s], Ep: 06, Ct: 02500|TR LOSS: 5.62 LM NLL: 5.55, KL: 41.93|DE LOSS: 4.51|BETA: 0.002374\n",
      "051[s], 06[s], Ep: 07, Ct: 00000|TR LOSS: 5.60 LM NLL: 5.52, KL: 42.47|DE LOSS: 4.25|BETA: 0.002401\n",
      "064[s], 06[s], Ep: 07, Ct: 00500|TR LOSS: 5.57 LM NLL: 5.49, KL: 43.15|DE LOSS: 4.30|BETA: 0.002435\n",
      "064[s], 06[s], Ep: 07, Ct: 01000|TR LOSS: 5.54 LM NLL: 5.46, KL: 43.82|DE LOSS: 4.20|BETA: 0.002470\n",
      "065[s], 06[s], Ep: 07, Ct: 01500|TR LOSS: 5.51 LM NLL: 5.43, KL: 44.47|DE LOSS: 4.22|BETA: 0.002505\n",
      "065[s], 06[s], Ep: 07, Ct: 02000|TR LOSS: 5.48 LM NLL: 5.40, KL: 45.10|DE LOSS: 4.85|BETA: 0.002539\n",
      "064[s], 06[s], Ep: 07, Ct: 02500|TR LOSS: 5.46 LM NLL: 5.37, KL: 45.70|DE LOSS: 4.09|BETA: 0.002574\n",
      "052[s], 06[s], Ep: 08, Ct: 00000|TR LOSS: 5.44 LM NLL: 5.34, KL: 46.15|DE LOSS: 4.10|BETA: 0.002601\n",
      "064[s], 06[s], Ep: 08, Ct: 00500|TR LOSS: 5.41 LM NLL: 5.31, KL: 46.72|DE LOSS: 4.05|BETA: 0.002636\n",
      "064[s], 06[s], Ep: 08, Ct: 01000|TR LOSS: 5.38 LM NLL: 5.29, KL: 47.27|DE LOSS: 4.05|BETA: 0.002670\n",
      "064[s], 06[s], Ep: 08, Ct: 01500|TR LOSS: 5.36 LM NLL: 5.26, KL: 47.80|DE LOSS: 4.02|BETA: 0.002705\n",
      "True: haskell indian nations university will maintain the accreditation it has held since #\n",
      "Pred: university based of members will become the city it has been since #\n",
      "True: the university announced monday the higher learning commission reaffirmed the university 's accreditation after a comprehensive review this year\n",
      "Pred: the democrat announced # the largest member commission says the the 's office is a bill on on year\n",
      "True: the lawrence journal world reports ( http : //bit.ly/ # <unk> ) commission members visited the campus in april for the # year review\n",
      "Pred: the honolulu journal reports reports ( http : //bit.ly/ # <unk> ) that he 's the first in # of a new year\n",
      "True: a self study process also was involved\n",
      "Pred: a message list that also will disclosed\n",
      "True: the review came after years of turmoil at the school in lawrence , before current president <unk> <unk> was inaugurated in #\n",
      "Pred: the proposal was on # in <unk> at the district in <unk> , <unk> <unk> <unk> , <unk> was <unk> in #\n",
      "True: as part of the ongoing process , the university will present an interim report on a revised policy for assigning credit hours in july #\n",
      "Pred: as part of the states and and the group will be an report office on a bill `` for for for in in january #\n",
      "True: haskell is open only to members of federally recognized indian tribes\n",
      "Pred: construction is one to to to public and and by service\n",
      "True: it offers four bachelor 's degrees and # associate 's degrees\n",
      "Pred: it includes # 's 's schools , # th 's 's\n",
      "True: it currently has # full time students\n",
      "Pred: it 's has # # two students\n",
      "True: teachers in a southwestern vermont school district are going on strike for the first time in nearly two decades after unsuccessful negotiations with school administrators\n",
      "Pred: meanwhile in a new new school school are scheduled to for for $ first time in prison time years for being <unk> in of\n",
      "True: the president of the southwestern vermont education association says in a statement early wednesday that the union is `` beyond disappointed `` with administrators\n",
      "Pred: the president of the university of secretary department says in on in on the that the state is `` <unk> `` `` as <unk>\n",
      "True: stephanie peters says the strike is starting wednesday\n",
      "Pred: superintendent officials says the decision is thursday wednesday\n",
      "True: the union represents # of the district 's teachers\n",
      "Pred: the state represents # of the state 's office\n",
      "True: the school district says on its website that school is closed wednesday\n",
      "Pred: the city council office on its fire that its is being wednesday\n",
      "True: a final bargaining session started tuesday afternoon and went on into the night\n",
      "Pred: a first storm is was wednesday morning and is to a the <unk>\n",
      "True: union members voted to authorize a strike last week\n",
      "Pred: <unk> says plans to sign a vote this week\n",
      "True: the issues separating the two sides include salaries and health care benefits\n",
      "Pred: the program includes the two states and as and health care\n",
      "True: city officials say the first female police chief of henderson is retiring this month after # years at the helm and more than # years on the force\n",
      "Pred: city officials say the # in school chief of office is being last month ago an for for the same after was than # years in the\n",
      "True: <unk> ( you tah ) chambers ' announcement thursday comes a week after her department took heat for the videotaped beating of a diabetic driver\n",
      "Pred: ( police <unk> <unk> <unk> ' last week wednesday after by week 's his officer `` for for a the of the the family building\n",
      "True: the henderson city council approved a $ # settlement for adam greene and his wife on feb. #\n",
      "Pred: the city city council is a $ # million for federal and and his wife on in #\n",
      "True: officers from henderson and the nevada highway patrol suspected greene was drunk when they stopped his vehicle on oct. # , #\n",
      "Pred: officers with and and the town county school fire man was shot when he 's his car in interstate # , #\n",
      "True: dashboard video shows officers wrestling and kicking greene before discovering insulin in his pocket\n",
      "Pred: <unk> alleged husband and and and her her was killed by in his family\n",
      "True: an officer is heard saying the man is semi conscious and probably in diabetic shock\n",
      "Pred: an autopsy is investigating that the man 's suspected and and <unk> in critical condition\n",
      "True: chambers said a sergeant involved was disciplined , and the department since modified its use of force policies\n",
      "Pred: <unk> said the statement was was named , and the company and its a public of health services\n",
      "True: a man facing a felony arson charge after a christmas eve blaze at a las vegas area duplex has been identified as kevin r. schmidt jr.\n",
      "Pred: a man for a second man after after a woman man man at a new york police has has been shot as police police officer officer\n",
      "True: records show schmidt was being held wednesday at the clark county jail pending an initial court appearance thursday on a first degree arson charge\n",
      "Pred: records show that was being held wednesday in # # county district 's an court court court on for a first degree charge charge\n",
      "True: county spokesman erik pappa says a motive for the fire remains under investigation\n",
      "Pred: police spokesman steve <unk> 's a investigation for the fire is under investigation\n",
      "True: clark county firefighters said schmidt was treated for minor injuries and arrested after the fire a little after # p.m. monday at a building on oak valley drive , near rainbow boulevard and flamingo road\n",
      "Pred: atlanta county police said monday was looking to injuries injuries and was after after a fire body on a p.m. a at a fire 's fire city and and and <unk> and and <unk> road\n",
      "True: firefighters doused flames in several places and reported that one duplex unit was damaged\n",
      "Pred: <unk> arrived in in two area , <unk> that her fire fire was hurt\n",
      "True: fire investigators determined that no one was home at the time\n",
      "Pred: fire officials say that a one was on at the scene\n",
      "True: damage was estimated at about $ #\n",
      "Pred: damage was estimated at about $ #\n",
      "True: the former commanding officer of the guantanamo bay detention camp in cuba is speaking at furman university this week\n",
      "Pred: the county guard says of the state of center in in is is accused at federal 's on week\n",
      "True: the school says retired maj. gen. michael r. lehnert is speaking monday in shaw hall in the <unk> conference center\n",
      "Pred: the state 's defense <unk> chief <unk> <unk> office is is on in <unk> , in the <unk> county center\n",
      "True: lehnert 's talk is titled `` guantanamo : when public policy and the constitution collide .\n",
      "Pred: <unk> 's plan is `` `` <unk> , `` the `` and the company . .\n",
      "True: it is free and open to the public\n",
      "Pred: it is unclear and information to the public\n",
      "True: organizers say he is talking about the facility 's history and what it was like to deal with the hundreds of detainees being held there\n",
      "Pred: officials say he is n't to the city 's <unk> , but he will not to with with a first of being was being\n",
      "True: lehnert is at furman in the woodrow wilson visiting fellows program\n",
      "Pred: <unk> is at <unk> in the <unk> <unk> by <unk> members\n",
      "True: his speech is sponsored by the school 's riley institute\n",
      "Pred: his message is sponsored by the city 's largest board\n",
      "True: california 's department of transportation is seeking nearly $ # from a family of a woman killed in a crash three years ago who sued the agency over what they claim was unsafe highway conditions\n",
      "Pred: a 's department 's office is set up $ # for of charge of a # of of the a after a man after was a was was her was was her a by\n",
      "True: u t san diego reports ( bit.ly / <unk> ) caltrans wants $ # to cover its legal bills in defending a lawsuit filed by the family of alexandria drake\n",
      "Pred: on tv news news ( ( http : <unk> ) ) ) received a a a a # school to to a to in in the school of of of\n",
      "True: the # year old woman was killed in # when a speeding car crossed over the center line of route # and slammed into her vehicle\n",
      "Pred: the # year old man was killed in # after a car car struck a a town of of west and and and to to vehicle\n",
      "True: her family sued caltrans , arguing the agency knew the highway was dangerous and had n't done enough to make it safer for motorists\n",
      "Pred: an investigation lawyer , , and the agency the the case was not but he n't know to to to to for for\n",
      "True: a jury in june found in favor of caltrans\n",
      "Pred: a jury in # wednesday in of of theft\n",
      "True: the family pledged to drop any appeal if caltrans did n't seek the money , but the offer was rejected\n",
      "Pred: the list wants to make whether law if what did n't know the the , but the case was it\n",
      "True: a crush of health insurance shoppers in illinois have been calling a telephone help line set up to answer their questions , as an important deadline looms for the nation 's health law\n",
      "Pred: a of of state and and and which have been given to chance to to pay to to to to money are is an effort to for a a state 's health care\n",
      "True: more than # people called the get covered illinois help desk over the weekend\n",
      "Pred: more than # people can the state one by care to to the weekend\n",
      "True: that 's more than double the call volume from the previous weekend\n",
      "Pred: that 's more than about the work out from the # #\n",
      "True: the state 's health insurance website saw more than # visitors over the weekend , an increase of # visitors from the weekend before\n",
      "Pred: the state 's health health program that more than # when to the first of for number of # people to the past\n",
      "True: monday had been the deadline to sign up for consumers who wanted coverage upon the start of the new year\n",
      "Pred: monday had been the first to pay up for charges who will to his the the of the # year\n",
      "True: but the obama administration effectively extended that deadline for signing up for insurance by a day , giving people in # states , including illinois , more time to select a plan\n",
      "Pred: but the company say says that it is to up up to a to a of , with in in # , in # # , a the to the the vote\n",
      "True: five days before michael jackson died , his manager called the singer 's doctor and said jackson was sick\n",
      "Pred: in three ago police police , , told mother told the sheriff 's mother and police has has was\n",
      "True: a voicemail from the manager was played thursday for a los angeles jury in the lawsuit by jackson 's mother against the concert promoter who was then arranging his `` this is it `` tour\n",
      "Pred: the head of the city has filed by on a # county district in a the in the city police that that that he that was a a a `` she `` n't\n",
      "True: on the voicemail message , frank deleo told dr. conrad murray that jackson has had an `` episode `` and suggested that blood tests be done on him\n",
      "Pred: at the time by , , <unk> told told told that that police said had `` `` `` `` and `` him is is is held on tuesday\n",
      "True: there was no further elaboration on what the episode was and a lawyer for katherine jackson did not ask further questions about it\n",
      "Pred: there was no to a after the the fire was `` an `` for `` `` did not immediately whether to to it\n",
      "True: also on thursday , police detective orlando martinez is in a second day of testimony about his investigation of jackson 's june # , # , death from an overdose of propofol\n",
      "Pred: according in friday , <unk> <unk> <unk> jr. was on a court trial of his his his 's of her , # # , killing and an of a federal 's her\n",
      "True: new mexico state police say one person has died after a small plane crashed north of truth or consequences\n",
      "Pred: south york state police say one man has been after a woman man home of of two and police\n",
      "True: lt. eric garcia says the pilot was confirmed dead\n",
      "Pred: officer spokesman <unk> says the victim was was dead\n",
      "True: the office of medical examiner is on the way to the crash scene and the federal aviation administration has been notified\n",
      "Pred: the university of medical center is a the way to the the of the the city police police has been him\n",
      "True: <unk> radio in truth or consequences reports the single engine piper cub was found in a canyon about a mile off of interstate #\n",
      "Pred: <unk> ' in <unk> , <unk> and the fire fire fire reported found found in a end at a # at of about #\n",
      "True: the plane went down at about noon sunday\n",
      "Pred: the fire went up at about early morning\n",
      "True: two loggerhead sea turtles are being released after several months of recovering from injuries\n",
      "Pred: two three and are are being being after one three in with with them\n",
      "True: rode , a # pound turtle , and <unk> , a # pound turtle , were found separately in july with fishing hooks in their <unk>\n",
      "Pred: <unk> , the # , of , , <unk> , the # , , , were found in in in of in in in <unk> <unk>\n",
      "True: each underwent treatment at the loggerhead <unk> center in <unk> beach\n",
      "Pred: one time from at the <unk> <unk> center in <unk> <unk>\n",
      "True: they 're slated to be released back into the ocean on tuesday afternoon\n",
      "Pred: they 're to to be be after for the house on monday morning\n"
     ]
    }
   ],
   "source": [
    "time_start = time.time()\n",
    "for epoch in range(config.epochs):\n",
    "    for ct, batch in train_batches:\n",
    "        feed_dict = get_feed_dict(batch)\n",
    "        if config.warmup > 0 and beta_eval < 1.0: sess.run(update_beta)\n",
    "\n",
    "        _, loss_batch, sent_loss_recon_batch, sent_loss_kl_batch = \\\n",
    "        sess.run([opt, loss, sent_loss_recon, sent_loss_kl], feed_dict = feed_dict)\n",
    "\n",
    "        losses_train += [[loss_batch, sent_loss_recon_batch, sent_loss_kl_batch]]\n",
    "\n",
    "        if ct%config.log_period==0:\n",
    "            time_dev = time.time()\n",
    "            loss_train, sent_loss_recon_train, sent_loss_kl_train = np.mean(losses_train, 0)\n",
    "            loss_dev = get_loss(sess, dev_batches)\n",
    "\n",
    "            if config.warmup > 0: beta_eval = beta.eval(session=sess)\n",
    "\n",
    "            clear_output()\n",
    "            time_finish = time.time()\n",
    "            time_log = int(time_finish - time_start)\n",
    "            time_log_dev = int(time_finish - time_dev)\n",
    "            logs += [(time_log, time_log_dev, epoch, ct, loss_train, sent_loss_recon_train, sent_loss_kl_train, loss_dev, beta_eval)]\n",
    "            for log in logs:\n",
    "                print('%03d[s], %02d[s], Ep: %02d, Ct: %05d|TR LOSS: %.2f LM NLL: %.2f, KL: %.2f|DE LOSS: %.2f|BETA: %.6f' %  log)\n",
    "\n",
    "            print_sample(batch)\n",
    "\n",
    "            time_start = time.time()"
   ]
  },
  {
   "cell_type": "markdown",
   "metadata": {},
   "source": [
    "# confirm variables"
   ]
  },
  {
   "cell_type": "code",
   "execution_count": 110,
   "metadata": {},
   "outputs": [],
   "source": [
    "_logvars, _means, _kl_losses, _latents, _output_logits = sess.run([logvars, means, kl_losses, latents, output_logits], feed_dict=feed_dict)\n"
   ]
  },
  {
   "cell_type": "code",
   "execution_count": 111,
   "metadata": {},
   "outputs": [
    {
     "data": {
      "text/plain": [
       "((32, 32), (32, 32), (32,), (32, 32))"
      ]
     },
     "execution_count": 111,
     "metadata": {},
     "output_type": "execute_result"
    }
   ],
   "source": [
    "_logvars.shape, _means.shape, _kl_losses.shape, _latents.shape"
   ]
  },
  {
   "cell_type": "code",
   "execution_count": 112,
   "metadata": {},
   "outputs": [
    {
     "data": {
      "text/plain": [
       "array([[[nan, nan, nan, ..., nan, nan, nan],\n",
       "        [nan, nan, nan, ..., nan, nan, nan],\n",
       "        [nan, nan, nan, ..., nan, nan, nan]],\n",
       "\n",
       "       [[nan, nan, nan, ..., nan, nan, nan],\n",
       "        [nan, nan, nan, ..., nan, nan, nan],\n",
       "        [nan, nan, nan, ..., nan, nan, nan]],\n",
       "\n",
       "       [[nan, nan, nan, ..., nan, nan, nan],\n",
       "        [nan, nan, nan, ..., nan, nan, nan],\n",
       "        [nan, nan, nan, ..., nan, nan, nan]],\n",
       "\n",
       "       ...,\n",
       "\n",
       "       [[nan, nan, nan, ..., nan, nan, nan],\n",
       "        [nan, nan, nan, ..., nan, nan, nan],\n",
       "        [nan, nan, nan, ..., nan, nan, nan]],\n",
       "\n",
       "       [[nan, nan, nan, ..., nan, nan, nan],\n",
       "        [nan, nan, nan, ..., nan, nan, nan],\n",
       "        [nan, nan, nan, ..., nan, nan, nan]],\n",
       "\n",
       "       [[nan, nan, nan, ..., nan, nan, nan],\n",
       "        [nan, nan, nan, ..., nan, nan, nan],\n",
       "        [nan, nan, nan, ..., nan, nan, nan]]], dtype=float32)"
      ]
     },
     "execution_count": 112,
     "metadata": {},
     "output_type": "execute_result"
    }
   ],
   "source": [
    "_output_logits"
   ]
  },
  {
   "cell_type": "code",
   "execution_count": 109,
   "metadata": {},
   "outputs": [
    {
     "ename": "NameError",
     "evalue": "name 'dec_target_idxs_do' is not defined",
     "output_type": "error",
     "traceback": [
      "\u001b[0;31m---------------------------------------------------------------------------\u001b[0m",
      "\u001b[0;31mNameError\u001b[0m                                 Traceback (most recent call last)",
      "\u001b[0;32m<ipython-input-109-7de59bc2cc54>\u001b[0m in \u001b[0;36m<module>\u001b[0;34m\u001b[0m\n\u001b[0;32m----> 1\u001b[0;31m \u001b[0m_output_logits\u001b[0m\u001b[0;34m,\u001b[0m \u001b[0m_dec_target_idxs_do\u001b[0m\u001b[0;34m,\u001b[0m \u001b[0m_dec_mask_tokens_do\u001b[0m\u001b[0;34m,\u001b[0m \u001b[0m_recon_loss\u001b[0m\u001b[0;34m,\u001b[0m \u001b[0m_kl_losses\u001b[0m\u001b[0;34m,\u001b[0m \u001b[0m_\u001b[0m \u001b[0;34m=\u001b[0m \u001b[0msess\u001b[0m\u001b[0;34m.\u001b[0m\u001b[0mrun\u001b[0m\u001b[0;34m(\u001b[0m\u001b[0;34m[\u001b[0m\u001b[0moutput_logits\u001b[0m\u001b[0;34m,\u001b[0m \u001b[0mdec_target_idxs_do\u001b[0m\u001b[0;34m,\u001b[0m \u001b[0mdec_mask_tokens_do\u001b[0m\u001b[0;34m,\u001b[0m \u001b[0mrecon_loss\u001b[0m\u001b[0;34m,\u001b[0m \u001b[0mkl_losses\u001b[0m\u001b[0;34m,\u001b[0m \u001b[0mopt\u001b[0m\u001b[0;34m]\u001b[0m\u001b[0;34m,\u001b[0m \u001b[0mfeed_dict\u001b[0m\u001b[0;34m=\u001b[0m\u001b[0mfeed_dict\u001b[0m\u001b[0;34m)\u001b[0m\u001b[0;34m\u001b[0m\u001b[0;34m\u001b[0m\u001b[0m\n\u001b[0m",
      "\u001b[0;31mNameError\u001b[0m: name 'dec_target_idxs_do' is not defined"
     ]
    }
   ],
   "source": [
    "_output_logits, _dec_target_idxs_do, _dec_mask_tokens_do, _recon_loss, _kl_losses, _ = sess.run([output_logits, dec_target_idxs_do, dec_mask_tokens_do, recon_loss, kl_losses, opt], feed_dict=feed_dict)\n"
   ]
  },
  {
   "cell_type": "code",
   "execution_count": 44,
   "metadata": {},
   "outputs": [
    {
     "data": {
      "text/plain": [
       "(120, 46)"
      ]
     },
     "execution_count": 44,
     "metadata": {},
     "output_type": "execute_result"
    }
   ],
   "source": [
    "tf.reduce_max(output_logits, 2).eval(session=sess, feed_dict=feed_dict).shape"
   ]
  },
  {
   "cell_type": "code",
   "execution_count": 31,
   "metadata": {},
   "outputs": [
    {
     "data": {
      "text/plain": [
       "((120, 46, 20000), (120, 46), (120, 46))"
      ]
     },
     "execution_count": 31,
     "metadata": {},
     "output_type": "execute_result"
    }
   ],
   "source": [
    "_output_logits.shape, _dec_target_idxs_do.shape, _dec_mask_tokens_do.shape"
   ]
  },
  {
   "cell_type": "code",
   "execution_count": 32,
   "metadata": {},
   "outputs": [],
   "source": [
    "_logits = np.exp(_output_logits) / np.sum(np.exp(_output_logits), 2)[:, :, None]"
   ]
  },
  {
   "cell_type": "code",
   "execution_count": 33,
   "metadata": {},
   "outputs": [],
   "source": [
    "_idxs = _dec_target_idxs_do"
   ]
  },
  {
   "cell_type": "code",
   "execution_count": 35,
   "metadata": {},
   "outputs": [],
   "source": [
    "_losses = np.array([[-np.log(_logits[i, j, _idxs[i, j]]) for j in range(_idxs.shape[1])] for i in range(_idxs.shape[0])]) * _dec_mask_tokens_do"
   ]
  },
  {
   "cell_type": "code",
   "execution_count": 36,
   "metadata": {},
   "outputs": [
    {
     "data": {
      "text/plain": [
       "9.903732"
      ]
     },
     "execution_count": 36,
     "metadata": {},
     "output_type": "execute_result"
    }
   ],
   "source": [
    "np.sum(_losses)/np.sum(_dec_mask_tokens_do)"
   ]
  },
  {
   "cell_type": "code",
   "execution_count": 37,
   "metadata": {},
   "outputs": [
    {
     "data": {
      "text/plain": [
       "9.903732"
      ]
     },
     "execution_count": 37,
     "metadata": {},
     "output_type": "execute_result"
    }
   ],
   "source": [
    "_recon_loss"
   ]
  },
  {
   "cell_type": "code",
   "execution_count": 38,
   "metadata": {},
   "outputs": [
    {
     "data": {
      "text/plain": [
       "(120,)"
      ]
     },
     "execution_count": 38,
     "metadata": {},
     "output_type": "execute_result"
    }
   ],
   "source": [
    "_kl_losses.shape"
   ]
  },
  {
   "cell_type": "code",
   "execution_count": null,
   "metadata": {},
   "outputs": [],
   "source": []
  }
 ],
 "metadata": {
  "kernelspec": {
   "display_name": "py36",
   "language": "python",
   "name": "py36"
  },
  "language_info": {
   "codemirror_mode": {
    "name": "ipython",
    "version": 3
   },
   "file_extension": ".py",
   "mimetype": "text/x-python",
   "name": "python",
   "nbconvert_exporter": "python",
   "pygments_lexer": "ipython3",
   "version": "3.6.9"
  },
  "toc": {
   "base_numbering": 1,
   "nav_menu": {},
   "number_sections": true,
   "sideBar": true,
   "skip_h1_title": false,
   "title_cell": "Table of Contents",
   "title_sidebar": "Contents",
   "toc_cell": false,
   "toc_position": {},
   "toc_section_display": true,
   "toc_window_display": false
  }
 },
 "nbformat": 4,
 "nbformat_minor": 2
}
