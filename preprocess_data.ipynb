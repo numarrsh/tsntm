{
 "cells": [
  {
   "cell_type": "code",
   "execution_count": 1,
   "metadata": {},
   "outputs": [],
   "source": [
    "import os\n",
    "import numpy as np\n",
    "import pandas as pd\n",
    "\n",
    "import _pickle as cPickle\n",
    "from collections import OrderedDict, defaultdict\n",
    "\n",
    "import tensorflow as tf\n",
    "\n",
    "from data_structure import Instance"
   ]
  },
  {
   "cell_type": "code",
   "execution_count": 2,
   "metadata": {},
   "outputs": [],
   "source": [
    "def del_all_flags(FLAGS):\n",
    "    flags_dict = FLAGS._flags()    \n",
    "    keys_list = [keys for keys in flags_dict]    \n",
    "    for keys in keys_list:\n",
    "        FLAGS.__delattr__(keys)\n",
    "\n",
    "del_all_flags(tf.flags.FLAGS)\n",
    "\n",
    "flags = tf.app.flags\n",
    "\n",
    "flags.DEFINE_string('input_path', 'data/sports_df.pkl', 'path of output data')\n",
    "flags.DEFINE_string('output_path', 'data/sports_sents.pkl', 'path of input data')\n",
    "flags.DEFINE_string('word_vec_path', 'data/crawl-300d-2M.vec', 'path of pretrained word vec')\n",
    "\n",
    "flags.DEFINE_integer('n_vocab', 50000, 'size of vocab')\n",
    "\n",
    "flags.DEFINE_string('f', '', 'kernel')\n",
    "\n",
    "config = flags.FLAGS"
   ]
  },
  {
   "cell_type": "code",
   "execution_count": 3,
   "metadata": {},
   "outputs": [],
   "source": [
    "# special tokens\n",
    "PAD = '<pad>' # This has a vocab id, which is used to pad the encoder input, decoder input and target sequence\n",
    "UNK = '<unk>' # This has a vocab id, which is used to represent out-of-vocabulary words\n",
    "BOS = '<p>' # This has a vocab id, which is used at the beginning of every decoder input sequence\n",
    "EOS = '</p>' # This has a vocab id, which is used at the end of untruncated target sequences"
   ]
  },
  {
   "cell_type": "code",
   "execution_count": 4,
   "metadata": {},
   "outputs": [],
   "source": [
    "def get_word_count_dict(tokens_list):\n",
    "    # create vocab of words\n",
    "    word_dict = defaultdict(int)\n",
    "    word_dict['.'] = np.inf\n",
    "    word_dict[EOS] = np.inf\n",
    "    word_dict[BOS] = np.inf\n",
    "    word_dict[UNK] = np.inf\n",
    "    word_dict[PAD] = np.inf\n",
    "    \n",
    "    for tokens in tokens_list:\n",
    "        for word in tokens:\n",
    "            word_dict[word] += 1\n",
    "    word_dict = sorted(word_dict.items(), key=lambda x: x[1])[::-1]\n",
    "    return word_dict"
   ]
  },
  {
   "cell_type": "code",
   "execution_count": 5,
   "metadata": {},
   "outputs": [
    {
     "name": "stdout",
     "output_type": "stream",
     "text": [
      "{'input_path': 'data/sports_df.pkl', 'output_path': 'data/sports_sents.pkl', 'word_vec_path': 'data/crawl-300d-2M.vec', 'n_vocab': 50000, 'f': ''}\n",
      "loading input data...\n"
     ]
    }
   ],
   "source": [
    "print(str(config.flag_values_dict()))\n",
    "\n",
    "print('loading input data...')\n",
    "train_df, dev_df, test_df = cPickle.load(open(config.input_path, 'rb'))"
   ]
  },
  {
   "cell_type": "code",
   "execution_count": 6,
   "metadata": {},
   "outputs": [],
   "source": [
    "tokens = []\n",
    "for doc in train_df.tokens:\n",
    "    tokens.extend(doc)\n",
    "for doc in dev_df.tokens:\n",
    "    tokens.extend(doc)"
   ]
  },
  {
   "cell_type": "code",
   "execution_count": 13,
   "metadata": {},
   "outputs": [],
   "source": [
    "word_count_dict = get_word_count_dict(tokens)\n",
    "n_idx_to_word = 20000\n",
    "idx_to_word = {idx: word for idx, (word, cnt) in enumerate(word_count_dict[:n_idx_to_word])}\n",
    "assert len(idx_to_word) == n_idx_to_word\n",
    "word_to_idx = {word: idx for idx, word in idx_to_word.items()}"
   ]
  },
  {
   "cell_type": "code",
   "execution_count": 14,
   "metadata": {},
   "outputs": [],
   "source": [
    "def prepare_data(data_df, word_to_idx):\n",
    "    data = []\n",
    "    for i_doc, doc in data_df.iterrows():\n",
    "        for i, sent_tokens in enumerate(doc.tokens):\n",
    "            sent_idxs = [word_to_idx[token] if token in word_to_idx else word_to_idx[UNK] for token in sent_tokens]\n",
    "            data.append(sent_idxs)\n",
    "            \n",
    "    sorted_data = sorted(data, key=lambda x: len(x))\n",
    "    return sorted_data"
   ]
  },
  {
   "cell_type": "code",
   "execution_count": 15,
   "metadata": {},
   "outputs": [
    {
     "name": "stdout",
     "output_type": "stream",
     "text": [
      "saving preprocessed data...\n"
     ]
    }
   ],
   "source": [
    "data_train = prepare_data(train_df, word_to_idx)\n",
    "data_dev = prepare_data(dev_df, word_to_idx)\n",
    "data_test = prepare_data(test_df, word_to_idx)\n",
    "print('saving preprocessed data...')\n",
    "cPickle.dump((data_train, data_dev, data_test, word_to_idx, idx_to_word),open(config.output_path,'wb'))"
   ]
  },
  {
   "cell_type": "code",
   "execution_count": null,
   "metadata": {},
   "outputs": [],
   "source": []
  }
 ],
 "metadata": {
  "kernelspec": {
   "display_name": "py36",
   "language": "python",
   "name": "py36"
  },
  "language_info": {
   "codemirror_mode": {
    "name": "ipython",
    "version": 3
   },
   "file_extension": ".py",
   "mimetype": "text/x-python",
   "name": "python",
   "nbconvert_exporter": "python",
   "pygments_lexer": "ipython3",
   "version": "3.6.9"
  },
  "toc": {
   "base_numbering": 1,
   "nav_menu": {},
   "number_sections": true,
   "sideBar": true,
   "skip_h1_title": false,
   "title_cell": "Table of Contents",
   "title_sidebar": "Contents",
   "toc_cell": false,
   "toc_position": {},
   "toc_section_display": true,
   "toc_window_display": false
  }
 },
 "nbformat": 4,
 "nbformat_minor": 2
}
