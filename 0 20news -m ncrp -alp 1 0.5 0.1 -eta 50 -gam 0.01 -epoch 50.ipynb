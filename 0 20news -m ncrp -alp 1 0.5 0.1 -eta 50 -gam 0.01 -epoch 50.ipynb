{
 "cells": [
  {
   "cell_type": "code",
   "execution_count": 1,
   "metadata": {},
   "outputs": [
    {
     "data": {
      "application/javascript": [
       "IPython.notebook.kernel.execute('nb_name = \"' + IPython.notebook.notebook_name + '\"')\n"
      ],
      "text/plain": [
       "<IPython.core.display.Javascript object>"
      ]
     },
     "metadata": {},
     "output_type": "display_data"
    }
   ],
   "source": [
    "%%javascript\n",
    "IPython.notebook.kernel.execute('nb_name = \"' + IPython.notebook.notebook_name + '\"')"
   ]
  },
  {
   "cell_type": "code",
   "execution_count": 2,
   "metadata": {},
   "outputs": [],
   "source": [
    "%load_ext autoreload\n",
    "%autoreload\n",
    "from IPython.display import clear_output\n",
    "\n",
    "import os\n",
    "import pdb\n",
    "import _pickle as cPickle\n",
    "import time\n",
    "import subprocess\n",
    "import glob\n",
    "\n",
    "import random\n",
    "import numpy as np\n",
    "import pandas as pd\n",
    "import tensorflow as tf\n",
    "\n",
    "from collections import defaultdict, Counter\n",
    "from ncrp import Topic, Doc, init, sample, get_perplexity, get_topic_specialization, get_hierarchical_affinities, get_freq_tokens_ncrp, get_docs, get_sum_cnt_words\n",
    "from configure import get_config"
   ]
  },
  {
   "cell_type": "markdown",
   "metadata": {},
   "source": [
    "# load config & data "
   ]
  },
  {
   "cell_type": "code",
   "execution_count": 3,
   "metadata": {},
   "outputs": [],
   "source": [
    "config = get_config(nb_name)\n",
    "np.random.seed(config.seed)\n",
    "random.seed(config.seed)"
   ]
  },
  {
   "cell_type": "code",
   "execution_count": 4,
   "metadata": {},
   "outputs": [
    {
     "name": "stderr",
     "output_type": "stream",
     "text": [
      "Exception ignored in: <_io.FileIO name='data/20news/instances.pkl' mode='rb' closefd=True>\n",
      "ResourceWarning: unclosed file <_io.BufferedReader name='data/20news/instances.pkl'>\n"
     ]
    }
   ],
   "source": [
    "instances_train, instances_dev, instances_test, word_to_idx, idx_to_word, bow_idxs = cPickle.load(open(config.path_data,'rb'))"
   ]
  },
  {
   "cell_type": "code",
   "execution_count": 5,
   "metadata": {},
   "outputs": [
    {
     "data": {
      "text/plain": [
       "(11258, 1995)"
      ]
     },
     "execution_count": 5,
     "metadata": {},
     "output_type": "execute_result"
    }
   ],
   "source": [
    "config.n_doc = len(instances_train)\n",
    "config.n_vocab = len(bow_idxs)\n",
    "config.n_doc, config.n_vocab"
   ]
  },
  {
   "cell_type": "markdown",
   "metadata": {},
   "source": [
    "# run"
   ]
  },
  {
   "cell_type": "markdown",
   "metadata": {},
   "source": [
    "## initialize log"
   ]
  },
  {
   "cell_type": "code",
   "execution_count": 6,
   "metadata": {},
   "outputs": [],
   "source": [
    "checkpoint = []\n",
    "ppl_min = np.inf\n",
    "epoch = 0\n",
    "\n",
    "cmd_rm = 'rm -r %s' % config.dir_model\n",
    "res = subprocess.call(cmd_rm.split())\n",
    "cmd_mk = 'mkdir %s' % config.dir_model\n",
    "res = subprocess.call(cmd_mk.split())\n",
    "\n",
    "log_df = pd.DataFrame(columns=pd.MultiIndex.from_tuples(\n",
    "                    list(zip(*[['','','','TRAIN:','VALID:','TEST:','SPEC:', '', '', 'HIER:', ''],\n",
    "                            ['Time','Ep','Ct','PPL','PPL', 'PPL','1', '2', '3', 'CHILD', 'OTHER']]))))\n",
    "\n",
    "def update_checkpoint(config, checkpoint, epoch):\n",
    "    checkpoint.append(config.path_model + '-%i' % epoch)\n",
    "    if len(checkpoint) > config.max_to_keep:\n",
    "        path_model = checkpoint.pop(0)\n",
    "        for p in glob.glob(path_model):\n",
    "            os.remove(p)\n",
    "    cPickle.dump(checkpoint, open(config.path_checkpoint, 'wb'))"
   ]
  },
  {
   "cell_type": "markdown",
   "metadata": {},
   "source": [
    "## initialize data"
   ]
  },
  {
   "cell_type": "code",
   "execution_count": 7,
   "metadata": {},
   "outputs": [
    {
     "name": "stdout",
     "output_type": "stream",
     "text": [
      "0 10000 0 0 "
     ]
    }
   ],
   "source": [
    "topic_root = Topic(idx='0', sibling_idx=0, parent=None, depth=0, config=config)\n",
    "train_docs = get_docs(instances_train, config)\n",
    "dev_docs = get_docs(instances_dev, config)\n",
    "test_docs = get_docs(instances_test, config)\n",
    "init(train_docs, dev_docs, test_docs, topic_root)"
   ]
  },
  {
   "cell_type": "markdown",
   "metadata": {},
   "source": [
    "## run"
   ]
  },
  {
   "cell_type": "code",
   "execution_count": null,
   "metadata": {
    "scrolled": false
   },
   "outputs": [
    {
     "data": {
      "text/html": [
       "<div>\n",
       "<style scoped>\n",
       "    .dataframe tbody tr th:only-of-type {\n",
       "        vertical-align: middle;\n",
       "    }\n",
       "\n",
       "    .dataframe tbody tr th {\n",
       "        vertical-align: top;\n",
       "    }\n",
       "\n",
       "    .dataframe thead tr th {\n",
       "        text-align: left;\n",
       "    }\n",
       "</style>\n",
       "<table border=\"1\" class=\"dataframe\">\n",
       "  <thead>\n",
       "    <tr>\n",
       "      <th></th>\n",
       "      <th colspan=\"3\" halign=\"left\"></th>\n",
       "      <th>TRAIN:</th>\n",
       "      <th>VALID:</th>\n",
       "      <th>TEST:</th>\n",
       "      <th>SPEC:</th>\n",
       "      <th colspan=\"2\" halign=\"left\"></th>\n",
       "      <th>HIER:</th>\n",
       "      <th></th>\n",
       "    </tr>\n",
       "    <tr>\n",
       "      <th></th>\n",
       "      <th>Time</th>\n",
       "      <th>Ep</th>\n",
       "      <th>Ct</th>\n",
       "      <th>PPL</th>\n",
       "      <th>PPL</th>\n",
       "      <th>PPL</th>\n",
       "      <th>1</th>\n",
       "      <th>2</th>\n",
       "      <th>3</th>\n",
       "      <th>CHILD</th>\n",
       "      <th>OTHER</th>\n",
       "    </tr>\n",
       "  </thead>\n",
       "  <tbody>\n",
       "    <tr>\n",
       "      <th>0</th>\n",
       "      <td>385</td>\n",
       "      <td>0</td>\n",
       "      <td>0</td>\n",
       "      <td>1113</td>\n",
       "      <td>1103</td>\n",
       "      <td>1102</td>\n",
       "      <td>0.01</td>\n",
       "      <td>0.34</td>\n",
       "      <td>0.45</td>\n",
       "      <td>0.88</td>\n",
       "      <td>0.88</td>\n",
       "    </tr>\n",
       "    <tr>\n",
       "      <th>1</th>\n",
       "      <td>407</td>\n",
       "      <td>1</td>\n",
       "      <td>0</td>\n",
       "      <td>1091</td>\n",
       "      <td>1079</td>\n",
       "      <td>1077</td>\n",
       "      <td>0.02</td>\n",
       "      <td>0.38</td>\n",
       "      <td>0.45</td>\n",
       "      <td>0.91</td>\n",
       "      <td>0.91</td>\n",
       "    </tr>\n",
       "    <tr>\n",
       "      <th>2</th>\n",
       "      <td>407</td>\n",
       "      <td>2</td>\n",
       "      <td>0</td>\n",
       "      <td>1068</td>\n",
       "      <td>1055</td>\n",
       "      <td>1055</td>\n",
       "      <td>0.02</td>\n",
       "      <td>0.39</td>\n",
       "      <td>0.45</td>\n",
       "      <td>0.90</td>\n",
       "      <td>0.90</td>\n",
       "    </tr>\n",
       "    <tr>\n",
       "      <th>3</th>\n",
       "      <td>432</td>\n",
       "      <td>3</td>\n",
       "      <td>0</td>\n",
       "      <td>1046</td>\n",
       "      <td>1034</td>\n",
       "      <td>1034</td>\n",
       "      <td>0.02</td>\n",
       "      <td>0.41</td>\n",
       "      <td>0.45</td>\n",
       "      <td>0.92</td>\n",
       "      <td>0.92</td>\n",
       "    </tr>\n",
       "    <tr>\n",
       "      <th>4</th>\n",
       "      <td>458</td>\n",
       "      <td>4</td>\n",
       "      <td>0</td>\n",
       "      <td>1029</td>\n",
       "      <td>1019</td>\n",
       "      <td>1019</td>\n",
       "      <td>0.02</td>\n",
       "      <td>0.42</td>\n",
       "      <td>0.45</td>\n",
       "      <td>0.93</td>\n",
       "      <td>0.93</td>\n",
       "    </tr>\n",
       "    <tr>\n",
       "      <th>5</th>\n",
       "      <td>451</td>\n",
       "      <td>5</td>\n",
       "      <td>0</td>\n",
       "      <td>1015</td>\n",
       "      <td>1007</td>\n",
       "      <td>1006</td>\n",
       "      <td>0.03</td>\n",
       "      <td>0.42</td>\n",
       "      <td>0.45</td>\n",
       "      <td>0.92</td>\n",
       "      <td>0.92</td>\n",
       "    </tr>\n",
       "    <tr>\n",
       "      <th>6</th>\n",
       "      <td>454</td>\n",
       "      <td>6</td>\n",
       "      <td>0</td>\n",
       "      <td>1005</td>\n",
       "      <td>998</td>\n",
       "      <td>998</td>\n",
       "      <td>0.03</td>\n",
       "      <td>0.42</td>\n",
       "      <td>0.45</td>\n",
       "      <td>0.92</td>\n",
       "      <td>0.92</td>\n",
       "    </tr>\n",
       "    <tr>\n",
       "      <th>7</th>\n",
       "      <td>453</td>\n",
       "      <td>7</td>\n",
       "      <td>0</td>\n",
       "      <td>997</td>\n",
       "      <td>993</td>\n",
       "      <td>992</td>\n",
       "      <td>0.03</td>\n",
       "      <td>0.42</td>\n",
       "      <td>0.45</td>\n",
       "      <td>0.91</td>\n",
       "      <td>0.91</td>\n",
       "    </tr>\n",
       "    <tr>\n",
       "      <th>8</th>\n",
       "      <td>452</td>\n",
       "      <td>8</td>\n",
       "      <td>0</td>\n",
       "      <td>991</td>\n",
       "      <td>989</td>\n",
       "      <td>989</td>\n",
       "      <td>0.04</td>\n",
       "      <td>0.42</td>\n",
       "      <td>0.45</td>\n",
       "      <td>0.91</td>\n",
       "      <td>0.91</td>\n",
       "    </tr>\n",
       "    <tr>\n",
       "      <th>9</th>\n",
       "      <td>452</td>\n",
       "      <td>9</td>\n",
       "      <td>0</td>\n",
       "      <td>988</td>\n",
       "      <td>987</td>\n",
       "      <td>987</td>\n",
       "      <td>0.04</td>\n",
       "      <td>0.41</td>\n",
       "      <td>0.45</td>\n",
       "      <td>0.91</td>\n",
       "      <td>0.90</td>\n",
       "    </tr>\n",
       "  </tbody>\n",
       "</table>\n",
       "</div>"
      ],
      "text/plain": [
       "             TRAIN: VALID: TEST: SPEC:             HIER:      \n",
       "  Time Ep Ct    PPL    PPL   PPL     1     2     3 CHILD OTHER\n",
       "0  385  0  0   1113   1103  1102  0.01  0.34  0.45  0.88  0.88\n",
       "1  407  1  0   1091   1079  1077  0.02  0.38  0.45  0.91  0.91\n",
       "2  407  2  0   1068   1055  1055  0.02  0.39  0.45  0.90  0.90\n",
       "3  432  3  0   1046   1034  1034  0.02  0.41  0.45  0.92  0.92\n",
       "4  458  4  0   1029   1019  1019  0.02  0.42  0.45  0.93  0.93\n",
       "5  451  5  0   1015   1007  1006  0.03  0.42  0.45  0.92  0.92\n",
       "6  454  6  0   1005    998   998  0.03  0.42  0.45  0.92  0.92\n",
       "7  453  7  0    997    993   992  0.03  0.42  0.45  0.91  0.91\n",
       "8  452  8  0    991    989   989  0.04  0.42  0.45  0.91  0.91\n",
       "9  452  9  0    988    987   987  0.04  0.41  0.45  0.91  0.90"
      ]
     },
     "metadata": {},
     "output_type": "display_data"
    },
    {
     "name": "stderr",
     "output_type": "stream",
     "text": [
      "Exception ignored in: <_io.FileIO name='model/20news/ncrp/20news-mncrp-alp10.50.1-eta50-gam0.01-epoch50/log' mode='wb' closefd=True>\n",
      "ResourceWarning: unclosed file <_io.BufferedWriter name='model/20news/ncrp/20news-mncrp-alp10.50.1-eta50-gam0.01-epoch50/log'>\n"
     ]
    },
    {
     "name": "stdout",
     "output_type": "stream",
     "text": [
      " 0 11258 608051.0 use write get one article like know make go think\n",
      "   0-1 8565 324558.0 people say one god write think go know make article\n",
      "     0-1-1 8565 4223.0 screw weight patient go true la chapter stop wave close\n",
      "   0-2 528 15927.0 pt vs la period team play gm hockey van pp\n",
      "     0-2-1 528 393.0 city rangers nhl penalty game west fan ice bay bmw\n",
      "   0-3 386 3060.0 db mov bh byte cs bit int oname al printf\n",
      "     0-3-1 386 238.0 link cross edge visual unit window cs printer screen frame\n",
      "   0-4 967 28589.0 space launch satellite mission nasa april national center orbit technology\n",
      "     0-4-1 967 646.0 xterm nuclear plant ken engineer water export plan moon sale\n",
      "   0-5 811 5325.0 wire ground outlet wiring circuit neutral connect electrical cable box\n",
      "     0-5-1 811 483.0 cpu lock connect printer voice hence macintosh hp circuit plug\n",
      "   0-6 1 0.0 bhj series ram dave knowledge prevent james throw washington legal\n",
      "     0-6-1 1 0.0 bhj series ram dave knowledge prevent james throw washington legal\n",
      "0 10000 0 0 "
     ]
    }
   ],
   "source": [
    "time_start = time.time()\n",
    "while epoch < config.n_epochs:\n",
    "    sample(train_docs, dev_docs, test_docs, topic_root)\n",
    "    ppl_train = get_perplexity(train_docs, topic_root)\n",
    "    ppl_dev = get_perplexity(dev_docs, topic_root)\n",
    "    \n",
    "    if ppl_dev < ppl_min:\n",
    "        ppl_min = ppl_dev\n",
    "        ppl_test = get_perplexity(test_docs, topic_root)\n",
    "        cPickle.dump([test_docs, topic_root], open(config.path_model + '-%i'%epoch, 'wb'))\n",
    "        update_checkpoint(config, checkpoint, epoch)\n",
    "        \n",
    "    depth_spec = get_topic_specialization(test_docs, topic_root)\n",
    "    hierarchical_affinities = get_hierarchical_affinities(topic_root)\n",
    "    \n",
    "    clear_output()\n",
    "    time_log = int(time.time() - time_start)\n",
    "    time_start = time.time()\n",
    "    log_series = pd.Series([time_log, epoch, 0, \\\n",
    "            '%.0f'%ppl_train, '%.0f'%ppl_dev, '%.0f'%ppl_test, \\\n",
    "            '%.2f'%depth_spec[1], '%.2f'%depth_spec[2], '%.2f'%depth_spec[3], \\\n",
    "            '%.2f'%hierarchical_affinities[0], '%.2f'%hierarchical_affinities[1]],\n",
    "            index=log_df.columns)\n",
    "    log_df.loc[epoch] = log_series    \n",
    "    display(log_df)\n",
    "    get_freq_tokens_ncrp(topic_root, idx_to_word, bow_idxs)\n",
    "    \n",
    "    cPickle.dump(log_df, open(config.path_log, 'wb'))\n",
    "    epoch += 1"
   ]
  },
  {
   "cell_type": "code",
   "execution_count": null,
   "metadata": {},
   "outputs": [],
   "source": []
  }
 ],
 "metadata": {
  "kernelspec": {
   "display_name": "py36",
   "language": "python",
   "name": "py36"
  },
  "language_info": {
   "codemirror_mode": {
    "name": "ipython",
    "version": 3
   },
   "file_extension": ".py",
   "mimetype": "text/x-python",
   "name": "python",
   "nbconvert_exporter": "python",
   "pygments_lexer": "ipython3",
   "version": "3.6.9"
  },
  "toc": {
   "base_numbering": 1,
   "nav_menu": {},
   "number_sections": true,
   "sideBar": true,
   "skip_h1_title": false,
   "title_cell": "Table of Contents",
   "title_sidebar": "Contents",
   "toc_cell": false,
   "toc_position": {},
   "toc_section_display": true,
   "toc_window_display": false
  }
 },
 "nbformat": 4,
 "nbformat_minor": 2
}
