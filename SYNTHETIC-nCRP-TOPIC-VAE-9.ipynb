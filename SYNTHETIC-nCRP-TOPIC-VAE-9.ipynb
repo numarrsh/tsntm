{
 "cells": [
  {
   "cell_type": "code",
   "execution_count": 1,
   "metadata": {},
   "outputs": [],
   "source": [
    "%load_ext autoreload\n",
    "%autoreload\n",
    "from IPython.display import clear_output\n",
    "\n",
    "import os\n",
    "os.environ[\"NUMEXPR_NUM_THREADS\"] = \"1\"\n",
    "os.environ[\"MKL_NUM_THREADS\"] = \"1\"\n",
    "os.environ[\"OMP_NUM_THREADS\"] = \"1\"\n",
    "\n",
    "import sys\n",
    "import subprocess\n",
    "import pdb\n",
    "import time\n",
    "import datetime\n",
    "import math\n",
    "import random\n",
    "import _pickle as cPickle\n",
    "from collections import defaultdict\n",
    "import matplotlib.pyplot as plt\n",
    "\n",
    "%matplotlib inline\n",
    "# %matplotlib nbagg\n",
    "\n",
    "from six.moves import zip_longest\n",
    "import numpy as np\n",
    "import pandas as pd\n",
    "\n",
    "import tensorflow as tf\n",
    "from tensorflow import distributions as tfd\n",
    "from tensorflow.keras.preprocessing.sequence import pad_sequences\n",
    "\n",
    "from data_structure import get_batches, get_test_batches\n",
    "from components import tf_log, sample_latents, compute_kl_loss, dynamic_rnn, dynamic_bi_rnn\n",
    "\n",
    "from topic_beam_search_decoder import BeamSearchDecoder"
   ]
  },
  {
   "cell_type": "code",
   "execution_count": 2,
   "metadata": {},
   "outputs": [],
   "source": [
    "PAD = '<pad>' # This has a vocab id, which is used to pad the encoder input, decoder input and target sequence\n",
    "UNK = '<unk>' # This has a vocab id, which is used to represent out-of-vocabulary words\n",
    "BOS = '<p>' # This has a vocab id, which is used at the beginning of every decoder input sequence\n",
    "EOS = '</p>' # This has a vocab id, which is used at the end of untruncated target sequences"
   ]
  },
  {
   "cell_type": "markdown",
   "metadata": {},
   "source": [
    "# load data & set config"
   ]
  },
  {
   "cell_type": "code",
   "execution_count": 3,
   "metadata": {
    "code_folding": [
     0
    ]
   },
   "outputs": [],
   "source": [
    "def del_all_flags(FLAGS):\n",
    "    flags_dict = FLAGS._flags()    \n",
    "    keys_list = [keys for keys in flags_dict]    \n",
    "    for keys in keys_list:\n",
    "        FLAGS.__delattr__(keys)\n",
    "\n",
    "del_all_flags(tf.flags.FLAGS)\n",
    "\n",
    "flags = tf.app.flags\n",
    "\n",
    "flags.DEFINE_string('gpu', '4', 'visible gpu')\n",
    "\n",
    "flags.DEFINE_string('mode', 'train', 'set train or eval')\n",
    "\n",
    "flags.DEFINE_string('data_path', 'data/synthetic/instances_ncrp_9.pkl', 'path of data')\n",
    "flags.DEFINE_string('modeldir', 'model/topic_vae', 'directory of model')\n",
    "flags.DEFINE_string('modelname', 'bags', 'name of model')\n",
    "\n",
    "flags.DEFINE_integer('epochs', 1000, 'epochs')\n",
    "flags.DEFINE_integer('batch_size', 64, 'number of sentences in each batch')\n",
    "flags.DEFINE_integer('log_period', 1000, 'valid period')\n",
    "\n",
    "flags.DEFINE_string('opt', 'Adagrad', 'optimizer')\n",
    "# flags.DEFINE_string('opt', 'Adam', 'optimizer')\n",
    "flags.DEFINE_float('lr', 0.01, 'lr')\n",
    "flags.DEFINE_float('reg', 10., 'regularization term')\n",
    "flags.DEFINE_float('grad_clip', 5., 'grad_clip')\n",
    "\n",
    "flags.DEFINE_float('keep_prob', 0.8, 'dropout rate')\n",
    "flags.DEFINE_float('word_keep_prob', 0.75, 'word dropout rate')\n",
    "\n",
    "flags.DEFINE_bool('warmup', True, 'flg of warming up')\n",
    "flags.DEFINE_integer('epochs_cycle', 5, 'number of epochs within a cycle')\n",
    "flags.DEFINE_float('r_cycle', 0.5, 'proportion used to increase beta within a cycle')\n",
    "flags.DEFINE_integer('warmup_topic', 0, 'warmup period for KL of topic')\n",
    "\n",
    "flags.DEFINE_integer('beam_width', 2, 'beam_width')\n",
    "flags.DEFINE_float('length_penalty_weight', 0.0, 'length_penalty_weight')\n",
    "\n",
    "flags.DEFINE_integer('n_topic', 20, 'number of topic')\n",
    "flags.DEFINE_integer('dim_hidden_bow', 32, 'dim of hidden bow')\n",
    "flags.DEFINE_integer('dim_latent_bow', 8, 'dim of latent topic')\n",
    "flags.DEFINE_integer('dim_emb', 32, 'dim_emb')\n",
    "flags.DEFINE_integer('dim_hidden', 64, 'dim_hidden')\n",
    "flags.DEFINE_integer('dim_hidden_topic', 64, 'dim_hidden_topic')\n",
    "flags.DEFINE_integer('dim_latent', 8, 'dim_latent')\n",
    "flags.DEFINE_bool('bidirectional', True, 'flg of bidirectional encoding')\n",
    "\n",
    "# for evaluation\n",
    "flags.DEFINE_string('refdir', 'ref', 'refdir')\n",
    "flags.DEFINE_string('outdir', 'out', 'outdir')\n",
    "\n",
    "flags.DEFINE_string('f', '', 'kernel')\n",
    "flags.DEFINE_bool('logtostderr', True, 'kernel')\n",
    "flags.DEFINE_bool('showprefixforinfo', False, '')\n",
    "flags.DEFINE_bool('verbosity', False, '')\n",
    "# flags.DEFINE_integer('stderrthreshold', 20, 'kernel')\n",
    "\n",
    "config = flags.FLAGS\n",
    "\n",
    "flags.DEFINE_string('modelpath', os.path.join(config.modeldir, config.modelname), 'path of model')"
   ]
  },
  {
   "cell_type": "code",
   "execution_count": 4,
   "metadata": {},
   "outputs": [],
   "source": [
    "os.environ[\"CUDA_VISIBLE_DEVICES\"] = config.gpu"
   ]
  },
  {
   "cell_type": "code",
   "execution_count": 5,
   "metadata": {},
   "outputs": [],
   "source": [
    "instances_train, instances_dev, instances_test, word_to_idx, idx_to_word, bow_idxs = cPickle.load(open(config.data_path,'rb'))"
   ]
  },
  {
   "cell_type": "code",
   "execution_count": 6,
   "metadata": {},
   "outputs": [],
   "source": [
    "instances_train = instances_train[:1000]"
   ]
  },
  {
   "cell_type": "code",
   "execution_count": 7,
   "metadata": {},
   "outputs": [],
   "source": [
    "def get_batches(instances, batch_size, iterator=False):\n",
    "    iter_instances = iter(instances)\n",
    "    n_batch = len(instances)//batch_size\n",
    "    \n",
    "    batches = [(i_batch, [next(iter_instances) for i_doc in range(batch_size)]) for i_batch in range(n_batch)]\n",
    "    \n",
    "    if iterator: batches = iter(batches)\n",
    "    return batches\n",
    "\n",
    "train_batches = get_batches(instances_train, config.batch_size)\n",
    "dev_batches = get_batches(instances_dev, config.batch_size)\n",
    "test_batches = get_batches(instances_test, config.batch_size)"
   ]
  },
  {
   "cell_type": "code",
   "execution_count": 8,
   "metadata": {},
   "outputs": [],
   "source": [
    "flags.DEFINE_integer('n_vocab', len(word_to_idx), 'n_vocab')\n",
    "flags.DEFINE_integer('dim_bow', len(bow_idxs), 'dim_bow')\n",
    "\n",
    "flags.DEFINE_integer('cycle_steps', len(train_batches)*config.epochs_cycle, 'number of steps for each cycle')"
   ]
  },
  {
   "cell_type": "code",
   "execution_count": 9,
   "metadata": {
    "code_folding": [
     0,
     10,
     18,
     24
    ]
   },
   "outputs": [],
   "source": [
    "def debug_shape(variables):\n",
    "    sample_batch = dev_batches[0][1]\n",
    "    feed_dict = get_feed_dict(sample_batch)\n",
    "    _variables = sess.run(variables, feed_dict=feed_dict)\n",
    "    for _variable, variable in zip(_variables, variables):\n",
    "        if hasattr(variable, 'name'):\n",
    "            print(variable.name, ':', _variable.shape)\n",
    "        else:\n",
    "            print(_variable.shape)\n",
    "\n",
    "def debug_value(variables, return_value=False):\n",
    "    sample_batch = test_batches[0][1]\n",
    "    feed_dict = get_feed_dict(sample_batch)\n",
    "    _variables = sess.run(variables, feed_dict=feed_dict)\n",
    "\n",
    "    if return_value: \n",
    "        return _variables\n",
    "    else:\n",
    "        for _variable, variable in zip(_variables, variables):\n",
    "            if hasattr(variable, 'name'):\n",
    "                print(variable.name, ':', _variable)\n",
    "            else:\n",
    "                print(_variable)\n",
    "                \n",
    "def check_shape(variables):\n",
    "    if 'sess' in globals(): raise\n",
    "    sess = tf.Session()\n",
    "    sess.run(tf.global_variables_initializer())\n",
    "    \n",
    "    sample_batch = test_batches[0][1]\n",
    "    feed_dict = get_feed_dict(sample_batch)\n",
    "    _variables = sess.run(variables, feed_dict=feed_dict)\n",
    "    for _variable, variable in zip(_variables, variables):\n",
    "        if hasattr(variable, 'name'):\n",
    "            print(variable.name, ':', _variable.shape)\n",
    "        else:\n",
    "            print(_variable.shape)\n",
    "            \n",
    "    sess.close()\n",
    "    \n",
    "def check_value(variables):\n",
    "    if 'sess' in globals(): raise\n",
    "    sess = tf.Session()\n",
    "    sess.run(tf.global_variables_initializer())\n",
    "    \n",
    "    sample_batch = test_batches[0][1]\n",
    "    feed_dict = get_feed_dict(sample_batch)\n",
    "    _variables = sess.run(variables, feed_dict=feed_dict)\n",
    "    for _variable, variable in zip(_variables, variables):\n",
    "        if hasattr(variable, 'name'):\n",
    "            print(variable.name, ':', _variable)\n",
    "        else:\n",
    "            print(_variable.shape)\n",
    "            \n",
    "    sess.close()    \n",
    "    "
   ]
  },
  {
   "cell_type": "markdown",
   "metadata": {},
   "source": [
    "# run model "
   ]
  },
  {
   "cell_type": "markdown",
   "metadata": {},
   "source": [
    "## init"
   ]
  },
  {
   "cell_type": "code",
   "execution_count": 10,
   "metadata": {
    "code_folding": []
   },
   "outputs": [],
   "source": [
    "def get_feed_dict(batch, mode='train'):\n",
    "    bow = np.array([instance.bow for instance in batch]).astype(np.float32)\n",
    "    keep_prob = config.keep_prob if mode == 'train' else 1.0\n",
    "    feed_dict = {\n",
    "                t_variables['bow']: bow, \n",
    "                t_variables['keep_prob']: keep_prob\n",
    "    }\n",
    "    return  feed_dict"
   ]
  },
  {
   "cell_type": "code",
   "execution_count": 11,
   "metadata": {},
   "outputs": [],
   "source": [
    "tf.reset_default_graph()\n",
    "\n",
    "def get_depth(parent_idx=0, tree_depth=None, depth=1):\n",
    "    if tree_depth is None: tree_depth={0: depth}\n",
    "\n",
    "    child_idxs = tree_idxs[parent_idx]\n",
    "    depth +=1\n",
    "    for child_idx in child_idxs:\n",
    "        tree_depth[child_idx] = depth\n",
    "        if child_idx in tree_idxs: get_depth(child_idx, tree_depth, depth)\n",
    "    return tree_depth\n",
    "\n",
    "t_variables = {}\n",
    "t_variables['bow'] = tf.placeholder(tf.float32, [None, config.dim_bow])\n",
    "t_variables['keep_prob'] = tf.placeholder(tf.float32)\n",
    "\n",
    "# tree_idxs = {0:[1, 2, 3], \n",
    "#                       1:[10, 11], 2:[20, 21], 3:[30, 31]}\n",
    "\n",
    "tree_idxs = {0:[1, 2, 3], \n",
    "              1:[10, 11, 12], 2:[20, 21, 22], 3:[30, 31, 32]}\n",
    "\n",
    "# tree_idxs = {0:[1, 2], \n",
    "#              1:[11, 12], 2:[21]}\n",
    "\n",
    "# tree_idxs = {0:[1, 2, 3], \n",
    "#                       1:[10, 11], 2:[20, 21], 3:[30, 31],\n",
    "#                       10: [100, 101], 11: [110, 111], 20: [200, 201], 21: [210, 211], 30:[300, 301], 31:[310, 311]}\n",
    "\n",
    "topic_idxs = [0] + [idx for child_idxs in tree_idxs.values() for idx in child_idxs]\n",
    "\n",
    "child_to_parent_idxs = {child_idx: parent_idx for parent_idx, child_idxs in tree_idxs.items() for child_idx in child_idxs}\n",
    "\n",
    "tree_depth = get_depth()\n",
    "max_depth = max(tree_depth.values())"
   ]
  },
  {
   "cell_type": "markdown",
   "metadata": {},
   "source": [
    "## doubly rnn"
   ]
  },
  {
   "cell_type": "code",
   "execution_count": 12,
   "metadata": {},
   "outputs": [],
   "source": [
    "class DoublyRNNCell:\n",
    "    def __init__(self, dim_hidden, output_layer=None):\n",
    "        self.dim_hidden = dim_hidden\n",
    "        \n",
    "        self.ancestral_layer=tf.layers.Dense(units=dim_hidden, activation=tf.nn.tanh, name='ancestral')\n",
    "        self.fraternal_layer=tf.layers.Dense(units=dim_hidden, activation=tf.nn.tanh, name='fraternal')\n",
    "        self.hidden_layer = tf.layers.Dense(units=dim_hidden, activation=tf.nn.tanh, name='hidden')\n",
    "        \n",
    "        self.output_layer=output_layer\n",
    "        \n",
    "    def __call__(self, state_ancestral, state_fraternal, reuse=True):\n",
    "        with tf.variable_scope('input', reuse=reuse):\n",
    "            state_ancestral = self.ancestral_layer(state_ancestral)\n",
    "            state_fraternal = self.fraternal_layer(state_fraternal)\n",
    "\n",
    "        with tf.variable_scope('output', reuse=reuse):\n",
    "            state_hidden = self.hidden_layer(state_ancestral + state_fraternal)\n",
    "            if self.output_layer is not None: \n",
    "                output = self.output_layer(state_hidden)\n",
    "            else:\n",
    "                output = state_hidden\n",
    "            \n",
    "        return output, state_hidden\n",
    "    \n",
    "    def get_initial_state(self, name):\n",
    "        initial_state = tf.get_variable(name, [1, self.dim_hidden], dtype=tf.float32)\n",
    "        return initial_state\n",
    "    \n",
    "    def get_zero_state(self, name):\n",
    "        zero_state = tf.zeros([1, self.dim_hidden], dtype=tf.float32, name=name)\n",
    "        return zero_state"
   ]
  },
  {
   "cell_type": "code",
   "execution_count": 13,
   "metadata": {},
   "outputs": [],
   "source": [
    "def doubly_rnn(dim_hidden, tree_idxs, initial_state_parent=None, initial_state_sibling=None, output_layer=None, name=''):\n",
    "    outputs, states_parent = {}, {}\n",
    "    \n",
    "    with tf.variable_scope(name, reuse=False):\n",
    "        doubly_rnn_cell = DoublyRNNCell(dim_hidden, output_layer)\n",
    "\n",
    "        if initial_state_parent is None: \n",
    "            initial_state_parent = doubly_rnn_cell.get_initial_state('init_state_parent')\n",
    "#             initial_state_parent = doubly_rnn_cell.get_zero_state('init_state_parent')\n",
    "        if initial_state_sibling is None: \n",
    "#             initial_state_sibling = doubly_rnn_cell.get_initial_state('init_state_sibling')\n",
    "            initial_state_sibling = doubly_rnn_cell.get_zero_state('init_state_sibling')\n",
    "        output, state_sibling = doubly_rnn_cell(initial_state_parent, initial_state_sibling, reuse=False)\n",
    "        outputs[0], states_parent[0] = output, state_sibling\n",
    "\n",
    "        for parent_idx, child_idxs in tree_idxs.items():\n",
    "            state_parent = states_parent[parent_idx]\n",
    "            state_sibling = initial_state_sibling\n",
    "            for child_idx in child_idxs:\n",
    "                output, state_sibling = doubly_rnn_cell(state_parent, state_sibling)\n",
    "                outputs[child_idx], states_parent[child_idx] = output, state_sibling\n",
    "\n",
    "    return outputs, states_parent"
   ]
  },
  {
   "cell_type": "markdown",
   "metadata": {},
   "source": [
    "## stick break"
   ]
  },
  {
   "cell_type": "code",
   "execution_count": 14,
   "metadata": {},
   "outputs": [],
   "source": [
    "def nCRP(tree_sticks_topic):\n",
    "    tree_prob_topic = {}\n",
    "    tree_prob_leaf = {}\n",
    "    # calculate topic probability and save\n",
    "    tree_prob_topic[0] = 1.\n",
    "    \n",
    "    for parent_idx, child_idxs in tree_idxs.items():\n",
    "        rest_prob_topic = tree_prob_topic[parent_idx]\n",
    "        for child_idx in child_idxs:\n",
    "            stick_topic = tree_sticks_topic[child_idx]\n",
    "            if child_idx == child_idxs[-1]:\n",
    "                prob_topic = rest_prob_topic * 1.\n",
    "            else:\n",
    "                prob_topic = rest_prob_topic * stick_topic\n",
    "            \n",
    "            if not child_idx in tree_idxs: # leaf childs\n",
    "                tree_prob_leaf[child_idx] = prob_topic\n",
    "            else:\n",
    "                tree_prob_topic[child_idx] = prob_topic\n",
    "                \n",
    "            rest_prob_topic -= prob_topic\n",
    "            \n",
    "    return tree_prob_leaf\n",
    "\n",
    "def get_ancestor_idxs(leaf_idx, ancestor_idxs = None):\n",
    "    if ancestor_idxs is None: ancestor_idxs = [leaf_idx]\n",
    "    \n",
    "    parent_idx = child_to_parent_idxs[leaf_idx]\n",
    "    ancestor_idxs += [parent_idx]\n",
    "    if parent_idx in child_to_parent_idxs: get_ancestor_idxs(parent_idx, ancestor_idxs)\n",
    "    return ancestor_idxs[::-1]\n",
    "\n",
    "def get_prob_topic(tree_prob_leaf, prob_depth):\n",
    "    tree_prob_topic = defaultdict(float)\n",
    "    \n",
    "    leaf_ancestor_idxs = {leaf_idx: get_ancestor_idxs(leaf_idx) for leaf_idx in tree_prob_leaf}\n",
    "    for leaf_idx, ancestor_idxs in leaf_ancestor_idxs.items():\n",
    "        prob_leaf = tree_prob_leaf[leaf_idx]\n",
    "        for i, ancestor_idx in enumerate(ancestor_idxs):\n",
    "            prob_ancestor = prob_leaf * tf.expand_dims(prob_depth[:, i], -1)\n",
    "            tree_prob_topic[ancestor_idx] += prob_ancestor\n",
    "    prob_topic = tf.concat([tree_prob_topic[topic_idx] for topic_idx in topic_idxs], -1)\n",
    "    return prob_topic"
   ]
  },
  {
   "cell_type": "markdown",
   "metadata": {},
   "source": [
    "## build model"
   ]
  },
  {
   "cell_type": "code",
   "execution_count": 15,
   "metadata": {},
   "outputs": [],
   "source": [
    "def get_tree_topic_bow(tree_topic_embeddings):\n",
    "    def softmax_with_temperature(logits, axis=None, name=None, temperature=1.):\n",
    "        if axis is None:\n",
    "            axis = -1\n",
    "        return tf.exp(logits / temperature) / tf.reduce_sum(tf.exp(logits / temperature), axis=axis)\n",
    "\n",
    "    tree_topic_bow = {}\n",
    "    for topic_idx, depth in tree_depth.items():\n",
    "        topic_embedding = tree_topic_embeddings[topic_idx]\n",
    "        temperature = tf.constant(10. * (10 ** (1./depth)), dtype=tf.float32)\n",
    "        logits = tf.matmul(topic_embedding, bow_embeddings, transpose_b=True)\n",
    "        tree_topic_bow[topic_idx] = softmax_with_temperature(logits, axis=-1, temperature=temperature)\n",
    "    \n",
    "    return tree_topic_bow"
   ]
  },
  {
   "cell_type": "code",
   "execution_count": 16,
   "metadata": {},
   "outputs": [],
   "source": [
    "# encode bow\n",
    "with tf.variable_scope('topic/enc', reuse=False):\n",
    "    hidden_bow_ = tf.layers.Dense(units=config.dim_hidden_bow, activation=tf.nn.tanh, name='hidden_bow')(t_variables['bow'])\n",
    "    hidden_bow = tf.layers.Dropout(t_variables['keep_prob'])(hidden_bow_)\n",
    "    means_bow = tf.layers.Dense(units=config.dim_latent_bow, name='mean_bow')(hidden_bow)\n",
    "    logvars_bow = tf.layers.Dense(units=config.dim_latent_bow, kernel_initializer=tf.constant_initializer(0), bias_initializer=tf.constant_initializer(0), name='logvar_bow')(hidden_bow)\n",
    "    latents_bow = sample_latents(means_bow, logvars_bow) # sample latent vectors\n",
    "    prob_layer = lambda h: tf.nn.sigmoid(tf.matmul(latents_bow, h, transpose_b=True))\n",
    "    \n",
    "    tree_sticks_topic, tree_states_sticks_topic = doubly_rnn(config.dim_latent_bow, tree_idxs, output_layer=prob_layer, name='sticks_topic')\n",
    "    tree_prob_leaf = nCRP(tree_sticks_topic)\n",
    "    prob_depth = tf.layers.Dense(units=max_depth, activation=tf.nn.softmax, name='prob_topic')(latents_bow) # inference of topic probabilities\n",
    "    \n",
    "    prob_topic = get_prob_topic(tree_prob_leaf, prob_depth)\n",
    "\n",
    "# decode bow\n",
    "with tf.variable_scope('shared', reuse=False):\n",
    "    embeddings = tf.get_variable('emb', [config.n_vocab, config.dim_emb], dtype=tf.float32, initializer=tf.contrib.layers.xavier_initializer()) # embeddings of vocab\n",
    "\n",
    "bow_embeddings = tf.nn.embedding_lookup(embeddings, bow_idxs) # embeddings of each bow features\n",
    "\n",
    "with tf.variable_scope('topic/dec', reuse=False):\n",
    "    emb_layer = tf.layers.Dense(units=config.dim_emb, name='output')\n",
    "    tree_topic_embeddings, tree_states_topic_embeddings = doubly_rnn(config.dim_emb, tree_idxs, output_layer=emb_layer, name='emb_topic')\n",
    "#     topic_embeddings = tf.get_variable('topic_emb', [len(topic_idxs), config.dim_emb], dtype=tf.float32, initializer=tf.contrib.layers.xavier_initializer()) # embeddings of topics\n",
    "#     tree_topic_embeddings = {topic_idx: tf.expand_dims(topic_embeddings[topic_idxs.index(topic_idx)], 0) for topic_idx in topic_idxs}\n",
    "\n",
    "    tree_topic_bow = get_tree_topic_bow(tree_topic_embeddings) # bow vectors for each topic\n",
    "    \n",
    "    topic_bow = tf.concat([tree_topic_bow[topic_idx] for topic_idx in topic_idxs], 0)\n",
    "    logits_bow = tf_log(tf.matmul(prob_topic, topic_bow)) # predicted bow distribution"
   ]
  },
  {
   "cell_type": "markdown",
   "metadata": {},
   "source": [
    "## define loss"
   ]
  },
  {
   "cell_type": "code",
   "execution_count": 17,
   "metadata": {},
   "outputs": [],
   "source": [
    "def get_tree_mask_reg(tree_idxs):\n",
    "    tree_mask_reg = np.ones([len(topic_idxs), len(topic_idxs)], dtype=np.float32)\n",
    "    parent_to_descendant_idxs = {parent_idx: get_descendant_idxs(parent_idx) for parent_idx in tree_idxs}\n",
    "    \n",
    "    for parent_idx, descendant_idxs in parent_to_descendant_idxs.items():\n",
    "        for descendant_idx in descendant_idxs:\n",
    "            tree_mask_reg[topic_idxs.index(parent_idx), topic_idxs.index(descendant_idx)] = tree_mask_reg[topic_idxs.index(descendant_idx), topic_idxs.index(parent_idx)] = 0.\n",
    "            \n",
    "    return tree_mask_reg\n",
    "\n",
    "def get_depth_mask_reg(tree_idxs):\n",
    "    depth_mask_reg = np.zeros([len(topic_idxs), len(topic_idxs)], dtype=np.float32)\n",
    "    \n",
    "    depth_mask_reg[0, 0] = 1.\n",
    "    for parent_idx, child_idxs in tree_idxs.items():\n",
    "        for child_idx1 in child_idxs:\n",
    "            for child_idx2 in child_idxs:\n",
    "                depth_mask_reg[topic_idxs.index(child_idx1), topic_idxs.index(child_idx2)] = 1.\n",
    "                \n",
    "    return depth_mask_reg\n",
    "\n",
    "def get_descendant_idxs(parent_idx, descendant_idxs = None):\n",
    "    if descendant_idxs is None: descendant_idxs = []\n",
    "    \n",
    "    child_idxs = tree_idxs[parent_idx]\n",
    "    descendant_idxs += child_idxs\n",
    "    for child_idx in child_idxs:\n",
    "        if child_idx in tree_idxs: get_descendant_idxs(child_idx, descendant_idxs)\n",
    "    return descendant_idxs"
   ]
  },
  {
   "cell_type": "code",
   "execution_count": 18,
   "metadata": {},
   "outputs": [],
   "source": [
    "# define losses\n",
    "topic_losses_recon = -tf.reduce_sum(tf.multiply(t_variables['bow'], logits_bow), 1)\n",
    "topic_loss_recon = tf.reduce_mean(topic_losses_recon) # negative log likelihood of each words\n",
    "\n",
    "topic_loss_kl = compute_kl_loss(means_bow, logvars_bow) # KL divergence b/w latent dist & gaussian std\n",
    "\n",
    "topic_bow_norm = topic_bow / tf.norm(topic_bow, axis=1, keepdims=True)\n",
    "topic_dots = tf.clip_by_value(tf.matmul(topic_bow_norm, tf.transpose(topic_bow_norm)), -1., 1.)\n",
    "# topic_loss_reg = tf.reduce_mean(tf.square(topic_dots - tf.eye(len(topic_idxs))))\n",
    "tree_mask_reg = get_tree_mask_reg(tree_idxs)\n",
    "# tree_mask_reg = get_depth_mask_reg(tree_idxs)\n",
    "topic_losses_reg = tf.square(topic_dots - tf.eye(len(topic_idxs))) * tree_mask_reg\n",
    "topic_loss_reg = tf.reduce_sum(topic_losses_reg) / tf.reduce_sum(tree_mask_reg)\n",
    "\n",
    "# topic_embeddings = tf.concat([tree_topic_embeddings[topic_idx] for topic_idx in topic_idxs], 0)\n",
    "# topic_embeddings_norm = topic_embeddings / tf.norm(topic_embeddings, axis=1, keepdims=True)\n",
    "# topic_dots = tf.clip_by_value(tf.matmul(topic_embeddings_norm, tf.transpose(topic_embeddings_norm)), -1., 1.)\n",
    "# tree_mask_reg = get_tree_mask_reg(tree_idxs)\n",
    "# topic_loss_reg = tf.reduce_sum(tf.square(topic_dots - tf.eye(len(topic_idxs))) * tree_mask_reg) / tf.reduce_sum(tree_mask_reg)\n",
    "\n",
    "# topic_embeddings = tf.concat([tree_topic_embeddings[topic_idx] for topic_idx in topic_idxs], 0)\n",
    "# topic_embeddings_norm = topic_embeddings / tf.norm(topic_embeddings, axis=1, keepdims=True)\n",
    "# topic_dots = tf.clip_by_value(tf.matmul(topic_embeddings_norm, tf.transpose(topic_embeddings_norm)), -1., 1.)\n",
    "# topic_angles = tf.acos(topic_dots)\n",
    "# tree_mask_reg = get_tree_mask_reg(tree_idxs)\n",
    "\n",
    "# mean_angles = tf.reduce_sum(topic_angles*tree_mask_reg) / tf.reduce_sum(tree_mask_reg)\n",
    "# var_angles = tf.reduce_sum(tf.square(topic_angles-mean_angles)*tree_mask_reg) / tf.reduce_sum(tree_mask_reg)\n",
    "# mean_angles = tf.reduce_mean(topic_angles)\n",
    "# var_angles = tf.reduce_mean(tf.square(topic_angles-mean_angles))\n",
    "# mean_angles = tf.asin(tf.sqrt(tf.linalg.det(topic_dots * tree_mask_reg)))\n",
    "# var_angles = tf.square(tf.constant(np.pi/2., dtype=tf.float32)-mean_angles)\n",
    "\n",
    "# topic_loss_reg = var_angles - mean_angles\n",
    "\n",
    "global_step = tf.Variable(0, name='global_step',trainable=False)\n",
    "\n",
    "loss = topic_loss_recon + topic_loss_kl + config.reg * topic_loss_reg\n",
    "\n",
    "# define optimizer\n",
    "if config.opt == 'Adam':\n",
    "    optimizer = tf.train.AdamOptimizer(config.lr)\n",
    "elif config.opt == 'Adagrad':\n",
    "    optimizer = tf.train.AdagradOptimizer(config.lr)\n",
    "\n",
    "grad_vars = optimizer.compute_gradients(loss)\n",
    "clipped_grad_vars = [(tf.clip_by_value(grad, -config.grad_clip, config.grad_clip), var) for grad, var in grad_vars]\n",
    "opt = optimizer.apply_gradients(clipped_grad_vars, global_step=global_step)\n",
    "\n",
    "# monitor\n",
    "n_bow = tf.reduce_sum(t_variables['bow'], 1)\n",
    "topic_ppls = tf.divide(topic_losses_recon, tf.maximum(1e-5, n_bow))\n",
    "topics_freq_bow_indices = tf.nn.top_k(topic_bow, 5, name='topic_freq_bow').indices"
   ]
  },
  {
   "cell_type": "code",
   "execution_count": 19,
   "metadata": {
    "code_folding": []
   },
   "outputs": [],
   "source": [
    "def get_loss(sess, batches):\n",
    "    losses = []\n",
    "    ppl_list = []\n",
    "    for ct, batch in batches:\n",
    "        feed_dict = get_feed_dict(batch, mode='test')\n",
    "        loss_batch, topic_loss_recon_batch, topic_loss_kl_batch, topic_loss_reg_batch, ppls_batch \\\n",
    "            = sess.run([loss, topic_loss_recon, topic_loss_kl, topic_loss_reg, topic_ppls], feed_dict = feed_dict)\n",
    "        losses += [[loss_batch, topic_loss_recon_batch, topic_loss_kl_batch, topic_loss_reg_batch]]\n",
    "        ppl_list += list(ppls_batch)\n",
    "    loss_mean, topic_loss_recon_mean, topic_loss_kl_mean, topic_loss_reg_mean = np.mean(losses, 0)\n",
    "    ppl_mean = np.exp(np.mean(ppl_list))\n",
    "    return loss_mean, topic_loss_recon_mean, topic_loss_kl_mean, topic_loss_reg_mean, ppl_mean"
   ]
  },
  {
   "cell_type": "code",
   "execution_count": 20,
   "metadata": {},
   "outputs": [],
   "source": [
    "from matplotlib.colors import Normalize # Normalizeをimport\n",
    "\n",
    "def print_topic_sample():\n",
    "    _topics_bow = sess.run(topic_bow)\n",
    "    plt.figure(figsize=(9, 15))\n",
    "    \n",
    "    _topic_bow = _topics_bow[0]\n",
    "    plt.subplot(5,3,2)\n",
    "    plt.axis('off')\n",
    "    plt.title(topic_idxs[0])\n",
    "    plt.imshow(_topic_bow.reshape(int(config.n_vocab**(1/2)), int(config.n_vocab**(1/2))), cmap='Wistia', norm=Normalize(vmin=0., vmax=0.3))\n",
    "    \n",
    "    for i in range(1, len(topic_idxs)):\n",
    "        _topic_bow = _topics_bow[i]\n",
    "        plt.subplot(5,3,i+3)\n",
    "        plt.axis('off')\n",
    "        plt.title(topic_idxs[i])\n",
    "        plt.imshow(_topic_bow.reshape(int(config.n_vocab**(1/2)), int(config.n_vocab**(1/2))), cmap='Wistia', norm=Normalize(vmin=0., vmax=0.3))\n",
    "        \n",
    "    plt.show()"
   ]
  },
  {
   "cell_type": "code",
   "execution_count": 21,
   "metadata": {
    "scrolled": true
   },
   "outputs": [],
   "source": [
    "if 'sess' in globals(): sess.close()\n",
    "sess = tf.Session(config=tf.ConfigProto(intra_op_parallelism_threads=1, inter_op_parallelism_threads=1))\n",
    "sess.run(tf.global_variables_initializer())\n",
    "\n",
    "losses_train = []\n",
    "ppls_train = []\n",
    "loss_min = np.inf\n",
    "beta_eval = 1.\n",
    "epoch = 0\n",
    "train_batches = get_batches(instances_train, config.batch_size, iterator=True)\n",
    "saver = tf.train.Saver(max_to_keep=10)\n",
    "\n",
    "log_df = pd.DataFrame(columns=pd.MultiIndex.from_tuples(\n",
    "                    list(zip(*[['','','','TRAIN:','TM','','','','VALID:','TM','','',''],\n",
    "                            ['Time','Ep','Ct','LOSS','PPL','NLL','KL','REG','LOSS','PPL','NLL','KL','REG']]))))"
   ]
  },
  {
   "cell_type": "code",
   "execution_count": 22,
   "metadata": {
    "scrolled": false
   },
   "outputs": [
    {
     "data": {
      "text/html": [
       "<div>\n",
       "<style scoped>\n",
       "    .dataframe tbody tr th:only-of-type {\n",
       "        vertical-align: middle;\n",
       "    }\n",
       "\n",
       "    .dataframe tbody tr th {\n",
       "        vertical-align: top;\n",
       "    }\n",
       "\n",
       "    .dataframe thead tr th {\n",
       "        text-align: left;\n",
       "    }\n",
       "</style>\n",
       "<table border=\"1\" class=\"dataframe\">\n",
       "  <thead>\n",
       "    <tr>\n",
       "      <th></th>\n",
       "      <th colspan=\"3\" halign=\"left\"></th>\n",
       "      <th>TRAIN:</th>\n",
       "      <th>TM</th>\n",
       "      <th colspan=\"3\" halign=\"left\"></th>\n",
       "      <th>VALID:</th>\n",
       "      <th>TM</th>\n",
       "      <th colspan=\"3\" halign=\"left\"></th>\n",
       "    </tr>\n",
       "    <tr>\n",
       "      <th></th>\n",
       "      <th>Time</th>\n",
       "      <th>Ep</th>\n",
       "      <th>Ct</th>\n",
       "      <th>LOSS</th>\n",
       "      <th>PPL</th>\n",
       "      <th>NLL</th>\n",
       "      <th>KL</th>\n",
       "      <th>REG</th>\n",
       "      <th>LOSS</th>\n",
       "      <th>PPL</th>\n",
       "      <th>NLL</th>\n",
       "      <th>KL</th>\n",
       "      <th>REG</th>\n",
       "    </tr>\n",
       "  </thead>\n",
       "  <tbody>\n",
       "    <tr>\n",
       "      <th>1000</th>\n",
       "      <td>13</td>\n",
       "      <td>66</td>\n",
       "      <td>9</td>\n",
       "      <td>216.74</td>\n",
       "      <td>9</td>\n",
       "      <td>214.87</td>\n",
       "      <td>1.06</td>\n",
       "      <td>0.81</td>\n",
       "      <td>214.47</td>\n",
       "      <td>8</td>\n",
       "      <td>211.97</td>\n",
       "      <td>1.88</td>\n",
       "      <td>0.62</td>\n",
       "    </tr>\n",
       "    <tr>\n",
       "      <th>2000</th>\n",
       "      <td>11</td>\n",
       "      <td>133</td>\n",
       "      <td>4</td>\n",
       "      <td>214.99</td>\n",
       "      <td>8</td>\n",
       "      <td>212.76</td>\n",
       "      <td>1.54</td>\n",
       "      <td>0.69</td>\n",
       "      <td>212.70</td>\n",
       "      <td>8</td>\n",
       "      <td>210.07</td>\n",
       "      <td>2.10</td>\n",
       "      <td>0.52</td>\n",
       "    </tr>\n",
       "    <tr>\n",
       "      <th>3000</th>\n",
       "      <td>11</td>\n",
       "      <td>199</td>\n",
       "      <td>14</td>\n",
       "      <td>214.03</td>\n",
       "      <td>8</td>\n",
       "      <td>211.67</td>\n",
       "      <td>1.75</td>\n",
       "      <td>0.61</td>\n",
       "      <td>211.72</td>\n",
       "      <td>8</td>\n",
       "      <td>209.04</td>\n",
       "      <td>2.26</td>\n",
       "      <td>0.42</td>\n",
       "    </tr>\n",
       "    <tr>\n",
       "      <th>4000</th>\n",
       "      <td>11</td>\n",
       "      <td>266</td>\n",
       "      <td>9</td>\n",
       "      <td>213.39</td>\n",
       "      <td>8</td>\n",
       "      <td>210.95</td>\n",
       "      <td>1.88</td>\n",
       "      <td>0.56</td>\n",
       "      <td>211.30</td>\n",
       "      <td>8</td>\n",
       "      <td>208.62</td>\n",
       "      <td>2.30</td>\n",
       "      <td>0.38</td>\n",
       "    </tr>\n",
       "    <tr>\n",
       "      <th>5000</th>\n",
       "      <td>11</td>\n",
       "      <td>333</td>\n",
       "      <td>4</td>\n",
       "      <td>212.95</td>\n",
       "      <td>8</td>\n",
       "      <td>210.47</td>\n",
       "      <td>1.96</td>\n",
       "      <td>0.52</td>\n",
       "      <td>211.13</td>\n",
       "      <td>8</td>\n",
       "      <td>208.45</td>\n",
       "      <td>2.32</td>\n",
       "      <td>0.36</td>\n",
       "    </tr>\n",
       "    <tr>\n",
       "      <th>6000</th>\n",
       "      <td>11</td>\n",
       "      <td>399</td>\n",
       "      <td>14</td>\n",
       "      <td>212.63</td>\n",
       "      <td>8</td>\n",
       "      <td>210.12</td>\n",
       "      <td>2.01</td>\n",
       "      <td>0.49</td>\n",
       "      <td>211.03</td>\n",
       "      <td>8</td>\n",
       "      <td>208.36</td>\n",
       "      <td>2.32</td>\n",
       "      <td>0.34</td>\n",
       "    </tr>\n",
       "    <tr>\n",
       "      <th>7000</th>\n",
       "      <td>11</td>\n",
       "      <td>466</td>\n",
       "      <td>9</td>\n",
       "      <td>212.40</td>\n",
       "      <td>8</td>\n",
       "      <td>209.87</td>\n",
       "      <td>2.06</td>\n",
       "      <td>0.47</td>\n",
       "      <td>210.97</td>\n",
       "      <td>8</td>\n",
       "      <td>208.34</td>\n",
       "      <td>2.31</td>\n",
       "      <td>0.33</td>\n",
       "    </tr>\n",
       "    <tr>\n",
       "      <th>8000</th>\n",
       "      <td>11</td>\n",
       "      <td>533</td>\n",
       "      <td>4</td>\n",
       "      <td>212.21</td>\n",
       "      <td>8</td>\n",
       "      <td>209.67</td>\n",
       "      <td>2.09</td>\n",
       "      <td>0.45</td>\n",
       "      <td>210.91</td>\n",
       "      <td>8</td>\n",
       "      <td>208.28</td>\n",
       "      <td>2.31</td>\n",
       "      <td>0.33</td>\n",
       "    </tr>\n",
       "    <tr>\n",
       "      <th>9000</th>\n",
       "      <td>11</td>\n",
       "      <td>599</td>\n",
       "      <td>14</td>\n",
       "      <td>212.06</td>\n",
       "      <td>8</td>\n",
       "      <td>209.51</td>\n",
       "      <td>2.12</td>\n",
       "      <td>0.44</td>\n",
       "      <td>210.88</td>\n",
       "      <td>8</td>\n",
       "      <td>208.25</td>\n",
       "      <td>2.31</td>\n",
       "      <td>0.32</td>\n",
       "    </tr>\n",
       "    <tr>\n",
       "      <th>10000</th>\n",
       "      <td>11</td>\n",
       "      <td>666</td>\n",
       "      <td>9</td>\n",
       "      <td>211.94</td>\n",
       "      <td>8</td>\n",
       "      <td>209.38</td>\n",
       "      <td>2.14</td>\n",
       "      <td>0.43</td>\n",
       "      <td>210.91</td>\n",
       "      <td>8</td>\n",
       "      <td>208.25</td>\n",
       "      <td>2.34</td>\n",
       "      <td>0.32</td>\n",
       "    </tr>\n",
       "    <tr>\n",
       "      <th>11000</th>\n",
       "      <td>11</td>\n",
       "      <td>733</td>\n",
       "      <td>4</td>\n",
       "      <td>211.84</td>\n",
       "      <td>8</td>\n",
       "      <td>209.27</td>\n",
       "      <td>2.15</td>\n",
       "      <td>0.42</td>\n",
       "      <td>210.80</td>\n",
       "      <td>8</td>\n",
       "      <td>208.17</td>\n",
       "      <td>2.31</td>\n",
       "      <td>0.32</td>\n",
       "    </tr>\n",
       "    <tr>\n",
       "      <th>12000</th>\n",
       "      <td>11</td>\n",
       "      <td>799</td>\n",
       "      <td>14</td>\n",
       "      <td>211.75</td>\n",
       "      <td>8</td>\n",
       "      <td>209.18</td>\n",
       "      <td>2.17</td>\n",
       "      <td>0.41</td>\n",
       "      <td>210.76</td>\n",
       "      <td>8</td>\n",
       "      <td>208.12</td>\n",
       "      <td>2.33</td>\n",
       "      <td>0.31</td>\n",
       "    </tr>\n",
       "    <tr>\n",
       "      <th>13000</th>\n",
       "      <td>11</td>\n",
       "      <td>866</td>\n",
       "      <td>9</td>\n",
       "      <td>211.68</td>\n",
       "      <td>8</td>\n",
       "      <td>209.10</td>\n",
       "      <td>2.18</td>\n",
       "      <td>0.40</td>\n",
       "      <td>210.86</td>\n",
       "      <td>8</td>\n",
       "      <td>208.23</td>\n",
       "      <td>2.32</td>\n",
       "      <td>0.31</td>\n",
       "    </tr>\n",
       "    <tr>\n",
       "      <th>14000</th>\n",
       "      <td>11</td>\n",
       "      <td>933</td>\n",
       "      <td>4</td>\n",
       "      <td>211.62</td>\n",
       "      <td>8</td>\n",
       "      <td>209.03</td>\n",
       "      <td>2.19</td>\n",
       "      <td>0.39</td>\n",
       "      <td>210.79</td>\n",
       "      <td>8</td>\n",
       "      <td>208.15</td>\n",
       "      <td>2.33</td>\n",
       "      <td>0.31</td>\n",
       "    </tr>\n",
       "    <tr>\n",
       "      <th>15000</th>\n",
       "      <td>11</td>\n",
       "      <td>999</td>\n",
       "      <td>14</td>\n",
       "      <td>211.56</td>\n",
       "      <td>8</td>\n",
       "      <td>208.97</td>\n",
       "      <td>2.20</td>\n",
       "      <td>0.39</td>\n",
       "      <td>210.78</td>\n",
       "      <td>8</td>\n",
       "      <td>208.14</td>\n",
       "      <td>2.33</td>\n",
       "      <td>0.31</td>\n",
       "    </tr>\n",
       "  </tbody>\n",
       "</table>\n",
       "</div>"
      ],
      "text/plain": [
       "                     TRAIN:  TM                      VALID:  TM                \\\n",
       "      Time   Ep  Ct    LOSS PPL     NLL    KL   REG    LOSS PPL     NLL    KL   \n",
       "1000    13   66   9  216.74   9  214.87  1.06  0.81  214.47   8  211.97  1.88   \n",
       "2000    11  133   4  214.99   8  212.76  1.54  0.69  212.70   8  210.07  2.10   \n",
       "3000    11  199  14  214.03   8  211.67  1.75  0.61  211.72   8  209.04  2.26   \n",
       "4000    11  266   9  213.39   8  210.95  1.88  0.56  211.30   8  208.62  2.30   \n",
       "5000    11  333   4  212.95   8  210.47  1.96  0.52  211.13   8  208.45  2.32   \n",
       "6000    11  399  14  212.63   8  210.12  2.01  0.49  211.03   8  208.36  2.32   \n",
       "7000    11  466   9  212.40   8  209.87  2.06  0.47  210.97   8  208.34  2.31   \n",
       "8000    11  533   4  212.21   8  209.67  2.09  0.45  210.91   8  208.28  2.31   \n",
       "9000    11  599  14  212.06   8  209.51  2.12  0.44  210.88   8  208.25  2.31   \n",
       "10000   11  666   9  211.94   8  209.38  2.14  0.43  210.91   8  208.25  2.34   \n",
       "11000   11  733   4  211.84   8  209.27  2.15  0.42  210.80   8  208.17  2.31   \n",
       "12000   11  799  14  211.75   8  209.18  2.17  0.41  210.76   8  208.12  2.33   \n",
       "13000   11  866   9  211.68   8  209.10  2.18  0.40  210.86   8  208.23  2.32   \n",
       "14000   11  933   4  211.62   8  209.03  2.19  0.39  210.79   8  208.15  2.33   \n",
       "15000   11  999  14  211.56   8  208.97  2.20  0.39  210.78   8  208.14  2.33   \n",
       "\n",
       "             \n",
       "        REG  \n",
       "1000   0.62  \n",
       "2000   0.52  \n",
       "3000   0.42  \n",
       "4000   0.38  \n",
       "5000   0.36  \n",
       "6000   0.34  \n",
       "7000   0.33  \n",
       "8000   0.33  \n",
       "9000   0.32  \n",
       "10000  0.32  \n",
       "11000  0.32  \n",
       "12000  0.31  \n",
       "13000  0.31  \n",
       "14000  0.31  \n",
       "15000  0.31  "
      ]
     },
     "metadata": {},
     "output_type": "display_data"
    },
    {
     "data": {
      "image/png": "[encoded data removed]",
      "text/plain": [
       "<Figure size 648x1080 with 13 Axes>"
      ]
     },
     "metadata": {
      "needs_background": "light"
     },
     "output_type": "display_data"
    },
    {
     "data": {
      "text/html": [
       "<div>\n",
       "<style scoped>\n",
       "    .dataframe tbody tr th:only-of-type {\n",
       "        vertical-align: middle;\n",
       "    }\n",
       "\n",
       "    .dataframe tbody tr th {\n",
       "        vertical-align: top;\n",
       "    }\n",
       "\n",
       "    .dataframe thead tr th {\n",
       "        text-align: left;\n",
       "    }\n",
       "</style>\n",
       "<table border=\"1\" class=\"dataframe\">\n",
       "  <thead>\n",
       "    <tr>\n",
       "      <th></th>\n",
       "      <th colspan=\"3\" halign=\"left\"></th>\n",
       "      <th>TRAIN:</th>\n",
       "      <th>TM</th>\n",
       "      <th colspan=\"3\" halign=\"left\"></th>\n",
       "      <th>VALID:</th>\n",
       "      <th>TM</th>\n",
       "      <th colspan=\"3\" halign=\"left\"></th>\n",
       "    </tr>\n",
       "    <tr>\n",
       "      <th></th>\n",
       "      <th>Time</th>\n",
       "      <th>Ep</th>\n",
       "      <th>Ct</th>\n",
       "      <th>LOSS</th>\n",
       "      <th>PPL</th>\n",
       "      <th>NLL</th>\n",
       "      <th>KL</th>\n",
       "      <th>REG</th>\n",
       "      <th>LOSS</th>\n",
       "      <th>PPL</th>\n",
       "      <th>NLL</th>\n",
       "      <th>KL</th>\n",
       "      <th>REG</th>\n",
       "    </tr>\n",
       "  </thead>\n",
       "  <tbody>\n",
       "    <tr>\n",
       "      <th>1000</th>\n",
       "      <td>13</td>\n",
       "      <td>66</td>\n",
       "      <td>9</td>\n",
       "      <td>216.74</td>\n",
       "      <td>9</td>\n",
       "      <td>214.87</td>\n",
       "      <td>1.06</td>\n",
       "      <td>0.81</td>\n",
       "      <td>214.47</td>\n",
       "      <td>8</td>\n",
       "      <td>211.97</td>\n",
       "      <td>1.88</td>\n",
       "      <td>0.62</td>\n",
       "    </tr>\n",
       "    <tr>\n",
       "      <th>2000</th>\n",
       "      <td>11</td>\n",
       "      <td>133</td>\n",
       "      <td>4</td>\n",
       "      <td>214.99</td>\n",
       "      <td>8</td>\n",
       "      <td>212.76</td>\n",
       "      <td>1.54</td>\n",
       "      <td>0.69</td>\n",
       "      <td>212.70</td>\n",
       "      <td>8</td>\n",
       "      <td>210.07</td>\n",
       "      <td>2.10</td>\n",
       "      <td>0.52</td>\n",
       "    </tr>\n",
       "    <tr>\n",
       "      <th>3000</th>\n",
       "      <td>11</td>\n",
       "      <td>199</td>\n",
       "      <td>14</td>\n",
       "      <td>214.03</td>\n",
       "      <td>8</td>\n",
       "      <td>211.67</td>\n",
       "      <td>1.75</td>\n",
       "      <td>0.61</td>\n",
       "      <td>211.72</td>\n",
       "      <td>8</td>\n",
       "      <td>209.04</td>\n",
       "      <td>2.26</td>\n",
       "      <td>0.42</td>\n",
       "    </tr>\n",
       "    <tr>\n",
       "      <th>4000</th>\n",
       "      <td>11</td>\n",
       "      <td>266</td>\n",
       "      <td>9</td>\n",
       "      <td>213.39</td>\n",
       "      <td>8</td>\n",
       "      <td>210.95</td>\n",
       "      <td>1.88</td>\n",
       "      <td>0.56</td>\n",
       "      <td>211.30</td>\n",
       "      <td>8</td>\n",
       "      <td>208.62</td>\n",
       "      <td>2.30</td>\n",
       "      <td>0.38</td>\n",
       "    </tr>\n",
       "    <tr>\n",
       "      <th>5000</th>\n",
       "      <td>11</td>\n",
       "      <td>333</td>\n",
       "      <td>4</td>\n",
       "      <td>212.95</td>\n",
       "      <td>8</td>\n",
       "      <td>210.47</td>\n",
       "      <td>1.96</td>\n",
       "      <td>0.52</td>\n",
       "      <td>211.13</td>\n",
       "      <td>8</td>\n",
       "      <td>208.45</td>\n",
       "      <td>2.32</td>\n",
       "      <td>0.36</td>\n",
       "    </tr>\n",
       "    <tr>\n",
       "      <th>6000</th>\n",
       "      <td>11</td>\n",
       "      <td>399</td>\n",
       "      <td>14</td>\n",
       "      <td>212.63</td>\n",
       "      <td>8</td>\n",
       "      <td>210.12</td>\n",
       "      <td>2.01</td>\n",
       "      <td>0.49</td>\n",
       "      <td>211.03</td>\n",
       "      <td>8</td>\n",
       "      <td>208.36</td>\n",
       "      <td>2.32</td>\n",
       "      <td>0.34</td>\n",
       "    </tr>\n",
       "    <tr>\n",
       "      <th>7000</th>\n",
       "      <td>11</td>\n",
       "      <td>466</td>\n",
       "      <td>9</td>\n",
       "      <td>212.40</td>\n",
       "      <td>8</td>\n",
       "      <td>209.87</td>\n",
       "      <td>2.06</td>\n",
       "      <td>0.47</td>\n",
       "      <td>210.97</td>\n",
       "      <td>8</td>\n",
       "      <td>208.34</td>\n",
       "      <td>2.31</td>\n",
       "      <td>0.33</td>\n",
       "    </tr>\n",
       "    <tr>\n",
       "      <th>8000</th>\n",
       "      <td>11</td>\n",
       "      <td>533</td>\n",
       "      <td>4</td>\n",
       "      <td>212.21</td>\n",
       "      <td>8</td>\n",
       "      <td>209.67</td>\n",
       "      <td>2.09</td>\n",
       "      <td>0.45</td>\n",
       "      <td>210.91</td>\n",
       "      <td>8</td>\n",
       "      <td>208.28</td>\n",
       "      <td>2.31</td>\n",
       "      <td>0.33</td>\n",
       "    </tr>\n",
       "    <tr>\n",
       "      <th>9000</th>\n",
       "      <td>11</td>\n",
       "      <td>599</td>\n",
       "      <td>14</td>\n",
       "      <td>212.06</td>\n",
       "      <td>8</td>\n",
       "      <td>209.51</td>\n",
       "      <td>2.12</td>\n",
       "      <td>0.44</td>\n",
       "      <td>210.88</td>\n",
       "      <td>8</td>\n",
       "      <td>208.25</td>\n",
       "      <td>2.31</td>\n",
       "      <td>0.32</td>\n",
       "    </tr>\n",
       "    <tr>\n",
       "      <th>10000</th>\n",
       "      <td>11</td>\n",
       "      <td>666</td>\n",
       "      <td>9</td>\n",
       "      <td>211.94</td>\n",
       "      <td>8</td>\n",
       "      <td>209.38</td>\n",
       "      <td>2.14</td>\n",
       "      <td>0.43</td>\n",
       "      <td>210.91</td>\n",
       "      <td>8</td>\n",
       "      <td>208.25</td>\n",
       "      <td>2.34</td>\n",
       "      <td>0.32</td>\n",
       "    </tr>\n",
       "    <tr>\n",
       "      <th>11000</th>\n",
       "      <td>11</td>\n",
       "      <td>733</td>\n",
       "      <td>4</td>\n",
       "      <td>211.84</td>\n",
       "      <td>8</td>\n",
       "      <td>209.27</td>\n",
       "      <td>2.15</td>\n",
       "      <td>0.42</td>\n",
       "      <td>210.80</td>\n",
       "      <td>8</td>\n",
       "      <td>208.17</td>\n",
       "      <td>2.31</td>\n",
       "      <td>0.32</td>\n",
       "    </tr>\n",
       "    <tr>\n",
       "      <th>12000</th>\n",
       "      <td>11</td>\n",
       "      <td>799</td>\n",
       "      <td>14</td>\n",
       "      <td>211.75</td>\n",
       "      <td>8</td>\n",
       "      <td>209.18</td>\n",
       "      <td>2.17</td>\n",
       "      <td>0.41</td>\n",
       "      <td>210.76</td>\n",
       "      <td>8</td>\n",
       "      <td>208.12</td>\n",
       "      <td>2.33</td>\n",
       "      <td>0.31</td>\n",
       "    </tr>\n",
       "    <tr>\n",
       "      <th>13000</th>\n",
       "      <td>11</td>\n",
       "      <td>866</td>\n",
       "      <td>9</td>\n",
       "      <td>211.68</td>\n",
       "      <td>8</td>\n",
       "      <td>209.10</td>\n",
       "      <td>2.18</td>\n",
       "      <td>0.40</td>\n",
       "      <td>210.86</td>\n",
       "      <td>8</td>\n",
       "      <td>208.23</td>\n",
       "      <td>2.32</td>\n",
       "      <td>0.31</td>\n",
       "    </tr>\n",
       "    <tr>\n",
       "      <th>14000</th>\n",
       "      <td>11</td>\n",
       "      <td>933</td>\n",
       "      <td>4</td>\n",
       "      <td>211.62</td>\n",
       "      <td>8</td>\n",
       "      <td>209.03</td>\n",
       "      <td>2.19</td>\n",
       "      <td>0.39</td>\n",
       "      <td>210.79</td>\n",
       "      <td>8</td>\n",
       "      <td>208.15</td>\n",
       "      <td>2.33</td>\n",
       "      <td>0.31</td>\n",
       "    </tr>\n",
       "    <tr>\n",
       "      <th>15000</th>\n",
       "      <td>11</td>\n",
       "      <td>999</td>\n",
       "      <td>14</td>\n",
       "      <td>211.56</td>\n",
       "      <td>8</td>\n",
       "      <td>208.97</td>\n",
       "      <td>2.20</td>\n",
       "      <td>0.39</td>\n",
       "      <td>210.78</td>\n",
       "      <td>8</td>\n",
       "      <td>208.14</td>\n",
       "      <td>2.33</td>\n",
       "      <td>0.31</td>\n",
       "    </tr>\n",
       "  </tbody>\n",
       "</table>\n",
       "</div>"
      ],
      "text/plain": [
       "                     TRAIN:  TM                      VALID:  TM                \\\n",
       "      Time   Ep  Ct    LOSS PPL     NLL    KL   REG    LOSS PPL     NLL    KL   \n",
       "1000    13   66   9  216.74   9  214.87  1.06  0.81  214.47   8  211.97  1.88   \n",
       "2000    11  133   4  214.99   8  212.76  1.54  0.69  212.70   8  210.07  2.10   \n",
       "3000    11  199  14  214.03   8  211.67  1.75  0.61  211.72   8  209.04  2.26   \n",
       "4000    11  266   9  213.39   8  210.95  1.88  0.56  211.30   8  208.62  2.30   \n",
       "5000    11  333   4  212.95   8  210.47  1.96  0.52  211.13   8  208.45  2.32   \n",
       "6000    11  399  14  212.63   8  210.12  2.01  0.49  211.03   8  208.36  2.32   \n",
       "7000    11  466   9  212.40   8  209.87  2.06  0.47  210.97   8  208.34  2.31   \n",
       "8000    11  533   4  212.21   8  209.67  2.09  0.45  210.91   8  208.28  2.31   \n",
       "9000    11  599  14  212.06   8  209.51  2.12  0.44  210.88   8  208.25  2.31   \n",
       "10000   11  666   9  211.94   8  209.38  2.14  0.43  210.91   8  208.25  2.34   \n",
       "11000   11  733   4  211.84   8  209.27  2.15  0.42  210.80   8  208.17  2.31   \n",
       "12000   11  799  14  211.75   8  209.18  2.17  0.41  210.76   8  208.12  2.33   \n",
       "13000   11  866   9  211.68   8  209.10  2.18  0.40  210.86   8  208.23  2.32   \n",
       "14000   11  933   4  211.62   8  209.03  2.19  0.39  210.79   8  208.15  2.33   \n",
       "15000   11  999  14  211.56   8  208.97  2.20  0.39  210.78   8  208.14  2.33   \n",
       "\n",
       "             \n",
       "        REG  \n",
       "1000   0.62  \n",
       "2000   0.52  \n",
       "3000   0.42  \n",
       "4000   0.38  \n",
       "5000   0.36  \n",
       "6000   0.34  \n",
       "7000   0.33  \n",
       "8000   0.33  \n",
       "9000   0.32  \n",
       "10000  0.32  \n",
       "11000  0.32  \n",
       "12000  0.31  \n",
       "13000  0.31  \n",
       "14000  0.31  \n",
       "15000  0.31  "
      ]
     },
     "metadata": {},
     "output_type": "display_data"
    },
    {
     "data": {
      "image/png": "[encoded data removed]",
      "text/plain": [
       "<Figure size 648x1080 with 13 Axes>"
      ]
     },
     "metadata": {
      "needs_background": "light"
     },
     "output_type": "display_data"
    }
   ],
   "source": [
    "if len(log_df) == 0:\n",
    "    cmd_rm = 'rm -r %s' % config.modeldir\n",
    "    res = subprocess.call(cmd_rm.split())\n",
    "\n",
    "    cmd_mk = 'mkdir %s' % config.modeldir\n",
    "    res = subprocess.call(cmd_mk.split())\n",
    "\n",
    "time_start = time.time()\n",
    "while epoch < config.epochs:\n",
    "    for ct, batch in train_batches:\n",
    "        feed_dict = get_feed_dict(batch)\n",
    "\n",
    "        _, loss_batch, topic_loss_recon_batch, topic_loss_kl_batch, topic_loss_reg_batch, ppls_batch, global_step_log = \\\n",
    "        sess.run([opt, loss, topic_loss_recon, topic_loss_kl, topic_loss_reg, topic_ppls, tf.train.get_global_step()], feed_dict = feed_dict)\n",
    "\n",
    "        losses_train += [[loss_batch, topic_loss_recon_batch, topic_loss_kl_batch, topic_loss_reg_batch]]\n",
    "        ppls_train += list(ppls_batch)\n",
    "\n",
    "        if global_step_log%config.log_period==0:\n",
    "            loss_train, topic_loss_recon_train, topic_loss_kl_train, topic_loss_reg_train = np.mean(losses_train, 0)\n",
    "            ppl_train = np.exp(np.mean(ppls_train))\n",
    "            loss_dev, topic_loss_recon_dev, topic_loss_kl_dev, topic_loss_reg_dev, ppl_dev = get_loss(sess, dev_batches)\n",
    "            \n",
    "#             if loss_dev < loss_min:\n",
    "#                 loss_min = loss_dev\n",
    "#                 saver.save(sess, config.modelpath, global_step=global_step_log)\n",
    "\n",
    "            clear_output()\n",
    "    \n",
    "            time_log = int(time.time() - time_start)\n",
    "            log_series = pd.Series([time_log, epoch, ct, \\\n",
    "                    '%.2f'%loss_train, '%.0f'%ppl_train, '%.2f'%topic_loss_recon_train, '%.2f'%topic_loss_kl_train, '%.2f'%topic_loss_reg_train, \\\n",
    "                    '%.2f'%loss_dev, '%.0f'%ppl_dev, '%.2f'%topic_loss_recon_dev, '%.2f'%topic_loss_kl_dev, '%.2f'%topic_loss_reg_dev],\n",
    "                    index=log_df.columns)\n",
    "            log_df.loc[global_step_log] = log_series\n",
    "            display(log_df)\n",
    "            \n",
    "            # visualize topic\n",
    "            print_topic_sample()\n",
    "\n",
    "            time_start = time.time()\n",
    "            \n",
    "    epoch += 1\n",
    "    train_batches = get_batches(instances_train, config.batch_size, iterator=True)\n",
    "    \n",
    "display(log_df)\n",
    "print_topic_sample()"
   ]
  },
  {
   "cell_type": "markdown",
   "metadata": {},
   "source": [
    "# confirm variables"
   ]
  },
  {
   "cell_type": "code",
   "execution_count": 23,
   "metadata": {},
   "outputs": [],
   "source": [
    "states_topic_embeddings = tf.concat([tree_states_topic_embeddings[topic_idx] for topic_idx in topic_idxs], 0)"
   ]
  },
  {
   "cell_type": "code",
   "execution_count": 24,
   "metadata": {
    "scrolled": false
   },
   "outputs": [
    {
     "name": "stdout",
     "output_type": "stream",
     "text": [
      "strided_slice:0 : [[-0.9898385   0.64211136 -0.1754918  -0.99638575 -0.9896069   0.98456866]\n",
      " [ 0.9960431  -0.9819608   0.64303744  0.9964002  -0.2530598  -0.8326717 ]\n",
      " [ 0.999796   -0.68278956  0.47235     0.99989533  0.9013988  -0.97732645]\n",
      " [ 0.9999866  -0.9852764   0.5409591   0.9999801   0.8768079  -0.93803763]\n",
      " [-0.858994    0.14576772 -0.60588366 -0.95108     0.94144017 -0.87347245]\n",
      " [ 0.9405421  -0.95263743  0.5902808   0.7950804   0.99636596 -0.99937516]\n",
      " [ 0.9842963  -0.7348778  -0.3949933   0.9581794   0.9988755  -0.9966899 ]\n",
      " [-0.9992913   0.9968274  -0.98239267 -0.999683    0.7499069   0.88019365]\n",
      " [-0.9998502   0.9066039  -0.9307112  -0.99993384  0.23115653  0.9240346 ]\n",
      " [-0.99925035  0.95966446 -0.93203014 -0.99979144  0.9495025  -0.7706108 ]\n",
      " [-0.99874777  0.9963412  -0.98017865 -0.9991353   0.8905799   0.63794607]\n",
      " [-0.9959714   0.8760052  -0.8730173  -0.99795     0.98585117 -0.72815174]\n",
      " [-0.96534866  0.95109093 -0.93135667 -0.9579316   0.998647   -0.9889365 ]]\n"
     ]
    }
   ],
   "source": [
    "debug_value([states_topic_embeddings[:, :6]])"
   ]
  },
  {
   "cell_type": "code",
   "execution_count": 25,
   "metadata": {},
   "outputs": [],
   "source": [
    "topic_embeddings = tf.concat([tree_topic_embeddings[topic_idx] for topic_idx in topic_idxs], 0)"
   ]
  },
  {
   "cell_type": "code",
   "execution_count": 26,
   "metadata": {},
   "outputs": [
    {
     "name": "stdout",
     "output_type": "stream",
     "text": [
      "strided_slice_1:0 : [[ 8.39822006e+00  3.99098545e-03 -6.54287243e+00 -8.64249039e+00\n",
      "  -5.01265860e+00  1.15229845e+01]\n",
      " [-1.96424139e+00  4.96738482e+00  9.31883049e+00  3.06710553e+00\n",
      "   7.72428751e+00 -4.97641373e+00]\n",
      " [-4.52829552e+00  1.26872826e+00  8.77968884e+00  5.64823437e+00\n",
      "   6.88577318e+00 -9.13713455e+00]\n",
      " [-4.48960304e+00  1.54657197e+00  8.83346272e+00  5.48249388e+00\n",
      "   7.08297157e+00 -8.56632710e+00]\n",
      " [-4.41065836e+00 -6.78359890e+00 -3.64493489e+00  1.24908423e+00\n",
      "  -3.22116661e+00 -9.83054399e-01]\n",
      " [-5.77867603e+00  1.85164839e-01  7.71494198e+00  6.06260729e+00\n",
      "   5.53584623e+00 -8.98149967e+00]\n",
      " [-6.04829645e+00  1.95413619e-01  8.21665096e+00  5.97709465e+00\n",
      "   6.07224226e+00 -9.65100574e+00]\n",
      " [ 1.88749707e+00 -5.80868196e+00 -9.80365276e+00 -4.02250242e+00\n",
      "  -7.79182959e+00  6.02152014e+00]\n",
      " [ 2.06249380e+00 -3.22978497e+00 -8.43324089e+00 -4.78851080e+00\n",
      "  -6.71297407e+00  7.71905518e+00]\n",
      " [-5.41162157e+00 -8.46052074e+00 -5.59605742e+00  1.10916245e+00\n",
      "  -4.79740763e+00 -1.05264986e+00]\n",
      " [-6.82378054e-01 -6.62832499e+00 -8.74003887e+00 -2.17458010e+00\n",
      "  -6.95546150e+00  3.91569662e+00]\n",
      " [-6.29028988e+00 -8.41731548e+00 -4.88696194e+00  1.98186028e+00\n",
      "  -4.02239084e+00 -1.79398477e+00]\n",
      " [-7.10721207e+00 -8.64465618e+00 -4.36549807e+00  2.80799699e+00\n",
      "  -3.55587029e+00 -2.82800293e+00]]\n"
     ]
    }
   ],
   "source": [
    "debug_value([topic_embeddings[:, :6]])"
   ]
  },
  {
   "cell_type": "code",
   "execution_count": 27,
   "metadata": {},
   "outputs": [
    {
     "data": {
      "text/plain": [
       "0.3768517"
      ]
     },
     "execution_count": 27,
     "metadata": {},
     "output_type": "execute_result"
    }
   ],
   "source": [
    "_topics_bow, = debug_value([topic_bow], return_value=True)\n",
    "np.max(_topics_bow)"
   ]
  },
  {
   "cell_type": "code",
   "execution_count": 28,
   "metadata": {
    "scrolled": false
   },
   "outputs": [
    {
     "data": {
      "image/png": "[encoded data removed]",
      "text/plain": [
       "<Figure size 864x1440 with 13 Axes>"
      ]
     },
     "metadata": {
      "needs_background": "light"
     },
     "output_type": "display_data"
    }
   ],
   "source": [
    "_topics_bow, = debug_value([topic_bow], return_value=True)\n",
    "\n",
    "plt.figure(figsize=(12, 20))\n",
    "    \n",
    "_topic_bow = _topics_bow[0]\n",
    "plt.subplot(5,3,2)\n",
    "plt.ylim([0, np.max(_topics_bow)])\n",
    "plt.bar(bow_idxs, _topic_bow)\n",
    "\n",
    "for i in range(1, len(topic_idxs)):\n",
    "    _topic_bow = _topics_bow[i]\n",
    "    plt.subplot(5,3,i+3)\n",
    "    plt.ylim([0, np.max(_topics_bow)])\n",
    "#     plt.axis('off')\n",
    "    plt.bar(bow_idxs, _topic_bow)\n",
    "\n",
    "plt.show()"
   ]
  },
  {
   "cell_type": "code",
   "execution_count": 29,
   "metadata": {},
   "outputs": [
    {
     "name": "stdout",
     "output_type": "stream",
     "text": [
      "[0.20471583 0.1310653  0.0379467  0.03415927 0.1064275  0.05136224\n",
      " 0.07556961 0.06710622 0.03089777 0.04595589 0.09186313 0.0436862\n",
      " 0.07924435]\n"
     ]
    }
   ],
   "source": [
    "_prob_topics = []\n",
    "for ct, batch in dev_batches:\n",
    "    feed_dict = get_feed_dict(batch)\n",
    "    _prob_topic, = sess.run([prob_topic], feed_dict = feed_dict)\n",
    "    _prob_topics.append(_prob_topic)\n",
    "    \n",
    "_prob_topics = np.concatenate(_prob_topics, 0)\n",
    "_prob_topic_mean = np.mean(_prob_topics, 0)\n",
    "\n",
    "print(_prob_topic_mean)"
   ]
  },
  {
   "cell_type": "code",
   "execution_count": 30,
   "metadata": {},
   "outputs": [
    {
     "name": "stdout",
     "output_type": "stream",
     "text": [
      "clip_by_value:0 : [[1.         0.21535766 0.21543373 0.21392684 0.2627024  0.20334698\n",
      "  0.20016356 0.98520064 0.9771674  0.24947962 0.6332634  0.24096167\n",
      "  0.2369319 ]\n",
      " [0.21535766 1.         0.9930388  0.99467313 0.14223629 0.99385786\n",
      "  0.9957912  0.05133982 0.04045141 0.10392651 0.09948    0.10724013\n",
      "  0.10869181]\n",
      " [0.21543373 0.9930388  0.9999999  0.9998463  0.21681416 0.99946374\n",
      "  0.9988727  0.05330392 0.03154228 0.17872535 0.15830676 0.18215975\n",
      "  0.18361026]\n",
      " [0.21392684 0.99467313 0.9998463  1.         0.21233067 0.9995287\n",
      "  0.9992829  0.05165622 0.03058057 0.17415527 0.15390846 0.17762566\n",
      "  0.1790857 ]\n",
      " [0.2627024  0.14223629 0.21681416 0.21233067 1.         0.19843087\n",
      "  0.18451315 0.27724448 0.13916695 0.99768543 0.89752346 0.9961661\n",
      "  0.9940027 ]\n",
      " [0.20334698 0.99385786 0.99946374 0.9995287  0.19843087 0.99999994\n",
      "  0.9997577  0.03998328 0.02108249 0.15987559 0.13666    0.16379899\n",
      "  0.16550821]\n",
      " [0.20016356 0.9957912  0.9988727  0.9992829  0.18451315 0.9997577\n",
      "  1.         0.03630468 0.01931024 0.14592172 0.12429647 0.14982003\n",
      "  0.15152548]\n",
      " [0.98520064 0.05133982 0.05330392 0.05165622 0.27724448 0.03998328\n",
      "  0.03630468 1.         0.98762757 0.27059388 0.6591499  0.26054817\n",
      "  0.25568372]\n",
      " [0.9771674  0.04045141 0.03154228 0.03058057 0.13916695 0.02108249\n",
      "  0.01931024 0.98762757 0.99999994 0.13198845 0.541413   0.12326524\n",
      "  0.11933421]\n",
      " [0.24947962 0.10392651 0.17872535 0.17415527 0.99768543 0.15987559\n",
      "  0.14592172 0.27059388 0.13198845 1.         0.895983   0.99909025\n",
      "  0.9976065 ]\n",
      " [0.6332634  0.09948    0.15830676 0.15390846 0.89752346 0.13666\n",
      "  0.12429647 0.6591499  0.541413   0.895983   1.         0.8868803\n",
      "  0.8812333 ]\n",
      " [0.24096167 0.10724013 0.18215975 0.17762566 0.9961661  0.16379899\n",
      "  0.14982003 0.26054817 0.12326524 0.99909025 0.8868803  1.\n",
      "  0.999637  ]\n",
      " [0.2369319  0.10869181 0.18361026 0.1790857  0.9940027  0.16550821\n",
      "  0.15152548 0.25568372 0.11933421 0.9976065  0.8812333  0.999637\n",
      "  0.9999998 ]]\n"
     ]
    }
   ],
   "source": [
    "debug_value([topic_dots])"
   ]
  },
  {
   "cell_type": "code",
   "execution_count": 31,
   "metadata": {},
   "outputs": [
    {
     "name": "stdout",
     "output_type": "stream",
     "text": [
      "mul_2:0 : [[0.0000000e+00 0.0000000e+00 0.0000000e+00 0.0000000e+00 0.0000000e+00\n",
      "  0.0000000e+00 0.0000000e+00 0.0000000e+00 0.0000000e+00 0.0000000e+00\n",
      "  0.0000000e+00 0.0000000e+00 0.0000000e+00]\n",
      " [0.0000000e+00 0.0000000e+00 9.8612601e-01 9.8937464e-01 0.0000000e+00\n",
      "  0.0000000e+00 0.0000000e+00 2.6357775e-03 1.6363170e-03 1.0800719e-02\n",
      "  9.8962700e-03 1.1500444e-02 1.1813910e-02]\n",
      " [0.0000000e+00 9.8612601e-01 1.4210855e-14 9.9969256e-01 4.7008380e-02\n",
      "  9.9892777e-01 9.9774665e-01 0.0000000e+00 0.0000000e+00 0.0000000e+00\n",
      "  2.5061032e-02 3.3182174e-02 3.3712726e-02]\n",
      " [0.0000000e+00 9.8937464e-01 9.9969256e-01 0.0000000e+00 4.5084313e-02\n",
      "  9.9905765e-01 9.9856633e-01 2.6683647e-03 9.3517121e-04 3.0330056e-02\n",
      "  0.0000000e+00 0.0000000e+00 0.0000000e+00]\n",
      " [0.0000000e+00 0.0000000e+00 4.7008380e-02 4.5084313e-02 0.0000000e+00\n",
      "  3.9374810e-02 3.4045104e-02 7.6864503e-02 1.9367440e-02 9.9537623e-01\n",
      "  8.0554837e-01 9.9234694e-01 9.8804134e-01]\n",
      " [0.0000000e+00 0.0000000e+00 9.9892777e-01 9.9905765e-01 3.9374810e-02\n",
      "  3.5527137e-15 9.9951547e-01 1.5986627e-03 4.4447157e-04 2.5560204e-02\n",
      "  1.8675955e-02 2.6830109e-02 2.7392969e-02]\n",
      " [0.0000000e+00 0.0000000e+00 9.9774665e-01 9.9856633e-01 3.4045104e-02\n",
      "  9.9951547e-01 0.0000000e+00 1.3180297e-03 3.7288520e-04 2.1293148e-02\n",
      "  1.5449612e-02 2.2446042e-02 2.2959972e-02]\n",
      " [0.0000000e+00 2.6357775e-03 0.0000000e+00 2.6683647e-03 7.6864503e-02\n",
      "  1.5986627e-03 1.3180297e-03 0.0000000e+00 9.7540820e-01 7.3221050e-02\n",
      "  4.3447858e-01 6.7885354e-02 6.5374166e-02]\n",
      " [0.0000000e+00 1.6363170e-03 0.0000000e+00 9.3517121e-04 1.9367440e-02\n",
      "  4.4447157e-04 3.7288520e-04 9.7540820e-01 3.5527137e-15 1.7420951e-02\n",
      "  2.9312804e-01 1.5194320e-02 1.4240652e-02]\n",
      " [0.0000000e+00 1.0800719e-02 0.0000000e+00 3.0330056e-02 9.9537623e-01\n",
      "  2.5560204e-02 2.1293148e-02 7.3221050e-02 1.7420951e-02 0.0000000e+00\n",
      "  8.0278552e-01 9.9818134e-01 9.9521875e-01]\n",
      " [0.0000000e+00 9.8962700e-03 2.5061032e-02 0.0000000e+00 8.0554837e-01\n",
      "  1.8675955e-02 1.5449612e-02 4.3447858e-01 2.9312804e-01 8.0278552e-01\n",
      "  0.0000000e+00 7.8655660e-01 7.7657211e-01]\n",
      " [0.0000000e+00 1.1500444e-02 3.3182174e-02 0.0000000e+00 9.9234694e-01\n",
      "  2.6830109e-02 2.2446042e-02 6.7885354e-02 1.5194320e-02 9.9818134e-01\n",
      "  7.8655660e-01 0.0000000e+00 9.9927413e-01]\n",
      " [0.0000000e+00 1.1813910e-02 3.3712726e-02 0.0000000e+00 9.8804134e-01\n",
      "  2.7392969e-02 2.2959972e-02 6.5374166e-02 1.4240652e-02 9.9521875e-01\n",
      "  7.7657211e-01 9.9927413e-01 3.1974423e-14]]\n"
     ]
    }
   ],
   "source": [
    "debug_value([topic_losses_reg])"
   ]
  },
  {
   "cell_type": "code",
   "execution_count": 32,
   "metadata": {},
   "outputs": [
    {
     "data": {
      "text/plain": [
       "array([[1., 0., 0., 0., 0., 0., 0., 0., 0., 0., 0., 0., 0.],\n",
       "       [0., 1., 1., 1., 0., 0., 0., 1., 1., 1., 1., 1., 1.],\n",
       "       [0., 1., 1., 1., 1., 1., 1., 0., 0., 0., 1., 1., 1.],\n",
       "       [0., 1., 1., 1., 1., 1., 1., 1., 1., 1., 0., 0., 0.],\n",
       "       [0., 0., 1., 1., 1., 1., 1., 1., 1., 1., 1., 1., 1.],\n",
       "       [0., 0., 1., 1., 1., 1., 1., 1., 1., 1., 1., 1., 1.],\n",
       "       [0., 0., 1., 1., 1., 1., 1., 1., 1., 1., 1., 1., 1.],\n",
       "       [0., 1., 0., 1., 1., 1., 1., 1., 1., 1., 1., 1., 1.],\n",
       "       [0., 1., 0., 1., 1., 1., 1., 1., 1., 1., 1., 1., 1.],\n",
       "       [0., 1., 0., 1., 1., 1., 1., 1., 1., 1., 1., 1., 1.],\n",
       "       [0., 1., 1., 0., 1., 1., 1., 1., 1., 1., 1., 1., 1.],\n",
       "       [0., 1., 1., 0., 1., 1., 1., 1., 1., 1., 1., 1., 1.],\n",
       "       [0., 1., 1., 0., 1., 1., 1., 1., 1., 1., 1., 1., 1.]],\n",
       "      dtype=float32)"
      ]
     },
     "execution_count": 32,
     "metadata": {},
     "output_type": "execute_result"
    }
   ],
   "source": [
    "tree_mask_reg"
   ]
  },
  {
   "cell_type": "code",
   "execution_count": 33,
   "metadata": {},
   "outputs": [],
   "source": [
    "_topic_bow, = debug_value([topic_bow], return_value=True)"
   ]
  },
  {
   "cell_type": "code",
   "execution_count": 34,
   "metadata": {},
   "outputs": [
    {
     "data": {
      "text/plain": [
       "<BarContainer object of 9 artists>"
      ]
     },
     "execution_count": 34,
     "metadata": {},
     "output_type": "execute_result"
    },
    {
     "data": {
      "image/png": "[encoded data removed]",
      "text/plain": [
       "<Figure size 432x288 with 1 Axes>"
      ]
     },
     "metadata": {
      "needs_background": "light"
     },
     "output_type": "display_data"
    }
   ],
   "source": [
    "plt.bar(bow_idxs, _topic_bow[0])"
   ]
  },
  {
   "cell_type": "code",
   "execution_count": 35,
   "metadata": {},
   "outputs": [
    {
     "data": {
      "text/plain": [
       "<BarContainer object of 9 artists>"
      ]
     },
     "execution_count": 35,
     "metadata": {},
     "output_type": "execute_result"
    },
    {
     "data": {
      "image/png": "[encoded data removed]",
      "text/plain": [
       "<Figure size 432x288 with 1 Axes>"
      ]
     },
     "metadata": {
      "needs_background": "light"
     },
     "output_type": "display_data"
    }
   ],
   "source": [
    "plt.bar(bow_idxs, _topic_bow[1])"
   ]
  },
  {
   "cell_type": "code",
   "execution_count": 36,
   "metadata": {},
   "outputs": [
    {
     "data": {
      "text/plain": [
       "<BarContainer object of 9 artists>"
      ]
     },
     "execution_count": 36,
     "metadata": {},
     "output_type": "execute_result"
    },
    {
     "data": {
      "image/png": "[encoded data removed]",
      "text/plain": [
       "<Figure size 432x288 with 1 Axes>"
      ]
     },
     "metadata": {
      "needs_background": "light"
     },
     "output_type": "display_data"
    }
   ],
   "source": [
    "plt.bar(bow_idxs, _topic_bow[2])"
   ]
  },
  {
   "cell_type": "code",
   "execution_count": 37,
   "metadata": {},
   "outputs": [
    {
     "data": {
      "text/plain": [
       "<BarContainer object of 9 artists>"
      ]
     },
     "execution_count": 37,
     "metadata": {},
     "output_type": "execute_result"
    },
    {
     "data": {
      "image/png": "[encoded data removed]",
      "text/plain": [
       "<Figure size 432x288 with 1 Axes>"
      ]
     },
     "metadata": {
      "needs_background": "light"
     },
     "output_type": "display_data"
    }
   ],
   "source": [
    "plt.bar(bow_idxs, _topic_bow[3])"
   ]
  },
  {
   "cell_type": "code",
   "execution_count": 38,
   "metadata": {},
   "outputs": [
    {
     "data": {
      "text/plain": [
       "array([0.2559171 , 0.35493204, 0.30284756, 0.31103218, 0.35728914,\n",
       "       0.31386957, 0.32497   , 0.2812065 , 0.34034967, 0.35863882,\n",
       "       0.2310702 , 0.37132648, 0.3768517 ], dtype=float32)"
      ]
     },
     "execution_count": 38,
     "metadata": {},
     "output_type": "execute_result"
    }
   ],
   "source": [
    "np.max(_topic_bow, 1)"
   ]
  },
  {
   "cell_type": "code",
   "execution_count": 39,
   "metadata": {},
   "outputs": [
    {
     "data": {
      "text/plain": [
       "<BarContainer object of 9 artists>"
      ]
     },
     "execution_count": 39,
     "metadata": {},
     "output_type": "execute_result"
    },
    {
     "data": {
      "image/png": "[encoded data removed]",
      "text/plain": [
       "<Figure size 432x288 with 1 Axes>"
      ]
     },
     "metadata": {
      "needs_background": "light"
     },
     "output_type": "display_data"
    }
   ],
   "source": [
    "plt.bar(bow_idxs, _topic_bow[-5])"
   ]
  },
  {
   "cell_type": "code",
   "execution_count": 40,
   "metadata": {},
   "outputs": [
    {
     "data": {
      "text/plain": [
       "<BarContainer object of 9 artists>"
      ]
     },
     "execution_count": 40,
     "metadata": {},
     "output_type": "execute_result"
    },
    {
     "data": {
      "image/png": "[encoded data removed]",
      "text/plain": [
       "<Figure size 432x288 with 1 Axes>"
      ]
     },
     "metadata": {
      "needs_background": "light"
     },
     "output_type": "display_data"
    }
   ],
   "source": [
    "plt.bar(bow_idxs, _topic_bow[-1])"
   ]
  },
  {
   "cell_type": "code",
   "execution_count": 41,
   "metadata": {},
   "outputs": [
    {
     "data": {
      "text/plain": [
       "9"
      ]
     },
     "execution_count": 41,
     "metadata": {},
     "output_type": "execute_result"
    }
   ],
   "source": [
    "len(bow_idxs)"
   ]
  },
  {
   "cell_type": "code",
   "execution_count": 42,
   "metadata": {},
   "outputs": [
    {
     "name": "stdout",
     "output_type": "stream",
     "text": [
      "strided_slice_2:0 : [1.4300756e-01 7.1376073e-01 3.4302559e-02 4.1506663e-02 4.4705629e-02\n",
      " 8.4201694e-03 7.8231785e-03 1.7601268e-03 6.5452675e-04 5.1448785e-04\n",
      " 2.2161303e-03 8.7388180e-04 4.5429668e-04]\n"
     ]
    }
   ],
   "source": [
    "debug_value([prob_topic[3]])"
   ]
  },
  {
   "cell_type": "code",
   "execution_count": 43,
   "metadata": {},
   "outputs": [
    {
     "name": "stdout",
     "output_type": "stream",
     "text": [
      "Exp_1:0 : [0.12220112 0.12987882 0.13047731 0.15169969 0.14337999 0.1260815\n",
      " 0.1245105  0.11700626 0.11682452 0.12122644 0.11023413 0.14049484\n",
      " 0.1707343  0.11495777 0.13653646 0.13698931 0.1156252  0.11240815\n",
      " 0.11549827 0.12002106 0.13676968 0.11757219 0.152172   0.16163155\n",
      " 0.12611443 0.13711774 0.13460799 0.1113361  0.11322401 0.12627803\n",
      " 0.12116376 0.11731886 0.11678686 0.14294289 0.11386965 0.1099771\n",
      " 0.13070078 0.11649775 0.11851206 0.12034791 0.11794113 0.11933422\n",
      " 0.12448293 0.12459474 0.11841663 0.16698842 0.11092032 0.12410651\n",
      " 0.12609845 0.13981187 0.13996139 0.12913336 0.14343211 0.13023949\n",
      " 0.11173353 0.1183363  0.12991387 0.11753312 0.10919007 0.1158208\n",
      " 0.10889377 0.11869133 0.11143317 0.14610071]\n"
     ]
    }
   ],
   "source": [
    "debug_value([tf.exp(-tf.divide(topic_losses_recon, n_bow))])"
   ]
  },
  {
   "cell_type": "markdown",
   "metadata": {},
   "source": [
    "### test"
   ]
  },
  {
   "cell_type": "code",
   "execution_count": 44,
   "metadata": {},
   "outputs": [
    {
     "ename": "NameError",
     "evalue": "name 'bow' is not defined",
     "output_type": "error",
     "traceback": [
      "\u001b[0;31m---------------------------------------------------------------------------\u001b[0m",
      "\u001b[0;31mNameError\u001b[0m                                 Traceback (most recent call last)",
      "\u001b[0;32m<ipython-input-44-9c35519552eb>\u001b[0m in \u001b[0;36m<module>\u001b[0;34m\u001b[0m\n\u001b[0;32m----> 1\u001b[0;31m \u001b[0mdebug_shape\u001b[0m\u001b[0;34m(\u001b[0m\u001b[0;34m[\u001b[0m\u001b[0mbow\u001b[0m\u001b[0;34m,\u001b[0m \u001b[0mhidden_bow\u001b[0m\u001b[0;34m,\u001b[0m \u001b[0mlatents_bow\u001b[0m\u001b[0;34m,\u001b[0m \u001b[0mprob_topic\u001b[0m\u001b[0;34m,\u001b[0m \u001b[0mbow_embeddings\u001b[0m\u001b[0;34m,\u001b[0m \u001b[0mtopic_embeddings\u001b[0m\u001b[0;34m,\u001b[0m \u001b[0mtopic_bow\u001b[0m\u001b[0;34m,\u001b[0m \u001b[0mprob_bow\u001b[0m\u001b[0;34m]\u001b[0m\u001b[0;34m)\u001b[0m\u001b[0;34m\u001b[0m\u001b[0;34m\u001b[0m\u001b[0m\n\u001b[0m",
      "\u001b[0;31mNameError\u001b[0m: name 'bow' is not defined"
     ]
    }
   ],
   "source": [
    "debug_shape([bow, hidden_bow, latents_bow, prob_topic, bow_embeddings, topic_embeddings, topic_bow, prob_bow])"
   ]
  },
  {
   "cell_type": "code",
   "execution_count": null,
   "metadata": {},
   "outputs": [],
   "source": [
    "debug_shape([topic_losses_recon, topic_loss_recon, n_bow, ppls, topic_embeddings_norm, tf.expand_dims(topic_angles_mean, -1), topic_angles_vars])"
   ]
  },
  {
   "cell_type": "code",
   "execution_count": null,
   "metadata": {},
   "outputs": [],
   "source": [
    "debug_value([tf.reduce_sum(tf.square(topic_embeddings_norm), 1)], return_value=True)[0]"
   ]
  },
  {
   "cell_type": "code",
   "execution_count": null,
   "metadata": {},
   "outputs": [],
   "source": [
    "debug_value([tf.reduce_sum(prob_topic, -1), tf.reduce_sum(topic_bow, -1), tf.reduce_sum(tf.exp(prob_bow), 1)])"
   ]
  },
  {
   "cell_type": "code",
   "execution_count": null,
   "metadata": {},
   "outputs": [],
   "source": [
    "sigma_bow = tf.exp(0.5 * logvars_bow)\n",
    "dist_bow = tfd.Normal(means_bow, sigma_bow)\n",
    "dist_std = tfd.Normal(0., 1.)\n",
    "topic_loss_kl_tmp = tf.reduce_mean(tf.reduce_sum(tfd.kl_divergence(dist_bow, dist_std), 1))"
   ]
  },
  {
   "cell_type": "code",
   "execution_count": null,
   "metadata": {},
   "outputs": [],
   "source": [
    "debug_value([topic_loss_recon, topic_loss_kl, topic_loss_kl_tmp])"
   ]
  },
  {
   "cell_type": "code",
   "execution_count": null,
   "metadata": {},
   "outputs": [],
   "source": [
    "_logvars, _means, _kl_losses, _latents, _output_logits = sess.run([logvars, means, kl_losses, latents, output_logits], feed_dict=feed_dict)\n"
   ]
  },
  {
   "cell_type": "code",
   "execution_count": null,
   "metadata": {},
   "outputs": [],
   "source": [
    "_logvars.shape, _means.shape, _kl_losses.shape, _latents.shape"
   ]
  },
  {
   "cell_type": "code",
   "execution_count": null,
   "metadata": {},
   "outputs": [],
   "source": [
    "_output_logits"
   ]
  },
  {
   "cell_type": "code",
   "execution_count": null,
   "metadata": {},
   "outputs": [],
   "source": [
    "_output_logits, _dec_target_idxs_do, _dec_mask_tokens_do, _recon_loss, _kl_losses, _ = sess.run([output_logits, dec_target_idxs_do, dec_mask_tokens_do, recon_loss, kl_losses, opt], feed_dict=feed_dict)\n"
   ]
  },
  {
   "cell_type": "code",
   "execution_count": null,
   "metadata": {},
   "outputs": [],
   "source": [
    "tf.reduce_max(output_logits, 2).eval(session=sess, feed_dict=feed_dict).shape"
   ]
  },
  {
   "cell_type": "code",
   "execution_count": null,
   "metadata": {},
   "outputs": [],
   "source": [
    "_output_logits.shape, _dec_target_idxs_do.shape, _dec_mask_tokens_do.shape"
   ]
  },
  {
   "cell_type": "code",
   "execution_count": null,
   "metadata": {},
   "outputs": [],
   "source": [
    "_logits = np.exp(_output_logits) / np.sum(np.exp(_output_logits), 2)[:, :, None]"
   ]
  },
  {
   "cell_type": "code",
   "execution_count": null,
   "metadata": {},
   "outputs": [],
   "source": [
    "_idxs = _dec_target_idxs_do"
   ]
  },
  {
   "cell_type": "code",
   "execution_count": null,
   "metadata": {},
   "outputs": [],
   "source": [
    "_losses = np.array([[-np.log(_logits[i, j, _idxs[i, j]]) for j in range(_idxs.shape[1])] for i in range(_idxs.shape[0])]) * _dec_mask_tokens_do"
   ]
  },
  {
   "cell_type": "code",
   "execution_count": null,
   "metadata": {},
   "outputs": [],
   "source": [
    "np.sum(_losses)/np.sum(_dec_mask_tokens_do)"
   ]
  },
  {
   "cell_type": "code",
   "execution_count": null,
   "metadata": {},
   "outputs": [],
   "source": [
    "_recon_loss"
   ]
  },
  {
   "cell_type": "code",
   "execution_count": null,
   "metadata": {},
   "outputs": [],
   "source": [
    "_kl_losses.shape"
   ]
  },
  {
   "cell_type": "code",
   "execution_count": null,
   "metadata": {},
   "outputs": [],
   "source": []
  }
 ],
 "metadata": {
  "kernelspec": {
   "display_name": "py36",
   "language": "python",
   "name": "py36"
  },
  "language_info": {
   "codemirror_mode": {
    "name": "ipython",
    "version": 3
   },
   "file_extension": ".py",
   "mimetype": "text/x-python",
   "name": "python",
   "nbconvert_exporter": "python",
   "pygments_lexer": "ipython3",
   "version": "3.6.9"
  },
  "toc": {
   "base_numbering": 1,
   "nav_menu": {},
   "number_sections": true,
   "sideBar": true,
   "skip_h1_title": false,
   "title_cell": "Table of Contents",
   "title_sidebar": "Contents",
   "toc_cell": false,
   "toc_position": {},
   "toc_section_display": true,
   "toc_window_display": false
  }
 },
 "nbformat": 4,
 "nbformat_minor": 2
}
