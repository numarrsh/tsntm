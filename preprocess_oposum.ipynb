{
 "cells": [
  {
   "cell_type": "code",
   "execution_count": 1,
   "metadata": {},
   "outputs": [],
   "source": [
    "import os\n",
    "import re\n",
    "import _pickle as cPickle\n",
    "from collections import OrderedDict, defaultdict, Counter\n",
    "\n",
    "import matplotlib\n",
    "%matplotlib inline\n",
    "import matplotlib.pyplot as plt\n",
    "\n",
    "import numpy as np\n",
    "import pandas as pd\n",
    "import tensorflow as tf\n",
    "from sklearn.feature_extraction.text import TfidfVectorizer\n",
    "from nltk import word_tokenize\n",
    "\n",
    "from data_structure import Instance"
   ]
  },
  {
   "cell_type": "markdown",
   "metadata": {},
   "source": [
    "# configure"
   ]
  },
  {
   "cell_type": "code",
   "execution_count": 2,
   "metadata": {},
   "outputs": [],
   "source": [
    "def del_all_flags(FLAGS):\n",
    "    flags_dict = FLAGS._flags()    \n",
    "    keys_list = [keys for keys in flags_dict]    \n",
    "    for keys in keys_list:\n",
    "        FLAGS.__delattr__(keys)\n",
    "\n",
    "del_all_flags(tf.flags.FLAGS)\n",
    "\n",
    "flags = tf.app.flags\n",
    "\n",
    "flags.DEFINE_string('data_path', 'data/bags/bags.trn', 'path of input data')\n",
    "\n",
    "flags.DEFINE_string('stopwords_path', 'data/stopwords_mallet.txt', 'path of input data')\n",
    "\n",
    "flags.DEFINE_string('ref_dir', 'data/bags/ref', 'directory of ref summaries')\n",
    "flags.DEFINE_string('output_path', 'data/bags/instances.pkl', 'path of output data')\n",
    "\n",
    "flags.DEFINE_integer('n_vocab', 50000, 'size of vocab')\n",
    "\n",
    "flags.DEFINE_string('f', '', 'kernel')\n",
    "\n",
    "config = flags.FLAGS"
   ]
  },
  {
   "cell_type": "code",
   "execution_count": 3,
   "metadata": {},
   "outputs": [],
   "source": [
    "# special tokens\n",
    "PAD = '<pad>' # This has a vocab id, which is used to pad the encoder input, decoder input and target sequence\n",
    "UNK = '<unk>' # This has a vocab id, which is used to represent out-of-vocabulary words\n",
    "BOS = '<p>' # This has a vocab id, which is used at the beginning of every decoder input sequence\n",
    "EOS = '</p>' # This has a vocab id, which is used at the end of untruncated target sequences\n",
    "dummy_tokens = [PAD, UNK, BOS, EOS]"
   ]
  },
  {
   "cell_type": "markdown",
   "metadata": {},
   "source": [
    "# load source"
   ]
  },
  {
   "cell_type": "code",
   "execution_count": 4,
   "metadata": {},
   "outputs": [],
   "source": [
    "with open(config.data_path, 'r') as f:\n",
    "    txt = f.read()"
   ]
  },
  {
   "cell_type": "code",
   "execution_count": 5,
   "metadata": {},
   "outputs": [],
   "source": [
    "docs = txt.split('\\n\\n')[:-1]"
   ]
  },
  {
   "cell_type": "code",
   "execution_count": 6,
   "metadata": {},
   "outputs": [],
   "source": [
    "def preprocess(line):\n",
    "    line = re.sub(r'EDU_BREAK ', ' ', line)\n",
    "    line = re.sub(r'[0-9]+.[0-9]+|[0-9]+,[0-9]+|[0-9]+', '#', line)\n",
    "    line = line.lower()\n",
    "    return line"
   ]
  },
  {
   "cell_type": "code",
   "execution_count": 7,
   "metadata": {},
   "outputs": [],
   "source": [
    "docs_lines = [doc.split('\\n') for doc in docs]\n",
    "data_dict_list = [{'review_idx': doc_lines[0].split(' ')[0], 'score': doc_lines[0].split(' ')[1], 'lines': [preprocess(line) for line in doc_lines[1:]]} for doc_lines in docs_lines]\n",
    "data_df = pd.DataFrame(data_dict_list)"
   ]
  },
  {
   "cell_type": "code",
   "execution_count": 8,
   "metadata": {},
   "outputs": [],
   "source": [
    "get_tokens = lambda lines: [word_tokenize(line.lower())[:-1] for line in lines]\n",
    "data_df['tokens'] = data_df['lines'].apply(get_tokens)\n",
    "filter_tokens = lambda tokens: [line_tokens for line_tokens in tokens if len(line_tokens) > 2]\n",
    "data_df['tokens'] = data_df['tokens'].apply(filter_tokens)"
   ]
  },
  {
   "cell_type": "code",
   "execution_count": 9,
   "metadata": {},
   "outputs": [
    {
     "data": {
      "image/png": "[encoded data removed]",
      "text/plain": [
       "<Figure size 576x288 with 1 Axes>"
      ]
     },
     "metadata": {
      "needs_background": "light"
     },
     "output_type": "display_data"
    }
   ],
   "source": [
    "data_df['tokens'].apply(lambda tokens: min([len(line) for line in tokens])).plot(bins=50, alpha=0.5, figsize=(8,4), kind='hist', range=(0, 100));"
   ]
  },
  {
   "cell_type": "code",
   "execution_count": 10,
   "metadata": {},
   "outputs": [],
   "source": [
    "data_df['doc_l'] = data_df['tokens'].apply(lambda tokens: len(tokens))\n",
    "data_df['max_sent_l'] = data_df['tokens'].apply(lambda tokens: max([len(line) for line in tokens]))"
   ]
  },
  {
   "cell_type": "code",
   "execution_count": 11,
   "metadata": {},
   "outputs": [],
   "source": [
    "data_df['item_idx'] = data_df['review_idx'].apply(lambda review_idx: review_idx.split('-')[0])\n",
    "data_df['doc'] = data_df['lines'].apply(lambda lines: ' '.join(lines))"
   ]
  },
  {
   "cell_type": "code",
   "execution_count": 12,
   "metadata": {},
   "outputs": [
    {
     "data": {
      "text/plain": [
       "42632"
      ]
     },
     "execution_count": 12,
     "metadata": {},
     "output_type": "execute_result"
    }
   ],
   "source": [
    "len(data_df)"
   ]
  },
  {
   "cell_type": "code",
   "execution_count": 13,
   "metadata": {
    "scrolled": true
   },
   "outputs": [
    {
     "data": {
      "image/png": "[encoded data removed]",
      "text/plain": [
       "<Figure size 576x288 with 1 Axes>"
      ]
     },
     "metadata": {
      "needs_background": "light"
     },
     "output_type": "display_data"
    }
   ],
   "source": [
    "data_df.plot(y=['doc_l'], bins=50, alpha=0.5, figsize=(8,4), kind='hist', range=(0, 50));"
   ]
  },
  {
   "cell_type": "code",
   "execution_count": 14,
   "metadata": {},
   "outputs": [
    {
     "data": {
      "text/plain": [
       "0.8981281666353913"
      ]
     },
     "execution_count": 14,
     "metadata": {},
     "output_type": "execute_result"
    }
   ],
   "source": [
    "np.sum(data_df['doc_l'] <= 10) / len(data_df)"
   ]
  },
  {
   "cell_type": "code",
   "execution_count": 15,
   "metadata": {},
   "outputs": [
    {
     "data": {
      "image/png": "[encoded data removed]",
      "text/plain": [
       "<Figure size 576x288 with 1 Axes>"
      ]
     },
     "metadata": {
      "needs_background": "light"
     },
     "output_type": "display_data"
    }
   ],
   "source": [
    "data_df.plot(y=['max_sent_l'], bins=50, alpha=0.5, figsize=(8,4), kind='hist', range=(0, 100));"
   ]
  },
  {
   "cell_type": "code",
   "execution_count": 16,
   "metadata": {},
   "outputs": [
    {
     "data": {
      "text/plain": [
       "0.8207684368549446"
      ]
     },
     "execution_count": 16,
     "metadata": {},
     "output_type": "execute_result"
    }
   ],
   "source": [
    "np.sum(data_df['max_sent_l'] <= 40) / len(data_df)"
   ]
  },
  {
   "cell_type": "code",
   "execution_count": 17,
   "metadata": {},
   "outputs": [
    {
     "data": {
      "text/plain": [
       "32518"
      ]
     },
     "execution_count": 17,
     "metadata": {},
     "output_type": "execute_result"
    }
   ],
   "source": [
    "filtered_data_df = data_df[(data_df['doc_l'] <= 10) & (data_df['max_sent_l'] <= 40)]\n",
    "len(filtered_data_df)"
   ]
  },
  {
   "cell_type": "code",
   "execution_count": 18,
   "metadata": {},
   "outputs": [],
   "source": [
    "data_df['n_tokens'] = data_df['tokens'].apply(lambda tokens: len([token for line in tokens for token in line]))"
   ]
  },
  {
   "cell_type": "code",
   "execution_count": 19,
   "metadata": {},
   "outputs": [
    {
     "data": {
      "image/png": "[encoded data removed]",
      "text/plain": [
       "<Figure size 576x288 with 1 Axes>"
      ]
     },
     "metadata": {
      "needs_background": "light"
     },
     "output_type": "display_data"
    }
   ],
   "source": [
    "data_df.plot(y=['n_tokens'], bins=50, alpha=0.5, figsize=(8,4), kind='hist', range=(0, 250));"
   ]
  },
  {
   "cell_type": "markdown",
   "metadata": {},
   "source": [
    "# split data_df"
   ]
  },
  {
   "cell_type": "code",
   "execution_count": 20,
   "metadata": {
    "scrolled": true
   },
   "outputs": [
    {
     "data": {
      "text/plain": [
       "10"
      ]
     },
     "execution_count": 20,
     "metadata": {},
     "output_type": "execute_result"
    }
   ],
   "source": [
    "test_item_idxs = []\n",
    "item_idx_summaries = defaultdict(list)\n",
    "for fname in os.listdir(config.ref_dir):\n",
    "    test_item_idx = re.search(r'bags_and_cases.([A-Z0-9]+).*.all.txt', fname).group(1)\n",
    "    test_item_idxs.append(test_item_idx)\n",
    "    \n",
    "    fpath = os.path.join(config.ref_dir, fname)\n",
    "    with open(fpath, 'r') as f:\n",
    "        summary = f.read()\n",
    "    item_idx_summaries[test_item_idx].append(summary)\n",
    "test_item_idxs = set(test_item_idxs)\n",
    "len(test_item_idxs)"
   ]
  },
  {
   "cell_type": "code",
   "execution_count": 21,
   "metadata": {},
   "outputs": [
    {
     "data": {
      "text/plain": [
       "2031"
      ]
     },
     "execution_count": 21,
     "metadata": {},
     "output_type": "execute_result"
    }
   ],
   "source": [
    "item_idxs = set(data_df['item_idx'])\n",
    "train_dev_item_idxs = list(item_idxs - test_item_idxs)\n",
    "len(train_dev_item_idxs)"
   ]
  },
  {
   "cell_type": "code",
   "execution_count": 33,
   "metadata": {},
   "outputs": [
    {
     "data": {
      "text/plain": [
       "(31807, 295, 416)"
      ]
     },
     "execution_count": 33,
     "metadata": {},
     "output_type": "execute_result"
    }
   ],
   "source": [
    "test_df = filtered_data_df[filtered_data_df['item_idx'].apply(lambda item_idx: item_idx in test_item_idxs)]\n",
    "n_valid = int(len(train_dev_item_idxs) * 0.01)\n",
    "valid_df = filtered_data_df[filtered_data_df['item_idx'].apply(lambda item_idx: item_idx in train_dev_item_idxs[:n_valid])]\n",
    "train_df = filtered_data_df[filtered_data_df['item_idx'].apply(lambda item_idx: item_idx in train_dev_item_idxs[n_valid:])]\n",
    "len(train_df), len(valid_df), len(test_df)"
   ]
  },
  {
   "cell_type": "code",
   "execution_count": 61,
   "metadata": {},
   "outputs": [
    {
     "data": {
      "text/plain": [
       "{'B00171V5PU',\n",
       " 'B004QQY2JO',\n",
       " 'B005GR6ORU',\n",
       " 'B008QZ6L2W',\n",
       " 'B001BP432E',\n",
       " 'B00359EXYM',\n",
       " 'B001I25ZWM',\n",
       " 'B000GHIBCG',\n",
       " 'B00997OHIG',\n",
       " 'B0019M4FUY',\n",
       " 'B001N44UKI',\n",
       " 'B000P17188',\n",
       " 'B002HMCQZQ',\n",
       " 'B007O0GGIE',\n",
       " 'B008CR2J8E',\n",
       " 'B001E25JOA',\n",
       " 'B0052YEUT6',\n",
       " 'B005UIQNRQ',\n",
       " 'B005WLSQ4Y',\n",
       " 'B0058PYKNK',\n",
       " 'B0065V3VHW',\n",
       " 'B0015YMWX8',\n",
       " 'B000MKKTKE',\n",
       " 'B003S6TWFC',\n",
       " 'B001U5X650',\n",
       " 'B006WCPNG6',\n",
       " 'B002MAPRZY',\n",
       " 'B007X3VDU8',\n",
       " 'B00JO6UGFU',\n",
       " 'B002V9R1NM',\n",
       " 'B001AXN3XM',\n",
       " 'B00376ILO6',\n",
       " 'B00AZW33A2',\n",
       " 'B009YGEUWU',\n",
       " 'B0075ANZWS',\n",
       " 'B0058N1U12',\n",
       " 'B001PORRS8',\n",
       " 'B000FIH0ZA',\n",
       " 'B0001AUB1W',\n",
       " 'B00HUWDXLE',\n",
       " 'B0018MRG5G',\n",
       " 'B004INNC64',\n",
       " 'B00AOW1EKE',\n",
       " 'B0033KPVKS',\n",
       " 'B004C4Z11S',\n",
       " 'B001OMGXO0',\n",
       " 'B00BI5AFMO',\n",
       " 'B0057POYU0',\n",
       " 'B0051CWKXM',\n",
       " 'B002WLV29S',\n",
       " 'B0019M9EQ4',\n",
       " 'B00BJ7DQMC',\n",
       " 'B00DE8EDXU',\n",
       " 'B00C95AUHM',\n",
       " 'B0029KWJXU',\n",
       " 'B003N5TSI4',\n",
       " 'B007B5VDBM',\n",
       " 'B00540CHNO',\n",
       " 'B004CHNMPW',\n",
       " 'B00GH39GLS',\n",
       " 'B003K3T6JA',\n",
       " 'B00A7EQQ3O',\n",
       " 'B004054700',\n",
       " 'B003W9B4H4',\n",
       " 'B008CY1NDY',\n",
       " 'B000VMPEZI',\n",
       " 'B00CGWNKVQ',\n",
       " 'B000HA4EX2',\n",
       " 'B000R5IE9M',\n",
       " 'B004Z5363O',\n",
       " 'B002WLKBW2',\n",
       " 'B002JM1S62',\n",
       " 'B003FSTAS2',\n",
       " 'B003ZH4PK6',\n",
       " 'B000MKKTJK',\n",
       " 'B007TNX04O',\n",
       " 'B002N4YB1U',\n",
       " 'B0050Z3P16',\n",
       " 'B004UBULPO',\n",
       " 'B004OUNYR8',\n",
       " 'B004UITAYU',\n",
       " 'B0002IGNMO',\n",
       " 'B003WUBMPC',\n",
       " 'B0007MYC2I',\n",
       " 'B001M4HY66',\n",
       " 'B001N7NIQW',\n",
       " 'B00AG308ZS',\n",
       " 'B0076D099Q',\n",
       " 'B003U9RHM2',\n",
       " 'B005O1LYXW',\n",
       " 'B005GJ04YC',\n",
       " 'B004CHS86K',\n",
       " 'B002QFZTFS',\n",
       " 'B000WINIKY',\n",
       " 'B001LK6Y8A',\n",
       " 'B00HCA572W',\n",
       " 'B004OXU4ZU',\n",
       " 'B003QCKHI4',\n",
       " 'B0023B1242',\n",
       " 'B0015OHJV8',\n",
       " 'B003E4TV9A',\n",
       " 'B0058MKRBC',\n",
       " 'B008D1N1JU',\n",
       " 'B000MRY1RE',\n",
       " 'B009GGS4AW',\n",
       " 'B000FLNS80',\n",
       " 'B007ABANFY',\n",
       " 'B008OKXXWA',\n",
       " 'B003STREM2',\n",
       " 'B00EEBS25Q',\n",
       " 'B0018GCLIO',\n",
       " 'B0076D03VU',\n",
       " 'B002HREI34',\n",
       " 'B0044DEKAK',\n",
       " 'B0068YOATO',\n",
       " 'B0019M7WFY',\n",
       " 'B003RDLT5W',\n",
       " 'B0018RWDVI',\n",
       " 'B007ODREVE',\n",
       " 'B006LTMCSM',\n",
       " 'B006J6G4OU',\n",
       " 'B0026OI4G0',\n",
       " 'B003SUC1T2',\n",
       " 'B001E225V0',\n",
       " 'B0029Z9RN0',\n",
       " 'B0019M7WCW',\n",
       " 'B004FVMKV2',\n",
       " 'B003NZ78KO',\n",
       " 'B000RSKSCA',\n",
       " 'B005WPD05U',\n",
       " 'B001LM66BS',\n",
       " 'B000GYI76Y',\n",
       " 'B0014K4YUW',\n",
       " 'B00DYWQX8E',\n",
       " 'B007M4Y4QI',\n",
       " 'B003N83A94',\n",
       " 'B00FA2WQMS',\n",
       " 'B00DD0QEBI',\n",
       " 'B00GSCWSS6',\n",
       " 'B000DLBAJG',\n",
       " 'B003O5HR40',\n",
       " 'B009YP1K7Y',\n",
       " 'B0006TI9X0',\n",
       " 'B001T0HFNA',\n",
       " 'B0060QJGDK',\n",
       " 'B003IQBXIQ',\n",
       " 'B002B4JLKI',\n",
       " 'B002DEM9HI',\n",
       " 'B0029L2LOQ',\n",
       " 'B004AB35NY',\n",
       " 'B004AKJVDI',\n",
       " 'B004GJ2C1Q',\n",
       " 'B003S6TXJW',\n",
       " 'B00EKG4GCS',\n",
       " 'B008NSEAPM',\n",
       " 'B004IC0XOO',\n",
       " 'B0050DCJWE',\n",
       " 'B002TOJXMQ',\n",
       " 'B004Z9XGR6',\n",
       " 'B001PE4IQ2',\n",
       " 'B005MR5GY6',\n",
       " 'B00B5HKWPK',\n",
       " 'B001H33VW8',\n",
       " 'B000GWHI20',\n",
       " 'B0019M6GLK',\n",
       " 'B001AJFVN6',\n",
       " 'B008YF24KW',\n",
       " 'B0095E4OYK',\n",
       " 'B000NOP9EA',\n",
       " 'B000QG0ZG2',\n",
       " 'B000EIXX4S',\n",
       " 'B000P9CWRK',\n",
       " 'B001FWYLN4',\n",
       " 'B001IG8YKI',\n",
       " 'B007ODSTXG',\n",
       " 'B0060RRPUK',\n",
       " 'B003I876XU',\n",
       " 'B005DRTZ88',\n",
       " 'B002KXRS9Q',\n",
       " 'B001F7FMUA',\n",
       " 'B001HEI5PA',\n",
       " 'B006DIK6P2',\n",
       " 'B00GHYF4GS',\n",
       " 'B002VBEPQG',\n",
       " 'B0006TI9WQ',\n",
       " 'B00CJUINUI',\n",
       " 'B000X2RNO6',\n",
       " 'B009MUZJQE',\n",
       " 'B009D4HI8G',\n",
       " 'B00HUW9KBG',\n",
       " 'B005QXX35K',\n",
       " 'B002EL4MCU',\n",
       " 'B006IIXXPW',\n",
       " 'B001JQMEAS',\n",
       " 'B000EE9D00',\n",
       " 'B002NU5O1K',\n",
       " 'B000J4HC4E',\n",
       " 'B00H3AVPSQ',\n",
       " 'B003CFAHQ2',\n",
       " 'B0067XTV4K',\n",
       " 'B002Q7ILDS',\n",
       " 'B0016ASDKC',\n",
       " 'B007I86K10',\n",
       " 'B003NVMDWG',\n",
       " 'B002TNRAH2',\n",
       " 'B006GCK4IY',\n",
       " 'B008M7OEB4',\n",
       " 'B002SXMRM6',\n",
       " 'B0036S3GPO',\n",
       " 'B001H9O1EE',\n",
       " 'B009NE78Z4',\n",
       " 'B00359EXY2',\n",
       " 'B0015YGNZG',\n",
       " 'B001LUQD1S',\n",
       " 'B000VW6KXS',\n",
       " 'B007U3G9CS',\n",
       " 'B009DKC6NW',\n",
       " 'B000GHHLZ4',\n",
       " 'B001D8E89M',\n",
       " 'B0018NGV06',\n",
       " 'B001L2WCE8',\n",
       " 'B000I76YEQ',\n",
       " 'B0050DIVSK',\n",
       " 'B006JXA4LM',\n",
       " 'B002KG0HMS',\n",
       " 'B004U3IPFK',\n",
       " 'B001940MOU',\n",
       " 'B004B0D2P0',\n",
       " 'B000U3TL5M',\n",
       " 'B002ISTP12',\n",
       " 'B002KAMD9Y',\n",
       " 'B00CFXAAS2',\n",
       " 'B00DOT2N86',\n",
       " 'B000H86WUC',\n",
       " 'B009MUZ96O',\n",
       " 'B0017JA59E',\n",
       " 'B006HYRACE',\n",
       " 'B007P5XHQW',\n",
       " 'B003AKDH5C',\n",
       " 'B001WZSTKK',\n",
       " 'B00C47X32E',\n",
       " 'B007AJE4ZG',\n",
       " 'B004FH62GU',\n",
       " 'B009IF9GX0',\n",
       " 'B004PAO6RY',\n",
       " 'B001PIDE7M',\n",
       " 'B001F3DUD0',\n",
       " 'B0041ITNMS',\n",
       " 'B0001OTLXC',\n",
       " 'B004PAQ7LM',\n",
       " 'B003WU9MVS',\n",
       " 'B000FD9YB8',\n",
       " 'B004CR7TE2',\n",
       " 'B005WLSD60',\n",
       " 'B003BWWLWY',\n",
       " 'B007BYLMB4',\n",
       " 'B007JL5DXW',\n",
       " 'B0035F275S',\n",
       " 'B00EMSVG54',\n",
       " 'B000OY71MM',\n",
       " 'B001LNSTU8',\n",
       " 'B00008MOPJ',\n",
       " 'B004I6MAX2',\n",
       " 'B00064GBEE',\n",
       " 'B0092TLPVI',\n",
       " 'B0015YOVDM',\n",
       " 'B003W9B4HO',\n",
       " 'B007RHU7F2',\n",
       " 'B005KSZBOC',\n",
       " 'B002PAQXDQ',\n",
       " 'B00BHMSREG',\n",
       " 'B0019M9ENC',\n",
       " 'B003SU8H7W',\n",
       " 'B002TOJXK8',\n",
       " 'B00359EXXI',\n",
       " 'B000KWYP4U',\n",
       " 'B0050F3R3M',\n",
       " 'B006SRYI9S',\n",
       " 'B006JVMTEE',\n",
       " 'B00EKE4YEK',\n",
       " 'B00DIBTDSI',\n",
       " 'B00E60PZFK',\n",
       " 'B005D2C4KE',\n",
       " 'B000TG8GOM',\n",
       " 'B007X74HMA',\n",
       " 'B00BZC0LR4',\n",
       " 'B00HU58212',\n",
       " 'B000O73LXW',\n",
       " 'B005D87TLC',\n",
       " 'B0019JZBJG',\n",
       " 'B00HD257JC',\n",
       " 'B0090D2QZU',\n",
       " 'B00418QLNW',\n",
       " 'B000I78AU2',\n",
       " 'B00352T6UU',\n",
       " 'B000RECQOM',\n",
       " 'B001EHJ4CS',\n",
       " 'B005HIQSGA',\n",
       " 'B00006HXBG',\n",
       " 'B00564Y1U0',\n",
       " 'B00ATHNEVQ',\n",
       " 'B000UE8JWM',\n",
       " 'B004P4NZ7C',\n",
       " 'B001O8045S',\n",
       " 'B005PKX4GW',\n",
       " 'B0058UPL0Q',\n",
       " 'B003SU3JXO',\n",
       " 'B004PEI9JG',\n",
       " 'B00AN5J3B4',\n",
       " 'B009XJYYB0',\n",
       " 'B004799SLW',\n",
       " 'B001Q3MA80',\n",
       " 'B000V4TO7A',\n",
       " 'B002TOJXOY',\n",
       " 'B003U80YSM',\n",
       " 'B0061LP0XY',\n",
       " 'B0009WKMT8',\n",
       " 'B000S37RQO',\n",
       " 'B001UE6LYO',\n",
       " 'B00GJZC0KI',\n",
       " 'B002ZTGTYK',\n",
       " 'B003IXEPPM',\n",
       " 'B000AAM1XO',\n",
       " 'B003XLQX8G',\n",
       " 'B005T2E3UC',\n",
       " 'B002NU5O3I',\n",
       " 'B0019GMLOW',\n",
       " 'B0019M9ENW',\n",
       " 'B003YJ91MM',\n",
       " 'B004WIUWOA',\n",
       " 'B003VCDZS8',\n",
       " 'B00B9FWDG4',\n",
       " 'B005OG7GV6',\n",
       " 'B004EWB9EG',\n",
       " 'B005HTZEG4',\n",
       " 'B000EGM3PU',\n",
       " 'B005BKMHKU',\n",
       " 'B0017Q4ZXO',\n",
       " 'B00452UXEW',\n",
       " 'B001IEXVNK',\n",
       " 'B000HA8XR0',\n",
       " 'B000OTLU2O',\n",
       " 'B00A27GGM2',\n",
       " 'B001M4HXT4',\n",
       " 'B004L9EMW8',\n",
       " 'B00B4HQOSK',\n",
       " 'B00ESAZQV6',\n",
       " 'B00FL33C3S',\n",
       " 'B005A8LGMI',\n",
       " 'B004XH0YVG',\n",
       " 'B002LF2PQO',\n",
       " 'B0050Q0JA0',\n",
       " 'B002XTBP6Y',\n",
       " 'B002PHLZXC',\n",
       " 'B009WDWX1U',\n",
       " 'B003PNFIKG',\n",
       " 'B001N7QNDM',\n",
       " 'B001N44UDK',\n",
       " 'B004J13VW0',\n",
       " 'B000FFLYAK',\n",
       " 'B001CVL0VO',\n",
       " 'B003S8WVKS',\n",
       " 'B000E228GI',\n",
       " 'B000K5XIGI',\n",
       " 'B007XJUE5W',\n",
       " 'B002NU5RM6',\n",
       " 'B006427POC',\n",
       " 'B004GJ88DW',\n",
       " 'B002TTKC2G',\n",
       " 'B004ASB7PK',\n",
       " 'B000GHGFXS',\n",
       " 'B004ZC2JFS',\n",
       " 'B0047GKTOU',\n",
       " 'B00H5VABEM',\n",
       " 'B0042UCTVC',\n",
       " 'B001XZHP5E',\n",
       " 'B0040HG5VC',\n",
       " 'B005HTXYDO',\n",
       " 'B000GHED96',\n",
       " 'B001KC0818',\n",
       " 'B001D8J7CA',\n",
       " 'B001CSO34S',\n",
       " 'B00009LI6N',\n",
       " 'B005H4GO0E',\n",
       " 'B007M4YFDU',\n",
       " 'B000NPMLK4',\n",
       " 'B004L28WCQ',\n",
       " 'B003VGVJD2',\n",
       " 'B0040DHAKG',\n",
       " 'B0016ODL4G',\n",
       " 'B007Z92RH8',\n",
       " 'B003F74YKC',\n",
       " 'B00HUWASC6',\n",
       " 'B003S8STAO',\n",
       " 'B0091INBU8',\n",
       " 'B001LUSJRO',\n",
       " 'B0057Y0TKU',\n",
       " 'B002DWFS7I',\n",
       " 'B007B5SCTS',\n",
       " 'B000XFELDE',\n",
       " 'B003EYVEVS',\n",
       " 'B000OWX0DI',\n",
       " 'B002WRU0Q8',\n",
       " 'B000F2HGWI',\n",
       " 'B001M4HXSU',\n",
       " 'B000OWX0BA',\n",
       " 'B000MY5MJS',\n",
       " 'B001M4HY5W',\n",
       " 'B002VV1EDS',\n",
       " 'B001OC5JKY',\n",
       " 'B004MF536K',\n",
       " 'B000BYNXRW',\n",
       " 'B000MY4EN8',\n",
       " 'B005EUY9G2',\n",
       " 'B002MXX2RG',\n",
       " 'B003WE9MKK',\n",
       " 'B00HXAV7LG',\n",
       " 'B004CB7VAU',\n",
       " 'B001XZRTFU',\n",
       " 'B00FYNP9AY',\n",
       " 'B005OTPPGG',\n",
       " 'B0029L6GY2',\n",
       " 'B00008ELLN',\n",
       " 'B001FR4ZP8',\n",
       " 'B003HLGEAY',\n",
       " 'B00CHIQ5OS',\n",
       " 'B002NU5RNK',\n",
       " 'B00BW0QBO6',\n",
       " 'B00411H7XC',\n",
       " 'B001N44UGW',\n",
       " 'B001FWYLMA',\n",
       " 'B009MV38C0',\n",
       " 'B008VLOBCI',\n",
       " 'B002ZE7GSI',\n",
       " 'B005EBLYAK',\n",
       " 'B00714E9WS',\n",
       " 'B0085B772A',\n",
       " 'B0049XLI00',\n",
       " 'B004C9JPUQ',\n",
       " 'B008C3DEXM',\n",
       " 'B002BYLXNG',\n",
       " 'B0019M4FZ4',\n",
       " 'B0019M6GRO',\n",
       " 'B0019M9EQO',\n",
       " 'B009EZM622',\n",
       " 'B003NLOFRW',\n",
       " 'B000227PLS',\n",
       " 'B00A9XL53E',\n",
       " 'B0024F9YF6',\n",
       " 'B006NNWZSI',\n",
       " 'B003WMOMZC',\n",
       " 'B00JJWH98Q',\n",
       " 'B004K302SI',\n",
       " 'B001R1X6OS',\n",
       " 'B003OGIBYE',\n",
       " 'B000OFXKLM',\n",
       " 'B000NGWPV8',\n",
       " 'B009RH45ZS',\n",
       " 'B000GWLGLE',\n",
       " 'B00CR8H574',\n",
       " 'B000MN5XDE',\n",
       " 'B0035F26VS',\n",
       " 'B0049IEEH4',\n",
       " 'B007T8S490',\n",
       " 'B0019M6GQA',\n",
       " 'B002TG3NTS',\n",
       " 'B0028H0LIY',\n",
       " 'B001F7KXB8',\n",
       " 'B00006I5V3',\n",
       " 'B002JCAF0C',\n",
       " 'B008C3DN4W',\n",
       " 'B00579WCKK',\n",
       " 'B005FU4IE4',\n",
       " 'B008ON0X48',\n",
       " 'B0038KLD50',\n",
       " 'B00001OPGT',\n",
       " 'B003ICXCCK',\n",
       " 'B003RDR2VC',\n",
       " 'B008N3GWGM',\n",
       " 'B004J22PN0',\n",
       " 'B004FH4J06',\n",
       " 'B000B88UF8',\n",
       " 'B000GBHUR4',\n",
       " 'B003YHEGC4',\n",
       " 'B0017U87TS',\n",
       " 'B008FU1HE0',\n",
       " 'B001T9NGMU',\n",
       " 'B0093Y7LPQ',\n",
       " 'B002T45WXU',\n",
       " 'B000NX1Y8G',\n",
       " 'B0060RNJIC',\n",
       " 'B008HU9OKW',\n",
       " 'B00286O398',\n",
       " 'B00EPWXUT2',\n",
       " 'B0053KVQI2',\n",
       " 'B000OWWZYI',\n",
       " 'B003WHEV0I',\n",
       " 'B007XJUDR6',\n",
       " 'B005ERO7VC',\n",
       " 'B0054210JE',\n",
       " 'B003H4Q032',\n",
       " 'B0054CFKR2',\n",
       " 'B004GSEYSG',\n",
       " 'B007PPZ256',\n",
       " 'B002JAIMR2',\n",
       " 'B0042UGIHS',\n",
       " 'B007PYMLVU',\n",
       " 'B0085DZRDE',\n",
       " 'B001EHO842',\n",
       " 'B0058N7P2A',\n",
       " 'B006IKGHYO',\n",
       " 'B00CRT53YU',\n",
       " 'B001CRBZI6',\n",
       " 'B00292BT4I',\n",
       " 'B00AWDZ07S',\n",
       " 'B003FSTALO',\n",
       " 'B000GC5UXO',\n",
       " 'B0014HYD8S',\n",
       " 'B00061NL54',\n",
       " 'B0083OXN1I',\n",
       " 'B000OY71LS',\n",
       " 'B007Z92RGE',\n",
       " 'B0014L7GIS',\n",
       " 'B008MFQARW',\n",
       " 'B00B0177LS',\n",
       " 'B008RJU0TM',\n",
       " 'B002UHKR6I',\n",
       " 'B00139JZWQ',\n",
       " 'B00GJLI5O2',\n",
       " 'B007I853KO',\n",
       " 'B003V863TU',\n",
       " 'B0050F3RHS',\n",
       " 'B00007BI0C',\n",
       " 'B005K1H48U',\n",
       " 'B002C5IUAS',\n",
       " 'B003WH72PY',\n",
       " '8915067517',\n",
       " 'B000051SFJ',\n",
       " 'B008PV81KC',\n",
       " 'B0076D04GY',\n",
       " 'B007E2M3Q6',\n",
       " 'B0076D07TI',\n",
       " 'B001NJOMUG',\n",
       " 'B002TOJXLW',\n",
       " 'B003UYT4GO',\n",
       " 'B008DWCPP0',\n",
       " 'B0002LCV4U',\n",
       " 'B003ZDNZ2E',\n",
       " 'B000II08R4',\n",
       " 'B0043IL9VO',\n",
       " 'B000H17ZZU',\n",
       " 'B001TK6752',\n",
       " 'B007T5CXWW',\n",
       " 'B00B5RAJ9E',\n",
       " 'B002O0KQDU',\n",
       " 'B000JJSQ3A',\n",
       " 'B0096XI0EK',\n",
       " 'B000VS9R2I',\n",
       " 'B0029SC720',\n",
       " 'B003VIWI76',\n",
       " 'B003OGKG1K',\n",
       " 'B0029ZA4Y6',\n",
       " 'B0043NTOKC',\n",
       " 'B001N44UCQ',\n",
       " 'B00BP5N2BS',\n",
       " 'B005G88RC4',\n",
       " 'B007GMPZ9Q',\n",
       " 'B0097338QO',\n",
       " 'B004UR1670',\n",
       " 'B00008Z1PK',\n",
       " 'B001CZF31S',\n",
       " 'B00193LOFM',\n",
       " 'B000NRTCCM',\n",
       " 'B004JKNFQ8',\n",
       " 'B00H939NXQ',\n",
       " 'B003S8RPZ4',\n",
       " 'B000VOC90Y',\n",
       " 'B009GMO3FQ',\n",
       " 'B00DW4PMZY',\n",
       " 'B004VD7NB6',\n",
       " 'B001L5U1GQ',\n",
       " 'B00997NC7S',\n",
       " 'B007TSTSJ0',\n",
       " 'B001NJSC0M',\n",
       " 'B00369Q8H6',\n",
       " 'B003OGNXZQ',\n",
       " 'B003ZZYAIA',\n",
       " 'B00CEJJGJQ',\n",
       " 'B005D81JFY',\n",
       " 'B00275EV9M',\n",
       " 'B007I82578',\n",
       " 'B001OP35BQ',\n",
       " 'B007CZIBV6',\n",
       " 'B000MY4EPQ',\n",
       " 'B007G2CISW',\n",
       " 'B004FOJPA8',\n",
       " 'B003POA7CY',\n",
       " 'B0081AKDL2',\n",
       " 'B004PW6D3C',\n",
       " 'B00359EXYW',\n",
       " 'B00AZUKGWC',\n",
       " 'B005J2DNHG',\n",
       " 'B002RSQ732',\n",
       " 'B00BXO6NS0',\n",
       " 'B001832NDA',\n",
       " 'B0029L6FZC',\n",
       " 'B006DJ5XYU',\n",
       " 'B000MKKTO0',\n",
       " 'B000YIYQWQ',\n",
       " 'B00186LQNK',\n",
       " 'B00D2IVZPG',\n",
       " 'B0096X9ITQ',\n",
       " 'B00GYQYY4W',\n",
       " 'B004NELCLU',\n",
       " 'B008DWEETK',\n",
       " 'B0006U6G8Y',\n",
       " 'B0050DIGOY',\n",
       " 'B004QZB1DA',\n",
       " 'B002NU5O24',\n",
       " 'B004GCIYXS',\n",
       " 'B0044VLZ82',\n",
       " 'B005YQY5TM',\n",
       " 'B0043TB6HA',\n",
       " 'B00CW7GJOU',\n",
       " 'B007FTEO1A',\n",
       " 'B003SEUIYS',\n",
       " 'B004M8AMWM',\n",
       " 'B0016ALWRS',\n",
       " 'B000R6QU3S',\n",
       " 'B008AL94XA',\n",
       " 'B007R7AJ50',\n",
       " 'B008NSFD9Y',\n",
       " 'B000VB7EFW',\n",
       " 'B000FQBDDC',\n",
       " 'B004NY9UZA',\n",
       " 'B000MULXPO',\n",
       " 'B000I2T5JM',\n",
       " 'B0067XTV6S',\n",
       " 'B005J2EFRS',\n",
       " 'B004UBU42Y',\n",
       " 'B006U3OWTQ',\n",
       " 'B003F7C2EM',\n",
       " 'B002G4UIW8',\n",
       " 'B0069VZQN0',\n",
       " 'B003B3N258',\n",
       " 'B007MCN7JU',\n",
       " 'B006XYZMHS',\n",
       " 'B000S36814',\n",
       " 'B007X3D8NI',\n",
       " 'B003GTYZK8',\n",
       " 'B002IY4V9C',\n",
       " 'B005IGZ0RY',\n",
       " 'B000NGUY6G',\n",
       " 'B0080EW4MU',\n",
       " 'B003F8XBBO',\n",
       " 'B004VD7JEM',\n",
       " 'B007BYV6I8',\n",
       " 'B00BUHRUQY',\n",
       " 'B000FREJQO',\n",
       " 'B007N6OED8',\n",
       " 'B004K87GAK',\n",
       " 'B004L6M84A',\n",
       " 'B005YQY3AS',\n",
       " 'B002ZFBG1U',\n",
       " 'B0057ZCWQI',\n",
       " 'B003N495HY',\n",
       " 'B0072N4TNW',\n",
       " 'B003WU4FQU',\n",
       " 'B000BYNXVS',\n",
       " 'B008BBOCO0',\n",
       " 'B00H4OWPE4',\n",
       " 'B000X4WFOW',\n",
       " 'B000MKKTN6',\n",
       " 'B001L2YDZ4',\n",
       " 'B006ZZ2LUQ',\n",
       " 'B00858AXQ0',\n",
       " 'B000QY6D24',\n",
       " 'B00180TDLI',\n",
       " 'B000JEDY3M',\n",
       " 'B003N3CO1Y',\n",
       " 'B0058N5TD2',\n",
       " 'B004W317GW',\n",
       " 'B0098R06SC',\n",
       " 'B00CKJK17Q',\n",
       " 'B001DJ1M4A',\n",
       " 'B008SI709K',\n",
       " 'B0067VGTTW',\n",
       " 'B0051WYP5S',\n",
       " 'B005T4ZBBK',\n",
       " 'B0007Q3K0O',\n",
       " 'B00097I9MU',\n",
       " 'B0096VWSCC',\n",
       " 'B00IMFP4EM',\n",
       " 'B003HOR1QM',\n",
       " 'B00020BJA8',\n",
       " 'B006H4X52S',\n",
       " 'B000MTDWD6',\n",
       " 'B005PQ76QK',\n",
       " 'B003BA3MSI',\n",
       " 'B000GDI2EC',\n",
       " 'B002WC8YRK',\n",
       " 'B0040BTZ9W',\n",
       " 'B0055YB5IC',\n",
       " 'B005OGZLGI',\n",
       " 'B0015YIRNM',\n",
       " 'B005XDFCFC',\n",
       " 'B00110KAIU',\n",
       " 'B0018JB9JI',\n",
       " 'B009CD163Q',\n",
       " 'B000U1UQ6W',\n",
       " 'B0002UED38',\n",
       " 'B004Z4LFQA',\n",
       " 'B00336EFFY',\n",
       " 'B003VCDZM4',\n",
       " 'B000I05DM2',\n",
       " 'B00453XIQQ',\n",
       " 'B0029L047W',\n",
       " 'B00AJJKUYI',\n",
       " 'B000B8576S',\n",
       " 'B00EDQHQEK',\n",
       " 'B004FHFCAM',\n",
       " 'B004PAL91A',\n",
       " 'B00CRT67WC',\n",
       " 'B003WRPGAM',\n",
       " 'B004LRO7GQ',\n",
       " 'B0012KA7O6',\n",
       " 'B002NSDN0G',\n",
       " 'B00HD1KEXM',\n",
       " 'B00CCX7UAQ',\n",
       " 'B0000TSJU4',\n",
       " 'B004Z4JF94',\n",
       " 'B0087TVYP6',\n",
       " 'B00BHDX6XM',\n",
       " 'B009DOOVUY',\n",
       " 'B001H5SUCW',\n",
       " 'B000JKQ4SI',\n",
       " 'B006RDIKQA',\n",
       " 'B00061NL86',\n",
       " 'B002O0KAWW',\n",
       " 'B0065V3J60',\n",
       " 'B004MEXBFG',\n",
       " 'B0076D048C',\n",
       " 'B000GLHQ14',\n",
       " 'B0037SNTJQ',\n",
       " 'B00BZC07K0',\n",
       " 'B007G24SAI',\n",
       " 'B003LPUU3I',\n",
       " 'B0052ZR6DC',\n",
       " 'B0016HS56W',\n",
       " 'B000K8IO0K',\n",
       " 'B006CV0AA6',\n",
       " 'B00275G16I',\n",
       " 'B003HV1W7E',\n",
       " 'B00358P3YM',\n",
       " 'B004YIFKRM',\n",
       " 'B002VAZA7K',\n",
       " 'B00DHRSXKW',\n",
       " 'B005HEUWFW',\n",
       " 'B00BHY5OZY',\n",
       " 'B004TNQI32',\n",
       " 'B003S72UFU',\n",
       " 'B002NU5O2O',\n",
       " 'B0014K4YUM',\n",
       " 'B0033JGJDW',\n",
       " 'B0032ANC5U',\n",
       " 'B008O0YSFG',\n",
       " 'B0015V0GZC',\n",
       " 'B009ZP4QAQ',\n",
       " 'B00F8LQBXG',\n",
       " 'B000FRDD5C',\n",
       " 'B0001FF9C8',\n",
       " 'B002BRZH4O',\n",
       " 'B008CGQH4W',\n",
       " 'B00352NOFS',\n",
       " 'B0015I8MPG',\n",
       " 'B007N65U9U',\n",
       " 'B00008ELLE',\n",
       " 'B0036V5F3W',\n",
       " 'B0050JCO9G',\n",
       " 'B001JE3P5S',\n",
       " 'B009V17TH6',\n",
       " 'B004W3SNPU',\n",
       " 'B00355L00G',\n",
       " 'B002TG3NU2',\n",
       " 'B003TTSRKE',\n",
       " 'B008FVWZE0',\n",
       " 'B007X3D9BY',\n",
       " 'B002CJ6EHA',\n",
       " 'B009DO4Z4Q',\n",
       " 'B003LX8DYI',\n",
       " 'B002N2ZCZG',\n",
       " 'B001TBSMKE',\n",
       " 'B003M05LHC',\n",
       " 'B001DCDYHA',\n",
       " 'B00BHHBM9S',\n",
       " 'B0044XU310',\n",
       " 'B00274RP2I',\n",
       " 'B002WOD824',\n",
       " 'B00HX3WBFE',\n",
       " 'B001GT4AA0',\n",
       " 'B004AWX9MU',\n",
       " 'B000BYSUPW',\n",
       " 'B00DE8KIBQ',\n",
       " 'B0014K0OSI',\n",
       " 'B004A9BY52',\n",
       " 'B0060RRQ0Y',\n",
       " 'B003G2Z01S',\n",
       " 'B001M4HY5M',\n",
       " 'B009RV2B5A',\n",
       " 'B000IOM3TO',\n",
       " 'B00005T3H5',\n",
       " 'B004LWL9A8',\n",
       " 'B0065V3VUE',\n",
       " 'B000U1YBNQ',\n",
       " 'B001NLJU0G',\n",
       " 'B007S71TY4',\n",
       " 'B0019M4G0I',\n",
       " 'B003W97018',\n",
       " 'B002NGRNG8',\n",
       " 'B0039IENYE',\n",
       " 'B008C3AZ1Q',\n",
       " 'B003ODH40O',\n",
       " 'B006EB6MPQ',\n",
       " 'B001LK6Y44',\n",
       " 'B001BUNHYO',\n",
       " 'B002WOBBVO',\n",
       " 'B00BS1WVHA',\n",
       " 'B0002K6XQI',\n",
       " 'B000RNDUMA',\n",
       " 'B007I7X1XG',\n",
       " 'B004X74X5E',\n",
       " 'B00DNTVVAI',\n",
       " 'B0007W5LFA',\n",
       " 'B00E1OG9CY',\n",
       " 'B004J1FS9Y',\n",
       " 'B000K7IFUU',\n",
       " 'B001DIXV7W',\n",
       " 'B000GHED9G',\n",
       " 'B0031MOL2C',\n",
       " 'B004KE0LZG',\n",
       " 'B004VRB7A0',\n",
       " 'B002SU2DIC',\n",
       " 'B0031U1D52',\n",
       " 'B007X74IF6',\n",
       " 'B0077EVNY4',\n",
       " 'B007I9BKD2',\n",
       " 'B003FSTASC',\n",
       " 'B000MF303W',\n",
       " 'B001PID9C2',\n",
       " 'B00937D2PQ',\n",
       " 'B001DJ1M18',\n",
       " 'B0007QF98U',\n",
       " 'B004YVE1JW',\n",
       " 'B001HQ797I',\n",
       " 'B002BRX9XU',\n",
       " 'B001CZJOCM',\n",
       " 'B004VK4X26',\n",
       " 'B0028R148K',\n",
       " 'B005YXXS0M',\n",
       " 'B004C54C5I',\n",
       " 'B007K5HAW4',\n",
       " 'B001F7KXAO',\n",
       " 'B001DL1ZAY',\n",
       " 'B00HD100SQ',\n",
       " 'B00DJJ7WLY',\n",
       " 'B0083LOW7A',\n",
       " 'B004NY9UUK',\n",
       " 'B004WI867K',\n",
       " 'B000HAAI0A',\n",
       " 'B006N3KGC0',\n",
       " 'B001GI9JWA',\n",
       " 'B004KIWQN2',\n",
       " 'B004VK0YGA',\n",
       " 'B005LMWP7I',\n",
       " 'B009CD1762',\n",
       " 'B001EDTL70',\n",
       " 'B007VB2W5M',\n",
       " 'B00EEBS9O0',\n",
       " 'B005G89KI4',\n",
       " 'B000NGSQ8E',\n",
       " 'B004AUWZJU',\n",
       " 'B00166JB7A',\n",
       " 'B00H21ZX48',\n",
       " 'B007B5POVC',\n",
       " 'B0017GRB1M',\n",
       " 'B004NEAITW',\n",
       " 'B0000DBMKJ',\n",
       " 'B002WR5GBC',\n",
       " 'B003ZH13HE',\n",
       " 'B007X5O8ZI',\n",
       " 'B0046B2QF6',\n",
       " 'B001UPWDYU',\n",
       " 'B003LWTL2C',\n",
       " 'B000RA1TMQ',\n",
       " 'B00C9CGT5C',\n",
       " 'B009K4FXTK',\n",
       " 'B00D4O0D3I',\n",
       " 'B003C3D9B4',\n",
       " 'B001V9LQAW',\n",
       " 'B00DTLVJB6',\n",
       " 'B003PNORXA',\n",
       " 'B005LMWP78',\n",
       " 'B0019M6GM4',\n",
       " 'B008S2W442',\n",
       " 'B0014HYD7O',\n",
       " 'B004AYD32O',\n",
       " 'B007B5POJE',\n",
       " 'B00A0IICY8',\n",
       " 'B0074DNOJU',\n",
       " 'B000YIWR8G',\n",
       " 'B003ZDNZ1U',\n",
       " 'B000GG0CB0',\n",
       " 'B003KGZTKW',\n",
       " 'B0053ELS7M',\n",
       " 'B009NSZ280',\n",
       " 'B003U9PSH8',\n",
       " 'B007GNN0AG',\n",
       " 'B002NU5O4M',\n",
       " 'B004AH0J3C',\n",
       " 'B004WKWVKG',\n",
       " 'B0055SQQ3W',\n",
       " 'B001O83XR4',\n",
       " 'B00B9FWKS0',\n",
       " 'B0009RJNJ8',\n",
       " 'B004P4RTAG',\n",
       " 'B001HEM8GC',\n",
       " 'B002GW6FW2',\n",
       " 'B0044DEK9G',\n",
       " 'B0078AFGW2',\n",
       " 'B000NOP9L8',\n",
       " 'B006OCBHNW',\n",
       " 'B000247YLM',\n",
       " 'B007U81J1E',\n",
       " 'B002MXX2P8',\n",
       " 'B0077AOALQ',\n",
       " 'B0026ZH28A',\n",
       " 'B000P9EVDS',\n",
       " 'B005HBV6FU',\n",
       " 'B0085IZP8G',\n",
       " 'B003SEWIPA',\n",
       " 'B00579S07Y',\n",
       " 'B004NY9V04',\n",
       " 'B004GCK4MW',\n",
       " 'B001H9O1EO',\n",
       " 'B004DYROEE',\n",
       " 'B0058PXQDU',\n",
       " 'B000NGV104',\n",
       " 'B005FN5DJA',\n",
       " 'B003NTCDX2',\n",
       " 'B00AF3MTQA',\n",
       " 'B0040IS7MQ',\n",
       " 'B003H3NFY0',\n",
       " 'B0085IZOA0',\n",
       " 'B005J2FQ8U',\n",
       " 'B001LIK6LI',\n",
       " 'B003964V1Q',\n",
       " 'B0027AGDKC',\n",
       " 'B0096DZEOY',\n",
       " 'B007XJUEXY',\n",
       " 'B003FSTARI',\n",
       " 'B001DAEPU2',\n",
       " 'B007X3VD7Q',\n",
       " 'B005FO3KXA',\n",
       " 'B00EYQ6WK8',\n",
       " 'B001M4HXSK',\n",
       " 'B00B016WTQ',\n",
       " 'B00D4NYA4M',\n",
       " 'B001R1X6PW',\n",
       " 'B002C0CEAA',\n",
       " 'B009IMQ92Y',\n",
       " 'B001S3X6K4',\n",
       " 'B00D4O4Y88',\n",
       " 'B0013TMIFW',\n",
       " 'B0028YXI2I',\n",
       " 'B008I3HENM',\n",
       " 'B003HOU72W',\n",
       " 'B000XFB3KI',\n",
       " 'B000V4TNGC',\n",
       " 'B00EE5IG8K',\n",
       " 'B003HF2JAE',\n",
       " 'B007B5PP5W',\n",
       " 'B004G8QZPG',\n",
       " 'B0055SQOHU',\n",
       " 'B0067WJFY2',\n",
       " 'B00JB498PY',\n",
       " 'B004J1FRZE',\n",
       " 'B009NI8JRG',\n",
       " 'B00EE5P3VS',\n",
       " 'B009GM23IK',\n",
       " 'B004BDOGL6',\n",
       " 'B000NONHYY',\n",
       " 'B009QNEN3C',\n",
       " 'B002WRESFC',\n",
       " 'B0068ZU7VI',\n",
       " 'B00D4NX6MY',\n",
       " 'B00CJUBUFS',\n",
       " 'B000TG8GNS',\n",
       " 'B00BNVXQD8',\n",
       " 'B0080H0IH0',\n",
       " 'B00186E4P2',\n",
       " ...}"
      ]
     },
     "execution_count": 61,
     "metadata": {},
     "output_type": "execute_result"
    }
   ],
   "source": [
    "item_idxs"
   ]
  },
  {
   "cell_type": "markdown",
   "metadata": {},
   "source": [
    "# build vocab for language modeling "
   ]
  },
  {
   "cell_type": "code",
   "execution_count": 34,
   "metadata": {},
   "outputs": [],
   "source": [
    "def get_word_cnt_dict(train_df, min_tf=None):\n",
    "    # create vocab of words\n",
    "    word_cnt_dict = defaultdict(int)\n",
    "    \n",
    "    tokens_list = []\n",
    "    for doc in train_df.tokens:\n",
    "        tokens_list.extend(doc)\n",
    "    \n",
    "    for tokens in tokens_list:\n",
    "        for word in tokens:\n",
    "            word_cnt_dict[word] += 1\n",
    "    word_cnt_dict = sorted(word_cnt_dict.items(), key=lambda x: x[1])[::-1]\n",
    "    \n",
    "    if type(min_tf) is int:\n",
    "        word_cnt_dict = list(filter(lambda x: x[1] >= min_tf, word_cnt_dict))\n",
    "    elif type(min_tf) is float:\n",
    "        word_cnt_dict = word_cnt_dict[:int(min_tf*len(word_cnt_dict))]\n",
    "    return word_cnt_dict"
   ]
  },
  {
   "cell_type": "code",
   "execution_count": 35,
   "metadata": {},
   "outputs": [
    {
     "name": "stdout",
     "output_type": "stream",
     "text": [
      "9157 24062\n"
     ]
    }
   ],
   "source": [
    "word_cnt_dict = get_word_cnt_dict(train_df, min_tf=3)\n",
    "print(len(word_cnt_dict), len(get_word_cnt_dict(train_df, min_tf=0)))"
   ]
  },
  {
   "cell_type": "code",
   "execution_count": 36,
   "metadata": {},
   "outputs": [],
   "source": [
    "idx_to_word = {idx: word for idx, (word, cnt) in enumerate(word_cnt_dict)}\n",
    "word_to_idx = {word: idx for idx, word in idx_to_word.items()}"
   ]
  },
  {
   "cell_type": "markdown",
   "metadata": {},
   "source": [
    "# build bow vector"
   ]
  },
  {
   "cell_type": "code",
   "execution_count": 46,
   "metadata": {},
   "outputs": [
    {
     "data": {
      "text/plain": [
       "[('the', 111527),\n",
       " ('it', 81161),\n",
       " ('i', 78762),\n",
       " (',', 68324),\n",
       " ('and', 63657),\n",
       " ('a', 60270),\n",
       " ('to', 45835),\n",
       " ('is', 44432),\n",
       " ('for', 38606),\n",
       " ('this', 37016),\n",
       " ('#', 34692),\n",
       " ('my', 33518),\n",
       " ('of', 27988),\n",
       " ('in', 21478),\n",
       " ('case', 20769),\n",
       " ('that', 20749),\n",
       " ('but', 18933),\n",
       " ('on', 17587),\n",
       " ('bag', 17441),\n",
       " ('laptop', 17391),\n",
       " ('with', 16991),\n",
       " ('was', 16734),\n",
       " ('not', 15930),\n",
       " ('have', 14139),\n",
       " (\"n't\", 13580),\n",
       " ('you', 12212),\n",
       " (\"'s\", 12172),\n",
       " ('very', 11941),\n",
       " ('as', 11192),\n",
       " ('so', 10381),\n",
       " ('great', 9646),\n",
       " ('like', 9430),\n",
       " ('would', 9377),\n",
       " ('one', 9018),\n",
       " ('has', 8607),\n",
       " ('well', 8385),\n",
       " ('be', 8299),\n",
       " ('.', 8298),\n",
       " ('fit', 8262),\n",
       " ('just', 7720),\n",
       " ('fits', 7544),\n",
       " ('all', 7432),\n",
       " ('if', 7175),\n",
       " ('are', 7146),\n",
       " ('macbook', 7066),\n",
       " ('good', 6982),\n",
       " ('does', 6701),\n",
       " ('when', 6395)]"
      ]
     },
     "execution_count": 46,
     "metadata": {},
     "output_type": "execute_result"
    }
   ],
   "source": [
    "stop_word_cnt_dict = get_word_cnt_dict(train_df, min_tf=0.002)\n",
    "len(stop_word_cnt_dict)\n",
    "stop_word_cnt_dict"
   ]
  },
  {
   "cell_type": "code",
   "execution_count": 47,
   "metadata": {},
   "outputs": [
    {
     "data": {
      "text/plain": [
       "524"
      ]
     },
     "execution_count": 47,
     "metadata": {},
     "output_type": "execute_result"
    }
   ],
   "source": [
    "with open(config.stopwords_path, 'r') as f:\n",
    "    stop_words_mallet = [w.replace('\\n', '') for w in f.readlines()]\n",
    "len(stop_words_mallet)"
   ]
  },
  {
   "cell_type": "code",
   "execution_count": 48,
   "metadata": {},
   "outputs": [
    {
     "data": {
      "text/plain": [
       "589"
      ]
     },
     "execution_count": 48,
     "metadata": {},
     "output_type": "execute_result"
    }
   ],
   "source": [
    "stop_words = stop_words_mallet + [w_cnt[0] for w_cnt in stop_word_cnt_dict if w_cnt[0] not in dummy_tokens] + ['-lrb-', '-rrb-', '``', \"'\", ';', ':', '&', '!', '$', '-', '...', '--',\"'m\", \"'ve\", \"'d\", \"'ll\", \"'re\"]\n",
    "len(stop_words)"
   ]
  },
  {
   "cell_type": "code",
   "execution_count": 49,
   "metadata": {},
   "outputs": [],
   "source": [
    "train_corpus = list(train_df.doc)\n",
    "valid_corpus = list(valid_df.doc)\n",
    "test_corpus = list(test_df.doc)"
   ]
  },
  {
   "cell_type": "code",
   "execution_count": 50,
   "metadata": {},
   "outputs": [
    {
     "name": "stdout",
     "output_type": "stream",
     "text": [
      "1016\n"
     ]
    }
   ],
   "source": [
    "vectorizer = TfidfVectorizer(min_df=100, max_df=1.0, stop_words=stop_words, tokenizer=word_tokenize, norm=None, use_idf=False, dtype=np.float32)\n",
    "train_bow_list = vectorizer.fit_transform(train_corpus)\n",
    "bow_tokens = vectorizer.get_feature_names()\n",
    "print(len(bow_tokens))\n",
    "assert len(train_df) == len(train_bow_list.toarray())\n",
    "assert all([word in word_to_idx for word in bow_tokens])"
   ]
  },
  {
   "cell_type": "code",
   "execution_count": 51,
   "metadata": {},
   "outputs": [],
   "source": [
    "valid_bow_list = vectorizer.transform(valid_corpus)\n",
    "test_bow_list = vectorizer.transform(test_corpus)"
   ]
  },
  {
   "cell_type": "code",
   "execution_count": 52,
   "metadata": {},
   "outputs": [],
   "source": [
    "bow_idxs = np.array([word_to_idx[token] for token in bow_tokens])"
   ]
  },
  {
   "cell_type": "markdown",
   "metadata": {},
   "source": [
    "## check"
   ]
  },
  {
   "cell_type": "code",
   "execution_count": 53,
   "metadata": {},
   "outputs": [
    {
     "data": {
      "text/plain": [
       "0.0"
      ]
     },
     "execution_count": 53,
     "metadata": {},
     "output_type": "execute_result"
    }
   ],
   "source": [
    "sample_doc_idx = 1\n",
    "sample_doc = train_corpus[sample_doc_idx]\n",
    "sample_tokens = word_tokenize(sample_doc)\n",
    "filtered_tokens = [w for w in sample_tokens if (w not in vectorizer.stop_words_) and (w not in stop_words)]\n",
    "assert all([word in bow_tokens for word in filtered_tokens])\n",
    "\n",
    "filtered_word_cnt_dict = Counter(filtered_tokens)\n",
    "pseudo_bow = np.array([float(filtered_word_cnt_dict[w]) if w in filtered_word_cnt_dict else 0. for w in bow_tokens])\n",
    "# pseudo_bow = pseudo_bow / np.sum(pseudo_bow)\n",
    "\n",
    "sample_bow = train_bow_list.toarray()[sample_doc_idx]\n",
    "np.max((sample_bow - pseudo_bow)**2)"
   ]
  },
  {
   "cell_type": "code",
   "execution_count": 54,
   "metadata": {},
   "outputs": [
    {
     "data": {
      "text/plain": [
       "(array([  23,   81,   87,  107,  115,  128,  184,  224,  232,  235,  255,\n",
       "         322,  375,  412,  432,  461,  551,  609,  625,  677,  709,  791,\n",
       "         842,  872,  915,  998, 1010]),)"
      ]
     },
     "execution_count": 54,
     "metadata": {},
     "output_type": "execute_result"
    }
   ],
   "source": [
    "np.where(pseudo_bow>0)"
   ]
  },
  {
   "cell_type": "code",
   "execution_count": 55,
   "metadata": {},
   "outputs": [
    {
     "data": {
      "text/plain": [
       "(array([  23,   81,   87,  107,  115,  128,  184,  224,  232,  235,  255,\n",
       "         322,  375,  412,  432,  461,  551,  609,  625,  677,  709,  791,\n",
       "         842,  872,  915,  998, 1010]),)"
      ]
     },
     "execution_count": 55,
     "metadata": {},
     "output_type": "execute_result"
    }
   ],
   "source": [
    "np.where(sample_bow>0)"
   ]
  },
  {
   "cell_type": "markdown",
   "metadata": {},
   "source": [
    "# write out"
   ]
  },
  {
   "cell_type": "code",
   "execution_count": 58,
   "metadata": {},
   "outputs": [],
   "source": [
    "def prepare_instances(data_df, word_to_idx, bow_list, item_idx_summaries=None):\n",
    "    instances = []\n",
    "    bows = bow_list.toarray()\n",
    "    assert len(bows) == len(data_df)\n",
    "    for bow, (idx_doc, doc) in zip(bows, data_df.iterrows()):\n",
    "        instance = Instance()\n",
    "        instance.idx = idx_doc\n",
    "        instance.review_idx = doc.review_idx\n",
    "        instance.item_idx = doc.item_idx\n",
    "        instance.score = doc.score\n",
    "        instance.doc_l = doc.doc_l\n",
    "        instance.max_sent_l = doc.max_sent_l\n",
    "        instance.bow = bow\n",
    "        if item_idx_summaries:\n",
    "            instance.summaries = item_idx_summaries[instance.item_idx]\n",
    "        instances.append(instance)\n",
    "    return instances"
   ]
  },
  {
   "cell_type": "code",
   "execution_count": 59,
   "metadata": {},
   "outputs": [],
   "source": [
    "instances_train = prepare_instances(train_df, word_to_idx, train_bow_list)\n",
    "instances_valid = prepare_instances(valid_df, word_to_idx, valid_bow_list)\n",
    "instances_test = prepare_instances(test_df, word_to_idx, test_bow_list, item_idx_summaries)"
   ]
  },
  {
   "cell_type": "code",
   "execution_count": 60,
   "metadata": {},
   "outputs": [
    {
     "name": "stdout",
     "output_type": "stream",
     "text": [
      "saving preprocessed instances...\n"
     ]
    }
   ],
   "source": [
    "print('saving preprocessed instances...')\n",
    "cPickle.dump((instances_train, instances_valid, instances_test, word_to_idx, idx_to_word, bow_idxs),open(config.output_path,'wb'))"
   ]
  },
  {
   "cell_type": "markdown",
   "metadata": {},
   "source": [
    "# split data"
   ]
  },
  {
   "cell_type": "code",
   "execution_count": null,
   "metadata": {},
   "outputs": [],
   "source": []
  }
 ],
 "metadata": {
  "kernelspec": {
   "display_name": "py36",
   "language": "python",
   "name": "py36"
  },
  "language_info": {
   "codemirror_mode": {
    "name": "ipython",
    "version": 3
   },
   "file_extension": ".py",
   "mimetype": "text/x-python",
   "name": "python",
   "nbconvert_exporter": "python",
   "pygments_lexer": "ipython3",
   "version": "3.6.9"
  },
  "toc": {
   "base_numbering": 1,
   "nav_menu": {},
   "number_sections": true,
   "sideBar": true,
   "skip_h1_title": false,
   "title_cell": "Table of Contents",
   "title_sidebar": "Contents",
   "toc_cell": false,
   "toc_position": {},
   "toc_section_display": true,
   "toc_window_display": false
  }
 },
 "nbformat": 4,
 "nbformat_minor": 2
}
