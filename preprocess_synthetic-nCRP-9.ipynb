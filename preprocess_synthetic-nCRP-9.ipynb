{
 "cells": [
  {
   "cell_type": "code",
   "execution_count": 1,
   "metadata": {},
   "outputs": [],
   "source": [
    "import os\n",
    "os.environ[\"NUMEXPR_NUM_THREADS\"] = \"16\"\n",
    "os.environ[\"MKL_NUM_THREADS\"] = \"16\"\n",
    "os.environ[\"OMP_NUM_THREADS\"] = \"16\"\n",
    "\n",
    "import re\n",
    "import pdb\n",
    "import _pickle as cPickle\n",
    "from collections import OrderedDict, defaultdict, Counter\n",
    "\n",
    "import matplotlib\n",
    "%matplotlib inline\n",
    "import matplotlib.pyplot as plt\n",
    "\n",
    "import numpy as np\n",
    "import pandas as pd\n",
    "import tensorflow as tf\n",
    "from sklearn.feature_extraction.text import TfidfVectorizer\n",
    "from nltk import word_tokenize\n",
    "\n",
    "from data_structure import Instance"
   ]
  },
  {
   "cell_type": "markdown",
   "metadata": {},
   "source": [
    "# configure"
   ]
  },
  {
   "cell_type": "code",
   "execution_count": 13,
   "metadata": {},
   "outputs": [],
   "source": [
    "def del_all_flags(FLAGS):\n",
    "    flags_dict = FLAGS._flags()    \n",
    "    keys_list = [keys for keys in flags_dict]    \n",
    "    for keys in keys_list:\n",
    "        FLAGS.__delattr__(keys)\n",
    "\n",
    "del_all_flags(tf.flags.FLAGS)\n",
    "\n",
    "flags = tf.app.flags\n",
    "\n",
    "flags.DEFINE_string('output_path', 'data/synthetic/instances_ncrp_9.pkl', 'path of output data')\n",
    "\n",
    "flags.DEFINE_integer('n_vocab', 9, 'size of vocab')\n",
    "flags.DEFINE_integer('n_doc', 11000, 'num of doc')\n",
    "flags.DEFINE_integer('doc_l', 100, 'size of vocab')\n",
    "\n",
    "flags.DEFINE_string('f', '', 'kernel')\n",
    "\n",
    "config = flags.FLAGS"
   ]
  },
  {
   "cell_type": "markdown",
   "metadata": {},
   "source": [
    "# configure"
   ]
  },
  {
   "cell_type": "code",
   "execution_count": 14,
   "metadata": {},
   "outputs": [],
   "source": [
    "def get_depth(parent_idx=0, tree_depth = None, depth=1):\n",
    "        if tree_depth is None: tree_depth={0: depth}\n",
    "\n",
    "        child_idxs = tree_idxs[parent_idx]\n",
    "        depth +=1\n",
    "        for child_idx in child_idxs:\n",
    "            tree_depth[child_idx] = depth\n",
    "            if child_idx in tree_idxs: get_depth(child_idx, tree_depth, depth)\n",
    "        return tree_depth"
   ]
  },
  {
   "cell_type": "code",
   "execution_count": 15,
   "metadata": {},
   "outputs": [],
   "source": [
    "tree_idxs = {0:[1, 2, 3], \n",
    "                      1:[10, 11, 12], 2:[20, 21, 22], 3:[30, 31, 32]}\n",
    "tree_depth = get_depth()\n",
    "max_depth = max(get_depth().values())\n",
    "child_to_parent_idxs = {child_idx: parent_idx for parent_idx, child_idxs in tree_idxs.items() for child_idx in child_idxs}\n",
    "\n",
    "topic_idxs = [0] + [idx for child_idxs in tree_idxs.values() for idx in child_idxs]\n",
    "\n",
    "bow_idxs = np.arange(config.n_vocab)"
   ]
  },
  {
   "cell_type": "code",
   "execution_count": 16,
   "metadata": {},
   "outputs": [],
   "source": [
    "ones = np.ones(config.n_vocab//3)\n",
    "zeros = np.zeros(config.n_vocab//3)\n",
    "leaf_1 = np.concatenate([np.ones([int((config.n_vocab//9)**(1/2)), int((config.n_vocab//9)**(1/2))]), np.zeros([int((config.n_vocab//9)**(1/2)), int((config.n_vocab//9)**(1/2))]), np.zeros([int((config.n_vocab//9)**(1/2)), int((config.n_vocab//9)**(1/2))])], 1).flatten()\n",
    "leaf_2 = np.concatenate([np.zeros([int((config.n_vocab//9)**(1/2)), int((config.n_vocab//9)**(1/2))]), np.ones([int((config.n_vocab//9)**(1/2)), int((config.n_vocab//9)**(1/2))]), np.zeros([int((config.n_vocab//9)**(1/2)), int((config.n_vocab//9)**(1/2))])], 1).flatten()\n",
    "leaf_3 = np.concatenate([np.zeros([int((config.n_vocab//9)**(1/2)), int((config.n_vocab//9)**(1/2))]), np.zeros([int((config.n_vocab//9)**(1/2)), int((config.n_vocab//9)**(1/2))]), np.ones([int((config.n_vocab//9)**(1/2)), int((config.n_vocab//9)**(1/2))])], 1).flatten()\n",
    "# leaf_1 = np.concatenate([np.ones(config.n_vocab//9), np.zeros(config.n_vocab//9), np.zeros(config.n_vocab//9)])\n",
    "# leaf_2 = np.concatenate([np.zeros(config.n_vocab//9), np.ones(config.n_vocab//9), np.zeros(config.n_vocab//9)])\n",
    "# leaf_3 = np.concatenate([np.zeros(config.n_vocab//9), np.zeros(config.n_vocab//9), np.ones(config.n_vocab//9)])"
   ]
  },
  {
   "cell_type": "code",
   "execution_count": 17,
   "metadata": {},
   "outputs": [],
   "source": [
    "tree_topic_bow_raw = {\n",
    "                0: np.ones(config.n_vocab, dtype=np.float32),\n",
    "                1: np.concatenate([ones, zeros, zeros]).astype(np.float32),\n",
    "                2: np.concatenate([zeros, ones, zeros]).astype(np.float32),\n",
    "                3: np.concatenate([zeros, zeros, ones]).astype(np.float32),\n",
    "                10: np.concatenate([leaf_1, zeros, zeros]).astype(np.float32),\n",
    "                11: np.concatenate([leaf_2, zeros, zeros]).astype(np.float32),\n",
    "                12: np.concatenate([leaf_3, zeros, zeros]).astype(np.float32),\n",
    "                20: np.concatenate([zeros, leaf_1, zeros]).astype(np.float32),\n",
    "                21: np.concatenate([zeros, leaf_2, zeros]).astype(np.float32),\n",
    "                22: np.concatenate([zeros, leaf_3, zeros]).astype(np.float32),\n",
    "                30: np.concatenate([zeros, zeros, leaf_1]).astype(np.float32),\n",
    "                31: np.concatenate([zeros, zeros, leaf_2]).astype(np.float32),\n",
    "                32: np.concatenate([zeros, zeros, leaf_3]).astype(np.float32),\n",
    "}\n",
    "\n",
    "tree_topic_bow = {topic_idx: topic_bow_raw/np.sum(topic_bow_raw) for topic_idx, topic_bow_raw in tree_topic_bow_raw.items()}\n",
    "topic_bow = np.concatenate([tree_topic_bow[topic_idx][None, :] for topic_idx in topic_idxs], 0)"
   ]
  },
  {
   "cell_type": "code",
   "execution_count": 18,
   "metadata": {},
   "outputs": [
    {
     "data": {
      "image/png": "[encoded data removed]",
      "text/plain": [
       "<Figure size 216x288 with 13 Axes>"
      ]
     },
     "metadata": {
      "needs_background": "light"
     },
     "output_type": "display_data"
    }
   ],
   "source": [
    "from matplotlib.colors import Normalize # Normalizeをimport\n",
    "\n",
    "plt.figure(figsize=(3, 4))\n",
    "plt.subplot(5,3,2)\n",
    "plt.axis('off')\n",
    "plt.imshow(topic_bow[0].reshape(int(config.n_vocab**(1/2)), int(config.n_vocab**(1/2))), cmap='Wistia', norm=Normalize(vmin=0., vmax=np.max(topic_bow)))\n",
    "\n",
    "for i in range(1, len(topic_idxs)):\n",
    "    plt.subplot(5,3,i+3)\n",
    "    plt.axis('off')\n",
    "    plt.imshow(topic_bow[i].reshape(int(config.n_vocab**(1/2)), int(config.n_vocab**(1/2))), cmap='Wistia', norm=Normalize(vmin=0., vmax=np.max(topic_bow)))"
   ]
  },
  {
   "cell_type": "markdown",
   "metadata": {},
   "source": [
    "# sample"
   ]
  },
  {
   "cell_type": "code",
   "execution_count": 19,
   "metadata": {},
   "outputs": [],
   "source": [
    "def nCRP(tree_sticks_topic):\n",
    "    tree_prob_topic = {}\n",
    "    tree_prob_leaf = {}\n",
    "    # calculate topic probability and save\n",
    "    tree_prob_topic[0] = 1.\n",
    "    \n",
    "    for parent_idx, child_idxs in tree_idxs.items():\n",
    "        rest_prob_topic = tree_prob_topic[parent_idx]        \n",
    "        for child_idx in child_idxs:\n",
    "            stick_topic = tree_sticks_topic[child_idx]\n",
    "            if child_idx == child_idxs[-1]:\n",
    "                prob_topic = rest_prob_topic * 1.\n",
    "            else:\n",
    "                prob_topic = rest_prob_topic * stick_topic\n",
    "            \n",
    "            if not child_idx in tree_idxs: # leaf childs\n",
    "                tree_prob_leaf[child_idx] = prob_topic\n",
    "            else:\n",
    "                tree_prob_topic[child_idx] = prob_topic\n",
    "                \n",
    "            rest_prob_topic -= prob_topic\n",
    "            \n",
    "    return tree_prob_leaf\n",
    "\n",
    "def get_ancestor_idxs(leaf_idx, ancestor_idxs = None):\n",
    "    if ancestor_idxs is None: ancestor_idxs = [leaf_idx]\n",
    "    \n",
    "    parent_idx = child_to_parent_idxs[leaf_idx]\n",
    "    ancestor_idxs += [parent_idx]\n",
    "    if parent_idx in child_to_parent_idxs: get_ancestor_idxs(parent_idx, ancestor_idxs)\n",
    "    return ancestor_idxs[::-1]\n",
    "\n",
    "def get_prob_topic(tree_prob_leaf, prob_depth):\n",
    "    tree_prob_topic = defaultdict(float)\n",
    "    \n",
    "    leaf_ancestor_idxs = {leaf_idx: get_ancestor_idxs(leaf_idx) for leaf_idx in tree_prob_leaf}\n",
    "    for leaf_idx, ancestor_idxs in leaf_ancestor_idxs.items():\n",
    "        prob_leaf = tree_prob_leaf[leaf_idx]\n",
    "        for i, ancestor_idx in enumerate(ancestor_idxs):\n",
    "            prob_ancestor = prob_leaf * prob_depth[i]\n",
    "            tree_prob_topic[ancestor_idx] += prob_ancestor\n",
    "    return tree_prob_topic"
   ]
  },
  {
   "cell_type": "code",
   "execution_count": 20,
   "metadata": {},
   "outputs": [],
   "source": [
    "alp = 2.\n",
    "lam = 1.\n",
    "gam = 2."
   ]
  },
  {
   "cell_type": "code",
   "execution_count": 21,
   "metadata": {},
   "outputs": [
    {
     "name": "stdout",
     "output_type": "stream",
     "text": [
      "0\n",
      "1000\n",
      "2000\n",
      "3000\n",
      "4000\n",
      "5000\n",
      "6000\n",
      "7000\n",
      "8000\n",
      "9000\n",
      "10000\n"
     ]
    }
   ],
   "source": [
    "instances = []\n",
    "\n",
    "for idx_doc in range(config.n_doc):\n",
    "    if idx_doc%1000 == 0: print(idx_doc)\n",
    "    instance = Instance()\n",
    "    instance.idx = idx_doc\n",
    "    \n",
    "    tree_sticks_topic = {}\n",
    "    for topic_idx in topic_idxs:\n",
    "        depth = tree_depth[topic_idx]\n",
    "        tree_sticks_topic[topic_idx] = np.random.beta(1, alp*(lam**depth), 1)\n",
    "        \n",
    "    tree_prob_leaf = nCRP(tree_sticks_topic)\n",
    "    prob_depth = np.random.dirichlet(np.ones(max_depth, dtype=np.float32) * gam)\n",
    "    \n",
    "    tree_prob_topic = get_prob_topic(tree_prob_leaf, prob_depth)            \n",
    "    prob_topic = np.concatenate([tree_prob_topic[topic_idx] for topic_idx in topic_idxs])\n",
    "    \n",
    "    prob_bow = prob_topic.dot(topic_bow)\n",
    "    prob_bow /= np.sum(prob_bow)\n",
    "    \n",
    "    token_idxs = np.random.choice(config.n_vocab, config.doc_l, p=prob_bow)\n",
    "    bow = np.array([Counter(token_idxs)[bow_idx] for bow_idx in bow_idxs])\n",
    "    assert len(bow) == config.n_vocab\n",
    "    instance.bow = bow\n",
    "    \n",
    "    instances.append(instance)"
   ]
  },
  {
   "cell_type": "code",
   "execution_count": 22,
   "metadata": {},
   "outputs": [
    {
     "name": "stdout",
     "output_type": "stream",
     "text": [
      "0\n",
      "1000\n",
      "2000\n",
      "3000\n",
      "4000\n",
      "5000\n",
      "6000\n",
      "7000\n",
      "8000\n",
      "9000\n",
      "10000\n"
     ]
    }
   ],
   "source": [
    "prob_topics = []\n",
    "for idx_doc in range(config.n_doc):\n",
    "    if idx_doc%1000 == 0: print(idx_doc)\n",
    "    instance = Instance()\n",
    "    instance.idx = idx_doc\n",
    "    \n",
    "    tree_sticks_topic = {}\n",
    "    for topic_idx in topic_idxs:\n",
    "        depth = tree_depth[topic_idx]\n",
    "        tree_sticks_topic[topic_idx] = np.random.beta(1, alp*(lam**depth), 1)\n",
    "        \n",
    "    tree_prob_leaf = nCRP(tree_sticks_topic)\n",
    "    prob_depth = np.random.dirichlet(np.ones(max_depth, dtype=np.float32) * gam)\n",
    "    \n",
    "    tree_prob_topic = get_prob_topic(tree_prob_leaf, prob_depth)            \n",
    "    prob_topic = np.concatenate([tree_prob_topic[topic_idx] for topic_idx in topic_idxs])\n",
    "    \n",
    "    prob_topics.append(prob_topic)\n",
    "    \n",
    "prob_topic_mean = np.mean(prob_topics, 0)"
   ]
  },
  {
   "cell_type": "code",
   "execution_count": 23,
   "metadata": {},
   "outputs": [
    {
     "data": {
      "text/plain": [
       "array([0.33311362, 0.10945191, 0.07472765, 0.14670732, 0.03655314,\n",
       "       0.02509408, 0.0501135 , 0.02461713, 0.01735043, 0.03350143,\n",
       "       0.04964403, 0.03323033, 0.06589544])"
      ]
     },
     "execution_count": 23,
     "metadata": {},
     "output_type": "execute_result"
    }
   ],
   "source": [
    "prob_topic_mean"
   ]
  },
  {
   "cell_type": "code",
   "execution_count": 24,
   "metadata": {},
   "outputs": [
    {
     "data": {
      "text/plain": [
       "0.14876979235625004"
      ]
     },
     "execution_count": 24,
     "metadata": {},
     "output_type": "execute_result"
    }
   ],
   "source": [
    "np.sum(prob_topic_mean[10:13])"
   ]
  },
  {
   "cell_type": "code",
   "execution_count": 25,
   "metadata": {},
   "outputs": [
    {
     "data": {
      "image/png": "[encoded data removed]",
      "text/plain": [
       "<Figure size 1080x720 with 50 Axes>"
      ]
     },
     "metadata": {
      "needs_background": "light"
     },
     "output_type": "display_data"
    }
   ],
   "source": [
    "plt.figure(figsize=(15, 10))\n",
    "for i, instance in enumerate(instances[:50]):\n",
    "    plt.subplot(5,10,i+1)\n",
    "    plt.axis('off')\n",
    "    plt.imshow(instance.bow.reshape(int(config.n_vocab**(1/2)),int(config.n_vocab**(1/2))), cmap='gray_r')"
   ]
  },
  {
   "cell_type": "markdown",
   "metadata": {},
   "source": [
    "# write out"
   ]
  },
  {
   "cell_type": "code",
   "execution_count": 26,
   "metadata": {},
   "outputs": [],
   "source": [
    "instances_train = instances[:10000]\n",
    "instances_valid = instances[10000:]\n",
    "instances_test = instances_valid"
   ]
  },
  {
   "cell_type": "code",
   "execution_count": 27,
   "metadata": {},
   "outputs": [],
   "source": [
    "idx_to_word = {bow_idx: str(10*(bow_idx//3+1) + bow_idx%3) for bow_idx in bow_idxs}\n",
    "word_to_idx = {word: idx for idx, word in idx_to_word.items()}"
   ]
  },
  {
   "cell_type": "code",
   "execution_count": 28,
   "metadata": {},
   "outputs": [
    {
     "name": "stdout",
     "output_type": "stream",
     "text": [
      "saving preprocessed instances...\n"
     ]
    }
   ],
   "source": [
    "print('saving preprocessed instances...')\n",
    "cPickle.dump((instances_train, instances_valid, instances_test, word_to_idx, idx_to_word, bow_idxs),open(config.output_path,'wb'))"
   ]
  },
  {
   "cell_type": "code",
   "execution_count": null,
   "metadata": {},
   "outputs": [],
   "source": []
  }
 ],
 "metadata": {
  "kernelspec": {
   "display_name": "py36",
   "language": "python",
   "name": "py36"
  },
  "language_info": {
   "codemirror_mode": {
    "name": "ipython",
    "version": 3
   },
   "file_extension": ".py",
   "mimetype": "text/x-python",
   "name": "python",
   "nbconvert_exporter": "python",
   "pygments_lexer": "ipython3",
   "version": "3.6.9"
  },
  "toc": {
   "base_numbering": 1,
   "nav_menu": {},
   "number_sections": true,
   "sideBar": true,
   "skip_h1_title": false,
   "title_cell": "Table of Contents",
   "title_sidebar": "Contents",
   "toc_cell": false,
   "toc_position": {},
   "toc_section_display": true,
   "toc_window_display": false
  }
 },
 "nbformat": 4,
 "nbformat_minor": 2
}
