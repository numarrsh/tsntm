{
 "cells": [
  {
   "cell_type": "code",
   "execution_count": 1,
   "metadata": {},
   "outputs": [
    {
     "data": {
      "application/javascript": [
       "IPython.notebook.kernel.execute('nb_name = \"' + IPython.notebook.notebook_name + '\"')\n"
      ],
      "text/plain": [
       "<IPython.core.display.Javascript object>"
      ]
     },
     "metadata": {},
     "output_type": "display_data"
    }
   ],
   "source": [
    "%%javascript\n",
    "IPython.notebook.kernel.execute('nb_name = \"' + IPython.notebook.notebook_name + '\"')"
   ]
  },
  {
   "cell_type": "code",
   "execution_count": 2,
   "metadata": {},
   "outputs": [],
   "source": [
    "%load_ext autoreload\n",
    "%autoreload\n",
    "from IPython.display import clear_output\n",
    "\n",
    "import os\n",
    "os.environ['PYTHONHASHSEED'] = '0'\n",
    "os.environ[\"NUMEXPR_NUM_THREADS\"] = \"1\"\n",
    "os.environ[\"MKL_NUM_THREADS\"] = \"1\"\n",
    "os.environ[\"OMP_NUM_THREADS\"] = \"1\"\n",
    "\n",
    "import pdb\n",
    "import _pickle as cPickle\n",
    "import time\n",
    "import subprocess\n",
    "import glob\n",
    "\n",
    "import random\n",
    "import numpy as np\n",
    "import pandas as pd\n",
    "import tensorflow as tf\n",
    "\n",
    "from collections import defaultdict, Counter\n",
    "from rcrp import Topic, Doc, init, sample, get_perplexity, get_topic_specialization, get_hierarchical_affinities, get_freq_tokens_rcrp, get_docs\n",
    "from configure import get_config"
   ]
  },
  {
   "cell_type": "markdown",
   "metadata": {},
   "source": [
    "# load config & data "
   ]
  },
  {
   "cell_type": "code",
   "execution_count": 3,
   "metadata": {},
   "outputs": [],
   "source": [
    "config = get_config(nb_name)\n",
    "np.random.seed(config.seed)\n",
    "random.seed(config.seed)"
   ]
  },
  {
   "cell_type": "code",
   "execution_count": 4,
   "metadata": {},
   "outputs": [],
   "source": [
    "instances_train, instances_dev, instances_test, word_to_idx, idx_to_word, bow_idxs = cPickle.load(open(config.path_data,'rb'))"
   ]
  },
  {
   "cell_type": "code",
   "execution_count": 5,
   "metadata": {},
   "outputs": [
    {
     "data": {
      "text/plain": [
       "(9006, 1995)"
      ]
     },
     "execution_count": 5,
     "metadata": {},
     "output_type": "execute_result"
    }
   ],
   "source": [
    "config.n_doc = len(instances_train)\n",
    "config.n_vocab = len(bow_idxs)\n",
    "config.n_doc, config.n_vocab"
   ]
  },
  {
   "cell_type": "code",
   "execution_count": 6,
   "metadata": {},
   "outputs": [
    {
     "data": {
      "text/plain": [
       "695746"
      ]
     },
     "execution_count": 6,
     "metadata": {},
     "output_type": "execute_result"
    }
   ],
   "source": [
    "docs_bow = [instance.bow for instance in instances_train]\n",
    "docs_raw = [[[bow_index]*int(doc_bow[bow_index]) for bow_index in np.where(doc_bow > 0)[0]] for doc_bow in docs_bow]\n",
    "docs_words = [[idx for idxs in doc for idx in idxs] for doc in docs_raw]\n",
    "np.sum([len(doc_words) for doc_words in docs_words])"
   ]
  },
  {
   "cell_type": "markdown",
   "metadata": {},
   "source": [
    "# run"
   ]
  },
  {
   "cell_type": "markdown",
   "metadata": {},
   "source": [
    "## initialize log"
   ]
  },
  {
   "cell_type": "code",
   "execution_count": 7,
   "metadata": {},
   "outputs": [],
   "source": [
    "checkpoint = []\n",
    "ppl_min = np.inf\n",
    "epoch = 0\n",
    "\n",
    "cmd_rm = 'rm -r %s' % config.dir_model\n",
    "res = subprocess.call(cmd_rm.split())\n",
    "cmd_mk = 'mkdir %s' % config.dir_model\n",
    "res = subprocess.call(cmd_mk.split())\n",
    "\n",
    "log_df = pd.DataFrame(columns=pd.MultiIndex.from_tuples(\n",
    "                    list(zip(*[['','','','TRAIN:','VALID:','TEST:','SPEC:', '', '', 'HIER:', ''],\n",
    "                            ['Time','Ep','Ct','PPL','PPL', 'PPL','1', '2', '3', 'CHILD', 'OTHER']]))))\n",
    "\n",
    "def update_checkpoint(config, checkpoint, epoch):\n",
    "    checkpoint.append(config.path_model + '-%i' % epoch)\n",
    "    if len(checkpoint) > config.max_to_keep:\n",
    "        path_model = checkpoint.pop(0)\n",
    "        for p in glob.glob(path_model):\n",
    "            os.remove(p)\n",
    "    cPickle.dump(checkpoint, open(config.path_checkpoint, 'wb'))"
   ]
  },
  {
   "cell_type": "markdown",
   "metadata": {},
   "source": [
    "## initialize data"
   ]
  },
  {
   "cell_type": "code",
   "execution_count": 8,
   "metadata": {},
   "outputs": [],
   "source": [
    "topic_root = Topic(idx='0', sibling_idx=0, parent=None, depth=1, config=config)\n",
    "train_docs = get_docs(instances_train, config, topic_root=topic_root)\n",
    "dev_docs = get_docs(instances_dev, config, topic_root=topic_root)\n",
    "test_docs = get_docs(instances_test, config, topic_root=topic_root)\n",
    "init(train_docs, dev_docs, test_docs, topic_root)"
   ]
  },
  {
   "cell_type": "markdown",
   "metadata": {},
   "source": [
    "## run"
   ]
  },
  {
   "cell_type": "code",
   "execution_count": null,
   "metadata": {
    "scrolled": false
   },
   "outputs": [
    {
     "data": {
      "text/html": [
       "<div>\n",
       "<style scoped>\n",
       "    .dataframe tbody tr th:only-of-type {\n",
       "        vertical-align: middle;\n",
       "    }\n",
       "\n",
       "    .dataframe tbody tr th {\n",
       "        vertical-align: top;\n",
       "    }\n",
       "\n",
       "    .dataframe thead tr th {\n",
       "        text-align: left;\n",
       "    }\n",
       "</style>\n",
       "<table border=\"1\" class=\"dataframe\">\n",
       "  <thead>\n",
       "    <tr>\n",
       "      <th></th>\n",
       "      <th colspan=\"3\" halign=\"left\"></th>\n",
       "      <th>TRAIN:</th>\n",
       "      <th>VALID:</th>\n",
       "      <th>TEST:</th>\n",
       "      <th>SPEC:</th>\n",
       "      <th colspan=\"2\" halign=\"left\"></th>\n",
       "      <th>HIER:</th>\n",
       "      <th></th>\n",
       "    </tr>\n",
       "    <tr>\n",
       "      <th></th>\n",
       "      <th>Time</th>\n",
       "      <th>Ep</th>\n",
       "      <th>Ct</th>\n",
       "      <th>PPL</th>\n",
       "      <th>PPL</th>\n",
       "      <th>PPL</th>\n",
       "      <th>1</th>\n",
       "      <th>2</th>\n",
       "      <th>3</th>\n",
       "      <th>CHILD</th>\n",
       "      <th>OTHER</th>\n",
       "    </tr>\n",
       "  </thead>\n",
       "  <tbody>\n",
       "    <tr>\n",
       "      <th>0</th>\n",
       "      <td>8562</td>\n",
       "      <td>0</td>\n",
       "      <td>0</td>\n",
       "      <td>0</td>\n",
       "      <td>948</td>\n",
       "      <td>759</td>\n",
       "      <td>0.02</td>\n",
       "      <td>0.48</td>\n",
       "      <td>0.43</td>\n",
       "      <td>0.60</td>\n",
       "      <td>0.46</td>\n",
       "    </tr>\n",
       "    <tr>\n",
       "      <th>1</th>\n",
       "      <td>9017</td>\n",
       "      <td>1</td>\n",
       "      <td>0</td>\n",
       "      <td>0</td>\n",
       "      <td>856</td>\n",
       "      <td>683</td>\n",
       "      <td>0.02</td>\n",
       "      <td>0.51</td>\n",
       "      <td>0.44</td>\n",
       "      <td>0.51</td>\n",
       "      <td>0.44</td>\n",
       "    </tr>\n",
       "    <tr>\n",
       "      <th>2</th>\n",
       "      <td>7991</td>\n",
       "      <td>2</td>\n",
       "      <td>0</td>\n",
       "      <td>0</td>\n",
       "      <td>812</td>\n",
       "      <td>647</td>\n",
       "      <td>0.02</td>\n",
       "      <td>0.53</td>\n",
       "      <td>0.44</td>\n",
       "      <td>0.54</td>\n",
       "      <td>0.46</td>\n",
       "    </tr>\n",
       "    <tr>\n",
       "      <th>3</th>\n",
       "      <td>5797</td>\n",
       "      <td>3</td>\n",
       "      <td>0</td>\n",
       "      <td>0</td>\n",
       "      <td>785</td>\n",
       "      <td>625</td>\n",
       "      <td>0.02</td>\n",
       "      <td>0.54</td>\n",
       "      <td>0.45</td>\n",
       "      <td>0.53</td>\n",
       "      <td>0.45</td>\n",
       "    </tr>\n",
       "    <tr>\n",
       "      <th>4</th>\n",
       "      <td>3312</td>\n",
       "      <td>4</td>\n",
       "      <td>0</td>\n",
       "      <td>0</td>\n",
       "      <td>769</td>\n",
       "      <td>610</td>\n",
       "      <td>0.02</td>\n",
       "      <td>0.54</td>\n",
       "      <td>0.45</td>\n",
       "      <td>0.59</td>\n",
       "      <td>0.43</td>\n",
       "    </tr>\n",
       "    <tr>\n",
       "      <th>5</th>\n",
       "      <td>3259</td>\n",
       "      <td>5</td>\n",
       "      <td>0</td>\n",
       "      <td>0</td>\n",
       "      <td>755</td>\n",
       "      <td>600</td>\n",
       "      <td>0.02</td>\n",
       "      <td>0.54</td>\n",
       "      <td>0.45</td>\n",
       "      <td>0.53</td>\n",
       "      <td>0.43</td>\n",
       "    </tr>\n",
       "    <tr>\n",
       "      <th>6</th>\n",
       "      <td>3358</td>\n",
       "      <td>6</td>\n",
       "      <td>0</td>\n",
       "      <td>0</td>\n",
       "      <td>743</td>\n",
       "      <td>592</td>\n",
       "      <td>0.02</td>\n",
       "      <td>0.55</td>\n",
       "      <td>0.46</td>\n",
       "      <td>0.56</td>\n",
       "      <td>0.42</td>\n",
       "    </tr>\n",
       "    <tr>\n",
       "      <th>7</th>\n",
       "      <td>3313</td>\n",
       "      <td>7</td>\n",
       "      <td>0</td>\n",
       "      <td>0</td>\n",
       "      <td>733</td>\n",
       "      <td>585</td>\n",
       "      <td>0.02</td>\n",
       "      <td>0.54</td>\n",
       "      <td>0.46</td>\n",
       "      <td>0.58</td>\n",
       "      <td>0.43</td>\n",
       "    </tr>\n",
       "  </tbody>\n",
       "</table>\n",
       "</div>"
      ],
      "text/plain": [
       "              TRAIN: VALID: TEST: SPEC:             HIER:      \n",
       "   Time Ep Ct    PPL    PPL   PPL     1     2     3 CHILD OTHER\n",
       "0  8562  0  0      0    948   759  0.02  0.48  0.43  0.60  0.46\n",
       "1  9017  1  0      0    856   683  0.02  0.51  0.44  0.51  0.44\n",
       "2  7991  2  0      0    812   647  0.02  0.53  0.44  0.54  0.46\n",
       "3  5797  3  0      0    785   625  0.02  0.54  0.45  0.53  0.45\n",
       "4  3312  4  0      0    769   610  0.02  0.54  0.45  0.59  0.43\n",
       "5  3259  5  0      0    755   600  0.02  0.54  0.45  0.53  0.43\n",
       "6  3358  6  0      0    743   592  0.02  0.55  0.46  0.56  0.42\n",
       "7  3313  7  0      0    733   585  0.02  0.54  0.46  0.58  0.43"
      ]
     },
     "metadata": {},
     "output_type": "display_data"
    },
    {
     "name": "stdout",
     "output_type": "stream",
     "text": [
      "   0 : ['0-1', '0-2', '0-3', '0-4', '0-5', '0-6', '0-7', '0-8', '0-9', '0-10', '0-11', '0-12', '0-13', '0-14', '0-15', '0-16', '0-17', '0-18', '0-19', '0-20', '0-21', '0-22', '0-23', '0-24', '0-25', '0-26', '0-27', '0-28', '0-29', '0-30', '0-31', '0-32', '0-33', '0-34', '0-35', '0-37', '0-38', '0-39', '0-42', '0-43', '0-44', '0-45'] 238 5237.0 ['use', 'write', 'one', 'get', 'article', 'know', 'like', 'make', 'say', 'go']\n",
      "     0-1 : ['0-1-1', '0-1-2', '0-1-3', '0-1-4'] 8301 79325.0 ['write', 'article', 'get', 'know', 'like', 'one', 'go', 'think', 'anyone', 'see']\n",
      "       0-1-1 : [] 192 4334.0 ['cost', 'work', 'like', 'georgia', 'nasa', 'write', 'go', 'year', 'phone', 'article']\n",
      "       0-1-2 : [] 38 688.0 ['jewish', 'come', 'write', 'john', 'article', 'baseball', 'somebody', 'able', 'thanks', 'know']\n",
      "       0-1-3 : [] 1 2.0 ['piece', 'wing', 'handle', 'dave', 'knowledge', 'prevent', 'james', 'throw', 'washington', 'legal']\n",
      "       0-1-4 : [] 5 7.0 ['session', 'basically', 'gm', 'damn', 'major', 'tape', 'neutral', 'james', 'various', 'legal']\n",
      "     0-2 : ['0-2-1'] 5765 69757.0 ['use', 'get', 'problem', 'write', 'card', 'one', 'know', 'thanks', 'work', 'run']\n",
      "       0-2-1 : [] 470 10993.0 ['problem', 'windows', 'file', 'use', 'window', 'run', 'driver', 'mouse', 'dos', 'card']\n",
      "     0-3 : [] 3587 65127.0 ['car', 'write', 'get', 'article', 'one', 'go', 'bike', 'like', 'make', 'think']\n",
      "     0-4 : ['0-4-2'] 2160 40816.0 ['one', 'write', 'people', 'get', 'article', 'think', 'say', 'make', 'use', 'know']\n",
      "       0-4-2 : [] 208 5666.0 ['msg', 'food', 'use', 'one', 'cause', 'people', 'effect', 'study', 'say', 'eat']\n",
      "     0-5 : ['0-5-2'] 445 7018.0 ['use', 'signal', 'output', 'input', 'pin', 'circuit', 'audio', 'voltage', 'one', 'switch']\n",
      "       0-5-2 : [] 1 2.0 ['account', 'everybody', 'bhj', 'peace', 'dave', 'knowledge', 'prevent', 'james', 'throw', 'washington']\n",
      "     0-6 : ['0-6-1'] 2823 59508.0 ['game', 'team', 'year', 'play', 'go', 'get', 'player', 'write', 'win', 'think']\n",
      "       0-6-1 : [] 97 5610.0 ['game', 'play', 'get', 'goal', 'shot', 'puck', 'score', 'penalty', 'period', 'go']\n",
      "     0-7 : [] 931 9990.0 ['sale', 'price', 'offer', 'sell', 'new', 'include', 'condition', 'ask', 'interested', 'shipping']\n",
      "     0-8 : ['0-8-1'] 154 2172.0 ['new', 'york', 'lose', 'san', 'chicago', 'woman', 'washington', 'atlanta', 'angeles', 'los']\n",
      "       0-8-1 : [] 3 5.0 ['fix', 'solid', 'evil', 'major', 'whole', 'washington', 'final', 'currently', 'various', 'legal']\n",
      "     0-9 : [] 70 2343.0 ['pt', 'period', 'pp', 'la', 'play', 'power', 'philadelphia', 'vs', 'pittsburgh', 'shot']\n",
      "     0-10 : [] 1768 48780.0 ['god', 'say', 'one', 'people', 'write', 'think', 'believe', 'make', 'atheist', 'know']\n",
      "     0-11 : ['0-11-2'] 1562 35973.0 ['file', 'image', 'use', 'available', 'program', 'format', 'version', 'software', 'ftp', 'include']\n",
      "       0-11-2 : [] 65 5166.0 ['image', 'jpeg', 'file', 'gif', 'color', 'format', 'use', 'program', 'display', 'version']\n",
      "     0-12 : [] 60 1294.0 ['instruction', 'set', 'computer', 'reduce', 'screw', 'thread', 'circuit', 'performance', 'remember', 'copyright']\n",
      "     0-13 : [] 21 835.0 ['oo', 'rg', 'eus', 'mr', 'mw', 'mi', 'mg', 'md', 'ax', 'ma']\n",
      "     0-14 : [] 181 4727.0 ['point', 'line', 'plane', 'theory', 'hole', 'find', 'universe', 'edge', 'two', 'star']\n",
      "     0-15 : [] 773 24851.0 ['god', 'jesus', 'say', 'one', 'christian', 'people', 'know', 'see', 'bible', 'christ']\n",
      "     0-16 : [] 18 687.0 ['ca', 'unit', 'cross', 'link', 'disk', 'backup', 'come', 'write', 'pat', 'datum']\n",
      "     0-17 : ['0-17-1'] 1065 26725.0 ['drive', 'disk', 'use', 'scsi', 'hard', 'controller', 'system', 'ide', 'bus', 'card']\n",
      "       0-17-1 : [] 1 1.0 ['sp', 'bhj', 'series', 'ram', 'dave', 'knowledge', 'prevent', 'james', 'throw', 'washington']\n",
      "     0-18 : [] 112 2706.0 ['vote', 'send', 'list', 'request', 'discussion', 'post', 'john', 'newsgroup', 'david', 'ed']\n",
      "     0-19 : [] 88 9498.0 ['entry', 'file', 'output', 'program', 'section', 'use', 'printf', 'char', 'oname', 'rule']\n",
      "     0-20 : [] 1427 38625.0 ['use', 'window', 'widget', 'server', 'file', 'set', 'application', 'get', 'program', 'motif']\n",
      "     0-21 : ['0-21-3'] 33 1646.0 ['appear', 'cover', 'copy', 'art', 'new', 'vs', 'annual', 'rider', 'app', 'issue']\n",
      "       0-21-3 : [] 1 1.0 ['plant', 'bhj', 'peace', 'ram', 'dave', 'knowledge', 'prevent', 'james', 'throw', 'washington']\n",
      "     0-22 : [] 93 1910.0 ['dos', 'good', 'cd', 'excellent', 'book', 'miss', 'edition', 'include', 'cover', 'issue']\n",
      "     0-23 : ['0-23-1'] 73 2517.0 ['dod', 'may', 'ride', 'motorcycle', 'dog', 'run', 'club', 'bmw', 'list', 'flame']\n",
      "       0-23-1 : [] 1 3.0 ['travel', 'shot', 'hitter', 'bhj', 'throw', 'currently', 'various', 'legal', 'washington', 'james']\n",
      "     0-24 : ['0-24-1'] 230 8506.0 ['team', 'hockey', 'vs', 'det', 'gm', 'tor', 'league', 'cal', 'division', 'win']\n",
      "       0-24-1 : [] 2 4.0 ['enough', 'lie', 'forward', 'algorithm', 'legal', 'peace', 'la', 'final', 'currently', 'various']\n",
      "     0-25 : ['0-25-1'] 1403 45958.0 ['key', 'use', 'chip', 'encryption', 'government', 'clipper', 'system', 'one', 'law', 'phone']\n",
      "       0-25-1 : [] 3 6.0 ['worth', 'citizen', 'minnesota', 'tell', 'since', 'maintain', 'throw', 'washington', 'james', 'legal']\n",
      "     0-26 : [] 13 1446.0 ['db', 'mov', 'bh', 'byte', 'cs', 'al', 'bit', 'push', 'one', 'pop']\n",
      "     0-27 : ['0-27-1'] 85 2310.0 ['right', 'arm', 'amendment', 'bear', 'constitution', 'people', 'second', 'keep', 'militia', 'american']\n",
      "       0-27-1 : [] 1 4.0 ['always', 'na', 'cpu', 'hardly', 'bhj', 'various', 'la', 'final', 'currently', 'washington']\n",
      "     0-28 : [] 149 7575.0 ['health', 'use', 'medical', 'center', 'disease', 'cancer', 'university', 'research', 'child', 'report']\n",
      "     0-29 : [] 120 7238.0 ['ground', 'wire', 'use', 'wiring', 'outlet', 'circuit', 'neutral', 'one', 'box', 'connect']\n",
      "     0-30 : [] 72 2689.0 ['day', 'software', 'per', 'tool', 'keyboard', 'take', 'exercise', 'prevent', 'cell', 'level']\n",
      "     0-31 : [] 55 1681.0 ['water', 'plant', 'nuclear', 'use', 'cool', 'power', 'hot', 'air', 'get', 'heat']\n",
      "     0-32 : ['0-32-2', '0-32-3'] 8 160.0 ['patient', 'motor', 'solid', 'old', 'show', 'unit', 'evidence', 'feature', 'active', 'structure']\n",
      "       0-32-2 : [] 1 2.0 ['black', 'color', 'bhj', 'peace', 'ram', 'dave', 'knowledge', 'prevent', 'james', 'throw']\n",
      "       0-32-3 : [] 1 1.0 ['find', 'bhj', 'series', 'dave', 'knowledge', 'prevent', 'james', 'throw', 'washington', 'legal']\n",
      "     0-33 : ['0-33-1'] 98 3583.0 ['conference', 'university', 'research', 'pm', 'computer', 'information', 'include', 'center', 'rate', 'address']\n",
      "       0-33-1 : [] 1 2.0 ['version', 'different', 'bhj', 'peace', 'ram', 'dave', 'knowledge', 'prevent', 'james', 'throw']\n",
      "     0-34 : [] 740 26075.0 ['space', 'launch', 'satellite', 'nasa', 'orbit', 'mission', 'system', 'earth', 'use', 'lunar']\n",
      "     0-35 : ['0-35-1'] 15 414.0 ['gun', 'model', 'fear', 'speaker', 'guarantee', 'freedom', 'cap', 'sell', 'amendment', 'jack']\n",
      "       0-35-1 : [] 1 1.0 ['bruce', 'peace', 'bob', 'ram', 'dave', 'knowledge', 'prevent', 'james', 'throw', 'washington']\n",
      "     0-37 : ['0-37-1', '0-37-2', '0-37-3'] 203 12479.0 ['internet', 'anonymous', 'post', 'use', 'privacy', 'information', 'email', 'list', 'user', 'mail']\n",
      "       0-37-1 : [] 1 10.0 ['include', 'want', 'write', 'within', 'come', 'filter', 'job', 'app', 'jeff', 'final']\n",
      "       0-37-2 : [] 1 1.0 ['various', 'bhj', 'series', 'ram', 'dave', 'knowledge', 'prevent', 'james', 'throw', 'washington']\n",
      "       0-37-3 : [] 1 1.0 ['load', 'peace', 'bob', 'ram', 'dave', 'knowledge', 'prevent', 'james', 'throw', 'washington']\n",
      "     0-38 : ['0-38-1', '0-38-2'] 7 194.0 ['de', 'van', 'meet', 'na', 'la', 'et', 'man', 'defend', 'die', 'ram']\n",
      "       0-38-1 : [] 2 30.0 ['universe', 'walk', 'yesterday', 'foot', 'english', 'road', 'belong', 'conference', 'event', 'organize']\n",
      "       0-38-2 : [] 1 20.0 ['response', 'create', 'transfer', 'major', 'cult', 'difference', 'real', 'typical', 'land', 'second']\n",
      "     0-39 : ['0-39-1', '0-39-2', '0-39-3'] 4 259.0 ['attack', 'produce', 'mother', 'oh', 'satellite', 'government', 'prove', 'many', 'guess', 'advantage']\n",
      "       0-39-1 : [] 4 14.0 ['greek', 'kent', 'tony', 'produce', 'two', 'et', 'thing', 'hall', 'friend', 'tube']\n",
      "       0-39-2 : [] 1 5.0 ['toronto', 'requirement', 'gas', 'graphics', 'km', 'bhj', 'legal', 'la', 'final', 'currently']\n",
      "       0-39-3 : [] 1 1.0 ['info', 'bhj', 'peace', 'ram', 'dave', 'knowledge', 'prevent', 'james', 'throw', 'washington']\n",
      "     0-42 : ['0-42-5'] 0 0.0 ['double', 'sin', 'int', 'printf', 'ca', 'return', 'whatever', 'north', 'else', 'car']\n",
      "       0-42-5 : [] 1 49.0 ['double', 'sin', 'int', 'printf', 'ca', 'return', 'whatever', 'north', 'else', 'car']\n",
      "     0-43 : [] 5 409.0 ['god', 'disease', 'perfect', 'create', 'code', 'evidence', 'region', 'tend', 'without', 'satan']\n",
      "     0-44 : [] 1 5.0 ['press', 'msg', 'repeat', 'jet', 'bhj', 'final', 'currently', 'various', 'legal', 'throw']\n",
      "     0-45 : [] 1 69.0 ['pen', 'installation', 'register', 'section', 'general', 'hour', 'obtain', 'chapter', 'title', 'officer']\n"
     ]
    },
    {
     "name": "stderr",
     "output_type": "stream",
     "text": [
      "/home/m-isonuma/topicsum/rcrp.py:69: RuntimeWarning: divide by zero encountered in log\n",
      "  logits_child_prior = np.log(s_child_prior)\n"
     ]
    }
   ],
   "source": [
    "time_start = time.time()\n",
    "while epoch < config.n_epochs:\n",
    "    sample(train_docs, dev_docs, test_docs, topic_root)\n",
    "#     ppl_train = get_perplexity(train_docs, topic_root)\n",
    "    ppl_train = 0.\n",
    "    ppl_dev = get_perplexity(dev_docs, topic_root)\n",
    "    \n",
    "    if ppl_dev < ppl_min:\n",
    "        ppl_min = ppl_dev\n",
    "        ppl_test = get_perplexity(test_docs, topic_root)\n",
    "        cPickle.dump([test_docs, topic_root], open(config.path_model + '-%i'%epoch, 'wb'))\n",
    "        update_checkpoint(config, checkpoint, epoch)\n",
    "        \n",
    "    depth_spec = get_topic_specialization(test_docs, topic_root)\n",
    "    hierarchical_affinities = get_hierarchical_affinities(topic_root)\n",
    "    \n",
    "    clear_output()\n",
    "    time_log = int(time.time() - time_start)\n",
    "    time_start = time.time()\n",
    "    log_series = pd.Series([time_log, epoch, 0, \\\n",
    "            '%.0f'%ppl_train, '%.0f'%ppl_dev, '%.0f'%ppl_test, \\\n",
    "            '%.2f'%depth_spec[1], '%.2f'%depth_spec[2] if 2 in depth_spec else 0, '%.2f'%depth_spec[3] if 3 in depth_spec else 0, \\\n",
    "            '%.2f'%hierarchical_affinities[0], '%.2f'%hierarchical_affinities[1]],\n",
    "            index=log_df.columns)\n",
    "    log_df.loc[epoch] = log_series\n",
    "    display(log_df)\n",
    "    get_freq_tokens_rcrp(topic_root, idx_to_word, bow_idxs)\n",
    "    \n",
    "    cPickle.dump(log_df, open(config.path_log, 'wb'))\n",
    "    epoch += 1"
   ]
  },
  {
   "cell_type": "code",
   "execution_count": null,
   "metadata": {},
   "outputs": [],
   "source": []
  }
 ],
 "metadata": {
  "kernelspec": {
   "display_name": "py36",
   "language": "python",
   "name": "py36"
  },
  "language_info": {
   "codemirror_mode": {
    "name": "ipython",
    "version": 3
   },
   "file_extension": ".py",
   "mimetype": "text/x-python",
   "name": "python",
   "nbconvert_exporter": "python",
   "pygments_lexer": "ipython3",
   "version": "3.6.9"
  },
  "toc": {
   "base_numbering": 1,
   "nav_menu": {},
   "number_sections": true,
   "sideBar": true,
   "skip_h1_title": false,
   "title_cell": "Table of Contents",
   "title_sidebar": "Contents",
   "toc_cell": false,
   "toc_position": {},
   "toc_section_display": true,
   "toc_window_display": false
  }
 },
 "nbformat": 4,
 "nbformat_minor": 2
}
