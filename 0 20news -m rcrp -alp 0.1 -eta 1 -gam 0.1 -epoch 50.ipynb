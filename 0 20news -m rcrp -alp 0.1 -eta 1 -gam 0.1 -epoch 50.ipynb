{
 "cells": [
  {
   "cell_type": "code",
   "execution_count": 1,
   "metadata": {},
   "outputs": [
    {
     "data": {
      "application/javascript": [
       "IPython.notebook.kernel.execute('nb_name = \"' + IPython.notebook.notebook_name + '\"')\n"
      ],
      "text/plain": [
       "<IPython.core.display.Javascript object>"
      ]
     },
     "metadata": {},
     "output_type": "display_data"
    }
   ],
   "source": [
    "%%javascript\n",
    "IPython.notebook.kernel.execute('nb_name = \"' + IPython.notebook.notebook_name + '\"')"
   ]
  },
  {
   "cell_type": "code",
   "execution_count": 2,
   "metadata": {},
   "outputs": [],
   "source": [
    "%load_ext autoreload\n",
    "%autoreload\n",
    "from IPython.display import clear_output\n",
    "\n",
    "import os\n",
    "os.environ['PYTHONHASHSEED'] = '0'\n",
    "os.environ[\"NUMEXPR_NUM_THREADS\"] = \"1\"\n",
    "os.environ[\"MKL_NUM_THREADS\"] = \"1\"\n",
    "os.environ[\"OMP_NUM_THREADS\"] = \"1\"\n",
    "\n",
    "import pdb\n",
    "import _pickle as cPickle\n",
    "import time\n",
    "import subprocess\n",
    "import glob\n",
    "\n",
    "import random\n",
    "import numpy as np\n",
    "import pandas as pd\n",
    "import tensorflow as tf\n",
    "\n",
    "from collections import defaultdict, Counter\n",
    "from rcrp import Topic, Doc, init, sample, get_perplexity, get_topic_specialization, get_hierarchical_affinities, get_freq_tokens_rcrp, get_docs\n",
    "from configure import get_config"
   ]
  },
  {
   "cell_type": "markdown",
   "metadata": {},
   "source": [
    "# load config & data "
   ]
  },
  {
   "cell_type": "code",
   "execution_count": 3,
   "metadata": {},
   "outputs": [],
   "source": [
    "config = get_config(nb_name)\n",
    "np.random.seed(config.seed)\n",
    "random.seed(config.seed)"
   ]
  },
  {
   "cell_type": "code",
   "execution_count": 4,
   "metadata": {},
   "outputs": [],
   "source": [
    "instances_train, instances_dev, instances_test, word_to_idx, idx_to_word, bow_idxs = cPickle.load(open(config.path_data,'rb'))"
   ]
  },
  {
   "cell_type": "code",
   "execution_count": 5,
   "metadata": {},
   "outputs": [
    {
     "data": {
      "text/plain": [
       "(9006, 1995)"
      ]
     },
     "execution_count": 5,
     "metadata": {},
     "output_type": "execute_result"
    }
   ],
   "source": [
    "config.n_doc = len(instances_train)\n",
    "config.n_vocab = len(bow_idxs)\n",
    "config.n_doc, config.n_vocab"
   ]
  },
  {
   "cell_type": "code",
   "execution_count": 6,
   "metadata": {},
   "outputs": [
    {
     "data": {
      "text/plain": [
       "695746"
      ]
     },
     "execution_count": 6,
     "metadata": {},
     "output_type": "execute_result"
    }
   ],
   "source": [
    "docs_bow = [instance.bow for instance in instances_train]\n",
    "docs_raw = [[[bow_index]*int(doc_bow[bow_index]) for bow_index in np.where(doc_bow > 0)[0]] for doc_bow in docs_bow]\n",
    "docs_words = [[idx for idxs in doc for idx in idxs] for doc in docs_raw]\n",
    "np.sum([len(doc_words) for doc_words in docs_words])"
   ]
  },
  {
   "cell_type": "markdown",
   "metadata": {},
   "source": [
    "# run"
   ]
  },
  {
   "cell_type": "markdown",
   "metadata": {},
   "source": [
    "## initialize log"
   ]
  },
  {
   "cell_type": "code",
   "execution_count": 7,
   "metadata": {},
   "outputs": [],
   "source": [
    "checkpoint = []\n",
    "ppl_min = np.inf\n",
    "epoch = 0\n",
    "\n",
    "cmd_rm = 'rm -r %s' % config.dir_model\n",
    "res = subprocess.call(cmd_rm.split())\n",
    "cmd_mk = 'mkdir %s' % config.dir_model\n",
    "res = subprocess.call(cmd_mk.split())\n",
    "\n",
    "log_df = pd.DataFrame(columns=pd.MultiIndex.from_tuples(\n",
    "                    list(zip(*[['','','','TRAIN:','VALID:','TEST:','SPEC:', '', '', 'HIER:', ''],\n",
    "                            ['Time','Ep','Ct','PPL','PPL', 'PPL','1', '2', '3', 'CHILD', 'OTHER']]))))\n",
    "\n",
    "def update_checkpoint(config, checkpoint, epoch):\n",
    "    checkpoint.append(config.path_model + '-%i' % epoch)\n",
    "    if len(checkpoint) > config.max_to_keep:\n",
    "        path_model = checkpoint.pop(0)\n",
    "        for p in glob.glob(path_model):\n",
    "            os.remove(p)\n",
    "    cPickle.dump(checkpoint, open(config.path_checkpoint, 'wb'))"
   ]
  },
  {
   "cell_type": "markdown",
   "metadata": {},
   "source": [
    "## initialize data"
   ]
  },
  {
   "cell_type": "code",
   "execution_count": 8,
   "metadata": {},
   "outputs": [],
   "source": [
    "topic_root = Topic(idx='0', sibling_idx=0, parent=None, depth=1, config=config)\n",
    "train_docs = get_docs(instances_train, config, topic_root=topic_root)\n",
    "dev_docs = get_docs(instances_dev, config, topic_root=topic_root)\n",
    "test_docs = get_docs(instances_test, config, topic_root=topic_root)\n",
    "init(train_docs, dev_docs, test_docs, topic_root)"
   ]
  },
  {
   "cell_type": "markdown",
   "metadata": {},
   "source": [
    "## run"
   ]
  },
  {
   "cell_type": "code",
   "execution_count": null,
   "metadata": {
    "scrolled": false
   },
   "outputs": [
    {
     "data": {
      "text/html": [
       "<div>\n",
       "<style scoped>\n",
       "    .dataframe tbody tr th:only-of-type {\n",
       "        vertical-align: middle;\n",
       "    }\n",
       "\n",
       "    .dataframe tbody tr th {\n",
       "        vertical-align: top;\n",
       "    }\n",
       "\n",
       "    .dataframe thead tr th {\n",
       "        text-align: left;\n",
       "    }\n",
       "</style>\n",
       "<table border=\"1\" class=\"dataframe\">\n",
       "  <thead>\n",
       "    <tr>\n",
       "      <th></th>\n",
       "      <th colspan=\"3\" halign=\"left\"></th>\n",
       "      <th>TRAIN:</th>\n",
       "      <th>VALID:</th>\n",
       "      <th>TEST:</th>\n",
       "      <th>SPEC:</th>\n",
       "      <th colspan=\"2\" halign=\"left\"></th>\n",
       "      <th>HIER:</th>\n",
       "      <th></th>\n",
       "    </tr>\n",
       "    <tr>\n",
       "      <th></th>\n",
       "      <th>Time</th>\n",
       "      <th>Ep</th>\n",
       "      <th>Ct</th>\n",
       "      <th>PPL</th>\n",
       "      <th>PPL</th>\n",
       "      <th>PPL</th>\n",
       "      <th>1</th>\n",
       "      <th>2</th>\n",
       "      <th>3</th>\n",
       "      <th>CHILD</th>\n",
       "      <th>OTHER</th>\n",
       "    </tr>\n",
       "  </thead>\n",
       "  <tbody>\n",
       "    <tr>\n",
       "      <th>0</th>\n",
       "      <td>1198</td>\n",
       "      <td>0</td>\n",
       "      <td>0</td>\n",
       "      <td>0</td>\n",
       "      <td>1060</td>\n",
       "      <td>796</td>\n",
       "      <td>0.02</td>\n",
       "      <td>0.49</td>\n",
       "      <td>0.54</td>\n",
       "      <td>0.85</td>\n",
       "      <td>0.32</td>\n",
       "    </tr>\n",
       "    <tr>\n",
       "      <th>1</th>\n",
       "      <td>2843</td>\n",
       "      <td>1</td>\n",
       "      <td>0</td>\n",
       "      <td>0</td>\n",
       "      <td>1018</td>\n",
       "      <td>751</td>\n",
       "      <td>0.02</td>\n",
       "      <td>0.48</td>\n",
       "      <td>0.55</td>\n",
       "      <td>0.63</td>\n",
       "      <td>0.34</td>\n",
       "    </tr>\n",
       "  </tbody>\n",
       "</table>\n",
       "</div>"
      ],
      "text/plain": [
       "              TRAIN: VALID: TEST: SPEC:             HIER:      \n",
       "   Time Ep Ct    PPL    PPL   PPL     1     2     3 CHILD OTHER\n",
       "0  1198  0  0      0   1060   796  0.02  0.49  0.54  0.85  0.32\n",
       "1  2843  1  0      0   1018   751  0.02  0.48  0.55  0.63  0.34"
      ]
     },
     "metadata": {},
     "output_type": "display_data"
    },
    {
     "name": "stdout",
     "output_type": "stream",
     "text": [
      "   0 : ['0-1', '0-2', '0-3', '0-4', '0-5', '0-6', '0-7', '0-8', '0-9', '0-10', '0-11', '0-12', '0-13', '0-14', '0-15', '0-16', '0-17', '0-18', '0-19', '0-20', '0-21', '0-23', '0-24', '0-25', '0-26', '0-27', '0-28', '0-29', '0-30', '0-31', '0-32', '0-33', '0-34', '0-35', '0-36', '0-37', '0-38', '0-39', '0-40', '0-41', '0-42', '0-43'] 2038 48039.0 ['use', 'write', 'one', 'get', 'article', 'know', 'like', 'make', 'say', 'go']\n",
      "     0-1 : [] 882 63484.0 ['god', 'one', 'write', 'say', 'people', 'think', 'article', 'make', 'know', 'believe']\n",
      "     0-2 : [] 276 23543.0 ['god', 'jesus', 'say', 'one', 'people', 'know', 'write', 'christian', 'christ', 'come']\n",
      "     0-3 : [] 709 36636.0 ['use', 'image', 'file', 'available', 'software', 'write', 'also', 'ftp', 'include', 'version']\n",
      "     0-4 : ['0-4-1'] 103 6803.0 ['msg', 'food', 'write', 'one', 'article', 'people', 'get', 'use', 'know', 'make']\n",
      "       0-4-1 : [] 3 165.0 ['doug', 'build', 'error', 'western', 'problem', 'apr', 'gmt', 'say', 'load', 'library']\n",
      "     0-5 : [] 1451 53711.0 ['use', 'file', 'write', 'get', 'windows', 'problem', 'card', 'know', 'run', 'driver']\n",
      "     0-6 : [] 462 14140.0 ['sale', 'offer', 'include', 'new', 'price', 'use', 'condition', 'sell', 'please', 'ask']\n",
      "     0-7 : [] 10 705.0 ['rg', 'eus', 'mr', 'oo', 'mw', 'mi', 'mg', 'ax', 'ma', 'bhj']\n",
      "     0-8 : [] 1076 46752.0 ['drive', 'use', 'get', 'one', 'write', 'card', 'work', 'scsi', 'know', 'disk']\n",
      "     0-9 : [] 72 3441.0 ['use', 'pin', 'output', 'input', 'signal', 'drive', 'one', 'wave', 'need', 'write']\n",
      "     0-10 : [] 15 3985.0 ['use', 'mac', 'os', 'ibm', 'windows', 'color', 'pc', 'machine', 'system', 'standard']\n",
      "     0-11 : [] 11 9171.0 ['entry', 'file', 'output', 'program', 'section', 'use', 'oname', 'printf', 'rule', 'char']\n",
      "     0-12 : [] 533 37855.0 ['use', 'window', 'widget', 'server', 'get', 'file', 'application', 'write', 'program', 'run']\n",
      "     0-13 : [] 39 2636.0 ['vs', 'gm', 'det', 'tor', 'pit', 'cal', 'van', 'que', 'la', 'mon']\n",
      "     0-14 : [] 12 1423.0 ['appear', 'cover', 'copy', 'art', 'new', 'vs', 'annual', 'rider', 'app', 'issue']\n",
      "     0-15 : [] 8 1061.0 ['dos', 'ca', 'good', 'excellent', 'miss', 'module', 'cover', 'fair', 'include', 'world']\n",
      "     0-16 : [] 1723 77275.0 ['write', 'car', 'get', 'article', 'one', 'go', 'like', 'bike', 'use', 'make']\n",
      "     0-17 : [] 125 8904.0 ['list', 'dod', 'may', 'send', 'post', 'ride', 'get', 'request', 'make', 'one']\n",
      "     0-18 : [] 1341 70474.0 ['game', 'team', 'year', 'write', 'get', 'go', 'play', 'player', 'think', 'win']\n",
      "     0-19 : [] 22 3036.0 ['pt', 'period', 'pp', 'la', 'play', 'power', 'shot', 'vs', 'third', 'second']\n",
      "     0-20 : [] 81 8002.0 ['team', 'game', 'hockey', 'new', 'league', 'nhl', 'april', 'pick', 'division', 'season']\n",
      "     0-21 : [] 636 55948.0 ['key', 'use', 'encryption', 'chip', 'government', 'one', 'write', 'clipper', 'system', 'get']\n",
      "     0-23 : [] 10 520.0 ['de', 'van', 'screw', 'thread', 'use', 'standard', 'que', 'step', 'meet', 'na']\n",
      "     0-24 : [] 56 6177.0 ['space', 'university', 'conference', 'program', 'information', 'include', 'pm', 'research', 'use', 'technology']\n",
      "     0-25 : [] 153 14080.0 ['use', 'ground', 'wire', 'one', 'circuit', 'power', 'wiring', 'get', 'outlet', 'current']\n",
      "     0-26 : [] 360 22692.0 ['write', 'one', 'get', 'article', 'take', 'patient', 'doctor', 'know', 'disease', 'use']\n",
      "     0-27 : [] 5 681.0 ['water', 'washington', 'new', 'city', 'dc', 'ma', 'york', 'ny', 'street', 'system']\n",
      "     0-28 : ['0-28-1'] 359 21828.0 ['space', 'launch', 'orbit', 'write', 'nasa', 'use', 'mission', 'one', 'article', 'moon']\n",
      "       0-28-1 : [] 35 9138.0 ['space', 'mission', 'nasa', 'probe', 'orbit', 'satellite', 'lunar', 'earth', 'launch', 'first']\n",
      "     0-29 : [] 19 6383.0 ['health', 'use', 'medical', 'center', 'cancer', 'report', 'child', 'research', 'disease', 'number']\n",
      "     0-30 : [] 71 5985.0 ['year', 'go', 'get', 'write', 'cost', 'like', 'article', 'people', 'nasa', 'say']\n",
      "     0-31 : [] 7 3043.0 ['launch', 'satellite', 'space', 'market', 'commercial', 'datum', 'service', 'system', 'year', 'us']\n",
      "     0-32 : [] 10 789.0 ['point', 'edge', 'find', 'plane', 'surface', 'face', 'normal', 'algorithm', 'line', 'problem']\n",
      "     0-33 : [] 9 1644.0 ['theory', 'universe', 'star', 'physical', 'black', 'book', 'one', 'time', 'space', 'white']\n",
      "     0-34 : [] 4 1846.0 ['argument', 'conclusion', 'example', 'true', 'use', 'therefore', 'one', 'occur', 'ad', 'must']\n",
      "     0-35 : [] 6 4626.0 ['jpeg', 'image', 'file', 'gif', 'format', 'program', 'color', 'use', 'display', 'version']\n",
      "     0-36 : [] 1 261.0 ['unit', 'link', 'cross', 'error', 'byte', 'disk', 'size', 'windows', 'window', 'find']\n",
      "     0-37 : [] 3 2840.0 ['drive', 'disk', 'system', 'jumper', 'hard', 'controller', 'support', 'rom', 'bio', 'slave']\n",
      "     0-38 : [] 1 1401.0 ['db', 'mov', 'bh', 'byte', 'cs', 'al', 'bit', 'push', 'pop', 'one']\n",
      "     0-39 : [] 13 10935.0 ['anonymous', 'internet', 'privacy', 'post', 'use', 'information', 'system', 'user', 'email', 'computer']\n",
      "     0-40 : [] 4 1217.0 ['right', 'arm', 'bear', 'amendment', 'keep', 'people', 'second', 'constitution', 'militia', 'sentence']\n",
      "     0-41 : [] 3 2188.0 ['keyboard', 'use', 'pc', 'support', 'also', 'available', 'tool', 'work', 'one', 'mac']\n",
      "     0-42 : [] 1 158.0 ['david', 'john', 'robert', 'vote', 'mark', 'richard', 'chris', 'steve', 'michael', 'bruce']\n",
      "     0-43 : [] 1 125.0 ['claim', 'scott', 'group', 'cult', 'include', 'apr', 'former', 'inside', 'authority', 'report']\n"
     ]
    }
   ],
   "source": [
    "time_start = time.time()\n",
    "while epoch < config.n_epochs:\n",
    "    sample(train_docs, dev_docs, test_docs, topic_root)\n",
    "#     ppl_train = get_perplexity(train_docs, topic_root)\n",
    "    ppl_train = 0.\n",
    "    ppl_dev = get_perplexity(dev_docs, topic_root)\n",
    "    \n",
    "    if ppl_dev < ppl_min:\n",
    "        ppl_min = ppl_dev\n",
    "        ppl_test = get_perplexity(test_docs, topic_root)\n",
    "        cPickle.dump([test_docs, topic_root], open(config.path_model + '-%i'%epoch, 'wb'))\n",
    "        update_checkpoint(config, checkpoint, epoch)\n",
    "        \n",
    "    depth_spec = get_topic_specialization(test_docs, topic_root)\n",
    "    hierarchical_affinities = get_hierarchical_affinities(topic_root)\n",
    "    \n",
    "    clear_output()\n",
    "    time_log = int(time.time() - time_start)\n",
    "    time_start = time.time()\n",
    "    log_series = pd.Series([time_log, epoch, 0, \\\n",
    "            '%.0f'%ppl_train, '%.0f'%ppl_dev, '%.0f'%ppl_test, \\\n",
    "            '%.2f'%depth_spec[1], '%.2f'%depth_spec[2] if 2 in depth_spec else 0, '%.2f'%depth_spec[3] if 3 in depth_spec else 0, \\\n",
    "            '%.2f'%hierarchical_affinities[0], '%.2f'%hierarchical_affinities[1]],\n",
    "            index=log_df.columns)\n",
    "    log_df.loc[epoch] = log_series\n",
    "    display(log_df)\n",
    "    get_freq_tokens_rcrp(topic_root, idx_to_word, bow_idxs)\n",
    "    \n",
    "    cPickle.dump(log_df, open(config.path_log, 'wb'))\n",
    "    epoch += 1"
   ]
  },
  {
   "cell_type": "code",
   "execution_count": null,
   "metadata": {},
   "outputs": [],
   "source": []
  }
 ],
 "metadata": {
  "kernelspec": {
   "display_name": "py36",
   "language": "python",
   "name": "py36"
  },
  "language_info": {
   "codemirror_mode": {
    "name": "ipython",
    "version": 3
   },
   "file_extension": ".py",
   "mimetype": "text/x-python",
   "name": "python",
   "nbconvert_exporter": "python",
   "pygments_lexer": "ipython3",
   "version": "3.6.9"
  },
  "toc": {
   "base_numbering": 1,
   "nav_menu": {},
   "number_sections": true,
   "sideBar": true,
   "skip_h1_title": false,
   "title_cell": "Table of Contents",
   "title_sidebar": "Contents",
   "toc_cell": false,
   "toc_position": {},
   "toc_section_display": true,
   "toc_window_display": false
  }
 },
 "nbformat": 4,
 "nbformat_minor": 2
}
