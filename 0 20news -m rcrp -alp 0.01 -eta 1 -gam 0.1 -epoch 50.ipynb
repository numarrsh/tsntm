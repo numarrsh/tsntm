{
 "cells": [
  {
   "cell_type": "code",
   "execution_count": 1,
   "metadata": {},
   "outputs": [
    {
     "data": {
      "application/javascript": [
       "IPython.notebook.kernel.execute('nb_name = \"' + IPython.notebook.notebook_name + '\"')\n"
      ],
      "text/plain": [
       "<IPython.core.display.Javascript object>"
      ]
     },
     "metadata": {},
     "output_type": "display_data"
    }
   ],
   "source": [
    "%%javascript\n",
    "IPython.notebook.kernel.execute('nb_name = \"' + IPython.notebook.notebook_name + '\"')"
   ]
  },
  {
   "cell_type": "code",
   "execution_count": 2,
   "metadata": {},
   "outputs": [],
   "source": [
    "%load_ext autoreload\n",
    "%autoreload\n",
    "from IPython.display import clear_output\n",
    "\n",
    "import os\n",
    "os.environ['PYTHONHASHSEED'] = '0'\n",
    "os.environ[\"NUMEXPR_NUM_THREADS\"] = \"1\"\n",
    "os.environ[\"MKL_NUM_THREADS\"] = \"1\"\n",
    "os.environ[\"OMP_NUM_THREADS\"] = \"1\"\n",
    "\n",
    "import pdb\n",
    "import _pickle as cPickle\n",
    "import time\n",
    "import subprocess\n",
    "import glob\n",
    "\n",
    "import random\n",
    "import numpy as np\n",
    "import pandas as pd\n",
    "import tensorflow as tf\n",
    "\n",
    "from collections import defaultdict, Counter\n",
    "from rcrp import Topic, Doc, init, sample, get_perplexity, get_topic_specialization, get_hierarchical_affinities, get_freq_tokens_rcrp, get_docs\n",
    "from configure import get_config"
   ]
  },
  {
   "cell_type": "markdown",
   "metadata": {},
   "source": [
    "# load config & data "
   ]
  },
  {
   "cell_type": "code",
   "execution_count": 3,
   "metadata": {},
   "outputs": [],
   "source": [
    "config = get_config(nb_name)\n",
    "np.random.seed(config.seed)\n",
    "random.seed(config.seed)"
   ]
  },
  {
   "cell_type": "code",
   "execution_count": 4,
   "metadata": {},
   "outputs": [],
   "source": [
    "instances_train, instances_dev, instances_test, word_to_idx, idx_to_word, bow_idxs = cPickle.load(open(config.path_data,'rb'))"
   ]
  },
  {
   "cell_type": "code",
   "execution_count": 5,
   "metadata": {},
   "outputs": [
    {
     "data": {
      "text/plain": [
       "(9006, 1995)"
      ]
     },
     "execution_count": 5,
     "metadata": {},
     "output_type": "execute_result"
    }
   ],
   "source": [
    "config.n_doc = len(instances_train)\n",
    "config.n_vocab = len(bow_idxs)\n",
    "config.n_doc, config.n_vocab"
   ]
  },
  {
   "cell_type": "code",
   "execution_count": 6,
   "metadata": {},
   "outputs": [
    {
     "data": {
      "text/plain": [
       "695746"
      ]
     },
     "execution_count": 6,
     "metadata": {},
     "output_type": "execute_result"
    }
   ],
   "source": [
    "docs_bow = [instance.bow for instance in instances_train]\n",
    "docs_raw = [[[bow_index]*int(doc_bow[bow_index]) for bow_index in np.where(doc_bow > 0)[0]] for doc_bow in docs_bow]\n",
    "docs_words = [[idx for idxs in doc for idx in idxs] for doc in docs_raw]\n",
    "np.sum([len(doc_words) for doc_words in docs_words])"
   ]
  },
  {
   "cell_type": "markdown",
   "metadata": {},
   "source": [
    "# run"
   ]
  },
  {
   "cell_type": "markdown",
   "metadata": {},
   "source": [
    "## initialize log"
   ]
  },
  {
   "cell_type": "code",
   "execution_count": 7,
   "metadata": {},
   "outputs": [],
   "source": [
    "checkpoint = []\n",
    "ppl_min = np.inf\n",
    "epoch = 0\n",
    "\n",
    "cmd_rm = 'rm -r %s' % config.dir_model\n",
    "res = subprocess.call(cmd_rm.split())\n",
    "cmd_mk = 'mkdir %s' % config.dir_model\n",
    "res = subprocess.call(cmd_mk.split())\n",
    "\n",
    "log_df = pd.DataFrame(columns=pd.MultiIndex.from_tuples(\n",
    "                    list(zip(*[['','','','TRAIN:','VALID:','TEST:','SPEC:', '', '', 'HIER:', ''],\n",
    "                            ['Time','Ep','Ct','PPL','PPL', 'PPL','1', '2', '3', 'CHILD', 'OTHER']]))))\n",
    "\n",
    "def update_checkpoint(config, checkpoint, epoch):\n",
    "    checkpoint.append(config.path_model + '-%i' % epoch)\n",
    "    if len(checkpoint) > config.max_to_keep:\n",
    "        path_model = checkpoint.pop(0)\n",
    "        for p in glob.glob(path_model):\n",
    "            os.remove(p)\n",
    "    cPickle.dump(checkpoint, open(config.path_checkpoint, 'wb'))"
   ]
  },
  {
   "cell_type": "markdown",
   "metadata": {},
   "source": [
    "## initialize data"
   ]
  },
  {
   "cell_type": "code",
   "execution_count": 8,
   "metadata": {},
   "outputs": [],
   "source": [
    "topic_root = Topic(idx='0', sibling_idx=0, parent=None, depth=1, config=config)\n",
    "train_docs = get_docs(instances_train, config, topic_root=topic_root)\n",
    "dev_docs = get_docs(instances_dev, config, topic_root=topic_root)\n",
    "test_docs = get_docs(instances_test, config, topic_root=topic_root)\n",
    "init(train_docs, dev_docs, test_docs, topic_root)"
   ]
  },
  {
   "cell_type": "markdown",
   "metadata": {},
   "source": [
    "## run"
   ]
  },
  {
   "cell_type": "code",
   "execution_count": null,
   "metadata": {
    "scrolled": false
   },
   "outputs": [
    {
     "data": {
      "text/html": [
       "<div>\n",
       "<style scoped>\n",
       "    .dataframe tbody tr th:only-of-type {\n",
       "        vertical-align: middle;\n",
       "    }\n",
       "\n",
       "    .dataframe tbody tr th {\n",
       "        vertical-align: top;\n",
       "    }\n",
       "\n",
       "    .dataframe thead tr th {\n",
       "        text-align: left;\n",
       "    }\n",
       "</style>\n",
       "<table border=\"1\" class=\"dataframe\">\n",
       "  <thead>\n",
       "    <tr>\n",
       "      <th></th>\n",
       "      <th colspan=\"3\" halign=\"left\"></th>\n",
       "      <th>TRAIN:</th>\n",
       "      <th>VALID:</th>\n",
       "      <th>TEST:</th>\n",
       "      <th>SPEC:</th>\n",
       "      <th colspan=\"2\" halign=\"left\"></th>\n",
       "      <th>HIER:</th>\n",
       "      <th></th>\n",
       "    </tr>\n",
       "    <tr>\n",
       "      <th></th>\n",
       "      <th>Time</th>\n",
       "      <th>Ep</th>\n",
       "      <th>Ct</th>\n",
       "      <th>PPL</th>\n",
       "      <th>PPL</th>\n",
       "      <th>PPL</th>\n",
       "      <th>1</th>\n",
       "      <th>2</th>\n",
       "      <th>3</th>\n",
       "      <th>CHILD</th>\n",
       "      <th>OTHER</th>\n",
       "    </tr>\n",
       "  </thead>\n",
       "  <tbody>\n",
       "    <tr>\n",
       "      <th>0</th>\n",
       "      <td>859</td>\n",
       "      <td>0</td>\n",
       "      <td>0</td>\n",
       "      <td>0</td>\n",
       "      <td>1094</td>\n",
       "      <td>804</td>\n",
       "      <td>0.02</td>\n",
       "      <td>0.48</td>\n",
       "      <td>0.76</td>\n",
       "      <td>0.88</td>\n",
       "      <td>0.19</td>\n",
       "    </tr>\n",
       "    <tr>\n",
       "      <th>1</th>\n",
       "      <td>2069</td>\n",
       "      <td>1</td>\n",
       "      <td>0</td>\n",
       "      <td>0</td>\n",
       "      <td>1059</td>\n",
       "      <td>767</td>\n",
       "      <td>0.02</td>\n",
       "      <td>0.47</td>\n",
       "      <td>0.79</td>\n",
       "      <td>0.50</td>\n",
       "      <td>0.17</td>\n",
       "    </tr>\n",
       "    <tr>\n",
       "      <th>2</th>\n",
       "      <td>3045</td>\n",
       "      <td>2</td>\n",
       "      <td>0</td>\n",
       "      <td>0</td>\n",
       "      <td>1048</td>\n",
       "      <td>759</td>\n",
       "      <td>0.02</td>\n",
       "      <td>0.46</td>\n",
       "      <td>0.79</td>\n",
       "      <td>0.49</td>\n",
       "      <td>0.17</td>\n",
       "    </tr>\n",
       "  </tbody>\n",
       "</table>\n",
       "</div>"
      ],
      "text/plain": [
       "              TRAIN: VALID: TEST: SPEC:             HIER:      \n",
       "   Time Ep Ct    PPL    PPL   PPL     1     2     3 CHILD OTHER\n",
       "0   859  0  0      0   1094   804  0.02  0.48  0.76  0.88  0.19\n",
       "1  2069  1  0      0   1059   767  0.02  0.47  0.79  0.50  0.17\n",
       "2  3045  2  0      0   1048   759  0.02  0.46  0.79  0.49  0.17"
      ]
     },
     "metadata": {},
     "output_type": "display_data"
    },
    {
     "name": "stdout",
     "output_type": "stream",
     "text": [
      "   0 : ['0-1', '0-2', '0-3', '0-4', '0-5', '0-6', '0-7', '0-8', '0-9', '0-10', '0-11', '0-12', '0-14', '0-15', '0-16', '0-17', '0-18', '0-19', '0-20', '0-22', '0-23', '0-24', '0-25', '0-26', '0-27', '0-28', '0-29', '0-30', '0-31', '0-32', '0-33', '0-34', '0-35', '0-36', '0-38', '0-39', '0-40', '0-41'] 311 15043.0 ['use', 'write', 'one', 'get', 'article', 'know', 'like', 'make', 'say', 'go']\n",
      "     0-1 : [] 548 55899.0 ['god', 'write', 'one', 'say', 'people', 'think', 'article', 'make', 'know', 'believe']\n",
      "     0-2 : [] 275 29395.0 ['god', 'jesus', 'one', 'say', 'people', 'write', 'christian', 'know', 'think', 'see']\n",
      "     0-3 : [] 316 19950.0 ['write', 'one', 'article', 'use', 'point', 'like', 'get', 'line', 'year', 'go']\n",
      "     0-4 : [] 8 847.0 ['rg', 'de', 'eus', 'mr', 'van', 'mw', 'oo', 'mi', 'mg', 'ax']\n",
      "     0-5 : [] 485 34880.0 ['use', 'image', 'file', 'available', 'write', 'also', 'include', 'software', 'ftp', 'version']\n",
      "     0-6 : [] 1368 64455.0 ['use', 'get', 'write', 'file', 'problem', 'windows', 'know', 'card', 'run', 'one']\n",
      "     0-7 : [] 473 16985.0 ['offer', 'sale', 'include', 'new', 'sell', 'use', 'price', 'please', 'dos', 'ask']\n",
      "     0-8 : [] 126 10861.0 ['use', 'simm', 'mac', 'speed', 'one', 'system', 'memory', 'sound', 'write', 'datum']\n",
      "     0-9 : [] 599 32995.0 ['drive', 'use', 'get', 'one', 'write', 'scsi', 'card', 'know', 'ide', 'problem']\n",
      "     0-10 : [] 8 9174.0 ['entry', 'file', 'output', 'program', 'use', 'section', 'oname', 'rule', 'printf', 'char']\n",
      "     0-11 : [] 448 38417.0 ['use', 'window', 'widget', 'get', 'server', 'application', 'file', 'write', 'program', 'display']\n",
      "     0-12 : [] 9 1516.0 ['appear', 'cover', 'copy', 'art', 'new', 'vs', 'annual', 'rider', 'app', 'issue']\n",
      "     0-14 : ['0-14-1'] 23 2214.0 ['gm', 'vs', 'det', 'tor', 'pit', 'cal', 'van', 'que', 'min', 'la']\n",
      "       0-14-1 : [] 4 369.0 ['gm', 'vs', 'st', 'john', 'division', 'hockey', 'cup', 'red', 'lead', 'wings']\n",
      "     0-15 : [] 1307 75260.0 ['car', 'write', 'get', 'article', 'one', 'go', 'like', 'bike', 'think', 'use']\n",
      "     0-16 : [] 202 11981.0 ['list', 'send', 'post', 'get', 'dod', 'may', 'article', 'write', 'request', 'one']\n",
      "     0-17 : [] 1028 69623.0 ['game', 'team', 'year', 'write', 'get', 'go', 'play', 'player', 'think', 'win']\n",
      "     0-18 : [] 20 3319.0 ['pt', 'period', 'pp', 'play', 'la', 'power', 'shot', 'goal', 'vs', 'first']\n",
      "     0-19 : [] 91 9375.0 ['team', 'hockey', 'new', 'game', 'league', 'nhl', 'division', 'april', 'pick', 'season']\n",
      "     0-20 : [] 483 55590.0 ['key', 'use', 'chip', 'encryption', 'government', 'one', 'write', 'clipper', 'system', 'get']\n",
      "     0-22 : [] 171 16510.0 ['use', 'ground', 'wire', 'one', 'circuit', 'get', 'power', 'wiring', 'outlet', 'write']\n",
      "     0-23 : [] 51 7080.0 ['space', 'university', 'program', 'conference', 'information', 'include', 'research', 'technology', 'use', 'pm']\n",
      "     0-24 : [] 494 34364.0 ['write', 'one', 'article', 'get', 'know', 'food', 'use', 'people', 'take', 'msg']\n",
      "     0-25 : [] 3 657.0 ['water', 'washington', 'new', 'city', 'ma', 'ny', 'street', 'dc', 'york', 'news']\n",
      "     0-26 : [] 13 6428.0 ['health', 'use', 'medical', 'center', 'cancer', 'child', 'disease', 'report', 'number', 'research']\n",
      "     0-27 : [] 362 30546.0 ['space', 'write', 'launch', 'article', 'orbit', 'use', 'one', 'nasa', 'moon', 'get']\n",
      "     0-28 : [] 15 5557.0 ['space', 'launch', 'satellite', 'system', 'mission', 'year', 'service', 'nasa', 'commercial', 'market']\n",
      "     0-29 : [] 6 695.0 ['ca', 'screw', 'thread', 'write', 'use', 'come', 'word', 'free', 'see', 'standard']\n",
      "     0-30 : [] 15 2908.0 ['time', 'theory', 'universe', 'mass', 'earth', 'space', 'one', 'physical', 'star', 'book']\n",
      "     0-31 : [] 5 1757.0 ['argument', 'conclusion', 'example', 'therefore', 'true', 'use', 'one', 'occur', 'valid', 'ad']\n",
      "     0-32 : [] 16 5468.0 ['image', 'jpeg', 'file', 'gif', 'color', 'format', 'use', 'program', 'display', 'version']\n",
      "     0-33 : [] 4 431.0 ['unit', 'link', 'cross', 'doug', 'error', 'build', 'byte', 'disk', 'size', 'western']\n",
      "     0-34 : [] 4 2932.0 ['drive', 'disk', 'jumper', 'system', 'hard', 'controller', 'support', 'rom', 'bio', 'slave']\n",
      "     0-35 : [] 8 1882.0 ['vote', 'windows', 'john', 'discussion', 'david', 'newsgroup', 'yes', 'name', 'create', 'world']\n",
      "     0-36 : [] 4 581.0 ['good', 'excellent', 'miss', 'cover', 'module', 'fair', 'poster', 'include', 'mother', 'game']\n",
      "     0-38 : [] 27 12104.0 ['anonymous', 'internet', 'post', 'privacy', 'use', 'information', 'user', 'system', 'email', 'computer']\n",
      "     0-39 : [] 22 2443.0 ['right', 'arm', 'people', 'amendment', 'bear', 'constitution', 'keep', 'second', 'militia', 'write']\n",
      "     0-40 : [] 12 3854.0 ['keyboard', 'use', 'pc', 'also', 'program', 'one', 'get', 'available', 'picture', 'work']\n",
      "     0-41 : [] 1 1401.0 ['db', 'mov', 'bh', 'byte', 'cs', 'al', 'bit', 'push', 'pop', 'one']\n"
     ]
    }
   ],
   "source": [
    "time_start = time.time()\n",
    "while epoch < config.n_epochs:\n",
    "    sample(train_docs, dev_docs, test_docs, topic_root)\n",
    "#     ppl_train = get_perplexity(train_docs, topic_root)\n",
    "    ppl_train = 0.\n",
    "    ppl_dev = get_perplexity(dev_docs, topic_root)\n",
    "    \n",
    "    if ppl_dev < ppl_min:\n",
    "        ppl_min = ppl_dev\n",
    "        ppl_test = get_perplexity(test_docs, topic_root)\n",
    "        cPickle.dump([test_docs, topic_root], open(config.path_model + '-%i'%epoch, 'wb'))\n",
    "        update_checkpoint(config, checkpoint, epoch)\n",
    "        \n",
    "    depth_spec = get_topic_specialization(test_docs, topic_root)\n",
    "    hierarchical_affinities = get_hierarchical_affinities(topic_root)\n",
    "    \n",
    "    clear_output()\n",
    "    time_log = int(time.time() - time_start)\n",
    "    time_start = time.time()\n",
    "    log_series = pd.Series([time_log, epoch, 0, \\\n",
    "            '%.0f'%ppl_train, '%.0f'%ppl_dev, '%.0f'%ppl_test, \\\n",
    "            '%.2f'%depth_spec[1], '%.2f'%depth_spec[2] if 2 in depth_spec else 0, '%.2f'%depth_spec[3] if 3 in depth_spec else 0, \\\n",
    "            '%.2f'%hierarchical_affinities[0], '%.2f'%hierarchical_affinities[1]],\n",
    "            index=log_df.columns)\n",
    "    log_df.loc[epoch] = log_series\n",
    "    display(log_df)\n",
    "    get_freq_tokens_rcrp(topic_root, idx_to_word, bow_idxs)\n",
    "    \n",
    "    cPickle.dump(log_df, open(config.path_log, 'wb'))\n",
    "    epoch += 1"
   ]
  },
  {
   "cell_type": "code",
   "execution_count": null,
   "metadata": {},
   "outputs": [],
   "source": []
  }
 ],
 "metadata": {
  "kernelspec": {
   "display_name": "py36",
   "language": "python",
   "name": "py36"
  },
  "language_info": {
   "codemirror_mode": {
    "name": "ipython",
    "version": 3
   },
   "file_extension": ".py",
   "mimetype": "text/x-python",
   "name": "python",
   "nbconvert_exporter": "python",
   "pygments_lexer": "ipython3",
   "version": "3.6.9"
  },
  "toc": {
   "base_numbering": 1,
   "nav_menu": {},
   "number_sections": true,
   "sideBar": true,
   "skip_h1_title": false,
   "title_cell": "Table of Contents",
   "title_sidebar": "Contents",
   "toc_cell": false,
   "toc_position": {},
   "toc_section_display": true,
   "toc_window_display": false
  }
 },
 "nbformat": 4,
 "nbformat_minor": 2
}
